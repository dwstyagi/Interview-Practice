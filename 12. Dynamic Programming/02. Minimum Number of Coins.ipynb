{
 "cells": [
  {
   "cell_type": "code",
   "execution_count": 1,
   "metadata": {},
   "outputs": [],
   "source": [
    "def minCoins(arr ,n):\n",
    "    i = len(arr) - 1\n",
    "    \n",
    "    while n > 0:\n",
    "        # check minimum note require \n",
    "        # for current sum\n",
    "        if n < arr[i]:\n",
    "            i -= 1\n",
    "            continue\n",
    "        \n",
    "        total = n // arr[i]\n",
    "        while total:\n",
    "            print(arr[i],end=\" \")\n",
    "            total -= 1\n",
    "        \n",
    "        n %= arr[i]"
   ]
  },
  {
   "cell_type": "code",
   "execution_count": 2,
   "metadata": {},
   "outputs": [
    {
     "name": "stdout",
     "output_type": "stream",
     "text": [
      "10 1 "
     ]
    }
   ],
   "source": [
    "arr = [1, 2, 5, 10, 20, 50, 100, 200, 500, 2000]\n",
    "minCoins(arr ,11)"
   ]
  },
  {
   "cell_type": "code",
   "execution_count": 3,
   "metadata": {},
   "outputs": [
    {
     "name": "stdout",
     "output_type": "stream",
     "text": [
      "9 1 1 "
     ]
    }
   ],
   "source": [
    "# Ans: 6 ,5\n",
    "arr = [1 ,5 ,6 ,9]\n",
    "minCoins(arr ,11)"
   ]
  },
  {
   "cell_type": "code",
   "execution_count": 4,
   "metadata": {},
   "outputs": [
    {
     "name": "stdout",
     "output_type": "stream",
     "text": [
      "5 5 1 "
     ]
    }
   ],
   "source": [
    "arr = [1,2,5]\n",
    "minCoins(arr ,11)"
   ]
  },
  {
   "cell_type": "markdown",
   "metadata": {},
   "source": [
    "**This is not gonna work for all the denomination.**<br>\n",
    "for example:<br>\n",
    "```\n",
    "denomination: {9 ,6 ,5 ,1}\n",
    "sum: 11\n",
    "minimum coins: 6 ,5\n",
    "but the output will be 9 ,1 ,1\n",
    "```\n",
    "**This is can be resolve using dynamic programming approach**"
   ]
  },
  {
   "cell_type": "markdown",
   "metadata": {},
   "source": [
    "### Dynamic programming Approach"
   ]
  },
  {
   "cell_type": "markdown",
   "metadata": {},
   "source": [
    "\n",
    "**Top-Down Approach**"
   ]
  },
  {
   "cell_type": "code",
   "execution_count": 5,
   "metadata": {},
   "outputs": [],
   "source": [
    "def minCoins(arr ,value ,dp):\n",
    "    \n",
    "    if value <= 0:\n",
    "        return value\n",
    "    \n",
    "    # if we calc already return it\n",
    "    if dp[value] != 0:\n",
    "        return dp[value]\n",
    "    \n",
    "    # calc the min no of coins\n",
    "    minimum = float('inf')\n",
    "    for i in arr:\n",
    "        res = minCoins(arr ,value-i ,dp)\n",
    "        \n",
    "        if res >= 0 and minimum > res:\n",
    "            minimum = 1 + res\n",
    "    \n",
    "    # stored in our list\n",
    "    dp[value] = -1 if minimum == float('inf') else minimum\n",
    "    return dp[value]"
   ]
  },
  {
   "cell_type": "code",
   "execution_count": 6,
   "metadata": {},
   "outputs": [
    {
     "data": {
      "text/plain": [
       "3"
      ]
     },
     "execution_count": 6,
     "metadata": {},
     "output_type": "execute_result"
    }
   ],
   "source": [
    "coin = 11\n",
    "coins = [0 for _ in range(coin+1)]\n",
    "arr = [1,2,5]\n",
    "minCoins(arr ,coin ,coins)"
   ]
  },
  {
   "cell_type": "code",
   "execution_count": 7,
   "metadata": {},
   "outputs": [
    {
     "data": {
      "text/plain": [
       "2"
      ]
     },
     "execution_count": 7,
     "metadata": {},
     "output_type": "execute_result"
    }
   ],
   "source": [
    "coin = 11\n",
    "coins = [0 for _ in range(coin+1)]\n",
    "arr = [1,5,6,9]\n",
    "minCoins(arr ,coin ,coins)"
   ]
  },
  {
   "cell_type": "markdown",
   "metadata": {},
   "source": [
    "**Bottom up approach**"
   ]
  },
  {
   "cell_type": "code",
   "execution_count": 1,
   "metadata": {},
   "outputs": [],
   "source": [
    "def minCoins(arr ,amt):\n",
    "    \n",
    "    # initalise all with max coins\n",
    "    dp = [amt+1 for _ in range(amt+1)]\n",
    "    dp[0] = 0\n",
    "    \n",
    "    for i in range(amt+1):\n",
    "        for coin in arr:\n",
    "            if i >= coin:\n",
    "                dp[i] = min(dp[i], 1 + dp[i-coin])\n",
    "                \n",
    "    return dp[-1] if dp[-1] != amt+1 else -1"
   ]
  },
  {
   "cell_type": "code",
   "execution_count": 2,
   "metadata": {},
   "outputs": [
    {
     "data": {
      "text/plain": [
       "2"
      ]
     },
     "execution_count": 2,
     "metadata": {},
     "output_type": "execute_result"
    }
   ],
   "source": [
    "arr = [1,5,6,9]\n",
    "amt = 11\n",
    "minCoins(arr ,amt)"
   ]
  },
  {
   "cell_type": "code",
   "execution_count": 26,
   "metadata": {},
   "outputs": [
    {
     "data": {
      "text/plain": [
       "-1"
      ]
     },
     "execution_count": 26,
     "metadata": {},
     "output_type": "execute_result"
    }
   ],
   "source": [
    "arr = [2]\n",
    "amt = 3\n",
    "minCoins(arr ,amt)"
   ]
  },
  {
   "cell_type": "code",
   "execution_count": null,
   "metadata": {},
   "outputs": [],
   "source": []
  }
 ],
 "metadata": {
  "kernelspec": {
   "display_name": "Python 3",
   "language": "python",
   "name": "python3"
  },
  "language_info": {
   "codemirror_mode": {
    "name": "ipython",
    "version": 3
   },
   "file_extension": ".py",
   "mimetype": "text/x-python",
   "name": "python",
   "nbconvert_exporter": "python",
   "pygments_lexer": "ipython3",
   "version": "3.7.6"
  }
 },
 "nbformat": 4,
 "nbformat_minor": 2
}
