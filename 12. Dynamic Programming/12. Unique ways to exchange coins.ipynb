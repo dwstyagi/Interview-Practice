{
 "cells": [
  {
   "cell_type": "markdown",
   "metadata": {},
   "source": [
    "Given a value N, if we want to make change for N cents, and we have infinite supply of each of S = { S1, S2, .. , Sm} valued coins, how many ways can we make the change? The order of coins doesn’t matter.<br>\n",
    "\n",
    "For example, for N = 4 and S = {1,2,3}, there are four solutions:<br> \n",
    ".......{1,1,1,1},<br>\n",
    ".......{1,1,2},<br>\n",
    ".......{2,2},<br>\n",
    ".......{1,3}.<br>\n",
    "So output should be 4. \n",
    "\n",
    "For N = 10 and S = {2, 5, 3, 6}, there are five solutions: <br>\n",
    ".......{2,2,2,2,2}<br> \n",
    ".......{2,2,3,3}<br> \n",
    ".......{2,2,6}<br> \n",
    ".......{2,3,5}<br> \n",
    ".......{5,5}.<br> \n",
    "So the output should be 5."
   ]
  },
  {
   "cell_type": "code",
   "execution_count": 1,
   "metadata": {},
   "outputs": [],
   "source": [
    "def coinChange(s ,n):\n",
    "    \n",
    "    dp = [[0 for _ in range(n+1)] for _ in range(len(s)+1)]\n",
    "    \n",
    "    # Base Case\n",
    "    for i in range(len(s)+1):\n",
    "        dp[i][0] = 1\n",
    "    \n",
    "    for i in range(1 ,len(s)+1):\n",
    "        for j in range(1 ,n+1):\n",
    "            \n",
    "            if j < s[i-1]:\n",
    "                dp[i][j] = dp[i-1][j]\n",
    "            \n",
    "            else:\n",
    "                dp[i][j] = dp[i-1][j] + dp[i][j - s[i-1]]\n",
    "    \n",
    "    \n",
    "    printMatrix(dp)"
   ]
  },
  {
   "cell_type": "code",
   "execution_count": null,
   "metadata": {},
   "outputs": [],
   "source": [
    "def printMatrix(arr):\n",
    "    for i in arr:\n",
    "        for j in i:\n",
    "            print(j)"
   ]
  },
  {
   "cell_type": "code",
   "execution_count": 2,
   "metadata": {},
   "outputs": [
    {
     "data": {
      "text/plain": [
       "[[1, 0, 0, 0, 0, 0],\n",
       " [1, 1, 1, 1, 1, 1],\n",
       " [1, 1, 2, 2, 3, 3],\n",
       " [1, 1, 2, 2, 3, 4]]"
      ]
     },
     "execution_count": 2,
     "metadata": {},
     "output_type": "execute_result"
    }
   ],
   "source": [
    "S = [1,2,5]\n",
    "n = 5\n",
    "coinChange(S ,n)"
   ]
  },
  {
   "cell_type": "code",
   "execution_count": 14,
   "metadata": {},
   "outputs": [
    {
     "data": {
      "text/plain": [
       "[[1, 0, 0, 0, 0], [1, 1, 1, 1, 1], [1, 1, 2, 2, 3], [1, 1, 2, 3, 4]]"
      ]
     },
     "execution_count": 14,
     "metadata": {},
     "output_type": "execute_result"
    }
   ],
   "source": [
    "S = [1,2,3]\n",
    "n = 4\n",
    "coinChange(S ,n)"
   ]
  },
  {
   "cell_type": "code",
   "execution_count": 15,
   "metadata": {},
   "outputs": [
    {
     "data": {
      "text/plain": [
       "[[1, 0, 0, 0, 0, 0, 0, 0, 0, 0, 0],\n",
       " [1, 0, 1, 0, 1, 0, 1, 0, 1, 0, 1],\n",
       " [1, 0, 1, 0, 1, 1, 1, 1, 1, 1, 2],\n",
       " [1, 0, 1, 1, 1, 2, 2, 2, 3, 3, 4],\n",
       " [1, 0, 1, 1, 1, 2, 3, 2, 4, 4, 5]]"
      ]
     },
     "execution_count": 15,
     "metadata": {},
     "output_type": "execute_result"
    }
   ],
   "source": [
    "S = [2,5,3,6]\n",
    "n = 10\n",
    "coinChange(S ,n)"
   ]
  },
  {
   "cell_type": "code",
   "execution_count": null,
   "metadata": {},
   "outputs": [],
   "source": []
  }
 ],
 "metadata": {
  "kernelspec": {
   "display_name": "Python 3",
   "language": "python",
   "name": "python3"
  },
  "language_info": {
   "codemirror_mode": {
    "name": "ipython",
    "version": 3
   },
   "file_extension": ".py",
   "mimetype": "text/x-python",
   "name": "python",
   "nbconvert_exporter": "python",
   "pygments_lexer": "ipython3",
   "version": "3.7.6"
  }
 },
 "nbformat": 4,
 "nbformat_minor": 2
}
