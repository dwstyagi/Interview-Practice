{
 "cells": [
  {
   "cell_type": "markdown",
   "metadata": {},
   "source": [
    "**Problem statement**: Consider a row of n coins of values v1 . . . vn, where n is even. We play a game against an opponent by alternating turns. In each turn, a player selects either the first or last coin from the row, removes it from the row permanently, and receives the value of the coin. Determine the maximum possible amount of money we can definitely win if we move first.<br>\n",
    "Note: The opponent is as clever as the user.<br>\n",
    "\n",
    "```\n",
    "1. 5, 3, 7, 10 : The user collects maximum value as 15(10 + 5)\n",
    "2. 8, 15, 3, 7 : The user collects maximum value as 22(7 + 15)\n",
    "Does choosing the best at each move give an optimal solution?\n",
    "No. In the second example, this is how the game can finish:\n",
    "1.\n",
    "…….User chooses 8.\n",
    "…….Opponent chooses 15.\n",
    "…….User chooses 7.\n",
    "…….Opponent chooses 3.\n",
    "Total value collected by user is 15(8 + 7)\n",
    "2.\n",
    "…….User chooses 7.\n",
    "…….Opponent chooses 8.\n",
    "…….User chooses 15.\n",
    "…….Opponent chooses 3.\n",
    "Total value collected by user is 22(7 + 15)\n",
    "So if the user follows the second game state, maximum value can be collected although the \n",
    "first move is not the best\n",
    "```"
   ]
  },
  {
   "cell_type": "code",
   "execution_count": 6,
   "metadata": {},
   "outputs": [],
   "source": [
    "def optimalStrategy(arr):\n",
    "    n = len(arr)\n",
    "    \n",
    "    # 1st for the user\n",
    "    # 2nd for the opponent\n",
    "    dp = [[[0,0] for _ in range(n)] for _ in range(n)]\n",
    "    \n",
    "    # for only 1 Card\n",
    "    # User get to win\n",
    "    for i in range(n):\n",
    "        dp[i][i][0] = arr[i]\n",
    "    \n",
    "    for l in range(2,n+1):\n",
    "        for i in range(0,n-l+1):\n",
    "            j = i+l-1\n",
    "            \n",
    "            if arr[i] + dp[i+1][j][1] >= arr[j] + dp[i][j-1][1]:\n",
    "                dp[i][j][0] = arr[i] + dp[i+1][j][1]\n",
    "                dp[i][j][1] = dp[i+1][j][0]\n",
    "            \n",
    "            else:\n",
    "                dp[i][j][0] = arr[j] + dp[i][j-1][1]\n",
    "                dp[i][j][1] = dp[i][j-1][0]\n",
    "        \n",
    "    \n",
    "    return dp"
   ]
  },
  {
   "cell_type": "code",
   "execution_count": 7,
   "metadata": {},
   "outputs": [
    {
     "output_type": "execute_result",
     "data": {
      "text/plain": [
       "[[[3, 0], [9, 3], [4, 9], [11, 4]],\n",
       " [[0, 0], [9, 0], [9, 1], [10, 2]],\n",
       " [[0, 0], [0, 0], [1, 0], [2, 1]],\n",
       " [[0, 0], [0, 0], [0, 0], [2, 0]]]"
      ]
     },
     "metadata": {},
     "execution_count": 7
    }
   ],
   "source": [
    "arr = [3,9,1,2]\n",
    "optimalStrategy(arr)"
   ]
  },
  {
   "cell_type": "code",
   "execution_count": 8,
   "metadata": {},
   "outputs": [
    {
     "output_type": "execute_result",
     "data": {
      "text/plain": [
       "[[[5, 0], [5, 3], [10, 5], [15, 10]],\n",
       " [[0, 0], [3, 0], [7, 3], [13, 7]],\n",
       " [[0, 0], [0, 0], [7, 0], [10, 7]],\n",
       " [[0, 0], [0, 0], [0, 0], [10, 0]]]"
      ]
     },
     "metadata": {},
     "execution_count": 8
    }
   ],
   "source": [
    "arr = [5, 3, 7, 10]\n",
    "optimalStrategy(arr)"
   ]
  },
  {
   "cell_type": "code",
   "execution_count": 9,
   "metadata": {},
   "outputs": [
    {
     "output_type": "execute_result",
     "data": {
      "text/plain": [
       "[[[8, 0], [15, 8], [11, 15], [22, 11]],\n",
       " [[0, 0], [15, 0], [15, 3], [18, 7]],\n",
       " [[0, 0], [0, 0], [3, 0], [7, 3]],\n",
       " [[0, 0], [0, 0], [0, 0], [7, 0]]]"
      ]
     },
     "metadata": {},
     "execution_count": 9
    }
   ],
   "source": [
    "arr = [8, 15, 3, 7]\n",
    "optimalStrategy(arr)"
   ]
  },
  {
   "cell_type": "code",
   "execution_count": 10,
   "metadata": {},
   "outputs": [
    {
     "output_type": "execute_result",
     "data": {
      "text/plain": [
       "[[[4, 0], [4, 2], [8, 4], [10, 7], [11, 7], [11, 10]],\n",
       " [[0, 0], [2, 0], [6, 2], [7, 6], [7, 7], [10, 7]],\n",
       " [[0, 0], [0, 0], [6, 0], [6, 5], [7, 5], [9, 6]],\n",
       " [[0, 0], [0, 0], [0, 0], [5, 0], [5, 1], [6, 3]],\n",
       " [[0, 0], [0, 0], [0, 0], [0, 0], [1, 0], [3, 1]],\n",
       " [[0, 0], [0, 0], [0, 0], [0, 0], [0, 0], [3, 0]]]"
      ]
     },
     "metadata": {},
     "execution_count": 10
    }
   ],
   "source": [
    "arr = [4,2,6,5,1,3]\n",
    "optimalStrategy(arr)"
   ]
  },
  {
   "cell_type": "code",
   "execution_count": 10,
   "metadata": {},
   "outputs": [],
   "source": [
    " "
   ]
  }
 ],
 "metadata": {
  "kernelspec": {
   "name": "python3",
   "display_name": "Python 3.9.5 64-bit"
  },
  "language_info": {
   "codemirror_mode": {
    "name": "ipython",
    "version": 3
   },
   "file_extension": ".py",
   "mimetype": "text/x-python",
   "name": "python",
   "nbconvert_exporter": "python",
   "pygments_lexer": "ipython3",
   "version": "3.9.5"
  },
  "interpreter": {
   "hash": "63fd5069d213b44bf678585dea6b12cceca9941eaf7f819626cde1f2670de90d"
  }
 },
 "nbformat": 4,
 "nbformat_minor": 2
}