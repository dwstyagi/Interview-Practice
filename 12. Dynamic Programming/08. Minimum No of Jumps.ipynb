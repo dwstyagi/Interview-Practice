{
 "cells": [
  {
   "cell_type": "markdown",
   "metadata": {},
   "source": [
    "**Use Tushar Roy Video for revision**<br>\n",
    "[click](https://www.youtube.com/watch?v=cETfFsSTGJI)"
   ]
  },
  {
   "cell_type": "markdown",
   "metadata": {},
   "source": [
    "Given an array of integers where each element represents the max number of steps that can be made forward from that element. Write a function to return the minimum number of jumps to reach the end of the array (starting from the first element)\n",
    "\n",
    "```\n",
    "Input :  arr[] = {1, 3, 5, 8, 9, 2, 6, 7, 6, 8, 9}\n",
    "Output :  3 (1-> 3 -> 8 -> 9)\n",
    "```\n",
    "\n",
    "First element is 1, so can only go to 3. Second element is 3, so can make at most 3 steps eg to 5 or 8 or 9."
   ]
  },
  {
   "cell_type": "code",
   "execution_count": 6,
   "metadata": {},
   "outputs": [],
   "source": [
    "def minJumps(arr):\n",
    "    n = len(arr)\n",
    "    dp = [float('inf') for _ in range(n)]\n",
    "    actual_jumps = [i for i in range(n)]\n",
    "    \n",
    "    dp[0] = 0\n",
    "    \n",
    "    for j in range(1, n):\n",
    "        \n",
    "        for i in range(0, j):\n",
    "            if j <= i+arr[i] and dp[j] > dp[i] + 1:\n",
    "                dp[j] = dp[i] + 1\n",
    "                actual_jumps[j] = i\n",
    "    \n",
    "    print(dp[-1])\n",
    "    printJumps(arr, actual_jumps, n-1)"
   ]
  },
  {
   "cell_type": "code",
   "execution_count": 11,
   "metadata": {},
   "outputs": [],
   "source": [
    "def printJumps(arr, jumps, index):\n",
    "    if jumps[index] == index:\n",
    "        print(arr[index],end=\" -> \")\n",
    "        return\n",
    "    printJumps(arr, jumps, jumps[index])\n",
    "    print(arr[index],end=\" -> \")"
   ]
  },
  {
   "cell_type": "code",
   "execution_count": 12,
   "metadata": {},
   "outputs": [
    {
     "name": "stdout",
     "output_type": "stream",
     "text": [
      "4\n",
      "2 -> 3 -> 2 -> 4 -> 1 -> "
     ]
    }
   ],
   "source": [
    "arr = [2,3,1,1,2,4,2,0,1,1]\n",
    "minJumps(arr)"
   ]
  },
  {
   "cell_type": "code",
   "execution_count": 13,
   "metadata": {},
   "outputs": [
    {
     "name": "stdout",
     "output_type": "stream",
     "text": [
      "3\n",
      "1 -> 3 -> 8 -> 9 -> "
     ]
    }
   ],
   "source": [
    "arr = [1, 3, 5, 8, 9, 2, 6, 7, 6, 8, 9]\n",
    "minJumps(arr)"
   ]
  },
  {
   "cell_type": "code",
   "execution_count": null,
   "metadata": {},
   "outputs": [],
   "source": []
  }
 ],
 "metadata": {
  "kernelspec": {
   "display_name": "Python 3",
   "language": "python",
   "name": "python3"
  },
  "language_info": {
   "codemirror_mode": {
    "name": "ipython",
    "version": 3
   },
   "file_extension": ".py",
   "mimetype": "text/x-python",
   "name": "python",
   "nbconvert_exporter": "python",
   "pygments_lexer": "ipython3",
   "version": "3.7.6"
  }
 },
 "nbformat": 4,
 "nbformat_minor": 2
}
