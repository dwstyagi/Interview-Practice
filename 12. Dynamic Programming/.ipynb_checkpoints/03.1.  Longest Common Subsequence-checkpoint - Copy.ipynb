{
 "cells": [
  {
   "cell_type": "markdown",
   "metadata": {},
   "source": [
    "**LCS Problem Statement:** Given two sequences, find the length of longest subsequence present in both of them. A subsequence is a sequence that appears in the same relative order, but not necessarily contiguous.<br>\n",
    "\n",
    "```\n",
    "For example, “abc”, “abg”, “bdf”, “aeg”, ‘”acefg”, .. etc are subsequences of “abcdefg”. \n",
    "LCS for input Sequences “ABCDGH” and “AEDFHR” is “ADH” of length 3.\n",
    "LCS for input Sequences “AGGTAB” and “GXTXAYB” is “GTAB” of length 4.\n",
    "```"
   ]
  },
  {
   "cell_type": "code",
   "execution_count": 1,
   "metadata": {},
   "outputs": [],
   "source": [
    "def lcs(s1 ,s2):\n",
    "    m = len(s1)\n",
    "    n = len(s2)\n",
    "    \n",
    "    LCS = [[-1 for _ in range(n+1)] for _ in range(m+1)]\n",
    "    \n",
    "    for i in range(m+1):\n",
    "        for j in range(n+1):\n",
    "            \n",
    "            # base case\n",
    "            if i == 0 or j == 0:\n",
    "                LCS[i][j] = 0\n",
    "            \n",
    "            elif s1[i-1] == s2[j-1]:\n",
    "                LCS[i][j] = 1 + LCS[i-1][j-1]\n",
    "            \n",
    "            else:\n",
    "                LCS[i][j] = max(LCS[i-1][j] ,LCS[i][j-1])\n",
    "    \n",
    "    return lcsSubsequence(s1 ,s2 ,LCS)"
   ]
  },
  {
   "cell_type": "markdown",
   "metadata": {},
   "source": [
    "**Printing Longest Common Subsequence:**<br>\n",
    "Following is detailed algorithm to print the LCS. It uses the same 2D table L[][].<br>\n",
    "1) Construct L[m+1][n+1] using the steps discussed in previous post.<br>\n",
    "2) The value L[m][n] contains length of LCS. Create a character array lcs[] of length equal to the length of lcs plus 1 (one extra to store \\0).<br>\n",
    "3) Traverse the 2D array starting from L[m][n]. Do following for every cell L[i][j]:<br>\n",
    "…..a) If characters (in X and Y) corresponding to L[i][j] are same (Or X[i-1] == Y[j-1]), then include this character as part of LCS.<br>\n",
    "…..b) Else compare values of L[i-1][j] and L[i][j-1] and go in direction of greater value."
   ]
  },
  {
   "cell_type": "code",
   "execution_count": 2,
   "metadata": {},
   "outputs": [],
   "source": [
    "def lcsSubsequence(s1 ,s2 ,LCS):\n",
    "    \n",
    "    index = LCS[len(s1)][len(s2)]\n",
    "    \n",
    "    string = [''] * index\n",
    "    i = len(s1)\n",
    "    j = len(s2)\n",
    "    \n",
    "    while i > 0 and j > 0:\n",
    "        \n",
    "        if s1[i-1] == s2[j-1]:\n",
    "            string[index-1] = s1[i-1]\n",
    "            i -= 1\n",
    "            j -= 1\n",
    "            index -= 1\n",
    "        \n",
    "        elif LCS[i-1][j] > LCS[i][j-1]:\n",
    "            i -= 1\n",
    "        \n",
    "        else:\n",
    "            j -= 1\n",
    "    \n",
    "    print(''.join(string),LCS[len(s1)][len(s2)])"
   ]
  },
  {
   "cell_type": "code",
   "execution_count": 3,
   "metadata": {},
   "outputs": [
    {
     "name": "stdout",
     "output_type": "stream",
     "text": [
      "AB 2\n"
     ]
    }
   ],
   "source": [
    "s1 ,s2 = \"ABC\" ,\"ADB\"\n",
    "lcs(s1,s2)"
   ]
  },
  {
   "cell_type": "code",
   "execution_count": 4,
   "metadata": {},
   "outputs": [
    {
     "name": "stdout",
     "output_type": "stream",
     "text": [
      "GTAB 4\n"
     ]
    }
   ],
   "source": [
    "s1 ,s2 = \"GXTXAYB\" ,\"AGGTAB\"\n",
    "lcs(s1,s2)"
   ]
  },
  {
   "cell_type": "code",
   "execution_count": null,
   "metadata": {},
   "outputs": [],
   "source": []
  }
 ],
 "metadata": {
  "kernelspec": {
   "display_name": "Python 3",
   "language": "python",
   "name": "python3"
  },
  "language_info": {
   "codemirror_mode": {
    "name": "ipython",
    "version": 3
   },
   "file_extension": ".py",
   "mimetype": "text/x-python",
   "name": "python",
   "nbconvert_exporter": "python",
   "pygments_lexer": "ipython3",
   "version": "3.7.3"
  }
 },
 "nbformat": 4,
 "nbformat_minor": 2
}
