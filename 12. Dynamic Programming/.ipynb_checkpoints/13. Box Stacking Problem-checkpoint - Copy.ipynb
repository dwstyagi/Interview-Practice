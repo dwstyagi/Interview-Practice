{
 "cells": [
  {
   "cell_type": "markdown",
   "metadata": {},
   "source": [
    "Following are the key points to note in the problem statement:<br>\n",
    "..1) A box can be placed on top of another box only if both width and depth of the upper placed box<br> ......are smaller than width and depth of the lower box respectively.<br>\n",
    "..2) We can rotate boxes such that width is smaller than depth. For example, if there is a box with<br> ......dimensions {1x2x3} where 1 is height, 2×3 is base, then there can be three possibilities,<br>.......{1x2x3}, {2x1x3} and {3x1x2}<br>\n",
    "..3) We can use multiple instances of boxes. What it means is, we can have two different rotations of<br> ......a box as part of our maximum height stack.<br>"
   ]
  },
  {
   "cell_type": "markdown",
   "metadata": {},
   "source": [
    "<img src=\"https://media.geeksforgeeks.org/wp-content/uploads/boxstacking.png\" width=\"200\" height=\"50\">"
   ]
  },
  {
   "cell_type": "markdown",
   "metadata": {},
   "source": [
    "### Algorithm\n",
    "1) Generate all 3 rotations of all boxes. The size of rotation array becomes 3 times the size of original array. For simplicity, we ....consider depth as always smaller than or equal to width.<br> \n",
    "2) Sort the above generated 3n boxes in decreasing order of base area.<br>\n",
    "3) After sorting the boxes, the problem is same as LIS with following optimal substructure property.<br>\n",
    "....MSH(i) = Maximum possible Stack Height with box i at top of stack<br>\n",
    "....MSH(i) = { Max ( MSH(j) ) + height(i) } where j < i and width(j) > width(i) and depth(j) > depth(i).If there is no such j then ....MSH(i) = height(i)<br>\n",
    "4) To get overall maximum height, we return max(MSH(i))"
   ]
  },
  {
   "cell_type": "code",
   "execution_count": 39,
   "metadata": {},
   "outputs": [],
   "source": [
    "def maxHeight(arr):\n",
    "    \n",
    "    # Dimension:\n",
    "    # Length,Breadth & Height    \n",
    "    rot = [[0,0,0] for _ in range(len(arr)*3)]\n",
    "    index = 0\n",
    "    n = len(arr)\n",
    "    \n",
    "    # Store all rotation of Boxes of array\n",
    "    for i in arr:\n",
    "        \n",
    "        # Normal Box dim\n",
    "        rot[index][2] = i[2]\n",
    "        rot[index][1] = max(i[1] ,i[0])\n",
    "        rot[index][0] = min(i[1] ,i[0])\n",
    "        index += 1\n",
    "        \n",
    "        # 1st Rotation\n",
    "        rot[index][2] = i[1]\n",
    "        rot[index][1] = max(i[2] ,i[0])\n",
    "        rot[index][0] = min(i[2] ,i[0])\n",
    "        index += 1\n",
    "        \n",
    "        # 2nd Rotation\n",
    "        rot[index][2] = i[0]\n",
    "        rot[index][1] = max(i[2] ,i[1])\n",
    "        rot[index][0] = min(i[2] ,i[1])\n",
    "        index += 1\n",
    "    \n",
    "    # Total Boxes is 3 times than the original\n",
    "    n *= 3\n",
    "    \n",
    "    # sort them according to the base area\n",
    "    rot.sort(reverse=True)\n",
    "    \n",
    "    # initialise the array\n",
    "    dp = [i[2] for i in rot]\n",
    "    result = [i for i in range(n)]\n",
    "    \n",
    "    # compute the max height\n",
    "    # in bottom up manner\n",
    "    \n",
    "    for j in range(1 ,n):\n",
    "        for i in range(0,j):\n",
    "            \n",
    "            # Check for jth box can \n",
    "            # sit on Top of ith box\n",
    "            # using Base Area L*B\n",
    "            if rot[i][0] > rot[j][0] and rot[i][1] > rot[j][1]: \n",
    "                dp[j] = max(dp[j] ,rot[j][2]+dp[i])\n",
    "                result[j] = i\n",
    "    \n",
    "    #return max(dp)\n",
    "    return printBox(rot ,dp ,result)\n",
    "            "
   ]
  },
  {
   "cell_type": "code",
   "execution_count": 45,
   "metadata": {},
   "outputs": [],
   "source": [
    "def printBox(rot ,dp ,result):\n",
    "    \n",
    "    max = float('-inf')\n",
    "    \n",
    "    # get the max index\n",
    "    # where max height is stored\n",
    "    for i in range(len(dp)):\n",
    "        if dp[i] > max:\n",
    "            index = i\n",
    "            max = dp[i]\n",
    "    \n",
    "    box = []\n",
    "    while True:\n",
    "        box.append(rot[index])\n",
    "        index = result[index]\n",
    "        \n",
    "        if index == result[index]:\n",
    "            box.append(rot[index])\n",
    "            break\n",
    "    \n",
    "    for i in box:\n",
    "        print(i)\n",
    "    \n",
    "    return max\n",
    "            \n",
    "    "
   ]
  },
  {
   "cell_type": "code",
   "execution_count": 46,
   "metadata": {},
   "outputs": [
    {
     "name": "stdout",
     "output_type": "stream",
     "text": [
      "[1, 2, 4]\n",
      "[2, 3, 5]\n",
      "[3, 5, 2]\n"
     ]
    },
    {
     "data": {
      "text/plain": [
       "11"
      ]
     },
     "execution_count": 46,
     "metadata": {},
     "output_type": "execute_result"
    }
   ],
   "source": [
    "arr = [[1,2,4],[3,2,5]]\n",
    "maxHeight(arr)"
   ]
  },
  {
   "cell_type": "code",
   "execution_count": 47,
   "metadata": {},
   "outputs": [
    {
     "name": "stdout",
     "output_type": "stream",
     "text": [
      "[1, 2, 3]\n",
      "[2, 3, 1]\n",
      "[4, 5, 6]\n",
      "[5, 6, 4]\n",
      "[6, 7, 4]\n",
      "[10, 12, 32]\n",
      "[12, 32, 10]\n"
     ]
    },
    {
     "data": {
      "text/plain": [
       "60"
      ]
     },
     "execution_count": 47,
     "metadata": {},
     "output_type": "execute_result"
    }
   ],
   "source": [
    "arr = [[4, 6, 7], [1,2,3], [4, 5, 6], [10,12,32]] \n",
    "maxHeight(arr)"
   ]
  },
  {
   "cell_type": "code",
   "execution_count": null,
   "metadata": {},
   "outputs": [],
   "source": []
  }
 ],
 "metadata": {
  "kernelspec": {
   "display_name": "Python 3",
   "language": "python",
   "name": "python3"
  },
  "language_info": {
   "codemirror_mode": {
    "name": "ipython",
    "version": 3
   },
   "file_extension": ".py",
   "mimetype": "text/x-python",
   "name": "python",
   "nbconvert_exporter": "python",
   "pygments_lexer": "ipython3",
   "version": "3.7.3"
  }
 },
 "nbformat": 4,
 "nbformat_minor": 2
}
