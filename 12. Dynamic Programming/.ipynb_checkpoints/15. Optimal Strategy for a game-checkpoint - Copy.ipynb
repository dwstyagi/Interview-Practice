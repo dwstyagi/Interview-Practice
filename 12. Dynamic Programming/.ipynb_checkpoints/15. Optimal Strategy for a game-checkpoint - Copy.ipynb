{
 "cells": [
  {
   "cell_type": "markdown",
   "metadata": {},
   "source": [
    "**Problem statement**: Consider a row of n coins of values v1 . . . vn, where n is even. We play a game against an opponent by alternating turns. In each turn, a player selects either the first or last coin from the row, removes it from the row permanently, and receives the value of the coin. Determine the maximum possible amount of money we can definitely win if we move first.<br>\n",
    "Note: The opponent is as clever as the user.<br>\n",
    "\n",
    "```\n",
    "1. 5, 3, 7, 10 : The user collects maximum value as 15(10 + 5)\n",
    "2. 8, 15, 3, 7 : The user collects maximum value as 22(7 + 15)\n",
    "Does choosing the best at each move give an optimal solution?\n",
    "No. In the second example, this is how the game can finish:\n",
    "1.\n",
    "…….User chooses 8.\n",
    "…….Opponent chooses 15.\n",
    "…….User chooses 7.\n",
    "…….Opponent chooses 3.\n",
    "Total value collected by user is 15(8 + 7)\n",
    "2.\n",
    "…….User chooses 7.\n",
    "…….Opponent chooses 8.\n",
    "…….User chooses 15.\n",
    "…….Opponent chooses 3.\n",
    "Total value collected by user is 22(7 + 15)\n",
    "So if the user follows the second game state, maximum value can be collected although the \n",
    "first move is not the best\n",
    "```"
   ]
  },
  {
   "cell_type": "code",
   "execution_count": 43,
   "metadata": {},
   "outputs": [],
   "source": [
    "def optimalStrategy(arr):\n",
    "    n = len(arr)\n",
    "    \n",
    "    # 1st for the user\n",
    "    # 2nd for the opponent\n",
    "    dp = [[[0,0] for _ in range(n)] for _ in range(n)]\n",
    "    \n",
    "    # for only 1 Card\n",
    "    # User get to win\n",
    "    for i in range(n):\n",
    "        dp[i][i][0] = arr[i]\n",
    "    \n",
    "    for l in range(2,n+1):\n",
    "        for i in range(0,n-l+1):\n",
    "            j = i+l-1\n",
    "            \n",
    "            if arr[i] + dp[i+1][j][1] >= arr[j] + dp[i][j-1][1]:\n",
    "                dp[i][j][0] = arr[i] + dp[i+1][j][1]\n",
    "                dp[i][j][1] = dp[i+1][j][0]\n",
    "            \n",
    "            else:\n",
    "                dp[i][j][0] = arr[j] + dp[i][j-1][1]\n",
    "                dp[i][j][1] = dp[i][j-1][0]\n",
    "        \n",
    "    \n",
    "    return dp[0][n-1]"
   ]
  },
  {
   "cell_type": "code",
   "execution_count": 44,
   "metadata": {},
   "outputs": [
    {
     "data": {
      "text/plain": [
       "[11, 4]"
      ]
     },
     "execution_count": 44,
     "metadata": {},
     "output_type": "execute_result"
    }
   ],
   "source": [
    "arr = [3,9,1,2]\n",
    "optimalStrategy(arr)"
   ]
  },
  {
   "cell_type": "code",
   "execution_count": 45,
   "metadata": {},
   "outputs": [
    {
     "data": {
      "text/plain": [
       "[15, 10]"
      ]
     },
     "execution_count": 45,
     "metadata": {},
     "output_type": "execute_result"
    }
   ],
   "source": [
    "arr = [5, 3, 7, 10]\n",
    "optimalStrategy(arr)"
   ]
  },
  {
   "cell_type": "code",
   "execution_count": 46,
   "metadata": {},
   "outputs": [
    {
     "data": {
      "text/plain": [
       "[22, 11]"
      ]
     },
     "execution_count": 46,
     "metadata": {},
     "output_type": "execute_result"
    }
   ],
   "source": [
    "arr = [8, 15, 3, 7]\n",
    "optimalStrategy(arr)"
   ]
  },
  {
   "cell_type": "code",
   "execution_count": 47,
   "metadata": {},
   "outputs": [
    {
     "data": {
      "text/plain": [
       "[11, 10]"
      ]
     },
     "execution_count": 47,
     "metadata": {},
     "output_type": "execute_result"
    }
   ],
   "source": [
    "arr = [4,2,6,5,1,3]\n",
    "optimalStrategy(arr)"
   ]
  },
  {
   "cell_type": "code",
   "execution_count": 23,
   "metadata": {},
   "outputs": [
    {
     "name": "stdout",
     "output_type": "stream",
     "text": [
      "( 1 2 )\n",
      "( 2 3 )\n",
      "( 1 3 )\n"
     ]
    }
   ],
   "source": [
    "n = 4\n",
    "for l in range(2,):\n",
    "    for i in range(1,n-l+1):\n",
    "        j = i+l-1\n",
    "        print('(',i,j,')')"
   ]
  }
 ],
 "metadata": {
  "kernelspec": {
   "display_name": "Python 3",
   "language": "python",
   "name": "python3"
  },
  "language_info": {
   "codemirror_mode": {
    "name": "ipython",
    "version": 3
   },
   "file_extension": ".py",
   "mimetype": "text/x-python",
   "name": "python",
   "nbconvert_exporter": "python",
   "pygments_lexer": "ipython3",
   "version": "3.7.3"
  }
 },
 "nbformat": 4,
 "nbformat_minor": 2
}
