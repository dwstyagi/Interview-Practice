{
 "cells": [
  {
   "cell_type": "markdown",
   "metadata": {},
   "source": [
    "find the sum of maximum sum subsequence of the given array such that the integers in the subsequence are sorted in increasing order."
   ]
  },
  {
   "cell_type": "markdown",
   "metadata": {},
   "source": [
    "```\n",
    "Input: {1, 101, 2, 3, 100, 4, 5}\n",
    "output: 106 (1 + 2 + 3 + 100)\n",
    "\n",
    "Input: {3, 4, 5, 10}, \n",
    "Output: 22 (3 + 4 + 5 + 10) \n",
    "\n",
    "Input: {10, 5, 4, 3}, \n",
    "Output: 10 (10)\n",
    "```"
   ]
  },
  {
   "cell_type": "code",
   "execution_count": 39,
   "metadata": {},
   "outputs": [],
   "source": [
    "def MSIS(arr):\n",
    "    n = len(arr)\n",
    "    dp = [arr[i] for i in range(n)]\n",
    "    \n",
    "    for j in range(1 ,n):\n",
    "        \n",
    "        for i in range(0,j):\n",
    "            if arr[i] < arr[j] and dp[j] < dp[i] + arr[j]:\n",
    "                dp[j] = dp[i] + arr[j]\n",
    "    \n",
    "    return max(dp)\n",
    "        "
   ]
  },
  {
   "cell_type": "code",
   "execution_count": 40,
   "metadata": {},
   "outputs": [
    {
     "data": {
      "text/plain": [
       "12"
      ]
     },
     "execution_count": 40,
     "metadata": {},
     "output_type": "execute_result"
    }
   ],
   "source": [
    "arr = [-1,3,4,5,2,2,2,2]\n",
    "MSIS(arr)"
   ]
  },
  {
   "cell_type": "code",
   "execution_count": 41,
   "metadata": {},
   "outputs": [
    {
     "data": {
      "text/plain": [
       "106"
      ]
     },
     "execution_count": 41,
     "metadata": {},
     "output_type": "execute_result"
    }
   ],
   "source": [
    "arr = [1, 101, 2, 3, 100, 4, 5]\n",
    "MSIS(arr)"
   ]
  },
  {
   "cell_type": "code",
   "execution_count": 42,
   "metadata": {},
   "outputs": [
    {
     "data": {
      "text/plain": [
       "22"
      ]
     },
     "execution_count": 42,
     "metadata": {},
     "output_type": "execute_result"
    }
   ],
   "source": [
    "arr = [3, 4, 5, 10]\n",
    "MSIS(arr)"
   ]
  },
  {
   "cell_type": "code",
   "execution_count": 43,
   "metadata": {},
   "outputs": [
    {
     "data": {
      "text/plain": [
       "10"
      ]
     },
     "execution_count": 43,
     "metadata": {},
     "output_type": "execute_result"
    }
   ],
   "source": [
    "arr = [10, 5, 4, 3]\n",
    "MSIS(arr)"
   ]
  },
  {
   "cell_type": "code",
   "execution_count": null,
   "metadata": {},
   "outputs": [],
   "source": []
  }
 ],
 "metadata": {
  "kernelspec": {
   "display_name": "Python 3",
   "language": "python",
   "name": "python3"
  },
  "language_info": {
   "codemirror_mode": {
    "name": "ipython",
    "version": 3
   },
   "file_extension": ".py",
   "mimetype": "text/x-python",
   "name": "python",
   "nbconvert_exporter": "python",
   "pygments_lexer": "ipython3",
   "version": "3.7.3"
  }
 },
 "nbformat": 4,
 "nbformat_minor": 2
}
