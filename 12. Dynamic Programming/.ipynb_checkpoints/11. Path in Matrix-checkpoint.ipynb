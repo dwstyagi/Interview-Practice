{
 "cells": [
  {
   "cell_type": "markdown",
   "metadata": {},
   "source": [
    "Given a N X N  matrix Matrix[N][N] of positive integers.  There are only three possible moves from a cell Matrix[r][c].<br>\n",
    "1. Matrix[r+1][c].<br>\n",
    "2. Matrix[r+1][c-1]<br>\n",
    "3. Matrix[r+1][c+1]<br>\n",
    "\n",
    "Starting from any column in row 0, return the largest sum of any of the paths up to row N-1."
   ]
  },
  {
   "cell_type": "code",
   "execution_count": 19,
   "metadata": {},
   "outputs": [],
   "source": [
    "def pathMatrix(matrix ,n):\n",
    "    \n",
    "    dp = [[0 for _ in range(n+2)] for _ in range(n+1)]\n",
    "    \n",
    "    for i in range(1,n+1):\n",
    "        for j in range(1,n+1):\n",
    "            \n",
    "            dp[i][j] = matrix[i-1][j-1] + max(dp[i-1][j-1] ,dp[i-1][j], dp[i-1][j+1])\n",
    "    \n",
    "    return max(dp[n])"
   ]
  },
  {
   "cell_type": "code",
   "execution_count": 20,
   "metadata": {},
   "outputs": [
    {
     "data": {
      "text/plain": [
       "1009"
      ]
     },
     "execution_count": 20,
     "metadata": {},
     "output_type": "execute_result"
    }
   ],
   "source": [
    "#Ans. 1009\n",
    "mat = [[348,391],\n",
    "       [618,193]]\n",
    "pathMatrix(mat ,len(mat))"
   ]
  },
  {
   "cell_type": "code",
   "execution_count": null,
   "metadata": {},
   "outputs": [],
   "source": []
  }
 ],
 "metadata": {
  "kernelspec": {
   "display_name": "Python 3",
   "language": "python",
   "name": "python3"
  },
  "language_info": {
   "codemirror_mode": {
    "name": "ipython",
    "version": 3
   },
   "file_extension": ".py",
   "mimetype": "text/x-python",
   "name": "python",
   "nbconvert_exporter": "python",
   "pygments_lexer": "ipython3",
   "version": "3.7.6"
  }
 },
 "nbformat": 4,
 "nbformat_minor": 2
}
