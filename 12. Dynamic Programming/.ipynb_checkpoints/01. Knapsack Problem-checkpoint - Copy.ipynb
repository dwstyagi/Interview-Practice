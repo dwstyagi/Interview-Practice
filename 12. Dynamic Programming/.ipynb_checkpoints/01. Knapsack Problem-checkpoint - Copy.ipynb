{
 "cells": [
  {
   "cell_type": "markdown",
   "metadata": {},
   "source": [
    "### Greedy Approach\n",
    "**fractional Knapsack**"
   ]
  },
  {
   "cell_type": "markdown",
   "metadata": {},
   "source": [
    "```\n",
    "Input:\n",
    "  Items as (value, weight) pairs\n",
    "  arr[] = {{60, 10}, {100, 20}, {120, 30}}\n",
    "  Knapsack Capacity, W = 50;\n",
    "Output:\n",
    "  Maximum possible value = 240\n",
    "  By taking full items of 10 kg, 20 kg and \n",
    "  2/3rd of last item of 30 kg\n",
    "```"
   ]
  },
  {
   "cell_type": "markdown",
   "metadata": {},
   "source": [
    "**Greedy Algorithms**\n",
    "<ul>\n",
    "    <li>Calculate the ratio (value/weight) for each item.</li>\n",
    "    <li>Sort the item based on that ratio.</li>\n",
    "    <li>Take the item with the highest ratio and add them until we can't.<br>add the next item as whole</li>\n",
    "    <li>At the end add the next item as much(fraction) as we can.</li>\n",
    "</ul>"
   ]
  },
  {
   "cell_type": "code",
   "execution_count": 16,
   "metadata": {},
   "outputs": [],
   "source": [
    "def knapsack(value ,weight , capacity):\n",
    "    \n",
    "    v_w = [x for x in zip(value ,weight)]\n",
    "    \n",
    "    # calculate p/w\n",
    "    ratio = []\n",
    "    for i in range(len(v_w)):\n",
    "        ratio.append((v_w[i][0]/v_w[i][1] ,i))\n",
    "    \n",
    "    ratio.sort(key = lambda i:i[0] ,reverse=True)\n",
    "    \n",
    "    profit = 0\n",
    "    for i in ratio:\n",
    "        \n",
    "        # take element with highest ratio\n",
    "        # and add them until we can't, add\n",
    "        # them as a whole\n",
    "        if capacity >= weight[i[1]]:\n",
    "            profit += value[i[1]]\n",
    "            capacity -= weight[i[1]]\n",
    "            \n",
    "        else:\n",
    "            # At the end add the next item \n",
    "            # as much(fraction) as we can\n",
    "            if capacity != 0:\n",
    "                profit = profit + (capacity * value[i[1]]) / weight[i[1]]\n",
    "            break\n",
    "    \n",
    "    return profit"
   ]
  },
  {
   "cell_type": "code",
   "execution_count": 17,
   "metadata": {},
   "outputs": [
    {
     "data": {
      "text/plain": [
       "240.0"
      ]
     },
     "execution_count": 17,
     "metadata": {},
     "output_type": "execute_result"
    }
   ],
   "source": [
    "value = [60,100,120]\n",
    "weight = [10,20,30]\n",
    "knapsack(value,weight ,50)"
   ]
  },
  {
   "cell_type": "code",
   "execution_count": 18,
   "metadata": {},
   "outputs": [
    {
     "data": {
      "text/plain": [
       "9.8"
      ]
     },
     "execution_count": 18,
     "metadata": {},
     "output_type": "execute_result"
    }
   ],
   "source": [
    "value = [1,2,5,6] \n",
    "weight = [2,3,4,5] \n",
    "capacity = 8\n",
    "knapsack(value ,weight ,capacity)"
   ]
  },
  {
   "cell_type": "markdown",
   "metadata": {},
   "source": [
    "## 0/1 knapsack"
   ]
  },
  {
   "cell_type": "markdown",
   "metadata": {},
   "source": [
    "<img src=\"https://www.geeksforgeeks.org/wp-content/uploads/knapsack-problem-660x285.png\" width=\"400\" align=\"left\">"
   ]
  },
  {
   "cell_type": "markdown",
   "metadata": {},
   "source": [
    "**1) Optimal Substructure:**<br>\n",
    "To consider all subsets of items, there can be two cases for every item:<br>\n",
    "1.the item is included in the optimal subset,<br> \n",
    "2.not included in the optimal set.<br>\n",
    "<br>\n",
    "Therefore, the maximum value that can be obtained from n items is max of following two values.<br>\n",
    " a. Maximum value obtained by n-1 items and W weight (excluding nth item).<br>\n",
    " b. Value of nth item plus maximum value obtained by n-1 items and W minus weight of the nth item (including nth item).<br>\n",
    "<br>\n",
    "If weight of nth item is greater than W, then the nth item cannot be included and case 1 is the only possibility."
   ]
  },
  {
   "cell_type": "code",
   "execution_count": 3,
   "metadata": {},
   "outputs": [],
   "source": [
    "def knapsack(capacity ,weight ,value ,n):\n",
    "    \n",
    "    if capacity == 0 or n == 0:\n",
    "        return 0\n",
    "    \n",
    "    # if knapsack current capacity < curr item weight\n",
    "    # then, that item is not included in the knapsack\n",
    "    if capacity < weight[n-1]:\n",
    "        return knapsack(capacity ,weight ,value ,n-1)\n",
    "    \n",
    "    else:\n",
    "        # return the maximum of two cases: \n",
    "        # (1) nth item included \n",
    "        # (2) not included \n",
    "        return max(knapsack(capacity - weight[n-1] ,weight ,value ,n-1) + value[n-1],\n",
    "                     knapsack(capacity ,weight ,value ,n-1))"
   ]
  },
  {
   "cell_type": "code",
   "execution_count": 4,
   "metadata": {},
   "outputs": [
    {
     "name": "stdout",
     "output_type": "stream",
     "text": [
      "220\n"
     ]
    }
   ],
   "source": [
    "value = [60, 100, 120] \n",
    "weight = [10, 20, 30] \n",
    "capacity = 50\n",
    "n = len(value) \n",
    "print(knapsack(capacity , weight , value , n))"
   ]
  },
  {
   "cell_type": "markdown",
   "metadata": {},
   "source": [
    "**Use Dynamic Programming**"
   ]
  },
  {
   "cell_type": "code",
   "execution_count": 19,
   "metadata": {},
   "outputs": [],
   "source": [
    "def knapsack(capacity ,weight ,value ,n):\n",
    "    \n",
    "    table = [[0 for _ in range(capacity+1)] for _ in range(n+1)]\n",
    "    \n",
    "    for i in range(1,n+1):\n",
    "        for w in range(1,capacity+1):\n",
    "    \n",
    "            # either we include the value \n",
    "            # or don't include the value\n",
    "            if w >= weight[i-1]:\n",
    "                table[i][w] = max(table[i-1][w-weight[i-1]]+value[i-1] ,table[i-1][w])\n",
    "            else:\n",
    "                table[i][w] = table[i-1][w]\n",
    "    \n",
    "    return table[n][capacity]"
   ]
  },
  {
   "cell_type": "code",
   "execution_count": 20,
   "metadata": {},
   "outputs": [
    {
     "data": {
      "text/plain": [
       "8"
      ]
     },
     "execution_count": 20,
     "metadata": {},
     "output_type": "execute_result"
    }
   ],
   "source": [
    "value = [1,2,5,6] \n",
    "weight = [2,3,4,5] \n",
    "capacity = 8\n",
    "n = len(value) \n",
    "knapsack(capacity , weight , value , len(weight))"
   ]
  },
  {
   "cell_type": "code",
   "execution_count": 22,
   "metadata": {},
   "outputs": [
    {
     "data": {
      "text/plain": [
       "220"
      ]
     },
     "execution_count": 22,
     "metadata": {},
     "output_type": "execute_result"
    }
   ],
   "source": [
    "value = [60, 100, 120] \n",
    "weight = [10, 20, 30] \n",
    "capacity = 50\n",
    "n = len(value) \n",
    "knapsack(capacity , weight , value , n)"
   ]
  },
  {
   "cell_type": "code",
   "execution_count": null,
   "metadata": {},
   "outputs": [],
   "source": []
  }
 ],
 "metadata": {
  "kernelspec": {
   "display_name": "Python 3",
   "language": "python",
   "name": "python3"
  },
  "language_info": {
   "codemirror_mode": {
    "name": "ipython",
    "version": 3
   },
   "file_extension": ".py",
   "mimetype": "text/x-python",
   "name": "python",
   "nbconvert_exporter": "python",
   "pygments_lexer": "ipython3",
   "version": "3.7.3"
  }
 },
 "nbformat": 4,
 "nbformat_minor": 2
}
