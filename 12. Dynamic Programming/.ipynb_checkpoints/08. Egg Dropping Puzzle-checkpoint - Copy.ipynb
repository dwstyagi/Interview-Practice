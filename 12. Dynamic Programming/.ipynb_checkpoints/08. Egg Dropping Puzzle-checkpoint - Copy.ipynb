{
 "cells": [
  {
   "cell_type": "markdown",
   "metadata": {},
   "source": [
    "Suppose that we wish to know which stories in a 36-story building are safe to drop eggs from, and which will cause the eggs to break on landing. We make a few assumptions:<br>\n",
    "…..An egg that survives a fall can be used again.<br>\n",
    "…..A broken egg must be discarded.<br>\n",
    "…..The effect of a fall is the same for all eggs.<br>\n",
    "…..If an egg breaks when dropped, then it would break if dropped from a higher floor.<br>\n",
    "…..If an egg survives a fall then it would survive a shorter fall.<br>\n",
    "…..It is not ruled out that the first-floor windows break eggs, nor is it ruled out that the 36th-floor do not cause an egg to break.<br>\n",
    "<br>\n",
    "if only one egg is available and we wish to be sure of obtaining the right result, the experiment can be carried out in only one way. Drop the egg from the first-floor window; if it survives, drop it from the second floor window. Continue upward until it breaks. In the worst case, this method may require 36 droppings. Suppose 2 eggs are available. What is the least number of egg-droppings that is guaranteed to work in all cases?<br>\n",
    "<br>\n",
    "The problem is not actually to find the critical floor, but merely to decide floors from which eggs should be dropped so that total number of trials are minimized."
   ]
  },
  {
   "cell_type": "markdown",
   "metadata": {},
   "source": [
    "**Algorithm:**<br>\n",
    "1) If the egg breaks after dropping from xth floor, then we only need to check for floors lower than x with remaining eggs; so the problem reduces to x-1 floors and n-1 eggs.<br>\n",
    "2) If the egg doesn’t break after dropping from the xth floor, then we only need to check for floors higher than x; so the problem reduces to k-x floors and n eggs.\n",
    "\n",
    "```\n",
    "k ==> Number of floors\n",
    "n ==> Number of Eggs\n",
    "eggDrop(n, k) ==> Minimum number of trials needed to find the critical\n",
    "                floor in worst case.\n",
    "eggDrop(n, k) = 1 + min{max(eggDrop(n - 1, x - 1), eggDrop(n, k - x)): \n",
    "             x in {1, 2, ..., k}}\n",
    "```"
   ]
  },
  {
   "cell_type": "code",
   "execution_count": 26,
   "metadata": {},
   "outputs": [],
   "source": [
    "def eggsDrop(eggs ,floors):\n",
    "    \n",
    "    dp = [[0 for _ in range(floors+1)] for _ in range(eggs+1)]\n",
    "    \n",
    "    # Base Cases\n",
    "    for i in range(1,eggs+1):\n",
    "        dp[i][0] = 0\n",
    "        dp[i][1] = 1\n",
    "    \n",
    "    for i in range(1,floors+1):\n",
    "        dp[1][i] = i\n",
    "    \n",
    "    for egg in range(2,eggs+1):\n",
    "        for floor in range(2,floors+1):\n",
    "            \n",
    "            # Simulation contains 2 Things\n",
    "            # from 1st floor to currant floor:\n",
    "            # 1st: Egg Break: egg-1 ,floor-1\n",
    "            # 2nd: Egg not Break: egg ,floors - floor\n",
    "            dp[egg][floor] = float('inf')\n",
    "            for attempt in range(1 ,floor+1):\n",
    "                totalAttempts = 1 + max(dp[egg-1][attempt-1] ,dp[egg][floor-attempt])\n",
    "                \n",
    "                dp[egg][floor] = min(dp[egg][floor] ,totalAttempts)\n",
    "    \n",
    "    return dp"
   ]
  },
  {
   "cell_type": "code",
   "execution_count": 27,
   "metadata": {},
   "outputs": [
    {
     "data": {
      "text/plain": [
       "[[0, 0, 0, 0, 0, 0, 0],\n",
       " [0, 1, 2, 3, 4, 5, 6],\n",
       " [0, 1, 2, 2, 3, 3, 3],\n",
       " [0, 1, 2, 2, 3, 3, 3]]"
      ]
     },
     "execution_count": 27,
     "metadata": {},
     "output_type": "execute_result"
    }
   ],
   "source": [
    "eggsDrop(3 ,6)"
   ]
  },
  {
   "cell_type": "code",
   "execution_count": 28,
   "metadata": {},
   "outputs": [
    {
     "data": {
      "text/plain": [
       "[[0, 0, 0, 0, 0, 0, 0], [0, 1, 2, 3, 4, 5, 6], [0, 1, 2, 2, 3, 3, 3]]"
      ]
     },
     "execution_count": 28,
     "metadata": {},
     "output_type": "execute_result"
    }
   ],
   "source": [
    "eggsDrop(2 ,6)"
   ]
  },
  {
   "cell_type": "code",
   "execution_count": 29,
   "metadata": {},
   "outputs": [
    {
     "data": {
      "text/plain": [
       "[[0, 0, 0, 0, 0, 0, 0, 0, 0, 0, 0],\n",
       " [0, 1, 2, 3, 4, 5, 6, 7, 8, 9, 10],\n",
       " [0, 1, 2, 2, 3, 3, 3, 4, 4, 4, 4]]"
      ]
     },
     "execution_count": 29,
     "metadata": {},
     "output_type": "execute_result"
    }
   ],
   "source": [
    "eggsDrop(2 ,10)"
   ]
  },
  {
   "cell_type": "code",
   "execution_count": 30,
   "metadata": {},
   "outputs": [
    {
     "data": {
      "text/plain": [
       "[[0, 0, 0, 0, 0, 0],\n",
       " [0, 1, 2, 3, 4, 5],\n",
       " [0, 1, 2, 2, 3, 3],\n",
       " [0, 1, 2, 2, 3, 3]]"
      ]
     },
     "execution_count": 30,
     "metadata": {},
     "output_type": "execute_result"
    }
   ],
   "source": [
    "eggsDrop(3 ,5)"
   ]
  },
  {
   "cell_type": "code",
   "execution_count": null,
   "metadata": {},
   "outputs": [],
   "source": []
  }
 ],
 "metadata": {
  "kernelspec": {
   "display_name": "Python 3",
   "language": "python",
   "name": "python3"
  },
  "language_info": {
   "codemirror_mode": {
    "name": "ipython",
    "version": 3
   },
   "file_extension": ".py",
   "mimetype": "text/x-python",
   "name": "python",
   "nbconvert_exporter": "python",
   "pygments_lexer": "ipython3",
   "version": "3.7.3"
  }
 },
 "nbformat": 4,
 "nbformat_minor": 2
}
