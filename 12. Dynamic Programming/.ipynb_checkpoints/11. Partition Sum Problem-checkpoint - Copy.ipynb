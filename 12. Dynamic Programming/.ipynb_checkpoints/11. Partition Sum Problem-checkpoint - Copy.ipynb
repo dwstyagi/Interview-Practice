{
 "cells": [
  {
   "cell_type": "markdown",
   "metadata": {},
   "source": [
    "Given a set of numbers, check whether it can be partitioned into two subsets such that the sum of elements in both subsets is same or not.\n",
    "\n",
    "```\n",
    "arr[] = {1, 5, 11, 5}\n",
    "Output: true \n",
    "The array can be partitioned as {1, 5, 5} and {11}\n",
    "\n",
    "arr[] = {1, 5, 3}\n",
    "Output: false \n",
    "The array cannot be partitioned into equal sum sets.\n",
    "```"
   ]
  },
  {
   "cell_type": "code",
   "execution_count": 41,
   "metadata": {},
   "outputs": [],
   "source": [
    "def partitionSum(arr):\n",
    "    \n",
    "    sum = 0\n",
    "    for i in arr:\n",
    "        sum += i\n",
    "        \n",
    "    if sum % 2 != 0:\n",
    "        return 0\n",
    "    \n",
    "    col = sum//2 +1\n",
    "    row = len(arr)+1\n",
    "    \n",
    "    dp = [[0 for _ in range(col)] for _ in range(row)]\n",
    "    \n",
    "    # Base Cases\n",
    "    for i in range(row):\n",
    "        dp[i][0] = 1\n",
    "    \n",
    "    for i in range(1 ,row):\n",
    "        for j in range(1, col):\n",
    "            \n",
    "            if j < arr[i-1]:\n",
    "                dp[i][j] = dp[i-1][j]\n",
    "            else:\n",
    "                dp[i][j] = dp[i-1][j] or dp[i-1][j-arr[i-1]]\n",
    "        \n",
    "    return dp[row-1][col-1] "
   ]
  },
  {
   "cell_type": "code",
   "execution_count": 42,
   "metadata": {},
   "outputs": [
    {
     "data": {
      "text/plain": [
       "1"
      ]
     },
     "execution_count": 42,
     "metadata": {},
     "output_type": "execute_result"
    }
   ],
   "source": [
    "arr = [1,5,11,5]\n",
    "#arr.sort()\n",
    "partitionSum(arr)"
   ]
  },
  {
   "cell_type": "code",
   "execution_count": 43,
   "metadata": {},
   "outputs": [
    {
     "data": {
      "text/plain": [
       "1"
      ]
     },
     "execution_count": 43,
     "metadata": {},
     "output_type": "execute_result"
    }
   ],
   "source": [
    "arr = [3,1,1,2,2,1]\n",
    "partitionSum(arr)"
   ]
  },
  {
   "cell_type": "code",
   "execution_count": 44,
   "metadata": {},
   "outputs": [
    {
     "data": {
      "text/plain": [
       "0"
      ]
     },
     "execution_count": 44,
     "metadata": {},
     "output_type": "execute_result"
    }
   ],
   "source": [
    "arr = [1,5,3]\n",
    "partitionSum(arr)"
   ]
  },
  {
   "cell_type": "code",
   "execution_count": null,
   "metadata": {},
   "outputs": [],
   "source": []
  }
 ],
 "metadata": {
  "kernelspec": {
   "display_name": "Python 3",
   "language": "python",
   "name": "python3"
  },
  "language_info": {
   "codemirror_mode": {
    "name": "ipython",
    "version": 3
   },
   "file_extension": ".py",
   "mimetype": "text/x-python",
   "name": "python",
   "nbconvert_exporter": "python",
   "pygments_lexer": "ipython3",
   "version": "3.7.3"
  }
 },
 "nbformat": 4,
 "nbformat_minor": 2
}
