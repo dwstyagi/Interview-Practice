{
 "cells": [
  {
   "cell_type": "markdown",
   "metadata": {},
   "source": [
    "Given a set of integers, the task is to divide it into two sets S1 and S2 such that the absolute difference between their sums is minimum.<br>\n",
    "If there is a set S with n elements, then if we assume Subset1 has m elements, Subset2 must have n-m elements and the value of abs(sum(Subset1) – sum(Subset2)) should be minimum.<br>\n",
    "```\n",
    "Input:  arr[] = {1, 6, 11, 5} \n",
    "Output: 1\n",
    "Explanation:\n",
    "Subset1 = {1, 5, 6}, sum of Subset1 = 12 \n",
    "Subset2 = {11}, sum of Subset2 = 11      \n",
    "```"
   ]
  },
  {
   "cell_type": "markdown",
   "metadata": {},
   "source": [
    "**Solution: Extention of Partition problem (Problem 10/11)**<br>\n",
    "We can create a 2D array dp[n+1][sum+1] where n is number of elements in given set and sum is sum of all elements. We can construct the solution in bottom up manner.\n",
    "\n",
    "```\n",
    "The task is to divide the set into two parts. \n",
    "We will consider the following factors for dividing it. \n",
    "Let \n",
    "  dp[n+1][sum+1] = {1 if some subset from 1st to i'th has a sum \n",
    "                      equal to j\n",
    "                   0 otherwise}\n",
    "    \n",
    "    i ranges from {1..n}\n",
    "    j ranges from {0..(sum of all elements)}  \n",
    "\n",
    "So      \n",
    "    dp[n+1][sum+1]  will be 1 if \n",
    "    1) The sum j is achieved including i'th item\n",
    "    2) The sum j is achieved excluding i'th item.\n",
    "\n",
    "Let sum of all the elements be S.  \n",
    "\n",
    "To find Minimum sum difference, we have to find j such \n",
    "that Min{sum - j*2  : dp[n][j]  == 1 } \n",
    "    where j varies from 0 to sum/2\n",
    "\n",
    "The idea is, sum of S1 is j and it should be closest\n",
    "to sum/2, i.e., 2*j should be closest to sum.\n",
    "```"
   ]
  },
  {
   "cell_type": "code",
   "execution_count": 18,
   "metadata": {},
   "outputs": [],
   "source": [
    "def minSum(arr ,n):\n",
    "    \n",
    "    sum = 0\n",
    "    for i in arr:\n",
    "        sum += i\n",
    "        \n",
    "    dp = [[0 for _ in range(sum+1)] for _ in range(n+1)]\n",
    "    \n",
    "    # Base Case\n",
    "    for i in range(n+1):\n",
    "        dp[i][0] = 1\n",
    "    \n",
    "    for i in range(1,n+1):\n",
    "        for j in range(1,sum+1):\n",
    "            \n",
    "            if arr[i-1] <= j:\n",
    "                dp[i][j] = dp[i-1][j-arr[i-1]] or dp[i-1][j]\n",
    "            \n",
    "            else:\n",
    "                dp[i][j] = dp[i-1][j]\n",
    "    \n",
    "    # To find Minimum sum difference:\n",
    "    # sum of S1 is j and it should be closest\n",
    "    # to sum/2, i.e., 2*j should be closest to sum.\n",
    "    diff = float('inf')\n",
    "    \n",
    "    for j in range(sum//2 ,-1,-1):\n",
    "        \n",
    "        if dp[n][j]:\n",
    "            diff = min(diff ,sum - 2*j)\n",
    "            \n",
    "    return diff"
   ]
  },
  {
   "cell_type": "code",
   "execution_count": 19,
   "metadata": {},
   "outputs": [
    {
     "data": {
      "text/plain": [
       "1"
      ]
     },
     "execution_count": 19,
     "metadata": {},
     "output_type": "execute_result"
    }
   ],
   "source": [
    "arr = [1, 6, 11, 5]\n",
    "n = len(arr)\n",
    "minSum(arr ,n)"
   ]
  },
  {
   "cell_type": "code",
   "execution_count": 20,
   "metadata": {},
   "outputs": [
    {
     "data": {
      "text/plain": [
       "23"
      ]
     },
     "execution_count": 20,
     "metadata": {},
     "output_type": "execute_result"
    }
   ],
   "source": [
    "arr = [36, 7, 46, 40]\n",
    "n = len(arr)\n",
    "minSum(arr ,n)"
   ]
  },
  {
   "cell_type": "code",
   "execution_count": null,
   "metadata": {},
   "outputs": [],
   "source": []
  }
 ],
 "metadata": {
  "kernelspec": {
   "display_name": "Python 3",
   "language": "python",
   "name": "python3"
  },
  "language_info": {
   "codemirror_mode": {
    "name": "ipython",
    "version": 3
   },
   "file_extension": ".py",
   "mimetype": "text/x-python",
   "name": "python",
   "nbconvert_exporter": "python",
   "pygments_lexer": "ipython3",
   "version": "3.7.6"
  }
 },
 "nbformat": 4,
 "nbformat_minor": 2
}
