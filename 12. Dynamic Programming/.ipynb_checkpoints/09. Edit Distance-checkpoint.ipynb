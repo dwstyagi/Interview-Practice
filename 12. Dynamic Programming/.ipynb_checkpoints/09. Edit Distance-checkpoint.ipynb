{
 "cells": [
  {
   "cell_type": "markdown",
   "metadata": {},
   "source": [
    "Given two strings str1 and str2 and below operations that can performed on str1.<br>\n",
    "..-->Insert<br>\n",
    "..-->Remove<br>\n",
    "..-->Replace<br>\n",
    "All of the above operations are of equal cost"
   ]
  },
  {
   "cell_type": "markdown",
   "metadata": {},
   "source": [
    "```\n",
    "Input:   str1 = \"geek\", str2 = \"gesek\"\n",
    "Output:  1\n",
    "We can convert str1 into str2 by inserting a 's'.\n",
    "\n",
    "Input:   str1 = \"cat\", str2 = \"cut\"\n",
    "Output:  1\n",
    "We can convert str1 into str2 by replacing 'a' with 'u'.\n",
    "\n",
    "Input:   str1 = \"sunday\", str2 = \"saturday\"\n",
    "Output:  3\n",
    "Last three and first characters are same.  We basically\n",
    "need to convert \"un\" to \"atur\".  This can be done using\n",
    "below three operations. \n",
    "Replace 'n' with 'r', insert t, insert a\n",
    "```"
   ]
  },
  {
   "cell_type": "markdown",
   "metadata": {},
   "source": [
    "### Algorithm Bottom Up:\n",
    "If last characters of two strings are same,<br>\n",
    "nothing much to do. Ignore last characters and get count for remaining strings. So we recur for lengths m-1 and n-1.<br>\n",
    "Else (If last characters are not same),<br>\n",
    "..we consider all operations on ‘str1’, consider all three operations on last character of first string, recursively compute minimum cost for all three operations and take minimum of three values.<br> \n",
    ".....Insert: Recur for m and n-1.<br>\n",
    ".....Remove: Recur for m-1 and n.<br>\n",
    ".....Replace: Recur for m-1 and n-1.\n",
    "\n",
    "\n",
    "replace |  delete <br>\n",
    "insert  |   <b>Here(find Min)\n",
    "\n"
   ]
  },
  {
   "cell_type": "code",
   "execution_count": 1,
   "metadata": {},
   "outputs": [],
   "source": [
    "def lavensteinDistance(str1 ,str2):\n",
    "    m = len(str1)\n",
    "    n = len(str2)\n",
    "    \n",
    "    dp = [[0 for _ in range(n+1)] for _ in range(m+1)]\n",
    "    \n",
    "    for i in range(m+1):\n",
    "        for j in range(n+1):\n",
    "            \n",
    "            # Base Case to convert empty to given or\n",
    "            # convert given string into empty string\n",
    "            if i == 0:\n",
    "                dp[i][j] = j \n",
    "            \n",
    "            elif j == 0:\n",
    "                dp[i][j] = i\n",
    "            \n",
    "            # if character matched then we go \n",
    "            # to substring where it didn't match\n",
    "            elif str1[i-1] == str2[j-1]:\n",
    "                dp[i][j] = dp[i-1][j-1]\n",
    "            \n",
    "            # character didn't match take min\n",
    "            # of replace, insert and Delete\n",
    "            else:\n",
    "                dp[i][j] = 1 + min(dp[i-1][j],dp[i-1][j-1],dp[i][j-1]) \n",
    "    \n",
    "    return dp[m][n]"
   ]
  },
  {
   "cell_type": "code",
   "execution_count": 2,
   "metadata": {},
   "outputs": [
    {
     "data": {
      "text/plain": [
       "5"
      ]
     },
     "execution_count": 2,
     "metadata": {},
     "output_type": "execute_result"
    }
   ],
   "source": [
    "A = 'benyam'\n",
    "B = 'ephrem'\n",
    "lavensteinDistance(A ,B)"
   ]
  },
  {
   "cell_type": "code",
   "execution_count": 3,
   "metadata": {},
   "outputs": [
    {
     "data": {
      "text/plain": [
       "1"
      ]
     },
     "execution_count": 3,
     "metadata": {},
     "output_type": "execute_result"
    }
   ],
   "source": [
    "A = 'geek'\n",
    "B = 'gesek'\n",
    "lavensteinDistance(A ,B)"
   ]
  },
  {
   "cell_type": "code",
   "execution_count": 4,
   "metadata": {},
   "outputs": [
    {
     "data": {
      "text/plain": [
       "1"
      ]
     },
     "execution_count": 4,
     "metadata": {},
     "output_type": "execute_result"
    }
   ],
   "source": [
    "A = 'cat'\n",
    "B = 'cut'\n",
    "lavensteinDistance(A ,B)"
   ]
  },
  {
   "cell_type": "code",
   "execution_count": 5,
   "metadata": {},
   "outputs": [
    {
     "data": {
      "text/plain": [
       "3"
      ]
     },
     "execution_count": 5,
     "metadata": {},
     "output_type": "execute_result"
    }
   ],
   "source": [
    "A = 'saturday'\n",
    "B = 'sunday'\n",
    "lavensteinDistance(A ,B)"
   ]
  },
  {
   "cell_type": "code",
   "execution_count": 6,
   "metadata": {},
   "outputs": [
    {
     "data": {
      "text/plain": [
       "7"
      ]
     },
     "execution_count": 6,
     "metadata": {},
     "output_type": "execute_result"
    }
   ],
   "source": [
    "A = 'Diwanshu'\n",
    "B = 'Tyagi'\n",
    "lavensteinDistance(A ,B)"
   ]
  },
  {
   "cell_type": "code",
   "execution_count": null,
   "metadata": {},
   "outputs": [],
   "source": []
  }
 ],
 "metadata": {
  "kernelspec": {
   "display_name": "Python 3",
   "language": "python",
   "name": "python3"
  },
  "language_info": {
   "codemirror_mode": {
    "name": "ipython",
    "version": 3
   },
   "file_extension": ".py",
   "mimetype": "text/x-python",
   "name": "python",
   "nbconvert_exporter": "python",
   "pygments_lexer": "ipython3",
   "version": "3.7.6"
  }
 },
 "nbformat": 4,
 "nbformat_minor": 2
}
