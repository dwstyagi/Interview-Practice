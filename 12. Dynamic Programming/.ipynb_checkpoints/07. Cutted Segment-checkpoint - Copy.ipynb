{
 "cells": [
  {
   "cell_type": "markdown",
   "metadata": {},
   "source": [
    "Given a positive integer N, find the maximum number of segments of lengths a, b and c that can be formed from N ."
   ]
  },
  {
   "cell_type": "markdown",
   "metadata": {},
   "source": [
    "```\n",
    "Input : N = 7, a = 5, b = 2, c = 5 \n",
    "Output : 2 \n",
    "N can be divided into 2 segments of lengths\n",
    "2 and 5. For the second example,\n",
    "\n",
    "Input : N = 17, a = 2, b = 1, c = 3 \n",
    "Output : 17 \n",
    "N can be divided into 17 segments of 1 or 8 \n",
    "segments of 2 and 1 segment of 1. But 17 segments\n",
    "of 1 is greater than 9 segments of 2 and 1.  \n",
    "```"
   ]
  },
  {
   "cell_type": "code",
   "execution_count": 11,
   "metadata": {},
   "outputs": [],
   "source": [
    "def cuttedSegment(n ,a ,b ,c):\n",
    "    \n",
    "    dp = [-1] * (n+1)\n",
    "    \n",
    "    dp[0] = 0\n",
    "    \n",
    "    for i in range(n+1):\n",
    "        \n",
    "        if i >= a:\n",
    "            dp[i] = max(dp[i], 1+dp[i-a])\n",
    "        \n",
    "        if i >= b:\n",
    "            dp[i] = max(dp[i], 1+dp[i-b])\n",
    "        \n",
    "        if i >= c:\n",
    "            dp[i] = max(dp[i], 1+dp[i-c])\n",
    "                \n",
    "    return dp[-1]\n",
    "            "
   ]
  },
  {
   "cell_type": "code",
   "execution_count": 12,
   "metadata": {},
   "outputs": [
    {
     "data": {
      "text/plain": [
       "17"
      ]
     },
     "execution_count": 12,
     "metadata": {},
     "output_type": "execute_result"
    }
   ],
   "source": [
    "N = 17\n",
    "a = 2 \n",
    "b = 1 \n",
    "c = 3 \n",
    "cuttedSegment(N ,a,b,c)"
   ]
  },
  {
   "cell_type": "code",
   "execution_count": 13,
   "metadata": {},
   "outputs": [
    {
     "data": {
      "text/plain": [
       "2"
      ]
     },
     "execution_count": 13,
     "metadata": {},
     "output_type": "execute_result"
    }
   ],
   "source": [
    "N = 7\n",
    "a = 5\n",
    "b = 2 \n",
    "c = 5\n",
    "cuttedSegment(N ,a,b,c)"
   ]
  },
  {
   "cell_type": "code",
   "execution_count": null,
   "metadata": {},
   "outputs": [],
   "source": []
  }
 ],
 "metadata": {
  "kernelspec": {
   "display_name": "Python 3",
   "language": "python",
   "name": "python3"
  },
  "language_info": {
   "codemirror_mode": {
    "name": "ipython",
    "version": 3
   },
   "file_extension": ".py",
   "mimetype": "text/x-python",
   "name": "python",
   "nbconvert_exporter": "python",
   "pygments_lexer": "ipython3",
   "version": "3.7.6"
  }
 },
 "nbformat": 4,
 "nbformat_minor": 2
}
