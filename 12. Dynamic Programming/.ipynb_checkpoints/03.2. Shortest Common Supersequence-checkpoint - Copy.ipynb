{
 "cells": [
  {
   "cell_type": "markdown",
   "metadata": {},
   "source": [
    "## Shortest Common SuperSequence\n",
    "\n",
    "**Given two strings str1 and str2, find the shortest string that has both str1 and str2 as subsequences.**<br>\n",
    "```\n",
    "Input:   str1 = \"geek\",  str2 = \"eke\"\n",
    "Output: \"geeke\"\n",
    "\n",
    "Input:   str1 = \"AGGTAB\",  str2 = \"GXTXAYB\"\n",
    "Output:  \"AGXGTXAYB\"\n",
    "```\n",
    "\n",
    "**the shortest supersequence  = (Sum of lengths of given two strings) - (Length of LCS of two given strings)**"
   ]
  },
  {
   "cell_type": "markdown",
   "metadata": {},
   "source": [
    "### Algorithm\n",
    "```\n",
    "Let a[0..m-1] and b[0..n-1] be two strings and m and n\n",
    "be respective lengths.\n",
    "\n",
    "  if (m == 0) return n;\n",
    "  if (n == 0) return m;\n",
    "\n",
    "  // If last characters are same, then add 1 to\n",
    "  // result and recur for a[]\n",
    "  if (a[m-1] == b[n-1]) \n",
    "     return 1 + SCS(a, b, m-1, n-1);\n",
    "\n",
    "  // Else find shortest of following two\n",
    "  //  a) Remove last character from X and recur\n",
    "  //  b) Remove last character from Y and recur\n",
    "  else return 1 + min( SCS(a, b, m-1, n), \n",
    "                       SCS(a, b, m, n-1) );\n",
    "```"
   ]
  },
  {
   "cell_type": "code",
   "execution_count": 1,
   "metadata": {},
   "outputs": [],
   "source": [
    "def SCS(s1 ,s2):\n",
    "    m = len(s1)\n",
    "    n = len(s2)\n",
    "    \n",
    "    dp = [[-1 for _ in range(n+1)] for _ in range(m+1)]\n",
    "    \n",
    "    for i in range(m+1):\n",
    "        for j in range(n+1):\n",
    "            \n",
    "            # base cases\n",
    "            if i == 0 :\n",
    "                dp[i][j] = j\n",
    "            elif j == 0:\n",
    "                dp[i][j] = i\n",
    "            \n",
    "            elif s1[i-1] == s2[j-1]:\n",
    "                dp[i][j] = 1 + dp[i-1][j-1]\n",
    "            \n",
    "            else:\n",
    "                dp[i][j] = 1 + min(dp[i-1][j] ,dp[i][j-1])\n",
    "    \n",
    "    SCSUtil(s1 ,s2 ,dp)"
   ]
  },
  {
   "cell_type": "markdown",
   "metadata": {},
   "source": [
    "### Algorithm for print SCS\n",
    "\n",
    "We start from the bottom-right most cell of the matrix and \n",
    "push characters in output string based on below rules -\n",
    "\n",
    " 1. If the characters corresponding to current cell (i, j) \n",
    "    in X and Y are same, then the character is part of shortest \n",
    "    supersequence. We append it in output string and move \n",
    "    diagonally to next cell (i.e. (i - 1, j - 1)).\n",
    "\n",
    " 2. If the characters corresponding to current cell (i, j)\n",
    "    in X and Y are different, we have two choices -\n",
    "\n",
    "    If<br> \n",
    "    matrix[i - 1][j] > matrix[i][j - 1],\n",
    "    we add character corresponding to current \n",
    "    cell (i, j) in string Y in output string \n",
    "    and move to the left cell i.e. (i, j - 1)<br>\n",
    "    else<br>\n",
    "    we add character corresponding to current \n",
    "    cell (i, j) in string X in output string \n",
    "    and move to the top cell i.e. (i - 1, j)\n",
    "\n",
    " 3. If string Y reaches its end i.e. j = 0, we add remaining\n",
    "    characters of string X in the output string\n",
    "    else if string X reaches its end i.e. i = 0, we add \n",
    "    remaining characters of string Y in the output string."
   ]
  },
  {
   "cell_type": "code",
   "execution_count": 2,
   "metadata": {},
   "outputs": [],
   "source": [
    "def SCSUtil(s1 ,s2 ,dp):\n",
    "    \n",
    "    index = dp[len(s1)][len(s2)]\n",
    "    \n",
    "    string = [''] * index\n",
    "    \n",
    "    i = len(s1)\n",
    "    j = len(s2)\n",
    "    \n",
    "    while i > 0 and j > 0:\n",
    "        \n",
    "        if s1[i-1] == s2[j-1]:\n",
    "            string[index-1] = s1[i-1]\n",
    "            i -= 1\n",
    "            j -= 1\n",
    "            index -= 1\n",
    "        \n",
    "        elif dp[i-1][j] > dp[i][j-1]:\n",
    "            string[index-1] = s2[j-1]\n",
    "            j -= 1\n",
    "            index -= 1\n",
    "        \n",
    "        else:\n",
    "            string[index-1] = s1[i-1]\n",
    "            i -= 1\n",
    "            index -= 1\n",
    "    \n",
    "    # Copy the Remaining Characters\n",
    "    while i > 0:\n",
    "        string[index-1] = s1[i-1]\n",
    "        i -= 1\n",
    "        index -= 1\n",
    "    \n",
    "    while j > 0:\n",
    "        string[index-1] = s2[j-1]\n",
    "        j -= 1\n",
    "        index -= 1\n",
    "    \n",
    "    print(''.join(string))"
   ]
  },
  {
   "cell_type": "code",
   "execution_count": 3,
   "metadata": {},
   "outputs": [
    {
     "name": "stdout",
     "output_type": "stream",
     "text": [
      "gekek\n"
     ]
    }
   ],
   "source": [
    "str1 = \"geek\" \n",
    "str2 = \"eke\"\n",
    "SCS(str1 ,str2)"
   ]
  },
  {
   "cell_type": "code",
   "execution_count": 4,
   "metadata": {},
   "outputs": [
    {
     "name": "stdout",
     "output_type": "stream",
     "text": [
      "AGXGTXAYB\n"
     ]
    }
   ],
   "source": [
    "str1 = \"AGGTAB\"\n",
    "str2 = \"GXTXAYB\"\n",
    "SCS(str1 ,str2)"
   ]
  },
  {
   "cell_type": "code",
   "execution_count": 5,
   "metadata": {},
   "outputs": [
    {
     "name": "stdout",
     "output_type": "stream",
     "text": [
      "algorhyithm\n"
     ]
    }
   ],
   "source": [
    "a = \"algorithm\"\n",
    "b = \"rhythm\"\n",
    "SCS(a,b)"
   ]
  },
  {
   "cell_type": "code",
   "execution_count": null,
   "metadata": {},
   "outputs": [],
   "source": []
  }
 ],
 "metadata": {
  "kernelspec": {
   "display_name": "Python 3",
   "language": "python",
   "name": "python3"
  },
  "language_info": {
   "codemirror_mode": {
    "name": "ipython",
    "version": 3
   },
   "file_extension": ".py",
   "mimetype": "text/x-python",
   "name": "python",
   "nbconvert_exporter": "python",
   "pygments_lexer": "ipython3",
   "version": "3.7.3"
  }
 },
 "nbformat": 4,
 "nbformat_minor": 2
}
