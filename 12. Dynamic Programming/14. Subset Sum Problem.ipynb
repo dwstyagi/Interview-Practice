{
 "cells": [
  {
   "cell_type": "markdown",
   "metadata": {},
   "source": [
    "Given a set of non-negative integers, and a value sum, determine if there is a subset of the given set with sum equal to given sum.<br>\n",
    "\n",
    "```\n",
    "Input:  set[] = {3, 34, 4, 12, 5, 2}, sum = 9\n",
    "Output:  True  //There is a subset (4, 5) with sum 9.\n",
    "```"
   ]
  },
  {
   "cell_type": "code",
   "execution_count": 21,
   "metadata": {},
   "outputs": [],
   "source": [
    "def subsetSum(arr ,s):\n",
    "    \n",
    "    dp =[[0 for _ in range(s+1)] for _ in range(len(arr)+1)]\n",
    "    \n",
    "    # Base Cases\n",
    "    for i in range(len(arr)+1):\n",
    "        dp[i][0] = 1\n",
    "    \n",
    "    for i in range(1,len(arr)+1):\n",
    "        for j in range(1,s+1):\n",
    "            \n",
    "            # if current sum is less than \n",
    "            # current subset last element \n",
    "            if j < arr[i-1]:\n",
    "                dp[i][j] = dp[i-1][j]\n",
    "            \n",
    "            # it's greater than last ele\n",
    "            # take OR expression of \n",
    "            # last row,same col and \n",
    "            # last row, col without value\n",
    "            else:\n",
    "                dp[i][j] = dp[i-1][j] or dp[i-1][j-arr[i-1]]\n",
    "    \n",
    "    return dp[len(arr)][s]"
   ]
  },
  {
   "cell_type": "code",
   "execution_count": 22,
   "metadata": {},
   "outputs": [
    {
     "data": {
      "text/plain": [
       "1"
      ]
     },
     "execution_count": 22,
     "metadata": {},
     "output_type": "execute_result"
    }
   ],
   "source": [
    "arr = [2,3,7,8,10]\n",
    "s = 11\n",
    "subsetSum(arr ,11)"
   ]
  },
  {
   "cell_type": "code",
   "execution_count": 23,
   "metadata": {},
   "outputs": [
    {
     "data": {
      "text/plain": [
       "0"
      ]
     },
     "execution_count": 23,
     "metadata": {},
     "output_type": "execute_result"
    }
   ],
   "source": [
    "arr = [2,3,7,8,10]\n",
    "s = 14\n",
    "subsetSum(arr ,s)"
   ]
  },
  {
   "cell_type": "code",
   "execution_count": null,
   "metadata": {},
   "outputs": [],
   "source": []
  }
 ],
 "metadata": {
  "kernelspec": {
   "display_name": "Python 3",
   "language": "python",
   "name": "python3"
  },
  "language_info": {
   "codemirror_mode": {
    "name": "ipython",
    "version": 3
   },
   "file_extension": ".py",
   "mimetype": "text/x-python",
   "name": "python",
   "nbconvert_exporter": "python",
   "pygments_lexer": "ipython3",
   "version": "3.7.6"
  }
 },
 "nbformat": 4,
 "nbformat_minor": 2
}