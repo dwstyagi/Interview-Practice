{
 "cells": [
  {
   "cell_type": "markdown",
   "metadata": {},
   "source": [
    "Given a set of numbers, check whether it can be partitioned into two subsets such that the sum of elements in both subsets is same or not.\n",
    "\n",
    "```\n",
    "arr[] = {1, 5, 11, 5}\n",
    "Output: true \n",
    "The array can be partitioned as {1, 5, 5} and {11}\n",
    "\n",
    "arr[] = {1, 5, 3}\n",
    "Output: false \n",
    "The array cannot be partitioned into equal sum sets.\n",
    "```"
   ]
  },
  {
   "cell_type": "code",
   "execution_count": 1,
   "metadata": {},
   "outputs": [],
   "source": [
    "def partitionSum(arr):\n",
    "    \n",
    "    sum = 0\n",
    "    for i in arr:\n",
    "        sum += i\n",
    "        \n",
    "    if sum % 2 != 0:\n",
    "        return 0\n",
    "    \n",
    "    col = sum//2 +1\n",
    "    row = len(arr)+1\n",
    "    \n",
    "    dp = [[0 for _ in range(col)] for _ in range(row)]\n",
    "    \n",
    "    # Base Cases\n",
    "    for i in range(row):\n",
    "        dp[i][0] = 1\n",
    "    \n",
    "    for i in range(1 ,row):\n",
    "        for j in range(1, col):\n",
    "            \n",
    "            # Either we select an item\n",
    "            # or we dont select an item\n",
    "            if j < arr[i-1]:\n",
    "                dp[i][j] = dp[i-1][j]\n",
    "            else:\n",
    "                dp[i][j] = dp[i-1][j] or dp[i-1][j-arr[i-1]]\n",
    "        \n",
    "    printMatrix(dp)"
   ]
  },
  {
   "cell_type": "code",
   "execution_count": 2,
   "metadata": {},
   "outputs": [],
   "source": [
    "def printMatrix(arr):\n",
    "    for i in arr:\n",
    "        for j in i:\n",
    "            print(j,end=\" \")\n",
    "        print()"
   ]
  },
  {
   "cell_type": "code",
   "execution_count": 3,
   "metadata": {},
   "outputs": [
    {
     "name": "stdout",
     "output_type": "stream",
     "text": [
      "1 0 0 0 0 0 0 0 0 0 0 0 \n",
      "1 1 0 0 0 0 0 0 0 0 0 0 \n",
      "1 1 0 0 0 1 1 0 0 0 0 0 \n",
      "1 1 0 0 0 1 1 0 0 0 0 1 \n",
      "1 1 0 0 0 1 1 0 0 0 1 1 \n"
     ]
    }
   ],
   "source": [
    "arr = [1,5,11,5]\n",
    "#arr.sort()\n",
    "partitionSum(arr)"
   ]
  },
  {
   "cell_type": "code",
   "execution_count": 4,
   "metadata": {},
   "outputs": [
    {
     "name": "stdout",
     "output_type": "stream",
     "text": [
      "1 0 0 0 0 0 \n",
      "1 0 0 1 0 0 \n",
      "1 1 0 1 1 0 \n",
      "1 1 1 1 1 1 \n",
      "1 1 1 1 1 1 \n",
      "1 1 1 1 1 1 \n",
      "1 1 1 1 1 1 \n"
     ]
    }
   ],
   "source": [
    "arr = [3,1,1,2,2,1]\n",
    "partitionSum(arr)"
   ]
  },
  {
   "cell_type": "code",
   "execution_count": 6,
   "metadata": {},
   "outputs": [
    {
     "data": {
      "text/plain": [
       "0"
      ]
     },
     "execution_count": 6,
     "metadata": {},
     "output_type": "execute_result"
    }
   ],
   "source": [
    "arr = [1,5,3]\n",
    "partitionSum(arr)"
   ]
  },
  {
   "cell_type": "code",
   "execution_count": null,
   "metadata": {},
   "outputs": [],
   "source": []
  }
 ],
 "metadata": {
  "kernelspec": {
   "display_name": "Python 3",
   "language": "python",
   "name": "python3"
  },
  "language_info": {
   "codemirror_mode": {
    "name": "ipython",
    "version": 3
   },
   "file_extension": ".py",
   "mimetype": "text/x-python",
   "name": "python",
   "nbconvert_exporter": "python",
   "pygments_lexer": "ipython3",
   "version": "3.7.6"
  }
 },
 "nbformat": 4,
 "nbformat_minor": 2
}
