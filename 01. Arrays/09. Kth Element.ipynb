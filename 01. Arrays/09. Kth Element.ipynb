{
 "cells": [
  {
   "cell_type": "markdown",
   "metadata": {},
   "source": [
    "### Kth Smallest Element<br>\n",
    "Using MinHeap"
   ]
  },
  {
   "cell_type": "code",
   "execution_count": 1,
   "metadata": {},
   "outputs": [],
   "source": [
    "class MinHeap:\n",
    "    \n",
    "    def __init__(self ,capacity):\n",
    "        self.capacity = capacity\n",
    "        self.heap = [0 for _ in range(self.capacity)]\n",
    "        self.size = 0\n",
    "        \n",
    "    def minHeapify(self ,i):\n",
    "        smallest = i\n",
    "        left = 2 * i + 1\n",
    "        right = 2 * i + 2\n",
    "        \n",
    "        if left < self.size and self.heap[left] < self.heap[smallest]:\n",
    "            smallest = left\n",
    "        \n",
    "        if right < self.size and self.heap[right] < self.heap[smallest]:\n",
    "            smallest = right\n",
    "        \n",
    "        if smallest != i:\n",
    "            self.heap[smallest] ,self.heap[i] = self.heap[i] ,self.heap[smallest]\n",
    "            self.minHeapify(smallest)\n",
    "    \n",
    "    def insertKey(self ,data):\n",
    "        if self.size == self.capacity:\n",
    "            return -1\n",
    "        \n",
    "        self.heap[self.size] = data\n",
    "        child = self.size\n",
    "        parent = (child-1)//2\n",
    "        self.size += 1\n",
    "        \n",
    "        while child > 0 and self.heap[parent] > self.heap[child]:\n",
    "            self.heap[child] ,self.heap[parent] = self.heap[parent] ,self.heap[child]\n",
    "            child = parent\n",
    "            parent = (child-1) // 2\n",
    "        \n",
    "    def deleteKey(self ,i):\n",
    "        \n",
    "        if self.size <= i:\n",
    "            return -1\n",
    "        \n",
    "        self.size -= 1\n",
    "        self.heap[i] = self.heap[self.size]\n",
    "        self.heap[self.size] = 0\n",
    "        self.minHeapify(i)\n",
    "    \n",
    "    def extractMin(self):\n",
    "        \n",
    "        if self.size < 0:\n",
    "            return -1\n",
    "        \n",
    "        data = self.heap[0]\n",
    "        self.deleteKey(0)\n",
    "        \n",
    "        return data\n",
    "    \n",
    "    def peek(self):\n",
    "        if self.size < 0:\n",
    "            return -1\n",
    "        \n",
    "        return self.heap[0]\n",
    "    \n",
    "    def printHeap(self):\n",
    "        \n",
    "        if self.size < 0:\n",
    "            return -1\n",
    "        \n",
    "        print(*self.heap)\n",
    "        return  "
   ]
  },
  {
   "cell_type": "code",
   "execution_count": 2,
   "metadata": {},
   "outputs": [],
   "source": [
    "def kSmallest(arr ,k):\n",
    "    \n",
    "    heap = MinHeap(len(arr))\n",
    "    \n",
    "    # Build MinHeap\n",
    "    for i in range(len(arr)):\n",
    "        heap.insertKey(arr[i])\n",
    "    \n",
    "    for _ in range(k-1):\n",
    "        heap.deleteKey(0)\n",
    "    \n",
    "    return heap.extractMin()"
   ]
  },
  {
   "cell_type": "code",
   "execution_count": 3,
   "metadata": {},
   "outputs": [
    {
     "data": {
      "text/plain": [
       "7"
      ]
     },
     "execution_count": 3,
     "metadata": {},
     "output_type": "execute_result"
    }
   ],
   "source": [
    "arr = [7, 10, 4, 3, 20, 15]\n",
    "kSmallest(arr ,3)"
   ]
  },
  {
   "cell_type": "code",
   "execution_count": 4,
   "metadata": {},
   "outputs": [
    {
     "data": {
      "text/plain": [
       "10"
      ]
     },
     "execution_count": 4,
     "metadata": {},
     "output_type": "execute_result"
    }
   ],
   "source": [
    "arr = [7, 10, 4, 3, 20, 15]\n",
    "kSmallest(arr ,4)"
   ]
  },
  {
   "cell_type": "markdown",
   "metadata": {},
   "source": [
    "**Kth Smallest Element**<br>\n",
    "Using MaxHeap"
   ]
  },
  {
   "cell_type": "code",
   "execution_count": 5,
   "metadata": {},
   "outputs": [],
   "source": [
    "class MaxHeap:\n",
    "    \n",
    "    def __init__(self ,capacity):\n",
    "        self.capacity = capacity\n",
    "        self.heap = [0 for _ in range(self.capacity)]\n",
    "        self.size = 0\n",
    "        \n",
    "    def maxHeapify(self ,i):\n",
    "        largest = i\n",
    "        left = 2 * i + 1\n",
    "        right = 2 * i + 2\n",
    "        \n",
    "        if left < self.size and self.heap[largest] < self.heap[left]:\n",
    "            largest = left\n",
    "        \n",
    "        if right < self.size and self.heap[largest] < self.heap[right]:\n",
    "            largest = right\n",
    "            \n",
    "        if largest != i:\n",
    "            self.heap[largest] ,self.heap[i] = self.heap[i] ,self.heap[largest]\n",
    "            self.maxHeapify(largest)\n",
    "    \n",
    "    def insertKey(self ,data):\n",
    "        \n",
    "        if self.size == self.capacity:\n",
    "            return -1\n",
    "        \n",
    "        self.heap[self.size] = data\n",
    "        child = self.size\n",
    "        parent = (child-1) // 2\n",
    "        self.size += 1\n",
    "        \n",
    "        while child > 0 and self.heap[parent] < self.heap[child]:\n",
    "            self.heap[parent] ,self.heap[child] = self.heap[child] ,self.heap[parent]\n",
    "            child = parent\n",
    "            parent = (parent-1) // 2\n",
    "    \n",
    "    def deleteKey(self ,i):\n",
    "        \n",
    "        if self.size < 0:\n",
    "            return -1\n",
    "        \n",
    "        self.size -= 1\n",
    "        self.heap[i] = self.heap[self.size]\n",
    "        self.heap[self.size] = 0\n",
    "        self.maxHeapify(i)\n",
    "    \n",
    "    def extractMax(self):\n",
    "        if self.size < 0:\n",
    "            return -1\n",
    "        \n",
    "        data = self.heap[0]\n",
    "        self.deleteKey(0)\n",
    "        \n",
    "        return data\n",
    "    \n",
    "    def peek(self):\n",
    "        if self.size < 0:\n",
    "            return -1\n",
    "        \n",
    "        return self.heap[0]\n",
    "        "
   ]
  },
  {
   "cell_type": "code",
   "execution_count": 6,
   "metadata": {},
   "outputs": [],
   "source": [
    "def kSmallest(arr ,k):\n",
    "    \n",
    "    heap = MaxHeap(k)\n",
    "    \n",
    "    # Build Max-Heap\n",
    "    for i in range(k):\n",
    "        heap.insertKey(arr[i])\n",
    "    \n",
    "    for i in range(k ,len(arr)):\n",
    "        if heap.peek() >= arr[i]:\n",
    "            heap.deleteKey(0)\n",
    "            heap.insertKey(arr[i])\n",
    "    \n",
    "    return heap.extractMax()"
   ]
  },
  {
   "cell_type": "code",
   "execution_count": 7,
   "metadata": {},
   "outputs": [
    {
     "data": {
      "text/plain": [
       "7"
      ]
     },
     "execution_count": 7,
     "metadata": {},
     "output_type": "execute_result"
    }
   ],
   "source": [
    "arr = [7, 10, 4, 3, 20, 15]\n",
    "kSmallest(arr ,3)"
   ]
  },
  {
   "cell_type": "code",
   "execution_count": 8,
   "metadata": {},
   "outputs": [
    {
     "data": {
      "text/plain": [
       "10"
      ]
     },
     "execution_count": 8,
     "metadata": {},
     "output_type": "execute_result"
    }
   ],
   "source": [
    "arr = [7, 10, 4, 3, 20, 15]\n",
    "kSmallest(arr ,4)"
   ]
  },
  {
   "cell_type": "markdown",
   "metadata": {},
   "source": [
    "### K-Largest \n",
    "Using Max-Heap"
   ]
  },
  {
   "cell_type": "code",
   "execution_count": 9,
   "metadata": {},
   "outputs": [],
   "source": [
    "class MaxHeap:\n",
    "    \n",
    "    def __init__(self ,capacity):\n",
    "        self.capacity = capacity\n",
    "        self.heap = [0 for _ in range(self.capacity)]\n",
    "        self.size = 0\n",
    "        \n",
    "    def maxHeapify(self ,i):\n",
    "        largest = i\n",
    "        left = 2 * i + 1\n",
    "        right = 2 * i + 2\n",
    "        \n",
    "        if left < self.size and self.heap[left] > self.heap[largest]:\n",
    "            largest = left\n",
    "        \n",
    "        if right < self.size and self.heap[right] > self.heap[largest]:\n",
    "            largest = right\n",
    "        \n",
    "        if largest != i:\n",
    "            self.heap[i] ,self.heap[largest] = self.heap[largest] ,self.heap[i]\n",
    "            self.maxHeapify(largest)\n",
    "    \n",
    "    def insertKey(self ,data):\n",
    "        if self.size == self.capacity:\n",
    "            return -1\n",
    "        \n",
    "        self.heap[self.size] = data\n",
    "        child = self.size\n",
    "        parent = (child-1) // 2\n",
    "        self.size += 1\n",
    "        \n",
    "        while child > 0 and self.heap[parent] < self.heap[child]:\n",
    "            self.heap[parent] ,self.heap[child] = self.heap[child] ,self.heap[parent]\n",
    "            child = parent \n",
    "            parent = (parent-1) // 2\n",
    "    \n",
    "    def deleteKey(self ,i):\n",
    "        \n",
    "        if self.size == 0:\n",
    "            return -1\n",
    "        \n",
    "        self.size -= 1\n",
    "        self.heap[i] = self.heap[self.size]\n",
    "        self.heap[self.size] = 0\n",
    "        self.maxHeapify(i)\n",
    "    \n",
    "    def peek(self):\n",
    "        if self.size == 0:\n",
    "            return -1\n",
    "        return self.heap[0]\n",
    "    \n",
    "    def extractMax(self):\n",
    "        \n",
    "        if self.size == 0:\n",
    "            return -1\n",
    "        \n",
    "        data = self.heap[0]\n",
    "        self.deleteKey(0)\n",
    "        \n",
    "        return data"
   ]
  },
  {
   "cell_type": "code",
   "execution_count": 10,
   "metadata": {},
   "outputs": [],
   "source": [
    "def kLargest(arr ,k):\n",
    "    \n",
    "    heap = MaxHeap(len(arr))\n",
    "    \n",
    "    # Build MaxHeap\n",
    "    for i in range(len(arr)):\n",
    "        heap.insertKey(arr[i])\n",
    "    \n",
    "    while k-1:\n",
    "        heap.deleteKey(0)\n",
    "        k -= 1\n",
    "        \n",
    "    return heap.extractMax()"
   ]
  },
  {
   "cell_type": "code",
   "execution_count": 11,
   "metadata": {},
   "outputs": [
    {
     "data": {
      "text/plain": [
       "10"
      ]
     },
     "execution_count": 11,
     "metadata": {},
     "output_type": "execute_result"
    }
   ],
   "source": [
    "arr = [7, 10, 4, 3, 20, 15]\n",
    "kLargest(arr ,3)"
   ]
  },
  {
   "cell_type": "code",
   "execution_count": 12,
   "metadata": {},
   "outputs": [
    {
     "data": {
      "text/plain": [
       "7"
      ]
     },
     "execution_count": 12,
     "metadata": {},
     "output_type": "execute_result"
    }
   ],
   "source": [
    "arr = [7, 10, 4, 3, 20, 15]\n",
    "kLargest(arr ,4)"
   ]
  },
  {
   "cell_type": "markdown",
   "metadata": {},
   "source": [
    "### K-Largest \n",
    "Using Min-Heap"
   ]
  },
  {
   "cell_type": "code",
   "execution_count": 13,
   "metadata": {},
   "outputs": [],
   "source": [
    "class MinHeap:\n",
    "    \n",
    "    def __init__(self ,capacity):\n",
    "        self.capacity = capacity\n",
    "        self.heap = [0 for _ in range(self.capacity)]\n",
    "        self.size = 0\n",
    "        \n",
    "    def minHeapify(self ,i):\n",
    "        smallest = i\n",
    "        left = 2 * i + 1\n",
    "        right = 2 * i + 2\n",
    "        \n",
    "        if left < self.size and self.heap[left] < self.heap[smallest]:\n",
    "            smallest = left\n",
    "        \n",
    "        if right < self.size and self.heap[right] < self.heap[smallest]:\n",
    "            smallest = right\n",
    "        \n",
    "        if smallest != i:\n",
    "            self.heap[smallest] ,self.heap[i] = self.heap[i] ,self.heap[smallest]\n",
    "            self.minHeapify(smallest)\n",
    "    \n",
    "    def insertKey(self ,data):\n",
    "        \n",
    "        if self.size == self.capacity:\n",
    "            return -1\n",
    "        \n",
    "        self.heap[self.size] = data\n",
    "        child = self.size\n",
    "        parent = (child-1) // 2\n",
    "        self.size += 1\n",
    "        \n",
    "        while child > 0 and self.heap[parent] > self.heap[child]:\n",
    "            self.heap[parent] ,self.heap[child] = self.heap[child] ,self.heap[parent]\n",
    "            child = parent\n",
    "            parent = (child-1) // 2\n",
    "    \n",
    "    def deleteKey(self ,i):\n",
    "        if self.size == 0:\n",
    "            return -1\n",
    "        \n",
    "        self.size -= 1\n",
    "        self.heap[i] = self.heap[self.size]\n",
    "        self.heap[self.size] = 0\n",
    "        self.minHeapify(i)\n",
    "    \n",
    "    def peek(self):\n",
    "        if self.size == 0:\n",
    "            return -1\n",
    "        \n",
    "        return self.heap[0]\n",
    "    \n",
    "    def extractMax(self):\n",
    "        if self.size == 0:\n",
    "            return -1\n",
    "        \n",
    "        data = self.peek()\n",
    "        self.deleteKey(0)\n",
    "        \n",
    "        return data"
   ]
  },
  {
   "cell_type": "code",
   "execution_count": 14,
   "metadata": {},
   "outputs": [],
   "source": [
    "def kLargest(arr ,k):\n",
    "    \n",
    "    heap = MinHeap(k)\n",
    "    \n",
    "    # Build MinHeap\n",
    "    for i in range(k):\n",
    "        heap.insertKey(arr[i])\n",
    "    \n",
    "    for i in range(k ,len(arr)):\n",
    "        if heap.peek() <= arr[i]:\n",
    "            heap.deleteKey(0)\n",
    "            heap.insertKey(arr[i])\n",
    "    \n",
    "    return heap.peek()"
   ]
  },
  {
   "cell_type": "code",
   "execution_count": 15,
   "metadata": {},
   "outputs": [
    {
     "data": {
      "text/plain": [
       "10"
      ]
     },
     "execution_count": 15,
     "metadata": {},
     "output_type": "execute_result"
    }
   ],
   "source": [
    "arr = [7, 10, 4, 3, 20, 15]\n",
    "kLargest(arr ,3)"
   ]
  },
  {
   "cell_type": "code",
   "execution_count": 16,
   "metadata": {},
   "outputs": [
    {
     "data": {
      "text/plain": [
       "7"
      ]
     },
     "execution_count": 16,
     "metadata": {},
     "output_type": "execute_result"
    }
   ],
   "source": [
    "arr = [7, 10, 4, 3, 20, 15]\n",
    "kLargest(arr ,4)"
   ]
  },
  {
   "cell_type": "code",
   "execution_count": null,
   "metadata": {},
   "outputs": [],
   "source": []
  }
 ],
 "metadata": {
  "kernelspec": {
   "display_name": "Python 3",
   "language": "python",
   "name": "python3"
  },
  "language_info": {
   "codemirror_mode": {
    "name": "ipython",
    "version": 3
   },
   "file_extension": ".py",
   "mimetype": "text/x-python",
   "name": "python",
   "nbconvert_exporter": "python",
   "pygments_lexer": "ipython3",
   "version": "3.7.6"
  }
 },
 "nbformat": 4,
 "nbformat_minor": 2
}
