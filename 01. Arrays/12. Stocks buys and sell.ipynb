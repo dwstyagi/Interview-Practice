{
 "cells": [
  {
   "cell_type": "markdown",
   "metadata": {},
   "source": [
    "The cost of a stock on each day is given in an array, find the max profit that you can make by buying and selling in those days. For example, if the given array is {100, 180, 260, 310, 40, 535, 695}, the maximum profit can earned by buying on day 0, selling on day 3. Again buy on day 4 and sell on day 6. If the given array of prices is sorted in decreasing order, then profit cannot be earned at all.\n",
    "\n",
    "```\n",
    "Following is algorithm for this problem. \n",
    "1. Find the local minima and store it as starting index. If not exists, return.\n",
    "2. Find the local maxima. and store it as ending index. If we reach the end, \n",
    "   set the end as ending index.\n",
    "3. Update the solution (Increment count of buy sell pairs)\n",
    "4. Repeat the above steps if end is not reached.\n",
    "```"
   ]
  },
  {
   "cell_type": "code",
   "execution_count": 1,
   "metadata": {},
   "outputs": [],
   "source": [
    "def sellAndBuyStock(prices):\n",
    "    localMinima = 0\n",
    "    n = len(arr)\n",
    "    i = 0\n",
    "    \n",
    "    while i < n-1:\n",
    "        \n",
    "        # find minima for buying \n",
    "        while i < n-1 and prices[i] >= prices[i+1]:\n",
    "            i += 1\n",
    "        \n",
    "        if i == n-1:\n",
    "            return 0\n",
    "        \n",
    "        buy = i\n",
    "        \n",
    "        # For selling find maxima  \n",
    "        i += 1\n",
    "        while i < n-1 and prices[i] <= prices[i+1]:\n",
    "            i += 1\n",
    "        \n",
    "        sell = i\n",
    "        \n",
    "        print('({} {})'.format(buy, sell),end=\" \")\n",
    "        \n",
    "        "
   ]
  },
  {
   "cell_type": "code",
   "execution_count": 2,
   "metadata": {},
   "outputs": [
    {
     "name": "stdout",
     "output_type": "stream",
     "text": [
      "(0 3) (4 6) "
     ]
    }
   ],
   "source": [
    "arr = [100 ,180 ,260 ,310 ,40 ,535 ,695]\n",
    "sellAndBuyStock(arr)"
   ]
  },
  {
   "cell_type": "code",
   "execution_count": null,
   "metadata": {},
   "outputs": [],
   "source": []
  }
 ],
 "metadata": {
  "kernelspec": {
   "display_name": "Python 3",
   "language": "python",
   "name": "python3"
  },
  "language_info": {
   "codemirror_mode": {
    "name": "ipython",
    "version": 3
   },
   "file_extension": ".py",
   "mimetype": "text/x-python",
   "name": "python",
   "nbconvert_exporter": "python",
   "pygments_lexer": "ipython3",
   "version": "3.7.3"
  }
 },
 "nbformat": 4,
 "nbformat_minor": 2
}
