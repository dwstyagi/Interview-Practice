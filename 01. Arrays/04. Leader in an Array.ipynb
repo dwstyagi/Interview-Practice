{
 "cells": [
  {
   "cell_type": "markdown",
   "metadata": {},
   "source": [
    "An element is leader if it is greater than all the elements to its right side. And the rightmost element is always a leader.<br> \n",
    "For example int the array {16, 17, 4, 3, 5, 2},<br> \n",
    "leaders are 17, 5 and 2. "
   ]
  },
  {
   "cell_type": "code",
   "execution_count": 14,
   "metadata": {},
   "outputs": [],
   "source": [
    "def leader(arr):\n",
    "    \n",
    "    l = []\n",
    "    \n",
    "    max = float('-inf')\n",
    "    for i in range(len(arr)-1 ,-1 ,-1):\n",
    "        if max < arr[i]:\n",
    "            max = arr[i]\n",
    "            l.append(max)\n",
    "    \n",
    "    return l"
   ]
  },
  {
   "cell_type": "code",
   "execution_count": 15,
   "metadata": {},
   "outputs": [
    {
     "name": "stdout",
     "output_type": "stream",
     "text": [
      "17 5 2 "
     ]
    }
   ],
   "source": [
    "arr = [16, 17, 4, 3, 5, 2]\n",
    "leaders = leader(arr)\n",
    "\n",
    "for i in range(len(leaders)-1 ,-1 ,-1):\n",
    "    print(leaders[i],end=\" \")"
   ]
  },
  {
   "cell_type": "code",
   "execution_count": null,
   "metadata": {},
   "outputs": [],
   "source": []
  }
 ],
 "metadata": {
  "kernelspec": {
   "display_name": "Python 3",
   "language": "python",
   "name": "python3"
  },
  "language_info": {
   "codemirror_mode": {
    "name": "ipython",
    "version": 3
   },
   "file_extension": ".py",
   "mimetype": "text/x-python",
   "name": "python",
   "nbconvert_exporter": "python",
   "pygments_lexer": "ipython3",
   "version": "3.7.3"
  }
 },
 "nbformat": 4,
 "nbformat_minor": 2
}
