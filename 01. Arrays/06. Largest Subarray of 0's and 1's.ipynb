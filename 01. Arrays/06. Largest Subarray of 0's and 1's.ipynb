{
 "cells": [
  {
   "cell_type": "markdown",
   "metadata": {},
   "source": [
    "Given an array containing only 0s and 1s, find the largest subarray which contain equal no of 0s and 1s. Expected time complexity is O(n). <br>\n",
    "\n",
    "```\n",
    "Input: arr[] = {1, 0, 1, 1, 1, 0, 0}\n",
    "Output: 1 to 6 (Starting and Ending indexes of output subarray)\n",
    "\n",
    "Input: arr[] = {1, 1, 1, 1}\n",
    "Output: No such subarray\n",
    "\n",
    "Input: arr[] = {0, 0, 1, 1, 0}\n",
    "Output: 0 to 3 Or 1 to 4\n",
    "```"
   ]
  },
  {
   "cell_type": "markdown",
   "metadata": {},
   "source": [
    "**Method 1 (Simple)**<br>\n",
    "A simple method is to use two nested loops. The outer loop picks a starting point i. The inner loop considers all subarrays starting from i. If size of a subarray is greater than maximum size so far, then update the maximum size.<br>\n",
    "In the below code, 0s are considered as -1 and sum of all values from i to j is calculated. If sum becomes 0, then size of this subarray is compared with largest size so far."
   ]
  },
  {
   "cell_type": "code",
   "execution_count": 5,
   "metadata": {},
   "outputs": [],
   "source": [
    "def largestSubarray(arr):\n",
    "    \n",
    "    n = len(arr)\n",
    "    maxSize = 0\n",
    "    \n",
    "    for i in range(len(arr)):\n",
    "        \n",
    "        if arr[i] == 0:\n",
    "            sum = -1\n",
    "        else:\n",
    "            sum = 1\n",
    "        \n",
    "        for j in range(i+1,n):\n",
    "            if arr[j] == 0:\n",
    "                sum += -1\n",
    "            else:\n",
    "                sum += 1\n",
    "            \n",
    "            if sum == 0 and maxSize < j-i+1:\n",
    "                maxSize = j-i+1\n",
    "                start = i\n",
    "            \n",
    "    \n",
    "    if maxSize == 0:\n",
    "        return -1\n",
    "    else:\n",
    "        return [start ,start+maxSize-1]"
   ]
  },
  {
   "cell_type": "code",
   "execution_count": 6,
   "metadata": {},
   "outputs": [
    {
     "data": {
      "text/plain": [
       "[1, 6]"
      ]
     },
     "execution_count": 6,
     "metadata": {},
     "output_type": "execute_result"
    }
   ],
   "source": [
    "arr = [1, 0, 1, 1, 1, 0, 0]\n",
    "largestSubarray(arr)"
   ]
  },
  {
   "cell_type": "code",
   "execution_count": 7,
   "metadata": {},
   "outputs": [
    {
     "data": {
      "text/plain": [
       "[0, 5]"
      ]
     },
     "execution_count": 7,
     "metadata": {},
     "output_type": "execute_result"
    }
   ],
   "source": [
    "arr = [1, 0, 0, 1, 0, 1, 1]\n",
    "largestSubarray(arr)"
   ]
  },
  {
   "cell_type": "code",
   "execution_count": 8,
   "metadata": {},
   "outputs": [
    {
     "data": {
      "text/plain": [
       "-1"
      ]
     },
     "execution_count": 8,
     "metadata": {},
     "output_type": "execute_result"
    }
   ],
   "source": [
    "arr = [1,1,1,1]\n",
    "largestSubarray(arr)"
   ]
  },
  {
   "cell_type": "markdown",
   "metadata": {},
   "source": [
    "**Method 2 (Tricky)**<br>\n",
    "Following is a solution that uses O(n) extra space and solves the problem in O(n) time complexity.<br>\n",
    "Let input array be arr[] of size n and maxsize be the size of output subarray.<br>\n",
    "<ol>\n",
    "<li> Consider all 0 values as -1. The problem now reduces to find out the maximum length subarray with sum = 0.\n",
    "<li> Create a temporary array sumleft[] of size n. Store the sum of all elements from arr[0] to arr[i] in sumleft[i]. This can be done in O(n) time.\n",
    "<li> There are two cases, the output subarray may start from 0th index or may start from some other        index. We will return the max of the values obtained by two cases.\n",
    "<li> To find the maximum length subarray starting from 0th index, scan the sumleft[] and find the          maximum i where sumleft[i] = 0.\n",
    "<li> Now, we need to find the subarray where subarray sum is 0 and start index is not 0. This problem      is equivalent to finding two indexes i & j in sumleft[] such that sumleft[i] = sumleft[j] and j-i    is maximum. To solve this, we can create a hash table with size = max-min+1 where min is the          minimum value in the sumleft[] and max is the maximum value in the sumleft[]. The idea is to hash    the leftmost occurrences of all different values in sumleft[]. The size of hash is chosen as max-    min+1 because there can be these many different possible values in sumleft[]. Initialize all          values in hash as -1\n",
    "<li> To fill and use hash[], traverse sumleft[] from 0 to n-1. If a value is not present in hash[],        then store its index in hash. If the value is present, then calculate the difference of current      index of sumleft[] and previously stored value in hash[]. If this difference is more than maxsize,    then update the maxsize.\n",
    "<li> To handle corner cases (all 1s and all 0s), we initialize maxsize as -1. If the maxsize remains      -1, then print there is no such subarray.\n",
    "</ol>\n"
   ]
  },
  {
   "cell_type": "code",
   "execution_count": 1,
   "metadata": {},
   "outputs": [],
   "source": [
    "def largestSubarray(arr):\n",
    "    \n",
    "    for i in range(len(arr)):\n",
    "        if arr[i] == 0:\n",
    "            arr[i] = -1\n",
    "    \n",
    "    sum = 0\n",
    "    Map = {}\n",
    "    \n",
    "    # Key = Sum until index i\n",
    "    # Value = Index i \n",
    "    \n",
    "    start = 0\n",
    "    end = 0\n",
    "    \n",
    "    for i in range(len(arr)):\n",
    "        \n",
    "        sum += arr[i]\n",
    "        \n",
    "        if sum in Map.keys():\n",
    "            l = Map[sum] + 1\n",
    "            r = i\n",
    "            \n",
    "            if r - l > end - start:\n",
    "                start = l\n",
    "                end = r\n",
    "        else:\n",
    "            Map[sum] = i\n",
    "    \n",
    "    for i in range(len(arr)):\n",
    "        if arr[i] == -1:\n",
    "            arr[i] = 0\n",
    "    \n",
    "    if start == 0 and end == 0:\n",
    "        return -1\n",
    "    else:\n",
    "        return arr[start:end+1]\n",
    "        "
   ]
  },
  {
   "cell_type": "code",
   "execution_count": 2,
   "metadata": {},
   "outputs": [
    {
     "output_type": "execute_result",
     "data": {
      "text/plain": [
       "[0, 1, 1, 1, 0, 0]"
      ]
     },
     "metadata": {},
     "execution_count": 2
    }
   ],
   "source": [
    "arr = [1, 0, 1, 1, 1, 0, 0]\n",
    "largestSubarray(arr)"
   ]
  },
  {
   "cell_type": "code",
   "execution_count": 3,
   "metadata": {},
   "outputs": [
    {
     "output_type": "execute_result",
     "data": {
      "text/plain": [
       "[0, 0, 1, 0, 1, 1]"
      ]
     },
     "metadata": {},
     "execution_count": 3
    }
   ],
   "source": [
    "arr = [1, 0, 0, 1, 0, 1, 1]\n",
    "largestSubarray(arr)"
   ]
  },
  {
   "cell_type": "code",
   "execution_count": 4,
   "metadata": {},
   "outputs": [
    {
     "output_type": "execute_result",
     "data": {
      "text/plain": [
       "-1"
      ]
     },
     "metadata": {},
     "execution_count": 4
    }
   ],
   "source": [
    "arr = [1,1,1,1]\n",
    "largestSubarray(arr)"
   ]
  },
  {
   "cell_type": "code",
   "execution_count": null,
   "metadata": {},
   "outputs": [],
   "source": []
  }
 ],
 "metadata": {
  "kernelspec": {
   "name": "python3",
   "display_name": "Python 3.9.5 64-bit"
  },
  "language_info": {
   "codemirror_mode": {
    "name": "ipython",
    "version": 3
   },
   "file_extension": ".py",
   "mimetype": "text/x-python",
   "name": "python",
   "nbconvert_exporter": "python",
   "pygments_lexer": "ipython3",
   "version": "3.9.5"
  },
  "interpreter": {
   "hash": "63fd5069d213b44bf678585dea6b12cceca9941eaf7f819626cde1f2670de90d"
  }
 },
 "nbformat": 4,
 "nbformat_minor": 2
}