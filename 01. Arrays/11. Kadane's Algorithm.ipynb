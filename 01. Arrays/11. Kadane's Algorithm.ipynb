{
 "cells": [
  {
   "cell_type": "markdown",
   "metadata": {},
   "source": [
    "**Largest Sum Contiguous Subarray**"
   ]
  },
  {
   "cell_type": "markdown",
   "metadata": {},
   "source": [
    "<img src=\"https://media.geeksforgeeks.org/wp-content/cdn-uploads/kadane-Algorithm.png\" width=\"300\" align=\"left\">"
   ]
  },
  {
   "cell_type": "markdown",
   "metadata": {},
   "source": [
    "**Sliding Window Algorithm**<br>\n",
    "Time: O(n2)"
   ]
  },
  {
   "cell_type": "code",
   "execution_count": 5,
   "metadata": {},
   "outputs": [],
   "source": [
    "def largestSum(arr):\n",
    "    maxSum = float('-inf')\n",
    "    \n",
    "    left = 0\n",
    "    while left <= len(arr)-1:\n",
    "        sum = 0\n",
    "        for i in range(left ,len(arr)):\n",
    "            sum += arr[i]\n",
    "            \n",
    "            maxSum = max(sum ,maxSum)\n",
    "        \n",
    "        left += 1\n",
    "        \n",
    "    return maxSum\n",
    "    "
   ]
  },
  {
   "cell_type": "code",
   "execution_count": 6,
   "metadata": {},
   "outputs": [
    {
     "data": {
      "text/plain": [
       "7"
      ]
     },
     "execution_count": 6,
     "metadata": {},
     "output_type": "execute_result"
    }
   ],
   "source": [
    "arr = [-2 ,-3 ,4 ,-1 ,-2 ,1 ,5 ,-3]\n",
    "largestSum(arr)"
   ]
  },
  {
   "cell_type": "markdown",
   "metadata": {},
   "source": [
    "**Kadane's Algorithm**"
   ]
  },
  {
   "cell_type": "code",
   "execution_count": 7,
   "metadata": {},
   "outputs": [],
   "source": [
    "def largest(arr):\n",
    "    \n",
    "    sum = arr[0]\n",
    "    maxSum = arr[0]\n",
    "    \n",
    "    for i in range(1, len(arr)):\n",
    "        sum = max(sum+arr[i] ,arr[i])\n",
    "        \n",
    "        maxSum = max(sum ,maxSum)\n",
    "    \n",
    "    return maxSum"
   ]
  },
  {
   "cell_type": "code",
   "execution_count": 8,
   "metadata": {},
   "outputs": [
    {
     "data": {
      "text/plain": [
       "7"
      ]
     },
     "execution_count": 8,
     "metadata": {},
     "output_type": "execute_result"
    }
   ],
   "source": [
    "arr = [-2 ,-3 ,4 ,-1 ,-2 ,1 ,5 ,-3]\n",
    "largestSum(arr)"
   ]
  },
  {
   "cell_type": "code",
   "execution_count": 4,
   "metadata": {},
   "outputs": [],
   "source": [
    "def maxSubArray(nums):\n",
    "        \n",
    "    dp = [i for i in nums]\n",
    "    n = len(nums)\n",
    "\n",
    "    for i in range(1 ,n):\n",
    "        dp[i] = max(arr[i] ,arr[i] + dp[i-1])\n",
    "\n",
    "    return (dp)"
   ]
  },
  {
   "cell_type": "code",
   "execution_count": 5,
   "metadata": {},
   "outputs": [
    {
     "data": {
      "text/plain": [
       "[-2, -3, 4, 3, 1, 2, 7, 4]"
      ]
     },
     "execution_count": 5,
     "metadata": {},
     "output_type": "execute_result"
    }
   ],
   "source": [
    "arr = [-2 ,-3 ,4 ,-1 ,-2 ,1 ,5 ,-3]\n",
    "maxSubArray(arr)"
   ]
  },
  {
   "cell_type": "code",
   "execution_count": null,
   "metadata": {},
   "outputs": [],
   "source": []
  }
 ],
 "metadata": {
  "kernelspec": {
   "display_name": "Python 3",
   "language": "python",
   "name": "python3"
  },
  "language_info": {
   "codemirror_mode": {
    "name": "ipython",
    "version": 3
   },
   "file_extension": ".py",
   "mimetype": "text/x-python",
   "name": "python",
   "nbconvert_exporter": "python",
   "pygments_lexer": "ipython3",
   "version": "3.7.6"
  }
 },
 "nbformat": 4,
 "nbformat_minor": 2
}
