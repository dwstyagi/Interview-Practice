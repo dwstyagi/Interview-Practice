{
 "cells": [
  {
   "cell_type": "markdown",
   "metadata": {},
   "source": [
    "Given n non-negative integers representing an elevation map where the width of each bar is 1, compute how much water it is able to trap after raining."
   ]
  },
  {
   "cell_type": "markdown",
   "metadata": {},
   "source": [
    "<img src=\"https://www.geeksforgeeks.org/wp-content/uploads/watertrap.png\" width=\"200\" align=\"left\" >"
   ]
  },
  {
   "cell_type": "code",
   "execution_count": 1,
   "metadata": {},
   "outputs": [],
   "source": [
    "def trapWater(arr):\n",
    "    \n",
    "    n = len(arr)\n",
    "    water = [0] * n\n",
    "    \n",
    "    for i in range(1 ,n-1):\n",
    "        \n",
    "        left = arr[i]\n",
    "        for j in range(i-1 ,-1 ,-1):\n",
    "            left = max(left ,arr[j])\n",
    "        \n",
    "        right = arr[i]\n",
    "        for j in range(i+1 ,n):\n",
    "            right = max(right ,arr[j])\n",
    "        \n",
    "        \n",
    "        water[i] += min(left ,right) - arr[i]\n",
    "    \n",
    "    return sum(water)\n",
    "        "
   ]
  },
  {
   "cell_type": "code",
   "execution_count": 2,
   "metadata": {},
   "outputs": [
    {
     "data": {
      "text/plain": [
       "10"
      ]
     },
     "execution_count": 2,
     "metadata": {},
     "output_type": "execute_result"
    }
   ],
   "source": [
    "arr = [3,0,0,2,0,4]\n",
    "trapWater(arr)"
   ]
  },
  {
   "cell_type": "code",
   "execution_count": 3,
   "metadata": {},
   "outputs": [
    {
     "data": {
      "text/plain": [
       "11"
      ]
     },
     "execution_count": 3,
     "metadata": {},
     "output_type": "execute_result"
    }
   ],
   "source": [
    "arr = [1,5,2,3,1,7,2,4]\n",
    "trapWater(arr)"
   ]
  },
  {
   "cell_type": "markdown",
   "metadata": {},
   "source": [
    "**Efficient Solution will be**  we will just maintain two variables to store the maximum till that point. Since water trapped at any element = min( max_left, max_right) – arr[i] we will calculate water trapped on smaller element out of A[lo] and A[hi] first and move the pointers till lo doesn’t cross hi."
   ]
  },
  {
   "cell_type": "code",
   "execution_count": 4,
   "metadata": {},
   "outputs": [],
   "source": [
    "def trapWater(arr):\n",
    "    \n",
    "    n = len(arr)\n",
    "    left = [0] * n\n",
    "    right = [0] * n\n",
    "    water = 0\n",
    "    \n",
    "    left[0] = arr[0]\n",
    "    for i in range(1, n):\n",
    "        left[i] = max(left[i-1] ,arr[i])\n",
    "    \n",
    "    right[-1] = arr[-1]\n",
    "    for i in range(n-2 ,-1 ,-1):\n",
    "        right[i] = max(right[i+1] ,arr[i])\n",
    "    \n",
    "    for i in range(n):\n",
    "        water += min(left[i] ,right[i]) - arr[i]\n",
    "    \n",
    "    return water"
   ]
  },
  {
   "cell_type": "code",
   "execution_count": 5,
   "metadata": {},
   "outputs": [
    {
     "data": {
      "text/plain": [
       "10"
      ]
     },
     "execution_count": 5,
     "metadata": {},
     "output_type": "execute_result"
    }
   ],
   "source": [
    "arr = [3,0,0,2,0,4]\n",
    "trapWater(arr)"
   ]
  },
  {
   "cell_type": "code",
   "execution_count": 6,
   "metadata": {},
   "outputs": [
    {
     "data": {
      "text/plain": [
       "11"
      ]
     },
     "execution_count": 6,
     "metadata": {},
     "output_type": "execute_result"
    }
   ],
   "source": [
    "arr = [1,5,2,3,1,7,2,4]\n",
    "trapWater(arr)"
   ]
  },
  {
   "cell_type": "markdown",
   "metadata": {},
   "source": [
    "**Optimal Solution** <br>\n",
    "Time: O(n) <br>\n",
    "space: O(1)"
   ]
  },
  {
   "cell_type": "code",
   "execution_count": 7,
   "metadata": {},
   "outputs": [],
   "source": [
    "def trapWater(arr):\n",
    "    \n",
    "    first = 0\n",
    "    last = len(arr) - 1\n",
    "    \n",
    "    water = 0\n",
    "    \n",
    "    leftMax = 0\n",
    "    rightMax = 0\n",
    "    \n",
    "    while first < last:\n",
    "        \n",
    "        # last wall is bigger than 1st\n",
    "        # i.e., we go toward the minimum one\n",
    "        if arr[first] < arr[last]:\n",
    "            \n",
    "            if arr[first] >= leftMax:\n",
    "                # we curr wall is bigger than\n",
    "                # max wall than update max wall\n",
    "                leftMax = arr[first]\n",
    "            \n",
    "            else:\n",
    "                # we can store water here\n",
    "                water += leftMax - arr[first]\n",
    "            \n",
    "            first += 1\n",
    "        \n",
    "        else:\n",
    "            # here last wall is minimum\n",
    "            # we can find here the amount \n",
    "            # of water stored using the\n",
    "            # minimum wall because we only \n",
    "            # care about minimum\n",
    "            if arr[last] >= rightMax:\n",
    "                rightMax = arr[last]\n",
    "            \n",
    "            else:\n",
    "                # we can store water here\n",
    "                water += rightMax - arr[last]\n",
    "            \n",
    "            last -= 1\n",
    "    \n",
    "    return water"
   ]
  },
  {
   "cell_type": "code",
   "execution_count": 8,
   "metadata": {},
   "outputs": [
    {
     "data": {
      "text/plain": [
       "10"
      ]
     },
     "execution_count": 8,
     "metadata": {},
     "output_type": "execute_result"
    }
   ],
   "source": [
    "arr = [3,0,0,2,0,4]\n",
    "trapWater(arr)"
   ]
  },
  {
   "cell_type": "code",
   "execution_count": 9,
   "metadata": {},
   "outputs": [
    {
     "data": {
      "text/plain": [
       "11"
      ]
     },
     "execution_count": 9,
     "metadata": {},
     "output_type": "execute_result"
    }
   ],
   "source": [
    "arr = [1,5,2,3,1,7,2,4]\n",
    "trapWater(arr)"
   ]
  },
  {
   "cell_type": "code",
   "execution_count": null,
   "metadata": {},
   "outputs": [],
   "source": []
  }
 ],
 "metadata": {
  "kernelspec": {
   "display_name": "Python 3",
   "language": "python",
   "name": "python3"
  },
  "language_info": {
   "codemirror_mode": {
    "name": "ipython",
    "version": 3
   },
   "file_extension": ".py",
   "mimetype": "text/x-python",
   "name": "python",
   "nbconvert_exporter": "python",
   "pygments_lexer": "ipython3",
   "version": "3.8.5"
  }
 },
 "nbformat": 4,
 "nbformat_minor": 2
}
