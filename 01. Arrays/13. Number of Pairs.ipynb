{
 "cells": [
  {
   "cell_type": "markdown",
   "metadata": {},
   "source": [
    "**Find number of pairs (x, y) in an array such that x^y > y^x**"
   ]
  },
  {
   "cell_type": "markdown",
   "metadata": {},
   "source": [
    "```\n",
    "Input: X[] = {2, 1, 6}, Y = {1, 5}\n",
    "Output: 3\n",
    "Explanation: There are total 3 pairs where pow(x, y) is greater\n",
    "than pow(y, x) Pairs are (2, 1), (2, 5) and (6, 1)\n",
    "\n",
    "\n",
    "\n",
    "Input: X[] = {10, 19, 18}, Y[] = {11, 15, 9}\n",
    "Output: 2\n",
    "Explanation: There are total 2 pairs where pow(x, y) is greater\n",
    "than pow(y, x) Pairs are (10, 11) and (10, 15)\n",
    "```"
   ]
  },
  {
   "cell_type": "code",
   "execution_count": 1,
   "metadata": {},
   "outputs": [],
   "source": [
    "def pairs(X ,Y):\n",
    "    \n",
    "    count = 0\n",
    "    for i in range(len(X)):\n",
    "        for j in range(len(Y)):\n",
    "            \n",
    "            if (X[i] ** Y[j]) > (Y[j] ** X[i]):\n",
    "                count += 1\n",
    "    \n",
    "    return count"
   ]
  },
  {
   "cell_type": "code",
   "execution_count": 2,
   "metadata": {},
   "outputs": [
    {
     "data": {
      "text/plain": [
       "3"
      ]
     },
     "execution_count": 2,
     "metadata": {},
     "output_type": "execute_result"
    }
   ],
   "source": [
    "X = [2, 1, 6]\n",
    "Y = [1 ,5]\n",
    "pairs(X ,Y)"
   ]
  },
  {
   "cell_type": "code",
   "execution_count": 3,
   "metadata": {},
   "outputs": [
    {
     "data": {
      "text/plain": [
       "2"
      ]
     },
     "execution_count": 3,
     "metadata": {},
     "output_type": "execute_result"
    }
   ],
   "source": [
    "X = [10, 19, 18]\n",
    "Y = [11 ,15 ,9]\n",
    "pairs(X ,Y)"
   ]
  },
  {
   "cell_type": "markdown",
   "metadata": {},
   "source": [
    "**Efficient Solution**"
   ]
  },
  {
   "cell_type": "markdown",
   "metadata": {},
   "source": [
    "The trick here is, if y > x then x^y > y^x with some exceptions.<br>\n",
    "Following are exceptions for x from X[] and y from Y[]<br>\n",
    "1. If x = 0, then the count of pairs for this x is 0.\n",
    "2. If x = 1, then the count of pairs for this x is equal to count of 0s in Y[].\n",
    "3. x smaller than y means x^y is greater than y^x.<br> \n",
    "   x = 2, y = 3 or 4(Not for This) <br>\n",
    "   x = 3, y = 2 <br>\n",
    "\n",
    "**Algorithm**<br>\n",
    "Following are simple steps based on this trick.\n",
    "1. Sort array Y[].\n",
    "2. For every x in X[], find the index idx of smallest number greater than x (also called ceil of x)      in Y[] using binary search or we can use the inbuilt function upper_bound() in algorithm library.\n",
    "3. All the numbers after idx satisfy the relation so just add (n-idx) to the count."
   ]
  },
  {
   "cell_type": "code",
   "execution_count": null,
   "metadata": {},
   "outputs": [],
   "source": []
  }
 ],
 "metadata": {
  "kernelspec": {
   "display_name": "Python 3",
   "language": "python",
   "name": "python3"
  },
  "language_info": {
   "codemirror_mode": {
    "name": "ipython",
    "version": 3
   },
   "file_extension": ".py",
   "mimetype": "text/x-python",
   "name": "python",
   "nbconvert_exporter": "python",
   "pygments_lexer": "ipython3",
   "version": "3.7.3"
  }
 },
 "nbformat": 4,
 "nbformat_minor": 2
}
