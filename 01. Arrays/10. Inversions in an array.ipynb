{
 "cells": [
  {
   "cell_type": "markdown",
   "metadata": {},
   "source": [
    "Inversion Count for an array indicates – how far (or close) the array is from being sorted. If array is already sorted then inversion count is 0. If array is sorted in reverse order that inversion count is the maximum.<br>\n",
    "Formally speaking, two elements a[i] and a[j] form an inversion:<br>\n",
    "if a[i] > a[j] and i < j "
   ]
  },
  {
   "cell_type": "code",
   "execution_count": 1,
   "metadata": {},
   "outputs": [],
   "source": [
    "def inversion(arr):\n",
    "    count = 0\n",
    "    \n",
    "    for i in range(len(arr)):\n",
    "        for j in range(i, len(arr)):\n",
    "            if arr[i] > arr[j]:\n",
    "                count += 1\n",
    "    \n",
    "    return count"
   ]
  },
  {
   "cell_type": "code",
   "execution_count": 2,
   "metadata": {},
   "outputs": [
    {
     "data": {
      "text/plain": [
       "3"
      ]
     },
     "execution_count": 2,
     "metadata": {},
     "output_type": "execute_result"
    }
   ],
   "source": [
    "arr = [2 ,4 ,1 ,3 ,5]\n",
    "inversion(arr)"
   ]
  },
  {
   "cell_type": "markdown",
   "metadata": {},
   "source": [
    "**Use Enhance Merge Sort**"
   ]
  },
  {
   "cell_type": "code",
   "execution_count": 13,
   "metadata": {},
   "outputs": [],
   "source": [
    "def inversion(arr ,temp ,left ,right):\n",
    "    \n",
    "    count = 0\n",
    "    if left < right:\n",
    "        \n",
    "        mid = (left + right) // 2\n",
    "        \n",
    "        count = inversion(arr ,temp ,left ,mid)\n",
    "        count += inversion(arr ,temp ,mid+1 ,right)\n",
    "        \n",
    "        count += merge(arr ,temp ,left ,mid ,right)\n",
    "        \n",
    "    return count"
   ]
  },
  {
   "cell_type": "code",
   "execution_count": 23,
   "metadata": {},
   "outputs": [],
   "source": [
    "def merge(arr ,temp ,left ,mid ,right):\n",
    "    \n",
    "    count = 0\n",
    "    i = left \n",
    "    j = mid + 1 \n",
    "    k = left\n",
    "    \n",
    "    while i < mid and j < right:\n",
    "        \n",
    "        if arr[i] <= arr[j]:\n",
    "            temp[k] = arr[i]\n",
    "            k += 1\n",
    "            i += 1\n",
    "        \n",
    "        else:\n",
    "            temp[k] = arr[j]\n",
    "            j += 1\n",
    "            k += 1\n",
    "            count += mid - i + 1\n",
    "    \n",
    "    while i < mid:\n",
    "        temp[k] = arr[i]\n",
    "        i += 1\n",
    "        k += 1\n",
    "    \n",
    "    while j < right:\n",
    "        temp[k] = arr[j]\n",
    "        k += 1\n",
    "        j += 1\n",
    "    \n",
    "    for i in range(len(temp)):\n",
    "        arr[i] = temp[i]\n",
    "    \n",
    "    return count"
   ]
  },
  {
   "cell_type": "code",
   "execution_count": 24,
   "metadata": {},
   "outputs": [
    {
     "data": {
      "text/plain": [
       "3"
      ]
     },
     "execution_count": 24,
     "metadata": {},
     "output_type": "execute_result"
    }
   ],
   "source": [
    "arr = [2 ,4 ,1 ,3 ,5]\n",
    "temp = [0] * len(arr)\n",
    "inversion(arr ,temp ,0 ,len(arr)-1)"
   ]
  },
  {
   "cell_type": "code",
   "execution_count": 25,
   "metadata": {},
   "outputs": [
    {
     "data": {
      "text/plain": [
       "2"
      ]
     },
     "execution_count": 25,
     "metadata": {},
     "output_type": "execute_result"
    }
   ],
   "source": [
    "5//2"
   ]
  },
  {
   "cell_type": "code",
   "execution_count": null,
   "metadata": {},
   "outputs": [],
   "source": []
  }
 ],
 "metadata": {
  "kernelspec": {
   "display_name": "Python 3",
   "language": "python",
   "name": "python3"
  },
  "language_info": {
   "codemirror_mode": {
    "name": "ipython",
    "version": 3
   },
   "file_extension": ".py",
   "mimetype": "text/x-python",
   "name": "python",
   "nbconvert_exporter": "python",
   "pygments_lexer": "ipython3",
   "version": "3.7.3"
  }
 },
 "nbformat": 4,
 "nbformat_minor": 2
}
