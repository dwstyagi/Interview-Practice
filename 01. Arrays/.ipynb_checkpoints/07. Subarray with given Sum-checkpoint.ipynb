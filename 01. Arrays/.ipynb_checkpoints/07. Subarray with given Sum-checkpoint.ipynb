{
 "cells": [
  {
   "cell_type": "markdown",
   "metadata": {},
   "source": [
    "Given an unsorted array of nonnegative integers, find a continuous subarray which adds to a given number. \n",
    "```\n",
    "Examples :\n",
    "Input: arr[] = {1, 4, 20, 3, 10, 5}, sum = 33\n",
    "Ouptut: Sum found between indexes 2 and 4\n",
    "\n",
    "Input: arr[] = {1, 4, 0, 0, 3, 10, 5}, sum = 7\n",
    "Ouptut: Sum found between indexes 1 and 4\n",
    "\n",
    "Input: arr[] = {1, 4}, sum = 0\n",
    "Output: No subarray found\n",
    "```"
   ]
  },
  {
   "cell_type": "code",
   "execution_count": 15,
   "metadata": {},
   "outputs": [],
   "source": [
    "def subarray(arr , Sum):\n",
    "    \n",
    "    n = len(arr)\n",
    "    for i in range(n):\n",
    "        sum = arr[i]\n",
    "        \n",
    "        for j in range(i+1 ,n):\n",
    "            sum += arr[j]\n",
    "            \n",
    "            if sum == Sum:\n",
    "                return str(i)+\" \"+str(j)\n",
    "            \n",
    "            if sum > Sum:\n",
    "                break\n",
    "    \n",
    "    return 0\n",
    "            "
   ]
  },
  {
   "cell_type": "code",
   "execution_count": 16,
   "metadata": {},
   "outputs": [
    {
     "data": {
      "text/plain": [
       "'2 4'"
      ]
     },
     "execution_count": 16,
     "metadata": {},
     "output_type": "execute_result"
    }
   ],
   "source": [
    "arr = [1, 4, 20, 3, 10, 5]\n",
    "subarray(arr ,33)"
   ]
  },
  {
   "cell_type": "markdown",
   "metadata": {},
   "source": [
    "**Sliding Window**"
   ]
  },
  {
   "cell_type": "code",
   "execution_count": 21,
   "metadata": {},
   "outputs": [],
   "source": [
    "def subarray(arr ,Sum):\n",
    "    \n",
    "    left = 0\n",
    "    right = 1\n",
    "    sum = arr[left]\n",
    "    \n",
    "    for _ in range(1,len(arr)):\n",
    "        sum += arr[right]\n",
    "        \n",
    "        while sum >= Sum:\n",
    "            \n",
    "            if sum == Sum :\n",
    "                return \"{} {}\".format(left, right)\n",
    "            \n",
    "            if sum > Sum :\n",
    "                sum -= arr[left]\n",
    "                left += 1\n",
    "        \n",
    "        right += 1\n",
    "    \n",
    "    return 0"
   ]
  },
  {
   "cell_type": "code",
   "execution_count": 25,
   "metadata": {},
   "outputs": [
    {
     "name": "stdout",
     "output_type": "stream",
     "text": [
      "2 4\n"
     ]
    }
   ],
   "source": [
    "arr = [1, 4, 20, 3, 10, 5]\n",
    "print(subarray(arr ,33))"
   ]
  },
  {
   "cell_type": "code",
   "execution_count": null,
   "metadata": {},
   "outputs": [],
   "source": []
  }
 ],
 "metadata": {
  "kernelspec": {
   "display_name": "Python 3",
   "language": "python",
   "name": "python3"
  },
  "language_info": {
   "codemirror_mode": {
    "name": "ipython",
    "version": 3
   },
   "file_extension": ".py",
   "mimetype": "text/x-python",
   "name": "python",
   "nbconvert_exporter": "python",
   "pygments_lexer": "ipython3",
   "version": "3.7.3"
  }
 },
 "nbformat": 4,
 "nbformat_minor": 2
}
