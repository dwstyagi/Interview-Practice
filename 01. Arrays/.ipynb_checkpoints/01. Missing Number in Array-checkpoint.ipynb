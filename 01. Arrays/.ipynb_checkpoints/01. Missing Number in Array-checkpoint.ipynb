{
 "cells": [
  {
   "cell_type": "markdown",
   "metadata": {},
   "source": [
    "```\n",
    "Input: arr[] = {1, 2, 4, 6, 3, 7, 8} ; n = 8\n",
    "Output: 5\n",
    "\n",
    "\n",
    "\n",
    "Input: arr[] = {1, 2, 3, 5}; n = 5\n",
    "Output: 4\n",
    "```"
   ]
  },
  {
   "cell_type": "markdown",
   "metadata": {},
   "source": [
    "**METHOD 1(Use sum formula)**<br>\n",
    "**Algorithm:**<br>\n",
    "1. Get the sum of numbers which is total = n*(n+1)/2\n",
    "2. Subtract all the numbers from sum and\n",
    "   you will get the missing number"
   ]
  },
  {
   "cell_type": "code",
   "execution_count": 1,
   "metadata": {},
   "outputs": [],
   "source": [
    "def missingNumber(arr ,n):\n",
    "    \n",
    "    # Calculate Sum\n",
    "    total = (n * (n+1)) // 2\n",
    "    \n",
    "    # subtract all number in array\n",
    "    # to obtain a missing number\n",
    "    for i in arr:\n",
    "        total -= i\n",
    "        \n",
    "    return total"
   ]
  },
  {
   "cell_type": "code",
   "execution_count": 2,
   "metadata": {},
   "outputs": [
    {
     "data": {
      "text/plain": [
       "5"
      ]
     },
     "execution_count": 2,
     "metadata": {},
     "output_type": "execute_result"
    }
   ],
   "source": [
    "arr = [1, 2, 4, 6, 3, 7, 8]\n",
    "n = 8\n",
    "missingNumber(arr ,n)"
   ]
  },
  {
   "cell_type": "code",
   "execution_count": 4,
   "metadata": {},
   "outputs": [
    {
     "data": {
      "text/plain": [
       "4"
      ]
     },
     "execution_count": 4,
     "metadata": {},
     "output_type": "execute_result"
    }
   ],
   "source": [
    "arr = [1, 2, 3, 5]\n",
    "n = 5\n",
    "missingNumber(arr ,n)"
   ]
  },
  {
   "cell_type": "markdown",
   "metadata": {},
   "source": [
    "If n is very large then here might a overflow.<br>\n",
    "for this we can use XOR property"
   ]
  },
  {
   "cell_type": "markdown",
   "metadata": {},
   "source": [
    "**METHOD 2 (Use XOR)**\n",
    "  1. XOR all the array elements, let the result of XOR be X1.\n",
    "  2. XOR all numbers from 1 to n, let XOR be X2.\n",
    "  3. XOR of X1 and X2 gives the missing number."
   ]
  },
  {
   "cell_type": "code",
   "execution_count": 5,
   "metadata": {},
   "outputs": [],
   "source": [
    "def missingNumber(arr ,n):\n",
    "    \n",
    "    xor_x1 = 0\n",
    "    \n",
    "    # XOR all the array elements,\n",
    "    # result will be x1 \n",
    "    for i in arr:\n",
    "        xor_x1 ^= i\n",
    "    \n",
    "    # XOR all numbers from 1 to n\n",
    "    xor_x2 = 0\n",
    "    for i in range(1, n+1):\n",
    "        xor_x2 ^= i\n",
    "    \n",
    "    return xor_x1 ^ xor_x2"
   ]
  },
  {
   "cell_type": "code",
   "execution_count": 6,
   "metadata": {},
   "outputs": [
    {
     "data": {
      "text/plain": [
       "5"
      ]
     },
     "execution_count": 6,
     "metadata": {},
     "output_type": "execute_result"
    }
   ],
   "source": [
    "arr = [1, 2, 4, 6, 3, 7, 8]\n",
    "n = 8\n",
    "missingNumber(arr ,n)"
   ]
  },
  {
   "cell_type": "code",
   "execution_count": 7,
   "metadata": {},
   "outputs": [
    {
     "data": {
      "text/plain": [
       "4"
      ]
     },
     "execution_count": 7,
     "metadata": {},
     "output_type": "execute_result"
    }
   ],
   "source": [
    "arr = [1, 2, 3, 5]\n",
    "n = 5\n",
    "missingNumber(arr ,n)"
   ]
  },
  {
   "cell_type": "code",
   "execution_count": null,
   "metadata": {},
   "outputs": [],
   "source": []
  }
 ],
 "metadata": {
  "kernelspec": {
   "display_name": "Python 3",
   "language": "python",
   "name": "python3"
  },
  "language_info": {
   "codemirror_mode": {
    "name": "ipython",
    "version": 3
   },
   "file_extension": ".py",
   "mimetype": "text/x-python",
   "name": "python",
   "nbconvert_exporter": "python",
   "pygments_lexer": "ipython3",
   "version": "3.7.3"
  }
 },
 "nbformat": 4,
 "nbformat_minor": 2
}
