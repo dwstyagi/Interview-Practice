{
 "cells": [
  {
   "cell_type": "markdown",
   "metadata": {},
   "source": [
    "A majority element in an array A[] of size n is an element that appears more than n/2 times (and hence there is at most one such element)."
   ]
  },
  {
   "cell_type": "markdown",
   "metadata": {},
   "source": [
    "```\n",
    "Input : {3, 3, 4, 2, 4, 4, 2, 4, 4}\n",
    "Output : 4 \n",
    "\n",
    "Input : {3, 3, 4, 2, 4, 4, 2, 4}\n",
    "Output : No Majority Element\n",
    "```"
   ]
  },
  {
   "cell_type": "code",
   "execution_count": 1,
   "metadata": {},
   "outputs": [],
   "source": [
    "def majorityElement(arr): # Time : O(n2)\n",
    "    \n",
    "    maxCount = 0\n",
    "    \n",
    "    for i in range(len(arr)):\n",
    "        \n",
    "        count = 0\n",
    "        for j in range(len(arr)):\n",
    "            \n",
    "            if arr[i] == arr[j]:\n",
    "                count += 1\n",
    "        \n",
    "        if count > maxCount:\n",
    "            maxCount = count\n",
    "            index = i\n",
    "    \n",
    "    if maxCount > len(arr)//2:\n",
    "        return arr[i]\n",
    "    else:\n",
    "        return -1"
   ]
  },
  {
   "cell_type": "code",
   "execution_count": 2,
   "metadata": {},
   "outputs": [
    {
     "data": {
      "text/plain": [
       "4"
      ]
     },
     "execution_count": 2,
     "metadata": {},
     "output_type": "execute_result"
    }
   ],
   "source": [
    "arr = [3, 3, 4, 2, 4, 4, 2, 4, 4]\n",
    "majorityElement(arr)"
   ]
  },
  {
   "cell_type": "code",
   "execution_count": 3,
   "metadata": {},
   "outputs": [
    {
     "data": {
      "text/plain": [
       "-1"
      ]
     },
     "execution_count": 3,
     "metadata": {},
     "output_type": "execute_result"
    }
   ],
   "source": [
    "arr = [3, 3, 4, 2, 4, 4, 2, 4]\n",
    "majorityElement(arr)"
   ]
  },
  {
   "cell_type": "markdown",
   "metadata": {},
   "source": [
    "**Using HashMap**<br>\n",
    "Time : O(n)<br>\n",
    "Space: O(n)"
   ]
  },
  {
   "cell_type": "code",
   "execution_count": 4,
   "metadata": {},
   "outputs": [],
   "source": [
    "def majorityElement(arr):\n",
    "    \n",
    "    Map = {x:0 for x in arr}\n",
    "    \n",
    "    for i in arr:\n",
    "        Map[i] += 1\n",
    "    \n",
    "    for i in Map:\n",
    "        if Map[i] > len(arr)//2:\n",
    "            return i \n",
    "    \n",
    "    return -1"
   ]
  },
  {
   "cell_type": "code",
   "execution_count": 5,
   "metadata": {},
   "outputs": [
    {
     "data": {
      "text/plain": [
       "4"
      ]
     },
     "execution_count": 5,
     "metadata": {},
     "output_type": "execute_result"
    }
   ],
   "source": [
    "arr = [3, 3, 4, 2, 4, 4, 2, 4, 4]\n",
    "majorityElement(arr)"
   ]
  },
  {
   "cell_type": "code",
   "execution_count": 6,
   "metadata": {},
   "outputs": [
    {
     "data": {
      "text/plain": [
       "-1"
      ]
     },
     "execution_count": 6,
     "metadata": {},
     "output_type": "execute_result"
    }
   ],
   "source": [
    "arr = [3, 3, 4, 2, 4, 4, 2, 4]\n",
    "majorityElement(arr)"
   ]
  },
  {
   "cell_type": "markdown",
   "metadata": {},
   "source": [
    "**Using Moore Voting Algorithm**<br>\n",
    "Time: O(n)\n",
    "Space: O(1)\n",
    "1. Finding a Candidate :\n",
    "The algorithm for first phase that works in O(n) is known as Moore’s Voting Algorithm. Basic idea of the algorithm is that if we cancel out each occurrence of an element e with all the other elements that are different from e then e will exist till end if it is a majority element.<br>\n",
    "\n",
    "```\n",
    "findCandidate(a[], size)\n",
    "1.  Initialize index and count of majority element\n",
    "     maj_index = 0, count = 1\n",
    "2.  Loop for i = 1 to size – 1\n",
    "    (a) If a[maj_index] == a[i]\n",
    "          count++\n",
    "    (b) Else\n",
    "        count--;\n",
    "    (c) If count == 0\n",
    "          maj_index = i;\n",
    "          count = 1\n",
    "3.  Return a[maj_index]\n",
    "```"
   ]
  },
  {
   "cell_type": "code",
   "execution_count": 7,
   "metadata": {},
   "outputs": [],
   "source": [
    "def findCandidate(arr):\n",
    "    \n",
    "    maj_index = 0\n",
    "    count = 1\n",
    "    \n",
    "    for i in range(1,len(arr)):\n",
    "        \n",
    "        if arr[maj_index] == arr[i]:\n",
    "            count += 1\n",
    "        else:\n",
    "            count -= 1\n",
    "            \n",
    "            if count == 0:\n",
    "                maj_index = i\n",
    "                count = 1\n",
    "    \n",
    "    return arr[maj_index]"
   ]
  },
  {
   "cell_type": "markdown",
   "metadata": {},
   "source": [
    "```\n",
    "Check if the element obtained in step 1 is majority element or not :\n",
    "printMajority (a[], size)\n",
    "1.  Find the candidate for majority\n",
    "2.  If candidate is majority. i.e., appears more than n/2 times.\n",
    "       Print the candidate\n",
    "3.  Else\n",
    "       Print \"No Majority Element\"\n",
    "```"
   ]
  },
  {
   "cell_type": "code",
   "execution_count": 8,
   "metadata": {},
   "outputs": [],
   "source": [
    "def isMajority(arr ,ele):\n",
    "    \n",
    "    count = 0\n",
    "    for i in arr:\n",
    "        if ele == i:\n",
    "            count += 1\n",
    "            \n",
    "    \n",
    "    return count > len(arr)//2"
   ]
  },
  {
   "cell_type": "code",
   "execution_count": 9,
   "metadata": {},
   "outputs": [],
   "source": [
    "def majorityElement(arr):\n",
    "    \n",
    "    candidate = findCandidate(arr)\n",
    "    \n",
    "    if isMajority(arr ,candidate):\n",
    "        return candidate\n",
    "    \n",
    "    return -1"
   ]
  },
  {
   "cell_type": "code",
   "execution_count": 10,
   "metadata": {},
   "outputs": [
    {
     "data": {
      "text/plain": [
       "4"
      ]
     },
     "execution_count": 10,
     "metadata": {},
     "output_type": "execute_result"
    }
   ],
   "source": [
    "arr = [3, 3, 4, 2, 4, 4, 2, 4, 4]\n",
    "majorityElement(arr)"
   ]
  },
  {
   "cell_type": "code",
   "execution_count": 11,
   "metadata": {},
   "outputs": [
    {
     "data": {
      "text/plain": [
       "-1"
      ]
     },
     "execution_count": 11,
     "metadata": {},
     "output_type": "execute_result"
    }
   ],
   "source": [
    "arr = [3, 3, 4, 2, 4, 4, 2, 4]\n",
    "majorityElement(arr)"
   ]
  },
  {
   "cell_type": "code",
   "execution_count": null,
   "metadata": {},
   "outputs": [],
   "source": []
  }
 ],
 "metadata": {
  "kernelspec": {
   "display_name": "Python 3",
   "language": "python",
   "name": "python3"
  },
  "language_info": {
   "codemirror_mode": {
    "name": "ipython",
    "version": 3
   },
   "file_extension": ".py",
   "mimetype": "text/x-python",
   "name": "python",
   "nbconvert_exporter": "python",
   "pygments_lexer": "ipython3",
   "version": "3.7.3"
  }
 },
 "nbformat": 4,
 "nbformat_minor": 2
}
