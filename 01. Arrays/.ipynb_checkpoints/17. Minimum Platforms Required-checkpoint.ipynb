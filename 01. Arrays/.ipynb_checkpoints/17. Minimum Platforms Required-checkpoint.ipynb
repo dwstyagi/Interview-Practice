{
 "cells": [
  {
   "cell_type": "markdown",
   "metadata": {},
   "source": [
    "Given arrival and departure times of all trains that reach a railway station, the task is to find the minimum number of platforms required for the railway station so that no train waits.\n",
    "\n",
    "```\n",
    "Input: arr[] = {9:00, 9:40, 9:50, 11:00, 15:00, 18:00}\n",
    "dep[] = {9:10, 12:00, 11:20, 11:30, 19:00, 20:00}\n",
    "Output: 3\n",
    "```"
   ]
  },
  {
   "cell_type": "markdown",
   "metadata": {},
   "source": [
    "```\n",
    "    arr[]  = {9:00,  9:40, 9:50,  11:00, 15:00, 18:00}\n",
    "    dep[]  = {9:10, 12:00, 11:20, 11:30, 19:00, 20:00}\n",
    "\n",
    "All events sorted by time.\n",
    "Total platforms at any time can be obtained by subtracting total \n",
    "departures from total arrivals by that time.\n",
    " Time     Event Type     Total Platforms Needed at this Time                               \n",
    " 9:00       Arrival                  1\n",
    " 9:10       Departure                0\n",
    " 9:40       Arrival                  1\n",
    " 9:50       Arrival                  2\n",
    " 11:00      Arrival                  3 \n",
    " 11:20      Departure                2\n",
    " 11:30      Departure                1\n",
    " 12:00      Departure                0\n",
    " 15:00      Arrival                  1\n",
    " 18:00      Arrival                  2 \n",
    " 19:00      Departure                1\n",
    " 20:00      Departure                0\n",
    "\n",
    "Minimum Platforms needed on railway station = Maximum platforms \n",
    "                                              needed at any time \n",
    "                                           = 3  \n",
    "```"
   ]
  },
  {
   "cell_type": "code",
   "execution_count": 3,
   "metadata": {},
   "outputs": [],
   "source": [
    "def platformRequired(arr ,dep):\n",
    "    \n",
    "    platforms = 1\n",
    "    maxPlatform = 1\n",
    "    \n",
    "    arr.sort()\n",
    "    dep.sort()\n",
    "    \n",
    "    i = 1\n",
    "    j = 0\n",
    "    \n",
    "    while i < len(arr) and j < len(dep):\n",
    "        \n",
    "        # A train given is coming\n",
    "        # given that already a train \n",
    "        # is at the platform\n",
    "        if arr[i] < dep[j]:\n",
    "            platforms += 1\n",
    "            i += 1\n",
    "            \n",
    "            maxPlatform = max(maxPlatform ,platforms)\n",
    "        \n",
    "        else:\n",
    "            # Train is leaving the platform\n",
    "            platforms -= 1\n",
    "            j += 1\n",
    "    \n",
    "    return maxPlatform"
   ]
  },
  {
   "cell_type": "code",
   "execution_count": 4,
   "metadata": {},
   "outputs": [
    {
     "data": {
      "text/plain": [
       "3"
      ]
     },
     "execution_count": 4,
     "metadata": {},
     "output_type": "execute_result"
    }
   ],
   "source": [
    "arr = [900, 940, 950, 1100, 1500, 1800] \n",
    "dep = [910, 1200, 1120, 1130, 1900, 2000]\n",
    "\n",
    "platformRequired(arr ,dep)"
   ]
  },
  {
   "cell_type": "code",
   "execution_count": null,
   "metadata": {},
   "outputs": [],
   "source": []
  }
 ],
 "metadata": {
  "kernelspec": {
   "display_name": "Python 3",
   "language": "python",
   "name": "python3"
  },
  "language_info": {
   "codemirror_mode": {
    "name": "ipython",
    "version": 3
   },
   "file_extension": ".py",
   "mimetype": "text/x-python",
   "name": "python",
   "nbconvert_exporter": "python",
   "pygments_lexer": "ipython3",
   "version": "3.7.3"
  }
 },
 "nbformat": 4,
 "nbformat_minor": 2
}
