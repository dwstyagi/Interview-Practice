{
 "cells": [
  {
   "cell_type": "markdown",
   "metadata": {},
   "source": [
    "Equilibrium index of an array is an index such that the sum of elements at lower indexes is equal to the sum of elements at higher indexes. \n",
    "\n",
    "```\n",
    "Input: A[] = {-7, 1, 5, 2, -4, 3, 0}\n",
    "Output: 3\n",
    "3 is an equilibrium index, because:\n",
    "A[0] + A[1] + A[2] = A[4] + A[5] + A[6]\n",
    "\n",
    "\n",
    "\n",
    "Input: A[] = {1, 2, 3}\n",
    "Output: -1 \n",
    "```"
   ]
  },
  {
   "cell_type": "code",
   "execution_count": 1,
   "metadata": {},
   "outputs": [],
   "source": [
    "def equalibrium(arr):\n",
    "    \n",
    "    n = len(arr)\n",
    "    \n",
    "    for i in range(n):\n",
    "        leftSum = 0\n",
    "        rightSum = 0\n",
    "        \n",
    "        for j in range(i):\n",
    "            leftSum += arr[j]\n",
    "            \n",
    "        for j in range(i+1 ,n):\n",
    "            rightSum += arr[j]\n",
    "        \n",
    "        if leftSum == rightSum:\n",
    "            return i\n",
    "        \n",
    "    return -1"
   ]
  },
  {
   "cell_type": "code",
   "execution_count": 2,
   "metadata": {},
   "outputs": [
    {
     "data": {
      "text/plain": [
       "3"
      ]
     },
     "execution_count": 2,
     "metadata": {},
     "output_type": "execute_result"
    }
   ],
   "source": [
    "arr = [-7, 1, 5, 2, -4, 3, 0]\n",
    "equalibrium(arr)"
   ]
  },
  {
   "cell_type": "code",
   "execution_count": 8,
   "metadata": {},
   "outputs": [
    {
     "data": {
      "text/plain": [
       "-1"
      ]
     },
     "execution_count": 8,
     "metadata": {},
     "output_type": "execute_result"
    }
   ],
   "source": [
    "arr = [1,2,-3]\n",
    "equalibrium(arr)"
   ]
  },
  {
   "cell_type": "markdown",
   "metadata": {},
   "source": [
    "**Algorithm**<br>\n",
    "1. Initialize leftsum  as 0\n",
    "2. Get the total sum of the array as sum\n",
    "3. Iterate through the array and for each index i, do following.<br>\n",
    "    a. Update sum to get the right sum.  \n",
    "           sum = sum - arr[i] \n",
    "        sum is now right sum\n",
    "    b. If leftsum is equal to sum, then return current index. \n",
    "       // update leftsum for next iteration.\n",
    "    c. leftsum = leftsum + arr[i]\n",
    "4. return -1 \n",
    "// If we come out of loop without returning then\n",
    "// there is no equilibrium index"
   ]
  },
  {
   "cell_type": "markdown",
   "metadata": {},
   "source": [
    "<img src=\"https://media.geeksforgeeks.org/wp-content/cdn-uploads/20190620123235/Equilibrium-index-of-an-array1.png\" width=\"400\" align=\"left\">"
   ]
  },
  {
   "cell_type": "code",
   "execution_count": 4,
   "metadata": {},
   "outputs": [],
   "source": [
    "def equalibrium(arr):\n",
    "    \n",
    "    rightSum = sum(arr)\n",
    "    leftSum = 0\n",
    "    \n",
    "    for i in range(len(arr)):\n",
    "        rightSum -= arr[i]\n",
    "        \n",
    "        if rightSum == leftSum:\n",
    "            return i\n",
    "        \n",
    "        leftSum += arr[i]\n",
    "    \n",
    "    return -1"
   ]
  },
  {
   "cell_type": "code",
   "execution_count": 5,
   "metadata": {},
   "outputs": [
    {
     "data": {
      "text/plain": [
       "3"
      ]
     },
     "execution_count": 5,
     "metadata": {},
     "output_type": "execute_result"
    }
   ],
   "source": [
    "arr = [-7, 1, 5, 2, -4, 3, 0]\n",
    "equalibrium(arr)"
   ]
  },
  {
   "cell_type": "code",
   "execution_count": 7,
   "metadata": {},
   "outputs": [
    {
     "data": {
      "text/plain": [
       "-1"
      ]
     },
     "execution_count": 7,
     "metadata": {},
     "output_type": "execute_result"
    }
   ],
   "source": [
    "arr = [1,2,-3]\n",
    "equalibrium(arr)"
   ]
  },
  {
   "cell_type": "code",
   "execution_count": null,
   "metadata": {},
   "outputs": [],
   "source": []
  }
 ],
 "metadata": {
  "kernelspec": {
   "display_name": "Python 3",
   "language": "python",
   "name": "python3"
  },
  "language_info": {
   "codemirror_mode": {
    "name": "ipython",
    "version": 3
   },
   "file_extension": ".py",
   "mimetype": "text/x-python",
   "name": "python",
   "nbconvert_exporter": "python",
   "pygments_lexer": "ipython3",
   "version": "3.7.3"
  }
 },
 "nbformat": 4,
 "nbformat_minor": 2
}
