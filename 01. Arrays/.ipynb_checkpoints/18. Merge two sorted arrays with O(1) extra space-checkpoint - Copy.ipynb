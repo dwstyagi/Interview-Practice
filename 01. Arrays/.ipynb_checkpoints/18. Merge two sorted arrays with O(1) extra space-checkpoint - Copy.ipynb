{
 "cells": [
  {
   "cell_type": "markdown",
   "metadata": {},
   "source": [
    "We are given two sorted array. We need to merge these two arrays such that the initial numbers (after complete sorting) are in the first array and the remaining numbers are in the second array. Extra space allowed in O(1).\n",
    "\n",
    "```\n",
    "Input: ar1[] = {10};\n",
    "       ar2[] = {2, 3};\n",
    "Output: ar1[] = {2}\n",
    "        ar2[] = {3, 10}  \n",
    "\n",
    "Input: ar1[] = {1, 5, 9, 10, 15, 20};\n",
    "       ar2[] = {2, 3, 8, 13};\n",
    "Output: ar1[] = {1, 2, 3, 5, 8, 9}\n",
    "        ar2[] = {10, 13, 15, 20} \n",
    "```"
   ]
  },
  {
   "cell_type": "code",
   "execution_count": 1,
   "metadata": {},
   "outputs": [],
   "source": [
    "def insert(A):\n",
    "    \n",
    "    i = len(A) - 2 \n",
    "    last = A[len(A)-1]\n",
    "\n",
    "    # find correct position in A\n",
    "    # of swapped element\n",
    "    while i > -1 and A[i] > last:\n",
    "        A[i+1] = A[i]\n",
    "        i -= 1\n",
    "    \n",
    "    A[i+1] = last"
   ]
  },
  {
   "cell_type": "code",
   "execution_count": 2,
   "metadata": {},
   "outputs": [],
   "source": [
    "def merge(A ,B):\n",
    "    \n",
    "    for j in range(len(B)-1 ,-1 ,-1):\n",
    "        \n",
    "        # find if last element of B\n",
    "        # is less than last of A\n",
    "        if B[j] < A[-1]:\n",
    "            B[j] ,A[-1] = A[-1] ,B[j]\n",
    "            insert(A)"
   ]
  },
  {
   "cell_type": "code",
   "execution_count": 3,
   "metadata": {},
   "outputs": [
    {
     "name": "stdout",
     "output_type": "stream",
     "text": [
      "1 2 3 5 8 9\n",
      "10 13 15 20\n"
     ]
    }
   ],
   "source": [
    "A = [1,5,9,10,15,20]\n",
    "B = [2,3,8,13]\n",
    "merge(A ,B)\n",
    "print(*A)\n",
    "print(*B)"
   ]
  },
  {
   "cell_type": "code",
   "execution_count": 4,
   "metadata": {},
   "outputs": [
    {
     "name": "stdout",
     "output_type": "stream",
     "text": [
      "2\n",
      "3 10\n"
     ]
    }
   ],
   "source": [
    "A = [10]\n",
    "B = [2 ,3]\n",
    "merge(A ,B)\n",
    "print(*A)\n",
    "print(*B)"
   ]
  },
  {
   "cell_type": "code",
   "execution_count": null,
   "metadata": {},
   "outputs": [],
   "source": []
  }
 ],
 "metadata": {
  "kernelspec": {
   "display_name": "Python 3",
   "language": "python",
   "name": "python3"
  },
  "language_info": {
   "codemirror_mode": {
    "name": "ipython",
    "version": 3
   },
   "file_extension": ".py",
   "mimetype": "text/x-python",
   "name": "python",
   "nbconvert_exporter": "python",
   "pygments_lexer": "ipython3",
   "version": "3.7.3"
  }
 },
 "nbformat": 4,
 "nbformat_minor": 2
}
