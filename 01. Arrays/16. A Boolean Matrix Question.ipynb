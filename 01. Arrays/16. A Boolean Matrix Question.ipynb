{
 "cells": [
  {
   "cell_type": "markdown",
   "metadata": {},
   "source": [
    "Given a boolean matrix mat[M][N] of size M X N, modify it such that if a matrix cell mat[i][j] is 1 (or true) then make all the cells of ith row and jth column as 1.\n",
    "\n",
    "```\n",
    "Example 1\n",
    "The matrix\n",
    "1 0\n",
    "0 0\n",
    "should be changed to following\n",
    "1 1\n",
    "1 0\n",
    "\n",
    "Example 2\n",
    "The matrix\n",
    "0 0 0\n",
    "0 0 1\n",
    "should be changed to following\n",
    "0 0 1\n",
    "1 1 1\n",
    "\n",
    "Example 3\n",
    "The matrix\n",
    "1 0 0 1\n",
    "0 0 1 0\n",
    "0 0 0 0\n",
    "should be changed to following\n",
    "1 1 1 1\n",
    "1 1 1 1\n",
    "1 0 1 1\n",
    "```"
   ]
  },
  {
   "cell_type": "markdown",
   "metadata": {},
   "source": [
    "**Method 1 (Use two temporary arrays)**<br>\n",
    "1. Create two temporary arrays row[M] and col[N]. Initialize all values of row[] and col[] as 0.\n",
    "2. Traverse the input matrix mat[M][N]. If you see an entry mat[i][j] as true, then mark row[i] and col[j] as true.\n",
    "3. Traverse the input matrix mat[M][N] again. For each entry mat[i][j], check the values of row[i] and col[j]. If any of the two values (row[i] or col[j]) is true, then mark mat[i][j] as true."
   ]
  },
  {
   "cell_type": "code",
   "execution_count": 3,
   "metadata": {},
   "outputs": [],
   "source": [
    "def modifyMatrix(mat):\n",
    "    \n",
    "    row = [0] * len(mat)\n",
    "    col = [0] * len(mat[0])\n",
    "    \n",
    "    for i in range(len(mat)):\n",
    "        for j in range(len(mat[0])):\n",
    "            if mat[i][j]:\n",
    "                row[i] = 1\n",
    "                col[j] = 1\n",
    "    \n",
    "    for i in range(len(mat)):\n",
    "        for j in range(len(mat[0])):\n",
    "            if row[i] or col[j]:\n",
    "                mat[i][j] = 1\n",
    "    \n",
    "    for i in range(len(mat)):\n",
    "        for j in range(len(mat[0])):\n",
    "            print(mat[i][j],end=\" \")\n",
    "        print()"
   ]
  },
  {
   "cell_type": "code",
   "execution_count": 4,
   "metadata": {},
   "outputs": [
    {
     "name": "stdout",
     "output_type": "stream",
     "text": [
      "1 1 \n",
      "1 0 \n"
     ]
    }
   ],
   "source": [
    "mat = [[1,0],[0,0]]\n",
    "modifyMatrix(mat)"
   ]
  },
  {
   "cell_type": "code",
   "execution_count": 5,
   "metadata": {},
   "outputs": [
    {
     "name": "stdout",
     "output_type": "stream",
     "text": [
      "0 0 1 \n",
      "1 1 1 \n"
     ]
    }
   ],
   "source": [
    "mat = [[0,0,0],[0,0,1]]\n",
    "modifyMatrix(mat)"
   ]
  },
  {
   "cell_type": "code",
   "execution_count": 6,
   "metadata": {},
   "outputs": [
    {
     "name": "stdout",
     "output_type": "stream",
     "text": [
      "1 1 1 1 \n",
      "1 1 1 1 \n",
      "1 0 1 1 \n"
     ]
    }
   ],
   "source": [
    "mat = [[1,0,0,1],[0,0,1,0],[0,0,0,0]]\n",
    "modifyMatrix(mat)"
   ]
  },
  {
   "cell_type": "code",
   "execution_count": 9,
   "metadata": {},
   "outputs": [
    {
     "name": "stdout",
     "output_type": "stream",
     "text": [
      "[1, 0, 0, 1] [0, 0, 1, 0] [0, 0, 0, 0]\n"
     ]
    }
   ],
   "source": [
    "r = 3\n",
    "c = 4\n",
    "mat = []\n",
    "\n",
    "arr = [1,0,0,1,0,0,1,0,0,0,0,0]\n",
    "\n",
    "for i in range(0,r*c ,c):\n",
    "    mat.append(arr[i:i+c])\n",
    "\n",
    "print(*mat)"
   ]
  },
  {
   "cell_type": "code",
   "execution_count": null,
   "metadata": {},
   "outputs": [],
   "source": []
  }
 ],
 "metadata": {
  "kernelspec": {
   "display_name": "Python 3",
   "language": "python",
   "name": "python3"
  },
  "language_info": {
   "codemirror_mode": {
    "name": "ipython",
    "version": 3
   },
   "file_extension": ".py",
   "mimetype": "text/x-python",
   "name": "python",
   "nbconvert_exporter": "python",
   "pygments_lexer": "ipython3",
   "version": "3.7.3"
  }
 },
 "nbformat": 4,
 "nbformat_minor": 2
}
