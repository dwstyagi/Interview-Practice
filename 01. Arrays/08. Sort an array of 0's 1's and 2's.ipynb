{
 "cells": [
  {
   "cell_type": "markdown",
   "metadata": {},
   "source": [
    "Input: {0, 1, 2, 0, 1, 2}<br>\n",
    "Output: {0, 0, 1, 1, 2, 2}\n",
    "\n",
    "\n",
    "Input: {0, 1, 1, 0, 1, 2, 1, 2, 0, 0, 0, 1}<br>\n",
    "Output: {0, 0, 0, 0, 0, 1, 1, 1, 1, 1, 2, 2} "
   ]
  },
  {
   "cell_type": "markdown",
   "metadata": {},
   "source": [
    "**Dutch National Flag Problem**"
   ]
  },
  {
   "cell_type": "code",
   "execution_count": 9,
   "metadata": {},
   "outputs": [],
   "source": [
    "def dutchNationalFlag(arr ,pivot):\n",
    "    \n",
    "    # Backward Pass:\n",
    "    i = 0\n",
    "    for j in range(len(arr)):\n",
    "        if arr[j] < pivot:\n",
    "            arr[i] ,arr[j] = arr[j] ,arr[i]\n",
    "            \n",
    "            i += 1\n",
    "    \n",
    "    # Forward Pass\n",
    "    i = len(arr)-1\n",
    "    for j in range(len(arr)-1 ,-1 ,-1):\n",
    "        if arr[j] < pivot:\n",
    "            break\n",
    "        \n",
    "        if arr[j] > pivot:\n",
    "            arr[i],arr[j] = arr[j] ,arr[i]\n",
    "            i -= 1\n",
    "    \n",
    "    return arr"
   ]
  },
  {
   "cell_type": "code",
   "execution_count": 11,
   "metadata": {},
   "outputs": [
    {
     "name": "stdout",
     "output_type": "stream",
     "text": [
      "0 0 1 1 1 2 2\n"
     ]
    }
   ],
   "source": [
    "arr = [0,1,2,0,2,1,1]\n",
    "print(*dutchNationalFlag(arr ,1))"
   ]
  },
  {
   "cell_type": "code",
   "execution_count": null,
   "metadata": {},
   "outputs": [],
   "source": []
  }
 ],
 "metadata": {
  "kernelspec": {
   "display_name": "Python 3",
   "language": "python",
   "name": "python3"
  },
  "language_info": {
   "codemirror_mode": {
    "name": "ipython",
    "version": 3
   },
   "file_extension": ".py",
   "mimetype": "text/x-python",
   "name": "python",
   "nbconvert_exporter": "python",
   "pygments_lexer": "ipython3",
   "version": "3.7.3"
  }
 },
 "nbformat": 4,
 "nbformat_minor": 2
}
