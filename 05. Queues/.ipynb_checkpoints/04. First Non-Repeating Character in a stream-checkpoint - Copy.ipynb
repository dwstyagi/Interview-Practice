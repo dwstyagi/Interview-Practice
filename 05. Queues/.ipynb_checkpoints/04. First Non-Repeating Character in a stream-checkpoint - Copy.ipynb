{
 "cells": [
  {
   "cell_type": "code",
   "execution_count": null,
   "metadata": {},
   "outputs": [],
   "source": [
    "from queue import Queue\n",
    "def firstNonRepeatingCharacter(lis):\n",
    "    char = ['a','b','c','d','e','f','g','h','i','j','k','l','m','n','o','p','q','r','s','t','u','v','w','x','y','z']\n",
    "    dic = {}\n",
    "    npc = []\n",
    "    \n",
    "    Q = Queue(len(lis))\n",
    "    \n",
    "    for i in char:\n",
    "        dic[i] = 0\n",
    "    \n",
    "    for i in lis:\n",
    "        Q.put(i)\n",
    "        \n",
    "        dic[i] += 1\n",
    "        \n",
    "        while not Q.empty():\n",
    "            if dic[Q.queue[0]] > 1:\n",
    "                Q.get()\n",
    "            else:\n",
    "                npc.append(Q.queue[0])\n",
    "                break\n",
    "                \n",
    "        if Q.empty():\n",
    "            npc.append(-1)\n",
    "    \n",
    "    return npc"
   ]
  }
 ],
 "metadata": {
  "kernelspec": {
   "display_name": "Python 3",
   "language": "python",
   "name": "python3"
  },
  "language_info": {
   "codemirror_mode": {
    "name": "ipython",
    "version": 3
   },
   "file_extension": ".py",
   "mimetype": "text/x-python",
   "name": "python",
   "nbconvert_exporter": "python",
   "pygments_lexer": "ipython3",
   "version": "3.7.3"
  }
 },
 "nbformat": 4,
 "nbformat_minor": 2
}
