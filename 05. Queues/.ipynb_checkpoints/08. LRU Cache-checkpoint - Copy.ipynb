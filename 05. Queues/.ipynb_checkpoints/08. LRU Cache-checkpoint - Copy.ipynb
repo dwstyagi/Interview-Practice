{
 "cells": [
  {
   "cell_type": "markdown",
   "metadata": {},
   "source": [
    "We use two data structures to implement an LRU Cache.<br>\n",
    "1. Queue which is implemented using a doubly linked list. The maximum size of the queue will be equal    to the total number of frames available (cache size). The most recently used pages will be near      front end and least recently pages will be near the rear end. \n",
    "2. A Hash with page number as key and address of the corresponding queue node as value."
   ]
  },
  {
   "cell_type": "markdown",
   "metadata": {},
   "source": [
    "**When a page is referenced, the required page may be in the memory. If it is in the memory, we need to detach the node of the list and bring it to the front of the queue.**"
   ]
  },
  {
   "cell_type": "markdown",
   "metadata": {},
   "source": [
    "If the required page is not in memory, we bring that in memory. In simple words, we add a new node to the front of the queue and update the corresponding node address in the hash. If the queue is full, i.e. all the frames are full, we remove a node from the rear of the queue, and add the new node to the front of the queue."
   ]
  },
  {
   "cell_type": "markdown",
   "metadata": {},
   "source": [
    "```\n",
    "Example – Consider the following reference string :\n",
    "1, 2, 3, 4, 1, 2, 5, 1, 2, 3, 4, 5\n",
    "Find the number of page faults using least recently used (LRU) page replacement algorithm with 3 page frames.\n",
    "```"
   ]
  },
  {
   "cell_type": "markdown",
   "metadata": {},
   "source": [
    "<img src=\"https://media.geeksforgeeks.org/wp-content/cdn-uploads/LRU1.png\">\n",
    "<img src=\"https://media.geeksforgeeks.org/wp-content/cdn-uploads/LRU2.png\">"
   ]
  },
  {
   "cell_type": "code",
   "execution_count": 1,
   "metadata": {},
   "outputs": [],
   "source": [
    "class Node:\n",
    "    def __init__(self ,key ,value):\n",
    "        self.key = key\n",
    "        self.value = value\n",
    "        self.prev = None\n",
    "        self.next = None"
   ]
  },
  {
   "cell_type": "code",
   "execution_count": 33,
   "metadata": {},
   "outputs": [],
   "source": [
    "class LRUCache:\n",
    "    \n",
    "    def __init__(self ,capacity):\n",
    "        self.capacity = capacity\n",
    "        self.size = 0\n",
    "        self.hashMap = {}\n",
    "        self.head = Node(0,0)\n",
    "        self.tail = Node(0,0)\n",
    "        self.head.next = self.tail\n",
    "        self.tail.prev = self.head\n",
    "   \n",
    "    # Always from tail\n",
    "    def add(self ,node):\n",
    "        next_ = self.head.next\n",
    "        \n",
    "        node.prev = self.head\n",
    "        self.head.next = node\n",
    "        \n",
    "        node.next = next_\n",
    "        next_.prev = node\n",
    "        \n",
    "    def remove(self ,node):\n",
    "        prev = node.prev\n",
    "        next = node.next \n",
    "        \n",
    "        prev.next = next\n",
    "        next.prev = prev\n",
    "        \n",
    "        node.next = None\n",
    "        node.prev = None\n",
    "        \n",
    "        return node\n",
    "    \n",
    "    def search(self ,key):\n",
    "        temp = self.head.next\n",
    "        \n",
    "        while temp != self.tail:\n",
    "            if temp.key == key:\n",
    "                return temp\n",
    "            temp = temp.next\n",
    "        \n",
    "        return Node(None,None)\n",
    "    \n",
    "    def put(self ,key ,value):\n",
    "        if key in self.hashMap.keys():\n",
    "            node = self.search(key)\n",
    "            node = self.remove(node)\n",
    "            del node\n",
    "        \n",
    "        elif self.size == self.capacity:\n",
    "            node = self.remove(self.tail.prev)\n",
    "            k = node.key\n",
    "            k = self.hashMap.pop(k)\n",
    "            del node\n",
    "            \n",
    "        else:\n",
    "            self.size += 1\n",
    "        \n",
    "        self.hashMap[key] = value\n",
    "        node = Node(key ,value)\n",
    "        self.add(node)\n",
    "            \n",
    "    def get(self ,key):\n",
    "        if key in self.hashMap.keys():\n",
    "            node = Node(key ,self.hashMap[key])\n",
    "            node = self.search(node.key)\n",
    "            node = self.remove(node)\n",
    "            self.add(node)\n",
    "            return node.value\n",
    "        \n",
    "        return -1\n",
    "    \n",
    "    def display(self):\n",
    "        if self.size == 0:\n",
    "            return -1\n",
    "        else:\n",
    "            temp = self.head.next\n",
    "        \n",
    "            while temp != self.tail:\n",
    "                print(temp.value,end=\" \")\n",
    "                temp = temp.next"
   ]
  },
  {
   "cell_type": "code",
   "execution_count": 38,
   "metadata": {},
   "outputs": [
    {
     "name": "stdout",
     "output_type": "stream",
     "text": [
      "2 7 5 4 10 "
     ]
    }
   ],
   "source": [
    "cache = LRUCache(5)\n",
    "cache.put(1,1)  # 1\n",
    "cache.put(2,3)  # 3 1\n",
    "cache.put(3,4)  # 4 3 1\n",
    "cache.put(4,7)  # 7 4 3 1\n",
    "cache.put(6,10) # 10 7 4 3 1\n",
    "\n",
    "cache.get(1)    # 1 10 7 4 3 \n",
    "cache.get(3)    # 4 1 10 7 3\n",
    "\n",
    "cache.put(1,5)  # 5 4 10 7 3\n",
    "cache.put(12,7) # 7 5 4 10 7 -> delete(2: 3)\n",
    "cache.put(5,2)  # 2 7 5 4 10 -> delete(4: 7)\n",
    "\n",
    "#cache.hashMap\n",
    "cache.get(4) # 10 4 5 7 2\n",
    "\n",
    "# 2 7 5 4 10\n",
    "cache.display()"
   ]
  },
  {
   "cell_type": "code",
   "execution_count": null,
   "metadata": {},
   "outputs": [],
   "source": []
  }
 ],
 "metadata": {
  "kernelspec": {
   "display_name": "Python 3",
   "language": "python",
   "name": "python3"
  },
  "language_info": {
   "codemirror_mode": {
    "name": "ipython",
    "version": 3
   },
   "file_extension": ".py",
   "mimetype": "text/x-python",
   "name": "python",
   "nbconvert_exporter": "python",
   "pygments_lexer": "ipython3",
   "version": "3.7.4"
  }
 },
 "nbformat": 4,
 "nbformat_minor": 2
}
