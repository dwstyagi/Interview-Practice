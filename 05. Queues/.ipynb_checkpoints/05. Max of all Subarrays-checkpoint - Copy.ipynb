{
 "cells": [
  {
   "cell_type": "markdown",
   "metadata": {},
   "source": [
    "```\n",
    "Input: arr[] = {1, 2, 3, 1, 4, 5, 2, 3, 6}, K = 3\n",
    "Output: 3 3 4 5 5 5 6\n",
    "\n",
    "Input: arr[] = {8, 5, 10, 7, 9, 4, 15, 12, 90, 13}, K = 4\n",
    "Output: 10 10 10 15 15 90 90\n",
    "```"
   ]
  },
  {
   "cell_type": "markdown",
   "metadata": {},
   "source": [
    "**Method 1: (Simple)**<br>\n",
    "Run two loops. In the outer loop, take all subarrays of size K. In the inner loop, get the maximum of the current subarray."
   ]
  },
  {
   "cell_type": "code",
   "execution_count": 8,
   "metadata": {},
   "outputs": [],
   "source": [
    "def maxSubarray(arr, k): \n",
    "    max = 0\n",
    "    n = len(arr)\n",
    "    for i in range(n - k + 1): \n",
    "        max = arr[i] \n",
    "        for j in range(0, k): \n",
    "            if arr[i + j] > max: \n",
    "                max = arr[i + j] \n",
    "        print(str(max) + \" \", end = \"\")"
   ]
  },
  {
   "cell_type": "code",
   "execution_count": 9,
   "metadata": {},
   "outputs": [
    {
     "name": "stdout",
     "output_type": "stream",
     "text": [
      "3 3 4 5 5 5 6 "
     ]
    }
   ],
   "source": [
    "arr = [1, 2, 3, 1, 4, 5, 2, 3, 6]\n",
    "maxSubarray(arr ,3)"
   ]
  },
  {
   "cell_type": "code",
   "execution_count": 11,
   "metadata": {},
   "outputs": [
    {
     "name": "stdout",
     "output_type": "stream",
     "text": [
      "10 10 10 15 15 90 90 "
     ]
    }
   ],
   "source": [
    "arr = [8, 5, 10, 7, 9, 4, 15, 12, 90, 13]\n",
    "maxSubarray(arr ,4)"
   ]
  },
  {
   "cell_type": "code",
   "execution_count": null,
   "metadata": {},
   "outputs": [],
   "source": []
  }
 ],
 "metadata": {
  "kernelspec": {
   "display_name": "Python 3",
   "language": "python",
   "name": "python3"
  },
  "language_info": {
   "codemirror_mode": {
    "name": "ipython",
    "version": 3
   },
   "file_extension": ".py",
   "mimetype": "text/x-python",
   "name": "python",
   "nbconvert_exporter": "python",
   "pygments_lexer": "ipython3",
   "version": "3.7.3"
  }
 },
 "nbformat": 4,
 "nbformat_minor": 2
}
