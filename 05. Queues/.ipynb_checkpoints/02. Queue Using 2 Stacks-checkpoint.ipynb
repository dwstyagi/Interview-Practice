{
 "cells": [
  {
   "cell_type": "code",
   "execution_count": 1,
   "metadata": {},
   "outputs": [],
   "source": [
    "class Stack:\n",
    "    \n",
    "    def __init__(self, size):\n",
    "        self.size = size\n",
    "        self.top = -1\n",
    "        self.stack = []\n",
    "    \n",
    "    def isEmpty(self):\n",
    "        return self.top == -1\n",
    "    \n",
    "    def isFull(self):\n",
    "        return self.top == self.size - 1\n",
    "    \n",
    "    def push(self, data):\n",
    "        if self.isFull():\n",
    "            print('Stack is Full')\n",
    "            return \n",
    "        else:\n",
    "            self.top += 1\n",
    "            self.stack.append(data)\n",
    "        \n",
    "    def pop(self):\n",
    "        if self.isEmpty():\n",
    "            print('Stack is Empty')\n",
    "            return\n",
    "        else:\n",
    "            print('{} is deleted from stack'.format(self.stack[self.top]))\n",
    "            self.stack.pop()\n",
    "            self.top -= 1\n",
    "    \n",
    "    def peek(self):\n",
    "        if self.top == -1:\n",
    "            print('Stack is Empty')\n",
    "            return\n",
    "        \n",
    "        return self.stack[self.top]\n",
    "            \n",
    "    def printStack(self):\n",
    "        if self.top == -1:\n",
    "            print('Stack is Empty')\n",
    "            return\n",
    "        \n",
    "        for i in range(self.top ,-1 ,-1):\n",
    "            print(self.stack[i])"
   ]
  },
  {
   "cell_type": "code",
   "execution_count": 22,
   "metadata": {},
   "outputs": [],
   "source": [
    "class QueueUsingStack:\n",
    "    \n",
    "    def __init__(self ,size):\n",
    "        self.capacity = size\n",
    "        self.size = 0\n",
    "        self.s1 = Stack(self.capacity)\n",
    "        self.s2 = Stack(self.capacity)\n",
    "    \n",
    "    def isFull(self):\n",
    "        return self.size == self.capacity\n",
    "    \n",
    "    def isEmpty(self):\n",
    "        return self.size == 0\n",
    "    \n",
    "    def EnQueue(self, data):\n",
    "        if self.isFull():\n",
    "            return -1\n",
    "        self.s1.push(data)\n",
    "        return\n",
    "    \n",
    "    def DeQueue(self):\n",
    "        if not self.isEmpty():\n",
    "            if not len(self.s2.stack): \n",
    "\n",
    "                if not len(self.s1.stack):\n",
    "                    return -1\n",
    "                else:\n",
    "                    while len(self.s1.stack):\n",
    "                        self.s2.push(self.s1.stack[self.s1.top])\n",
    "                        self.s1.pop()\n",
    "\n",
    "                    return self.s2.pop()\n",
    "            else:\n",
    "                return self.s2.pop()\n",
    "        else:\n",
    "            return 'Queue is Empty'"
   ]
  },
  {
   "cell_type": "code",
   "execution_count": 23,
   "metadata": {},
   "outputs": [],
   "source": [
    "q = QueueUsingStack(5)\n",
    "lis = [1,2,3,4,5]\n",
    "for i in lis:\n",
    "    q.EnQueue(i)"
   ]
  },
  {
   "cell_type": "code",
   "execution_count": 24,
   "metadata": {},
   "outputs": [
    {
     "data": {
      "text/plain": [
       "'Queue is Empty'"
      ]
     },
     "execution_count": 24,
     "metadata": {},
     "output_type": "execute_result"
    }
   ],
   "source": [
    "q.DeQueue()"
   ]
  },
  {
   "cell_type": "code",
   "execution_count": 18,
   "metadata": {},
   "outputs": [
    {
     "data": {
      "text/plain": [
       "True"
      ]
     },
     "execution_count": 18,
     "metadata": {},
     "output_type": "execute_result"
    }
   ],
   "source": [
    "q.isEmpty()"
   ]
  },
  {
   "cell_type": "code",
   "execution_count": null,
   "metadata": {},
   "outputs": [],
   "source": []
  }
 ],
 "metadata": {
  "kernelspec": {
   "display_name": "Python 3",
   "language": "python",
   "name": "python3"
  },
  "language_info": {
   "codemirror_mode": {
    "name": "ipython",
    "version": 3
   },
   "file_extension": ".py",
   "mimetype": "text/x-python",
   "name": "python",
   "nbconvert_exporter": "python",
   "pygments_lexer": "ipython3",
   "version": "3.7.3"
  }
 },
 "nbformat": 4,
 "nbformat_minor": 2
}
