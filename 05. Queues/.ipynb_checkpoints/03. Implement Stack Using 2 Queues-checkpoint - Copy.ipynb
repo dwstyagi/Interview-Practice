{
 "cells": [
  {
   "cell_type": "code",
   "execution_count": 1,
   "metadata": {},
   "outputs": [],
   "source": [
    "'''\n",
    "push(s, x) operation’s step are described below: \n",
    "  Enqueue x to q2\n",
    "  One by one dequeue everything from q1 and enqueue to q2.\n",
    "  Swap the names of q1 and q2 \n",
    "pop(s) operation’s function are described below: \n",
    "  Dequeue an item from q1 and return it.\n",
    "'''\n",
    "from queue import Queue\n",
    "class stackUsingQueue:\n",
    "    \n",
    "    def __init__(self):\n",
    "        \n",
    "        self.q1 = Queue()\n",
    "        self.q2 = Queue()\n",
    "        self.size = 0\n",
    "    \n",
    "    def push(self, data):\n",
    "        self.size += 1        \n",
    "        self.q2.put(data)\n",
    "        \n",
    "        while (not self.q1.empty()):\n",
    "            self.q2.put(self.q1.queue[0])\n",
    "            self.q1.get()\n",
    "        \n",
    "        self.q1, self.q2 = self.q2, self.q1\n",
    "    \n",
    "    def pop(self):\n",
    "                \n",
    "        if self.q1.empty():\n",
    "            return 'stack empty'\n",
    "        \n",
    "        self.size -= 1\n",
    "        x = self.q1.get()\n",
    "        return x\n",
    "    \n",
    "    def curr_size(self):\n",
    "        return self.size\n",
    "        "
   ]
  },
  {
   "cell_type": "code",
   "execution_count": null,
   "metadata": {},
   "outputs": [],
   "source": []
  }
 ],
 "metadata": {
  "kernelspec": {
   "display_name": "Python 3",
   "language": "python",
   "name": "python3"
  },
  "language_info": {
   "codemirror_mode": {
    "name": "ipython",
    "version": 3
   },
   "file_extension": ".py",
   "mimetype": "text/x-python",
   "name": "python",
   "nbconvert_exporter": "python",
   "pygments_lexer": "ipython3",
   "version": "3.7.3"
  }
 },
 "nbformat": 4,
 "nbformat_minor": 2
}
