{
 "cells": [
  {
   "cell_type": "code",
   "execution_count": 9,
   "metadata": {},
   "outputs": [],
   "source": [
    "class QueueUsingStack:\n",
    "    def __init__(self, capacity):\n",
    "        self.capacity = capacity\n",
    "        self.size = 0\n",
    "        self.s1 = []\n",
    "        self.s2 = []\n",
    "    \n",
    "        \n",
    "    def isFull(self):\n",
    "        return self.capacity == self.size\n",
    "    \n",
    "    def isEmpty(self):\n",
    "        return self.size == 0\n",
    "    \n",
    "    def EnQueue(self ,data):\n",
    "        if self.isFull():\n",
    "            return -1\n",
    "        self.size += 1\n",
    "        self.s1.append(data)\n",
    "                \n",
    "    def DeQueue(self):\n",
    "        if self.isEmpty():\n",
    "            return -1\n",
    "\n",
    "        if len(self.s2) != 0:\n",
    "            data = self.s2[-1]\n",
    "            self.s2 = self.s2.pop\n",
    "\n",
    "            return data\n",
    "        else:\n",
    "            while len(self.s1) != 0:\n",
    "                data = self.s1[-1]\n",
    "                self.s1 = self.s1.pop\n",
    "                self.s2.append(data)\n",
    "\n",
    "                return data\n",
    "\n",
    "    \n",
    "    def printStack(self ,s):\n",
    "        if len(s) == 0:\n",
    "            return -1\n",
    "        else:\n",
    "            for i in range(len(s)-1 ,-1 ,-1 ):\n",
    "                print(self.s1[i],end=\" \")\n",
    "        \n",
    "    def printQueue(self):\n",
    "        if self.s2:\n",
    "            self.printStack(self.s2)\n",
    "        \n",
    "        if self.s1:\n",
    "            self.printStack(self.s1)\n",
    "        "
   ]
  },
  {
   "cell_type": "code",
   "execution_count": 10,
   "metadata": {},
   "outputs": [],
   "source": [
    "q = QueueUsingStack(5)\n",
    "lis = [1,2,3,4,5]\n",
    "for i in lis:\n",
    "    q.EnQueue(i)"
   ]
  },
  {
   "cell_type": "code",
   "execution_count": 11,
   "metadata": {},
   "outputs": [
    {
     "name": "stdout",
     "output_type": "stream",
     "text": [
      "5 4 3 2 1 "
     ]
    }
   ],
   "source": [
    "q.printQueue()"
   ]
  },
  {
   "cell_type": "code",
   "execution_count": 12,
   "metadata": {},
   "outputs": [
    {
     "data": {
      "text/plain": [
       "5"
      ]
     },
     "execution_count": 12,
     "metadata": {},
     "output_type": "execute_result"
    }
   ],
   "source": [
    "q.DeQueue()"
   ]
  },
  {
   "cell_type": "code",
   "execution_count": null,
   "metadata": {},
   "outputs": [],
   "source": []
  }
 ],
 "metadata": {
  "kernelspec": {
   "display_name": "Python 3",
   "language": "python",
   "name": "python3"
  },
  "language_info": {
   "codemirror_mode": {
    "name": "ipython",
    "version": 3
   },
   "file_extension": ".py",
   "mimetype": "text/x-python",
   "name": "python",
   "nbconvert_exporter": "python",
   "pygments_lexer": "ipython3",
   "version": "3.11.0"
  }
 },
 "nbformat": 4,
 "nbformat_minor": 2
}
