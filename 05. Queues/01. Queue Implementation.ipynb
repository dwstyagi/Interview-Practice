{
 "cells": [
  {
   "cell_type": "code",
   "execution_count": 13,
   "metadata": {},
   "outputs": [],
   "source": [
    "class Queue:\n",
    "    def __init__(self ,size):\n",
    "        self.capacity = size\n",
    "        self.size = 0\n",
    "        self.head = 0\n",
    "        self.tail = self.capacity - 1\n",
    "        self.queue = [0 for i in range(self.capacity)]\n",
    "    \n",
    "    def isFull(self):\n",
    "        return self.size == self.capacity\n",
    "    \n",
    "    def isEmpty(self):\n",
    "        return self.size == 0\n",
    "    \n",
    "    def EnQueue(self ,data):\n",
    "        if self.isFull():\n",
    "            return 'Queue is Full'\n",
    "        \n",
    "        self.tail = (self.tail+1) % self.capacity\n",
    "        self.queue[self.tail] = data\n",
    "        self.size += 1\n",
    "    \n",
    "    def Front(self):\n",
    "        if self.isEmpty():\n",
    "            return -1\n",
    "        return self.Queue[self.head]\n",
    "    \n",
    "    def Tail(self):\n",
    "        if self.isEmpty():\n",
    "            return -1\n",
    "        return self.Queue[self.tail]\n",
    "    \n",
    "    def DeQueue(self):\n",
    "        if self.isEmpty():\n",
    "            return 'Queue is Empty'\n",
    "        \n",
    "        data = self.queue[self.head]\n",
    "        self.queue[self.head] = 0\n",
    "        self.head = (self.head+1) % self.capacity\n",
    "        self.size -= 1\n",
    "        \n",
    "        print('{} is deleted from Queue'.format(data))\n",
    "        if self.head == self.tail:\n",
    "            self.head = 0\n",
    "            self.tail = 0\n",
    "    \n",
    "    def printQueue(self):\n",
    "        if self.isEmpty():\n",
    "            return 'Queue is Empty'\n",
    "        \n",
    "        tmp = self.head\n",
    "        while tmp != self.tail:\n",
    "            print(self.queue[tmp],end=\" \")\n",
    "            tmp = (tmp+1) % self.capacity\n",
    "        print(self.queue[tmp])"
   ]
  },
  {
   "cell_type": "code",
   "execution_count": 14,
   "metadata": {},
   "outputs": [],
   "source": [
    "Q = Queue(5)\n",
    "for i in [1,2,3,4,5]:\n",
    "    Q.EnQueue(i)"
   ]
  },
  {
   "cell_type": "code",
   "execution_count": 15,
   "metadata": {},
   "outputs": [
    {
     "name": "stdout",
     "output_type": "stream",
     "text": [
      "1 2 3 4 5\n"
     ]
    }
   ],
   "source": [
    "Q.printQueue()"
   ]
  },
  {
   "cell_type": "code",
   "execution_count": 16,
   "metadata": {},
   "outputs": [
    {
     "name": "stdout",
     "output_type": "stream",
     "text": [
      "1 is deleted from Queue\n"
     ]
    }
   ],
   "source": [
    "Q.DeQueue()"
   ]
  },
  {
   "cell_type": "code",
   "execution_count": 17,
   "metadata": {},
   "outputs": [
    {
     "name": "stdout",
     "output_type": "stream",
     "text": [
      "2 3 4 5\n"
     ]
    }
   ],
   "source": [
    "Q.printQueue()"
   ]
  },
  {
   "cell_type": "code",
   "execution_count": 18,
   "metadata": {},
   "outputs": [
    {
     "name": "stdout",
     "output_type": "stream",
     "text": [
      "2 is deleted from Queue\n"
     ]
    }
   ],
   "source": [
    "Q.DeQueue()"
   ]
  },
  {
   "cell_type": "code",
   "execution_count": 19,
   "metadata": {},
   "outputs": [],
   "source": [
    "for i in [6,7]:\n",
    "    Q.EnQueue(i)"
   ]
  },
  {
   "cell_type": "code",
   "execution_count": 20,
   "metadata": {},
   "outputs": [
    {
     "data": {
      "text/plain": [
       "[6, 7, 3, 4, 5]"
      ]
     },
     "execution_count": 20,
     "metadata": {},
     "output_type": "execute_result"
    }
   ],
   "source": [
    "Q.queue"
   ]
  },
  {
   "cell_type": "code",
   "execution_count": 21,
   "metadata": {},
   "outputs": [
    {
     "name": "stdout",
     "output_type": "stream",
     "text": [
      "3 4 5 6 7\n"
     ]
    }
   ],
   "source": [
    "Q.printQueue()"
   ]
  },
  {
   "cell_type": "code",
   "execution_count": 22,
   "metadata": {},
   "outputs": [
    {
     "name": "stdout",
     "output_type": "stream",
     "text": [
      "Head:3 Tail:7\n"
     ]
    }
   ],
   "source": [
    "print('Head:{} Tail:{}'.format(Q.queue[Q.head] ,Q.queue[Q.tail]))"
   ]
  },
  {
   "cell_type": "code",
   "execution_count": 23,
   "metadata": {},
   "outputs": [
    {
     "data": {
      "text/plain": [
       "True"
      ]
     },
     "execution_count": 23,
     "metadata": {},
     "output_type": "execute_result"
    }
   ],
   "source": [
    "Q.isFull()"
   ]
  },
  {
   "cell_type": "code",
   "execution_count": null,
   "metadata": {},
   "outputs": [],
   "source": []
  }
 ],
 "metadata": {
  "kernelspec": {
   "display_name": "Python 3",
   "language": "python",
   "name": "python3"
  },
  "language_info": {
   "codemirror_mode": {
    "name": "ipython",
    "version": 3
   },
   "file_extension": ".py",
   "mimetype": "text/x-python",
   "name": "python",
   "nbconvert_exporter": "python",
   "pygments_lexer": "ipython3",
   "version": "3.11.0"
  }
 },
 "nbformat": 4,
 "nbformat_minor": 2
}
