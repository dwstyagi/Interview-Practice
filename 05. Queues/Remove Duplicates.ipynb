{
 "cells": [
  {
   "cell_type": "code",
   "execution_count": 1,
   "metadata": {},
   "outputs": [],
   "source": [
    "class Node:\n",
    "    \n",
    "    def __init__(self, data):\n",
    "        self.data = data\n",
    "        self.next = None"
   ]
  },
  {
   "cell_type": "code",
   "execution_count": 2,
   "metadata": {},
   "outputs": [],
   "source": [
    "def insertNode(head ,data):\n",
    "    if head[0] is None:\n",
    "        head[0] = Node(data)\n",
    "        return head\n",
    "    \n",
    "    temp = head[0]\n",
    "    while temp.next is not None:\n",
    "        temp = temp.next\n",
    "        \n",
    "    temp.next = Node(data)\n",
    "    "
   ]
  },
  {
   "cell_type": "code",
   "execution_count": 4,
   "metadata": {},
   "outputs": [],
   "source": [
    "head = [None]\n",
    "arr = [12 ,11 ,12 ,21 ,41 ,43 ,21]\n",
    "for i in arr:\n",
    "    insertNode(head ,i)"
   ]
  },
  {
   "cell_type": "code",
   "execution_count": 7,
   "metadata": {},
   "outputs": [],
   "source": [
    "def printNode(head):\n",
    "    \n",
    "    if head[0] is None:\n",
    "        return -1\n",
    "    \n",
    "    #print(head[0].data,end=\"->\")\n",
    "    temp = head[0]\n",
    "    while temp.next is not None:\n",
    "        print(temp.data,end=\" -> \")\n",
    "        temp = temp.next\n",
    "        \n",
    "    print(temp.data)\n",
    "    "
   ]
  },
  {
   "cell_type": "code",
   "execution_count": 8,
   "metadata": {},
   "outputs": [
    {
     "name": "stdout",
     "output_type": "stream",
     "text": [
      "12 -> 11 -> 12 -> 21 -> 41 -> 43 -> 21\n"
     ]
    }
   ],
   "source": [
    "printNode(head)"
   ]
  },
  {
   "cell_type": "code",
   "execution_count": 10,
   "metadata": {},
   "outputs": [],
   "source": [
    "def removeDuplicate(head):\n",
    "    \n",
    "    if head[0] is None:\n",
    "        return -1\n",
    "    \n",
    "    element = set()\n",
    "    curr = head[0]\n",
    "    prev = None\n",
    "    \n",
    "    while curr is not None:\n",
    "        if curr.data in element:\n",
    "            prev.next = curr.next\n",
    "        \n",
    "        else:\n",
    "            element.add(curr.data)\n",
    "            prev = curr\n",
    "        \n",
    "        curr = curr.next"
   ]
  },
  {
   "cell_type": "code",
   "execution_count": 11,
   "metadata": {},
   "outputs": [],
   "source": [
    "removeDuplicate(head)"
   ]
  },
  {
   "cell_type": "code",
   "execution_count": 12,
   "metadata": {},
   "outputs": [
    {
     "name": "stdout",
     "output_type": "stream",
     "text": [
      "12 -> 11 -> 21 -> 41 -> 43\n"
     ]
    }
   ],
   "source": [
    "printNode(head)"
   ]
  },
  {
   "cell_type": "code",
   "execution_count": null,
   "metadata": {},
   "outputs": [],
   "source": []
  }
 ],
 "metadata": {
  "kernelspec": {
   "display_name": "Python 3",
   "language": "python",
   "name": "python3"
  },
  "language_info": {
   "codemirror_mode": {
    "name": "ipython",
    "version": 3
   },
   "file_extension": ".py",
   "mimetype": "text/x-python",
   "name": "python",
   "nbconvert_exporter": "python",
   "pygments_lexer": "ipython3",
   "version": "3.7.3"
  }
 },
 "nbformat": 4,
 "nbformat_minor": 2
}
