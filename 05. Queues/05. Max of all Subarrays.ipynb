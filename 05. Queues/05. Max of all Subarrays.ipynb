{
 "cells": [
  {
   "cell_type": "markdown",
   "metadata": {},
   "source": [
    "```\n",
    "Input: arr[] = {1, 2, 3, 1, 4, 5, 2, 3, 6}, K = 3\n",
    "Output: 3 3 4 5 5 5 6\n",
    "\n",
    "Input: arr[] = {8, 5, 10, 7, 9, 4, 15, 12, 90, 13}, K = 4\n",
    "Output: 10 10 10 15 15 90 90\n",
    "```"
   ]
  },
  {
   "cell_type": "markdown",
   "metadata": {},
   "source": [
    "**Method 1: (Simple)**<br>\n",
    "Run two loops. In the outer loop, take all subarrays of size K. In the inner loop, get the maximum of the current subarray."
   ]
  },
  {
   "cell_type": "code",
   "execution_count": 1,
   "metadata": {},
   "outputs": [],
   "source": [
    "def maxSubarray(arr, k): \n",
    "    max = 0\n",
    "    n = len(arr)\n",
    "    for i in range(n - k + 1): \n",
    "        max = arr[i] \n",
    "        for j in range(0, k): \n",
    "            if arr[i + j] > max: \n",
    "                max = arr[i + j] \n",
    "        print(str(max) + \" \", end = \"\")"
   ]
  },
  {
   "cell_type": "code",
   "execution_count": 2,
   "metadata": {},
   "outputs": [
    {
     "name": "stdout",
     "output_type": "stream",
     "text": [
      "3 3 4 5 5 5 6 "
     ]
    }
   ],
   "source": [
    "arr = [1, 2, 3, 1, 4, 5, 2, 3, 6]\n",
    "maxSubarray(arr ,3)"
   ]
  },
  {
   "cell_type": "code",
   "execution_count": 3,
   "metadata": {},
   "outputs": [
    {
     "name": "stdout",
     "output_type": "stream",
     "text": [
      "10 10 10 15 15 90 90 "
     ]
    }
   ],
   "source": [
    "arr = [8, 5, 10, 7, 9, 4, 15, 12, 90, 13]\n",
    "maxSubarray(arr ,4)"
   ]
  },
  {
   "cell_type": "markdown",
   "metadata": {},
   "source": [
    "**A O(n) method: use Deque)** We create a Deque, Qi of capacity k, that stores only useful elements of current window of k elements. An element is useful if it is in current window and is greater than all other elements on left side of it in current window. We process all array elements one by one and maintain Qi to contain useful elements of current window and these useful elements are maintained in sorted order. The element at front of the Qi is the largest and element at rear of Qi is the smallest of current window. Thanks to Aashish for suggesting this method."
   ]
  },
  {
   "cell_type": "code",
   "execution_count": 4,
   "metadata": {},
   "outputs": [],
   "source": [
    "class Queue:\n",
    "    def __init__(self ,size):\n",
    "        self.capacity = size\n",
    "        self.size = 0\n",
    "        self.head = 0\n",
    "        self.tail = self.capacity - 1\n",
    "        self.queue = [0 for i in range(self.capacity)]\n",
    "    \n",
    "    def isFull(self):\n",
    "        return self.size == self.capacity\n",
    "    \n",
    "    def isEmpty(self):\n",
    "        return self.size == 0\n",
    "    \n",
    "    def EnQueue(self ,data):\n",
    "        if self.isFull():\n",
    "            return 'Queue is Full'\n",
    "        \n",
    "        self.tail = (self.tail+1) % self.capacity\n",
    "        self.queue[self.tail] = data\n",
    "        self.size += 1\n",
    "    \n",
    "    def Front(self):\n",
    "        if self.isEmpty():\n",
    "            return -1\n",
    "        return self.Queue[self.head]\n",
    "    \n",
    "    def Tail(self):\n",
    "        if self.isEmpty():\n",
    "            return -1\n",
    "        return self.Queue[self.tail]\n",
    "    \n",
    "    def DeQueue(self):\n",
    "        if self.isEmpty():\n",
    "            return 'Queue is Empty'\n",
    "        \n",
    "        data = self.queue[self.head]\n",
    "        self.queue[self.head] = 0\n",
    "        self.head = (self.head+1) % self.capacity\n",
    "        self.size -= 1\n",
    "        \n",
    "        print('{} is deleted from Queue'.format(data))\n",
    "        if self.head == self.tail:\n",
    "            self.head = 0\n",
    "            self.tail = 0\n",
    "    \n",
    "    def printQueue(self):\n",
    "        if self.isEmpty():\n",
    "            return 'Queue is Empty'\n",
    "        \n",
    "        tmp = self.head\n",
    "        while tmp != self.tail:\n",
    "            print(self.queue[tmp],end=\" \")\n",
    "            tmp = (tmp+1) % self.capacity\n",
    "        print(self.queue[tmp])\n",
    "        "
   ]
  },
  {
   "cell_type": "code",
   "execution_count": 5,
   "metadata": {},
   "outputs": [],
   "source": [
    "def maxSubarray(arr ,k):\n",
    "    \n",
    "    # Qi will store indexes of \n",
    "    # max element in array not \n",
    "    # max element\n",
    "    Qi = []\n",
    "    \n",
    "    for i in range(k):\n",
    "        \n",
    "        while Qi and arr[i] >= arr[Qi[-1]]:\n",
    "            Qi.pop()\n",
    "        \n",
    "        Qi.append(i)\n",
    "    \n",
    "    for i in range(k ,len(arr)):\n",
    "        \n",
    "        # print maximum element\n",
    "        print(arr[Qi[0]],end = \" \")\n",
    "        \n",
    "        # check whether we are \n",
    "        # not exceeding from size k\n",
    "        while Qi and Qi[0] < i - k:\n",
    "            Qi.pop(0)\n",
    "        \n",
    "        # Store the max \n",
    "        # element at front\n",
    "        while Qi and arr[i] >= arr[Qi[-1]]:\n",
    "            Qi.pop()\n",
    "        \n",
    "        Qi.append(i)\n",
    "    \n",
    "    print(arr[Qi[0]])"
   ]
  },
  {
   "cell_type": "code",
   "execution_count": 6,
   "metadata": {},
   "outputs": [
    {
     "name": "stdout",
     "output_type": "stream",
     "text": [
      "3 3 4 5 5 5 6\n"
     ]
    }
   ],
   "source": [
    "arr = [1, 2, 3, 1, 4, 5, 2, 3, 6]\n",
    "maxSubarray(arr ,3)"
   ]
  },
  {
   "cell_type": "code",
   "execution_count": 7,
   "metadata": {},
   "outputs": [
    {
     "name": "stdout",
     "output_type": "stream",
     "text": [
      "10 10 10 15 15 90 90\n"
     ]
    }
   ],
   "source": [
    "arr = [8, 5, 10, 7, 9, 4, 15, 12, 90, 13]\n",
    "maxSubarray(arr ,4)"
   ]
  },
  {
   "cell_type": "markdown",
   "metadata": {},
   "source": [
    "**Method 4 (Use Max-Heap)**<br>\n",
    "1. Pick first k elements and create a max heap of size k.<br>\n",
    "2. Perform heapify and print the root element.<br>\n",
    "3. Store the next and last element from the array.<br>\n",
    "4. Run a loop from k – 1 to n.<br> \n",
    "   a) Replace the value of element which is got out of the window with new element which came inside       the window.<br>\n",
    "   b) Perform heapify.<br>\n",
    "   c) Print the root of the Heap."
   ]
  },
  {
   "cell_type": "code",
   "execution_count": 8,
   "metadata": {},
   "outputs": [],
   "source": [
    "class MaxHeap:\n",
    "    \n",
    "    def __init__(self ,capacity):\n",
    "        self.capacity = capacity\n",
    "        self.heap = [0 for i in range(self.capacity)]\n",
    "        self.size = 0\n",
    "\n",
    "    def maxHeapify(self ,i):\n",
    "\n",
    "        largest = i\n",
    "        l = 2 * i + 1\n",
    "        r = 2 * i + 2\n",
    "\n",
    "        if l < self.size and self.heap[l] > self.heap[largest] :\n",
    "            largest = l\n",
    "\n",
    "        if r < self.size and self.heap[r] > self.heap[largest] :\n",
    "            largest = r\n",
    "\n",
    "        if largest != i :\n",
    "            self.heap[largest] ,self.heap[i] = self.heap[i] ,self.heap[largest]\n",
    "            self.maxHeapify(largest)\n",
    "\n",
    "    def insertKey(self, data):\n",
    "\n",
    "        self.heap[self.size] = data\n",
    "        child = self.size\n",
    "        parent = (child-1)//2\n",
    "        self.size += 1\n",
    "\n",
    "        while child > 0 and self.heap[child] > self.heap[parent]:\n",
    "            self.heap[child] ,self.heap[parent] = self.heap[parent] ,self.heap[child]\n",
    "            child = parent # child go to 1 level up\n",
    "            parent = (parent-1)//2 # parent go to 1 level up\n",
    "\n",
    "    def deleteKey(self, i) :\n",
    "\n",
    "        if self.size < i:\n",
    "            return -1\n",
    "\n",
    "        self.heap[i] = self.heap[self.size - 1]\n",
    "        self.heap[self.size - 1] = 0\n",
    "        self.size -= 1\n",
    "        self.maxHeapify(i)\n",
    "\n",
    "    def extractMax(self):\n",
    "\n",
    "        if self.size < 0:\n",
    "            return -1\n",
    "\n",
    "        max_ = self.heap[0]\n",
    "        self.deleteKey(0)        \n",
    "        return max_\n",
    "    \n",
    "    def peek(self):\n",
    "        \n",
    "        if self.size < 0:\n",
    "            return -1\n",
    "        \n",
    "        return self.heap[0]\n",
    "\n",
    "    def printData(self):\n",
    "        if self.size == -1:\n",
    "            return -1\n",
    "\n",
    "        for i in range(self.size):\n",
    "            print(self.heap[i],end=\" \")"
   ]
  },
  {
   "cell_type": "code",
   "execution_count": 9,
   "metadata": {},
   "outputs": [],
   "source": [
    "def maxSubarray(arr ,k):\n",
    "    \n",
    "    heap = MaxHeap(k)\n",
    "    \n",
    "    # insert K elements into a heap\n",
    "    for i in range(k):\n",
    "        heap.insertKey(arr[i])\n",
    "    \n",
    "    for i in range(k ,len(arr)):\n",
    "        print(heap.peek(), end=\" \")\n",
    "        heap.deleteKey(k-1)\n",
    "        heap.insertKey(arr[i])\n",
    "    \n",
    "    print(heap.peek())\n",
    "    "
   ]
  },
  {
   "cell_type": "code",
   "execution_count": 10,
   "metadata": {},
   "outputs": [
    {
     "name": "stdout",
     "output_type": "stream",
     "text": [
      "3 3 4 5 5 5 6\n"
     ]
    }
   ],
   "source": [
    "arr = [1, 2, 3, 1, 4, 5, 2, 3, 6]\n",
    "maxSubarray(arr ,3)"
   ]
  },
  {
   "cell_type": "code",
   "execution_count": 11,
   "metadata": {},
   "outputs": [
    {
     "name": "stdout",
     "output_type": "stream",
     "text": [
      "10 10 10 15 15 90 90\n"
     ]
    }
   ],
   "source": [
    "arr = [8, 5, 10, 7, 9, 4, 15, 12, 90, 13]\n",
    "maxSubarray(arr ,4)"
   ]
  },
  {
   "cell_type": "code",
   "execution_count": null,
   "metadata": {},
   "outputs": [],
   "source": []
  }
 ],
 "metadata": {
  "kernelspec": {
   "display_name": "Python 3",
   "language": "python",
   "name": "python3"
  },
  "language_info": {
   "codemirror_mode": {
    "name": "ipython",
    "version": 3
   },
   "file_extension": ".py",
   "mimetype": "text/x-python",
   "name": "python",
   "nbconvert_exporter": "python",
   "pygments_lexer": "ipython3",
   "version": "3.8.5"
  }
 },
 "nbformat": 4,
 "nbformat_minor": 2
}
