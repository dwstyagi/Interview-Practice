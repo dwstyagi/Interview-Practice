{
 "cells": [
  {
   "cell_type": "code",
   "execution_count": 37,
   "metadata": {},
   "outputs": [],
   "source": [
    "class Queue:\n",
    "    def __init__(self, capacity):\n",
    "        self.capacity = capacity\n",
    "        self.queue = []\n",
    "        self.head = -1\n",
    "        self.tail = -1\n",
    "    \n",
    "    def isEmpty(self):\n",
    "        return self.head == self.tail\n",
    "    \n",
    "    def isFull(self):\n",
    "        return (self.head + self.tail) == self.capacity - 1\n",
    "    \n",
    "    def EnQueue(self, data):\n",
    "        if self.isFull():\n",
    "            print(\"Queue is Full\")\n",
    "            return\n",
    "\n",
    "        self.tail += 1\n",
    "        self.queue.append(data)\n",
    "    \n",
    "    def DeQueue(self):\n",
    "        if self.isEmpty():\n",
    "            print('Queue is Empty')\n",
    "            return \n",
    "    \n",
    "        temp = self.queue[self.front]\n",
    "        for i in range(self.front, self.rear-1):\n",
    "            self.queue[i] = self.queue[i+1]\n",
    "\n",
    "        self.queue[self.rear-1] = 0\n",
    "        self.rear -= 1\n",
    "        print(\"{} delete from Queue\".format(temp))\n",
    "        return\n",
    "    \n",
    "    def printQueue(self):\n",
    "        if self.isEmpty():\n",
    "            print('Queue is Empty')\n",
    "            return\n",
    "        for i in range(self.front,self.rear):\n",
    "            print(self.queue[i],end=' ')\n",
    "        "
   ]
  },
  {
   "cell_type": "code",
   "execution_count": 38,
   "metadata": {},
   "outputs": [],
   "source": [
    "Q = Que(5)"
   ]
  },
  {
   "cell_type": "code",
   "execution_count": 39,
   "metadata": {},
   "outputs": [
    {
     "name": "stdout",
     "output_type": "stream",
     "text": [
      "2 Added in Queue\n",
      "3 Added in Queue\n",
      "4 Added in Queue\n",
      "5 Added in Queue\n"
     ]
    }
   ],
   "source": [
    "lis = [2,3,4,5]\n",
    "for i in lis:\n",
    "    Q.EnQueue(i)"
   ]
  },
  {
   "cell_type": "code",
   "execution_count": 40,
   "metadata": {},
   "outputs": [
    {
     "name": "stdout",
     "output_type": "stream",
     "text": [
      "2\n",
      "3\n",
      "4\n",
      "5\n"
     ]
    }
   ],
   "source": [
    "Q.printQueue()"
   ]
  },
  {
   "cell_type": "code",
   "execution_count": 41,
   "metadata": {},
   "outputs": [
    {
     "name": "stdout",
     "output_type": "stream",
     "text": [
      "6 Added in Queue\n"
     ]
    }
   ],
   "source": [
    "Q.EnQueue(6)"
   ]
  },
  {
   "cell_type": "code",
   "execution_count": 44,
   "metadata": {},
   "outputs": [
    {
     "name": "stdout",
     "output_type": "stream",
     "text": [
      "5 6 Queue is Empty\n"
     ]
    }
   ],
   "source": [
    "for _ in range(3):\n",
    "    Q.DeQueue()"
   ]
  },
  {
   "cell_type": "code",
   "execution_count": 43,
   "metadata": {},
   "outputs": [
    {
     "name": "stdout",
     "output_type": "stream",
     "text": [
      "5\n",
      "6\n"
     ]
    }
   ],
   "source": [
    "Q.printQueue()"
   ]
  },
  {
   "cell_type": "code",
   "execution_count": 95,
   "metadata": {},
   "outputs": [
    {
     "ename": "IndexError",
     "evalue": "list assignment index out of range",
     "output_type": "error",
     "traceback": [
      "\u001b[1;31m---------------------------------------------------------------------------\u001b[0m",
      "\u001b[1;31mIndexError\u001b[0m                                Traceback (most recent call last)",
      "\u001b[1;32m<ipython-input-95-255630f5484e>\u001b[0m in \u001b[0;36m<module>\u001b[1;34m\u001b[0m\n\u001b[1;32m----> 1\u001b[1;33m \u001b[0mQ\u001b[0m\u001b[1;33m.\u001b[0m\u001b[0mEnQueue\u001b[0m\u001b[1;33m(\u001b[0m\u001b[1;36m6\u001b[0m\u001b[1;33m)\u001b[0m\u001b[1;33m\u001b[0m\u001b[1;33m\u001b[0m\u001b[0m\n\u001b[0m",
      "\u001b[1;32m<ipython-input-88-3aadbeaef631>\u001b[0m in \u001b[0;36mEnQueue\u001b[1;34m(self, data)\u001b[0m\n\u001b[0;32m     16\u001b[0m             \u001b[1;32mreturn\u001b[0m \u001b[1;34m'Queue is full'\u001b[0m\u001b[1;33m\u001b[0m\u001b[1;33m\u001b[0m\u001b[0m\n\u001b[0;32m     17\u001b[0m         \u001b[1;32melse\u001b[0m\u001b[1;33m:\u001b[0m\u001b[1;33m\u001b[0m\u001b[1;33m\u001b[0m\u001b[0m\n\u001b[1;32m---> 18\u001b[1;33m             \u001b[0mself\u001b[0m\u001b[1;33m.\u001b[0m\u001b[0mqueue\u001b[0m\u001b[1;33m[\u001b[0m\u001b[0mself\u001b[0m\u001b[1;33m.\u001b[0m\u001b[0mrear\u001b[0m\u001b[1;33m]\u001b[0m \u001b[1;33m=\u001b[0m \u001b[0mdata\u001b[0m\u001b[1;33m\u001b[0m\u001b[1;33m\u001b[0m\u001b[0m\n\u001b[0m\u001b[0;32m     19\u001b[0m             \u001b[0mself\u001b[0m\u001b[1;33m.\u001b[0m\u001b[0mrear\u001b[0m \u001b[1;33m+=\u001b[0m \u001b[1;36m1\u001b[0m\u001b[1;33m\u001b[0m\u001b[1;33m\u001b[0m\u001b[0m\n\u001b[0;32m     20\u001b[0m \u001b[1;33m\u001b[0m\u001b[0m\n",
      "\u001b[1;31mIndexError\u001b[0m: list assignment index out of range"
     ]
    }
   ],
   "source": [
    "Q.EnQueue(6)"
   ]
  },
  {
   "cell_type": "code",
   "execution_count": 2,
   "metadata": {},
   "outputs": [],
   "source": [
    "class Stack:\n",
    "    def __init__(self):\n",
    "        self.stack = []\n",
    "    \n",
    "    def push(self, data):\n",
    "        self.stack.append(data)\n",
    "    \n",
    "    def pop(self):\n",
    "        if not len(self.stack):\n",
    "            print('Stack is Empty')\n",
    "            return \n",
    "        else:\n",
    "            self.stack.pop()\n",
    "    \n",
    "    def show(self):\n",
    "        if not len(self.stack):\n",
    "            print('Stack is Empty')\n",
    "            return \n",
    "        else:\n",
    "            for i in range(len(self.stack)-1,-1,-1):\n",
    "                print(self.stack[i])"
   ]
  },
  {
   "cell_type": "code",
   "execution_count": 3,
   "metadata": {},
   "outputs": [],
   "source": [
    "stack = Stack()"
   ]
  },
  {
   "cell_type": "code",
   "execution_count": 4,
   "metadata": {},
   "outputs": [
    {
     "name": "stdout",
     "output_type": "stream",
     "text": [
      "4\n",
      "3\n",
      "2\n",
      "1\n"
     ]
    }
   ],
   "source": [
    "lis = [1,2,3,4]\n",
    "for i in lis:\n",
    "    stack.push(i)\n",
    "stack.show()"
   ]
  },
  {
   "cell_type": "code",
   "execution_count": 5,
   "metadata": {},
   "outputs": [],
   "source": [
    "stack.pop()"
   ]
  },
  {
   "cell_type": "code",
   "execution_count": 6,
   "metadata": {},
   "outputs": [
    {
     "name": "stdout",
     "output_type": "stream",
     "text": [
      "3\n",
      "2\n",
      "1\n"
     ]
    }
   ],
   "source": [
    "stack.show()"
   ]
  },
  {
   "cell_type": "code",
   "execution_count": 7,
   "metadata": {},
   "outputs": [],
   "source": [
    "class QueueUsingStack:\n",
    "    \n",
    "    def __init__(self):\n",
    "        self.s1 = []\n",
    "        self.s2 = []\n",
    "    \n",
    "    def EnQueue(self, data):\n",
    "        self.s1.append(data)\n",
    "        return\n",
    "    \n",
    "    def DeQueue(self):\n",
    "        \n",
    "        if len(self.s2) == 0:\n",
    "            if len(self.s1) == 0:\n",
    "                return -1\n",
    "            else:\n",
    "                while not self:\n",
    "                    self.s2.append(self.s1[-1])\n",
    "                    self.s1.pop()\n",
    "                \n",
    "                return self.s2.pop()\n",
    "        else:\n",
    "            return self.s2.pop()"
   ]
  },
  {
   "cell_type": "code",
   "execution_count": 8,
   "metadata": {},
   "outputs": [],
   "source": [
    "q = Queue(5)\n",
    "lis = [1,2,3,4,5]\n",
    "for i in lis:\n",
    "    q.EnQueue(i)"
   ]
  },
  {
   "cell_type": "code",
   "execution_count": 9,
   "metadata": {},
   "outputs": [
    {
     "data": {
      "text/plain": [
       "1"
      ]
     },
     "execution_count": 9,
     "metadata": {},
     "output_type": "execute_result"
    }
   ],
   "source": [
    "q.queue[0]"
   ]
  },
  {
   "cell_type": "code",
   "execution_count": 10,
   "metadata": {},
   "outputs": [],
   "source": [
    "lis = [6,3,4,5]\n",
    "for i in lis:\n",
    "    q.EnQueue(i)"
   ]
  },
  {
   "cell_type": "code",
   "execution_count": 18,
   "metadata": {},
   "outputs": [
    {
     "name": "stdout",
     "output_type": "stream",
     "text": [
      "1 2 3 4 5 "
     ]
    }
   ],
   "source": [
    "q.printQueue()"
   ]
  },
  {
   "cell_type": "code",
   "execution_count": 11,
   "metadata": {},
   "outputs": [],
   "source": [
    "'''\n",
    "push(s, x) operation’s step are described below: \n",
    "  Enqueue x to q2\n",
    "  One by one dequeue everything from q1 and enqueue to q2.\n",
    "  Swap the names of q1 and q2 \n",
    "pop(s) operation’s function are described below: \n",
    "  Dequeue an item from q1 and return it.\n",
    "'''\n",
    "from queue import Queue\n",
    "class stackUsingQueue:\n",
    "    \n",
    "    def __init__(self):\n",
    "        \n",
    "        self.q1 = Queue()\n",
    "        self.q2 = Queue()\n",
    "        self.size = 0\n",
    "    \n",
    "    def push(self, data):\n",
    "        self.size += 1        \n",
    "        self.q2.put(data)\n",
    "        \n",
    "        while (not self.q1.empty()):\n",
    "            self.q2.put(self.q1.queue[0])\n",
    "            self.q1.get()\n",
    "        \n",
    "        self.q1, self.q2 = self.q2, self.q1\n",
    "    \n",
    "    def pop(self):\n",
    "                \n",
    "        if self.q1.empty():\n",
    "            return 'stack empty'\n",
    "        \n",
    "        self.size -= 1\n",
    "        x = self.q1.get()\n",
    "        return x\n",
    "    \n",
    "    def curr_size(self):\n",
    "        return self.size\n",
    "        "
   ]
  },
  {
   "cell_type": "code",
   "execution_count": 12,
   "metadata": {},
   "outputs": [],
   "source": [
    "s = stackUsingQueue()\n",
    "lis = [1,2,3,4,5]\n",
    "for i in lis:\n",
    "    s.push(i)"
   ]
  },
  {
   "cell_type": "code",
   "execution_count": 13,
   "metadata": {},
   "outputs": [
    {
     "data": {
      "text/plain": [
       "5"
      ]
     },
     "execution_count": 13,
     "metadata": {},
     "output_type": "execute_result"
    }
   ],
   "source": [
    "s.curr_size()"
   ]
  },
  {
   "cell_type": "code",
   "execution_count": 14,
   "metadata": {},
   "outputs": [],
   "source": [
    "def firstNonRepeatcharacter(arr):\n",
    "    n = len(arr)\n",
    "    lis = []\n",
    "    dic = {}\n",
    "    for i in range(n):\n",
    "        if arr[i] not in dic:\n",
    "            dic[arr[i]] = 1\n",
    "            lis.append(arr[i])\n",
    "        else:\n",
    "            lis.append(-1)\n",
    "            \n",
    "    \n",
    "    return lis\n",
    "            "
   ]
  },
  {
   "cell_type": "code",
   "execution_count": 15,
   "metadata": {},
   "outputs": [
    {
     "data": {
      "text/plain": [
       "['a', -1, 'c']"
      ]
     },
     "execution_count": 15,
     "metadata": {},
     "output_type": "execute_result"
    }
   ],
   "source": [
    "lis = ['a','a','c']\n",
    "firstNonRepeatcharacter(lis)"
   ]
  },
  {
   "cell_type": "code",
   "execution_count": 127,
   "metadata": {},
   "outputs": [],
   "source": [
    "from queue import Queue\n",
    "def firstNonRepeatingCharacter(lis):\n",
    "    char = ['a','b','c','d','e','f','g','h','i','j','k','l','m','n','o','p','q','r','s','t','u','v','w','x','y','z']\n",
    "    dic = {}\n",
    "    npc = []\n",
    "    \n",
    "    Q = Queue(len(lis))\n",
    "    \n",
    "    for i in char:\n",
    "        dic[i] = 0\n",
    "    \n",
    "    for i in lis:\n",
    "        Q.put(i)\n",
    "        \n",
    "        dic[i] += 1\n",
    "        \n",
    "        while not Q.empty():\n",
    "            if dic[Q.queue[0]] > 1:\n",
    "                Q.get()\n",
    "            else:\n",
    "                npc.append(Q.queue[0])\n",
    "                break\n",
    "                \n",
    "        if Q.empty():\n",
    "            npc.append(-1)\n",
    "    \n",
    "    return npc"
   ]
  },
  {
   "cell_type": "code",
   "execution_count": 128,
   "metadata": {},
   "outputs": [
    {
     "data": {
      "text/plain": [
       "['a', -1, 'b', 'b']"
      ]
     },
     "execution_count": 128,
     "metadata": {},
     "output_type": "execute_result"
    }
   ],
   "source": [
    "firstNonRepeatingCharacter('aabc')"
   ]
  },
  {
   "cell_type": "code",
   "execution_count": 131,
   "metadata": {},
   "outputs": [],
   "source": [
    "def firstNonRepeatingCharacter(lis):\n",
    "    char = ['a','b','c','d','e','f','g','h','i','j','k','l','m','n','o','p','q','r','s','t','u','v','w','x','y','z']\n",
    "    dic = {}\n",
    "    npc = []\n",
    "    \n",
    "    Q = Que(len(lis))\n",
    "    \n",
    "    for i in char:\n",
    "        dic[i] = 0\n",
    "    \n",
    "    for i in lis:\n",
    "        Q.EnQueue(i)\n",
    "        \n",
    "        dic[i] += 1\n",
    "        \n",
    "        while not Q.isEmpty():\n",
    "            if dic[Q.queue[0]] > 1:\n",
    "                Q.DeQueue()\n",
    "            else:\n",
    "                npc.append(Q.queue[0])\n",
    "                break\n",
    "                \n",
    "        if Q.isEmpty():\n",
    "            npc.append(-1)\n",
    "    \n",
    "    return npc"
   ]
  },
  {
   "cell_type": "code",
   "execution_count": 132,
   "metadata": {},
   "outputs": [
    {
     "name": "stdout",
     "output_type": "stream",
     "text": [
      "a a "
     ]
    },
    {
     "data": {
      "text/plain": [
       "['a', -1, 'b', 'b']"
      ]
     },
     "execution_count": 132,
     "metadata": {},
     "output_type": "execute_result"
    }
   ],
   "source": [
    "firstNonRepeatingCharacter('aabc')"
   ]
  },
  {
   "cell_type": "markdown",
   "metadata": {},
   "source": [
    "# Max subarray of size k"
   ]
  },
  {
   "cell_type": "code",
   "execution_count": 59,
   "metadata": {},
   "outputs": [],
   "source": [
    "def max_subarray(arr, n, k):\n",
    "    ele = 0\n",
    "    lis = []\n",
    "    for i in range(n-k+1):\n",
    "        ele = max(arr[i:i+k])\n",
    "        lis.append(ele)\n",
    "    \n",
    "    return lis"
   ]
  },
  {
   "cell_type": "code",
   "execution_count": 62,
   "metadata": {},
   "outputs": [
    {
     "data": {
      "text/plain": [
       "[3, 3, 4, 5, 5, 5, 6]"
      ]
     },
     "execution_count": 62,
     "metadata": {},
     "output_type": "execute_result"
    }
   ],
   "source": [
    "arr = [1, 2, 3, 1, 4, 5, 2, 3, 6]\n",
    "max_subarray(arr, len(arr), 3)"
   ]
  },
  {
   "cell_type": "code",
   "execution_count": 61,
   "metadata": {},
   "outputs": [
    {
     "data": {
      "text/plain": [
       "4"
      ]
     },
     "execution_count": 61,
     "metadata": {},
     "output_type": "execute_result"
    }
   ],
   "source": [
    "max(arr[2:5])"
   ]
  },
  {
   "cell_type": "code",
   "execution_count": 8,
   "metadata": {},
   "outputs": [],
   "source": [
    "from collections import deque\n",
    "def maxSubarray(arr, n, k):\n",
    "    lis = []\n",
    "    Qi = deque()\n",
    "    \n",
    "    for i in range(k):\n",
    "        \n",
    "        while Qi and arr[i] >= arr[Qi[-1]]:\n",
    "            Qi.pop()\n",
    "        \n",
    "        Qi.append(i)\n",
    "    \n",
    "    for i in range(k, n): \n",
    "          \n",
    "        lis.append(arr[Qi[0]])\n",
    "          \n",
    "        while Qi and Qi[0] <= i-k:\n",
    "            Qi.popleft()  \n",
    "          \n",
    "        while Qi and arr[i] >= arr[Qi[-1]] : \n",
    "            Qi.pop() \n",
    "          \n",
    "        Qi.append(i) \n",
    "      \n",
    "    lis.append(arr[Qi[0]])    \n",
    "    \n",
    "    return lis"
   ]
  },
  {
   "cell_type": "code",
   "execution_count": 9,
   "metadata": {},
   "outputs": [
    {
     "data": {
      "text/plain": [
       "[10, 10, 10, 15, 15, 90, 90]"
      ]
     },
     "execution_count": 9,
     "metadata": {},
     "output_type": "execute_result"
    }
   ],
   "source": [
    "arr=[8, 5, 10, 7, 9, 4, 15, 12, 90, 13]\n",
    "maxSubarray(arr, len(arr), 4)"
   ]
  },
  {
   "cell_type": "code",
   "execution_count": null,
   "metadata": {},
   "outputs": [],
   "source": []
  }
 ],
 "metadata": {
  "kernelspec": {
   "display_name": "Python 3",
   "language": "python",
   "name": "python3"
  },
  "language_info": {
   "codemirror_mode": {
    "name": "ipython",
    "version": 3
   },
   "file_extension": ".py",
   "mimetype": "text/x-python",
   "name": "python",
   "nbconvert_exporter": "python",
   "pygments_lexer": "ipython3",
   "version": "3.7.3"
  }
 },
 "nbformat": 4,
 "nbformat_minor": 2
}
