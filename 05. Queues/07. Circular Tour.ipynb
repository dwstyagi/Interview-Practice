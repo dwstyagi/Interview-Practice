{
 "cells": [
  {
   "cell_type": "markdown",
   "metadata": {},
   "source": [
    "```\n",
    "                1\n",
    "               / \\\n",
    "            2 /   \\ 3\n",
    "             /     \\\n",
    "            5       2\n",
    "            |       |\n",
    "          1 |       | 4\n",
    "            |       |\n",
    "            4 ----- 3\n",
    "                5\n",
    " arr = [(1,3) ,(2,4) ,(3,5) ,(4,1) ,(5,2)]\n",
    " ```"
   ]
  },
  {
   "cell_type": "markdown",
   "metadata": {},
   "source": [
    "### consider each pump as starting point and try to reach each pump"
   ]
  },
  {
   "cell_type": "code",
   "execution_count": 10,
   "metadata": {},
   "outputs": [],
   "source": [
    "def circularTour(arr):\n",
    "    n = len(arr)\n",
    "    \n",
    "    \n",
    "    for i in range(n):\n",
    "        j = i\n",
    "        count = 1\n",
    "        flag = 1\n",
    "        \n",
    "        curr_patrol = arr[j][0] - arr[j][1]\n",
    "        while count != n and curr_patrol >= 0:\n",
    "            if flag:\n",
    "                pump = j+1\n",
    "                flag = 0\n",
    "                \n",
    "            count += 1\n",
    "            j = (j+1) % n\n",
    "            curr_patrol += arr[j][0]\n",
    "            curr_patrol -= arr[j][1]\n",
    "            \n",
    "        if count == n:\n",
    "            break\n",
    "    \n",
    "    return pump if count == n else -1"
   ]
  },
  {
   "cell_type": "code",
   "execution_count": 8,
   "metadata": {},
   "outputs": [
    {
     "data": {
      "text/plain": [
       "4"
      ]
     },
     "execution_count": 8,
     "metadata": {},
     "output_type": "execute_result"
    }
   ],
   "source": [
    "arr = [(1,3) ,(2,4) ,(3,5) ,(4,1) ,(5,2)]\n",
    "circularTour(arr)"
   ]
  },
  {
   "cell_type": "code",
   "execution_count": 9,
   "metadata": {},
   "outputs": [
    {
     "data": {
      "text/plain": [
       "3"
      ]
     },
     "execution_count": 9,
     "metadata": {},
     "output_type": "execute_result"
    }
   ],
   "source": [
    "arr = [(6,4) ,(3,6) ,(7,3)]\n",
    "circularTour(arr)"
   ]
  },
  {
   "cell_type": "code",
   "execution_count": 11,
   "metadata": {},
   "outputs": [],
   "source": [
    "def circularTour(arr):\n",
    "    n = len(arr)\n",
    "    remaining = 0\n",
    "    start = 0\n",
    "    diff = 0\n",
    "    \n",
    "    for i in range(n):\n",
    "        remaining += arr[i][0] - arr[i][1]\n",
    "        \n",
    "        if remaining < 0:\n",
    "            start = i+1\n",
    "            diff = remaining\n",
    "            remaining = 0\n",
    "    \n",
    "    return start+1 if remaining+diff >= 0 else -1"
   ]
  },
  {
   "cell_type": "code",
   "execution_count": 12,
   "metadata": {},
   "outputs": [
    {
     "data": {
      "text/plain": [
       "4"
      ]
     },
     "execution_count": 12,
     "metadata": {},
     "output_type": "execute_result"
    }
   ],
   "source": [
    "arr = [(1,3) ,(2,4) ,(3,5) ,(4,1) ,(5,2)]\n",
    "circularTour(arr)"
   ]
  },
  {
   "cell_type": "code",
   "execution_count": 13,
   "metadata": {},
   "outputs": [
    {
     "data": {
      "text/plain": [
       "3"
      ]
     },
     "execution_count": 13,
     "metadata": {},
     "output_type": "execute_result"
    }
   ],
   "source": [
    "arr = [(6,4) ,(3,6) ,(7,3)]\n",
    "circularTour(arr)"
   ]
  },
  {
   "cell_type": "code",
   "execution_count": 14,
   "metadata": {},
   "outputs": [
    {
     "data": {
      "text/plain": [
       "[0]"
      ]
     },
     "execution_count": 14,
     "metadata": {},
     "output_type": "execute_result"
    }
   ],
   "source": [
    "arr = [0]\n",
    "arr"
   ]
  },
  {
   "cell_type": "code",
   "execution_count": 15,
   "metadata": {},
   "outputs": [
    {
     "data": {
      "text/plain": [
       "[0, [1, 2]]"
      ]
     },
     "execution_count": 15,
     "metadata": {},
     "output_type": "execute_result"
    }
   ],
   "source": [
    "arr.append([1,2])\n",
    "arr"
   ]
  },
  {
   "cell_type": "code",
   "execution_count": 16,
   "metadata": {},
   "outputs": [
    {
     "data": {
      "text/plain": [
       "2"
      ]
     },
     "execution_count": 16,
     "metadata": {},
     "output_type": "execute_result"
    }
   ],
   "source": [
    "arr[1][1]"
   ]
  },
  {
   "cell_type": "code",
   "execution_count": 17,
   "metadata": {},
   "outputs": [
    {
     "name": "stdout",
     "output_type": "stream",
     "text": [
      "87 27 40 95 71 96 79 35 2 68 3 98 93 18 57 53 81 2 42 87 90 66 20 45 30 41\n"
     ]
    }
   ],
   "source": [
    "lis = list(map(int ,input().split()))"
   ]
  },
  {
   "cell_type": "code",
   "execution_count": 18,
   "metadata": {},
   "outputs": [
    {
     "data": {
      "text/plain": [
       "[87,\n",
       " 27,\n",
       " 40,\n",
       " 95,\n",
       " 71,\n",
       " 96,\n",
       " 79,\n",
       " 35,\n",
       " 2,\n",
       " 68,\n",
       " 3,\n",
       " 98,\n",
       " 93,\n",
       " 18,\n",
       " 57,\n",
       " 53,\n",
       " 81,\n",
       " 2,\n",
       " 42,\n",
       " 87,\n",
       " 90,\n",
       " 66,\n",
       " 20,\n",
       " 45,\n",
       " 30,\n",
       " 41]"
      ]
     },
     "execution_count": 18,
     "metadata": {},
     "output_type": "execute_result"
    }
   ],
   "source": [
    "lis"
   ]
  },
  {
   "cell_type": "code",
   "execution_count": 19,
   "metadata": {},
   "outputs": [],
   "source": [
    "arr = []\n",
    "\n",
    "for i in range(0,len(lis) ,2):\n",
    "    arr.append([lis[i],lis[i+1]])"
   ]
  },
  {
   "cell_type": "code",
   "execution_count": 20,
   "metadata": {},
   "outputs": [
    {
     "data": {
      "text/plain": [
       "[[87, 27],\n",
       " [40, 95],\n",
       " [71, 96],\n",
       " [79, 35],\n",
       " [2, 68],\n",
       " [3, 98],\n",
       " [93, 18],\n",
       " [57, 53],\n",
       " [81, 2],\n",
       " [42, 87],\n",
       " [90, 66],\n",
       " [20, 45],\n",
       " [30, 41]]"
      ]
     },
     "execution_count": 20,
     "metadata": {},
     "output_type": "execute_result"
    }
   ],
   "source": [
    "arr"
   ]
  },
  {
   "cell_type": "code",
   "execution_count": 22,
   "metadata": {},
   "outputs": [
    {
     "data": {
      "text/plain": [
       "7"
      ]
     },
     "execution_count": 22,
     "metadata": {},
     "output_type": "execute_result"
    }
   ],
   "source": [
    "circularTour(arr)"
   ]
  },
  {
   "cell_type": "code",
   "execution_count": 23,
   "metadata": {},
   "outputs": [
    {
     "data": {
      "text/plain": [
       "13"
      ]
     },
     "execution_count": 23,
     "metadata": {},
     "output_type": "execute_result"
    }
   ],
   "source": [
    "len(arr)"
   ]
  },
  {
   "cell_type": "code",
   "execution_count": null,
   "metadata": {},
   "outputs": [],
   "source": []
  }
 ],
 "metadata": {
  "kernelspec": {
   "display_name": "Python 3",
   "language": "python",
   "name": "python3"
  },
  "language_info": {
   "codemirror_mode": {
    "name": "ipython",
    "version": 3
   },
   "file_extension": ".py",
   "mimetype": "text/x-python",
   "name": "python",
   "nbconvert_exporter": "python",
   "pygments_lexer": "ipython3",
   "version": "3.8.5"
  }
 },
 "nbformat": 4,
 "nbformat_minor": 2
}
