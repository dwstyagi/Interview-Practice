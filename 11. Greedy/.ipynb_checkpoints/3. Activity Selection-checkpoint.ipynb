{
 "cells": [
  {
   "cell_type": "code",
   "execution_count": 1,
   "metadata": {},
   "outputs": [],
   "source": [
    "def maxMeet(S ,F):\n",
    "    \n",
    "    activity = []\n",
    "    for i in range(len(S)):\n",
    "        activity.append((S[i] ,F[i]))\n",
    "    \n",
    "    # Sort the activities according to their finishing time\n",
    "    activity.sort(key = lambda item:item[1])\n",
    "    \n",
    "    # Select the first activity from the sorted array and print it\n",
    "    acti = activity.pop(0)\n",
    "    count = 1\n",
    "    \n",
    "    # Do following for remaining activities\n",
    "    # a) If the start time of this activity is \n",
    "    #    greater than or equal to the finish time \n",
    "    #    of previously selected activity then \n",
    "    #    select this activity and print it.\n",
    "    \n",
    "    for i in activity:\n",
    "        if i[0] > acti[1]:\n",
    "            acti = i\n",
    "            count += 1\n",
    "    \n",
    "    return count"
   ]
  },
  {
   "cell_type": "code",
   "execution_count": 2,
   "metadata": {},
   "outputs": [
    {
     "data": {
      "text/plain": [
       "4"
      ]
     },
     "execution_count": 2,
     "metadata": {},
     "output_type": "execute_result"
    }
   ],
   "source": [
    "S = [1, 3, 0, 5, 8, 5]\n",
    "F = [2, 4, 6, 7, 9, 9]\n",
    "maxMeet(S ,F)"
   ]
  },
  {
   "cell_type": "code",
   "execution_count": 3,
   "metadata": {},
   "outputs": [
    {
     "data": {
      "text/plain": [
       "3"
      ]
     },
     "execution_count": 3,
     "metadata": {},
     "output_type": "execute_result"
    }
   ],
   "source": [
    "S = [75250 ,50074 ,43659 ,8931 ,11273 ,27545 ,50879 ,77924]\n",
    "F = [112960 ,114515 ,81825 ,93424 ,54316 ,35533 ,73383 ,160252]\n",
    "maxMeet(S ,F)"
   ]
  },
  {
   "cell_type": "code",
   "execution_count": null,
   "metadata": {},
   "outputs": [],
   "source": []
  }
 ],
 "metadata": {
  "kernelspec": {
   "display_name": "Python 3",
   "language": "python",
   "name": "python3"
  },
  "language_info": {
   "codemirror_mode": {
    "name": "ipython",
    "version": 3
   },
   "file_extension": ".py",
   "mimetype": "text/x-python",
   "name": "python",
   "nbconvert_exporter": "python",
   "pygments_lexer": "ipython3",
   "version": "3.7.3"
  }
 },
 "nbformat": 4,
 "nbformat_minor": 2
}
