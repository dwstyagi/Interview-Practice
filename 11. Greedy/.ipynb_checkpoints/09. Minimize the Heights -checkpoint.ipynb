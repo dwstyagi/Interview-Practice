{
 "cells": [
  {
   "cell_type": "markdown",
   "metadata": {},
   "source": [
    "Given heights of n towers and a value k.<br> We need to either increase or decrease height of every tower by k (only once) where k > 0. <br><b>The task </b>is to minimize the difference between the heights of the longest and the shortest tower after modifications, and output this difference."
   ]
  },
  {
   "cell_type": "markdown",
   "metadata": {},
   "source": [
    "```\n",
    "Input  : arr[] = {1, 15, 10}, k = 6\n",
    "Output :  Maximum difference is 5.\n",
    "Explanation : We change 1 to 6, 15 to \n",
    "9 and 10 to 4. Maximum difference is 5\n",
    "(between 4 and 9). We can't get a lower\n",
    "difference.\n",
    "\n",
    "Input : arr[] = {1, 5, 15, 10} \n",
    "        k = 3   \n",
    "Output : Maximum difference is 8\n",
    "arr[] = {4, 8, 12, 7}\n",
    "\n",
    "Input : arr[] = {4, 6} \n",
    "        k = 10\n",
    "Output : Maximum difference is 2\n",
    "arr[] = {14, 16} OR {-6, -4}\n",
    "\n",
    "Input : arr[] = {6, 10} \n",
    "        k = 3\n",
    "Output : Maximum difference is 2\n",
    "arr[] = {9, 7} \n",
    "\n",
    "Input : arr[] = {1, 10, 14, 14, 14, 15}\n",
    "        k = 6 \n",
    "Output: Maximum difference is 5\n",
    "arr[] = {7, 4, 8, 8, 8, 9} \n",
    "\n",
    "Input : arr[] = {1, 2, 3}\n",
    "        k = 2 \n",
    "Output: Maximum difference is 2\n",
    "arr[] = {3, 4, 5}\n",
    "```"
   ]
  },
  {
   "cell_type": "markdown",
   "metadata": {},
   "source": [
    "**Brute force method**<br>\n",
    "Take all possible combination of increase or decrease values by k"
   ]
  },
  {
   "cell_type": "code",
   "execution_count": 13,
   "metadata": {},
   "outputs": [],
   "source": [
    "import itertools\n",
    "def getMinDiffernce(arr ,k):\n",
    "    n = len(arr)\n",
    "    comb = list(itertools.product([-k ,k] ,repeat=n))\n",
    "    \n",
    "    auxList = [sum(x) for x in zip(comb[0] ,arr)]\n",
    "    diff = max(auxList) - min(auxList)\n",
    "    \n",
    "    result ,resultArr = diff ,auxList\n",
    "    \n",
    "    for i in comb[1:]:\n",
    "        auxList = [sum(x) for x in zip(i ,arr)]\n",
    "        newDiff = max(auxList) - min(auxList)\n",
    "        \n",
    "        if diff > newDiff:\n",
    "            result ,resultArr = newDiff ,auxList\n",
    "            diff = newDiff\n",
    "    \n",
    "    \n",
    "    return result"
   ]
  },
  {
   "cell_type": "code",
   "execution_count": 14,
   "metadata": {},
   "outputs": [
    {
     "data": {
      "text/plain": [
       "5"
      ]
     },
     "execution_count": 14,
     "metadata": {},
     "output_type": "execute_result"
    }
   ],
   "source": [
    "arr = [1, 15, 10] \n",
    "k = 6\n",
    "getMinDiffernce(arr ,k)"
   ]
  },
  {
   "cell_type": "code",
   "execution_count": 12,
   "metadata": {},
   "outputs": [
    {
     "data": {
      "text/plain": [
       "[(0, 0, 0),\n",
       " (0, 0, 1),\n",
       " (0, 1, 0),\n",
       " (0, 1, 1),\n",
       " (1, 0, 0),\n",
       " (1, 0, 1),\n",
       " (1, 1, 0),\n",
       " (1, 1, 1)]"
      ]
     },
     "execution_count": 12,
     "metadata": {},
     "output_type": "execute_result"
    }
   ],
   "source": [
    "import itertools\n",
    "comb = list(itertools.product([0,1] ,repeat= 3))\n",
    "comb"
   ]
  },
  {
   "cell_type": "code",
   "execution_count": 6,
   "metadata": {},
   "outputs": [
    {
     "data": {
      "text/plain": [
       "[-1, 13, 8]"
      ]
     },
     "execution_count": 6,
     "metadata": {},
     "output_type": "execute_result"
    }
   ],
   "source": [
    "arr = [1 ,15 ,10]\n",
    "aux = [sum(x) for x in zip(comb[0] ,arr)]\n",
    "aux"
   ]
  },
  {
   "cell_type": "code",
   "execution_count": 7,
   "metadata": {},
   "outputs": [],
   "source": [
    "maxdiff = max(aux)"
   ]
  },
  {
   "cell_type": "code",
   "execution_count": 11,
   "metadata": {},
   "outputs": [
    {
     "name": "stdout",
     "output_type": "stream",
     "text": [
      "-1\n",
      "13\n",
      "8\n"
     ]
    }
   ],
   "source": [
    "a = zip([-2,-2,-2],[1,15,10])\n",
    "for i in a:\n",
    "    print(sum(i))"
   ]
  },
  {
   "cell_type": "code",
   "execution_count": 21,
   "metadata": {},
   "outputs": [
    {
     "name": "stdout",
     "output_type": "stream",
     "text": [
      "3\n",
      "2\n",
      "4\n",
      "1 5 8 10\n",
      "5\n",
      "s\n"
     ]
    },
    {
     "ename": "ValueError",
     "evalue": "invalid literal for int() with base 10: 's'",
     "output_type": "error",
     "traceback": [
      "\u001b[1;31m---------------------------------------------------------------------------\u001b[0m",
      "\u001b[1;31mValueError\u001b[0m                                Traceback (most recent call last)",
      "\u001b[1;32m<ipython-input-21-2f745b5e1127>\u001b[0m in \u001b[0;36m<module>\u001b[1;34m\u001b[0m\n\u001b[0;32m     22\u001b[0m \u001b[1;33m\u001b[0m\u001b[0m\n\u001b[0;32m     23\u001b[0m \u001b[1;32mfor\u001b[0m \u001b[0m_\u001b[0m \u001b[1;32min\u001b[0m \u001b[0mrange\u001b[0m\u001b[1;33m(\u001b[0m\u001b[0mint\u001b[0m\u001b[1;33m(\u001b[0m\u001b[0minput\u001b[0m\u001b[1;33m(\u001b[0m\u001b[1;33m)\u001b[0m\u001b[1;33m)\u001b[0m\u001b[1;33m)\u001b[0m\u001b[1;33m:\u001b[0m\u001b[1;33m\u001b[0m\u001b[1;33m\u001b[0m\u001b[0m\n\u001b[1;32m---> 24\u001b[1;33m     \u001b[0mk\u001b[0m \u001b[1;33m=\u001b[0m \u001b[0mint\u001b[0m\u001b[1;33m(\u001b[0m\u001b[0minput\u001b[0m\u001b[1;33m(\u001b[0m\u001b[1;33m)\u001b[0m\u001b[1;33m)\u001b[0m\u001b[1;33m\u001b[0m\u001b[1;33m\u001b[0m\u001b[0m\n\u001b[0m\u001b[0;32m     25\u001b[0m     \u001b[0mn\u001b[0m \u001b[1;33m=\u001b[0m \u001b[0mint\u001b[0m\u001b[1;33m(\u001b[0m\u001b[0minput\u001b[0m\u001b[1;33m(\u001b[0m\u001b[1;33m)\u001b[0m\u001b[1;33m)\u001b[0m\u001b[1;33m\u001b[0m\u001b[1;33m\u001b[0m\u001b[0m\n\u001b[0;32m     26\u001b[0m     \u001b[0marr\u001b[0m \u001b[1;33m=\u001b[0m \u001b[0mlist\u001b[0m\u001b[1;33m(\u001b[0m\u001b[0mmap\u001b[0m\u001b[1;33m(\u001b[0m\u001b[0mint\u001b[0m \u001b[1;33m,\u001b[0m\u001b[0minput\u001b[0m\u001b[1;33m(\u001b[0m\u001b[1;33m)\u001b[0m\u001b[1;33m.\u001b[0m\u001b[0mrstrip\u001b[0m\u001b[1;33m(\u001b[0m\u001b[1;33m)\u001b[0m\u001b[1;33m.\u001b[0m\u001b[0msplit\u001b[0m\u001b[1;33m(\u001b[0m\u001b[1;33m)\u001b[0m\u001b[1;33m)\u001b[0m\u001b[1;33m)\u001b[0m\u001b[1;33m\u001b[0m\u001b[1;33m\u001b[0m\u001b[0m\n",
      "\u001b[1;31mValueError\u001b[0m: invalid literal for int() with base 10: 's'"
     ]
    }
   ],
   "source": [
    "#code\n",
    "import itertools\n",
    "def getMinDiff(arr ,k):\n",
    "    \n",
    "    n = len(arr)\n",
    "    comb = list(itertools.product([-k ,k] ,repeat=n))\n",
    "    \n",
    "    auxList = [sum(x) for x in zip(comb[0] ,arr)]\n",
    "    diff = max(auxList) - min(auxList)\n",
    "    \n",
    "    result ,resultArr = diff ,auxList\n",
    "    \n",
    "    for i in comb[1:]:\n",
    "        auxList = [sum(x) for x in zip(i ,arr)]\n",
    "        newDiff = max(auxList) - min(auxList)\n",
    "        \n",
    "        if diff > newDiff:\n",
    "            result ,resultArr = newDiff ,auxList\n",
    "            diff = newDiff\n",
    "\n",
    "    return result\n",
    "    \n",
    "for _ in range(int(input())):\n",
    "    k = int(input())\n",
    "    n = int(input())\n",
    "    arr = list(map(int ,input().rstrip().split()))\n",
    "    print(getMinDiff(arr ,k))"
   ]
  },
  {
   "cell_type": "code",
   "execution_count": null,
   "metadata": {},
   "outputs": [],
   "source": [
    "3 2 4 1 5 8 10 3 5 3 9 12 16 20 4 6 100 150 200 250 300 400"
   ]
  }
 ],
 "metadata": {
  "kernelspec": {
   "display_name": "Python 3",
   "language": "python",
   "name": "python3"
  },
  "language_info": {
   "codemirror_mode": {
    "name": "ipython",
    "version": 3
   },
   "file_extension": ".py",
   "mimetype": "text/x-python",
   "name": "python",
   "nbconvert_exporter": "python",
   "pygments_lexer": "ipython3",
   "version": "3.7.3"
  }
 },
 "nbformat": 4,
 "nbformat_minor": 2
}
