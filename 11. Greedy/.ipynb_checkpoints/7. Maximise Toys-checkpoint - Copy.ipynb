{
 "cells": [
  {
   "cell_type": "markdown",
   "metadata": {},
   "source": [
    "```\n",
    "Input:  N = 10, K =  50\n",
    "        cost = { 1, 12, 5, 111, 200, 1000, 10, 9, 12, 15 }\n",
    "Output: 6\n",
    "Explanation: Toys with amount 1, 5, 9, 10, 12, and 12 \n",
    "can be purchased resulting in a total amount of 49. Hence,\n",
    "maximum number of toys is 6.\n",
    "\n",
    "Input: N = 7, K = 50\n",
    "       cost = { 1, 12, 5, 111, 200, 1000, 10 }\n",
    "Output: 4\n",
    "```"
   ]
  },
  {
   "cell_type": "code",
   "execution_count": 1,
   "metadata": {},
   "outputs": [],
   "source": [
    "def countMaximumToys(cost ,k):\n",
    "    \n",
    "    count = 0\n",
    "    cost.sort()\n",
    "    \n",
    "    for i in cost:\n",
    "        if i <= k:\n",
    "            count += 1\n",
    "            k -= i\n",
    "        \n",
    "        else:\n",
    "            break\n",
    "    \n",
    "    return count\n",
    "            "
   ]
  },
  {
   "cell_type": "code",
   "execution_count": 2,
   "metadata": {},
   "outputs": [
    {
     "data": {
      "text/plain": [
       "6"
      ]
     },
     "execution_count": 2,
     "metadata": {},
     "output_type": "execute_result"
    }
   ],
   "source": [
    "arr = [1, 12, 5, 111, 200, 1000, 10, 9, 12, 15]\n",
    "k = 50\n",
    "countMaximumToys(arr ,k)"
   ]
  },
  {
   "cell_type": "code",
   "execution_count": 3,
   "metadata": {},
   "outputs": [
    {
     "data": {
      "text/plain": [
       "4"
      ]
     },
     "execution_count": 3,
     "metadata": {},
     "output_type": "execute_result"
    }
   ],
   "source": [
    "arr = [1, 12, 5, 111, 200, 1000, 10]\n",
    "k = 50\n",
    "countMaximumToys(arr ,k)"
   ]
  },
  {
   "cell_type": "code",
   "execution_count": 4,
   "metadata": {},
   "outputs": [
    {
     "data": {
      "text/plain": [
       "2"
      ]
     },
     "execution_count": 4,
     "metadata": {},
     "output_type": "execute_result"
    }
   ],
   "source": [
    "arr = [1, 2]\n",
    "k = 10\n",
    "countMaximumToys(arr ,k)"
   ]
  },
  {
   "cell_type": "code",
   "execution_count": null,
   "metadata": {},
   "outputs": [],
   "source": []
  }
 ],
 "metadata": {
  "kernelspec": {
   "display_name": "Python 3",
   "language": "python",
   "name": "python3"
  },
  "language_info": {
   "codemirror_mode": {
    "name": "ipython",
    "version": 3
   },
   "file_extension": ".py",
   "mimetype": "text/x-python",
   "name": "python",
   "nbconvert_exporter": "python",
   "pygments_lexer": "ipython3",
   "version": "3.7.3"
  }
 },
 "nbformat": 4,
 "nbformat_minor": 2
}
