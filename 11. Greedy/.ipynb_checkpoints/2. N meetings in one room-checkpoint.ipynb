{
 "cells": [
  {
   "cell_type": "markdown",
   "metadata": {},
   "source": [
    "```\n",
    "Example 1 : Consider the following 3 activities sorted by\n",
    "by finish time.\n",
    "     start[]  =  {10, 12, 20};\n",
    "     finish[] =  {20, 25, 30};\n",
    "A person can perform at most two activities. The \n",
    "maximum set of activities that can be executed \n",
    "is {0, 2} [ These are indexes in start[] and \n",
    "finish[] ]\n",
    "\n",
    "Example 2 : Consider the following 6 activities \n",
    "sorted by by finish time.\n",
    "     start[]  =  {1, 3, 0, 5, 8, 5};\n",
    "     finish[] =  {2, 4, 6, 7, 9, 9};\n",
    "A person can perform at most four activities. The \n",
    "maximum set of activities that can be executed \n",
    "is {0, 1, 3, 4} [ These are indexes in start[] and \n",
    "finish[] ]\n",
    "```"
   ]
  },
  {
   "cell_type": "code",
   "execution_count": 33,
   "metadata": {},
   "outputs": [],
   "source": [
    "def maxMeet(S ,F):\n",
    "    \n",
    "    activity = []\n",
    "    for i in range(len(S)):\n",
    "        activity.append((S[i] ,F[i]))\n",
    "    \n",
    "    # Sort the activities according to their finishing time\n",
    "    activity.sort(key = lambda item:item[1])\n",
    "    \n",
    "    # Select the first activity from the sorted array and print it\n",
    "    acti = activity.pop(0)\n",
    "    print(S.index(acti[0])+1,end=\" \")\n",
    "    \n",
    "    # Do following for remaining activities\n",
    "    # a) If the start time of this activity is \n",
    "    #    greater than or equal to the finish time \n",
    "    #    of previously selected activity then \n",
    "    #    select this activity and print it.\n",
    "    \n",
    "    for i in activity:\n",
    "        if i[0] > acti[1]:\n",
    "            acti = i\n",
    "            print(S.index(acti[0])+1,end=\" \")"
   ]
  },
  {
   "cell_type": "code",
   "execution_count": 34,
   "metadata": {},
   "outputs": [
    {
     "name": "stdout",
     "output_type": "stream",
     "text": [
      "1 2 4 5 "
     ]
    }
   ],
   "source": [
    "S = [1, 3, 0, 5, 8, 5]\n",
    "F = [2, 4, 6, 7, 9, 9]\n",
    "maxMeet(S ,F)"
   ]
  },
  {
   "cell_type": "code",
   "execution_count": 35,
   "metadata": {},
   "outputs": [
    {
     "name": "stdout",
     "output_type": "stream",
     "text": [
      "6 7 1 "
     ]
    }
   ],
   "source": [
    "S = [75250 ,50074 ,43659 ,8931 ,11273 ,27545 ,50879 ,77924]\n",
    "F = [112960 ,114515 ,81825 ,93424 ,54316 ,35533 ,73383 ,160252]\n",
    "maxMeet(S ,F)"
   ]
  },
  {
   "cell_type": "code",
   "execution_count": null,
   "metadata": {},
   "outputs": [],
   "source": []
  }
 ],
 "metadata": {
  "kernelspec": {
   "display_name": "Python 3",
   "language": "python",
   "name": "python3"
  },
  "language_info": {
   "codemirror_mode": {
    "name": "ipython",
    "version": 3
   },
   "file_extension": ".py",
   "mimetype": "text/x-python",
   "name": "python",
   "nbconvert_exporter": "python",
   "pygments_lexer": "ipython3",
   "version": "3.7.3"
  }
 },
 "nbformat": 4,
 "nbformat_minor": 2
}
