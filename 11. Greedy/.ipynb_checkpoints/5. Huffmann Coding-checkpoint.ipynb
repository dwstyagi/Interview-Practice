{
 "cells": [
  {
   "cell_type": "markdown",
   "metadata": {},
   "source": [
    "## Huffmann Encoding"
   ]
  },
  {
   "cell_type": "markdown",
   "metadata": {},
   "source": [
    "### Huffmann Tree\n",
    "<ul>\n",
    "    <li>Create a Leaf Node for each unique character and build a minheap for all leaf nodes</li>\n",
    "    <li>Extract 2 Nodes with minimum frequency from the minheap</li>\n",
    "    <li>Create a new internal node with a frequency equal to the sum of the two nodes frequencies.<br> Make the first extracted node as its left child and the other extracted node as its right child.<br> Add this node to the min heap.</li>\n",
    "    <li>Repeat steps #2 and #3 until the heap contains only one node.<br> The remaining node is the root node and the tree is complete.</li>\n",
    "</ul>"
   ]
  },
  {
   "cell_type": "code",
   "execution_count": 1,
   "metadata": {},
   "outputs": [],
   "source": [
    "class HuffmanTreeNode:\n",
    "    def __init__(self ,char ,freq):\n",
    "        self.char = char\n",
    "        self.freq = freq\n",
    "        self.left = None\n",
    "        self.right = None\n",
    "    \n",
    "    def __str__(self):\n",
    "        return self.char+\" \"+str(self.freq)"
   ]
  },
  {
   "cell_type": "code",
   "execution_count": 2,
   "metadata": {},
   "outputs": [],
   "source": [
    "class MinHeap:\n",
    "    \n",
    "    def __init__(self ,capacity) :\n",
    "        self.capacity = capacity\n",
    "        self.heap = [0 for i in range(capacity)]\n",
    "        self.size = 0\n",
    "        \n",
    "    def minHeapify(self ,i) :\n",
    "        \n",
    "        smallest = i    # Root\n",
    "        l = 2 * i + 1   # Left Child\n",
    "        r = 2 * i + 2   # Right Child\n",
    "        \n",
    "        if l < self.size and self.heap[l].freq <= self.heap[smallest].freq :\n",
    "            smallest = l\n",
    "        \n",
    "        if r < self.size and self.heap[r].freq <= self.heap[smallest].freq :\n",
    "            smallest = r\n",
    "        \n",
    "        if smallest != i :\n",
    "            self.heap[smallest] ,self.heap[i] = self.heap[i] ,self.heap[smallest]\n",
    "            self.minHeapify(smallest)  \n",
    "    \n",
    "    def insertKey(self ,node) :\n",
    "        \n",
    "        self.heap[self.size] = node\n",
    "        child = self.size\n",
    "        parent = (child-1)//2\n",
    "        self.size += 1\n",
    "        \n",
    "        while child > 0 and self.heap[child].freq < self.heap[parent].freq:\n",
    "            self.heap[child] ,self.heap[parent] = self.heap[parent] ,self.heap[child]\n",
    "            child = parent # child go to 1 level up\n",
    "            parent = (parent-1)//2 # parent go to 1 level up\n",
    "    \n",
    "    def deleteKey(self, i) :\n",
    "\n",
    "        if self.size <= i:\n",
    "            return -1\n",
    "\n",
    "        self.heap[i] = self.heap[self.size-1]\n",
    "        self.heap[self.size-1] = 0\n",
    "        self.size -= 1\n",
    "        self.minHeapify(i)\n",
    "    \n",
    "    def peek(self):\n",
    "        \n",
    "        if self.size < 0:\n",
    "            return -1\n",
    "        \n",
    "        return self.heap[0]\n",
    "        \n",
    "    def extractMin(self):\n",
    "        \n",
    "        if self.size < 0:\n",
    "            return -1\n",
    "\n",
    "        min_ = self.heap[0]\n",
    "        self.deleteKey(0)        \n",
    "        return min_  \n",
    "    \n",
    "    def printData(self):\n",
    "        if self.size == -1:\n",
    "            return -1\n",
    "\n",
    "        for i in range(self.size):\n",
    "            print(self.heap[i].char,\" \",self.heap[i].freq)"
   ]
  },
  {
   "cell_type": "code",
   "execution_count": 3,
   "metadata": {},
   "outputs": [],
   "source": [
    "def createAndBuildMinHeap(char ,freq ,size):\n",
    "    \n",
    "    heap = MinHeap(size)\n",
    "    \n",
    "    for i in range(size):\n",
    "        heap.insertKey(HuffmanTreeNode(char[i] ,freq[i]))\n",
    "    \n",
    "    while heap.size > 1:\n",
    "        left = heap.extractMin()\n",
    "        right = heap.extractMin()\n",
    "        \n",
    "        node = HuffmanTreeNode('$' ,left.freq+right.freq)\n",
    "        node.left = left\n",
    "        node.right = right\n",
    "        \n",
    "        heap.insertKey(node)\n",
    "    \n",
    "    return heap.extractMin() # root of the Huffman Tree"
   ]
  },
  {
   "cell_type": "markdown",
   "metadata": {},
   "source": [
    "#### Steps for traversing the Huffman Tree\n",
    "<ol>\n",
    "    <li>Create an auxiliary array.</li>\n",
    "    <li>Traverse the tree starting from root node.</li>\n",
    "    <li>Add 0 to arraywhile traversing the left child and add 1 to array while traversing the right child.</li>\n",
    "    <li>Print the array elements whenever a leaf node is found.</li>\n",
    "</ol>"
   ]
  },
  {
   "cell_type": "code",
   "execution_count": 4,
   "metadata": {},
   "outputs": [],
   "source": [
    "def HuffmanCodes(char ,freq ,size): \n",
    "  \n",
    "    # construct Huffman Tree\n",
    "    root = createAndBuildMinHeap(char ,freq ,6)\n",
    "    \n",
    "    # calc depth of huffman tree\n",
    "    depth = heightOfATree(root)\n",
    "    arr = [0 for i in range(depth)]\n",
    "    \n",
    "    printCodes(root, arr, 0)"
   ]
  },
  {
   "cell_type": "code",
   "execution_count": 5,
   "metadata": {},
   "outputs": [],
   "source": [
    "def heightOfATree(root):\n",
    "    \n",
    "     if root is None:\n",
    "        return 0\n",
    "     else:\n",
    "        count_left = heightOfATree(root.left)\n",
    "        count_right = heightOfATree(root.right)\n",
    "        depth = 1+max(count_left ,count_right)\n",
    "        return depth"
   ]
  },
  {
   "cell_type": "code",
   "execution_count": 6,
   "metadata": {},
   "outputs": [],
   "source": [
    "def printCodes(root ,arr ,top):\n",
    "    \n",
    "    if root.left:\n",
    "        arr[top] = 0\n",
    "        printCodes(root.left ,arr ,top+1)\n",
    "    \n",
    "    if root.right:\n",
    "        arr[top] = 1 \n",
    "        printCodes(root.right ,arr ,top+1)\n",
    "    \n",
    "    if isLeaf(root):\n",
    "        print(root.char,\" : \",end=\"\")\n",
    "        printArr(arr ,top)"
   ]
  },
  {
   "cell_type": "code",
   "execution_count": 7,
   "metadata": {},
   "outputs": [],
   "source": [
    "def isLeaf(root):\n",
    "    return not root.left and not root.right"
   ]
  },
  {
   "cell_type": "code",
   "execution_count": 8,
   "metadata": {},
   "outputs": [],
   "source": [
    "def printArr(arr ,top):\n",
    "    for i in range(top):\n",
    "        print(arr[i],end=\"\")\n",
    "    print()"
   ]
  },
  {
   "cell_type": "code",
   "execution_count": 9,
   "metadata": {},
   "outputs": [
    {
     "name": "stdout",
     "output_type": "stream",
     "text": [
      "f  : 0\n",
      "c  : 100\n",
      "d  : 101\n",
      "a  : 1100\n",
      "b  : 1101\n",
      "e  : 111\n"
     ]
    }
   ],
   "source": [
    "char = ['a','b','c','d','e','f']\n",
    "freq = [5 ,9 ,12 ,13 ,16 ,45]\n",
    "\n",
    "HuffmanCodes(char ,freq ,6)"
   ]
  },
  {
   "cell_type": "markdown",
   "metadata": {},
   "source": [
    "## Huffmann Decoding"
   ]
  },
  {
   "cell_type": "markdown",
   "metadata": {},
   "source": [
    "```\n",
    "Input Data : AAAAAABCCCCCCDDEEEEE\n",
    "Frequencies : A: 6, B: 1, C: 6, D: 2, E: 5\n",
    "Encoded Data : \n",
    "0000000000001100101010101011111111010101010\n",
    "Huffman Tree: '#' is the special character used\n",
    "              for internal nodes as character field\n",
    "              is not needed for internal nodes. \n",
    "               #(20)\n",
    "             /       \\\n",
    "        #(12)         #(8)\n",
    "     /      \\        /     \\\n",
    "    A(6)     C(6) E(5)     #(3)\n",
    "                         /     \\\n",
    "                       B(1)    D(2)  \n",
    "Code of 'A' is '00', code of 'C' is '01', ..\n",
    "Decoded Data : AAAAAABCCCCCCDDEEEEE\n",
    "\n",
    "\n",
    "Input Data : GeeksforGeeks\n",
    "Character With there Frequencies\n",
    "e 10, f 1100, g 011, k 00, o 010, r 1101, s 111\n",
    "Encoded Huffman data :\n",
    "01110100011111000101101011101000111\n",
    "Decoded Huffman Data :\n",
    "geeksforgeeks\n",
    "\n",
    "```"
   ]
  },
  {
   "cell_type": "code",
   "execution_count": 10,
   "metadata": {},
   "outputs": [],
   "source": [
    "class HuffmanTreeNode:\n",
    "    def __init__(self ,char ,freq):\n",
    "        self.char = char\n",
    "        self.freq = freq\n",
    "        self.left = None\n",
    "        self.right = None\n",
    "        \n",
    "    def __str__(self):\n",
    "        return self.char+\" \"+str(self.freq)"
   ]
  },
  {
   "cell_type": "code",
   "execution_count": 11,
   "metadata": {},
   "outputs": [],
   "source": [
    "def isLeaf(root):\n",
    "    return not root.left and not root.right"
   ]
  },
  {
   "cell_type": "code",
   "execution_count": 12,
   "metadata": {},
   "outputs": [],
   "source": [
    "def decodedString(root ,encoded):\n",
    "    string = \"\"\n",
    "    \n",
    "    curr = root\n",
    "    \n",
    "    # curr char is 1 moves right onto a tree\n",
    "    # curr char is 0 moves left onto a tree\n",
    "    # reach leaf print the data and do it again from root\n",
    "    for i in encoded:\n",
    "        if i == '0':\n",
    "            curr = curr.left\n",
    "        else:\n",
    "            curr = curr.right\n",
    "        \n",
    "        if curr.left is None and curr.right is None:\n",
    "            string += curr.char\n",
    "            curr = root # do it again from root\n",
    "    \n",
    "    return string"
   ]
  },
  {
   "cell_type": "code",
   "execution_count": 13,
   "metadata": {},
   "outputs": [],
   "source": [
    "def printCodes(root ,codes ,string):\n",
    "    if root is None:\n",
    "        return\n",
    "    \n",
    "    if root.char != '$':\n",
    "        codes[root.char] = string\n",
    "    \n",
    "    printCodes(root.left ,codes ,string+'0')\n",
    "    printCodes(root.right ,codes ,string+'1')"
   ]
  },
  {
   "cell_type": "code",
   "execution_count": 14,
   "metadata": {},
   "outputs": [],
   "source": [
    "def huffmanCodes(freq ,size):\n",
    "    \n",
    "    # Create min-heap and build Min-heap\n",
    "    heap = MinHeap(size)\n",
    "    for i in freq:\n",
    "        heap.insertKey(HuffmanTreeNode(i ,freq[i]))\n",
    "    \n",
    "    # Create a huffman tree \n",
    "    # with single remaining node \n",
    "    # left in minheap, which is\n",
    "    # root of the huffman tree\n",
    "    while heap.size > 1:\n",
    "        left = heap.extractMin()\n",
    "        right = heap.extractMin()\n",
    "        \n",
    "        node = HuffmanTreeNode('$' ,left.freq+right.freq)\n",
    "        node.left = left\n",
    "        node.right = right\n",
    "        \n",
    "        heap.insertKey(node)\n",
    "    \n",
    "    return heap.peek()    "
   ]
  },
  {
   "cell_type": "code",
   "execution_count": 15,
   "metadata": {},
   "outputs": [],
   "source": [
    "# EnCoding and DeCoding \n",
    "def HuffmanCoding(string):\n",
    "    \n",
    "    freq = {} # To store the frequency of string\n",
    "    codes = {} # To store the Huffman coding \n",
    "    \n",
    "    # Calc the freq of the String \n",
    "    for i in string:\n",
    "        if i in freq:\n",
    "            freq[i] += 1\n",
    "        else:\n",
    "            freq[i] = 1\n",
    "    \n",
    "    # Build an Huffman Tree and store encoding\n",
    "    root = huffmanCodes(freq ,len(string))\n",
    "    printCodes(root ,codes ,\"\")\n",
    "    \n",
    "    # Print Encoded data\n",
    "    print(\"Character with These Frequency\")\n",
    "    for i in codes:\n",
    "        print(i,\" : \",codes[i])\n",
    "    \n",
    "    # Encoded String\n",
    "    print()\n",
    "    encoded=\"\"\n",
    "    for i in string:\n",
    "        encoded += codes[i]\n",
    "    print('Encoded String :',encoded)\n",
    "    \n",
    "    # Decode the String\n",
    "    print('Decoded String :',end=\" \")\n",
    "    decode = decodedString(root ,encoded)\n",
    "    print(decode)"
   ]
  },
  {
   "cell_type": "code",
   "execution_count": 16,
   "metadata": {},
   "outputs": [
    {
     "name": "stdout",
     "output_type": "stream",
     "text": [
      "Character with These Frequency\n",
      "g  :  00\n",
      "r  :  010\n",
      "k  :  011\n",
      "e  :  10\n",
      "f  :  1100\n",
      "o  :  1101\n",
      "s  :  111\n",
      "\n",
      "Encoded String : 00101001111111001101010001010011111\n",
      "Decoded String : geeksforgeeks\n"
     ]
    }
   ],
   "source": [
    "string = 'geeksforgeeks'\n",
    "HuffmanCoding(string)"
   ]
  },
  {
   "cell_type": "code",
   "execution_count": null,
   "metadata": {},
   "outputs": [],
   "source": []
  },
  {
   "cell_type": "code",
   "execution_count": null,
   "metadata": {},
   "outputs": [],
   "source": []
  },
  {
   "cell_type": "code",
   "execution_count": null,
   "metadata": {},
   "outputs": [],
   "source": []
  }
 ],
 "metadata": {
  "kernelspec": {
   "display_name": "Python 3",
   "language": "python",
   "name": "python3"
  },
  "language_info": {
   "codemirror_mode": {
    "name": "ipython",
    "version": 3
   },
   "file_extension": ".py",
   "mimetype": "text/x-python",
   "name": "python",
   "nbconvert_exporter": "python",
   "pygments_lexer": "ipython3",
   "version": "3.7.3"
  }
 },
 "nbformat": 4,
 "nbformat_minor": 2
}
