{
 "cells": [
  {
   "cell_type": "code",
   "execution_count": 1,
   "metadata": {},
   "outputs": [],
   "source": [
    "def maxSum(A,B):\n",
    "    n = len(A)\n",
    "    m = len(B)\n",
    "    i = 0\n",
    "    j = 0\n",
    "    total = 0\n",
    "    sumA = 0\n",
    "    sumB = 0\n",
    "    \n",
    "    while i<n and j<m:\n",
    "        if A[i] < B[j]:\n",
    "            sumA += A[i]\n",
    "            i += 1\n",
    "        \n",
    "        elif A[i] > B[j]:\n",
    "            sumB += B[j]\n",
    "            j += 1\n",
    "            \n",
    "        else:\n",
    "            num = A[i]\n",
    "            while i < n and A[i] == num:\n",
    "                sumA += A[i]\n",
    "                i += 1\n",
    "            \n",
    "            while j < m and B[j] == num:\n",
    "                sumB += B[j]\n",
    "                j += 1\n",
    "            \n",
    "            total += max(sumA ,sumB)\n",
    "            sumA = 0\n",
    "            sumB = 0\n",
    "    \n",
    "    while i < n:\n",
    "        sumA += A[i]\n",
    "        i += 1\n",
    "    \n",
    "    while j < m:\n",
    "        sumB += B[j]\n",
    "        j += 1\n",
    "    \n",
    "    total += max(sumA ,sumB)\n",
    "    return total"
   ]
  },
  {
   "cell_type": "code",
   "execution_count": null,
   "metadata": {},
   "outputs": [],
   "source": []
  }
 ],
 "metadata": {
  "kernelspec": {
   "display_name": "Python 3",
   "language": "python",
   "name": "python3"
  },
  "language_info": {
   "codemirror_mode": {
    "name": "ipython",
    "version": 3
   },
   "file_extension": ".py",
   "mimetype": "text/x-python",
   "name": "python",
   "nbconvert_exporter": "python",
   "pygments_lexer": "ipython3",
   "version": "3.7.3"
  }
 },
 "nbformat": 4,
 "nbformat_minor": 2
}
