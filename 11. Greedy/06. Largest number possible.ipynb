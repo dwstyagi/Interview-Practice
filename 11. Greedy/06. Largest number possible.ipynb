{
 "cells": [
  {
   "cell_type": "markdown",
   "metadata": {},
   "source": [
    "A Simple Solution is to consider all m digit numbers and keep track of maximum number with digit sum as s. A close upper bound on time complexity of this solution is O(10m)."
   ]
  },
  {
   "cell_type": "markdown",
   "metadata": {},
   "source": [
    "```\n",
    "Input  : s = 9, d = 2\n",
    "Output : 90\n",
    "\n",
    "Input  : s = 20, d = 3\n",
    "Output : 992\n",
    "```"
   ]
  },
  {
   "cell_type": "code",
   "execution_count": 1,
   "metadata": {},
   "outputs": [],
   "source": [
    "def getLargest(s ,d):\n",
    "    \n",
    "    max_digit = float('-inf')\n",
    "    \n",
    "    for n in range(10 ** d):\n",
    "        digit_sum = 0\n",
    "        i = n\n",
    "        \n",
    "        while i != 0:\n",
    "            rem = i % 10\n",
    "            digit_sum += rem\n",
    "            i //= 10\n",
    "        \n",
    "        if digit_sum == s and max_digit < n :\n",
    "            max_digit = n\n",
    "    \n",
    "    return max_digit\n",
    "        "
   ]
  },
  {
   "cell_type": "code",
   "execution_count": 2,
   "metadata": {},
   "outputs": [
    {
     "data": {
      "text/plain": [
       "992"
      ]
     },
     "execution_count": 2,
     "metadata": {},
     "output_type": "execute_result"
    }
   ],
   "source": [
    "s = 9\n",
    "d = 2\n",
    "getLargest(20 ,3)"
   ]
  },
  {
   "cell_type": "markdown",
   "metadata": {},
   "source": [
    "### Greedy Solution\n",
    "The idea is to one by one fill all digits from leftmost to rightmost (or from most significant digit to least significant).\n",
    "We compare the remaining sum with 9 if the remaining sum is more than 9, we put 9 at the current position, else we put the remaining sum. Since we fill digits from left to right, we put the highest digits on the left side, hence get the largest number. "
   ]
  },
  {
   "cell_type": "code",
   "execution_count": 4,
   "metadata": {},
   "outputs": [],
   "source": [
    "def getLargest(s ,d):\n",
    "    if s == 0:\n",
    "        if d == 1:\n",
    "            return 0\n",
    "        else:\n",
    "            return 'Not Possible'\n",
    "    \n",
    "    if s > 9*d:\n",
    "        return 'Not Possible'\n",
    "    \n",
    "    res = 0\n",
    "    \n",
    "    while d:\n",
    "        res = (res*10) + min(s,9)\n",
    "        s = s-min(s,9)\n",
    "        d -= 1\n",
    "    \n",
    "    return res"
   ]
  },
  {
   "cell_type": "code",
   "execution_count": 5,
   "metadata": {},
   "outputs": [
    {
     "data": {
      "text/plain": [
       "960"
      ]
     },
     "execution_count": 5,
     "metadata": {},
     "output_type": "execute_result"
    }
   ],
   "source": [
    "s = 9\n",
    "d = 2\n",
    "getLargest(15 ,3)"
   ]
  },
  {
   "cell_type": "code",
   "execution_count": null,
   "metadata": {},
   "outputs": [],
   "source": []
  }
 ],
 "metadata": {
  "kernelspec": {
   "display_name": "Python 3",
   "language": "python",
   "name": "python3"
  },
  "language_info": {
   "codemirror_mode": {
    "name": "ipython",
    "version": 3
   },
   "file_extension": ".py",
   "mimetype": "text/x-python",
   "name": "python",
   "nbconvert_exporter": "python",
   "pygments_lexer": "ipython3",
   "version": "3.7.3"
  }
 },
 "nbformat": 4,
 "nbformat_minor": 2
}
