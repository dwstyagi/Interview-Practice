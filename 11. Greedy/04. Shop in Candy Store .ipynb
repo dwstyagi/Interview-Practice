{
 "cells": [
  {
   "cell_type": "markdown",
   "metadata": {},
   "source": [
    "```\n",
    "Input :  price[] = {3, 2, 1, 4}\n",
    "               k = 2\n",
    "Output :  Min = 3, Max = 7\n",
    "Since k is 2, if we buy one candy we can take \n",
    "atmost two more for free.\n",
    "So in the first case we buy the candy which \n",
    "costs 1 and take candies worth 3 and 4 for \n",
    "free, also you buy candy worth 2 as well.\n",
    "So min cost = 1 + 2 = 3.\n",
    "In the second case we buy the candy which \n",
    "costs 4 and take candies worth 1 and 2 for \n",
    "free, also We buy candy worth 3 as well.\n",
    "So max cost = 3 + 4 = 7.\n",
    "```"
   ]
  },
  {
   "cell_type": "code",
   "execution_count": 3,
   "metadata": {},
   "outputs": [],
   "source": [
    "def getMinMax(arr ,k):\n",
    "    minimum = 0\n",
    "    maximum = 0\n",
    "    \n",
    "    arr.sort()\n",
    "    \n",
    "    f,l = 0,len(arr)-1\n",
    "    i = 0\n",
    "    \n",
    "    while i < len(arr):\n",
    "        minimum += arr[f]\n",
    "        maximum += arr[l]\n",
    "        \n",
    "        l -= 1\n",
    "        f += 1\n",
    "        i += k\n",
    "        \n",
    "    \n",
    "    return str(minimum)+' '+str(maximum)"
   ]
  },
  {
   "cell_type": "code",
   "execution_count": 4,
   "metadata": {},
   "outputs": [
    {
     "name": "stdout",
     "output_type": "stream",
     "text": [
      "3 7\n"
     ]
    }
   ],
   "source": [
    "arr = [3, 2, 1, 4]\n",
    "k = 2\n",
    "print(getMinMax(arr ,k))"
   ]
  },
  {
   "cell_type": "code",
   "execution_count": 5,
   "metadata": {
    "scrolled": true
   },
   "outputs": [
    {
     "name": "stdout",
     "output_type": "stream",
     "text": [
      "35 1 70 25 79 59 63 65 6 46 82 28 62 92 96 43 28 37 92 5 3 54 93 83 22 17 19 96 48 27 72 39 70 13 68 100 36 95 4 12 23 34\n",
      "4 196\n"
     ]
    }
   ],
   "source": [
    "arr = list(map(int ,input().rstrip().split()))\n",
    "k = 29\n",
    "# Ans :4 196\n",
    "print(getMinMax(arr ,k))"
   ]
  },
  {
   "cell_type": "code",
   "execution_count": 6,
   "metadata": {},
   "outputs": [
    {
     "data": {
      "text/plain": [
       "[1,\n",
       " 3,\n",
       " 4,\n",
       " 5,\n",
       " 6,\n",
       " 12,\n",
       " 13,\n",
       " 17,\n",
       " 19,\n",
       " 22,\n",
       " 23,\n",
       " 25,\n",
       " 27,\n",
       " 28,\n",
       " 28,\n",
       " 34,\n",
       " 35,\n",
       " 36,\n",
       " 37,\n",
       " 39,\n",
       " 43,\n",
       " 46,\n",
       " 48,\n",
       " 54,\n",
       " 59,\n",
       " 62,\n",
       " 63,\n",
       " 65,\n",
       " 68,\n",
       " 70,\n",
       " 70,\n",
       " 72,\n",
       " 79,\n",
       " 82,\n",
       " 83,\n",
       " 92,\n",
       " 92,\n",
       " 93,\n",
       " 95,\n",
       " 96,\n",
       " 96,\n",
       " 100]"
      ]
     },
     "execution_count": 6,
     "metadata": {},
     "output_type": "execute_result"
    }
   ],
   "source": [
    "arr"
   ]
  },
  {
   "cell_type": "code",
   "execution_count": 7,
   "metadata": {},
   "outputs": [
    {
     "data": {
      "text/plain": [
       "[100,\n",
       " 96,\n",
       " 96,\n",
       " 95,\n",
       " 93,\n",
       " 92,\n",
       " 92,\n",
       " 83,\n",
       " 82,\n",
       " 79,\n",
       " 72,\n",
       " 70,\n",
       " 70,\n",
       " 68,\n",
       " 65,\n",
       " 63,\n",
       " 62,\n",
       " 59,\n",
       " 54,\n",
       " 48,\n",
       " 46,\n",
       " 43,\n",
       " 39,\n",
       " 37,\n",
       " 36,\n",
       " 35,\n",
       " 34,\n",
       " 28,\n",
       " 28,\n",
       " 27,\n",
       " 25,\n",
       " 23,\n",
       " 22,\n",
       " 19,\n",
       " 17,\n",
       " 13,\n",
       " 12,\n",
       " 6,\n",
       " 5,\n",
       " 4,\n",
       " 3,\n",
       " 1]"
      ]
     },
     "execution_count": 7,
     "metadata": {},
     "output_type": "execute_result"
    }
   ],
   "source": [
    "A = sorted(arr ,reverse=True)\n",
    "A"
   ]
  },
  {
   "cell_type": "code",
   "execution_count": null,
   "metadata": {},
   "outputs": [],
   "source": []
  }
 ],
 "metadata": {
  "kernelspec": {
   "display_name": "Python 3",
   "language": "python",
   "name": "python3"
  },
  "language_info": {
   "codemirror_mode": {
    "name": "ipython",
    "version": 3
   },
   "file_extension": ".py",
   "mimetype": "text/x-python",
   "name": "python",
   "nbconvert_exporter": "python",
   "pygments_lexer": "ipython3",
   "version": "3.7.3"
  }
 },
 "nbformat": 4,
 "nbformat_minor": 2
}
