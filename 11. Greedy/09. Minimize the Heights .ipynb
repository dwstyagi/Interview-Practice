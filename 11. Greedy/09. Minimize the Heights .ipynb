{
 "cells": [
  {
   "cell_type": "markdown",
   "metadata": {},
   "source": [
    "Given heights of n towers and a value k.<br> We need to either increase or decrease height of every tower by k (only once) where k > 0. <br><b>The task </b>is to minimize the difference between the heights of the longest and the shortest tower after modifications, and output this difference."
   ]
  },
  {
   "cell_type": "markdown",
   "metadata": {},
   "source": [
    "```\n",
    "Input  : arr[] = {1, 15, 10}, k = 6\n",
    "Output :  Maximum difference is 5.\n",
    "Explanation : We change 1 to 6, 15 to \n",
    "9 and 10 to 4. Maximum difference is 5\n",
    "(between 4 and 9). We can't get a lower\n",
    "difference.\n",
    "\n",
    "Input : arr[] = {1, 5, 15, 10} \n",
    "        k = 3   \n",
    "Output : Maximum difference is 8\n",
    "arr[] = {4, 8, 12, 7}\n",
    "\n",
    "Input : arr[] = {4, 6} \n",
    "        k = 10\n",
    "Output : Maximum difference is 2\n",
    "arr[] = {14, 16} OR {-6, -4}\n",
    "\n",
    "Input : arr[] = {6, 10} \n",
    "        k = 3\n",
    "Output : Maximum difference is 2\n",
    "arr[] = {9, 7} \n",
    "\n",
    "Input : arr[] = {1, 10, 14, 14, 14, 15}\n",
    "        k = 6 \n",
    "Output: Maximum difference is 5\n",
    "arr[] = {7, 4, 8, 8, 8, 9} \n",
    "\n",
    "Input : arr[] = {1, 2, 3}\n",
    "        k = 2 \n",
    "Output: Maximum difference is 2\n",
    "arr[] = {3, 4, 5}\n",
    "```"
   ]
  },
  {
   "cell_type": "markdown",
   "metadata": {},
   "source": [
    "**Brute force method**<br>\n",
    "Take all possible combination of increase or decrease values by k"
   ]
  },
  {
   "cell_type": "code",
   "execution_count": 1,
   "metadata": {},
   "outputs": [],
   "source": [
    "import itertools\n",
    "def getMinDiffernce(arr ,k):\n",
    "    n = len(arr)\n",
    "    comb = list(itertools.product([-k ,k] ,repeat=n))\n",
    "    \n",
    "    diff = float('inf')\n",
    "    \n",
    "    for i in comb[:]:\n",
    "        auxList = [sum(x) for x in zip(i ,arr)]\n",
    "        newDiff = max(auxList) - min(auxList)\n",
    "        \n",
    "        if diff > newDiff:\n",
    "            result ,resultArr = newDiff ,auxList\n",
    "            diff = newDiff\n",
    "    \n",
    "    return result"
   ]
  },
  {
   "cell_type": "code",
   "execution_count": 2,
   "metadata": {},
   "outputs": [
    {
     "data": {
      "text/plain": [
       "5"
      ]
     },
     "execution_count": 2,
     "metadata": {},
     "output_type": "execute_result"
    }
   ],
   "source": [
    "arr = [1, 15, 10] \n",
    "k = 6\n",
    "getMinDiffernce(arr ,k)"
   ]
  },
  {
   "cell_type": "code",
   "execution_count": 3,
   "metadata": {},
   "outputs": [
    {
     "data": {
      "text/plain": [
       "35"
      ]
     },
     "execution_count": 3,
     "metadata": {},
     "output_type": "execute_result"
    }
   ],
   "source": [
    "arr = [51, 85, 87 ,120] \n",
    "k = 20\n",
    "getMinDiffernce(arr ,k)"
   ]
  },
  {
   "cell_type": "code",
   "execution_count": 4,
   "metadata": {},
   "outputs": [
    {
     "data": {
      "text/plain": [
       "5"
      ]
     },
     "execution_count": 4,
     "metadata": {},
     "output_type": "execute_result"
    }
   ],
   "source": [
    "arr = [1, 10, 14, 14, 14, 15] \n",
    "k = 6\n",
    "getMinDiffernce(arr ,k)"
   ]
  },
  {
   "cell_type": "code",
   "execution_count": 5,
   "metadata": {},
   "outputs": [],
   "source": [
    "def getMinDiff(arr ,k):\n",
    "    \n",
    "    n = len(arr)\n",
    "    arr.sort()\n",
    "    \n",
    "    # Initialize result \n",
    "    ans = arr[n-1] - arr[0]  \n",
    "  \n",
    "    # Handle corner elements \n",
    "    small = arr[0] + k  \n",
    "    big = arr[n-1] - k  \n",
    "      \n",
    "    if (small > big): \n",
    "        small, big = big, small  \n",
    "  \n",
    "    # Traverse middle elements \n",
    "    for i in range(1, n-1): \n",
    "      \n",
    "        subtract = arr[i] - k  \n",
    "        add = arr[i] + k  \n",
    "  \n",
    "        # If both subtraction and addition \n",
    "        # do not change diff \n",
    "        if (subtract >= small or add <= big): \n",
    "            continue\n",
    "  \n",
    "        # Either subtraction causes a smaller \n",
    "        # number or addition causes a greater \n",
    "        # number. Update small or big using \n",
    "        # greedy approach (If big - subtract \n",
    "        # causes smaller diff, update small \n",
    "        # Else update big) \n",
    "        if (big - subtract <= add - small): \n",
    "            small = subtract  \n",
    "        else: \n",
    "            big = add  \n",
    "      \n",
    "  \n",
    "    return min(ans, big - small)"
   ]
  },
  {
   "cell_type": "code",
   "execution_count": null,
   "metadata": {},
   "outputs": [],
   "source": []
  }
 ],
 "metadata": {
  "kernelspec": {
   "display_name": "Python 3",
   "language": "python",
   "name": "python3"
  },
  "language_info": {
   "codemirror_mode": {
    "name": "ipython",
    "version": 3
   },
   "file_extension": ".py",
   "mimetype": "text/x-python",
   "name": "python",
   "nbconvert_exporter": "python",
   "pygments_lexer": "ipython3",
   "version": "3.7.4"
  }
 },
 "nbformat": 4,
 "nbformat_minor": 2
}
