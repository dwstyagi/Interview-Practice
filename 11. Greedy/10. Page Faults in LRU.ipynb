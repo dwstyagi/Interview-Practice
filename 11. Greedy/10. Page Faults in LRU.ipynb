{
 "cells": [
  {
   "cell_type": "markdown",
   "metadata": {},
   "source": [
    "Let say the page reference string 7 0 1 2 0 3 0 4 2 3 0 3 2 . Initially we have 4 page slots empty.<br>\n",
    "\n",
    "<img src=\"https://media.geeksforgeeks.org/wp-content/uploads/LRU-page-replacement.png\" width=\"400\" align=\"left\" >"
   ]
  },
  {
   "cell_type": "markdown",
   "metadata": {},
   "source": [
    "Initially all slots are empty, so when 7 0 1 2 are allocated to the empty slots —> **4 Page faults**<br>\n",
    "0 is already their so —> **0 Page fault.**<br>\n",
    "when 3 came it will take the place of 7 because it is least recently used —>**1 Page fault**.<br>\n",
    "0 is already in memory so —> **0 Page fault**.<br>\n",
    "4 will takes place of 1 —> **1 Page Fault**<br>\n",
    "Now for the further page reference string —> 0 Page fault because they are already available in the memory."
   ]
  },
  {
   "cell_type": "code",
   "execution_count": null,
   "metadata": {},
   "outputs": [],
   "source": []
  }
 ],
 "metadata": {
  "kernelspec": {
   "display_name": "Python 3",
   "language": "python",
   "name": "python3"
  },
  "language_info": {
   "codemirror_mode": {
    "name": "ipython",
    "version": 3
   },
   "file_extension": ".py",
   "mimetype": "text/x-python",
   "name": "python",
   "nbconvert_exporter": "python",
   "pygments_lexer": "ipython3",
   "version": "3.7.3"
  }
 },
 "nbformat": 4,
 "nbformat_minor": 2
}
