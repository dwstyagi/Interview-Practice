{
 "cells": [
  {
   "cell_type": "markdown",
   "metadata": {},
   "source": [
    "Given a value N, if we want to make change for N cents, and we have infinite supply of each of S = { S1, S2, .. , Sm} valued coins, how many ways can we make the change? The order of coins doesn’t matter.<br>\n",
    "\n",
    "For example, for N = 4 and S = {1,2,3}, there are four solutions:<br> \n",
    ".......{1,1,1,1},<br>\n",
    ".......{1,1,2},<br>\n",
    ".......{2,2},<br>\n",
    ".......{1,3}.<br>\n",
    "So output should be 4. \n",
    "\n",
    "For N = 10 and S = {2, 5, 3, 6}, there are five solutions: <br>\n",
    ".......{2,2,2,2,2}<br> \n",
    ".......{2,2,3,3}<br> \n",
    ".......{2,2,6}<br> \n",
    ".......{2,3,5}<br> \n",
    ".......{5,5}.<br> \n",
    "So the output should be 5."
   ]
  },
  {
   "cell_type": "code",
   "execution_count": 1,
   "metadata": {},
   "outputs": [],
   "source": [
    "def coinChange(arr, n):\n",
    "    result = []\n",
    "    coinChangeUtil(arr, n, result, 0)"
   ]
  },
  {
   "cell_type": "code",
   "execution_count": 2,
   "metadata": {},
   "outputs": [],
   "source": [
    "def coinChangeUtil(arr, n, result, i):\n",
    "    \n",
    "    if n == 0:\n",
    "        for i in result:\n",
    "            print(i,end=\" \")\n",
    "        print()\n",
    "        return\n",
    "    \n",
    "    if i < len(arr):\n",
    "        result.append(arr[i])\n",
    "        \n",
    "        if n > 0:\n",
    "            coinChangeUtil(arr, n-arr[i], result, i)\n",
    "            \n",
    "        result.pop()\n",
    "        \n",
    "        coinChangeUtil(arr, n, result, i+1)"
   ]
  },
  {
   "cell_type": "code",
   "execution_count": 3,
   "metadata": {},
   "outputs": [
    {
     "name": "stdout",
     "output_type": "stream",
     "text": [
      "1 1 1 1 1 \n",
      "1 1 1 2 \n",
      "1 1 3 \n",
      "1 2 2 \n",
      "2 3 \n"
     ]
    }
   ],
   "source": [
    "arr = [1,2,3]\n",
    "n = 5\n",
    "coinChange(arr, n)"
   ]
  },
  {
   "cell_type": "code",
   "execution_count": null,
   "metadata": {},
   "outputs": [],
   "source": []
  }
 ],
 "metadata": {
  "kernelspec": {
   "display_name": "Python 3",
   "language": "python",
   "name": "python3"
  },
  "language_info": {
   "codemirror_mode": {
    "name": "ipython",
    "version": 3
   },
   "file_extension": ".py",
   "mimetype": "text/x-python",
   "name": "python",
   "nbconvert_exporter": "python",
   "pygments_lexer": "ipython3",
   "version": "3.7.6"
  }
 },
 "nbformat": 4,
 "nbformat_minor": 4
}
