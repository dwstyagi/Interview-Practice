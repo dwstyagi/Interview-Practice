{
 "cells": [
  {
   "cell_type": "markdown",
   "metadata": {},
   "source": [
    "<img src=\"https://media.geeksforgeeks.org/wp-content/uploads/N_Queen_Problem.jpg\" width=\"400\" height=\"300\"> \n",
    "\n",
    "```\n",
    "1) Start in the leftmost column\n",
    "2) If all queens are placed\n",
    "    return true\n",
    "3) Try all rows in the current column. \n",
    "   Do following for every tried row.\n",
    "    a) If the queen can be placed safely in this row \n",
    "       then mark this [row, column] as part of the \n",
    "       solution and recursively check if placing\n",
    "       queen here leads to a solution.\n",
    "    b) If placing the queen in [row, column] leads to\n",
    "       a solution then return true.\n",
    "    c) If placing queen doesn't lead to a solution then\n",
    "       unmark this [row, column] (Backtrack) and go to \n",
    "       step (a) to try other rows.\n",
    "4) If all rows have been tried and nothing worked,\n",
    "   return false to trigger backtracking.\n",
    "```"
   ]
  },
  {
   "cell_type": "code",
   "execution_count": 1,
   "metadata": {},
   "outputs": [],
   "source": [
    "def printBoard(board ,n):\n",
    "    \n",
    "    Q = []\n",
    "    \n",
    "    for i in range(n):\n",
    "        for j in range(n):\n",
    "            if board[i][j]:\n",
    "                Q.append(j+1)\n",
    "                \n",
    "    return Q"
   ]
  },
  {
   "cell_type": "code",
   "execution_count": 2,
   "metadata": {},
   "outputs": [],
   "source": [
    "def isValid(board ,row ,col):\n",
    "    \n",
    "    n = len(board)\n",
    "    \n",
    "    # check whether Queen present\n",
    "    # in same row or not\n",
    "    for i in range(col):\n",
    "        if board[row][i]:\n",
    "            return False\n",
    "    \n",
    "    # Check for upper left diagonal\n",
    "    for i,j in zip(range(row-1 ,-1 ,-1) ,range(col-1 ,-1 ,-1)):\n",
    "        if board[i][j]:\n",
    "            return False\n",
    "    \n",
    "    # check for lower left diagonal\n",
    "    for i,j in zip(range(row+1 ,n) ,range(col-1 ,-1 ,-1)):\n",
    "        if board[i][j]:\n",
    "            return False\n",
    "    \n",
    "    return True"
   ]
  },
  {
   "cell_type": "code",
   "execution_count": 3,
   "metadata": {},
   "outputs": [],
   "source": [
    "def solveNQUtil(board ,n ,col ,result):\n",
    "    \n",
    "    if col == n:\n",
    "        result.append(printBoard(board ,n))\n",
    "        return \n",
    "    \n",
    "    for row in range(n):\n",
    "        \n",
    "        board[row][col] = 1\n",
    "        \n",
    "        if isValid(board ,row ,col):\n",
    "            solveNQUtil(board ,n ,col+1 ,result)\n",
    "        \n",
    "        board[row][col] = 0"
   ]
  },
  {
   "cell_type": "code",
   "execution_count": 4,
   "metadata": {},
   "outputs": [],
   "source": [
    "def solveNQ(n):\n",
    "    \n",
    "    result = []\n",
    "    board = [[0 for j in range(n)] for i in range(n)]\n",
    "    solveNQUtil(board ,n ,0 ,result)\n",
    "    \n",
    "    if not result:\n",
    "        print(-1)\n",
    "    else:\n",
    "        print(*result)"
   ]
  },
  {
   "cell_type": "code",
   "execution_count": 5,
   "metadata": {},
   "outputs": [
    {
     "name": "stdout",
     "output_type": "stream",
     "text": [
      "[3, 1, 4, 2] [2, 4, 1, 3]\n"
     ]
    }
   ],
   "source": [
    "solveNQ(4)"
   ]
  },
  {
   "cell_type": "code",
   "execution_count": 6,
   "metadata": {
    "scrolled": true
   },
   "outputs": [
    {
     "name": "stdout",
     "output_type": "stream",
     "text": [
      "[1, 4, 2, 5, 3] [1, 3, 5, 2, 4] [3, 1, 4, 2, 5] [4, 1, 3, 5, 2] [2, 4, 1, 3, 5] [5, 3, 1, 4, 2] [2, 5, 3, 1, 4] [5, 2, 4, 1, 3] [4, 2, 5, 3, 1] [3, 5, 2, 4, 1]\n"
     ]
    }
   ],
   "source": [
    "solveNQ(5)"
   ]
  },
  {
   "cell_type": "code",
   "execution_count": 7,
   "metadata": {},
   "outputs": [
    {
     "name": "stdout",
     "output_type": "stream",
     "text": [
      "-1\n"
     ]
    }
   ],
   "source": [
    "solveNQ(3)"
   ]
  },
  {
   "cell_type": "code",
   "execution_count": null,
   "metadata": {},
   "outputs": [],
   "source": []
  }
 ],
 "metadata": {
  "kernelspec": {
   "display_name": "Python 3",
   "language": "python",
   "name": "python3"
  },
  "language_info": {
   "codemirror_mode": {
    "name": "ipython",
    "version": 3
   },
   "file_extension": ".py",
   "mimetype": "text/x-python",
   "name": "python",
   "nbconvert_exporter": "python",
   "pygments_lexer": "ipython3",
   "version": "3.10.5"
  }
 },
 "nbformat": 4,
 "nbformat_minor": 2
}
