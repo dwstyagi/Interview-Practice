{
 "cells": [
  {
   "cell_type": "markdown",
   "metadata": {},
   "source": [
    "Given a partially filled 9×9 2D array ‘grid[9][9]’, the goal is to assign digits (from 1 to 9) to the empty cells so that every row, column, and subgrid of size 3×3 contains exactly one instance of the digits from 1 to 9.\n",
    "\n",
    "<img src=\"https://media.geeksforgeeks.org/wp-content/uploads/sudoku.jpg\">"
   ]
  },
  {
   "cell_type": "code",
   "execution_count": 18,
   "metadata": {},
   "outputs": [],
   "source": [
    "def printSudoku(board):\n",
    "    \n",
    "    for i in board:\n",
    "        \n",
    "        for j in i:\n",
    "            print(j,end=\" \")\n",
    "        print()"
   ]
  },
  {
   "cell_type": "code",
   "execution_count": 19,
   "metadata": {},
   "outputs": [],
   "source": [
    "def isValid(board ,row ,col):\n",
    "    \n",
    "    n = len(board)\n",
    "    \n",
    "    # Check for col\n",
    "    for i in range(n):\n",
    "        if board[i][col] == board[row][col] and i != row:\n",
    "            return False\n",
    "    \n",
    "    # Check for row\n",
    "    for i in range(n):\n",
    "        if board[row][i] == board[row][col] and i != col:\n",
    "            return False\n",
    "    \n",
    "    # check for box\n",
    "    gridLength = int(n ** 0.5)\n",
    "    \n",
    "    topRow = row - row % gridLength\n",
    "    topCol = col - col % gridLength\n",
    "    \n",
    "    for i in range(topRow ,topRow + gridLength):\n",
    "        for j in range(topCol ,topCol + gridLength):\n",
    "            if board[i][j] == board[row][col] and (i,j) != (row,col):\n",
    "                return False\n",
    "    \n",
    "    return True"
   ]
  },
  {
   "cell_type": "code",
   "execution_count": 20,
   "metadata": {},
   "outputs": [],
   "source": [
    "def sudokuSolve(board ,row ,col):\n",
    "    \n",
    "    if col == len(board[row]):\n",
    "        col = 0\n",
    "        row += 1\n",
    "        \n",
    "        if row == len(board):\n",
    "            printSudoku(board)\n",
    "            return \n",
    "        \n",
    "    if board[row][col] != 0:\n",
    "        return sudokuSolve(board ,row ,col+1)\n",
    "    \n",
    "    for num in range(1,10):\n",
    "        \n",
    "        board[row][col] = num\n",
    "        \n",
    "        if isValid(board ,row ,col):\n",
    "            sudokuSolve(board ,row ,col+1)\n",
    "        \n",
    "        board[row][col] = 0"
   ]
  },
  {
   "cell_type": "code",
   "execution_count": 21,
   "metadata": {},
   "outputs": [
    {
     "name": "stdout",
     "output_type": "stream",
     "text": [
      "3 1 6 5 7 8 4 9 2 \n",
      "5 2 9 1 3 4 7 6 8 \n",
      "4 8 7 6 2 9 5 3 1 \n",
      "2 6 3 4 1 5 9 8 7 \n",
      "9 7 4 8 6 3 1 2 5 \n",
      "8 5 1 7 9 2 6 4 3 \n",
      "1 3 8 9 4 7 2 5 6 \n",
      "6 9 2 3 5 1 8 7 4 \n",
      "7 4 5 2 8 6 3 1 9 \n"
     ]
    }
   ],
   "source": [
    "board =  [[3,0,6,5,0,8,4,0,0], \n",
    "          [5,2,0,0,0,0,0,0,0], \n",
    "          [0,8,7,0,0,0,0,3,1], \n",
    "          [0,0,3,0,1,0,0,8,0], \n",
    "          [9,0,0,8,6,3,0,0,5], \n",
    "          [0,5,0,0,9,0,6,0,0], \n",
    "          [1,3,0,0,0,0,2,5,0], \n",
    "          [0,0,0,0,0,0,0,7,4], \n",
    "          [0,0,5,2,0,6,3,0,0]]\n",
    "\n",
    "sudokuSolve(board ,0 ,0)"
   ]
  },
  {
   "cell_type": "markdown",
   "metadata": {},
   "source": [
    "**Tracking whether code give o/p for false sudoku**"
   ]
  },
  {
   "cell_type": "code",
   "execution_count": null,
   "metadata": {},
   "outputs": [],
   "source": [
    "def printSudoku(board):\n",
    "    \n",
    "    for i in board:\n",
    "        for j in i:\n",
    "            print(j,end=\" \")\n",
    "        print()\n",
    "    "
   ]
  },
  {
   "cell_type": "code",
   "execution_count": null,
   "metadata": {},
   "outputs": [],
   "source": [
    "def isValid(board ,row ,col ,num):\n",
    "    \n",
    "    # Check for col\n",
    "    for i in range(row):\n",
    "        if board[i][col] == num:\n",
    "            return False\n",
    "    \n",
    "    # Check for row\n",
    "    for i in range(col):\n",
    "        if board[row][i] == num:\n",
    "            return False\n",
    "    \n",
    "    # check for box\n",
    "    gridLength = int(len(board) ** 0.5)\n",
    "    \n",
    "    topRow = row - row % gridLength\n",
    "    topCol = col - col % gridLength\n",
    "    \n",
    "    for i in range(topRow ,topRow + gridLength):\n",
    "        for j in range(topCol ,topCol + gridLength):\n",
    "            if board[i][j] == num:\n",
    "                return False\n",
    "    \n",
    "    return True"
   ]
  },
  {
   "cell_type": "code",
   "execution_count": null,
   "metadata": {},
   "outputs": [],
   "source": [
    "def sudokuSolve(board ,row ,col):\n",
    "    \n",
    "    if col == len(board[row]):\n",
    "        col = 0\n",
    "        row += 1\n",
    "        \n",
    "        if row == len(board):\n",
    "            #printSudoku(board)\n",
    "            return True\n",
    "        \n",
    "    if board[row][col] != 0:\n",
    "        return sudokuSolve(board ,row ,col+1)\n",
    "    \n",
    "    for num in range(1,10):\n",
    "        \n",
    "        if isValid(board ,row ,col ,num):\n",
    "            board[row][col] = num\n",
    "            \n",
    "            if sudokuSolve(board ,row ,col+1):\n",
    "                return True\n",
    "            \n",
    "            board[row][col] = 0\n",
    "    \n",
    "    return False"
   ]
  },
  {
   "cell_type": "code",
   "execution_count": null,
   "metadata": {},
   "outputs": [],
   "source": [
    "board =  [[3,0,6,5,0,8,4,0,0], \n",
    "          [5,2,0,0,0,0,0,0,0], \n",
    "          [0,8,7,0,0,0,0,3,1], \n",
    "          [0,0,3,0,1,0,0,8,0], \n",
    "          [9,0,0,8,6,3,0,0,5], \n",
    "          [0,5,0,0,9,0,6,0,0], \n",
    "          [1,3,0,0,0,0,2,5,0], \n",
    "          [0,0,0,0,0,0,0,7,4], \n",
    "          [0,0,5,2,0,6,3,0,0]]\n",
    "\n",
    "if sudokuSolve(board ,0,0):\n",
    "    printSudoku(board)\n",
    "else:\n",
    "    print('not possible')"
   ]
  },
  {
   "cell_type": "code",
   "execution_count": null,
   "metadata": {},
   "outputs": [],
   "source": []
  }
 ],
 "metadata": {
  "kernelspec": {
   "display_name": "Python 3",
   "language": "python",
   "name": "python3"
  },
  "language_info": {
   "codemirror_mode": {
    "name": "ipython",
    "version": 3
   },
   "file_extension": ".py",
   "mimetype": "text/x-python",
   "name": "python",
   "nbconvert_exporter": "python",
   "pygments_lexer": "ipython3",
   "version": "3.7.3"
  }
 },
 "nbformat": 4,
 "nbformat_minor": 2
}
