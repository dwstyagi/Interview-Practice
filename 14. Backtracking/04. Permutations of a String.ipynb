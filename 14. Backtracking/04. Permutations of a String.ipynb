{
 "cells": [
  {
   "cell_type": "markdown",
   "metadata": {},
   "source": [
    "Below are the permutations of string ABC.<br>\n",
    "ABC ACB BAC BCA CBA CAB"
   ]
  },
  {
   "cell_type": "markdown",
   "metadata": {},
   "source": [
    "<img src=\"https://media.geeksforgeeks.org/wp-content/cdn-uploads/NewPermutation.gif\" width=\"600\">"
   ]
  },
  {
   "cell_type": "code",
   "execution_count": 10,
   "metadata": {},
   "outputs": [],
   "source": [
    "def permuteUtil(str ,start ,end):\n",
    "    if start == end:\n",
    "        print(''.join(str),end=\" \")\n",
    "        return\n",
    "    \n",
    "    for i in range(start ,end):\n",
    "        str[start],str[i] = str[i],str[start]\n",
    "        permuteUtil(str ,start+1 ,end)\n",
    "        str[start],str[i] = str[i],str[start]"
   ]
  },
  {
   "cell_type": "code",
   "execution_count": 11,
   "metadata": {},
   "outputs": [],
   "source": [
    "def permute(str):\n",
    "    n = len(str)\n",
    "    str = list(str)\n",
    "    permuteUtil(str ,0 ,n)"
   ]
  },
  {
   "cell_type": "code",
   "execution_count": 12,
   "metadata": {},
   "outputs": [
    {
     "name": "stdout",
     "output_type": "stream",
     "text": [
      "ABC ACB BAC BCA CBA CAB "
     ]
    }
   ],
   "source": [
    "permute('ABC')"
   ]
  },
  {
   "cell_type": "code",
   "execution_count": 13,
   "metadata": {},
   "outputs": [
    {
     "name": "stdout",
     "output_type": "stream",
     "text": [
      "BOAT BOTA BAOT BATO BTAO BTOA OBAT OBTA OABT OATB OTAB OTBA AOBT AOTB ABOT ABTO ATBO ATOB TOAB TOBA TAOB TABO TBAO TBOA "
     ]
    }
   ],
   "source": [
    "permute('BOAT')"
   ]
  },
  {
   "cell_type": "code",
   "execution_count": null,
   "metadata": {},
   "outputs": [],
   "source": []
  }
 ],
 "metadata": {
  "kernelspec": {
   "display_name": "Python 3",
   "language": "python",
   "name": "python3"
  },
  "language_info": {
   "codemirror_mode": {
    "name": "ipython",
    "version": 3
   },
   "file_extension": ".py",
   "mimetype": "text/x-python",
   "name": "python",
   "nbconvert_exporter": "python",
   "pygments_lexer": "ipython3",
   "version": "3.7.6"
  }
 },
 "nbformat": 4,
 "nbformat_minor": 2
}
