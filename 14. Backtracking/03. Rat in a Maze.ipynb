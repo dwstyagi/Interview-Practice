{
 "cells": [
  {
   "cell_type": "markdown",
   "metadata": {},
   "source": [
    "A Maze is given as N*N binary matrix of blocks where <br>source block is the upper left most block   i.e., maze[0][0] and <br>destination block is lower rightmost block i.e., maze[N-1][N-1].<br> A rat starts from source and has to reach the destination. The rat can move only in two directions: forward and down.\n",
    "In the maze matrix, 0 means the block is a dead end and 1 means the block can be used in the path from source to destination. Note that this is a simple version of the typical Maze problem. For example, a more complex version can be that the rat can move in 4 directions and a more complex version can be with a limited number of moves."
   ]
  },
  {
   "cell_type": "markdown",
   "metadata": {},
   "source": [
    " Gray blocks are dead ends (value = 0).<br>\n",
    " <img src=\"https://www.geeksforgeeks.org/wp-content/uploads/ratinmaze_filled11.png\" align=\"left\" width=\"200\"><br>\n",
    "{1, 0, 0, 0}<br>\n",
    "{1, 1, 0, 1}<br>\n",
    "{0, 1, 0, 0}<br>\n",
    "{1, 1, 1, 1}"
   ]
  },
  {
   "cell_type": "markdown",
   "metadata": {},
   "source": [
    "**Solution**<br>\n",
    "<img src=\"https://www.geeksforgeeks.org/wp-content/uploads/ratinmaze_filled_path1.png\" align=\"left\" width=\"200\"><br>\n",
    "{1, 0, 0, 0}<br>\n",
    "{1, 1, 0, 0}<br>\n",
    "{0, 1, 0, 0}<br>\n",
    "{0, 1, 1, 1}"
   ]
  },
  {
   "cell_type": "code",
   "execution_count": 2,
   "metadata": {},
   "outputs": [],
   "source": [
    "def printMaze(sol):\n",
    "    for i in sol:\n",
    "        for j in i:\n",
    "            print(j,end=\" \")\n",
    "        print()"
   ]
  },
  {
   "cell_type": "code",
   "execution_count": 3,
   "metadata": {},
   "outputs": [],
   "source": [
    "def isValid(maze ,row ,col):\n",
    "    return (row >= 0 and row < len(maze) and\n",
    "            col >= 0 and col < len(maze) and \n",
    "            maze[row][col])"
   ]
  },
  {
   "cell_type": "code",
   "execution_count": 7,
   "metadata": {},
   "outputs": [],
   "source": [
    "def solveMazeUtil(maze ,row ,col ,sol):\n",
    "    \n",
    "    n = len(maze)\n",
    "\n",
    "    if col == n-1 and row == n-1:\n",
    "        sol[row][col] = 1\n",
    "        return True\n",
    "\n",
    "    if isValid(maze ,row ,col):\n",
    "        \n",
    "        sol[row][col] = 1\n",
    "        \n",
    "        if solveMazeUtil(maze ,row ,col+1 ,sol):\n",
    "            return True\n",
    "        \n",
    "        if solveMazeUtil(maze ,row+1 ,col ,sol):\n",
    "            return True\n",
    "        \n",
    "        sol[row][col] = 0\n",
    "        \n",
    "        return False\n"
   ]
  },
  {
   "cell_type": "code",
   "execution_count": 8,
   "metadata": {},
   "outputs": [],
   "source": [
    "def solveMaze(maze):\n",
    "    \n",
    "    sol = [[0 for _ in range(len(maze))] for _ in range(len(maze))]\n",
    "    \n",
    "    if solveMazeUtil(maze ,0 ,0 ,sol):\n",
    "        printMaze(sol)\n",
    "        return \n",
    "    \n",
    "    print(-1)"
   ]
  },
  {
   "cell_type": "code",
   "execution_count": 9,
   "metadata": {},
   "outputs": [
    {
     "name": "stdout",
     "output_type": "stream",
     "text": [
      "1 0 0 0 \n",
      "1 1 0 0 \n",
      "0 1 0 0 \n",
      "0 1 1 1 \n"
     ]
    }
   ],
   "source": [
    "maze = [[1,0,0,0],\n",
    "        [1,1,1,1],\n",
    "        [0,1,0,0],\n",
    "        [1,1,1,1]]\n",
    "\n",
    "solveMaze(maze)"
   ]
  }
 ],
 "metadata": {
  "kernelspec": {
   "display_name": "Python 3",
   "language": "python",
   "name": "python3"
  },
  "language_info": {
   "codemirror_mode": {
    "name": "ipython",
    "version": 3
   },
   "file_extension": ".py",
   "mimetype": "text/x-python",
   "name": "python",
   "nbconvert_exporter": "python",
   "pygments_lexer": "ipython3",
   "version": "3.7.6"
  }
 },
 "nbformat": 4,
 "nbformat_minor": 2
}
