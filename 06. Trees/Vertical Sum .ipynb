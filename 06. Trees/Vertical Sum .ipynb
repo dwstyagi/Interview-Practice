{
 "cells": [
  {
   "cell_type": "code",
   "execution_count": 1,
   "metadata": {},
   "outputs": [],
   "source": [
    "class Node:\n",
    "    def __init__(self ,data):\n",
    "        self.data = data\n",
    "        self.left = self.right = None"
   ]
  },
  {
   "cell_type": "raw",
   "metadata": {},
   "source": [
    "            10\n",
    "          /     \\\n",
    "         21     19\n",
    "           \\   /  \\\n",
    "           15 6    0\n",
    "          /    \\    \\\n",
    "         18    17   12\n",
    "        \n",
    "Vertical Order Traversal : \n",
    "HD = -1 : 21 18 : Sum = 39\n",
    "HD = 0  : 10 15 6 : Sum = 31\n",
    "HD = +1 : 19 17 : Sum = 36 \n",
    "HD = +2 : 0 : Sum = 0\n",
    "HD = +3 : 12 : Sum = 12"
   ]
  },
  {
   "cell_type": "code",
   "execution_count": 2,
   "metadata": {},
   "outputs": [],
   "source": [
    "root = Node(10)\n",
    "\n",
    "root.left = Node(21)\n",
    "root.right = Node(19)\n",
    "\n",
    "root.left.right = Node(15)\n",
    "root.right.left = Node(6)\n",
    "root.right.right = Node(0)\n",
    "\n",
    "root.left.right.left = Node(18)\n",
    "root.right.left.right = Node(17)\n",
    "root.right.right.right = Node(12)"
   ]
  },
  {
   "cell_type": "code",
   "execution_count": 3,
   "metadata": {},
   "outputs": [],
   "source": [
    "def findMinMax(root ,minimum ,maximum ,hd):\n",
    "    \n",
    "    if root is None:\n",
    "        return\n",
    "    \n",
    "    minimum[0] = min(hd ,minimum[0])\n",
    "    maximum[0] = max(hd ,maximum[0])\n",
    "    \n",
    "    findMinMax(root.left ,minimum ,maximum , hd-1)\n",
    "    findMinMax(root.right ,minimum ,maximum , hd+1)"
   ]
  },
  {
   "cell_type": "code",
   "execution_count": 4,
   "metadata": {},
   "outputs": [],
   "source": [
    "def printVerticalSum(root ,level, hd ,s):\n",
    "    \n",
    "    if root is None:\n",
    "        return \n",
    "    \n",
    "    if level == hd:\n",
    "        #i = abs(minimum[0]) + level\n",
    "        s[0] += root.data\n",
    "        \n",
    "    printVerticalSum(root.left ,level ,hd-1 ,s)\n",
    "    printVerticalSum(root.right ,level ,hd+1 ,s)"
   ]
  },
  {
   "cell_type": "code",
   "execution_count": 5,
   "metadata": {},
   "outputs": [],
   "source": [
    "def VerticalSum(root):\n",
    "    \n",
    "    minimum = [0]\n",
    "    maximum = [0]\n",
    "    \n",
    "    findMinMax(root ,minimum ,maximum ,0)\n",
    "    \n",
    "    i = minimum[0] + abs(minimum[0])\n",
    "    j = maximum[0] + abs(minimum[0]) + 1\n",
    "    \n",
    "    #s = [0 for _ in range(i ,j)]\n",
    "    \n",
    "    for i in range(minimum[0] , maximum[0]+1):\n",
    "        s = [0]\n",
    "        printVerticalSum(root ,i ,0 ,s)\n",
    "        print(s[0])"
   ]
  },
  {
   "cell_type": "code",
   "execution_count": 6,
   "metadata": {},
   "outputs": [
    {
     "name": "stdout",
     "output_type": "stream",
     "text": [
      "39\n",
      "31\n",
      "36\n",
      "0\n",
      "12\n"
     ]
    }
   ],
   "source": [
    "VerticalSum(root)"
   ]
  },
  {
   "cell_type": "markdown",
   "metadata": {},
   "source": [
    "## Solution 2: Using HashMap"
   ]
  },
  {
   "cell_type": "code",
   "execution_count": 7,
   "metadata": {},
   "outputs": [],
   "source": [
    "def printVerticalUsingMap(root ,hd ,Map):\n",
    "    \n",
    "    if root is None:\n",
    "        return \n",
    "    \n",
    "    try:\n",
    "        Map[hd].append(root.data)\n",
    "    except:\n",
    "        Map[hd] = [root.data]\n",
    "        \n",
    "    printVerticalUsingMap(root.left ,hd-1 ,Map)\n",
    "    printVerticalUsingMap(root.right ,hd+1 ,Map)"
   ]
  },
  {
   "cell_type": "code",
   "execution_count": 8,
   "metadata": {},
   "outputs": [],
   "source": [
    "def VerticalSumUsingMap(root):\n",
    "    if root is None:\n",
    "        return\n",
    "    \n",
    "    Map ={}\n",
    "    \n",
    "    printVerticalUsingMap(root ,0 ,Map)\n",
    "    \n",
    "    for key,value in enumerate(sorted(Map)):\n",
    "        print(sum(Map[value]))"
   ]
  },
  {
   "cell_type": "code",
   "execution_count": 9,
   "metadata": {},
   "outputs": [
    {
     "name": "stdout",
     "output_type": "stream",
     "text": [
      "39\n",
      "31\n",
      "36\n",
      "0\n",
      "12\n"
     ]
    }
   ],
   "source": [
    "VerticalSumUsingMap(root)"
   ]
  },
  {
   "cell_type": "code",
   "execution_count": null,
   "metadata": {},
   "outputs": [],
   "source": []
  }
 ],
 "metadata": {
  "kernelspec": {
   "display_name": "Python 3",
   "language": "python",
   "name": "python3"
  },
  "language_info": {
   "codemirror_mode": {
    "name": "ipython",
    "version": 3
   },
   "file_extension": ".py",
   "mimetype": "text/x-python",
   "name": "python",
   "nbconvert_exporter": "python",
   "pygments_lexer": "ipython3",
   "version": "3.7.4"
  }
 },
 "nbformat": 4,
 "nbformat_minor": 2
}
