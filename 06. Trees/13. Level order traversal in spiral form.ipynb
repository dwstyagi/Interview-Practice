{
 "cells": [
  {
   "cell_type": "code",
   "execution_count": 1,
   "metadata": {},
   "outputs": [],
   "source": [
    "class Node:\n",
    "    def __init__(self ,data):\n",
    "        self.data = data\n",
    "        self.left = self.right = None"
   ]
  },
  {
   "cell_type": "raw",
   "metadata": {},
   "source": [
    "                1\n",
    "              /   \\\n",
    "             2     3\n",
    "            / \\   / \\\n",
    "           7   6 5   4\n",
    " \n",
    " Output : 1 2 3 4 5 6 7"
   ]
  },
  {
   "cell_type": "code",
   "execution_count": 2,
   "metadata": {},
   "outputs": [],
   "source": [
    "root = Node(1)\n",
    "root.left = Node(2)\n",
    "root.right = Node(3)\n",
    "\n",
    "root.left.left = Node(7)\n",
    "root.left.right = Node(6)\n",
    "\n",
    "root.right.left = Node(5)\n",
    "root.right.right = Node(4)"
   ]
  },
  {
   "cell_type": "code",
   "execution_count": 3,
   "metadata": {},
   "outputs": [],
   "source": [
    "def levelOrderSpiral(root):\n",
    "    \n",
    "    stack_1 = []  # add children left and then right\n",
    "    stack_2 = []  # add children right and then left\n",
    "    \n",
    "    stack_1.append(root)\n",
    "    \n",
    "    while len(stack_1) or len(stack_2):\n",
    "        \n",
    "        while len(stack_1):\n",
    "            temp = stack_1.pop()\n",
    "            print(temp.data,end=\" \")\n",
    "            \n",
    "            if temp.right is not None:\n",
    "                stack_2.append(temp.right)\n",
    "            \n",
    "            if temp.left is not None:\n",
    "                stack_2.append(temp.left)\n",
    "        \n",
    "        while len(stack_2):\n",
    "            temp = stack_2.pop()\n",
    "            print(temp.data,end=\" \")\n",
    "            \n",
    "            if temp.left is not None:\n",
    "                stack_1.append(temp.left)\n",
    "            \n",
    "            if temp.right is not None:\n",
    "                stack_1.append(temp.right)\n"
   ]
  },
  {
   "cell_type": "code",
   "execution_count": 4,
   "metadata": {},
   "outputs": [
    {
     "name": "stdout",
     "output_type": "stream",
     "text": [
      "1 2 3 4 5 6 7 "
     ]
    }
   ],
   "source": [
    "levelOrderSpiral(root)"
   ]
  },
  {
   "cell_type": "code",
   "execution_count": null,
   "metadata": {},
   "outputs": [],
   "source": []
  }
 ],
 "metadata": {
  "kernelspec": {
   "display_name": "Python 3",
   "language": "python",
   "name": "python3"
  },
  "language_info": {
   "codemirror_mode": {
    "name": "ipython",
    "version": 3
   },
   "file_extension": ".py",
   "mimetype": "text/x-python",
   "name": "python",
   "nbconvert_exporter": "python",
   "pygments_lexer": "ipython3",
   "version": "3.8.5"
  }
 },
 "nbformat": 4,
 "nbformat_minor": 2
}
