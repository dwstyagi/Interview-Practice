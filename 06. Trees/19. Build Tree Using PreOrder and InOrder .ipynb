{
 "cells": [
  {
   "cell_type": "code",
   "execution_count": 1,
   "metadata": {},
   "outputs": [],
   "source": [
    "class Node:\n",
    "    def __init__(self ,data):\n",
    "        self.data = data\n",
    "        self.left = None\n",
    "        self.right = None"
   ]
  },
  {
   "cell_type": "markdown",
   "metadata": {},
   "source": [
    "```\n",
    "        A\n",
    "       / \\\n",
    "      /   \\\n",
    "     B     C\n",
    "    /     / \\\n",
    "   /     /   \\\n",
    "  D     E     F\n",
    "```"
   ]
  },
  {
   "cell_type": "code",
   "execution_count": 2,
   "metadata": {},
   "outputs": [],
   "source": [
    "root = Node('A')\n",
    "\n",
    "root.left = Node('B')\n",
    "root.right = Node('C')\n",
    "\n",
    "root.left.left = Node('D')\n",
    "root.right.left = Node('E')\n",
    "root.right.right = Node('F')"
   ]
  },
  {
   "cell_type": "code",
   "execution_count": 3,
   "metadata": {},
   "outputs": [],
   "source": [
    "def preOrder(pre ,root):\n",
    "    \n",
    "    if root:\n",
    "        pre.append(root.data)\n",
    "        preOrder(pre ,root.left)\n",
    "        preOrder(pre ,root.right)\n",
    "    \n",
    "    return pre"
   ]
  },
  {
   "cell_type": "code",
   "execution_count": 4,
   "metadata": {},
   "outputs": [],
   "source": [
    "def inOrder(In ,root):\n",
    "    \n",
    "    if root:\n",
    "        inOrder(In ,root.left)\n",
    "        In.append(root.data)\n",
    "        inOrder(In ,root.right)\n",
    "    \n",
    "    return In"
   ]
  },
  {
   "cell_type": "code",
   "execution_count": 5,
   "metadata": {},
   "outputs": [
    {
     "data": {
      "text/plain": [
       "['A', 'B', 'D', 'C', 'E', 'F']"
      ]
     },
     "execution_count": 5,
     "metadata": {},
     "output_type": "execute_result"
    }
   ],
   "source": [
    "pre = []\n",
    "preOrder(pre ,root)"
   ]
  },
  {
   "cell_type": "code",
   "execution_count": 6,
   "metadata": {},
   "outputs": [
    {
     "data": {
      "text/plain": [
       "['D', 'B', 'A', 'E', 'C', 'F']"
      ]
     },
     "execution_count": 6,
     "metadata": {},
     "output_type": "execute_result"
    }
   ],
   "source": [
    "In = []\n",
    "inOrder(In ,root)"
   ]
  },
  {
   "cell_type": "code",
   "execution_count": 25,
   "metadata": {},
   "outputs": [],
   "source": [
    "def tree(inTraversal ,preTraversal):\n",
    "    \n",
    "    if len(inTraversal) == 0:\n",
    "        return None\n",
    "    \n",
    "    root = Node(preTraversal[0])\n",
    "    \n",
    "    index = inTraversal.index(root.data)\n",
    "    \n",
    "    root.left = tree(inTraversal[:index] ,preTraversal[1:index+1])\n",
    "    root.right = tree(inTraversal[index+1:] ,preTraversal[index+1:])\n",
    "    \n",
    "    return root"
   ]
  },
  {
   "cell_type": "code",
   "execution_count": 26,
   "metadata": {},
   "outputs": [],
   "source": [
    "root = tree(In ,pre)"
   ]
  },
  {
   "cell_type": "code",
   "execution_count": 23,
   "metadata": {},
   "outputs": [
    {
     "data": {
      "text/plain": [
       "['A', 'B', 'D', 'C', 'E', 'F']"
      ]
     },
     "execution_count": 23,
     "metadata": {},
     "output_type": "execute_result"
    }
   ],
   "source": [
    "pre"
   ]
  },
  {
   "cell_type": "code",
   "execution_count": 28,
   "metadata": {},
   "outputs": [
    {
     "data": {
      "text/plain": [
       "['A', 'B', 'D', 'C', 'E', 'F']"
      ]
     },
     "execution_count": 28,
     "metadata": {},
     "output_type": "execute_result"
    }
   ],
   "source": [
    "r = []\n",
    "preOrder(r, root)"
   ]
  },
  {
   "cell_type": "code",
   "execution_count": null,
   "metadata": {},
   "outputs": [],
   "source": []
  }
 ],
 "metadata": {
  "kernelspec": {
   "display_name": "Python 3",
   "language": "python",
   "name": "python3"
  },
  "language_info": {
   "codemirror_mode": {
    "name": "ipython",
    "version": 3
   },
   "file_extension": ".py",
   "mimetype": "text/x-python",
   "name": "python",
   "nbconvert_exporter": "python",
   "pygments_lexer": "ipython3",
   "version": "3.8.5"
  }
 },
 "nbformat": 4,
 "nbformat_minor": 2
}
