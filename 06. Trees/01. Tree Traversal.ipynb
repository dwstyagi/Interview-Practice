{
 "cells": [
  {
   "cell_type": "code",
   "execution_count": 1,
   "metadata": {},
   "outputs": [],
   "source": [
    "class Node:\n",
    "    def __init__(self ,data):\n",
    "        self.data = data\n",
    "        self.left = self.right = None"
   ]
  },
  {
   "cell_type": "markdown",
   "metadata": {},
   "source": [
    "```\n",
    "              10\n",
    "           /     \\\n",
    "          11     20\n",
    "         /  \\   /  \\\n",
    "        15  12 0    9\n",
    "              / \\\n",
    "             16 18\n",
    "\n",
    "PreOrder : 10 11 15 12 20 0 16 18 9\n",
    "InOrder : 15 11 12 10 16 0 18 20 9 \n",
    "PostOrder : 15 12 11 16 18 0 9 20 10 \n",
    "```"
   ]
  },
  {
   "cell_type": "code",
   "execution_count": 2,
   "metadata": {},
   "outputs": [],
   "source": [
    "root = Node(10)\n",
    "\n",
    "root.left = Node(11)\n",
    "root.right = Node(20)\n",
    "\n",
    "root.left.left = Node(15)\n",
    "root.left.right = Node(12)\n",
    "root.right.left = Node(0)\n",
    "root.right.right = Node(9)\n",
    "\n",
    "root.right.left.left = Node(16)\n",
    "root.right.left.right = Node(18)"
   ]
  },
  {
   "cell_type": "markdown",
   "metadata": {},
   "source": [
    "## PreOrder Tree Traversal"
   ]
  },
  {
   "cell_type": "code",
   "execution_count": 3,
   "metadata": {},
   "outputs": [],
   "source": [
    "def PreOrder(root):\n",
    "    \n",
    "    if root :\n",
    "        print(root.data,end=\" \")\n",
    "        PreOrder(root.left)\n",
    "        PreOrder(root.right)"
   ]
  },
  {
   "cell_type": "code",
   "execution_count": 4,
   "metadata": {},
   "outputs": [
    {
     "name": "stdout",
     "output_type": "stream",
     "text": [
      "10 11 15 12 20 0 16 18 9 "
     ]
    }
   ],
   "source": [
    "PreOrder(root)"
   ]
  },
  {
   "cell_type": "markdown",
   "metadata": {},
   "source": [
    "### Without Recursion\n",
    "#### PreOrderWithoutRecursion(root)\n",
    "<ol>\n",
    "    <li>Push the root onto the stack.</li>\n",
    "    <li>Repeat until the stack is empty.</li>\n",
    "    <ol>\n",
    "        <li>Pop the Element and Print it.</li>\n",
    "        <li>check for Popped Node children and pushed into the stack from right to left</li>\n",
    "    </ol>\n",
    "</ol>"
   ]
  },
  {
   "cell_type": "code",
   "execution_count": 5,
   "metadata": {},
   "outputs": [],
   "source": [
    "def PreOrderWithoutRecursion(root):\n",
    "    \n",
    "    stack = []\n",
    "    stack.append(root)\n",
    "    \n",
    "    while len(stack) :\n",
    "        temp = stack.pop()\n",
    "        print(temp.data,end=\" \")\n",
    "        \n",
    "        if temp.right is not None:\n",
    "            stack.append(temp.right)\n",
    "        \n",
    "        if temp.left is not None:\n",
    "            stack.append(temp.left)"
   ]
  },
  {
   "cell_type": "code",
   "execution_count": 6,
   "metadata": {},
   "outputs": [
    {
     "name": "stdout",
     "output_type": "stream",
     "text": [
      "10 11 15 12 20 0 16 18 9 "
     ]
    }
   ],
   "source": [
    "PreOrderWithoutRecursion(root)"
   ]
  },
  {
   "cell_type": "markdown",
   "metadata": {},
   "source": [
    "## InOrder Tree Traversal"
   ]
  },
  {
   "cell_type": "code",
   "execution_count": 7,
   "metadata": {},
   "outputs": [],
   "source": [
    "def InOrder(root):\n",
    "    if root :\n",
    "        InOrder(root.left)\n",
    "        print(root.data,end=\" \")\n",
    "        InOrder(root.right)"
   ]
  },
  {
   "cell_type": "code",
   "execution_count": 8,
   "metadata": {},
   "outputs": [
    {
     "name": "stdout",
     "output_type": "stream",
     "text": [
      "15 11 12 10 16 0 18 20 9 "
     ]
    }
   ],
   "source": [
    "InOrder(root)"
   ]
  },
  {
   "cell_type": "markdown",
   "metadata": {},
   "source": [
    "```\n",
    "InOrderWithoutRecursion(root) :\n",
    "    1. Repeat until the stack is empty\n",
    "      a) if root is not none push the root node\n",
    "         into the stack and make root its left child\n",
    "      b) if root is None popped the Top element from stack \n",
    "         and make root as Popped element right child\n",
    "```"
   ]
  },
  {
   "cell_type": "code",
   "execution_count": 10,
   "metadata": {},
   "outputs": [],
   "source": [
    "def InOrderWithoutRecursion(root):\n",
    "    \n",
    "    stack = []\n",
    "    \n",
    "    while True :\n",
    "        if root is not None:\n",
    "            stack.append(root)\n",
    "            root = root.left\n",
    "        \n",
    "        else:\n",
    "            if len(stack) == 0:\n",
    "                break   \n",
    "            temp = stack.pop()\n",
    "            print(temp.data,end=\" \")\n",
    "            root = temp.right"
   ]
  },
  {
   "cell_type": "code",
   "execution_count": 11,
   "metadata": {},
   "outputs": [
    {
     "name": "stdout",
     "output_type": "stream",
     "text": [
      "15 11 12 10 16 0 18 20 9 "
     ]
    }
   ],
   "source": [
    "InOrderWithoutRecursion(root)"
   ]
  },
  {
   "cell_type": "markdown",
   "metadata": {},
   "source": [
    "## PostOrder Tree Traversal"
   ]
  },
  {
   "cell_type": "code",
   "execution_count": 12,
   "metadata": {},
   "outputs": [],
   "source": [
    "def PostOrder(root):\n",
    "    if root:\n",
    "        PostOrder(root.left)\n",
    "        PostOrder(root.right)\n",
    "        print(root.data,end=\" \")"
   ]
  },
  {
   "cell_type": "code",
   "execution_count": 13,
   "metadata": {},
   "outputs": [
    {
     "name": "stdout",
     "output_type": "stream",
     "text": [
      "15 12 11 16 18 0 9 20 10 "
     ]
    }
   ],
   "source": [
    "PostOrder(root)"
   ]
  },
  {
   "cell_type": "markdown",
   "metadata": {},
   "source": [
    "```\n",
    "PostOrderWithoutRecursion(root):\n",
    "    1. push the root into the stack say s2\n",
    "    2. push its children into the another stack say s1\n",
    "    3. Repeat until s1 is not empty \n",
    "      a) Popped from s1 and push the Popped Node into the s2\n",
    "      b) push the Popped node children into the s1\n",
    "```"
   ]
  },
  {
   "cell_type": "code",
   "execution_count": 14,
   "metadata": {},
   "outputs": [],
   "source": [
    "def PostOrderWithoutRecursion(root):\n",
    "    \n",
    "    stack_1 ,stack_2 = [], []\n",
    "    temp = root\n",
    "    \n",
    "    while True :\n",
    "        \n",
    "        stack_2.append(temp)\n",
    "        \n",
    "        if temp.left is not None:\n",
    "            stack_1.append(temp.left)\n",
    "        \n",
    "        if temp.right is not None:\n",
    "            stack_1.append(temp.right)\n",
    "        \n",
    "        if len(stack_1) == 0:\n",
    "            break\n",
    "        else:\n",
    "            temp = stack_1.pop()\n",
    "        \n",
    "    while len(stack_2) :\n",
    "        print(stack_2.pop().data,end=\" \")"
   ]
  },
  {
   "cell_type": "code",
   "execution_count": 15,
   "metadata": {},
   "outputs": [
    {
     "name": "stdout",
     "output_type": "stream",
     "text": [
      "15 12 11 16 18 0 9 20 10 "
     ]
    }
   ],
   "source": [
    "PostOrderWithoutRecursion(root)"
   ]
  },
  {
   "cell_type": "code",
   "execution_count": null,
   "metadata": {},
   "outputs": [],
   "source": []
  }
 ],
 "metadata": {
  "kernelspec": {
   "display_name": "Python 3",
   "language": "python",
   "name": "python3"
  },
  "language_info": {
   "codemirror_mode": {
    "name": "ipython",
    "version": 3
   },
   "file_extension": ".py",
   "mimetype": "text/x-python",
   "name": "python",
   "nbconvert_exporter": "python",
   "pygments_lexer": "ipython3",
   "version": "3.8.5"
  }
 },
 "nbformat": 4,
 "nbformat_minor": 2
}
