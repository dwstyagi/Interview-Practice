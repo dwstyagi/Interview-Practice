{
 "cells": [
  {
   "cell_type": "code",
   "execution_count": 9,
   "metadata": {},
   "outputs": [],
   "source": [
    "class Node:\n",
    "    def __init__(self, data):\n",
    "        self.data = data\n",
    "        self.left = None\n",
    "        self.right = None\n",
    "        self.distance = 0"
   ]
  },
  {
   "cell_type": "code",
   "execution_count": 10,
   "metadata": {},
   "outputs": [],
   "source": [
    "def findParent(root, parent, seen):\n",
    "    \n",
    "    if root is None:\n",
    "        return \n",
    "    \n",
    "    seen[root] = 0\n",
    "    \n",
    "    if root.left is not None:\n",
    "        parent[root.left] = root\n",
    "    \n",
    "    if root.right is not None:\n",
    "        parent[root.right] = root\n",
    "    \n",
    "    findParent(root.left, parent, seen)\n",
    "    findParent(root.right, parent, seen)"
   ]
  },
  {
   "cell_type": "code",
   "execution_count": 11,
   "metadata": {},
   "outputs": [],
   "source": [
    "def distanceBetween2NodesUtil(root, n1, n2):\n",
    "    parent = {}\n",
    "    seen = {}\n",
    "    \n",
    "    parent[root] = None\n",
    "    findParent(root, parent, seen)\n",
    "    \n",
    "    Queue = []\n",
    "    Queue.append(n1)\n",
    "    \n",
    "    while Queue:\n",
    "        node = Queue.pop(0)\n",
    "        seen[node] = 1\n",
    "        \n",
    "        if node.data == n2.data:\n",
    "            return node.distance\n",
    "        \n",
    "        if node.left is not None and not seen[node.left]:\n",
    "            node.left.distance = node.distance + 1\n",
    "            Queue.append(node.left)\n",
    "        \n",
    "        if node.right is not None and not seen[node.right]:\n",
    "            node.right.distance = node.distance + 1\n",
    "            Queue.append(node.right)\n",
    "        \n",
    "        if parent[node] is not None and not seen[parent[node]]:\n",
    "            parent[node].distance = node.distance + 1\n",
    "            Queue.append(parent[node])"
   ]
  },
  {
   "cell_type": "code",
   "execution_count": 26,
   "metadata": {},
   "outputs": [],
   "source": [
    "def getNode(root, node):\n",
    "    if root is None:\n",
    "        return None\n",
    "    \n",
    "    if root.data == node:\n",
    "        return root\n",
    "    \n",
    "    getNode(root.left, node)\n",
    "    getNode(root.right, node)"
   ]
  },
  {
   "cell_type": "code",
   "execution_count": 27,
   "metadata": {},
   "outputs": [],
   "source": [
    "def distanceBetween2Nodes(root, n1, n2):\n",
    "    \n",
    "    node1 = getNode(root, n1)\n",
    "    node2 = getNode(root, n2)\n",
    "    \n",
    "    print(node1.data)\n",
    "    print(node2.data)"
   ]
  },
  {
   "cell_type": "code",
   "execution_count": 28,
   "metadata": {},
   "outputs": [],
   "source": [
    "root = Node(1) \n",
    "\n",
    "root.left = Node(2) \n",
    "root.right = Node(3) \n",
    "\n",
    "root.left.left = Node(4) \n",
    "root.right.right= Node(7) \n",
    "root.right.left = Node(6) \n",
    "root.left.right = Node(5) \n",
    "\n",
    "root.right.left.right = Node(8) "
   ]
  },
  {
   "cell_type": "code",
   "execution_count": 29,
   "metadata": {},
   "outputs": [
    {
     "ename": "AttributeError",
     "evalue": "'NoneType' object has no attribute 'data'",
     "output_type": "error",
     "traceback": [
      "\u001b[1;31m---------------------------------------------------------------------------\u001b[0m",
      "\u001b[1;31mAttributeError\u001b[0m                            Traceback (most recent call last)",
      "\u001b[1;32m<ipython-input-29-883bb8d5b92e>\u001b[0m in \u001b[0;36m<module>\u001b[1;34m\u001b[0m\n\u001b[1;32m----> 1\u001b[1;33m \u001b[0mdistanceBetween2Nodes\u001b[0m\u001b[1;33m(\u001b[0m\u001b[0mroot\u001b[0m\u001b[1;33m,\u001b[0m \u001b[1;36m4\u001b[0m\u001b[1;33m,\u001b[0m \u001b[1;36m5\u001b[0m\u001b[1;33m)\u001b[0m\u001b[1;33m\u001b[0m\u001b[1;33m\u001b[0m\u001b[0m\n\u001b[0m",
      "\u001b[1;32m<ipython-input-27-d985a3832ab7>\u001b[0m in \u001b[0;36mdistanceBetween2Nodes\u001b[1;34m(root, n1, n2)\u001b[0m\n\u001b[0;32m      4\u001b[0m     \u001b[0mnode2\u001b[0m \u001b[1;33m=\u001b[0m \u001b[0mgetNode\u001b[0m\u001b[1;33m(\u001b[0m\u001b[0mroot\u001b[0m\u001b[1;33m,\u001b[0m \u001b[0mn2\u001b[0m\u001b[1;33m)\u001b[0m\u001b[1;33m\u001b[0m\u001b[1;33m\u001b[0m\u001b[0m\n\u001b[0;32m      5\u001b[0m \u001b[1;33m\u001b[0m\u001b[0m\n\u001b[1;32m----> 6\u001b[1;33m     \u001b[0mprint\u001b[0m\u001b[1;33m(\u001b[0m\u001b[0mnode1\u001b[0m\u001b[1;33m.\u001b[0m\u001b[0mdata\u001b[0m\u001b[1;33m)\u001b[0m\u001b[1;33m\u001b[0m\u001b[1;33m\u001b[0m\u001b[0m\n\u001b[0m\u001b[0;32m      7\u001b[0m     \u001b[0mprint\u001b[0m\u001b[1;33m(\u001b[0m\u001b[0mnode2\u001b[0m\u001b[1;33m.\u001b[0m\u001b[0mdata\u001b[0m\u001b[1;33m)\u001b[0m\u001b[1;33m\u001b[0m\u001b[1;33m\u001b[0m\u001b[0m\n",
      "\u001b[1;31mAttributeError\u001b[0m: 'NoneType' object has no attribute 'data'"
     ]
    }
   ],
   "source": [
    "distanceBetween2Nodes(root, 4, 5)"
   ]
  },
  {
   "cell_type": "code",
   "execution_count": null,
   "metadata": {},
   "outputs": [],
   "source": []
  }
 ],
 "metadata": {
  "kernelspec": {
   "display_name": "Python 3",
   "language": "python",
   "name": "python3"
  },
  "language_info": {
   "codemirror_mode": {
    "name": "ipython",
    "version": 3
   },
   "file_extension": ".py",
   "mimetype": "text/x-python",
   "name": "python",
   "nbconvert_exporter": "python",
   "pygments_lexer": "ipython3",
   "version": "3.8.5"
  }
 },
 "nbformat": 4,
 "nbformat_minor": 4
}
