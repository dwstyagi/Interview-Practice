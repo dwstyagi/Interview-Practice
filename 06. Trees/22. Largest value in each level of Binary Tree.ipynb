{
 "cells": [
  {
   "cell_type": "markdown",
   "metadata": {},
   "source": [
    "Given a binary tree, find the largest value in each level.\n",
    "\n",
    "```\n",
    "Examples :\n",
    "\n",
    "Input :\n",
    "        1\n",
    "       / \\\n",
    "      2   3 \n",
    "Output : 1 3\n",
    "\n",
    "Input : \n",
    "        4\n",
    "       / \\\n",
    "      9   2\n",
    "     / \\   \\\n",
    "    3   5   7 \n",
    "Output : 4 9 7\n",
    "```"
   ]
  },
  {
   "cell_type": "code",
   "execution_count": 1,
   "metadata": {},
   "outputs": [],
   "source": [
    "def findLargest(root):\n",
    "    s = []\n",
    "    helper(root, s, 0)\n",
    "    print(*s)"
   ]
  },
  {
   "cell_type": "code",
   "execution_count": 2,
   "metadata": {},
   "outputs": [],
   "source": [
    "def helper(root, s, level):\n",
    "    if root is None:\n",
    "        return\n",
    "    \n",
    "    if len(s) == level:\n",
    "        s.append(root.data)\n",
    "    \n",
    "    s[level] = max(s[level], root.data)\n",
    "    \n",
    "    helper(root.left, s, level+1)\n",
    "    helper(root.right, s, level+1)"
   ]
  },
  {
   "cell_type": "code",
   "execution_count": 3,
   "metadata": {},
   "outputs": [],
   "source": [
    "class newNode:\n",
    "    def __init__(self, data):\n",
    "        self.data = data\n",
    "        self.left = None\n",
    "        self.right = None"
   ]
  },
  {
   "cell_type": "code",
   "execution_count": 4,
   "metadata": {},
   "outputs": [],
   "source": [
    "root = newNode(4)  \n",
    "root.left = newNode(9)  \n",
    "root.right = newNode(2)  \n",
    "root.left.left = newNode(3) \n",
    "root.left.right = newNode(5) \n",
    "root.right.right = newNode(7) "
   ]
  },
  {
   "cell_type": "code",
   "execution_count": 5,
   "metadata": {},
   "outputs": [
    {
     "name": "stdout",
     "output_type": "stream",
     "text": [
      "4 9 7\n"
     ]
    }
   ],
   "source": [
    "findLargest(root)"
   ]
  },
  {
   "cell_type": "code",
   "execution_count": null,
   "metadata": {},
   "outputs": [],
   "source": []
  }
 ],
 "metadata": {
  "kernelspec": {
   "display_name": "Python 3",
   "language": "python",
   "name": "python3"
  },
  "language_info": {
   "codemirror_mode": {
    "name": "ipython",
    "version": 3
   },
   "file_extension": ".py",
   "mimetype": "text/x-python",
   "name": "python",
   "nbconvert_exporter": "python",
   "pygments_lexer": "ipython3",
   "version": "3.7.6"
  }
 },
 "nbformat": 4,
 "nbformat_minor": 4
}
