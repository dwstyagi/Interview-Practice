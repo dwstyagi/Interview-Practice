{
 "cells": [
  {
   "cell_type": "code",
   "execution_count": 12,
   "metadata": {},
   "outputs": [],
   "source": [
    "class Node:\n",
    "    \n",
    "    def __init__(self ,data):\n",
    "        self.data = data\n",
    "        self.left = self.right = None"
   ]
  },
  {
   "cell_type": "markdown",
   "metadata": {},
   "source": [
    "```\n",
    "               -15\n",
    "              /    \\\n",
    "             5      6\n",
    "            / \\    / \\\n",
    "          -8   1  3   9\n",
    "          / \\          \\\n",
    "         2  -3          0\n",
    "                       / \\\n",
    "                      4  -1\n",
    "                         /\n",
    "                        10\n",
    " \n",
    " Max Sum: 3 + 6 + 9 + 0 + -1 + 10 = 27\n",
    "```"
   ]
  },
  {
   "cell_type": "code",
   "execution_count": 19,
   "metadata": {},
   "outputs": [],
   "source": [
    "root = Node(-15)\n",
    "\n",
    "root.left = Node(5)\n",
    "root.right = Node(6)\n",
    "\n",
    "root.left.left = Node(-8)\n",
    "root.left.right = Node(1)\n",
    "root.right.left = Node(3)\n",
    "root.right.right = Node(9)\n",
    "\n",
    "root.left.left.left = Node(2)\n",
    "root.left.left.right = Node(-3)\n",
    "root.right.right.right = Node(0)\n",
    "\n",
    "root.right.right.right.left = Node(4)\n",
    "root.right.right.right.right = Node(-1)\n",
    "\n",
    "root.right.right.right.right.left = Node(10)"
   ]
  },
  {
   "cell_type": "code",
   "execution_count": 23,
   "metadata": {},
   "outputs": [],
   "source": [
    "def maxPathSum(root):\n",
    "    \n",
    "    if root is None:\n",
    "        return 0\n",
    "    \n",
    "    # For each node there can be four ways that the max path goes through the node:\n",
    "    # 1. Node only\n",
    "    # 2. Max path through Left Child + Node\n",
    "    # 3. Max path through Right Child + Node\n",
    "    # 4. Max path through Left Child + Node + Max path through Right Child\n",
    "    \n",
    "    lc = maxPathSum(root.left)\n",
    "    rc = maxPathSum(root.right)\n",
    "    \n",
    "    max_result = max(root.data ,root.data + max(lc,rc))\n",
    "    \n",
    "    max_top = max(max_result ,root.data + lc + rc)\n",
    "    \n",
    "    maxPathSum.result = max(maxPathSum.result ,max_top)\n",
    "    \n",
    "    return max_result "
   ]
  },
  {
   "cell_type": "code",
   "execution_count": 26,
   "metadata": {},
   "outputs": [],
   "source": [
    "def maxPath(root):\n",
    "    \n",
    "    # Static Variable\n",
    "    maxPathSum.result = float(\"-inf\")\n",
    "    \n",
    "    maxPathSum(root)\n",
    "    print(maxPathSum.result)"
   ]
  },
  {
   "cell_type": "code",
   "execution_count": 27,
   "metadata": {},
   "outputs": [
    {
     "name": "stdout",
     "output_type": "stream",
     "text": [
      "27\n"
     ]
    }
   ],
   "source": [
    "maxPath(root)"
   ]
  },
  {
   "cell_type": "code",
   "execution_count": null,
   "metadata": {},
   "outputs": [],
   "source": []
  }
 ],
 "metadata": {
  "kernelspec": {
   "display_name": "Python 3",
   "language": "python",
   "name": "python3"
  },
  "language_info": {
   "codemirror_mode": {
    "name": "ipython",
    "version": 3
   },
   "file_extension": ".py",
   "mimetype": "text/x-python",
   "name": "python",
   "nbconvert_exporter": "python",
   "pygments_lexer": "ipython3",
   "version": "3.8.5"
  }
 },
 "nbformat": 4,
 "nbformat_minor": 2
}
