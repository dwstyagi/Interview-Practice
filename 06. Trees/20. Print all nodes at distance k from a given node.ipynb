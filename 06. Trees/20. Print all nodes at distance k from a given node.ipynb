{
 "cells": [
  {
   "cell_type": "markdown",
   "metadata": {},
   "source": [
    "Given a binary tree, a target node in the binary tree, and an integer value k, print all the nodes that are at distance k from the given target node. No parent pointers are available.\n",
    "\n",
    "<img src=\"https://media.geeksforgeeks.org/wp-content/cdn-uploads/BinaryTree4.png\" >\n",
    "<br>\n",
    "<br>\n",
    "\n",
    "```\n",
    "Consider the tree shown in diagram\n",
    "\n",
    "Input: target = pointer to node with data 8.\n",
    "root = pointer to node with data 20.\n",
    "k = 2.\n",
    "Output : 10 14 22\n",
    "\n",
    "If target is 14 and k is 3, then output\n",
    "should be “4 20”\n",
    "```"
   ]
  },
  {
   "cell_type": "code",
   "execution_count": 2,
   "metadata": {},
   "outputs": [],
   "source": [
    "class Node:\n",
    "    def __init__(self, data):\n",
    "        self.data = data\n",
    "        self.left = None\n",
    "        self.right = None"
   ]
  },
  {
   "cell_type": "code",
   "execution_count": 3,
   "metadata": {},
   "outputs": [],
   "source": [
    "def findParent(root, parent, seen):\n",
    "    if root is None:\n",
    "        return \n",
    "    \n",
    "    seen[root] = 0\n",
    "    \n",
    "    if root.left is not None:\n",
    "        parent[root.left] = root\n",
    "    \n",
    "    if root.right is not None:\n",
    "        parent[root.right] = root\n",
    "    \n",
    "    findParent(root.left, parent, seen)\n",
    "    findParent(root.right, parent, seen)"
   ]
  },
  {
   "cell_type": "code",
   "execution_count": 24,
   "metadata": {},
   "outputs": [],
   "source": [
    "def printkDistanceNode(root, start, k):\n",
    "    parent = {}\n",
    "    seen = {}\n",
    "    \n",
    "    parent[root] = None\n",
    "    \n",
    "    findParent(root, parent, seen)\n",
    "    \n",
    "    Q = []\n",
    "    \n",
    "    Q.append(start)\n",
    "    seen[start] = 1\n",
    "    Q.append(Node(-1))\n",
    "    \n",
    "    while Q:\n",
    "        node = Q.pop(0)\n",
    "        \n",
    "        if node.data == -1:\n",
    "            k -= 1\n",
    "            if k == 0:\n",
    "                return printNodes(Q)\n",
    "            else:\n",
    "                Q.append(Node(-1))\n",
    "        \n",
    "        else:\n",
    "            if node.left and not seen[node.left]:\n",
    "                seen[node.left] = 1\n",
    "                Q.append(node.left)\n",
    "            \n",
    "            if node.right and not seen[node.right]:\n",
    "                seen[node.right] = 1\n",
    "                Q.append(node.right)\n",
    "            \n",
    "            if parent[node] and not seen[parent[node]]:\n",
    "                seen[parent[node]] = 1\n",
    "                Q.append(parent[node])"
   ]
  },
  {
   "cell_type": "code",
   "execution_count": 25,
   "metadata": {},
   "outputs": [],
   "source": [
    "def printNodes(Queue):\n",
    "    while Queue:\n",
    "        node = Queue.pop(0)\n",
    "        print(node.data,end=\" \")"
   ]
  },
  {
   "cell_type": "code",
   "execution_count": 26,
   "metadata": {},
   "outputs": [
    {
     "name": "stdout",
     "output_type": "stream",
     "text": [
      "10 14 22 "
     ]
    }
   ],
   "source": [
    "root = Node(20) \n",
    "root.left = Node(8) \n",
    "root.right = Node(22) \n",
    "root.left.left = Node(4) \n",
    "root.left.right = Node(12) \n",
    "root.left.right.left = Node(10) \n",
    "root.left.right.right = Node(14) \n",
    "target = root.left\n",
    "printkDistanceNode(root, target, 2)"
   ]
  },
  {
   "cell_type": "code",
   "execution_count": 27,
   "metadata": {},
   "outputs": [
    {
     "name": "stdout",
     "output_type": "stream",
     "text": [
      "7 4 1 "
     ]
    }
   ],
   "source": [
    "root = Node(3)\n",
    "\n",
    "root.left = Node(5)\n",
    "root.right = Node(1)\n",
    "\n",
    "root.left.left = Node(6)\n",
    "root.left.right = Node(2)\n",
    "root.right.left = Node(0)\n",
    "root.right.right = Node(8)\n",
    "\n",
    "root.left.right.left = Node(7)\n",
    "root.left.right.right = Node(4)\n",
    "\n",
    "target = root.left\n",
    "printkDistanceNode(root, target, 2)"
   ]
  },
  {
   "cell_type": "code",
   "execution_count": null,
   "metadata": {},
   "outputs": [],
   "source": []
  }
 ],
 "metadata": {
  "kernelspec": {
   "display_name": "Python 3",
   "language": "python",
   "name": "python3"
  },
  "language_info": {
   "codemirror_mode": {
    "name": "ipython",
    "version": 3
   },
   "file_extension": ".py",
   "mimetype": "text/x-python",
   "name": "python",
   "nbconvert_exporter": "python",
   "pygments_lexer": "ipython3",
   "version": "3.8.5"
  }
 },
 "nbformat": 4,
 "nbformat_minor": 4
}
