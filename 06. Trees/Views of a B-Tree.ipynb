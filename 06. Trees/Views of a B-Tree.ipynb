{
 "cells": [
  {
   "cell_type": "code",
   "execution_count": 1,
   "metadata": {},
   "outputs": [],
   "source": [
    "class Node:\n",
    "    def __init__(self ,data):\n",
    "        self.data = data\n",
    "        self.left = self.right = None"
   ]
  },
  {
   "cell_type": "markdown",
   "metadata": {},
   "source": [
    "### Left View"
   ]
  },
  {
   "cell_type": "markdown",
   "metadata": {},
   "source": [
    "<img src=\"https://www.geeksforgeeks.org/wp-content/uploads/left-view.png\" width=\"200\" align=\"left\">"
   ]
  },
  {
   "cell_type": "code",
   "execution_count": 2,
   "metadata": {},
   "outputs": [],
   "source": [
    "def leftViewUtil(root ,level ,max_level):\n",
    "    \n",
    "    if root is None:\n",
    "        return\n",
    "    \n",
    "    if max_level[0] < level:\n",
    "        print(root.data,end=\" \")\n",
    "        max_level[0] = level\n",
    "    \n",
    "    leftViewUtil(root.left ,level+1 ,max_level)\n",
    "    leftViewUtil(root.right ,level+1 ,max_level)"
   ]
  },
  {
   "cell_type": "code",
   "execution_count": 3,
   "metadata": {},
   "outputs": [],
   "source": [
    "def leftView(root):\n",
    "    max_level = [0]\n",
    "    leftViewUtil(root ,1 ,max_level)   "
   ]
  },
  {
   "cell_type": "raw",
   "metadata": {},
   "source": [
    "Input : \n",
    "                 1\n",
    "               /   \\\n",
    "              2     3\n",
    "             / \\     \\\n",
    "            4   5     6  \n",
    "            \n",
    "Output : 1 2 4"
   ]
  },
  {
   "cell_type": "code",
   "execution_count": 4,
   "metadata": {},
   "outputs": [],
   "source": [
    "root = Node(1)\n",
    "\n",
    "root.left = Node(2)\n",
    "root.right = Node(3)\n",
    "\n",
    "root.left.left = Node(4)\n",
    "root.left.right = Node(5)\n",
    "root.right.right = Node(6)"
   ]
  },
  {
   "cell_type": "code",
   "execution_count": 5,
   "metadata": {},
   "outputs": [
    {
     "name": "stdout",
     "output_type": "stream",
     "text": [
      "1 2 4 "
     ]
    }
   ],
   "source": [
    "leftView(root)"
   ]
  },
  {
   "cell_type": "raw",
   "metadata": {},
   "source": [
    "Input :\n",
    "        1\n",
    "      /   \\\n",
    "     2     3\n",
    "      \\   \n",
    "       4  \n",
    "        \\\n",
    "         5\n",
    "          \\\n",
    "           6\n",
    "           \n",
    "Output :1 2 4 5 6"
   ]
  },
  {
   "cell_type": "code",
   "execution_count": 6,
   "metadata": {},
   "outputs": [],
   "source": [
    "root1 = Node(1)\n",
    "root1.left = Node(2)\n",
    "root1.right = Node(3)\n",
    "\n",
    "root1.left.right = Node(4)\n",
    "root1.left.right.right = Node(5)\n",
    "root1.left.right.right.right = Node(6)"
   ]
  },
  {
   "cell_type": "code",
   "execution_count": 7,
   "metadata": {},
   "outputs": [
    {
     "name": "stdout",
     "output_type": "stream",
     "text": [
      "1 2 4 5 6 "
     ]
    }
   ],
   "source": [
    "leftView(root1)"
   ]
  },
  {
   "cell_type": "code",
   "execution_count": 8,
   "metadata": {},
   "outputs": [],
   "source": [
    "def rightView(root):\n",
    "    max_level = [0]\n",
    "    rightViewUtil(root ,1 , max_level)"
   ]
  },
  {
   "cell_type": "code",
   "execution_count": 9,
   "metadata": {},
   "outputs": [],
   "source": [
    "def rightViewUtil(root ,level , max_level):\n",
    "    \n",
    "    if root is None:\n",
    "        return root\n",
    "    \n",
    "    if max_level[0] < level:\n",
    "        print(root.data, end=\" \")\n",
    "        max_level[0] = level\n",
    "    \n",
    "    rightViewUtil(root.right ,level+1 ,max_level)\n",
    "    rightViewUtil(root.left ,level+1 ,max_level)"
   ]
  },
  {
   "cell_type": "raw",
   "metadata": {},
   "source": [
    "Input : \n",
    "                 1\n",
    "               /   \\\n",
    "              2     3\n",
    "             / \\     \\\n",
    "            4   5     6  \n",
    "            \n",
    "Output : 1 3 6"
   ]
  },
  {
   "cell_type": "code",
   "execution_count": 10,
   "metadata": {},
   "outputs": [],
   "source": [
    "root = Node(1)\n",
    "root.left = Node(2)\n",
    "root.right = Node(3)\n",
    "\n",
    "root.left.left = Node(4)\n",
    "root.left.right = Node(5)\n",
    "\n",
    "root.right.right = Node(6)"
   ]
  },
  {
   "cell_type": "code",
   "execution_count": 11,
   "metadata": {},
   "outputs": [
    {
     "name": "stdout",
     "output_type": "stream",
     "text": [
      "1 3 6 "
     ]
    }
   ],
   "source": [
    "rightView(root)"
   ]
  },
  {
   "cell_type": "raw",
   "metadata": {},
   "source": [
    "Input :\n",
    "        1\n",
    "      /   \\\n",
    "     2     3\n",
    "      \\   \n",
    "       4  \n",
    "        \\\n",
    "         5\n",
    "          \\\n",
    "           6\n",
    "           \n",
    "Output :1 3 4 5 6"
   ]
  },
  {
   "cell_type": "code",
   "execution_count": 12,
   "metadata": {},
   "outputs": [],
   "source": [
    "root1 = Node(1)\n",
    "root1.left = Node(2)\n",
    "root1.right = Node(3)\n",
    "\n",
    "root1.left.right = Node(4)\n",
    "root1.left.right.right = Node(5)\n",
    "root1.left.right.right.right = Node(6)"
   ]
  },
  {
   "cell_type": "code",
   "execution_count": 13,
   "metadata": {},
   "outputs": [
    {
     "name": "stdout",
     "output_type": "stream",
     "text": [
      "1 3 4 5 6 "
     ]
    }
   ],
   "source": [
    "rightView(root1)"
   ]
  },
  {
   "cell_type": "raw",
   "metadata": {},
   "source": [
    "\n",
    "           1\n",
    "         /   \\\n",
    "        2     3\n",
    "       / \\   / \\\n",
    "      4   5 6   7\n",
    "                 \\\n",
    "                  8\n",
    "   \n",
    "Right view of following tree is 1 3 7 8"
   ]
  },
  {
   "cell_type": "code",
   "execution_count": 14,
   "metadata": {},
   "outputs": [],
   "source": [
    "root2 = Node(1)\n",
    "root2.left = Node(2)\n",
    "root2.right = Node(3)\n",
    "\n",
    "root2.left.left = Node(4)\n",
    "root2.left.right = Node(5)\n",
    "\n",
    "root2.right.left = Node(6)\n",
    "root2.right.right = Node(7)\n",
    "\n",
    "root2.right.right.right = Node(8)"
   ]
  },
  {
   "cell_type": "code",
   "execution_count": 15,
   "metadata": {},
   "outputs": [
    {
     "name": "stdout",
     "output_type": "stream",
     "text": [
      "1 3 7 8 "
     ]
    }
   ],
   "source": [
    "rightView(root2)"
   ]
  },
  {
   "cell_type": "markdown",
   "metadata": {},
   "source": [
    "# Using Level tree\n"
   ]
  },
  {
   "cell_type": "raw",
   "metadata": {},
   "source": [
    "                 1\n",
    "               /   \\\n",
    "              2     3\n",
    "             / \\   / \\\n",
    "            4   5 6   7\n",
    "            \n",
    " Left View: 1 2 4\n",
    " Right view 1 3 7"
   ]
  },
  {
   "cell_type": "code",
   "execution_count": 16,
   "metadata": {},
   "outputs": [],
   "source": [
    "root1 = Node(1)\n",
    "\n",
    "root1.left = Node(2)\n",
    "root1.right = Node(3)\n",
    "\n",
    "root1.left.left = Node(4)\n",
    "root1.left.right = Node(5)\n",
    "root1.right.left = Node(6)\n",
    "root1.right.right = Node(7)"
   ]
  },
  {
   "cell_type": "code",
   "execution_count": 31,
   "metadata": {},
   "outputs": [],
   "source": [
    "def levelOrderUsingMap(root, level, Map):\n",
    "    \n",
    "    if root is None:\n",
    "        return \n",
    "    \n",
    "    try:\n",
    "        Map[level].append(root.data)\n",
    "    except:\n",
    "        Map[level] = [root.data]\n",
    "\n",
    "    levelOrderUsingMap(root.left ,level+1 ,Map)\n",
    "    levelOrderUsingMap(root.right ,level+1 ,Map)"
   ]
  },
  {
   "cell_type": "code",
   "execution_count": 38,
   "metadata": {},
   "outputs": [],
   "source": [
    "def levelOrderMap(root):\n",
    "    Map = {}\n",
    "    level = 1\n",
    "    levelOrderUsingMap(root ,1 ,Map)\n",
    "    \n",
    "    for key ,value in enumerate(sorted(Map)):\n",
    "        for i in Map[value]:\n",
    "            print(i,end=\" \")\n",
    "        print()"
   ]
  },
  {
   "cell_type": "code",
   "execution_count": 39,
   "metadata": {},
   "outputs": [
    {
     "name": "stdout",
     "output_type": "stream",
     "text": [
      "1 \n",
      "2 3 \n",
      "4 5 6 \n"
     ]
    }
   ],
   "source": [
    "levelOrderMap(root)"
   ]
  },
  {
   "cell_type": "code",
   "execution_count": null,
   "metadata": {},
   "outputs": [],
   "source": [
    "def leftView(root):\n",
    "    Map = {}\n",
    "    \n",
    "    levelOrderUsingMap(root, 0, Map)\n",
    "    \n",
    "    for key ,value in enumerate(sorted(Map)):\n",
    "        print(Map[value][0],end=\" \")"
   ]
  },
  {
   "cell_type": "code",
   "execution_count": null,
   "metadata": {},
   "outputs": [],
   "source": [
    "leftView(root2)"
   ]
  },
  {
   "cell_type": "code",
   "execution_count": null,
   "metadata": {},
   "outputs": [],
   "source": [
    "def rightView(root):\n",
    "    \n",
    "    Map = {}\n",
    "    \n",
    "    levelOrderUsingMap(root ,0 ,Map)\n",
    "    \n",
    "    for key ,value in enumerate(sorted(Map)):\n",
    "        print(Map[value][-1],end=\" \")"
   ]
  },
  {
   "cell_type": "code",
   "execution_count": null,
   "metadata": {},
   "outputs": [],
   "source": [
    "rightView(root2)"
   ]
  },
  {
   "cell_type": "code",
   "execution_count": null,
   "metadata": {},
   "outputs": [],
   "source": [
    "def levelOrderUsingMap(root, level, Map):\n",
    "    \n",
    "    if root is None:\n",
    "        return \n",
    "    \n",
    "    Q1 ,Q2 = [] ,[]\n",
    "    \n",
    "    Q1.append(root)\n",
    "    \n",
    "    while len(Q1) or len(Q2) :\n",
    "        \n",
    "        level += 1\n",
    "        \n",
    "        while len(Q1) :\n",
    "                \n",
    "            temp = Q1.pop(0)\n",
    "            \n",
    "            try:\n",
    "                Map[level].append(temp.data)\n",
    "            except:\n",
    "                Map[level] = [temp.data]              \n",
    "            \n",
    "            if temp.left is not None:\n",
    "                Q2.append(temp.left)\n",
    "            \n",
    "            if temp.right is not None:\n",
    "                Q2.append(temp.right)\n",
    "        \n",
    "        \n",
    "        level += 1\n",
    "        \n",
    "        while len(Q2):\n",
    "    \n",
    "            temp = Q2.pop(0)\n",
    "            \n",
    "            try:\n",
    "                Map[level].append(temp.data)\n",
    "            except:\n",
    "                Map[level] = [temp.data]\n",
    "            \n",
    "            if temp.left is not None:\n",
    "                Q1.append(temp.left)\n",
    "            \n",
    "            if temp.right is not None:\n",
    "                Q1.append(temp.right)\n",
    "            \n",
    "            "
   ]
  }
 ],
 "metadata": {
  "kernelspec": {
   "display_name": "Python 3",
   "language": "python",
   "name": "python3"
  },
  "language_info": {
   "codemirror_mode": {
    "name": "ipython",
    "version": 3
   },
   "file_extension": ".py",
   "mimetype": "text/x-python",
   "name": "python",
   "nbconvert_exporter": "python",
   "pygments_lexer": "ipython3",
   "version": "3.8.5"
  }
 },
 "nbformat": 4,
 "nbformat_minor": 2
}
