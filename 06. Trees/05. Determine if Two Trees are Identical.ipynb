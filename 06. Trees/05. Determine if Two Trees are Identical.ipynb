{
 "cells": [
  {
   "cell_type": "code",
   "execution_count": 1,
   "metadata": {},
   "outputs": [],
   "source": [
    "class Node:\n",
    "    def __init__(self ,data):\n",
    "        self.data = data\n",
    "        self.left = None\n",
    "        self.right = None"
   ]
  },
  {
   "cell_type": "code",
   "execution_count": 2,
   "metadata": {},
   "outputs": [],
   "source": [
    "class Tree:\n",
    "    def __init__(self):\n",
    "        self.root = None"
   ]
  },
  {
   "cell_type": "code",
   "execution_count": 3,
   "metadata": {},
   "outputs": [],
   "source": [
    "root1 = Node(1) \n",
    "root2 = Node(1)\n",
    "\n",
    "root1.left = Node(2) \n",
    "root1.right = Node(3) \n",
    "root1.left.left = Node(4) \n",
    "root1.left.right = Node(5) \n",
    "  \n",
    "root2.left = Node(2) \n",
    "root2.right = Node(3) \n",
    "root2.left.left = Node(4) \n",
    "root2.left.right = Node(5)"
   ]
  },
  {
   "cell_type": "markdown",
   "metadata": {},
   "source": [
    "sameTree(tree1, tree2)\n",
    "1. If both trees are empty then return 1.\n",
    "2. Else If both trees are non - empty\n",
    "\n",
    "     (a) Check data of the root nodes (tree1->data ==  tree2->data)\n",
    "     \n",
    "     (b) Check left subtrees recursively  \n",
    "     i.e., call sameTree(tree1->left_subtree, tree2->left_subtree)\n",
    "     \n",
    "     (c) Check right subtrees recursively  \n",
    "     i.e., call sameTree(tree1->right_subtree, tree2->right_subtree)\n",
    "     \n",
    "     (d) If a,b and c are true then return 1.\n",
    "     \n",
    "3  Else return 0 (one is empty and other is not)"
   ]
  },
  {
   "cell_type": "code",
   "execution_count": 4,
   "metadata": {},
   "outputs": [],
   "source": [
    "def sameTree(root_1 ,root_2):\n",
    "    \n",
    "    if root_1 is None and root_2 is None:\n",
    "        return 1\n",
    "    \n",
    "    elif root_1 is not None and root_2 is not None:\n",
    "        \n",
    "        return ((root_1.data == root_2.data) and\n",
    "                 sameTree(root_1.left ,root_2.left) and\n",
    "                 sameTree(root_1.right ,root_2.right))\n",
    "    else:\n",
    "        return 0\n",
    "            \n",
    "            "
   ]
  },
  {
   "cell_type": "code",
   "execution_count": 5,
   "metadata": {},
   "outputs": [
    {
     "data": {
      "text/plain": [
       "1"
      ]
     },
     "execution_count": 5,
     "metadata": {},
     "output_type": "execute_result"
    }
   ],
   "source": [
    "sameTree(root1 ,root2)"
   ]
  },
  {
   "cell_type": "code",
   "execution_count": null,
   "metadata": {},
   "outputs": [],
   "source": []
  }
 ],
 "metadata": {
  "kernelspec": {
   "display_name": "Python 3",
   "language": "python",
   "name": "python3"
  },
  "language_info": {
   "codemirror_mode": {
    "name": "ipython",
    "version": 3
   },
   "file_extension": ".py",
   "mimetype": "text/x-python",
   "name": "python",
   "nbconvert_exporter": "python",
   "pygments_lexer": "ipython3",
   "version": "3.8.5"
  }
 },
 "nbformat": 4,
 "nbformat_minor": 2
}
