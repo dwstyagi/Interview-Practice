{
 "cells": [
  {
   "cell_type": "markdown",
   "metadata": {},
   "source": [
    "## Left View"
   ]
  },
  {
   "cell_type": "code",
   "execution_count": 1,
   "metadata": {},
   "outputs": [],
   "source": [
    "class Node:\n",
    "    def __init__(self, data):\n",
    "        self.data = data\n",
    "        self.left = None\n",
    "        self.right = None"
   ]
  },
  {
   "cell_type": "code",
   "execution_count": 2,
   "metadata": {},
   "outputs": [],
   "source": [
    "def leftViewUtil(root ,level ,Map):\n",
    "    if root is None:\n",
    "        return \n",
    "    \n",
    "    try:\n",
    "        Map[level].append(root.data)\n",
    "    except:\n",
    "        Map[level] = [root.data]\n",
    "    \n",
    "    leftViewUtil(root.left ,level+1 ,Map)\n",
    "    leftViewUtil(root.right ,level+1 ,Map)"
   ]
  },
  {
   "cell_type": "code",
   "execution_count": 3,
   "metadata": {},
   "outputs": [],
   "source": [
    "def leftView(root):\n",
    "    Map = {}\n",
    "    level = 1\n",
    "    \n",
    "    leftViewUtil(root ,level ,Map)\n",
    "    \n",
    "    for i in sorted(Map.keys()):\n",
    "        print(Map[i][0],end=\" \")"
   ]
  },
  {
   "cell_type": "markdown",
   "metadata": {},
   "source": [
    "```\n",
    "Input : \n",
    "                 1\n",
    "               /   \\\n",
    "              2     3\n",
    "             / \\     \\\n",
    "            4   5     6  \n",
    "            \n",
    "Output : 1 2 4\n",
    "```"
   ]
  },
  {
   "cell_type": "code",
   "execution_count": 4,
   "metadata": {},
   "outputs": [],
   "source": [
    "root = Node(1)\n",
    "\n",
    "root.left = Node(2)\n",
    "root.right = Node(3)\n",
    "\n",
    "root.left.left = Node(4)\n",
    "root.left.right = Node(5)\n",
    "root.right.right = Node(6)"
   ]
  },
  {
   "cell_type": "code",
   "execution_count": 5,
   "metadata": {},
   "outputs": [
    {
     "name": "stdout",
     "output_type": "stream",
     "text": [
      "1 2 4 "
     ]
    }
   ],
   "source": [
    "leftView(root)"
   ]
  },
  {
   "cell_type": "markdown",
   "metadata": {},
   "source": [
    "```\n",
    "Input :\n",
    "        1\n",
    "      /   \\\n",
    "     2     3\n",
    "      \\   \n",
    "       4  \n",
    "        \\\n",
    "         5\n",
    "          \\\n",
    "           6\n",
    "           \n",
    "Output :1 2 4 5 6\n",
    "```"
   ]
  },
  {
   "cell_type": "code",
   "execution_count": 6,
   "metadata": {},
   "outputs": [],
   "source": [
    "root = Node(1)\n",
    "\n",
    "root.left = Node(2)\n",
    "root.right = Node(3)\n",
    "\n",
    "root.left.right = Node(4)\n",
    "\n",
    "root.left.right.right = Node(5)\n",
    "\n",
    "root.left.right.right.right = Node(6)"
   ]
  },
  {
   "cell_type": "code",
   "execution_count": 7,
   "metadata": {},
   "outputs": [
    {
     "name": "stdout",
     "output_type": "stream",
     "text": [
      "1 2 4 5 6 "
     ]
    }
   ],
   "source": [
    "leftView(root)"
   ]
  },
  {
   "cell_type": "markdown",
   "metadata": {},
   "source": [
    "## Right View"
   ]
  },
  {
   "cell_type": "code",
   "execution_count": 8,
   "metadata": {},
   "outputs": [],
   "source": [
    "def rightViewUtil(root ,level ,Map):\n",
    "    if root is None:\n",
    "        return \n",
    "    \n",
    "    try:\n",
    "        Map[level].append(root.data)\n",
    "    except:\n",
    "        Map[level] = [root.data]\n",
    "    \n",
    "    rightViewUtil(root.left ,level+1 ,Map)\n",
    "    rightViewUtil(root.right ,level+1 ,Map)"
   ]
  },
  {
   "cell_type": "code",
   "execution_count": 9,
   "metadata": {},
   "outputs": [],
   "source": [
    "def rightView(root):\n",
    "    Map = {}\n",
    "    level = 1\n",
    "    \n",
    "    rightViewUtil(root ,level ,Map)\n",
    "    \n",
    "    for i in sorted(Map.keys()):\n",
    "        print(Map[i][-1],end=\" \")"
   ]
  },
  {
   "cell_type": "markdown",
   "metadata": {},
   "source": [
    "```\n",
    "Input : \n",
    "                 1\n",
    "               /   \\\n",
    "              2     3\n",
    "             / \\     \\\n",
    "            4   5     6  \n",
    "            \n",
    "Output : 1 3 6\n",
    "```"
   ]
  },
  {
   "cell_type": "code",
   "execution_count": 10,
   "metadata": {},
   "outputs": [],
   "source": [
    "root = Node(1)\n",
    "root.left = Node(2)\n",
    "root.right = Node(3)\n",
    "\n",
    "root.left.left = Node(4)\n",
    "root.left.right = Node(5)\n",
    "\n",
    "root.right.right = Node(6)"
   ]
  },
  {
   "cell_type": "code",
   "execution_count": 11,
   "metadata": {},
   "outputs": [
    {
     "name": "stdout",
     "output_type": "stream",
     "text": [
      "1 3 6 "
     ]
    }
   ],
   "source": [
    "rightView(root)"
   ]
  },
  {
   "cell_type": "markdown",
   "metadata": {},
   "source": [
    "```\n",
    "Input :\n",
    "        1\n",
    "      /   \\\n",
    "     2     3\n",
    "      \\   \n",
    "       4  \n",
    "        \\\n",
    "         5\n",
    "          \\\n",
    "           6\n",
    "           \n",
    "Output :1 3 4 5 6\n",
    "```"
   ]
  },
  {
   "cell_type": "code",
   "execution_count": 12,
   "metadata": {},
   "outputs": [],
   "source": [
    "root = Node(1)\n",
    "\n",
    "root.left = Node(2)\n",
    "root.right = Node(3)\n",
    "\n",
    "root.left.right = Node(4)\n",
    "\n",
    "root.left.right.right = Node(5)\n",
    "\n",
    "root.left.right.right.right = Node(6)"
   ]
  },
  {
   "cell_type": "code",
   "execution_count": 13,
   "metadata": {},
   "outputs": [
    {
     "name": "stdout",
     "output_type": "stream",
     "text": [
      "1 3 4 5 6 "
     ]
    }
   ],
   "source": [
    "rightView(root)"
   ]
  },
  {
   "cell_type": "markdown",
   "metadata": {},
   "source": [
    "## Top View"
   ]
  },
  {
   "cell_type": "markdown",
   "metadata": {},
   "source": [
    "```\n",
    "             10\n",
    "          /     \\\n",
    "         21     19\n",
    "           \\   /  \\\n",
    "           15 6    0\n",
    "          /    \\    \\\n",
    "         18    17   12\n",
    "        \n",
    "Vertical Order Traversal : \n",
    "HD = -1 : 21 18\n",
    "HD = 0  : 10 15 6\n",
    "HD = +1 : 19 17 \n",
    "HD = +2 : 0\n",
    "HD = +3 : 12\n",
    "\n",
    "Top View: 21 10 19 0 12\n",
    "```"
   ]
  },
  {
   "cell_type": "code",
   "execution_count": 14,
   "metadata": {},
   "outputs": [],
   "source": [
    "root = Node(10)\n",
    "\n",
    "root.left = Node(21)\n",
    "root.right = Node(19)\n",
    "\n",
    "root.left.right = Node(15)\n",
    "root.right.left = Node(6)\n",
    "root.right.right = Node(0)\n",
    "\n",
    "root.left.right.left = Node(18)\n",
    "root.right.left.right = Node(17)\n",
    "root.right.right.right = Node(12)"
   ]
  },
  {
   "cell_type": "code",
   "execution_count": 15,
   "metadata": {},
   "outputs": [],
   "source": [
    "def topViewUtil(root ,hd ,Map):\n",
    "    if root is None:\n",
    "        return\n",
    "    \n",
    "    try:\n",
    "        Map[hd].append(root.data)\n",
    "    except:\n",
    "        Map[hd] = [root.data]\n",
    "    \n",
    "    topViewUtil(root.left ,hd-1 ,Map)\n",
    "    topViewUtil(root.right ,hd+1 ,Map)"
   ]
  },
  {
   "cell_type": "code",
   "execution_count": 16,
   "metadata": {},
   "outputs": [],
   "source": [
    "def topView(root):\n",
    "    Map = {}\n",
    "    hd = 0\n",
    "    \n",
    "    topViewUtil(root ,hd ,Map)\n",
    "    \n",
    "    for i in sorted(Map.keys()):\n",
    "        print(Map[i][0],end=\" \")"
   ]
  },
  {
   "cell_type": "code",
   "execution_count": 17,
   "metadata": {},
   "outputs": [
    {
     "name": "stdout",
     "output_type": "stream",
     "text": [
      "21 10 19 0 12 "
     ]
    }
   ],
   "source": [
    "topView(root)"
   ]
  },
  {
   "cell_type": "markdown",
   "metadata": {},
   "source": [
    "## Bottom View"
   ]
  },
  {
   "cell_type": "markdown",
   "metadata": {},
   "source": [
    "```\n",
    "             10\n",
    "          /     \\\n",
    "         21     19\n",
    "           \\   /  \\\n",
    "           15 6    0\n",
    "          /    \\    \\\n",
    "         18    17   12\n",
    "        \n",
    "Vertical Order Traversal : \n",
    "HD = -1 : 21 18\n",
    "HD = 0  : 10 15 6\n",
    "HD = +1 : 19 17 \n",
    "HD = +2 : 0\n",
    "HD = +3 : 12\n",
    "\n",
    "Bottom View: 18 6 17 0 12\n",
    "```"
   ]
  },
  {
   "cell_type": "code",
   "execution_count": 18,
   "metadata": {},
   "outputs": [],
   "source": [
    "root = Node(10)\n",
    "\n",
    "root.left = Node(21)\n",
    "root.right = Node(19)\n",
    "\n",
    "root.left.right = Node(15)\n",
    "root.right.left = Node(6)\n",
    "root.right.right = Node(0)\n",
    "\n",
    "root.left.right.left = Node(18)\n",
    "root.right.left.right = Node(17)\n",
    "root.right.right.right = Node(12)"
   ]
  },
  {
   "cell_type": "code",
   "execution_count": 19,
   "metadata": {},
   "outputs": [],
   "source": [
    "def bottomViewUtil(root ,hd ,Map):\n",
    "    if root is None:\n",
    "        return\n",
    "    \n",
    "    try:\n",
    "        Map[hd].append(root.data)\n",
    "    except:\n",
    "        Map[hd] = [root.data]\n",
    "        \n",
    "    bottomViewUtil(root.left ,hd-1 ,Map)\n",
    "    bottomViewUtil(root.right ,hd+1 ,Map)"
   ]
  },
  {
   "cell_type": "code",
   "execution_count": 20,
   "metadata": {},
   "outputs": [],
   "source": [
    "def bottomView(root):\n",
    "    Map = {}\n",
    "    hd = 0\n",
    "    \n",
    "    bottomViewUtil(root ,hd ,Map)\n",
    "    \n",
    "    for i in sorted(Map.keys()):\n",
    "        print(Map[i][-1],end=\" \")"
   ]
  },
  {
   "cell_type": "code",
   "execution_count": 21,
   "metadata": {},
   "outputs": [
    {
     "name": "stdout",
     "output_type": "stream",
     "text": [
      "18 6 17 0 12 "
     ]
    }
   ],
   "source": [
    "bottomView(root)"
   ]
  },
  {
   "cell_type": "code",
   "execution_count": null,
   "metadata": {},
   "outputs": [],
   "source": []
  }
 ],
 "metadata": {
  "kernelspec": {
   "display_name": "Python 3",
   "language": "python",
   "name": "python3"
  },
  "language_info": {
   "codemirror_mode": {
    "name": "ipython",
    "version": 3
   },
   "file_extension": ".py",
   "mimetype": "text/x-python",
   "name": "python",
   "nbconvert_exporter": "python",
   "pygments_lexer": "ipython3",
   "version": "3.8.5"
  }
 },
 "nbformat": 4,
 "nbformat_minor": 2
}
