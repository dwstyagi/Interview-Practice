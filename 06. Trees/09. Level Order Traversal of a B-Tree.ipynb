{
 "cells": [
  {
   "cell_type": "markdown",
   "metadata": {},
   "source": [
    "## Vertical Order"
   ]
  },
  {
   "cell_type": "markdown",
   "metadata": {},
   "source": [
    " <img src=\"https://www.techiedelight.com/wp-content/uploads/Horizontal-Distance-Level-Information.png\" width=\"300\" align=\"left\">\n",
    "\n",
    "<br>\n",
    "\n",
    "```\n",
    " Vertical Order:\n",
    " HD -1: 2 7\n",
    " HD  0: 1 5\n",
    " HD  1: 3 8\n",
    " HD  2: 6\n",
    "```"
   ]
  },
  {
   "cell_type": "code",
   "execution_count": 1,
   "metadata": {},
   "outputs": [],
   "source": [
    "class Node:\n",
    "    def __init__(self ,data):\n",
    "        self.data = data\n",
    "        self.left = None\n",
    "        self.right = None"
   ]
  },
  {
   "cell_type": "code",
   "execution_count": 2,
   "metadata": {},
   "outputs": [],
   "source": [
    "root = Node(1)\n",
    "\n",
    "root.left = Node(2)\n",
    "root.right = Node(3)\n",
    "\n",
    "root.right.left = Node(5)\n",
    "root.right.right = Node(6)\n",
    "\n",
    "root.right.left.left = Node(7)\n",
    "root.right.left.right = Node(8)"
   ]
  },
  {
   "cell_type": "code",
   "execution_count": 3,
   "metadata": {},
   "outputs": [],
   "source": [
    "def PreOrder(root):\n",
    "    if root:\n",
    "        print(root.data,end=\" \")\n",
    "        PreOrder(root.left)\n",
    "        PreOrder(root.right)"
   ]
  },
  {
   "cell_type": "code",
   "execution_count": 4,
   "metadata": {},
   "outputs": [
    {
     "name": "stdout",
     "output_type": "stream",
     "text": [
      "1 2 3 5 7 8 6 "
     ]
    }
   ],
   "source": [
    "PreOrder(root)"
   ]
  },
  {
   "cell_type": "code",
   "execution_count": 5,
   "metadata": {},
   "outputs": [],
   "source": [
    "def verticalOrderUtil(root ,hd ,Map):\n",
    "    if root is None:\n",
    "        return\n",
    "    \n",
    "    try:\n",
    "        Map[hd].append(root.data)\n",
    "    except:\n",
    "        Map[hd] = [root.data]\n",
    "    \n",
    "    verticalOrderUtil(root.left ,hd-1 ,Map)\n",
    "    verticalOrderUtil(root.right ,hd+1 ,Map)"
   ]
  },
  {
   "cell_type": "code",
   "execution_count": 6,
   "metadata": {},
   "outputs": [],
   "source": [
    "def verticalOrder(root):\n",
    "    Map = {}\n",
    "    verticalOrderUtil(root ,0 ,Map)\n",
    "    \n",
    "    for key in sorted(Map.keys()):\n",
    "        print('HD',key,end=\": \")\n",
    "        for i in Map[key]:\n",
    "            print(i,end=\" \")\n",
    "        print()"
   ]
  },
  {
   "cell_type": "code",
   "execution_count": 7,
   "metadata": {},
   "outputs": [
    {
     "name": "stdout",
     "output_type": "stream",
     "text": [
      "HD -1: 2 7 \n",
      "HD 0: 1 5 \n",
      "HD 1: 3 8 \n",
      "HD 2: 6 \n"
     ]
    }
   ],
   "source": [
    "verticalOrder(root)"
   ]
  },
  {
   "cell_type": "markdown",
   "metadata": {},
   "source": [
    "## Level Order\n",
    "\n",
    "<img src=\"https://www.techiedelight.com/wp-content/uploads/Horizontal-Distance-Level-Information.png\" width=\"300\" align=\"left\">\n",
    "\n",
    "<br>\n",
    "\n",
    "```\n",
    " Level Order:\n",
    " Level 1: 1\n",
    " Level 2: 2 3\n",
    " Level 3: 5 6 \n",
    " Level 4: 7 8\n",
    " \n",
    " Output: 1 2 3 5 6 7 8\n",
    " \n",
    " Level Order in Reverse: 7 8 5 6 2 3 1\n",
    "```"
   ]
  },
  {
   "cell_type": "code",
   "execution_count": 8,
   "metadata": {},
   "outputs": [],
   "source": [
    "def levelOrderUtil(root ,level ,Map):\n",
    "    if root is None:\n",
    "        return \n",
    "    \n",
    "    try:\n",
    "        Map[level].append(root.data)\n",
    "    except:\n",
    "        Map[level] = [root.data]\n",
    "    \n",
    "    levelOrderUtil(root.left ,level+1 ,Map)\n",
    "    levelOrderUtil(root.right ,level+1 ,Map)"
   ]
  },
  {
   "cell_type": "code",
   "execution_count": 9,
   "metadata": {},
   "outputs": [],
   "source": [
    "def levelOrder(root):\n",
    "    Map = {}\n",
    "    level = 1\n",
    "    \n",
    "    levelOrderUtil(root ,level ,Map)\n",
    "    \n",
    "    for key in sorted(Map.keys()):\n",
    "        print(\"Level\",key,end=\": \")\n",
    "        for i in Map[key]:\n",
    "            print(i,end=\" \")\n",
    "        print()"
   ]
  },
  {
   "cell_type": "code",
   "execution_count": 10,
   "metadata": {},
   "outputs": [
    {
     "name": "stdout",
     "output_type": "stream",
     "text": [
      "Level 1: 1 \n",
      "Level 2: 2 3 \n",
      "Level 3: 5 6 \n",
      "Level 4: 7 8 \n"
     ]
    }
   ],
   "source": [
    "levelOrder(root)"
   ]
  },
  {
   "cell_type": "code",
   "execution_count": 13,
   "metadata": {},
   "outputs": [],
   "source": [
    "def levelOrderInReverse(root):\n",
    "    Map = {}\n",
    "    level = 1\n",
    "    \n",
    "    levelOrderUtil(root ,level ,Map)\n",
    "    \n",
    "    for key in sorted(Map.keys() ,reverse=True):\n",
    "        for i in Map[key]:\n",
    "            print(i,end=\" \")"
   ]
  },
  {
   "cell_type": "code",
   "execution_count": 14,
   "metadata": {},
   "outputs": [
    {
     "name": "stdout",
     "output_type": "stream",
     "text": [
      "7 8 5 6 2 3 1 "
     ]
    }
   ],
   "source": [
    "levelOrderInReverse(root)"
   ]
  },
  {
   "cell_type": "code",
   "execution_count": null,
   "metadata": {},
   "outputs": [],
   "source": []
  }
 ],
 "metadata": {
  "kernelspec": {
   "display_name": "Python 3",
   "language": "python",
   "name": "python3"
  },
  "language_info": {
   "codemirror_mode": {
    "name": "ipython",
    "version": 3
   },
   "file_extension": ".py",
   "mimetype": "text/x-python",
   "name": "python",
   "nbconvert_exporter": "python",
   "pygments_lexer": "ipython3",
   "version": "3.8.5"
  }
 },
 "nbformat": 4,
 "nbformat_minor": 2
}
