{
 "cells": [
  {
   "cell_type": "code",
   "execution_count": 1,
   "metadata": {},
   "outputs": [],
   "source": [
    "class Node:\n",
    "    def __init__(self ,data):\n",
    "        self.data = data\n",
    "        self.left = None\n",
    "        self.right = None"
   ]
  },
  {
   "cell_type": "raw",
   "metadata": {},
   "source": [
    "         5\n",
    "       /   \\\n",
    "      6     7\n",
    "     / \\     \\\n",
    "    8   1     0\n",
    "    \n",
    "Doubly linked List : 8 <-> 6 <-> 1 <-> 5 <-> 7 <-> 0"
   ]
  },
  {
   "cell_type": "code",
   "execution_count": 2,
   "metadata": {},
   "outputs": [],
   "source": [
    "root = Node(5)\n",
    "\n",
    "root.left = Node(6)\n",
    "root.right = Node(7)\n",
    "\n",
    "root.left.left = Node(8)\n",
    "root.left.right = Node(1)\n",
    "root.right.right = Node(0)"
   ]
  },
  {
   "cell_type": "code",
   "execution_count": 3,
   "metadata": {},
   "outputs": [],
   "source": [
    "root1 = Node(2)\n",
    "\n",
    "root1.left = Node(1)\n",
    "root1.right = Node(3)"
   ]
  },
  {
   "cell_type": "code",
   "execution_count": 4,
   "metadata": {},
   "outputs": [],
   "source": [
    "def InOrder(root):\n",
    "    \n",
    "    if root is None:\n",
    "        return\n",
    "    \n",
    "    stack = []\n",
    "    \n",
    "    while True :\n",
    "        \n",
    "        if root is not None:\n",
    "            stack.append(root)\n",
    "            root = root.left\n",
    "        else:\n",
    "            if len(stack) == 0 :\n",
    "                break\n",
    "            temp = stack.pop()\n",
    "            print(temp.data,end =\" \")\n",
    "            root = temp.right"
   ]
  },
  {
   "cell_type": "code",
   "execution_count": 5,
   "metadata": {},
   "outputs": [
    {
     "name": "stdout",
     "output_type": "stream",
     "text": [
      "8 6 1 5 7 0 "
     ]
    }
   ],
   "source": [
    "InOrder(root)"
   ]
  },
  {
   "cell_type": "code",
   "execution_count": 6,
   "metadata": {},
   "outputs": [],
   "source": [
    "def BtreeToDll(root ,head):\n",
    "    \n",
    "    if root is None:\n",
    "        return\n",
    "    \n",
    "    BtreeToDll(root.right ,head)\n",
    "    root.right = head[0]\n",
    "    \n",
    "    if head[0] is not None:\n",
    "        head[0].left = root\n",
    "    \n",
    "    head[0] = root\n",
    "    BtreeToDll(root.left ,head)"
   ]
  },
  {
   "cell_type": "code",
   "execution_count": 7,
   "metadata": {},
   "outputs": [],
   "source": [
    "def bTToDll(root):\n",
    "    head = [None]\n",
    "    BtreeToDll(root ,head)\n",
    "    \n",
    "    return head[0]\n",
    "    "
   ]
  },
  {
   "cell_type": "code",
   "execution_count": 8,
   "metadata": {},
   "outputs": [],
   "source": [
    "head = bTToDll(root)"
   ]
  },
  {
   "cell_type": "code",
   "execution_count": 9,
   "metadata": {},
   "outputs": [],
   "source": [
    "def printDLL(head):\n",
    "    \n",
    "    temp = head\n",
    "    if temp is None:\n",
    "        return\n",
    "    \n",
    "    while temp:\n",
    "        print(temp.data,end=\" \")\n",
    "        temp = temp.right"
   ]
  },
  {
   "cell_type": "code",
   "execution_count": 10,
   "metadata": {},
   "outputs": [
    {
     "name": "stdout",
     "output_type": "stream",
     "text": [
      "8 6 1 5 7 0 "
     ]
    }
   ],
   "source": [
    "printDLL(head)"
   ]
  },
  {
   "cell_type": "markdown",
   "metadata": {},
   "source": [
    "## PreOrder"
   ]
  },
  {
   "cell_type": "code",
   "execution_count": 11,
   "metadata": {},
   "outputs": [],
   "source": [
    "root = Node(5)\n",
    "\n",
    "root.left = Node(6)\n",
    "root.right = Node(7)\n",
    "\n",
    "root.left.left = Node(8)\n",
    "root.left.right = Node(1)\n",
    "root.right.right = Node(0)"
   ]
  },
  {
   "cell_type": "code",
   "execution_count": 12,
   "metadata": {},
   "outputs": [],
   "source": [
    "def preOrder(root):\n",
    "    \n",
    "    if root:\n",
    "        print(root.data,end=\" \")\n",
    "        preOrder(root.left)\n",
    "        preOrder(root.right)"
   ]
  },
  {
   "cell_type": "code",
   "execution_count": 13,
   "metadata": {},
   "outputs": [
    {
     "name": "stdout",
     "output_type": "stream",
     "text": [
      "5 6 8 1 7 0 "
     ]
    }
   ],
   "source": [
    "preOrder(root)"
   ]
  },
  {
   "cell_type": "code",
   "execution_count": 14,
   "metadata": {},
   "outputs": [],
   "source": [
    "def preOrder(root):\n",
    "    stack = []\n",
    "    \n",
    "    stack.append(root)\n",
    "    \n",
    "    while stack:\n",
    "        temp = stack.pop()\n",
    "        print(temp.data,end=\" \")\n",
    "        \n",
    "        if temp.right is not None:\n",
    "            stack.append(temp.right)\n",
    "        \n",
    "        if temp.left is not None:\n",
    "            stack.append(temp.left)"
   ]
  },
  {
   "cell_type": "code",
   "execution_count": 15,
   "metadata": {},
   "outputs": [
    {
     "name": "stdout",
     "output_type": "stream",
     "text": [
      "5 6 8 1 7 0 "
     ]
    }
   ],
   "source": [
    "preOrder(root)"
   ]
  },
  {
   "cell_type": "code",
   "execution_count": 16,
   "metadata": {},
   "outputs": [],
   "source": [
    "def BinaryTreeToDll(root):\n",
    "    head = [None]\n",
    "    BinaryTreeToDllUtil(root, head)\n",
    "    \n",
    "    return head[0]"
   ]
  },
  {
   "cell_type": "code",
   "execution_count": 17,
   "metadata": {},
   "outputs": [],
   "source": [
    "def BinaryTreeToDllUtil(root, head):\n",
    "    if root is None:\n",
    "        return\n",
    "    \n",
    "    BinaryTreeToDllUtil(root.right, head)    \n",
    "    BinaryTreeToDllUtil(root.left, head)\n",
    "    root.right = head[0]\n",
    "    if head[0] is not None:\n",
    "        head[0].left = root\n",
    "    \n",
    "    head[0] = root"
   ]
  },
  {
   "cell_type": "code",
   "execution_count": 18,
   "metadata": {},
   "outputs": [],
   "source": [
    "head = BinaryTreeToDll(root)"
   ]
  },
  {
   "cell_type": "code",
   "execution_count": 19,
   "metadata": {},
   "outputs": [
    {
     "name": "stdout",
     "output_type": "stream",
     "text": [
      "5 6 8 1 7 0 "
     ]
    }
   ],
   "source": [
    "printDLL(head)"
   ]
  },
  {
   "cell_type": "markdown",
   "metadata": {},
   "source": [
    "## Convert Tree into LL"
   ]
  },
  {
   "cell_type": "code",
   "execution_count": 1,
   "metadata": {},
   "outputs": [],
   "source": [
    "class List:\n",
    "    def __init__(self, data):\n",
    "        self.data = data\n",
    "        self.next = None"
   ]
  },
  {
   "cell_type": "code",
   "execution_count": 5,
   "metadata": {},
   "outputs": [],
   "source": [
    "class Node:\n",
    "    def __init__(self ,data):\n",
    "        self.data = data\n",
    "        self.left = None\n",
    "        self.right = None"
   ]
  },
  {
   "cell_type": "code",
   "execution_count": 6,
   "metadata": {},
   "outputs": [],
   "source": [
    "def printLL(head):\n",
    "    if head is None:\n",
    "        return None\n",
    "    \n",
    "    while head:\n",
    "        print(head.data,end=\" \")\n",
    "        head = head.next"
   ]
  },
  {
   "cell_type": "code",
   "execution_count": 13,
   "metadata": {},
   "outputs": [],
   "source": [
    "root = Node(5)\n",
    "\n",
    "root.left = Node(6)\n",
    "root.right = Node(7)\n",
    "\n",
    "root.left.left = Node(8)\n",
    "root.left.right = Node(1)\n",
    "root.right.right = Node(0)"
   ]
  },
  {
   "cell_type": "code",
   "execution_count": 14,
   "metadata": {},
   "outputs": [],
   "source": [
    "def InOrder(root):\n",
    "    \n",
    "    if root is None:\n",
    "        return\n",
    "    \n",
    "    stack = []\n",
    "    \n",
    "    while True :\n",
    "        \n",
    "        if root is not None:\n",
    "            stack.append(root)\n",
    "            root = root.left\n",
    "        else:\n",
    "            if len(stack) == 0 :\n",
    "                break\n",
    "            temp = stack.pop()\n",
    "            print(temp.data,end =\" \")\n",
    "            root = temp.right"
   ]
  },
  {
   "cell_type": "code",
   "execution_count": 15,
   "metadata": {},
   "outputs": [
    {
     "name": "stdout",
     "output_type": "stream",
     "text": [
      "8 6 1 5 7 0 "
     ]
    }
   ],
   "source": [
    "InOrder(root)"
   ]
  },
  {
   "cell_type": "code",
   "execution_count": 33,
   "metadata": {},
   "outputs": [],
   "source": [
    "def convertTree(root, head, temp):\n",
    "    \n",
    "    if root is None:\n",
    "        return None\n",
    "    \n",
    "    convertTree(root.left, head, temp)\n",
    "    \n",
    "    node = List(root.data)\n",
    "    \n",
    "    if head[0] is None:\n",
    "        head[0] = node      \n",
    "    else:\n",
    "        temp[0].next = node\n",
    "       \n",
    "    temp[0] = node\n",
    "    \n",
    "    convertTree(root.right, head, temp)"
   ]
  },
  {
   "cell_type": "code",
   "execution_count": 34,
   "metadata": {},
   "outputs": [],
   "source": [
    "head = [None]\n",
    "convertTree(root, head, [None])"
   ]
  },
  {
   "cell_type": "code",
   "execution_count": 35,
   "metadata": {},
   "outputs": [
    {
     "name": "stdout",
     "output_type": "stream",
     "text": [
      "8 6 1 5 7 0 "
     ]
    }
   ],
   "source": [
    "printLL(head[0])"
   ]
  },
  {
   "cell_type": "code",
   "execution_count": null,
   "metadata": {},
   "outputs": [],
   "source": []
  }
 ],
 "metadata": {
  "kernelspec": {
   "display_name": "Python 3",
   "language": "python",
   "name": "python3"
  },
  "language_info": {
   "codemirror_mode": {
    "name": "ipython",
    "version": 3
   },
   "file_extension": ".py",
   "mimetype": "text/x-python",
   "name": "python",
   "nbconvert_exporter": "python",
   "pygments_lexer": "ipython3",
   "version": "3.8.5"
  }
 },
 "nbformat": 4,
 "nbformat_minor": 2
}
