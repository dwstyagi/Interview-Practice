{
 "cells": [
  {
   "cell_type": "code",
   "execution_count": 1,
   "metadata": {},
   "outputs": [],
   "source": [
    "class Node:\n",
    "    def __init__(self, data):\n",
    "        self.left = None\n",
    "        self.data = data\n",
    "        self.right = None"
   ]
  },
  {
   "cell_type": "markdown",
   "metadata": {},
   "source": [
    " ```\n",
    "              10\n",
    "           /     \\\n",
    "          11     20\n",
    "         /  \\   /  \\\n",
    "        15  12 0    9\n",
    "              / \\\n",
    "             16 18\n",
    "             \n",
    "        Leaf Nodes: 15 12 16 18 9\n",
    " ```"
   ]
  },
  {
   "cell_type": "code",
   "execution_count": 2,
   "metadata": {},
   "outputs": [],
   "source": [
    "root = Node(10)\n",
    "\n",
    "root.left = Node(11)\n",
    "root.right = Node(20)\n",
    "\n",
    "root.left.left = Node(15)\n",
    "root.left.right = Node(12)\n",
    "root.right.left = Node(0)\n",
    "root.right.right = Node(9)\n",
    "\n",
    "root.right.left.left = Node(16)\n",
    "root.right.left.right = Node(18)"
   ]
  },
  {
   "cell_type": "code",
   "execution_count": 3,
   "metadata": {},
   "outputs": [],
   "source": [
    "def countLeaves(root):\n",
    "    \n",
    "    if root == None:\n",
    "        return 0\n",
    "    \n",
    "    if root.left == None and root.right == None:\n",
    "        return 1\n",
    "    \n",
    "    return (countLeaves(root.left) + countLeaves(root.right))\n",
    "        "
   ]
  },
  {
   "cell_type": "code",
   "execution_count": 4,
   "metadata": {},
   "outputs": [
    {
     "data": {
      "text/plain": [
       "5"
      ]
     },
     "execution_count": 4,
     "metadata": {},
     "output_type": "execute_result"
    }
   ],
   "source": [
    "countLeaves(root)"
   ]
  },
  {
   "cell_type": "code",
   "execution_count": 5,
   "metadata": {},
   "outputs": [],
   "source": [
    "def countLeaves(root):\n",
    "    \n",
    "    if root == None:\n",
    "        return \n",
    "    \n",
    "    if root.left == None and root.right == None:\n",
    "        print(root.data,end=\" \")\n",
    "        return\n",
    "    \n",
    "    countLeaves(root.left)\n",
    "    countLeaves(root.right)\n",
    "        "
   ]
  },
  {
   "cell_type": "code",
   "execution_count": 6,
   "metadata": {},
   "outputs": [
    {
     "name": "stdout",
     "output_type": "stream",
     "text": [
      "Leaf Nodes: 15 12 16 18 9 "
     ]
    }
   ],
   "source": [
    "print('Leaf Nodes:',end=\" \")\n",
    "countLeaves(root)"
   ]
  },
  {
   "cell_type": "code",
   "execution_count": null,
   "metadata": {},
   "outputs": [],
   "source": []
  }
 ],
 "metadata": {
  "kernelspec": {
   "display_name": "Python 3",
   "language": "python",
   "name": "python3"
  },
  "language_info": {
   "codemirror_mode": {
    "name": "ipython",
    "version": 3
   },
   "file_extension": ".py",
   "mimetype": "text/x-python",
   "name": "python",
   "nbconvert_exporter": "python",
   "pygments_lexer": "ipython3",
   "version": "3.8.5"
  }
 },
 "nbformat": 4,
 "nbformat_minor": 2
}
