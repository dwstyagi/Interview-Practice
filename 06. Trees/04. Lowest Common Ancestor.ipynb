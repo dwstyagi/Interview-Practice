{
 "cells": [
  {
   "cell_type": "code",
   "execution_count": 1,
   "metadata": {},
   "outputs": [],
   "source": [
    "class Node:\n",
    "    def __init__(self, data):\n",
    "        self.left = None\n",
    "        self.data = data\n",
    "        self.right = None"
   ]
  },
  {
   "cell_type": "markdown",
   "metadata": {},
   "source": [
    "<img src=\"https://2.bp.blogspot.com/-_gLipfU6NNs/Vw9BZZCQAAI/AAAAAAAAEdE/K7Li4MOeEjMHG2kdH8N5k-EMJTpBaxkbACKgB/s1600/LCA.png\" width=\"300\" align=\"left\">"
   ]
  },
  {
   "cell_type": "code",
   "execution_count": 2,
   "metadata": {},
   "outputs": [],
   "source": [
    "root = Node(40)\n",
    "\n",
    "root.left = Node(20)\n",
    "root.right = Node(60)\n",
    "\n",
    "root.left.left = Node(10)\n",
    "root.left.right = Node(30)\n",
    "root.right.left = Node(50)\n",
    "root.right.right = Node(70)\n",
    "\n",
    "root.left.left.left = Node(5)\n",
    "root.right.left.right = Node(55)\n",
    "\n",
    "root.right.left.left = Node(16)\n",
    "root.right.left.right = Node(18)"
   ]
  },
  {
   "cell_type": "code",
   "execution_count": 3,
   "metadata": {},
   "outputs": [],
   "source": [
    "def LCA(root ,n1 ,n2):\n",
    "    \n",
    "    if root is None:\n",
    "        return None\n",
    "    \n",
    "    if root.data > n1 and root.data > n2:\n",
    "        return LCA(root.left ,n1 ,n2)\n",
    "    \n",
    "    elif root.data < n1 and root.data < n2:\n",
    "        return LCA(root.right ,n1 ,n2)\n",
    "    \n",
    "    return root.data"
   ]
  },
  {
   "cell_type": "code",
   "execution_count": 4,
   "metadata": {},
   "outputs": [
    {
     "data": {
      "text/plain": [
       "40"
      ]
     },
     "execution_count": 4,
     "metadata": {},
     "output_type": "execute_result"
    }
   ],
   "source": [
    "LCA(root ,5 ,55)"
   ]
  },
  {
   "cell_type": "code",
   "execution_count": 5,
   "metadata": {},
   "outputs": [
    {
     "data": {
      "text/plain": [
       "20"
      ]
     },
     "execution_count": 5,
     "metadata": {},
     "output_type": "execute_result"
    }
   ],
   "source": [
    "LCA(root ,5 ,30)"
   ]
  },
  {
   "cell_type": "code",
   "execution_count": 6,
   "metadata": {},
   "outputs": [
    {
     "data": {
      "text/plain": [
       "60"
      ]
     },
     "execution_count": 6,
     "metadata": {},
     "output_type": "execute_result"
    }
   ],
   "source": [
    "LCA(root ,60 ,70)"
   ]
  },
  {
   "cell_type": "markdown",
   "metadata": {},
   "source": [
    "# LCA on B-Tree"
   ]
  },
  {
   "cell_type": "code",
   "execution_count": 7,
   "metadata": {},
   "outputs": [],
   "source": [
    "one = Node(1)\n",
    "two = Node(2)\n",
    "three = Node(3)\n",
    "four = Node(4)\n",
    "five = Node(5)\n",
    "six = Node(6)\n",
    "seven = Node(7)"
   ]
  },
  {
   "cell_type": "code",
   "execution_count": 8,
   "metadata": {},
   "outputs": [],
   "source": [
    "root = one\n",
    "\n",
    "one.left = two\n",
    "one.right = three\n",
    "\n",
    "two.left = four\n",
    "two.right = five\n",
    "three.left = six\n",
    "three.right = seven"
   ]
  },
  {
   "cell_type": "code",
   "execution_count": 9,
   "metadata": {},
   "outputs": [],
   "source": [
    "def findPath(root ,path ,n):\n",
    "    \n",
    "    if root is None:\n",
    "        return False\n",
    "    \n",
    "    path.append(root.data)\n",
    "    \n",
    "    if root.data == n:\n",
    "        return True\n",
    "    \n",
    "    if ((root.left is not None and findPath(root.left ,path ,n)) or \n",
    "       (root.right is not None and findPath(root.right ,path ,n))):\n",
    "        return True\n",
    "    \n",
    "    path.pop()\n",
    "    return False\n",
    "    "
   ]
  },
  {
   "cell_type": "code",
   "execution_count": 10,
   "metadata": {},
   "outputs": [],
   "source": [
    "def LCA_BT(root ,n1 ,n2):\n",
    "    \n",
    "    path_n1 = []\n",
    "    path_n2 = []\n",
    "    \n",
    "    if (not findPath(root, path_n1, n1) or \n",
    "        not findPath(root, path_n2, n2)): \n",
    "        return -1 \n",
    "    \n",
    "    i=0\n",
    "    \n",
    "    while i < len(path_n1) and i < len(path_n2):\n",
    "        if path_n1[i] != path_n2[i]:\n",
    "            break\n",
    "        i += 1\n",
    "    return path_n1[i-1]"
   ]
  },
  {
   "cell_type": "code",
   "execution_count": 11,
   "metadata": {},
   "outputs": [
    {
     "data": {
      "text/plain": [
       "1"
      ]
     },
     "execution_count": 11,
     "metadata": {},
     "output_type": "execute_result"
    }
   ],
   "source": [
    "LCA_BT(root ,7 ,5)"
   ]
  },
  {
   "cell_type": "code",
   "execution_count": 13,
   "metadata": {},
   "outputs": [],
   "source": [
    "def LCA(root, n1, n2):\n",
    "    \n",
    "    if root == n1 or root == n2 or root is None:\n",
    "        return root\n",
    "    \n",
    "    leftSubTree = LCA(root.left, n1, n2)\n",
    "    rightSubTree = LCA(root.right, n1, n2)\n",
    "    \n",
    "    if not leftSubTree:\n",
    "        return rightSubTree\n",
    "    \n",
    "    if not rightSubTree:\n",
    "        return leftSubTree\n",
    "    \n",
    "    return root"
   ]
  },
  {
   "cell_type": "code",
   "execution_count": 15,
   "metadata": {},
   "outputs": [
    {
     "data": {
      "text/plain": [
       "1"
      ]
     },
     "execution_count": 15,
     "metadata": {},
     "output_type": "execute_result"
    }
   ],
   "source": [
    "LCA(root, root.left.right, root.right.right).data"
   ]
  },
  {
   "cell_type": "code",
   "execution_count": null,
   "metadata": {},
   "outputs": [],
   "source": []
  }
 ],
 "metadata": {
  "kernelspec": {
   "display_name": "Python 3",
   "language": "python",
   "name": "python3"
  },
  "language_info": {
   "codemirror_mode": {
    "name": "ipython",
    "version": 3
   },
   "file_extension": ".py",
   "mimetype": "text/x-python",
   "name": "python",
   "nbconvert_exporter": "python",
   "pygments_lexer": "ipython3",
   "version": "3.8.5"
  }
 },
 "nbformat": 4,
 "nbformat_minor": 2
}
