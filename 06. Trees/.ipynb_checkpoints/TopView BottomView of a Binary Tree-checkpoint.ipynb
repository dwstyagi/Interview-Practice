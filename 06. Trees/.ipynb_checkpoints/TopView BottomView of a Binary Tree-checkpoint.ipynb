{
 "cells": [
  {
   "cell_type": "markdown",
   "metadata": {},
   "source": [
    "# Bottom View"
   ]
  },
  {
   "cell_type": "code",
   "execution_count": 1,
   "metadata": {},
   "outputs": [],
   "source": [
    "class Node:\n",
    "    def __init__(self ,data):\n",
    "        self.data = data\n",
    "        self.left = self.right = None"
   ]
  },
  {
   "cell_type": "raw",
   "metadata": {},
   "source": [
    "             10\n",
    "          /     \\\n",
    "         21     19\n",
    "           \\   /  \\\n",
    "           15 6    0\n",
    "          /    \\    \\\n",
    "         18    17   12\n",
    "        \n",
    "Vertical Order Traversal : \n",
    "HD = -1 : 21 18\n",
    "HD = 0  : 10 15 6\n",
    "HD = +1 : 19 17 \n",
    "HD = +2 : 0\n",
    "HD = +3 : 12\n",
    "\n",
    "Bottom View: 18 6 17 0 12"
   ]
  },
  {
   "cell_type": "code",
   "execution_count": 2,
   "metadata": {},
   "outputs": [],
   "source": [
    "root = Node(10)\n",
    "\n",
    "root.left = Node(21)\n",
    "root.right = Node(19)\n",
    "\n",
    "root.left.right = Node(15)\n",
    "root.right.left = Node(6)\n",
    "root.right.right = Node(0)\n",
    "\n",
    "root.left.right.left = Node(18)\n",
    "root.right.left.right = Node(17)\n",
    "root.right.right.right = Node(12)"
   ]
  },
  {
   "cell_type": "code",
   "execution_count": 3,
   "metadata": {},
   "outputs": [],
   "source": [
    "def printBottomView(root ,hd ,Map):\n",
    "    if root is None:\n",
    "        return\n",
    "    \n",
    "    try:\n",
    "        Map[hd].append(root.data)\n",
    "    except:\n",
    "        Map[hd] = [root.data]\n",
    "        \n",
    "    printBottomView(root.left ,hd-1 ,Map)\n",
    "    printBottomView(root.right ,hd+1 ,Map)"
   ]
  },
  {
   "cell_type": "code",
   "execution_count": 4,
   "metadata": {},
   "outputs": [],
   "source": [
    "def BottomView(root):\n",
    "    \n",
    "    if root is None:\n",
    "        return\n",
    "    \n",
    "    Map = {}\n",
    "    \n",
    "    printBottomView(root ,0 ,Map)\n",
    "    \n",
    "    for key ,value in enumerate(sorted(Map)):\n",
    "        print(Map[value][-1],end=\" \")"
   ]
  },
  {
   "cell_type": "code",
   "execution_count": 5,
   "metadata": {},
   "outputs": [
    {
     "name": "stdout",
     "output_type": "stream",
     "text": [
      "18 6 17 0 12 "
     ]
    }
   ],
   "source": [
    "BottomView(root)"
   ]
  },
  {
   "cell_type": "markdown",
   "metadata": {},
   "source": [
    "# Top View"
   ]
  },
  {
   "cell_type": "raw",
   "metadata": {},
   "source": [
    "             10\n",
    "          /     \\\n",
    "         21     19\n",
    "           \\   /  \\\n",
    "           15 6    0\n",
    "          /    \\    \\\n",
    "         18    17   12\n",
    "        \n",
    "Vertical Order Traversal : \n",
    "HD = -1 : 21 18\n",
    "HD = 0  : 10 15 6\n",
    "HD = +1 : 19 17 \n",
    "HD = +2 : 0\n",
    "HD = +3 : 12\n",
    "\n",
    "Top View: 21 10 19 0 12"
   ]
  },
  {
   "cell_type": "code",
   "execution_count": 7,
   "metadata": {},
   "outputs": [],
   "source": [
    "def printTopView(root ,hd ,Map):\n",
    "    \n",
    "    if root is None:\n",
    "        return\n",
    "    \n",
    "    try:\n",
    "        Map[hd].append(root.data)\n",
    "    except:\n",
    "        Map[hd] = [root.data]\n",
    "        \n",
    "    printTopView(root.left ,hd-1 ,Map)\n",
    "    printTopView(root.right ,hd+1 ,Map)"
   ]
  },
  {
   "cell_type": "code",
   "execution_count": 8,
   "metadata": {},
   "outputs": [],
   "source": [
    "def topView(root):\n",
    "    \n",
    "    if root is None:\n",
    "        return\n",
    "    \n",
    "    Map = {}\n",
    "    \n",
    "    printTopView(root ,0 ,Map)\n",
    "    \n",
    "    for key ,value in enumerate(sorted(Map)):\n",
    "        print(Map[value][0],end=\" \")"
   ]
  },
  {
   "cell_type": "code",
   "execution_count": 9,
   "metadata": {},
   "outputs": [
    {
     "name": "stdout",
     "output_type": "stream",
     "text": [
      "21 10 19 0 12 "
     ]
    }
   ],
   "source": [
    "topView(root)"
   ]
  },
  {
   "cell_type": "code",
   "execution_count": null,
   "metadata": {},
   "outputs": [],
   "source": []
  },
  {
   "cell_type": "code",
   "execution_count": null,
   "metadata": {},
   "outputs": [],
   "source": []
  }
 ],
 "metadata": {
  "kernelspec": {
   "display_name": "Python 3",
   "language": "python",
   "name": "python3"
  },
  "language_info": {
   "codemirror_mode": {
    "name": "ipython",
    "version": 3
   },
   "file_extension": ".py",
   "mimetype": "text/x-python",
   "name": "python",
   "nbconvert_exporter": "python",
   "pygments_lexer": "ipython3",
   "version": "3.7.4"
  }
 },
 "nbformat": 4,
 "nbformat_minor": 2
}
