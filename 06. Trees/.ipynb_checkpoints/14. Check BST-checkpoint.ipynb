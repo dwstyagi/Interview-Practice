{
 "cells": [
  {
   "cell_type": "code",
   "execution_count": 1,
   "metadata": {},
   "outputs": [],
   "source": [
    "class Node:\n",
    "    def __init__(self ,data):\n",
    "        self.data = data\n",
    "        self.left = self.right = None"
   ]
  },
  {
   "cell_type": "code",
   "execution_count": 2,
   "metadata": {},
   "outputs": [],
   "source": [
    "INT_MAX = 4294967296\n",
    "INT_MIN = -4294967296"
   ]
  },
  {
   "cell_type": "raw",
   "metadata": {},
   "source": [
    "          10\n",
    "        /    \\\n",
    "       10     19\n",
    "      /      /  \\\n",
    "     -5     17  21"
   ]
  },
  {
   "cell_type": "code",
   "execution_count": 3,
   "metadata": {},
   "outputs": [],
   "source": [
    "root = Node(10)\n",
    "\n",
    "root.left = Node(10)\n",
    "root.right = Node(19)\n",
    "\n",
    "root.left.left = Node(-5)\n",
    "root.right.left = Node(17)\n",
    "root.right.right = Node(21)"
   ]
  },
  {
   "cell_type": "code",
   "execution_count": 4,
   "metadata": {},
   "outputs": [],
   "source": [
    "def isBSTUtil(root ,minimum ,maximum):\n",
    "    \n",
    "    if root is None:\n",
    "        return 1\n",
    "    \n",
    "    if minimum > root.data or root.data > maximum:\n",
    "        return False\n",
    "    \n",
    "    return (isBSTUtil(root.left ,minimum ,root.data) and\n",
    "            isBSTUtil(root.right ,root.data ,maximum))"
   ]
  },
  {
   "cell_type": "code",
   "execution_count": 5,
   "metadata": {},
   "outputs": [],
   "source": [
    "def isBST(root):\n",
    "    return isBSTUtil(root ,INT_MIN ,INT_MAX)"
   ]
  },
  {
   "cell_type": "code",
   "execution_count": 6,
   "metadata": {},
   "outputs": [
    {
     "data": {
      "text/plain": [
       "1"
      ]
     },
     "execution_count": 6,
     "metadata": {},
     "output_type": "execute_result"
    }
   ],
   "source": [
    "isBST(root)"
   ]
  },
  {
   "cell_type": "code",
   "execution_count": null,
   "metadata": {},
   "outputs": [],
   "source": []
  }
 ],
 "metadata": {
  "kernelspec": {
   "display_name": "Python 3",
   "language": "python",
   "name": "python3"
  },
  "language_info": {
   "codemirror_mode": {
    "name": "ipython",
    "version": 3
   },
   "file_extension": ".py",
   "mimetype": "text/x-python",
   "name": "python",
   "nbconvert_exporter": "python",
   "pygments_lexer": "ipython3",
   "version": "3.8.5"
  }
 },
 "nbformat": 4,
 "nbformat_minor": 2
}
