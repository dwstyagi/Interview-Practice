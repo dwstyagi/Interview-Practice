{
 "cells": [
  {
   "cell_type": "code",
   "execution_count": 1,
   "metadata": {},
   "outputs": [],
   "source": [
    "class Node:\n",
    "    def __init__(self ,data):\n",
    "        self.left = None\n",
    "        self.data = data\n",
    "        self.right = None"
   ]
  },
  {
   "cell_type": "code",
   "execution_count": 2,
   "metadata": {},
   "outputs": [],
   "source": [
    "root = Node(1)\n",
    "root.left = Node(4)\n",
    "root.right = Node(5)\n",
    "root.right.left = Node(12)\n",
    "root.right.left.right = Node(25)\n",
    "root.right.left.right.left = Node(30)\n",
    "\n",
    "root.right.right = Node(7)\n",
    "root.right.right.right = Node(8)\n",
    "root.right.right.right.right = Node(12)\n",
    "root.right.right.right.right.right = Node(9)"
   ]
  },
  {
   "cell_type": "code",
   "execution_count": 3,
   "metadata": {},
   "outputs": [],
   "source": [
    "def height(root):\n",
    "    if root is None:\n",
    "        return 0\n",
    "    else:\n",
    "        return (1 + max(height(root.left) ,height(root.right)))"
   ]
  },
  {
   "cell_type": "code",
   "execution_count": 4,
   "metadata": {},
   "outputs": [
    {
     "data": {
      "text/plain": [
       "6"
      ]
     },
     "execution_count": 4,
     "metadata": {},
     "output_type": "execute_result"
    }
   ],
   "source": [
    "height(root)"
   ]
  },
  {
   "cell_type": "code",
   "execution_count": 5,
   "metadata": {},
   "outputs": [],
   "source": [
    "def diameter(root):\n",
    "\n",
    "    if root is None:\n",
    "        return 0\n",
    "    else:\n",
    "        leftSubTree_height = height(root.left)\n",
    "        rightSubtree_height = height(root.right)\n",
    "        \n",
    "        left_diameter = diameter(root.left)\n",
    "        right_diameter = diameter(root.right)\n",
    "        \n",
    "        # Return max of the following tree: \n",
    "        # 1) Diameter of left subtree \n",
    "        # 2) Diameter of right subtree \n",
    "        # 3) Height of left subtree + height of right subtree +1 \n",
    "    return max(left_diameter ,right_diameter ,(leftSubTree_height+rightSubtree_height+1))"
   ]
  },
  {
   "cell_type": "code",
   "execution_count": 6,
   "metadata": {},
   "outputs": [
    {
     "data": {
      "text/plain": [
       "8"
      ]
     },
     "execution_count": 6,
     "metadata": {},
     "output_type": "execute_result"
    }
   ],
   "source": [
    "diameter(root)"
   ]
  },
  {
   "cell_type": "code",
   "execution_count": null,
   "metadata": {},
   "outputs": [],
   "source": []
  }
 ],
 "metadata": {
  "kernelspec": {
   "display_name": "Python 3",
   "language": "python",
   "name": "python3"
  },
  "language_info": {
   "codemirror_mode": {
    "name": "ipython",
    "version": 3
   },
   "file_extension": ".py",
   "mimetype": "text/x-python",
   "name": "python",
   "nbconvert_exporter": "python",
   "pygments_lexer": "ipython3",
   "version": "3.7.3"
  }
 },
 "nbformat": 4,
 "nbformat_minor": 2
}
