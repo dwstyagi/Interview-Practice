{
 "cells": [
  {
   "cell_type": "markdown",
   "metadata": {},
   "source": [
    "Given a binary tree, a target node in the binary tree, and an integer value k, print all the nodes that are at distance k from the given target node. No parent pointers are available.\n",
    "\n",
    "<img src=\"https://media.geeksforgeeks.org/wp-content/cdn-uploads/BinaryTree4.png\" >\n",
    "<br>\n",
    "<br>\n",
    "\n",
    "```\n",
    "Consider the tree shown in diagram\n",
    "\n",
    "Input: target = pointer to node with data 8.\n",
    "root = pointer to node with data 20.\n",
    "k = 2.\n",
    "Output : 10 14 22\n",
    "\n",
    "If target is 14 and k is 3, then output\n",
    "should be “4 20”\n",
    "```"
   ]
  },
  {
   "cell_type": "code",
   "execution_count": 2,
   "metadata": {},
   "outputs": [],
   "source": [
    "class Node:\n",
    "    def __init__(self, data):\n",
    "        self.data = data\n",
    "        self.left = None\n",
    "        self.right = None"
   ]
  },
  {
   "cell_type": "code",
   "execution_count": 3,
   "metadata": {},
   "outputs": [],
   "source": [
    "def findParent(root, parent, seen):\n",
    "    if root is None:\n",
    "        return \n",
    "    \n",
    "    seen[root] = 0\n",
    "    \n",
    "    if root.left is not None:\n",
    "        parent[root.left] = root\n",
    "    \n",
    "    if root.right is not None:\n",
    "        parent[root.right] = root\n",
    "    \n",
    "    findParent(root.left, parent, seen)\n",
    "    findParent(root.right, parent, seen)"
   ]
  },
  {
   "cell_type": "code",
   "execution_count": 4,
   "metadata": {},
   "outputs": [],
   "source": [
    "def printNodes(Queue):\n",
    "    while Queue:\n",
    "        node = Queue.pop(0)\n",
    "        print(node.data,end=\" \")"
   ]
  },
  {
   "cell_type": "code",
   "execution_count": 5,
   "metadata": {},
   "outputs": [],
   "source": [
    "def printkDistanceNode(root, start, k):\n",
    "    \n",
    "    parent = {}\n",
    "    seen = {}\n",
    "    \n",
    "    parent[root] = None\n",
    "    findParent(root, parent, seen)\n",
    "    \n",
    "    Q1 = []\n",
    "    Q2 = []\n",
    "    currentLevel = 0\n",
    "    \n",
    "    Q1.append(start)\n",
    "    \n",
    "    if currentLevel == k:\n",
    "        printNodes(Q1)\n",
    "        return \n",
    "    \n",
    "    while True:\n",
    "        while Q1:\n",
    "            node = Q1.pop(0)\n",
    "            seen[node] = 1\n",
    "            \n",
    "            if node.left and not seen[node.left]:\n",
    "                Q2.append(node.left)\n",
    "            \n",
    "            if node.right and not seen[node.left]:\n",
    "                Q2.append(node.right)\n",
    "            \n",
    "            if parent[node] and not seen[parent[node]]:\n",
    "                Q2.append(parent[node])\n",
    "            \n",
    "        currentLevel += 1\n",
    "        if currentLevel == k:\n",
    "            printNodes(Q2)\n",
    "            return\n",
    "        \n",
    "        while Q2:\n",
    "            node = Q2.pop(0)\n",
    "            seen[node] = 1\n",
    "            \n",
    "            if node.left and not seen[node.left]:\n",
    "                Q1.append(node.left)\n",
    "            \n",
    "            if node.right and not seen[node.right]:\n",
    "                Q1.append(node.right)\n",
    "            \n",
    "            if parent[node] and not seen[parent[node]]:\n",
    "                Q1.append(parent[node])\n",
    "            \n",
    "        currentLevel += 1\n",
    "        if currentLevel == k:\n",
    "            printNodes(Q1)\n",
    "            return"
   ]
  },
  {
   "cell_type": "code",
   "execution_count": 7,
   "metadata": {},
   "outputs": [
    {
     "name": "stdout",
     "output_type": "stream",
     "text": [
      "7 4 1 "
     ]
    }
   ],
   "source": [
    "root = Node(3)\n",
    "\n",
    "root.left = Node(5)\n",
    "root.right = Node(1)\n",
    "\n",
    "root.left.left = Node(6)\n",
    "root.left.right = Node(2)\n",
    "root.right.left = Node(0)\n",
    "root.right.right = Node(8)\n",
    "\n",
    "root.left.right.left = Node(7)\n",
    "root.left.right.right = Node(4)\n",
    "\n",
    "target = root.left\n",
    "printkDistanceNode(root, target, 2)"
   ]
  },
  {
   "cell_type": "code",
   "execution_count": 8,
   "metadata": {},
   "outputs": [
    {
     "name": "stdout",
     "output_type": "stream",
     "text": [
      "10 14 22 "
     ]
    }
   ],
   "source": [
    "root = Node(20) \n",
    "root.left = Node(8) \n",
    "root.right = Node(22) \n",
    "root.left.left = Node(4) \n",
    "root.left.right = Node(12) \n",
    "root.left.right.left = Node(10) \n",
    "root.left.right.right = Node(14) \n",
    "target = root.left\n",
    "printkDistanceNode(root, target, 2)"
   ]
  },
  {
   "cell_type": "code",
   "execution_count": null,
   "metadata": {},
   "outputs": [],
   "source": []
  }
 ],
 "metadata": {
  "kernelspec": {
   "display_name": "Python 3",
   "language": "python",
   "name": "python3"
  },
  "language_info": {
   "codemirror_mode": {
    "name": "ipython",
    "version": 3
   },
   "file_extension": ".py",
   "mimetype": "text/x-python",
   "name": "python",
   "nbconvert_exporter": "python",
   "pygments_lexer": "ipython3",
   "version": "3.7.6"
  }
 },
 "nbformat": 4,
 "nbformat_minor": 4
}
