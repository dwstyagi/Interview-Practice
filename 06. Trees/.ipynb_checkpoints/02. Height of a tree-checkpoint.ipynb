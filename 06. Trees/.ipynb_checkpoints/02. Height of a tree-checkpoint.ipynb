{
 "cells": [
  {
   "cell_type": "code",
   "execution_count": 2,
   "metadata": {},
   "outputs": [],
   "source": [
    "class Node:\n",
    "    def __init__(self, data):\n",
    "        self.left = None\n",
    "        self.data = data\n",
    "        self.right = None"
   ]
  },
  {
   "cell_type": "markdown",
   "metadata": {},
   "source": [
    "```\n",
    "              10\n",
    "           /     \\\n",
    "          11     20\n",
    "         /  \\   /  \\\n",
    "        15  12 0    9\n",
    "              / \\\n",
    "             16 18\n",
    "             \n",
    "        Height of the tree: 4\n",
    "```"
   ]
  },
  {
   "cell_type": "code",
   "execution_count": 8,
   "metadata": {},
   "outputs": [],
   "source": [
    "root = Node(10)\n",
    "\n",
    "root.left = Node(11)\n",
    "root.right = Node(20)\n",
    "\n",
    "root.left.left = Node(15)\n",
    "root.left.right = Node(12)\n",
    "root.right.left = Node(0)\n",
    "root.right.right = Node(9)\n",
    "\n",
    "root.right.left.left = Node(16)\n",
    "root.right.left.right = Node(18)"
   ]
  },
  {
   "cell_type": "code",
   "execution_count": 9,
   "metadata": {},
   "outputs": [],
   "source": [
    "def heightOfATree(root):\n",
    "    \n",
    "     if root is None:\n",
    "        return 0\n",
    "     else:\n",
    "        count_left = heightOfATree(root.left)\n",
    "        count_right = heightOfATree(root.right)\n",
    "        depth = max(count_left ,count_right)\n",
    "        return depth + 1"
   ]
  },
  {
   "cell_type": "code",
   "execution_count": 10,
   "metadata": {},
   "outputs": [
    {
     "data": {
      "text/plain": [
       "4"
      ]
     },
     "execution_count": 10,
     "metadata": {},
     "output_type": "execute_result"
    }
   ],
   "source": [
    "heightOfATree(root)"
   ]
  },
  {
   "cell_type": "code",
   "execution_count": 11,
   "metadata": {},
   "outputs": [
    {
     "name": "stdout",
     "output_type": "stream",
     "text": [
      "Height of tree is 4\n"
     ]
    }
   ],
   "source": [
    "# Python3 program to find the maximum depth of tree\n",
    "\n",
    "# A binary tree node\n",
    "class Node:\n",
    "\n",
    "\t# Constructor to create a new node\n",
    "\tdef __init__(self, data):\n",
    "\t\tself.data = data\n",
    "\t\tself.left = None\n",
    "\t\tself.right = None\n",
    "\n",
    "# Compute the \"maxDepth\" of a tree -- the number of nodes\n",
    "# along the longest path from the root node down to the\n",
    "# farthest leaf node\n",
    "def maxDepth(node):\n",
    "\tif node is None:\n",
    "\t\treturn 0 ;\n",
    "\n",
    "\telse :\n",
    "\n",
    "\t\t# Compute the depth of each subtree\n",
    "\t\tlDepth = maxDepth(node.left)\n",
    "\t\trDepth = maxDepth(node.right)\n",
    "\n",
    "\t\t# Use the larger one\n",
    "\t\tif (lDepth > rDepth):\n",
    "\t\t\treturn lDepth+1\n",
    "\t\telse:\n",
    "\t\t\treturn rDepth+1\n",
    "\n",
    "print (\"Height of tree is %d\" %(maxDepth(root)))\n",
    "\n",
    "# This code is contributed by Nikhil Kumar Singh(nickzuck_007)\n"
   ]
  },
  {
   "cell_type": "code",
   "execution_count": null,
   "metadata": {},
   "outputs": [],
   "source": []
  }
 ],
 "metadata": {
  "kernelspec": {
   "display_name": "Python 3",
   "language": "python",
   "name": "python3"
  },
  "language_info": {
   "codemirror_mode": {
    "name": "ipython",
    "version": 3
   },
   "file_extension": ".py",
   "mimetype": "text/x-python",
   "name": "python",
   "nbconvert_exporter": "python",
   "pygments_lexer": "ipython3",
   "version": "3.8.5"
  }
 },
 "nbformat": 4,
 "nbformat_minor": 2
}
