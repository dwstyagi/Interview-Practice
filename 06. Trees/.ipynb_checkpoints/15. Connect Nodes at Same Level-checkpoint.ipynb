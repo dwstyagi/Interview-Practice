{
 "cells": [
  {
   "cell_type": "code",
   "execution_count": 1,
   "metadata": {},
   "outputs": [],
   "source": [
    "class Node:\n",
    "    def __init__(self, data):\n",
    "        self.data = data\n",
    "        self.left = None\n",
    "        self.right = None\n",
    "        self.nextRight = None"
   ]
  },
  {
   "cell_type": "markdown",
   "metadata": {},
   "source": [
    "```\n",
    "Input Tree\n",
    "       A\n",
    "      / \\\n",
    "     B   C\n",
    "    / \\   \\\n",
    "   D   E   F\n",
    "   \n",
    "\n",
    "Output Tree\n",
    "       A--->NULL\n",
    "      / \\\n",
    "     B-->C-->NULL\n",
    "    / \\   \\\n",
    "   D-->E-->F-->NULL\n",
    "```"
   ]
  },
  {
   "cell_type": "code",
   "execution_count": 2,
   "metadata": {},
   "outputs": [],
   "source": [
    "root = Node('A')\n",
    "\n",
    "root.left = Node('B')\n",
    "root.right = Node('C')\n",
    "\n",
    "root.left.left = Node('D')\n",
    "root.left.right = Node('E')\n",
    "\n",
    "root.right.right = Node('F')"
   ]
  },
  {
   "cell_type": "code",
   "execution_count": 3,
   "metadata": {},
   "outputs": [],
   "source": [
    "def getNextRight(node):\n",
    "    node = node.nextRight\n",
    "\n",
    "    while node:\n",
    "        if node.left:\n",
    "            return node.left\n",
    "        elif node.right:\n",
    "            return node.right\n",
    "        \n",
    "        node = node.nextRight\n",
    "    \n",
    "    return None"
   ]
  },
  {
   "cell_type": "code",
   "execution_count": 4,
   "metadata": {},
   "outputs": [],
   "source": [
    "def connectNodesAtSameLevel(root):\n",
    "    leftMostNode = root\n",
    "    \n",
    "    while leftMostNode:\n",
    "        currentNode = leftMostNode\n",
    "        \n",
    "        # connect Node at a level\n",
    "        while currentNode:\n",
    "            if currentNode.left:\n",
    "                if currentNode.right:\n",
    "                    currentNode.left.nextRight = currentNode.right\n",
    "                else:\n",
    "                    currentNode.left.nextRight = getNextRight(currentNode)\n",
    "\n",
    "            if currentNode.right:\n",
    "                currentNode.right.nextRight = getNextRight(currentNode)\n",
    "            \n",
    "            currentNode = currentNode.nextRight\n",
    "        \n",
    "        if leftMostNode.left:\n",
    "            leftMostNode = leftMostNode.left\n",
    "        elif leftMostNode.right:\n",
    "            leftMostNode = leftMostNode.right\n",
    "        else:\n",
    "            leftMostNode = getNextRight(leftMostNode)"
   ]
  },
  {
   "cell_type": "code",
   "execution_count": 5,
   "metadata": {},
   "outputs": [],
   "source": [
    "def printNodes(root):\n",
    "    leftMostNode = root\n",
    "    \n",
    "    while leftMostNode:\n",
    "        \n",
    "        temp = leftMostNode\n",
    "        while temp:\n",
    "            print(temp.data,end=\" \")\n",
    "            temp = temp.nextRight\n",
    "        \n",
    "        if leftMostNode.left:\n",
    "            leftMostNode = leftMostNode.left\n",
    "        elif leftMostNode.right:\n",
    "            leftMostNode = leftMostNode.right\n",
    "        else:\n",
    "            leftMostNode = getNextRight(leftMostNode)\n",
    "        \n",
    "        print()"
   ]
  },
  {
   "cell_type": "code",
   "execution_count": 6,
   "metadata": {},
   "outputs": [],
   "source": [
    "connectNodesAtSameLevel(root)"
   ]
  },
  {
   "cell_type": "code",
   "execution_count": 7,
   "metadata": {},
   "outputs": [
    {
     "name": "stdout",
     "output_type": "stream",
     "text": [
      "A \n",
      "B C \n",
      "D E F \n"
     ]
    }
   ],
   "source": [
    "printNodes(root)"
   ]
  },
  {
   "cell_type": "code",
   "execution_count": null,
   "metadata": {},
   "outputs": [],
   "source": []
  }
 ],
 "metadata": {
  "kernelspec": {
   "display_name": "Python 3",
   "language": "python",
   "name": "python3"
  },
  "language_info": {
   "codemirror_mode": {
    "name": "ipython",
    "version": 3
   },
   "file_extension": ".py",
   "mimetype": "text/x-python",
   "name": "python",
   "nbconvert_exporter": "python",
   "pygments_lexer": "ipython3",
   "version": "3.7.6"
  }
 },
 "nbformat": 4,
 "nbformat_minor": 2
}
