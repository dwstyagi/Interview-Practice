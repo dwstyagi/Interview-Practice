{
 "cells": [
  {
   "cell_type": "markdown",
   "metadata": {},
   "source": [
    "# Level Order Traversal"
   ]
  },
  {
   "cell_type": "code",
   "execution_count": 1,
   "metadata": {},
   "outputs": [],
   "source": [
    "class Node:\n",
    "    def __init__(self ,data):\n",
    "        self.data = data\n",
    "        self.left = self.right = None\n",
    "        "
   ]
  },
  {
   "cell_type": "raw",
   "metadata": {},
   "source": [
    "             10\n",
    "          /     \\\n",
    "         21     19\n",
    "           \\   /  \\\n",
    "           15 6    0\n",
    "          /    \\    \\\n",
    "         18    17   12\n",
    "        \n",
    "Level View Order : 10 21 19 15 6 0 18 17 12"
   ]
  },
  {
   "cell_type": "code",
   "execution_count": 2,
   "metadata": {},
   "outputs": [],
   "source": [
    "root = Node(10)\n",
    "\n",
    "root.left = Node(21)\n",
    "root.right = Node(19)\n",
    "\n",
    "root.left.right = Node(15)\n",
    "root.right.left = Node(6)\n",
    "root.right.right = Node(0)\n",
    "\n",
    "root.left.right.left = Node(18)\n",
    "root.right.left.right = Node(17)\n",
    "root.right.right.right = Node(12)"
   ]
  },
  {
   "cell_type": "raw",
   "metadata": {},
   "source": [
    "ALGORITHM\n",
    "printLevelorder(tree)\n",
    "1) Create an empty queue q\n",
    "2) temp_node = root /*start from root*/\n",
    "3) Loop while temp_node is not NULL\n",
    "    a) print temp_node->data.\n",
    "    b) Enqueue temp_node’s children (first left then right children) to q\n",
    "    c) Dequeue a node from q and assign it’s value to temp_node"
   ]
  },
  {
   "cell_type": "code",
   "execution_count": 3,
   "metadata": {},
   "outputs": [],
   "source": [
    "def levelOrder(root):\n",
    "    \n",
    "    if root is None:\n",
    "        return \n",
    "    \n",
    "    Q = []\n",
    "    Q.append(root)\n",
    "    \n",
    "    while len(Q):\n",
    "        temp = Q.pop(0)\n",
    "        print(temp.data,end=\" \")\n",
    "        \n",
    "        if temp.left is not None:\n",
    "            Q.append(temp.left)\n",
    "        \n",
    "        if temp.right is not None:\n",
    "            Q.append(temp.right)\n",
    "    "
   ]
  },
  {
   "cell_type": "code",
   "execution_count": 4,
   "metadata": {},
   "outputs": [
    {
     "name": "stdout",
     "output_type": "stream",
     "text": [
      "10 21 19 15 6 0 18 17 12 "
     ]
    }
   ],
   "source": [
    "levelOrder(root)"
   ]
  },
  {
   "cell_type": "code",
   "execution_count": 5,
   "metadata": {},
   "outputs": [],
   "source": [
    "def levelOrderByLevel(root):\n",
    "    \n",
    "    if root is None:\n",
    "        return \n",
    "    \n",
    "    Q1 ,Q2 = [],[]\n",
    "    Q1.append(root)\n",
    "    \n",
    "    while len(Q1) or len(Q2) :\n",
    "        \n",
    "        while len(Q1):\n",
    "            temp = Q1.pop(0)\n",
    "            print(temp.data,end=\" \")\n",
    "\n",
    "            if temp.left is not None:\n",
    "                Q2.append(temp.left)\n",
    "\n",
    "            if temp.right is not None:\n",
    "                Q2.append(temp.right)\n",
    "\n",
    "        print()\n",
    "        \n",
    "        while len(Q2):\n",
    "            temp = Q2.pop(0)\n",
    "            print(temp.data,end=\" \")\n",
    "\n",
    "            if temp.left is not None:\n",
    "                Q1.append(temp.left)\n",
    "\n",
    "            if temp.right is not None:\n",
    "                Q1.append(temp.right)\n",
    "        \n",
    "        print()\n"
   ]
  },
  {
   "cell_type": "code",
   "execution_count": 6,
   "metadata": {},
   "outputs": [
    {
     "name": "stdout",
     "output_type": "stream",
     "text": [
      "10 \n",
      "21 19 \n",
      "15 6 0 \n",
      "18 17 12 \n"
     ]
    }
   ],
   "source": [
    "levelOrderByLevel(root)"
   ]
  },
  {
   "cell_type": "code",
   "execution_count": 7,
   "metadata": {},
   "outputs": [],
   "source": [
    "def levelOrderInReverse(root):\n",
    "    \n",
    "    if root is None:\n",
    "        return \n",
    "    \n",
    "    Q = []\n",
    "    S = []\n",
    "    Q.append(root)\n",
    "    \n",
    "    while len(Q):\n",
    "        temp = Q.pop(0)\n",
    "        \n",
    "        if temp.right is not None:\n",
    "            Q.append(temp.right)\n",
    "        \n",
    "        if temp.left is not None:\n",
    "            Q.append(temp.left)\n",
    "        \n",
    "        S.append(temp)\n",
    "    \n",
    "    while len(S):\n",
    "        print(S.pop().data, end =\" \")"
   ]
  },
  {
   "cell_type": "code",
   "execution_count": 8,
   "metadata": {},
   "outputs": [
    {
     "name": "stdout",
     "output_type": "stream",
     "text": [
      "18 17 12 15 6 0 21 19 10 "
     ]
    }
   ],
   "source": [
    "levelOrderInReverse(root)"
   ]
  },
  {
   "cell_type": "code",
   "execution_count": 9,
   "metadata": {},
   "outputs": [
    {
     "name": "stdout",
     "output_type": "stream",
     "text": [
      "10 \n",
      "21 19 \n",
      "15 6 0 \n",
      "18 17 12 \n"
     ]
    }
   ],
   "source": [
    "levelOrderByLevel(root)"
   ]
  },
  {
   "cell_type": "markdown",
   "metadata": {},
   "source": [
    "# Vertical Order Traversal"
   ]
  },
  {
   "cell_type": "code",
   "execution_count": 10,
   "metadata": {},
   "outputs": [],
   "source": [
    "def findMinMaxDistance(root ,minimum ,maximum ,hd):\n",
    "    \n",
    "    if root is None:\n",
    "        return\n",
    "    \n",
    "    minimum[0] = min(hd ,minimum[0])\n",
    "    maximum[0] = max(hd ,maximum[0])\n",
    "    \n",
    "    findMinMaxDistance(root.left ,minimum ,maximum , hd-1)\n",
    "    findMinMaxDistance(root.right ,minimum ,maximum , hd+1)\n",
    "    "
   ]
  },
  {
   "cell_type": "code",
   "execution_count": 11,
   "metadata": {},
   "outputs": [],
   "source": [
    "def printVerticalLevel(root ,level ,hd):\n",
    "    \n",
    "    if root is None:\n",
    "        return \n",
    "    \n",
    "    if level == hd:\n",
    "        print(root.data,end=\" \")\n",
    "    \n",
    "    printVerticalLevel(root.left ,level ,hd-1)\n",
    "    printVerticalLevel(root.right ,level ,hd+1)"
   ]
  },
  {
   "cell_type": "code",
   "execution_count": 12,
   "metadata": {},
   "outputs": [],
   "source": [
    "def VerticalOrder(root):\n",
    "    \n",
    "    minimum = [0]\n",
    "    maximum = [0]\n",
    "    \n",
    "    findMinMaxDistance(root ,minimum ,maximum ,0)\n",
    "    \n",
    "    for i in range(minimum[0] , maximum[0]+1):\n",
    "        printVerticalLevel(root ,i ,0)\n",
    "        print()"
   ]
  },
  {
   "cell_type": "raw",
   "metadata": {},
   "source": [
    "             10\n",
    "          /     \\\n",
    "         21     19\n",
    "           \\   /  \\\n",
    "           15 6    0\n",
    "          /    \\    \\\n",
    "         18    17   12\n",
    "        \n",
    "Vertical Order Traversal : \n",
    "HD = -1 : 21 18\n",
    "HD = 0  : 10 15 6\n",
    "HD = +1 : 19 17 \n",
    "HD = +2 : 0\n",
    "HD = +3 : 12"
   ]
  },
  {
   "cell_type": "code",
   "execution_count": 13,
   "metadata": {},
   "outputs": [
    {
     "name": "stdout",
     "output_type": "stream",
     "text": [
      "21 18 \n",
      "10 15 6 \n",
      "19 17 \n",
      "0 \n",
      "12 \n"
     ]
    }
   ],
   "source": [
    "VerticalOrder(root)"
   ]
  },
  {
   "cell_type": "markdown",
   "metadata": {},
   "source": [
    "## Using Dictionaries to print Vertical Order"
   ]
  },
  {
   "cell_type": "raw",
   "metadata": {},
   "source": [
    "           1\n",
    "         /   \\\n",
    "       2       3\n",
    "     /  \\     /  \\\n",
    "   4     5   6    7\n",
    "              \\    \\\n",
    "               8    9   \n",
    " \n",
    "The output of print this tree vertically will be:\n",
    "4\n",
    "2\n",
    "1 5 6\n",
    "3 8\n",
    "7\n",
    "9"
   ]
  },
  {
   "cell_type": "code",
   "execution_count": 14,
   "metadata": {},
   "outputs": [],
   "source": [
    "def getVerticalOrder(root ,hd ,Map):\n",
    "    \n",
    "    if root is None:\n",
    "        return \n",
    "    \n",
    "    try:\n",
    "        Map[hd].append(root.data)\n",
    "    except:\n",
    "        Map[hd] = [root.data]\n",
    "    \n",
    "    getVerticalOrder(root.left ,hd-1 ,Map)\n",
    "    getVerticalOrder(root.right ,hd+1 ,Map)"
   ]
  },
  {
   "cell_type": "code",
   "execution_count": 15,
   "metadata": {},
   "outputs": [],
   "source": [
    "def VerticalOrder(root):\n",
    "    \n",
    "    if root is None:\n",
    "        return\n",
    "    \n",
    "    Map = {}\n",
    "    hd = 0\n",
    "    \n",
    "    getVerticalOrder(root ,hd ,Map)\n",
    "    \n",
    "    for index ,value in enumerate(sorted(Map)):\n",
    "        for i in Map[value]:\n",
    "            print(i,end=\" \")\n",
    "        print()\n",
    "        "
   ]
  },
  {
   "cell_type": "code",
   "execution_count": 16,
   "metadata": {},
   "outputs": [
    {
     "name": "stdout",
     "output_type": "stream",
     "text": [
      "21 18 \n",
      "10 15 6 \n",
      "19 17 \n",
      "0 \n",
      "12 \n"
     ]
    }
   ],
   "source": [
    "VerticalOrder(root)"
   ]
  },
  {
   "cell_type": "code",
   "execution_count": null,
   "metadata": {},
   "outputs": [],
   "source": []
  },
  {
   "cell_type": "code",
   "execution_count": null,
   "metadata": {},
   "outputs": [],
   "source": []
  }
 ],
 "metadata": {
  "kernelspec": {
   "display_name": "Python 3",
   "language": "python",
   "name": "python3"
  },
  "language_info": {
   "codemirror_mode": {
    "name": "ipython",
    "version": 3
   },
   "file_extension": ".py",
   "mimetype": "text/x-python",
   "name": "python",
   "nbconvert_exporter": "python",
   "pygments_lexer": "ipython3",
   "version": "3.7.4"
  }
 },
 "nbformat": 4,
 "nbformat_minor": 2
}
