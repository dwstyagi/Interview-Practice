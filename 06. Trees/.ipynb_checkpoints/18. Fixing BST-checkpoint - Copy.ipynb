{
 "cells": [
  {
   "cell_type": "code",
   "execution_count": 1,
   "metadata": {},
   "outputs": [],
   "source": [
    "class Node:\n",
    "    def __init__(self ,data):\n",
    "        self.data = data\n",
    "        self.left = self.right = None"
   ]
  },
  {
   "cell_type": "raw",
   "metadata": {},
   "source": [
    "Input:\n",
    "                 7\n",
    "              /     \\\n",
    "             5      10\n",
    "            / \\    /  \\\n",
    "           3  12  8    6\n",
    " \n",
    "InOrder : 3 5 12 7 8 10 6\n",
    "\n",
    "NOTE that 12 and 6 are wrongly placed\n",
    "\n",
    "Output:\n",
    "                7\n",
    "             /    \\\n",
    "            5      10\n",
    "           / \\    /  \\\n",
    "          3   6  8   12"
   ]
  },
  {
   "cell_type": "code",
   "execution_count": 2,
   "metadata": {},
   "outputs": [],
   "source": [
    "root = Node(7)\n",
    "\n",
    "root.left = Node(5)\n",
    "root.right = Node(10)\n",
    "\n",
    "root.left.left = Node(3)\n",
    "root.left.right = Node(12)\n",
    "root.right.left = Node(8)\n",
    "root.right.right = Node(6) "
   ]
  },
  {
   "cell_type": "code",
   "execution_count": 3,
   "metadata": {},
   "outputs": [],
   "source": [
    "def InOrder(root):\n",
    "    \n",
    "    stack = []\n",
    "    \n",
    "    while True :\n",
    "        if root is not None:\n",
    "            stack.append(root)\n",
    "            root = root.left\n",
    "        else:\n",
    "            if len(stack) == 0 :\n",
    "                break\n",
    "            temp = stack.pop()\n",
    "            print(temp.data,end=\" \")\n",
    "            root = temp.right"
   ]
  },
  {
   "cell_type": "code",
   "execution_count": 4,
   "metadata": {},
   "outputs": [
    {
     "name": "stdout",
     "output_type": "stream",
     "text": [
      "3 5 12 7 8 10 6 "
     ]
    }
   ],
   "source": [
    "InOrder(root)"
   ]
  },
  {
   "cell_type": "markdown",
   "metadata": {},
   "source": [
    "We will maintain three pointers, first, middle and last. When we find the first point where current node value is smaller than previous node value, we update the first with the previous node & middle with the current node. When we find the second point where current node value is smaller than previous node value, we update the last with the current node. In case #2, we will never find the second point. So, last pointer will not be updated. After processing, if the last node value is null, then two swapped nodes of BST are adjacent. "
   ]
  },
  {
   "cell_type": "code",
   "execution_count": 5,
   "metadata": {},
   "outputs": [],
   "source": [
    "def fixBST(root ,first ,middle ,last ,prev) : \n",
    "    \n",
    "    if root is not None:\n",
    "        \n",
    "        fixBST(root.left ,first ,middle ,last ,prev)\n",
    "        \n",
    "        if prev[0] is not None and root.data < prev[0].data :    \n",
    "            if first[0] is None :\n",
    "                first[0] = prev[0]\n",
    "                middle[0] = root\n",
    "            else:\n",
    "                last[0] = root\n",
    "        \n",
    "        prev[0] = root\n",
    "        \n",
    "        fixBST(root.right ,first ,middle ,last ,prev)\n",
    "    "
   ]
  },
  {
   "cell_type": "code",
   "execution_count": 6,
   "metadata": {},
   "outputs": [],
   "source": [
    "def swap(element_a ,element_b) :\n",
    "    temp = element_a[0].data\n",
    "    element_a[0].data = element_b[0].data\n",
    "    element_b[0].data = temp"
   ]
  },
  {
   "cell_type": "code",
   "execution_count": 7,
   "metadata": {},
   "outputs": [],
   "source": [
    "def correctBST(root):\n",
    "    first = [None]\n",
    "    middle = [None]\n",
    "    last = [None]\n",
    "    prev = [None]\n",
    "    \n",
    "    fixBST(root ,first ,middle ,last ,prev)\n",
    "    \n",
    "    if first[0] is not None and last[0] is not None:\n",
    "        swap(first ,last)\n",
    "    \n",
    "    elif first[0] is not None and middle[0] is not None:\n",
    "        swap(first ,middle)\n",
    "        "
   ]
  },
  {
   "cell_type": "code",
   "execution_count": 8,
   "metadata": {},
   "outputs": [],
   "source": [
    "correctBST(root)"
   ]
  },
  {
   "cell_type": "code",
   "execution_count": 9,
   "metadata": {},
   "outputs": [
    {
     "name": "stdout",
     "output_type": "stream",
     "text": [
      "3 5 6 7 8 10 12 "
     ]
    }
   ],
   "source": [
    "InOrder(root)"
   ]
  },
  {
   "cell_type": "code",
   "execution_count": null,
   "metadata": {},
   "outputs": [],
   "source": []
  }
 ],
 "metadata": {
  "kernelspec": {
   "display_name": "Python 3",
   "language": "python",
   "name": "python3"
  },
  "language_info": {
   "codemirror_mode": {
    "name": "ipython",
    "version": 3
   },
   "file_extension": ".py",
   "mimetype": "text/x-python",
   "name": "python",
   "nbconvert_exporter": "python",
   "pygments_lexer": "ipython3",
   "version": "3.7.3"
  }
 },
 "nbformat": 4,
 "nbformat_minor": 2
}
