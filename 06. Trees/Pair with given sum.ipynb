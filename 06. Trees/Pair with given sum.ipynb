{
 "cells": [
  {
   "cell_type": "code",
   "execution_count": 1,
   "metadata": {},
   "outputs": [],
   "source": [
    "class Node:\n",
    "    def __init__(self ,data):\n",
    "        self.data = data\n",
    "        self.left = None\n",
    "        self.right = None"
   ]
  },
  {
   "cell_type": "markdown",
   "metadata": {},
   "source": [
    "# Find a pair of element in BS - Tree"
   ]
  },
  {
   "cell_type": "markdown",
   "metadata": {},
   "source": [
    "            15\n",
    "          /    \\\n",
    "        10      20\n",
    "       /  \\    /  \\\n",
    "      8   12  16   25"
   ]
  },
  {
   "cell_type": "markdown",
   "metadata": {},
   "source": [
    "Go through every node and find whether there complement is exist in a binary tree or not : O(n2)"
   ]
  },
  {
   "cell_type": "code",
   "execution_count": 2,
   "metadata": {},
   "outputs": [],
   "source": [
    "root = Node(15)\n",
    "\n",
    "root.left = Node(10)\n",
    "root.right = Node(20)\n",
    "\n",
    "root.left.left = Node(8)\n",
    "root.left.right = Node(12)\n",
    "root.right.left = Node(16)\n",
    "root.right.right = Node(25)"
   ]
  },
  {
   "cell_type": "code",
   "execution_count": 3,
   "metadata": {},
   "outputs": [],
   "source": [
    "def search(root ,data):\n",
    "    \n",
    "    if root is None:\n",
    "        return 0\n",
    "    \n",
    "    if root.data == data :\n",
    "        return 1\n",
    "    \n",
    "    if root.data > data :\n",
    "        return search(root.left ,data)\n",
    "    \n",
    "    else:\n",
    "        return search(root.right ,data)"
   ]
  },
  {
   "cell_type": "code",
   "execution_count": 4,
   "metadata": {},
   "outputs": [],
   "source": [
    "def findPair(root ,node ,s) :\n",
    "    \n",
    "    if root is None:\n",
    "        return\n",
    "    \n",
    "    com = s - node.data\n",
    "    \n",
    "    if search(root ,com) :\n",
    "        return 1\n",
    "    else:\n",
    "        if (node.left is not None and findPair(root ,node.left ,s) or \n",
    "            node.right is not None and findPair(root ,node.right ,s)):\n",
    "            return 1\n",
    "    \n",
    "    return 0"
   ]
  },
  {
   "cell_type": "code",
   "execution_count": 5,
   "metadata": {},
   "outputs": [],
   "source": [
    "def find(root ,s):\n",
    "    node = root\n",
    "    return findPair(root ,node ,s)"
   ]
  },
  {
   "cell_type": "code",
   "execution_count": 6,
   "metadata": {},
   "outputs": [
    {
     "data": {
      "text/plain": [
       "0"
      ]
     },
     "execution_count": 6,
     "metadata": {},
     "output_type": "execute_result"
    }
   ],
   "source": [
    "find(root, 39)"
   ]
  },
  {
   "cell_type": "markdown",
   "metadata": {},
   "source": [
    "Store Complement of every root in list and then find Pair : O(n)\n",
    "Only for B-Tree"
   ]
  },
  {
   "cell_type": "markdown",
   "metadata": {},
   "source": [
    "            15\n",
    "          /    \\\n",
    "        10      20\n",
    "       /  \\    /  \\\n",
    "      8   12  16   25"
   ]
  },
  {
   "cell_type": "code",
   "execution_count": 7,
   "metadata": {},
   "outputs": [],
   "source": [
    "root1 = Node(15)\n",
    "\n",
    "root1.left = Node(10)\n",
    "root1.right = Node(20)\n",
    "\n",
    "root1.left.left = Node(8)\n",
    "root1.left.right = Node(12)\n",
    "root1.right.left = Node(16)\n",
    "root1.right.right = Node(25)"
   ]
  },
  {
   "cell_type": "code",
   "execution_count": 8,
   "metadata": {},
   "outputs": [],
   "source": [
    "def findPair1(root , s, lis) :\n",
    "    \n",
    "    if root is None:\n",
    "        return 0\n",
    "    \n",
    "    #com = s - root.data\n",
    "    \n",
    "    try:\n",
    "        found = lis.index(root.data) \n",
    "    except:\n",
    "        found = 0\n",
    "        \n",
    "    if found:\n",
    "        lis.append(s - root.data)\n",
    "        return 1\n",
    "    \n",
    "    else:\n",
    "        lis.append(s - root.data)\n",
    "        if (root.left is not None and findPair1(root.left, s, lis) or\n",
    "            root.right is not None and findPair1(root.right ,s ,lis)):\n",
    "            return 1\n",
    "    \n",
    "        else:    \n",
    "            return 0"
   ]
  },
  {
   "cell_type": "code",
   "execution_count": 9,
   "metadata": {},
   "outputs": [],
   "source": [
    "def find1(root , s):\n",
    "    lis = []\n",
    "    findPair1(root ,s ,lis)\n",
    "    return lis"
   ]
  },
  {
   "cell_type": "code",
   "execution_count": 10,
   "metadata": {},
   "outputs": [
    {
     "data": {
      "text/plain": [
       "[13, 18, 20, 16, 8]"
      ]
     },
     "execution_count": 10,
     "metadata": {},
     "output_type": "execute_result"
    }
   ],
   "source": [
    "find1(root1 ,28)"
   ]
  },
  {
   "cell_type": "markdown",
   "metadata": {},
   "source": [
    "# BS - Tree"
   ]
  },
  {
   "cell_type": "code",
   "execution_count": 14,
   "metadata": {},
   "outputs": [],
   "source": [
    "def inorder(root):\n",
    "    \n",
    "    if root:\n",
    "        inorder(root.left)\n",
    "        print(root.data,end=\" \")\n",
    "        inorder(root.right)"
   ]
  },
  {
   "cell_type": "code",
   "execution_count": 21,
   "metadata": {},
   "outputs": [
    {
     "name": "stdout",
     "output_type": "stream",
     "text": [
      "8 10 12 15 16 20 25 "
     ]
    }
   ],
   "source": [
    "inorder(root)"
   ]
  },
  {
   "cell_type": "code",
   "execution_count": 24,
   "metadata": {},
   "outputs": [],
   "source": [
    "def InOrder(root, lis):\n",
    "    \n",
    "    stack = []\n",
    "    \n",
    "    while True :\n",
    "        \n",
    "        if root is not None:\n",
    "            stack.append(root)\n",
    "            root = root.left\n",
    "        \n",
    "        else:\n",
    "            if len(stack) == 0:\n",
    "                break   \n",
    "            temp = stack.pop()\n",
    "            lis.append(temp.data)\n",
    "            root = temp.right"
   ]
  },
  {
   "cell_type": "code",
   "execution_count": 27,
   "metadata": {},
   "outputs": [],
   "source": [
    "def findInBSTree(root) : \n",
    "    \n",
    "    summ = 28\n",
    "    lis = []\n",
    "    InOrder(root ,lis)\n",
    "    \n",
    "    start ,end = 0 ,len(lis) - 1\n",
    "    \n",
    "    while start != end :\n",
    "        if lis[start]+lis[end] == summ :\n",
    "            return 1\n",
    "        \n",
    "        elif lis[start]+lis[end] > summ :\n",
    "            end -= 1\n",
    "        \n",
    "        else:\n",
    "            start += 1\n",
    "    \n",
    "    return 0\n"
   ]
  },
  {
   "cell_type": "code",
   "execution_count": 28,
   "metadata": {},
   "outputs": [
    {
     "data": {
      "text/plain": [
       "1"
      ]
     },
     "execution_count": 28,
     "metadata": {},
     "output_type": "execute_result"
    }
   ],
   "source": [
    "findInBSTree(root)"
   ]
  },
  {
   "cell_type": "code",
   "execution_count": 23,
   "metadata": {},
   "outputs": [],
   "source": []
  },
  {
   "cell_type": "code",
   "execution_count": null,
   "metadata": {},
   "outputs": [],
   "source": []
  }
 ],
 "metadata": {
  "kernelspec": {
   "display_name": "Python 3",
   "language": "python",
   "name": "python3"
  },
  "language_info": {
   "codemirror_mode": {
    "name": "ipython",
    "version": 3
   },
   "file_extension": ".py",
   "mimetype": "text/x-python",
   "name": "python",
   "nbconvert_exporter": "python",
   "pygments_lexer": "ipython3",
   "version": "3.7.3"
  }
 },
 "nbformat": 4,
 "nbformat_minor": 2
}
