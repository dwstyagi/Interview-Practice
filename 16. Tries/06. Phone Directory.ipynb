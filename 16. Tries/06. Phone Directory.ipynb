{
 "cells": [
  {
   "cell_type": "code",
   "execution_count": 1,
   "metadata": {},
   "outputs": [],
   "source": [
    "class TrieNode:\n",
    "    def __init__(self):\n",
    "        self.children = [None] * 26\n",
    "        self.endOfTheWord = False"
   ]
  },
  {
   "cell_type": "code",
   "execution_count": 14,
   "metadata": {},
   "outputs": [],
   "source": [
    "class Trie:\n",
    "    def __init__(self):\n",
    "        self.root = self.getNode()\n",
    "    \n",
    "    def getNode(self):\n",
    "        return TrieNode()\n",
    "    \n",
    "    def charToIntegar(self ,ch):\n",
    "        return ord(ch) - ord('a')\n",
    "    \n",
    "    def isEmpty(self ,root):\n",
    "        for i in range(26):\n",
    "            if root.children[i] is not None:\n",
    "                return False\n",
    "            \n",
    "        return True\n",
    "    \n",
    "    def insert(self ,word):\n",
    "        current = self.root\n",
    "        \n",
    "        for i in range(len(word)):\n",
    "            index = self.charToIntegar(word[i])\n",
    "            \n",
    "            if current.children[index] is None:\n",
    "                current.children[index] = self.getNode()\n",
    "            \n",
    "            current = current.children[index]\n",
    "            \n",
    "        current.endOfTheWord = True\n",
    "    \n",
    "    def search(self ,word):\n",
    "        current = word\n",
    "        \n",
    "        for i in range(len(word)):\n",
    "            index = self.charToIntegar(word[i])\n",
    "            \n",
    "            if current.children[index] is None:\n",
    "                return False\n",
    "            \n",
    "            current = current.children[index]\n",
    "            \n",
    "        return current.endOfTheWord\n",
    "    \n",
    "    def printAutoComplete(self ,key):\n",
    "        \n",
    "        current = self.root\n",
    "        for i in range(len(key)):\n",
    "            index = self.charToIntegar(key[i])\n",
    "            \n",
    "            if current.children[index] is None:\n",
    "                return -1\n",
    "            \n",
    "            current = current.children[index]\n",
    "        \n",
    "        if current.endOfTheWord and self.isEmpty(current):\n",
    "            return 0\n",
    "        \n",
    "        str = list(key)\n",
    "        self.allSuggestions(current ,str)\n",
    "    \n",
    "    def allSuggestions(self, root ,str):\n",
    "        \n",
    "        if root.endOfTheWord:\n",
    "            print(''.join(str))\n",
    "        \n",
    "        for i in range(26):\n",
    "            if root.children[i] is not None:\n",
    "                ch = chr(97+i)\n",
    "                str.append(ch)\n",
    "                self.allSuggestions(root.children[i] ,str)\n",
    "                str.pop()"
   ]
  },
  {
   "cell_type": "code",
   "execution_count": 19,
   "metadata": {},
   "outputs": [],
   "source": [
    "def printContacts(keys ,key):\n",
    "    T = Trie()\n",
    "\n",
    "    for i in keys:\n",
    "        T.insert(i)\n",
    "        \n",
    "    temp = \"\"\n",
    "    for i in range(len(key)):\n",
    "        temp += key[i]\n",
    "        print('stored contact with {}'.format(temp))\n",
    "        suggestions = T.printAutoComplete(temp)\n",
    "        \n",
    "        if suggestions == -1:\n",
    "            print('None')\n",
    "        elif suggestions == 0:\n",
    "            print(key)\n",
    "        print()"
   ]
  },
  {
   "cell_type": "code",
   "execution_count": 20,
   "metadata": {},
   "outputs": [
    {
     "name": "stdout",
     "output_type": "stream",
     "text": [
      "stored contact with t\n",
      "then\n",
      "there\n",
      "tiger\n",
      "\n",
      "stored contact with th\n",
      "then\n",
      "there\n",
      "\n",
      "stored contact with the\n",
      "then\n",
      "there\n",
      "\n"
     ]
    }
   ],
   "source": [
    "keys = ['then' ,'there' ,'tiger']\n",
    "key = \"the\"\n",
    "\n",
    "printContacts(keys ,key)"
   ]
  },
  {
   "cell_type": "code",
   "execution_count": null,
   "metadata": {},
   "outputs": [],
   "source": []
  }
 ],
 "metadata": {
  "kernelspec": {
   "display_name": "Python 3",
   "language": "python",
   "name": "python3"
  },
  "language_info": {
   "codemirror_mode": {
    "name": "ipython",
    "version": 3
   },
   "file_extension": ".py",
   "mimetype": "text/x-python",
   "name": "python",
   "nbconvert_exporter": "python",
   "pygments_lexer": "ipython3",
   "version": "3.7.3"
  }
 },
 "nbformat": 4,
 "nbformat_minor": 2
}
