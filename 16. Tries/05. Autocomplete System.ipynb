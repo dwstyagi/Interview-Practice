{
 "cells": [
  {
   "cell_type": "markdown",
   "metadata": {},
   "source": [
    "Given a query prefix, we search for all words having this query.\n",
    "1. Search for given query using standard Trie search algorithm. \n",
    "2. If query prefix itself is not present, return -1 to indicate the same.\n",
    "3. If query is present and is end of word in Trie, print query. This can quickly checked by seeing if last matching node has isEndWord flag set. We use this flag in Trie to mark end of word nodes for purpose of searching.\n",
    "4. If last matching node of query has no children, return.\n",
    "5. Else recursively print all nodes under subtree of last matching node."
   ]
  },
  {
   "cell_type": "code",
   "execution_count": 17,
   "metadata": {},
   "outputs": [],
   "source": [
    "class TrieNode:\n",
    "    def __init__(self):\n",
    "        self.children = [None] * 26\n",
    "        self.endOfTheWord = False"
   ]
  },
  {
   "cell_type": "code",
   "execution_count": 18,
   "metadata": {},
   "outputs": [],
   "source": [
    "class Trie:\n",
    "    def __init__(self):\n",
    "        self.root = self.getNode()\n",
    "        \n",
    "    def getNode(self):\n",
    "        return TrieNode()\n",
    "    \n",
    "    def charToIndex(self, ch):\n",
    "        return ord(ch) - ord('a')\n",
    "    \n",
    "    def isEmpty(self ,root):\n",
    "        \n",
    "        for i in range(26):\n",
    "            if root.children[i] is not None:\n",
    "                return 0\n",
    "        \n",
    "        return 1\n",
    "    \n",
    "    def insert(self ,word):\n",
    "        current = self.root\n",
    "        \n",
    "        for i in range(len(word)):\n",
    "            index = self.charToIndex(word[i])\n",
    "            \n",
    "            if current.children[index] is None:\n",
    "                current.children[index] = self.getNode()\n",
    "            \n",
    "            current = current.children[index]\n",
    "        \n",
    "        current.endOfTheWord = True\n",
    "    \n",
    "    def search(self ,word):\n",
    "        current = self.root\n",
    "        \n",
    "        for i in range(len(word)):\n",
    "            index = self.charToIndex(word[i])\n",
    "            \n",
    "            if current.children[index] is None:\n",
    "                return False\n",
    "            \n",
    "            current = current.children[index]\n",
    "        \n",
    "        return current.endOfTheWord\n",
    "    \n",
    "    def printKeys(self):\n",
    "        current = self.root\n",
    "        str = []\n",
    "        self.printKeysUtil(current ,str)\n",
    "    \n",
    "    def printKeysUtil(self, root ,str):\n",
    "        if root.endOfTheWord:\n",
    "            print(''.join(str))\n",
    "        \n",
    "        for i in range(26):\n",
    "            if root.children[i] is not None:\n",
    "                ch = chr(97+i)\n",
    "                str.append(ch)\n",
    "                self.printKeysUtil(root.children[i] ,str)\n",
    "                str.pop()\n",
    "    \n",
    "    def printAutoComplete(self ,prefix):\n",
    "        current = self.root\n",
    "        \n",
    "        for i in range(len(prefix)):\n",
    "            index = self.charToIndex(prefix[i])\n",
    "            \n",
    "            if current.children[index] is None:\n",
    "                return -1\n",
    "            \n",
    "            current = current.children[index]\n",
    "        \n",
    "        if current.endOfTheWord == True and self.isEmpty(current):\n",
    "            return 0\n",
    "        \n",
    "        ## Recursively call all\n",
    "        ## the subtrees\n",
    "        str = list(prefix)\n",
    "        self.allSuggestions(current ,str)\n",
    "    \n",
    "    def allSuggestions(self ,root ,str):\n",
    "        \n",
    "        if root.endOfTheWord == True:\n",
    "            print(''.join(str))\n",
    "        \n",
    "        for i in range(26):\n",
    "            if root.children[i] is not None:\n",
    "                ch = chr(97+i)\n",
    "                str.append(ch)\n",
    "                self.allSuggestions(root.children[i] ,str)\n",
    "                str.pop()"
   ]
  },
  {
   "cell_type": "code",
   "execution_count": 22,
   "metadata": {},
   "outputs": [
    {
     "name": "stdout",
     "output_type": "stream",
     "text": [
      "the\n",
      "there\n"
     ]
    }
   ],
   "source": [
    "T = Trie()\n",
    "\n",
    "keys = ['the','there','and']\n",
    "\n",
    "for key in keys:\n",
    "    T.insert(key)\n",
    "\n",
    "\n",
    "key = 'the'\n",
    "suggestions = T.printAutoComplete(key)\n",
    "\n",
    "if suggestions == -1:\n",
    "    print('word not present')\n",
    "elif suggestions == 0:\n",
    "    print(key)"
   ]
  },
  {
   "cell_type": "code",
   "execution_count": null,
   "metadata": {},
   "outputs": [],
   "source": [
    "   "
   ]
  }
 ],
 "metadata": {
  "kernelspec": {
   "display_name": "Python 3",
   "language": "python",
   "name": "python3"
  },
  "language_info": {
   "codemirror_mode": {
    "name": "ipython",
    "version": 3
   },
   "file_extension": ".py",
   "mimetype": "text/x-python",
   "name": "python",
   "nbconvert_exporter": "python",
   "pygments_lexer": "ipython3",
   "version": "3.7.6"
  }
 },
 "nbformat": 4,
 "nbformat_minor": 2
}
