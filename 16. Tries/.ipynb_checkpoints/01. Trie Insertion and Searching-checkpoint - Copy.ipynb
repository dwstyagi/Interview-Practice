{
 "cells": [
  {
   "cell_type": "code",
   "execution_count": 1,
   "metadata": {},
   "outputs": [],
   "source": [
    "class Node:\n",
    "    def __init__(self):\n",
    "        self.children = [None] * 26\n",
    "        self.endOfTheWord = False"
   ]
  },
  {
   "cell_type": "code",
   "execution_count": 2,
   "metadata": {},
   "outputs": [],
   "source": [
    "class Trie:\n",
    "    def __init__(self):\n",
    "        self.root = self.getNode()\n",
    "    \n",
    "    def getNode(self):\n",
    "        return Node()\n",
    "    \n",
    "    def charToIndex(self ,ch):\n",
    "        return ord(ch) - ord('a')\n",
    "    \n",
    "    def insert(self ,word):\n",
    "        current = self.root\n",
    "        \n",
    "        for i in range(len(word)):\n",
    "            index = self.charToIndex(word[i])\n",
    "            \n",
    "            if current.children[index] is None:\n",
    "                current.children[index] = self.getNode()\n",
    "            \n",
    "            current = current.children[index]\n",
    "        \n",
    "        current.endOfTheWord = True\n",
    "    \n",
    "    def search(self ,ch):\n",
    "        current = self.root\n",
    "        \n",
    "        for i in range(len(ch)):\n",
    "            index = self.charToIndex(ch[i])\n",
    "            \n",
    "            if current.children[index] is None:\n",
    "                return False\n",
    "            \n",
    "            current = current.children[index]\n",
    "        \n",
    "        return current != None and current.endOfTheWord"
   ]
  },
  {
   "cell_type": "code",
   "execution_count": 3,
   "metadata": {},
   "outputs": [
    {
     "name": "stdout",
     "output_type": "stream",
     "text": [
      "the ---- True\n",
      "these ---- False\n",
      "their ---- True\n",
      "thaw ---- False\n"
     ]
    }
   ],
   "source": [
    "T = Trie()\n",
    "\n",
    "keys = [\"the\",\"a\",\"there\",\"anaswe\",\"any\", \"by\",\"their\"]\n",
    "\n",
    "for key in keys:\n",
    "    T.insert(key)\n",
    "\n",
    "print(\"{} ---- {}\".format(\"the\",T.search(\"the\"))) \n",
    "print(\"{} ---- {}\".format(\"these\",T.search(\"these\"))) \n",
    "print(\"{} ---- {}\".format(\"their\",T.search(\"their\"))) \n",
    "print(\"{} ---- {}\".format(\"thaw\",T.search(\"thaw\"))) "
   ]
  },
  {
   "cell_type": "code",
   "execution_count": null,
   "metadata": {},
   "outputs": [],
   "source": []
  }
 ],
 "metadata": {
  "kernelspec": {
   "display_name": "Python 3",
   "language": "python",
   "name": "python3"
  },
  "language_info": {
   "codemirror_mode": {
    "name": "ipython",
    "version": 3
   },
   "file_extension": ".py",
   "mimetype": "text/x-python",
   "name": "python",
   "nbconvert_exporter": "python",
   "pygments_lexer": "ipython3",
   "version": "3.7.4"
  }
 },
 "nbformat": 4,
 "nbformat_minor": 2
}
