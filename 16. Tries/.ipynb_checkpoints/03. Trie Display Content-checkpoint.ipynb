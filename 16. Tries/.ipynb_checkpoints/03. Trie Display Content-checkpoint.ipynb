{
 "cells": [
  {
   "cell_type": "markdown",
   "metadata": {},
   "source": [
    "```\n",
    "Input: If Trie is      root\n",
    "                    /   \\    \\\n",
    "                    t   a     b\n",
    "                    |   |     |\n",
    "                    h   n     y\n",
    "                    |   |  \\  |\n",
    "                    e   s  y  e\n",
    "                 /  |   |\n",
    "                 i  r   w\n",
    "                 |  |   |\n",
    "                 r  e   e\n",
    "                        |\n",
    "                        r\n",
    "Output: Contents of Trie:\n",
    "        answer\n",
    "        any\n",
    "        bye\n",
    "        their\n",
    "        there\n",
    "```"
   ]
  },
  {
   "cell_type": "code",
   "execution_count": 1,
   "metadata": {},
   "outputs": [],
   "source": [
    "class Node:\n",
    "    def __init__(self):\n",
    "        self.children = [None] * 26\n",
    "        self.endOfTheWord = False"
   ]
  },
  {
   "cell_type": "code",
   "execution_count": 2,
   "metadata": {},
   "outputs": [],
   "source": [
    "class Trie:\n",
    "    def __init__(self):\n",
    "        self.root = self.getNode()\n",
    "    \n",
    "    def getNode(self):\n",
    "        return Node()\n",
    "    \n",
    "    def charToIndex(self ,ch):\n",
    "        return ord(ch) - ord('a')\n",
    "    \n",
    "    def insert(self ,word):\n",
    "        current = self.root\n",
    "        \n",
    "        for i in range(len(word)):\n",
    "            index = self.charToIndex(word[i])\n",
    "            \n",
    "            if current.children[index] is None:\n",
    "                current.children[index] = self.getNode()\n",
    "            \n",
    "            current = current.children[index]\n",
    "        \n",
    "        current.endOfTheWord = True\n",
    "    \n",
    "    def search(self ,ch):\n",
    "        current = self.root\n",
    "        \n",
    "        for i in range(len(ch)):\n",
    "            index = self.charToIndex(ch[i])\n",
    "            \n",
    "            if current.children[index] is None:\n",
    "                return False\n",
    "            \n",
    "            current = current.children[index]\n",
    "        \n",
    "        return current != None and current.endOfTheWord\n",
    "    \n",
    "    def printKeys(self):\n",
    "        str = []\n",
    "        self.printKeysUtil(self.root ,str)\n",
    "    \n",
    "    def printKeysUtil(self ,root ,str):\n",
    "        \n",
    "        if root.endOfTheWord:\n",
    "            print(''.join(str))\n",
    "        \n",
    "        for i in range(26):\n",
    "            \n",
    "            if root.children[i] is not None:\n",
    "                ch = chr(97+i)\n",
    "                str.append(ch)\n",
    "                self.printKeysUtil(root.children[i] ,str)\n",
    "                str.pop()"
   ]
  },
  {
   "cell_type": "code",
   "execution_count": 3,
   "metadata": {},
   "outputs": [
    {
     "name": "stdout",
     "output_type": "stream",
     "text": [
      "a\n",
      "answer\n",
      "any\n",
      "by\n",
      "the\n",
      "their\n",
      "there\n"
     ]
    }
   ],
   "source": [
    "T = Trie()\n",
    "\n",
    "keys = [\"the\",\"a\",\"there\",\"answer\",\"any\", \"by\",\"their\"]\n",
    "\n",
    "for key in keys:\n",
    "    T.insert(key)\n",
    "\n",
    "T.search('there')\n",
    "T.printKeys()"
   ]
  },
  {
   "cell_type": "code",
   "execution_count": null,
   "metadata": {},
   "outputs": [],
   "source": []
  }
 ],
 "metadata": {
  "kernelspec": {
   "display_name": "Python 3",
   "language": "python",
   "name": "python3"
  },
  "language_info": {
   "codemirror_mode": {
    "name": "ipython",
    "version": 3
   },
   "file_extension": ".py",
   "mimetype": "text/x-python",
   "name": "python",
   "nbconvert_exporter": "python",
   "pygments_lexer": "ipython3",
   "version": "3.7.6"
  }
 },
 "nbformat": 4,
 "nbformat_minor": 2
}
