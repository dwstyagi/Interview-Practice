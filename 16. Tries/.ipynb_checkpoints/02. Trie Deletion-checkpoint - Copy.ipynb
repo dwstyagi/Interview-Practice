{
 "cells": [
  {
   "cell_type": "markdown",
   "metadata": {},
   "source": [
    "During delete operation we delete the key in bottom up manner using recursion. The following are possible conditions when deleting key from trie,\n",
    "1. Key may not be there in trie. Delete operation should not modify trie.\n",
    "2. Key present as unique key (no part of key contains another key (prefix), nor the key itself is prefix of another key in trie). Delete all the nodes.\n",
    "3. Key is prefix key of another long key in trie. Unmark the leaf node.\n",
    "4. Key present in trie, having atleast one other key as prefix key. Delete nodes from end of key until first leaf node of longest prefix key."
   ]
  },
  {
   "cell_type": "code",
   "execution_count": 12,
   "metadata": {},
   "outputs": [],
   "source": [
    "class Node:\n",
    "    def __init__(self):\n",
    "        self.children = [None] * 26\n",
    "        self.endOfTheWord = False"
   ]
  },
  {
   "cell_type": "code",
   "execution_count": 20,
   "metadata": {},
   "outputs": [],
   "source": [
    "class Trie:\n",
    "    def __init__(self):\n",
    "        self.root = self.getNode()\n",
    "    \n",
    "    def getNode(self):\n",
    "        return Node()\n",
    "    \n",
    "    def charToIndex(self ,ch):\n",
    "        return ord(ch) - ord('a')\n",
    "    \n",
    "    def insert(self ,word):\n",
    "        current = self.root\n",
    "        \n",
    "        for i in range(len(word)):\n",
    "            index = self.charToIndex(word[i])\n",
    "            \n",
    "            if current.children[index] is None:\n",
    "                current.children[index] = self.getNode()\n",
    "            \n",
    "            current = current.children[index]\n",
    "        \n",
    "        current.endOfTheWord = True\n",
    "    \n",
    "    def search(self ,ch):\n",
    "        current = self.root\n",
    "        \n",
    "        for i in range(len(ch)):\n",
    "            index = self.charToIndex(ch[i])\n",
    "            \n",
    "            if current.children[index] is None:\n",
    "                return False\n",
    "            \n",
    "            current = current.children[index]\n",
    "        \n",
    "        return current != None and current.endOfTheWord\n",
    "    \n",
    "    def isEmpty(self ,node):\n",
    "        current = node\n",
    "        for i in range(26):\n",
    "            if current.children[i] is not None:\n",
    "                return False\n",
    "        \n",
    "        return True\n",
    "    \n",
    "    def delete(self ,word):\n",
    "        current = self.root\n",
    "        return self.deleteUtil(current ,word ,0)\n",
    "    \n",
    "    def deleteUtil(self ,root ,word ,depth):\n",
    "        \n",
    "        if depth == len(word):\n",
    "            \n",
    "            # if word is prefix of \n",
    "            # other bigger words\n",
    "            if root.endOfTheWord == True:\n",
    "                root.endOfTheWord = False\n",
    "            \n",
    "            if self.isEmpty(root) == True:\n",
    "                del root\n",
    "                root = None\n",
    "            \n",
    "            return root\n",
    "        \n",
    "        index = self.charToIndex(word[depth])\n",
    "        \n",
    "        root = self.deleteUtil(root.children[index] ,word ,depth+1)\n",
    "        \n",
    "        if self.isEmpty(root) and root.endOfTheWord == False:\n",
    "            del root\n",
    "            root = None\n",
    "        \n",
    "        return root"
   ]
  },
  {
   "cell_type": "code",
   "execution_count": 21,
   "metadata": {},
   "outputs": [
    {
     "name": "stdout",
     "output_type": "stream",
     "text": [
      "the -- True\n",
      "the -- False\n"
     ]
    }
   ],
   "source": [
    "T = Trie()\n",
    "\n",
    "keys = [\"the\",\"a\",\"there\",\"anaswe\",\"any\", \"by\",\"their\"]\n",
    "\n",
    "for key in keys:\n",
    "    T.insert(key)\n",
    "\n",
    "print('{} -- {}'.format('the', T.search('the')))\n",
    "T.delete('the')\n",
    "print('{} -- {}'.format('the', T.search('the')))"
   ]
  },
  {
   "cell_type": "code",
   "execution_count": null,
   "metadata": {},
   "outputs": [],
   "source": []
  }
 ],
 "metadata": {
  "kernelspec": {
   "display_name": "Python 3",
   "language": "python",
   "name": "python3"
  },
  "language_info": {
   "codemirror_mode": {
    "name": "ipython",
    "version": 3
   },
   "file_extension": ".py",
   "mimetype": "text/x-python",
   "name": "python",
   "nbconvert_exporter": "python",
   "pygments_lexer": "ipython3",
   "version": "3.7.3"
  }
 },
 "nbformat": 4,
 "nbformat_minor": 2
}
