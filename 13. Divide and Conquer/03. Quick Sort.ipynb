{
 "cells": [
  {
   "cell_type": "markdown",
   "metadata": {},
   "source": [
    "QuickSort is a Divide and Conquer algorithm. It picks an element as pivot and partitions the given array around the picked pivot. There are many different versions of quickSort that pick pivot in different ways.<br> \n",
    "1. Always pick first element as pivot.<br>\n",
    "2. Always pick last element as pivot (implemented below).<br>\n",
    "3. Pick a random element as pivot.<br>\n",
    "4. Pick median as pivot.<br>"
   ]
  },
  {
   "cell_type": "markdown",
   "metadata": {},
   "source": [
    "<img src=\"https://www.geeksforgeeks.org/wp-content/uploads/gq/2014/01/QuickSort2.png\">"
   ]
  },
  {
   "cell_type": "markdown",
   "metadata": {},
   "source": [
    "**Pseudo code for partition()**\n",
    "```\n",
    "/* This function takes last element as pivot, places\n",
    "   the pivot element at its correct position in sorted\n",
    "   array, and places all smaller (smaller than pivot)\n",
    "   to left of pivot and all greater elements to right\n",
    "   of pivot */\n",
    "partition (arr[], low, high)\n",
    "{\n",
    "    // pivot (Element to be placed at right position)\n",
    "    pivot = arr[high];  \n",
    " \n",
    "    i = (low - 1)  // Index of smaller element\n",
    "\n",
    "    for (j = low; j <= high- 1; j++)\n",
    "    {\n",
    "        // If current element is smaller than the pivot\n",
    "        if (arr[j] < pivot)\n",
    "        {\n",
    "            i++;    // increment index of smaller element\n",
    "            swap arr[i] and arr[j]\n",
    "        }\n",
    "    }\n",
    "    swap arr[i + 1] and arr[high])\n",
    "    return (i + 1)\n",
    "}\n",
    "```"
   ]
  },
  {
   "cell_type": "markdown",
   "metadata": {},
   "source": [
    "**Illustration for partition()**\n",
    "```\n",
    "arr[] = {10, 80, 30, 90, 40, 50, 70}\n",
    "Indexes:  0   1   2   3   4   5   6 \n",
    "\n",
    "low = 0, high =  6, pivot = arr[h] = 70\n",
    "Initialize index of smaller element, i = -1\n",
    "\n",
    "Traverse elements from j = low to high-1\n",
    "j = 0 : Since arr[j] <= pivot, do i++ and swap(arr[i], arr[j])\n",
    "i = 0 \n",
    "arr[] = {10, 80, 30, 90, 40, 50, 70} // No change as i and j \n",
    "                                     // are same\n",
    "\n",
    "j = 1 : Since arr[j] > pivot, do nothing\n",
    "// No change in i and arr[]\n",
    "\n",
    "j = 2 : Since arr[j] <= pivot, do i++ and swap(arr[i], arr[j])\n",
    "i = 1\n",
    "arr[] = {10, 30, 80, 90, 40, 50, 70} // We swap 80 and 30 \n",
    "\n",
    "j = 3 : Since arr[j] > pivot, do nothing\n",
    "// No change in i and arr[]\n",
    "\n",
    "j = 4 : Since arr[j] <= pivot, do i++ and swap(arr[i], arr[j])\n",
    "i = 2\n",
    "arr[] = {10, 30, 40, 90, 80, 50, 70} // 80 and 40 Swapped\n",
    "j = 5 : Since arr[j] <= pivot, do i++ and swap arr[i] with arr[j] \n",
    "i = 3 \n",
    "arr[] = {10, 30, 40, 50, 80, 90, 70} // 90 and 50 Swapped \n",
    "\n",
    "We come out of loop because j is now equal to high-1.\n",
    "Finally we place pivot at correct position by swapping\n",
    "arr[i+1] and arr[high] (or pivot) \n",
    "arr[] = {10, 30, 40, 50, 70, 90, 80} // 80 and 70 Swapped \n",
    "\n",
    "Now 70 is at its correct place. All elements smaller than\n",
    "70 are before it and all elements greater than 70 are after\n",
    "it.\n",
    "```"
   ]
  },
  {
   "cell_type": "code",
   "execution_count": 1,
   "metadata": {},
   "outputs": [],
   "source": [
    "def partition(arr ,left ,right):\n",
    "    \n",
    "    pivot = right\n",
    "    \n",
    "    # initialise i at starting\n",
    "    i = left\n",
    "    for j in range(left ,right):\n",
    "        \n",
    "        # if current is less than,\n",
    "        # pivot swap it with i \n",
    "        if arr[j] < arr[pivot]:\n",
    "            arr[i] ,arr[j] = arr[j] ,arr[i]\n",
    "            i += 1\n",
    "    \n",
    "    # At the end, swap i\n",
    "    # & pivot and return \n",
    "    arr[i] ,arr[pivot] = arr[pivot] ,arr[i]\n",
    "    \n",
    "    return i"
   ]
  },
  {
   "cell_type": "markdown",
   "metadata": {},
   "source": [
    "**Pseudo Code for quickSort**\n",
    "```\n",
    "quickSort(arr[], low, high)\n",
    "{\n",
    "    if (low < high)\n",
    "    {\n",
    "        /* pi is partitioning index, arr[pi] is now\n",
    "           at right place */\n",
    "        pi = partition(arr, low, high);\n",
    "\n",
    "        quickSort(arr, low, pi - 1);  // Before pi\n",
    "        quickSort(arr, pi + 1, high); // After pi\n",
    "    }\n",
    "}\n",
    "```"
   ]
  },
  {
   "cell_type": "code",
   "execution_count": 2,
   "metadata": {},
   "outputs": [],
   "source": [
    "def quickSort(arr ,left ,right):\n",
    "    \n",
    "    if left < right:\n",
    "        pivot = partition(arr ,left ,right)\n",
    "        quickSort(arr ,left ,pivot-1)\n",
    "        quickSort(arr ,pivot+1 ,right)    "
   ]
  },
  {
   "cell_type": "code",
   "execution_count": 3,
   "metadata": {},
   "outputs": [
    {
     "name": "stdout",
     "output_type": "stream",
     "text": [
      "1 3 7 8 9\n"
     ]
    }
   ],
   "source": [
    "arr = [3, 7, 8 ,9 ,1]\n",
    "quickSort(arr ,0 ,len(arr)-1)\n",
    "print(*arr)"
   ]
  },
  {
   "cell_type": "code",
   "execution_count": 4,
   "metadata": {},
   "outputs": [
    {
     "name": "stdout",
     "output_type": "stream",
     "text": [
      "3 4 5 7 8 9\n"
     ]
    }
   ],
   "source": [
    "arr = [3, 4, 5, 8, 9, 7] \n",
    "n = len(arr) \n",
    "quickSort(arr,0,n-1)\n",
    "print(*arr)"
   ]
  },
  {
   "cell_type": "code",
   "execution_count": 5,
   "metadata": {},
   "outputs": [
    {
     "name": "stdout",
     "output_type": "stream",
     "text": [
      "1 5 7 8 9 10\n"
     ]
    }
   ],
   "source": [
    "arr = [10, 7, 8, 9, 1, 5] \n",
    "n = len(arr) \n",
    "quickSort(arr,0,n-1)\n",
    "print(*arr)"
   ]
  },
  {
   "cell_type": "code",
   "execution_count": null,
   "metadata": {},
   "outputs": [],
   "source": []
  }
 ],
 "metadata": {
  "kernelspec": {
   "display_name": "Python 3",
   "language": "python",
   "name": "python3"
  },
  "language_info": {
   "codemirror_mode": {
    "name": "ipython",
    "version": 3
   },
   "file_extension": ".py",
   "mimetype": "text/x-python",
   "name": "python",
   "nbconvert_exporter": "python",
   "pygments_lexer": "ipython3",
   "version": "3.7.3"
  }
 },
 "nbformat": 4,
 "nbformat_minor": 2
}
