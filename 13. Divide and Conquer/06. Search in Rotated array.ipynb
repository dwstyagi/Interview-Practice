{
 "cells": [
  {
   "cell_type": "markdown",
   "metadata": {},
   "source": [
    "**Find Pivot in sorted and Rotated array**<br>\n",
    "Pivot is nothing but starting point of an array\n",
    "\n",
    "```\n",
    "Example: I/P: {73 ,85 ,94 ,21 ,27 ,34 ,47 ,54 ,66}\n",
    "         O/P: 3 (A[3] = 21) which is minimum and starting point of array\n",
    "```"
   ]
  },
  {
   "cell_type": "markdown",
   "metadata": {},
   "source": [
    "**Algorithm**<br>\n",
    "1. Check whether array is rotated or not.\n",
    "2. init start = 0 and end = len - 1\n",
    "3. Repeat the Following till start <= end:<br>\n",
    "   a) find mid.<br>\n",
    "   b) if mid+1 is pivot then break.<br>\n",
    "   c) Now check which part of array is rotated, then look for pivot in that part.<br>"
   ]
  },
  {
   "cell_type": "code",
   "execution_count": 1,
   "metadata": {},
   "outputs": [],
   "source": [
    "def findPivot(arr):\n",
    "    \n",
    "    if arr[0] < arr[-1]:\n",
    "        return 0\n",
    "    \n",
    "    start = 0\n",
    "    end = len(arr) - 1\n",
    "    \n",
    "    while start <= end:\n",
    "        mid = (start+end) // 2\n",
    "        \n",
    "        # check for pivot\n",
    "        if arr[mid] > arr[mid+1]:\n",
    "            return mid+1\n",
    "        \n",
    "        elif arr[start] < arr[mid]:\n",
    "            start = mid+1\n",
    "        \n",
    "        else:\n",
    "            end = mid-1\n",
    "    \n",
    "    return -1\n",
    "        "
   ]
  },
  {
   "cell_type": "code",
   "execution_count": 2,
   "metadata": {},
   "outputs": [
    {
     "data": {
      "text/plain": [
       "3"
      ]
     },
     "execution_count": 2,
     "metadata": {},
     "output_type": "execute_result"
    }
   ],
   "source": [
    "arr = [73 ,85 ,94 ,21 ,27 ,34 ,47 ,54 ,66]\n",
    "findPivot(arr)"
   ]
  },
  {
   "cell_type": "code",
   "execution_count": 3,
   "metadata": {},
   "outputs": [
    {
     "data": {
      "text/plain": [
       "0"
      ]
     },
     "execution_count": 3,
     "metadata": {},
     "output_type": "execute_result"
    }
   ],
   "source": [
    "arr = [21 ,27 ,34 ,47 ,54 ,66, 73 ,85 ,94]\n",
    "findPivot(arr)"
   ]
  },
  {
   "cell_type": "markdown",
   "metadata": {},
   "source": [
    "**Search in sorted and rotated array**<br>\n",
    "<ul>\n",
    "<li>Find Pivot Index.</li>\n",
    "<li>Divide array into 2 array(0 ,pivot) ,(pivot+1 ,end).</li>\n",
    "<li>Find where our number lies.</li>\n",
    "<li>Use Binary search to find search element.</li>\n",
    "</ul>"
   ]
  },
  {
   "cell_type": "code",
   "execution_count": 4,
   "metadata": {},
   "outputs": [],
   "source": [
    "def binarySearch(arr ,start ,end ,k):\n",
    "    \n",
    "    while start <= end:\n",
    "        mid = (start+end) // 2\n",
    "        \n",
    "        if arr[mid] == k:\n",
    "            return mid\n",
    "        \n",
    "        elif arr[mid] < k:\n",
    "            start = mid+1\n",
    "        \n",
    "        else:\n",
    "            end = mid-1\n",
    "    \n",
    "    return -1    "
   ]
  },
  {
   "cell_type": "code",
   "execution_count": 5,
   "metadata": {},
   "outputs": [],
   "source": [
    "def findElement(arr ,k):\n",
    "    \n",
    "    if not len(arr):\n",
    "        return -1\n",
    "    \n",
    "    #find pivot index\n",
    "    pivot = findPivot(arr)\n",
    "    \n",
    "    # Divide array into 2 halves\n",
    "    if pivot > 0 and arr[0] <= k <= arr[pivot-1]:\n",
    "        return binarySearch(arr ,0 ,pivot-1 ,k)\n",
    "    else:\n",
    "        return binarySearch(arr ,pivot ,len(arr)-1 ,k)"
   ]
  },
  {
   "cell_type": "code",
   "execution_count": 6,
   "metadata": {},
   "outputs": [
    {
     "data": {
      "text/plain": [
       "7"
      ]
     },
     "execution_count": 6,
     "metadata": {},
     "output_type": "execute_result"
    }
   ],
   "source": [
    "arr = [73 ,85 ,94 ,21 ,27 ,34 ,47 ,54 ,66]\n",
    "findElement(arr ,54)"
   ]
  },
  {
   "cell_type": "code",
   "execution_count": null,
   "metadata": {},
   "outputs": [],
   "source": []
  }
 ],
 "metadata": {
  "kernelspec": {
   "display_name": "Python 3",
   "language": "python",
   "name": "python3"
  },
  "language_info": {
   "codemirror_mode": {
    "name": "ipython",
    "version": 3
   },
   "file_extension": ".py",
   "mimetype": "text/x-python",
   "name": "python",
   "nbconvert_exporter": "python",
   "pygments_lexer": "ipython3",
   "version": "3.7.3"
  }
 },
 "nbformat": 4,
 "nbformat_minor": 2
}