{
 "cells": [
  {
   "cell_type": "markdown",
   "metadata": {},
   "source": [
    "All elements before the **required element** have first occurrence at even index (0, 2, ..) and next occurrence at odd index (1, 3, …). And all elements after the required element have first occurrence at odd index and next occurrence at even index.<br>\n",
    "\n",
    "**Algorithm**<br>\n",
    "1) Find the middle index, say ‘mid’.<br>\n",
    "2) If ‘mid’ is even, then compare arr[mid] and arr[mid + 1]. If both are same, then the required<br> ....element after ‘mid’ else before mid.<br>\n",
    "3) If ‘mid’ is odd, then compare arr[mid] and arr[mid – 1]. If both are same, then the required<br> ....element after ‘mid’ else before mid.<br>"
   ]
  },
  {
   "cell_type": "code",
   "execution_count": 1,
   "metadata": {},
   "outputs": [],
   "source": [
    "def findEle(arr):\n",
    "    \n",
    "    left = 0\n",
    "    right = len(arr)-1\n",
    "    \n",
    "    while left <= right:\n",
    "        \n",
    "        if left == right:\n",
    "            return arr[left]\n",
    "        \n",
    "        mid = left + (right - left) // 2\n",
    "        \n",
    "        # middle is even\n",
    "        if mid % 2 == 0:\n",
    "            if arr[mid] == arr[mid+1]:\n",
    "                left = mid+2\n",
    "            else:\n",
    "                right = mid\n",
    "        \n",
    "        else:\n",
    "            if arr[mid] == arr[mid-1]:\n",
    "                left = mid+1\n",
    "            else:\n",
    "                right = mid-1\n",
    "    \n",
    "    if left > right:\n",
    "        return -1"
   ]
  },
  {
   "cell_type": "code",
   "execution_count": 2,
   "metadata": {},
   "outputs": [
    {
     "data": {
      "text/plain": [
       "2"
      ]
     },
     "execution_count": 2,
     "metadata": {},
     "output_type": "execute_result"
    }
   ],
   "source": [
    "arr = [1, 1, 2, 4, 4, 5, 5, 6, 6]\n",
    "findEle(arr)"
   ]
  },
  {
   "cell_type": "code",
   "execution_count": 3,
   "metadata": {},
   "outputs": [
    {
     "data": {
      "text/plain": [
       "-1"
      ]
     },
     "execution_count": 3,
     "metadata": {},
     "output_type": "execute_result"
    }
   ],
   "source": [
    "arr = [1, 1, 2, 2, 4, 4, 5, 5, 6, 6]\n",
    "findEle(arr)"
   ]
  },
  {
   "cell_type": "code",
   "execution_count": 4,
   "metadata": {},
   "outputs": [
    {
     "data": {
      "text/plain": [
       "5"
      ]
     },
     "execution_count": 4,
     "metadata": {},
     "output_type": "execute_result"
    }
   ],
   "source": [
    "arr = [1, 1, 2, 2, 4, 4, 5, 6, 6]\n",
    "findEle(arr)"
   ]
  },
  {
   "cell_type": "code",
   "execution_count": null,
   "metadata": {},
   "outputs": [],
   "source": []
  }
 ],
 "metadata": {
  "kernelspec": {
   "display_name": "Python 3",
   "language": "python",
   "name": "python3"
  },
  "language_info": {
   "codemirror_mode": {
    "name": "ipython",
    "version": 3
   },
   "file_extension": ".py",
   "mimetype": "text/x-python",
   "name": "python",
   "nbconvert_exporter": "python",
   "pygments_lexer": "ipython3",
   "version": "3.7.3"
  }
 },
 "nbformat": 4,
 "nbformat_minor": 2
}