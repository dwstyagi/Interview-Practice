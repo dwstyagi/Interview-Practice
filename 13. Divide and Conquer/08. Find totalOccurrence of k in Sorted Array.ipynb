{
 "metadata": {
  "language_info": {
   "codemirror_mode": {
    "name": "ipython",
    "version": 3
   },
   "file_extension": ".py",
   "mimetype": "text/x-python",
   "name": "python",
   "nbconvert_exporter": "python",
   "pygments_lexer": "ipython3",
   "version": "3.9.5"
  },
  "orig_nbformat": 4,
  "kernelspec": {
   "name": "python3",
   "display_name": "Python 3.9.5 64-bit"
  },
  "interpreter": {
   "hash": "63fd5069d213b44bf678585dea6b12cceca9941eaf7f819626cde1f2670de90d"
  }
 },
 "nbformat": 4,
 "nbformat_minor": 2,
 "cells": [
  {
   "source": [
    "## Count number of occurrences (or frequency) in a sorted array"
   ],
   "cell_type": "markdown",
   "metadata": {}
  },
  {
   "source": [
    "Given a sorted array arr[] and a number x, write a function that counts the occurrences of x in arr[]. Expected time complexity is O(Logn)\n",
    "\n",
    "```\n",
    "  Input: arr[] = {1, 1, 2, 2, 2, 2, 3,},   x = 2\n",
    "  Output: 4 // x (or 2) occurs 4 times in arr[]\n",
    "\n",
    "  Input: arr[] = {1, 1, 2, 2, 2, 2, 3,},   x = 3\n",
    "  Output: 1 \n",
    "\n",
    "  Input: arr[] = {1, 1, 2, 2, 2, 2, 3,},   x = 1\n",
    "  Output: 2 \n",
    "\n",
    "  Input: arr[] = {1, 1, 2, 2, 2, 2, 3,},   x = 4\n",
    "  Output: -1 // 4 doesn't occur in arr[] \n",
    "```"
   ],
   "cell_type": "markdown",
   "metadata": {}
  },
  {
   "source": [
    "**Method 1 (Linear Search)** <br> \n",
    "Linearly search for x, count the occurrences of x and return the count. "
   ],
   "cell_type": "markdown",
   "metadata": {}
  },
  {
   "source": [
    "def countOccurrences(arr, x):\n",
    "    res = 0\n",
    "    for i in range(len(arr)):\n",
    "        if x == arr[i]:\n",
    "            res += 1\n",
    "    return res"
   ],
   "cell_type": "code",
   "metadata": {},
   "execution_count": 3,
   "outputs": []
  },
  {
   "cell_type": "code",
   "execution_count": 4,
   "metadata": {},
   "outputs": [
    {
     "output_type": "stream",
     "name": "stdout",
     "text": [
      "4\n"
     ]
    }
   ],
   "source": [
    "# code\n",
    "arr = [1, 2, 2, 2, 2, 3, 4, 7 ,8 ,8]\n",
    "x = 2\n",
    "print (countOccurrences(arr, x))"
   ]
  },
  {
   "source": [
    "*Method 2 (Better using Binary Search)*<br> \n",
    "We first find an occurrence using binary search. Then we match toward left and right sides of the matched the found index."
   ],
   "cell_type": "markdown",
   "metadata": {}
  },
  {
   "cell_type": "code",
   "execution_count": 5,
   "metadata": {},
   "outputs": [],
   "source": [
    "def binarySearch(arr, l, r, x):\n",
    "\tif (r < l):\n",
    "\t\treturn -1\n",
    "\n",
    "\tmid = l + (r - l) // 2\n",
    "\n",
    "\t# If the element is present\n",
    "\t# at the middle itself\n",
    "\tif arr[mid] == x:\n",
    "\t\treturn mid\n",
    "\n",
    "\t# If element is smaller than\n",
    "\t# mid, then it can only be\n",
    "\t# present in left subarray\n",
    "\tif arr[mid] > x:\n",
    "\t\treturn binarySearch(arr, l, mid - 1, x)\n",
    "\n",
    "\t# Else the element\n",
    "\t# can only be present\n",
    "\t# in right subarray\n",
    "\treturn binarySearch(arr, mid + 1, r, x)\n",
    "\n",
    "# Returns number of times\n",
    "# x occurs in arr[0..n-1]\n",
    "def countOccurrences(arr, n, x):\n",
    "\tind = binarySearch(arr, 0, n - 1, x)\n",
    "\n",
    "\t# If element is not present\n",
    "\tif ind == -1:\n",
    "\t\treturn 0\n",
    "\n",
    "\t# Count elements\n",
    "\t# on left side.\n",
    "\tcount = 1\n",
    "\tleft = ind - 1\n",
    "\twhile (left >= 0 and\n",
    "\t\tarr[left] == x):\n",
    "\t\tcount += 1\n",
    "\t\tleft -= 1\n",
    "\n",
    "\t# Count elements on\n",
    "\t# right side.\n",
    "\tright = ind + 1\n",
    "\twhile (right < n and\n",
    "\t\tarr[right] == x):\n",
    "\t\tcount += 1\n",
    "\t\tright += 1\n",
    "\n",
    "\treturn count"
   ]
  },
  {
   "cell_type": "code",
   "execution_count": 6,
   "metadata": {},
   "outputs": [
    {
     "output_type": "stream",
     "name": "stdout",
     "text": [
      "4\n"
     ]
    }
   ],
   "source": [
    "# Driver code\n",
    "arr = [ 1, 2, 2, 2, 2, 3, 4, 7, 8, 8 ]\n",
    "n = len(arr)\n",
    "x = 2\n",
    "print(countOccurrences(arr, n, x))"
   ]
  },
  {
   "source": [
    "*Method 3 (Best using Improved Binary Search)* <br>\n",
    "<li>Use Binary search to get index of the first occurrence of x in arr[]. Let the index of the first occurrence be i.</li>\n",
    "<li>Use Binary search to get index of the last occurrence of x in arr[]. Let the index of the last occurrence be j.</li> \n",
    "<li>Return (j – i + 1)</li>"
   ],
   "cell_type": "markdown",
   "metadata": {}
  },
  {
   "cell_type": "code",
   "execution_count": 7,
   "metadata": {},
   "outputs": [],
   "source": [
    "def totalOccurrence(arr, k):\n",
    "    left = 0\n",
    "    right = len(arr) - 1\n",
    "    first = binarySearch(arr, left, right, k, 0)\n",
    "\n",
    "    if not len(arr) or first == -1:\n",
    "        return -1\n",
    "    last = binarySearch(arr, left, right, k, 1)\n",
    "\n",
    "    return last - first + 1"
   ]
  },
  {
   "cell_type": "code",
   "execution_count": 8,
   "metadata": {},
   "outputs": [],
   "source": [
    "def binarySearch(arr, left, right, k, search):\n",
    "\n",
    "    if left <= right:\n",
    "        mid = left + (right - left) // 2\n",
    "        if arr[mid] == k:\n",
    "            \n",
    "            if not search:  ## First Occurrence\n",
    "                if mid > 0 and arr[mid-1] == k:\n",
    "                    return binarySearch(arr, left, mid-1, k ,search)\n",
    "            \n",
    "            if search: ## Last Occurrence\n",
    "                if mid < len(arr)-1 and arr[mid+1] == k:\n",
    "                    return binarySearch(arr, mid+1, right, k ,search)\n",
    "            \n",
    "            return mid\n",
    "\n",
    "        elif arr[mid] < k:\n",
    "            return binarySearch(arr, mid+1, right, k ,search)\n",
    "        \n",
    "        else:\n",
    "            return binarySearch(arr, left, mid-1, k ,search)\n",
    "    else:\n",
    "        return -1"
   ]
  },
  {
   "cell_type": "code",
   "execution_count": 9,
   "metadata": {},
   "outputs": [
    {
     "output_type": "stream",
     "name": "stdout",
     "text": [
      "4\n"
     ]
    }
   ],
   "source": [
    "# Driver code\n",
    "arr = [ 1, 2, 2, 2, 2, 3, 4, 7, 8, 8 ]\n",
    "n = len(arr)\n",
    "k = 2\n",
    "print(totalOccurrence(arr, k))"
   ]
  },
  {
   "cell_type": "code",
   "execution_count": null,
   "metadata": {},
   "outputs": [],
   "source": []
  }
 ]
}