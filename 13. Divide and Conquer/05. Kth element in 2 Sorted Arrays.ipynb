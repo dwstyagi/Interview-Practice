{
 "cells": [
  {
   "cell_type": "markdown",
   "metadata": {},
   "source": [
    "Given two sorted arrays of size m and n respectively, you are tasked with finding the element that would be at the k’th position of the final sorted array.\n",
    "```\n",
    "Input : Array 1 - 2 3 6 7 9\n",
    "        Array 2 - 1 4 8 10\n",
    "        k = 5\n",
    "Output : 6\n",
    "Explanation: The final sorted array would be -\n",
    "1, 2, 3, 4, 6, 7, 8, 9, 10\n",
    "The 5th element of this array is 6.\n",
    "Input : Array 1 - 100 112 256 349 770\n",
    "        Array 2 - 72 86 113 119 265 445 892\n",
    "        k = 7\n",
    "Output : 256\n",
    "Explanation: Final sorted array is -\n",
    "72, 86, 100, 112, 113, 119, 256, 265, 349, 445, 770, 892\n",
    "7th element of this array is 256.\n",
    "```"
   ]
  },
  {
   "cell_type": "code",
   "execution_count": 7,
   "metadata": {},
   "outputs": [],
   "source": [
    "def KthElement(arr1, arr2, k):\n",
    "    \n",
    "    if (k > len(arr1) + len(arr2)):\n",
    "        return -1\n",
    "    \n",
    "    if not len(arr1):\n",
    "        return arr2[k-1]\n",
    "    \n",
    "    if not len(arr2):\n",
    "        return arr1[k-1]\n",
    "    \n",
    "    i = 0\n",
    "    j = 0\n",
    "\n",
    "    count = 0\n",
    "\n",
    "    while (i < len(arr1) and j < len(arr2)):\n",
    "\n",
    "        if (count == k - 1):\n",
    "            return min(arr1[i], arr2[j])\n",
    "\n",
    "        if arr1[i] < arr2[j]:\n",
    "            i += 1\n",
    "        else:\n",
    "            j += 1\n",
    "\n",
    "        count += 1\n",
    "    \n",
    "    while i < len(arr1):\n",
    "        if (count == k - 1):\n",
    "            return arr1[i]\n",
    "        \n",
    "        count += 1\n",
    "        i += 1\n",
    "    \n",
    "    while j < len(arr2):\n",
    "        if (count == k - 1):\n",
    "            return arr2[j]\n",
    "        \n",
    "        count += 1\n",
    "        j += 1"
   ]
  },
  {
   "cell_type": "code",
   "execution_count": 8,
   "metadata": {},
   "outputs": [
    {
     "output_type": "execute_result",
     "data": {
      "text/plain": [
       "8"
      ]
     },
     "metadata": {},
     "execution_count": 8
    }
   ],
   "source": [
    "arr1 = [2,3]\n",
    "arr2 = [1,4,8,10]\n",
    "k = 5\n",
    "KthElement(arr1,arr2,k)"
   ]
  },
  {
   "cell_type": "code",
   "execution_count": null,
   "metadata": {},
   "outputs": [],
   "source": []
  }
 ],
 "metadata": {
  "kernelspec": {
   "name": "python3",
   "display_name": "Python 3.9.5 64-bit"
  },
  "language_info": {
   "codemirror_mode": {
    "name": "ipython",
    "version": 3
   },
   "file_extension": ".py",
   "mimetype": "text/x-python",
   "name": "python",
   "nbconvert_exporter": "python",
   "pygments_lexer": "ipython3",
   "version": "3.9.5"
  },
  "interpreter": {
   "hash": "63fd5069d213b44bf678585dea6b12cceca9941eaf7f819626cde1f2670de90d"
  }
 },
 "nbformat": 4,
 "nbformat_minor": 2
}