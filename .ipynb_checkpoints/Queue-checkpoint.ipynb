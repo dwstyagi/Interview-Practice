{
 "cells": [
  {
   "cell_type": "code",
   "execution_count": 1,
   "metadata": {},
   "outputs": [],
   "source": [
    "class Queue:\n",
    "    def __init__(self, capacity):\n",
    "        self.capacity = capacity\n",
    "        self.queue = [0 for i in range(self.capacity)]\n",
    "        self.front = self.rear = 0\n",
    "    \n",
    "    def isEmpty(self):\n",
    "        return self.front == self.rear\n",
    "    \n",
    "    def isFull(self):\n",
    "        return self.rear == self.capacity\n",
    "    \n",
    "    def EnQueue(self, data):\n",
    "        if self.isFull():\n",
    "            return -1\n",
    "        else:\n",
    "            self.queue[self.rear] = data\n",
    "            self.rear += 1\n",
    "    \n",
    "    def DeQueue(self):\n",
    "        if self.isEmpty():\n",
    "            return -1\n",
    "        else:\n",
    "            temp = self.queue[self.front]\n",
    "            self.front = (self.front+1) % self.capacity\n",
    "            \n",
    "            if self.front == 0:\n",
    "                self.rear = 0\n",
    "            \n",
    "            print(temp)\n",
    "            return\n",
    "    \n",
    "    def printQueue(self):\n",
    "        if self.isEmpty():\n",
    "            print('Queue is Empty')\n",
    "            return\n",
    "        for i in range(self.front,self.rear):\n",
    "            print(self.queue[i],end=' ')\n",
    "        "
   ]
  },
  {
   "cell_type": "code",
   "execution_count": 6,
   "metadata": {},
   "outputs": [],
   "source": [
    "class Stack:\n",
    "    def __init__(self):\n",
    "        self.stack = []\n",
    "    \n",
    "    def push(self, data):\n",
    "        self.stack.append(data)\n",
    "    \n",
    "    def pop(self):\n",
    "        if not len(self.stack):\n",
    "            print('Stack is Empty')\n",
    "            return \n",
    "        else:\n",
    "            self.stack.pop()\n",
    "    \n",
    "    def show(self):\n",
    "        if not len(self.stack):\n",
    "            print('Stack is Empty')\n",
    "            return \n",
    "        else:\n",
    "            for i in range(len(self.stack)-1,-1,-1):\n",
    "                print(self.stack[i])"
   ]
  },
  {
   "cell_type": "code",
   "execution_count": 7,
   "metadata": {},
   "outputs": [],
   "source": [
    "stack = Stack()"
   ]
  },
  {
   "cell_type": "code",
   "execution_count": 8,
   "metadata": {},
   "outputs": [
    {
     "name": "stdout",
     "output_type": "stream",
     "text": [
      "4\n",
      "3\n",
      "2\n",
      "1\n"
     ]
    }
   ],
   "source": [
    "lis = [1,2,3,4]\n",
    "for i in lis:\n",
    "    stack.push(i)\n",
    "stack.show()"
   ]
  },
  {
   "cell_type": "code",
   "execution_count": 17,
   "metadata": {},
   "outputs": [
    {
     "name": "stdout",
     "output_type": "stream",
     "text": [
      "Stack is Empty\n"
     ]
    }
   ],
   "source": [
    "stack.pop()"
   ]
  },
  {
   "cell_type": "code",
   "execution_count": 16,
   "metadata": {},
   "outputs": [
    {
     "name": "stdout",
     "output_type": "stream",
     "text": [
      "Stack is Empty\n"
     ]
    }
   ],
   "source": [
    "stack.show()"
   ]
  },
  {
   "cell_type": "code",
   "execution_count": 44,
   "metadata": {},
   "outputs": [],
   "source": [
    "class QueueUsingStack:\n",
    "    \n",
    "    def __init__(self):\n",
    "        self.s1 = []\n",
    "        self.s2 = []\n",
    "    \n",
    "    def EnQueue(self, data):\n",
    "        self.s1.append(data)\n",
    "        return\n",
    "    \n",
    "    def DeQueue(self):\n",
    "        \n",
    "        if len(self.s2) == 0:\n",
    "            if len(self.s1) == 0:\n",
    "                return -1\n",
    "            else:\n",
    "                while len(self.s1) != 0:\n",
    "                    self.s2.append(self.s1[-1])\n",
    "                    self.s1.pop()\n",
    "                \n",
    "                return self.s2.pop()\n",
    "        else:\n",
    "            return self.s2.pop()\n",
    "            \n",
    "        "
   ]
  },
  {
   "cell_type": "code",
   "execution_count": 55,
   "metadata": {},
   "outputs": [],
   "source": [
    "q = QueueUsingStack()\n",
    "lis = [1,2,3,4,5]\n",
    "for i in lis:\n",
    "    q.EnQueue(i)"
   ]
  },
  {
   "cell_type": "code",
   "execution_count": 56,
   "metadata": {},
   "outputs": [
    {
     "data": {
      "text/plain": [
       "1"
      ]
     },
     "execution_count": 56,
     "metadata": {},
     "output_type": "execute_result"
    }
   ],
   "source": [
    "q.DeQueue()"
   ]
  },
  {
   "cell_type": "code",
   "execution_count": 50,
   "metadata": {},
   "outputs": [],
   "source": [
    "lis = [6,7]\n",
    "for i in lis:\n",
    "    q.EnQueue(i)"
   ]
  },
  {
   "cell_type": "code",
   "execution_count": 2,
   "metadata": {},
   "outputs": [],
   "source": [
    "'''\n",
    "push(s, x) operation’s step are described below: \n",
    "  Enqueue x to q2\n",
    "  One by one dequeue everything from q1 and enqueue to q2.\n",
    "  Swap the names of q1 and q2 \n",
    "pop(s) operation’s function are described below: \n",
    "  Dequeue an item from q1 and return it.\n",
    "'''\n",
    "from queue import Queue\n",
    "class stackUsingQueue:\n",
    "    \n",
    "    def __init__(self):\n",
    "        \n",
    "        self.q1 = Queue()\n",
    "        self.q2 = Queue()\n",
    "        self.size = 0\n",
    "    \n",
    "    def push(self, data):\n",
    "        self.size += 1        \n",
    "        self.q2.put(data)\n",
    "        \n",
    "        while (not self.q1.empty()):\n",
    "            self.q2.put(self.q1[0])\n",
    "            self.q1.get()\n",
    "        \n",
    "        self.q1, self.q2 = self.q2, self.q1\n",
    "    \n",
    "    def pop(self):\n",
    "                \n",
    "        if self.q1.empty():\n",
    "            return 'stack empty'\n",
    "        \n",
    "        self.size -= 1\n",
    "        x = self.q1.get()\n",
    "        return x\n",
    "    \n",
    "    def size(self):\n",
    "        return self.size\n",
    "        "
   ]
  },
  {
   "cell_type": "code",
   "execution_count": 3,
   "metadata": {},
   "outputs": [
    {
     "ename": "AttributeError",
     "evalue": "'Queue' object has no attribute 'append'",
     "output_type": "error",
     "traceback": [
      "\u001b[1;31m---------------------------------------------------------------------------\u001b[0m",
      "\u001b[1;31mAttributeError\u001b[0m                            Traceback (most recent call last)",
      "\u001b[1;32m<ipython-input-3-d6b8f1bd8bcf>\u001b[0m in \u001b[0;36m<module>\u001b[1;34m\u001b[0m\n\u001b[0;32m      2\u001b[0m \u001b[0mlis\u001b[0m \u001b[1;33m=\u001b[0m \u001b[1;33m[\u001b[0m\u001b[1;36m1\u001b[0m\u001b[1;33m,\u001b[0m\u001b[1;36m2\u001b[0m\u001b[1;33m,\u001b[0m\u001b[1;36m3\u001b[0m\u001b[1;33m,\u001b[0m\u001b[1;36m4\u001b[0m\u001b[1;33m,\u001b[0m\u001b[1;36m5\u001b[0m\u001b[1;33m]\u001b[0m\u001b[1;33m\u001b[0m\u001b[1;33m\u001b[0m\u001b[0m\n\u001b[0;32m      3\u001b[0m \u001b[1;32mfor\u001b[0m \u001b[0mi\u001b[0m \u001b[1;32min\u001b[0m \u001b[0mlis\u001b[0m\u001b[1;33m:\u001b[0m\u001b[1;33m\u001b[0m\u001b[1;33m\u001b[0m\u001b[0m\n\u001b[1;32m----> 4\u001b[1;33m     \u001b[0ms\u001b[0m\u001b[1;33m.\u001b[0m\u001b[0mpush\u001b[0m\u001b[1;33m(\u001b[0m\u001b[0mi\u001b[0m\u001b[1;33m)\u001b[0m\u001b[1;33m\u001b[0m\u001b[1;33m\u001b[0m\u001b[0m\n\u001b[0m",
      "\u001b[1;32m<ipython-input-2-f5ebba244e98>\u001b[0m in \u001b[0;36mpush\u001b[1;34m(self, data)\u001b[0m\n\u001b[0;32m     21\u001b[0m \u001b[1;33m\u001b[0m\u001b[0m\n\u001b[0;32m     22\u001b[0m         \u001b[1;32mwhile\u001b[0m \u001b[1;33m(\u001b[0m\u001b[1;32mnot\u001b[0m \u001b[0mself\u001b[0m\u001b[1;33m.\u001b[0m\u001b[0mq1\u001b[0m\u001b[1;33m.\u001b[0m\u001b[0mempty\u001b[0m\u001b[1;33m(\u001b[0m\u001b[1;33m)\u001b[0m\u001b[1;33m)\u001b[0m\u001b[1;33m:\u001b[0m\u001b[1;33m\u001b[0m\u001b[1;33m\u001b[0m\u001b[0m\n\u001b[1;32m---> 23\u001b[1;33m             \u001b[0mself\u001b[0m\u001b[1;33m.\u001b[0m\u001b[0mq2\u001b[0m\u001b[1;33m.\u001b[0m\u001b[0mappend\u001b[0m\u001b[1;33m(\u001b[0m\u001b[0mself\u001b[0m\u001b[1;33m.\u001b[0m\u001b[0mq1\u001b[0m\u001b[1;33m[\u001b[0m\u001b[1;36m0\u001b[0m\u001b[1;33m]\u001b[0m\u001b[1;33m)\u001b[0m\u001b[1;33m\u001b[0m\u001b[1;33m\u001b[0m\u001b[0m\n\u001b[0m\u001b[0;32m     24\u001b[0m             \u001b[0mself\u001b[0m\u001b[1;33m.\u001b[0m\u001b[0mq1\u001b[0m\u001b[1;33m.\u001b[0m\u001b[0mget\u001b[0m\u001b[1;33m(\u001b[0m\u001b[1;33m)\u001b[0m\u001b[1;33m\u001b[0m\u001b[1;33m\u001b[0m\u001b[0m\n\u001b[0;32m     25\u001b[0m \u001b[1;33m\u001b[0m\u001b[0m\n",
      "\u001b[1;31mAttributeError\u001b[0m: 'Queue' object has no attribute 'append'"
     ]
    }
   ],
   "source": [
    "s = stackUsingQueue()\n",
    "lis = [1,2,3,4,5]\n",
    "for i in lis:\n",
    "    s.push(i)"
   ]
  },
  {
   "cell_type": "code",
   "execution_count": null,
   "metadata": {},
   "outputs": [],
   "source": []
  }
 ],
 "metadata": {
  "kernelspec": {
   "display_name": "Python 3",
   "language": "python",
   "name": "python3"
  },
  "language_info": {
   "codemirror_mode": {
    "name": "ipython",
    "version": 3
   },
   "file_extension": ".py",
   "mimetype": "text/x-python",
   "name": "python",
   "nbconvert_exporter": "python",
   "pygments_lexer": "ipython3",
   "version": "3.7.4"
  }
 },
 "nbformat": 4,
 "nbformat_minor": 2
}
