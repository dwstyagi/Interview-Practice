{
 "cells": [
  {
   "cell_type": "code",
   "execution_count": 1,
   "metadata": {},
   "outputs": [],
   "source": [
    "class Node: \n",
    "    def __init__(self, data):\n",
    "        self.data = data\n",
    "        self.right = None\n",
    "        self.down = None\n",
    "\n",
    "class LinkedList:\n",
    "    def __init__(self):\n",
    "        self.head = None    "
   ]
  },
  {
   "cell_type": "code",
   "execution_count": 2,
   "metadata": {},
   "outputs": [],
   "source": [
    " def insert(head ,data):\n",
    "        node = Node(data)\n",
    "        node.down = head\n",
    "        head = node\n",
    "        return head\n",
    "    "
   ]
  },
  {
   "cell_type": "markdown",
   "metadata": {},
   "source": [
    "```\n",
    "Let us create the following linked list \n",
    "    5 -> 10 -> 19 -> 28 \n",
    "    |    |     |     | \n",
    "    V    V     V     V \n",
    "    7    20    22    35 \n",
    "    |          |     | \n",
    "    V          V     V \n",
    "    8          50    40 \n",
    "    |                | \n",
    "    V                V \n",
    "    30               45 \n",
    "\n",
    "```"
   ]
  },
  {
   "cell_type": "code",
   "execution_count": 3,
   "metadata": {},
   "outputs": [],
   "source": [
    "L = LinkedList()\n",
    "  \n",
    "L.head = insert(L.head, 30); \n",
    "L.head = insert(L.head, 8); \n",
    "L.head = insert(L.head, 7); \n",
    "L.head = insert(L.head, 5); \n",
    "\n",
    "L.head.right = insert(L.head.right, 20); \n",
    "L.head.right = insert(L.head.right, 10); \n",
    "\n",
    "L.head.right.right = insert(L.head.right.right, 50); \n",
    "L.head.right.right = insert(L.head.right.right, 22); \n",
    "L.head.right.right = insert(L.head.right.right, 19); \n",
    "\n",
    "L.head.right.right.right = insert(L.head.right.right.right, 45); \n",
    "L.head.right.right.right = insert(L.head.right.right.right, 40); \n",
    "L.head.right.right.right = insert(L.head.right.right.right, 35); \n",
    "L.head.right.right.right = insert(L.head.right.right.right, 20); \n"
   ]
  },
  {
   "cell_type": "markdown",
   "metadata": {},
   "source": [
    "```\n",
    "Let us create the following linked list \n",
    "    5 -> 10 -> 19 -> 28 \n",
    "    |    |     |     | \n",
    "    V    V     V     V \n",
    "    7    20    22    35 \n",
    "    |          |     | \n",
    "    V          V     V \n",
    "    8          50    40 \n",
    "    |                | \n",
    "    V                V \n",
    "    30               45 \n",
    "\n",
    "```"
   ]
  },
  {
   "cell_type": "code",
   "execution_count": 4,
   "metadata": {},
   "outputs": [],
   "source": [
    "def flatten(head) :\n",
    "    \n",
    "    if head is None:\n",
    "        return \n",
    "    \n",
    "    head.right = flatten(head.right)\n",
    "    head = merge(head ,head.right)\n",
    "    \n",
    "    return head"
   ]
  },
  {
   "cell_type": "code",
   "execution_count": 5,
   "metadata": {},
   "outputs": [],
   "source": [
    "def merge(head_a ,head_b):\n",
    "    \n",
    "    if head_a is None:\n",
    "        return head_b\n",
    "    \n",
    "    if head_b is None:\n",
    "        return head_a\n",
    "    \n",
    "    if head_a.data < head_b.data:\n",
    "        temp = head_a\n",
    "        temp.down = merge(head_a.down ,head_b)\n",
    "    else:\n",
    "        temp = head_b\n",
    "        temp.down = merge(head_a ,head_b.down)\n",
    "    \n",
    "    return temp\n",
    "    "
   ]
  },
  {
   "cell_type": "code",
   "execution_count": 6,
   "metadata": {},
   "outputs": [],
   "source": [
    "head = flatten(L.head)"
   ]
  },
  {
   "cell_type": "code",
   "execution_count": 7,
   "metadata": {},
   "outputs": [],
   "source": [
    "def printList(head):\n",
    "    if head is None:\n",
    "        return \n",
    "    \n",
    "    temp = head\n",
    "    while temp.down is not None:\n",
    "        print(temp.data,end=\" -> \")\n",
    "        temp = temp.down\n",
    "    \n",
    "    print(temp.data)"
   ]
  },
  {
   "cell_type": "code",
   "execution_count": 8,
   "metadata": {},
   "outputs": [
    {
     "name": "stdout",
     "output_type": "stream",
     "text": [
      "5 -> 7 -> 8 -> 10 -> 19 -> 20 -> 20 -> 22 -> 30 -> 35 -> 40 -> 45 -> 50\n"
     ]
    }
   ],
   "source": [
    "printList(head)"
   ]
  },
  {
   "cell_type": "code",
   "execution_count": null,
   "metadata": {},
   "outputs": [],
   "source": []
  }
 ],
 "metadata": {
  "kernelspec": {
   "display_name": "Python 3",
   "language": "python",
   "name": "python3"
  },
  "language_info": {
   "codemirror_mode": {
    "name": "ipython",
    "version": 3
   },
   "file_extension": ".py",
   "mimetype": "text/x-python",
   "name": "python",
   "nbconvert_exporter": "python",
   "pygments_lexer": "ipython3",
   "version": "3.8.5"
  }
 },
 "nbformat": 4,
 "nbformat_minor": 2
}
