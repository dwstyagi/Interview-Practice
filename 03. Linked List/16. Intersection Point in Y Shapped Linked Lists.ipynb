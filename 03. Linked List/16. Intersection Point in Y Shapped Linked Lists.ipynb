{
 "cells": [
  {
   "cell_type": "code",
   "execution_count": 1,
   "metadata": {},
   "outputs": [],
   "source": [
    "class Node:\n",
    "    def __init__(self ,data):\n",
    "        self.data = data\n",
    "        self.next = None"
   ]
  },
  {
   "cell_type": "code",
   "execution_count": 2,
   "metadata": {},
   "outputs": [],
   "source": [
    "class LinkedList:\n",
    "    def __init__(self):\n",
    "        self.head = None\n",
    "        \n",
    "    def insert(self, value):\n",
    "        if self.head == None:\n",
    "            self.head = Node(value)\n",
    "        else:\n",
    "            new_node = Node(value)\n",
    "            temp = self.head\n",
    "            while temp.next:\n",
    "                temp = temp.next\n",
    "            temp.next = new_node"
   ]
  },
  {
   "cell_type": "code",
   "execution_count": 3,
   "metadata": {},
   "outputs": [],
   "source": [
    "def printList(head):  \n",
    "    if head == None:\n",
    "        return 0\n",
    "\n",
    "    else:\n",
    "        temp = head\n",
    "        while temp.next:\n",
    "            print(temp.data,end=\" -> \")\n",
    "            temp = temp.next\n",
    "        print(temp.data)"
   ]
  },
  {
   "cell_type": "code",
   "execution_count": 9,
   "metadata": {},
   "outputs": [],
   "source": [
    "ll_1 = LinkedList()    \n",
    "arr = [1,2,3,4,5]\n",
    "for i in arr:\n",
    "    ll_1.insert(i)\n",
    "printList(ll_1.head)"
   ]
  },
  {
   "cell_type": "code",
   "execution_count": 10,
   "metadata": {},
   "outputs": [],
   "source": [
    "intersect_a.head = Node(1)\n",
    "second = Node(2)\n",
    "third = Node(3)\n",
    "four = Node(4)\n",
    "\n",
    "intersect_b.head = Node(5)"
   ]
  },
  {
   "cell_type": "code",
   "execution_count": 11,
   "metadata": {},
   "outputs": [],
   "source": [
    "intersect_a.head.next = second\n",
    "second.next = third\n",
    "third.next = four\n",
    "\n",
    "intersect_b.head.next = third"
   ]
  },
  {
   "cell_type": "code",
   "execution_count": 13,
   "metadata": {},
   "outputs": [
    {
     "name": "stdout",
     "output_type": "stream",
     "text": [
      "1 -> 2 -> 3 -> 4\n"
     ]
    }
   ],
   "source": [
    "printList(intersect_a.head)"
   ]
  },
  {
   "cell_type": "code",
   "execution_count": 14,
   "metadata": {},
   "outputs": [
    {
     "name": "stdout",
     "output_type": "stream",
     "text": [
      "5 -> 3 -> 4\n"
     ]
    }
   ],
   "source": [
    "printList(intersect_b.head)"
   ]
  },
  {
   "cell_type": "markdown",
   "metadata": {},
   "source": [
    "#### Solution 1: \n",
    "Use 2 nested for loops.<br> The outer loop will be for each node of the 1st list and inner loop will be for 2nd list.<br> In the inner loop, check if any of nodes of the 2nd list is same as the current node of the first linked list.<br> The time complexity of this method will be O(M * N) <br>where m and n are the numbers of nodes in two lists."
   ]
  },
  {
   "cell_type": "code",
   "execution_count": 15,
   "metadata": {},
   "outputs": [],
   "source": [
    "def intersectionPoint(head_a, head_b):\n",
    "    temp_a = head_a\n",
    "    \n",
    "    while temp_a:\n",
    "        temp_b = head_b\n",
    "        while temp_b:\n",
    "            if temp_a == temp_b:\n",
    "                return temp_b.data\n",
    "            temp_b = temp_b.next\n",
    "        temp_a = temp_a.next\n",
    "    return -1"
   ]
  },
  {
   "cell_type": "code",
   "execution_count": 16,
   "metadata": {},
   "outputs": [
    {
     "data": {
      "text/plain": [
       "3"
      ]
     },
     "execution_count": 16,
     "metadata": {},
     "output_type": "execute_result"
    }
   ],
   "source": [
    "intersectionPoint(intersect_a.head, intersect_b.head)"
   ]
  },
  {
   "cell_type": "markdown",
   "metadata": {},
   "source": [
    "#### Solution 2:\n",
    "Traverse the first linked list and store the addresses of visited nodes in a hash.<br> Now traverse the second linked list and if you see an address that already exists in the hash <br> return the intersecting node. "
   ]
  },
  {
   "cell_type": "code",
   "execution_count": 17,
   "metadata": {},
   "outputs": [],
   "source": [
    "def intersectPoint(head_a, head_b):\n",
    "    hash_ = {}\n",
    "    \n",
    "    temp_a = head_a\n",
    "    while temp_a:\n",
    "        hash_[temp_a] = 1\n",
    "        temp_a = temp_a.next\n",
    "    \n",
    "    temp_b = head_b\n",
    "    while temp_b:\n",
    "        if temp_b in hash_:\n",
    "            return temp_b.data\n",
    "        temp_b = temp_b.next\n",
    "    return -1"
   ]
  },
  {
   "cell_type": "code",
   "execution_count": 18,
   "metadata": {},
   "outputs": [
    {
     "data": {
      "text/plain": [
       "3"
      ]
     },
     "execution_count": 18,
     "metadata": {},
     "output_type": "execute_result"
    }
   ],
   "source": [
    "intersectionPoint(intersect_a.head, intersect_b.head)"
   ]
  },
  {
   "cell_type": "markdown",
   "metadata": {},
   "source": [
    "#### Method 3(Using difference of node counts)\n",
    "Get count of the nodes in the first list, let count be c1.<br>\n",
    "Get count of the nodes in the second list, let count be c2.<br>\n",
    "Get the difference of counts d = abs(c1 – c2).<br>\n",
    "Now traverse the bigger list from the first node till d nodes so that from here onwards both the lists have equal no of nodes.<br>\n",
    "Then we can traverse both the lists in parallel till we come across a common node.<br> (Note that getting a common node is done by comparing the address of the nodes)"
   ]
  },
  {
   "cell_type": "code",
   "execution_count": 19,
   "metadata": {},
   "outputs": [],
   "source": [
    "def intersetPoint(head_a, head_b):\n",
    "    \n",
    "    c1 = c2 = 1\n",
    "    temp_a = head_a\n",
    "    temp_b = head_b\n",
    "    \n",
    "    # Get count of the nodes in the first list,\n",
    "    # let count be c1\n",
    "    while temp_a.next:\n",
    "        temp_a = temp_a.next\n",
    "        c1 += 1\n",
    "    \n",
    "    # Get count of the nodes in the second list,\n",
    "    # let count be c2\n",
    "    while temp_b.next:\n",
    "        temp_b = temp_b.next\n",
    "        c2 += 1\n",
    "    \n",
    "    d = abs(c1-c2)\n",
    "    \n",
    "    curr_1 = head_a if c1 > c2 else head_b\n",
    "    curr_2 = head_b if curr_1 == head_a else head_a\n",
    "    \n",
    "    # Now traverse the bigger list from the first node till d nodes \n",
    "    # so that from here onwards both the lists have equal no of nodes\n",
    "    while d:\n",
    "        curr_1 = curr_1.next\n",
    "        d -= 1\n",
    "    \n",
    "    # traverse both the lists in parallel till we come across a common node\n",
    "    while curr_1 != curr_2:\n",
    "        curr_1 = curr_1.next\n",
    "        curr_2 = curr_2.next\n",
    "    \n",
    "    return curr_1.data if curr_1 == curr_2 else -1"
   ]
  },
  {
   "cell_type": "code",
   "execution_count": 20,
   "metadata": {},
   "outputs": [
    {
     "data": {
      "text/plain": [
       "3"
      ]
     },
     "execution_count": 20,
     "metadata": {},
     "output_type": "execute_result"
    }
   ],
   "source": [
    "intersetPoint(intersect_a.head, intersect_b.head)"
   ]
  },
  {
   "cell_type": "code",
   "execution_count": null,
   "metadata": {},
   "outputs": [],
   "source": []
  }
 ],
 "metadata": {
  "kernelspec": {
   "display_name": "Python 3",
   "language": "python",
   "name": "python3"
  },
  "language_info": {
   "codemirror_mode": {
    "name": "ipython",
    "version": 3
   },
   "file_extension": ".py",
   "mimetype": "text/x-python",
   "name": "python",
   "nbconvert_exporter": "python",
   "pygments_lexer": "ipython3",
   "version": "3.8.5"
  }
 },
 "nbformat": 4,
 "nbformat_minor": 2
}
