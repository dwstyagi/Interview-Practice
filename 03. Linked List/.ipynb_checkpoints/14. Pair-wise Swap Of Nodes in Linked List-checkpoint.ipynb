{
 "cells": [
  {
   "cell_type": "code",
   "execution_count": 1,
   "metadata": {},
   "outputs": [],
   "source": [
    "class Node:\n",
    "    def __init__(self ,data):\n",
    "        self.data = data\n",
    "        self.next = None"
   ]
  },
  {
   "cell_type": "code",
   "execution_count": 2,
   "metadata": {},
   "outputs": [],
   "source": [
    "class LinkedList:\n",
    "    def __init__(self):\n",
    "        self.head = None\n",
    "        \n",
    "    def insert(self, value):\n",
    "        if self.head == None:\n",
    "            self.head = Node(value)\n",
    "        else:\n",
    "            new_node = Node(value)\n",
    "            temp = self.head\n",
    "            while temp.next:\n",
    "                temp = temp.next\n",
    "            temp.next = new_node\n",
    "    \n",
    "    def printList(self):\n",
    "        \n",
    "        if self.head == None:\n",
    "            return 0\n",
    "        else:\n",
    "            temp = self.head\n",
    "            while temp.next:\n",
    "                print(temp.data,end=\" -> \")\n",
    "                temp = temp.next\n",
    "            print(temp.data)"
   ]
  },
  {
   "cell_type": "code",
   "execution_count": 9,
   "metadata": {},
   "outputs": [],
   "source": [
    "def printList(head):\n",
    "        \n",
    "        if head == None:\n",
    "            return 0\n",
    "        else:\n",
    "            temp = head\n",
    "            while temp.next:\n",
    "                print(temp.data,end=\" -> \")\n",
    "                temp = temp.next\n",
    "            print(temp.data)"
   ]
  },
  {
   "cell_type": "code",
   "execution_count": 8,
   "metadata": {},
   "outputs": [],
   "source": [
    "def pairwiseSwap(head):\n",
    "    \n",
    "    if head is None or head.next is None:\n",
    "        return head\n",
    "    \n",
    "    ptr_one = head\n",
    "    ptr_two = head.next\n",
    "    ptr_two_next = ptr_two.next\n",
    "    ptr_two.next = head\n",
    "    new_head = ptr_two\n",
    "    ptr_one.next = pairwiseSwap(ptr_two_next)\n",
    "    return new_head"
   ]
  },
  {
   "cell_type": "code",
   "execution_count": 10,
   "metadata": {},
   "outputs": [
    {
     "name": "stdout",
     "output_type": "stream",
     "text": [
      "1 -> 2 -> 3 -> 4 -> 5 -> 6\n"
     ]
    }
   ],
   "source": [
    "pair = LinkedList()\n",
    "pair_ele = [1,2,3,4,5,6]\n",
    "for i in pair_ele:\n",
    "    pair.insert(i)\n",
    "pair.printList()"
   ]
  },
  {
   "cell_type": "code",
   "execution_count": 11,
   "metadata": {},
   "outputs": [
    {
     "name": "stdout",
     "output_type": "stream",
     "text": [
      "2 -> 1 -> 4 -> 3 -> 6 -> 5\n"
     ]
    }
   ],
   "source": [
    "result = (pairwiseSwap(pair.head))\n",
    "printList(result)"
   ]
  },
  {
   "cell_type": "code",
   "execution_count": null,
   "metadata": {},
   "outputs": [],
   "source": []
  }
 ],
 "metadata": {
  "kernelspec": {
   "display_name": "Python 3",
   "language": "python",
   "name": "python3"
  },
  "language_info": {
   "codemirror_mode": {
    "name": "ipython",
    "version": 3
   },
   "file_extension": ".py",
   "mimetype": "text/x-python",
   "name": "python",
   "nbconvert_exporter": "python",
   "pygments_lexer": "ipython3",
   "version": "3.7.3"
  }
 },
 "nbformat": 4,
 "nbformat_minor": 2
}
