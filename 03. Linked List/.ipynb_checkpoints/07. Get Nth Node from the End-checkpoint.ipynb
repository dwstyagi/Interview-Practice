{
 "cells": [
  {
   "cell_type": "code",
   "execution_count": 1,
   "metadata": {},
   "outputs": [],
   "source": [
    "class Node:\n",
    "    def __init__(self ,data):\n",
    "        self.data = data\n",
    "        self.next = None"
   ]
  },
  {
   "cell_type": "code",
   "execution_count": 2,
   "metadata": {},
   "outputs": [],
   "source": [
    "def insert(head ,node):\n",
    "    if head == None:\n",
    "        head = node\n",
    "        return head\n",
    "    \n",
    "    temp = head\n",
    "    while temp.next:\n",
    "        temp = temp.next\n",
    "    temp.next = node\n",
    "    return head"
   ]
  },
  {
   "cell_type": "code",
   "execution_count": 3,
   "metadata": {},
   "outputs": [],
   "source": [
    "def printList(head):\n",
    "    if head == None:\n",
    "        return 0\n",
    "    else:\n",
    "        temp = head\n",
    "        while temp.next:\n",
    "            print(temp.data,end=\" -> \")\n",
    "            temp = temp.next\n",
    "        print(temp.data)"
   ]
  },
  {
   "cell_type": "code",
   "execution_count": 4,
   "metadata": {},
   "outputs": [
    {
     "name": "stdout",
     "output_type": "stream",
     "text": [
      "2 -> 4 -> 6 -> 7 -> 5 -> 1 -> 2\n"
     ]
    }
   ],
   "source": [
    "head = None\n",
    "\n",
    "lis = [2,4,6,7,5,1,2]\n",
    "for i in lis:\n",
    "    head = insert(head ,Node(i))\n",
    "\n",
    "printList(head)"
   ]
  },
  {
   "cell_type": "code",
   "execution_count": 11,
   "metadata": {},
   "outputs": [],
   "source": [
    "def getNthNode(head ,n):\n",
    "    curr = head\n",
    "    temp = head\n",
    "    count = 1\n",
    "    \n",
    "    while count < n:\n",
    "        if temp is None:\n",
    "            return -1\n",
    "        temp = temp.next\n",
    "        count += 1\n",
    "        \n",
    "    while temp.next:\n",
    "        curr = curr.next\n",
    "        temp = temp.next\n",
    "    \n",
    "    return curr.data"
   ]
  },
  {
   "cell_type": "code",
   "execution_count": 12,
   "metadata": {},
   "outputs": [
    {
     "data": {
      "text/plain": [
       "7"
      ]
     },
     "execution_count": 12,
     "metadata": {},
     "output_type": "execute_result"
    }
   ],
   "source": [
    "getNthNode(head ,4)"
   ]
  },
  {
   "cell_type": "code",
   "execution_count": null,
   "metadata": {},
   "outputs": [],
   "source": []
  }
 ],
 "metadata": {
  "kernelspec": {
   "display_name": "Python 3",
   "language": "python",
   "name": "python3"
  },
  "language_info": {
   "codemirror_mode": {
    "name": "ipython",
    "version": 3
   },
   "file_extension": ".py",
   "mimetype": "text/x-python",
   "name": "python",
   "nbconvert_exporter": "python",
   "pygments_lexer": "ipython3",
   "version": "3.7.6"
  }
 },
 "nbformat": 4,
 "nbformat_minor": 2
}
