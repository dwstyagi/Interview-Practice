{
 "cells": [
  {
   "cell_type": "code",
   "execution_count": 1,
   "metadata": {},
   "outputs": [],
   "source": [
    "class Node:\n",
    "    def __init__(self ,data):\n",
    "        self.data = data\n",
    "        self.next = None"
   ]
  },
  {
   "cell_type": "code",
   "execution_count": 2,
   "metadata": {},
   "outputs": [],
   "source": [
    "def insert(head ,node):\n",
    "    if head == None:\n",
    "        head = node\n",
    "        return head\n",
    "    \n",
    "    temp = head\n",
    "    while temp.next:\n",
    "        temp = temp.next\n",
    "    temp.next = node\n",
    "    return head"
   ]
  },
  {
   "cell_type": "code",
   "execution_count": 3,
   "metadata": {},
   "outputs": [],
   "source": [
    "def printList(head):\n",
    "    if head == None:\n",
    "        return 0\n",
    "    else:\n",
    "        temp = head\n",
    "        while temp.next:\n",
    "            print(temp.data,end=\" -> \")\n",
    "            temp = temp.next\n",
    "        print(temp.data)"
   ]
  },
  {
   "cell_type": "code",
   "execution_count": 6,
   "metadata": {},
   "outputs": [],
   "source": [
    "def isPalindrome(head):\n",
    "    if head is None:\n",
    "        return -1\n",
    "    \n",
    "    stack = []\n",
    "    temp = head\n",
    "    while temp:\n",
    "        stack.append(temp.data)\n",
    "        temp = temp.next\n",
    "    \n",
    "    curr = head\n",
    "    while curr:\n",
    "        data = stack.pop()\n",
    "        if curr.data != data:\n",
    "            return 0\n",
    "        curr = curr.next\n",
    "    \n",
    "    return 1"
   ]
  },
  {
   "cell_type": "code",
   "execution_count": 10,
   "metadata": {},
   "outputs": [
    {
     "name": "stdout",
     "output_type": "stream",
     "text": [
      "1 -> 2 -> 3 -> 2\n"
     ]
    }
   ],
   "source": [
    "head = None\n",
    "lis_5_a = [1, 2, 3, 2]\n",
    "for i in lis_5_a:\n",
    "    head = insert(head ,Node(i))\n",
    "printList(head)"
   ]
  },
  {
   "cell_type": "code",
   "execution_count": 11,
   "metadata": {},
   "outputs": [
    {
     "data": {
      "text/plain": [
       "0"
      ]
     },
     "execution_count": 11,
     "metadata": {},
     "output_type": "execute_result"
    }
   ],
   "source": [
    "isPalindrome(head)"
   ]
  },
  {
   "cell_type": "code",
   "execution_count": 8,
   "metadata": {},
   "outputs": [
    {
     "name": "stdout",
     "output_type": "stream",
     "text": [
      "1 -> 2 -> 3 -> 2 -> 1\n"
     ]
    }
   ],
   "source": [
    "head = None\n",
    "lis_5_a = [1, 2, 3, 2, 1]\n",
    "for i in lis_5_a:\n",
    "    head = insert(head ,Node(i))\n",
    "printList(head)"
   ]
  },
  {
   "cell_type": "code",
   "execution_count": 9,
   "metadata": {},
   "outputs": [
    {
     "data": {
      "text/plain": [
       "1"
      ]
     },
     "execution_count": 9,
     "metadata": {},
     "output_type": "execute_result"
    }
   ],
   "source": [
    "isPalindrome(head)"
   ]
  },
  {
   "cell_type": "markdown",
   "metadata": {},
   "source": [
    "## O(n) time with Constant Space\n",
    "This method takes O(n) time and O(1) extra space.\n",
    "1. Get the middle of the linked list.\n",
    "2. Reverse the second half of the linked list.\n",
    "3. Check if the first half and second half are identical.\n",
    "4. Construct the original linked list by reversing the second half again and attaching it back to the first half"
   ]
  },
  {
   "cell_type": "code",
   "execution_count": 42,
   "metadata": {},
   "outputs": [],
   "source": [
    "def reverse(head):\n",
    "    prev = None\n",
    "    curr = head\n",
    "    next = None\n",
    "    \n",
    "    while curr:\n",
    "        next = curr.next\n",
    "        curr.next = prev\n",
    "        prev = curr\n",
    "        curr = next\n",
    "    \n",
    "    return prev"
   ]
  },
  {
   "cell_type": "code",
   "execution_count": 24,
   "metadata": {},
   "outputs": [],
   "source": [
    "def isCompare(head_1, head_2):\n",
    "    \n",
    "    while head_1 and head_2:\n",
    "        if head_1.data != head_2.data:\n",
    "            return 0\n",
    "        head_1 = head_1.next\n",
    "        head_2 = head_2.next\n",
    "    \n",
    "    return 1"
   ]
  },
  {
   "cell_type": "code",
   "execution_count": 73,
   "metadata": {},
   "outputs": [],
   "source": [
    "def isPalindrome(head):\n",
    "    \n",
    "    slow = head\n",
    "    fast = head\n",
    "    prev = None\n",
    "    mid = None\n",
    "    \n",
    "    # Get the Middle of Linked List\n",
    "    while fast and fast.next:\n",
    "        prev = slow\n",
    "        slow = slow.next\n",
    "        fast = fast.next.next\n",
    "    \n",
    "    # Check if LL is Odd\n",
    "    if fast:\n",
    "        mid = slow\n",
    "        slow = slow.next\n",
    "        \n",
    "    # initialize the 2nd half of LL\n",
    "    second_half = slow\n",
    "    \n",
    "    # terminate the first half\n",
    "    prev.next = None\n",
    "    \n",
    "    # reverse the 2nd Half\n",
    "    reverse(second_half)\n",
    "    \n",
    "    # compare both\n",
    "    first_half = head\n",
    "    result = isCompare(first_half, second_half)\n",
    "    \n",
    "    # Now originate the Whole list again\n",
    "    reverse(second_half)\n",
    "    \n",
    "    # if LL is odd join the mid node\n",
    "    if mid:\n",
    "        prev.next = mid\n",
    "    \n",
    "    # LL is Even\n",
    "    else:\n",
    "        prev.next = second_half\n",
    "    \n",
    "    return result"
   ]
  },
  {
   "cell_type": "code",
   "execution_count": 68,
   "metadata": {},
   "outputs": [
    {
     "name": "stdout",
     "output_type": "stream",
     "text": [
      "1 -> 2 -> 3 -> 2 -> 1\n"
     ]
    }
   ],
   "source": [
    "head = None\n",
    "lis_5_a = [1, 2, 3, 2, 1]\n",
    "for i in lis_5_a:\n",
    "    head = insert(head ,Node(i))\n",
    "printList(head)"
   ]
  },
  {
   "cell_type": "code",
   "execution_count": 69,
   "metadata": {},
   "outputs": [
    {
     "name": "stdout",
     "output_type": "stream",
     "text": [
      "3 -> 2\n"
     ]
    }
   ],
   "source": [
    "head = isPalindrome(head)\n",
    "printList(head)"
   ]
  },
  {
   "cell_type": "code",
   "execution_count": 29,
   "metadata": {},
   "outputs": [
    {
     "data": {
      "text/plain": [
       "0"
      ]
     },
     "execution_count": 29,
     "metadata": {},
     "output_type": "execute_result"
    }
   ],
   "source": [
    "isPalindrome(head)"
   ]
  },
  {
   "cell_type": "code",
   "execution_count": 74,
   "metadata": {},
   "outputs": [
    {
     "name": "stdout",
     "output_type": "stream",
     "text": [
      "1 -> 2 -> 3 -> 3 -> 2 -> 1\n"
     ]
    }
   ],
   "source": [
    "head = None\n",
    "lis_5_a = [1, 2, 3, 3, 2, 1]\n",
    "for i in lis_5_a:\n",
    "    head = insert(head ,Node(i))\n",
    "printList(head)"
   ]
  },
  {
   "cell_type": "code",
   "execution_count": 75,
   "metadata": {},
   "outputs": [
    {
     "data": {
      "text/plain": [
       "0"
      ]
     },
     "execution_count": 75,
     "metadata": {},
     "output_type": "execute_result"
    }
   ],
   "source": [
    "isPalindrome(head)"
   ]
  },
  {
   "cell_type": "code",
   "execution_count": null,
   "metadata": {},
   "outputs": [],
   "source": []
  }
 ],
 "metadata": {
  "kernelspec": {
   "display_name": "Python 3",
   "language": "python",
   "name": "python3"
  },
  "language_info": {
   "codemirror_mode": {
    "name": "ipython",
    "version": 3
   },
   "file_extension": ".py",
   "mimetype": "text/x-python",
   "name": "python",
   "nbconvert_exporter": "python",
   "pygments_lexer": "ipython3",
   "version": "3.7.6"
  }
 },
 "nbformat": 4,
 "nbformat_minor": 2
}
