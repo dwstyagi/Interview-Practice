{
 "cells": [
  {
   "cell_type": "markdown",
   "metadata": {},
   "source": [
    "In a Queue data structure, we maintain two pointers, front and rear. The front points the first item of queue and rear points to last item.\n",
    "\n",
    "1. enQueue() This operation adds a new node after rear and moves rear to the next node.\n",
    "\n",
    "2. deQueue() This operation removes the front node and moves front to the next node."
   ]
  },
  {
   "cell_type": "code",
   "execution_count": 4,
   "metadata": {},
   "outputs": [],
   "source": [
    "class Node:\n",
    "    def __init__(self ,data):\n",
    "        self.data = data\n",
    "        self.next = None"
   ]
  },
  {
   "cell_type": "code",
   "execution_count": 5,
   "metadata": {},
   "outputs": [],
   "source": [
    "class Queue:\n",
    "    def __init__(self):\n",
    "        self.head = None\n",
    "        self.tail = None\n",
    "    \n",
    "    def EnQueue(self ,val):\n",
    "        node = Node(val)\n",
    "        \n",
    "        if self.tail is None:\n",
    "            self.tail = node\n",
    "            self.head = node\n",
    "        else:\n",
    "            self.tail.next = node\n",
    "            self.tail = self.tail.next\n",
    "    \n",
    "    def DeQueue(self):\n",
    "        if self.head is None:\n",
    "            return -1\n",
    "        \n",
    "        data = self.head.data\n",
    "        self.head = self.head.next\n",
    "        \n",
    "        # if only one node \n",
    "        # in linked list\n",
    "        if self.head is None:\n",
    "            self.tail = None\n",
    "        \n",
    "        return data\n",
    "    \n",
    "    def printQueue(self):\n",
    "        if self.head is None:\n",
    "            return -1\n",
    "        temp = self.head\n",
    "        while temp.next:\n",
    "            print(temp.data,end=\" -> \")\n",
    "            temp = temp.next\n",
    "        print(temp.data)"
   ]
  },
  {
   "cell_type": "code",
   "execution_count": 6,
   "metadata": {},
   "outputs": [
    {
     "name": "stdout",
     "output_type": "stream",
     "text": [
      "10 -> 20\n"
     ]
    }
   ],
   "source": [
    "Q = Queue()\n",
    "for i in range(10 ,21 ,10):\n",
    "    Q.EnQueue(i)\n",
    "Q.printQueue()"
   ]
  },
  {
   "cell_type": "code",
   "execution_count": 7,
   "metadata": {},
   "outputs": [
    {
     "data": {
      "text/plain": [
       "-1"
      ]
     },
     "execution_count": 7,
     "metadata": {},
     "output_type": "execute_result"
    }
   ],
   "source": [
    "for _ in range(2):\n",
    "    Q.DeQueue()\n",
    "Q.printQueue()"
   ]
  },
  {
   "cell_type": "code",
   "execution_count": 8,
   "metadata": {},
   "outputs": [
    {
     "name": "stdout",
     "output_type": "stream",
     "text": [
      "40 -> 50 -> 60 -> 70\n"
     ]
    }
   ],
   "source": [
    "for i in range(40 ,71 ,10):\n",
    "    Q.EnQueue(i)\n",
    "Q.printQueue()"
   ]
  },
  {
   "cell_type": "code",
   "execution_count": 9,
   "metadata": {},
   "outputs": [
    {
     "data": {
      "text/plain": [
       "40"
      ]
     },
     "execution_count": 9,
     "metadata": {},
     "output_type": "execute_result"
    }
   ],
   "source": [
    "Q.DeQueue()"
   ]
  },
  {
   "cell_type": "code",
   "execution_count": 10,
   "metadata": {},
   "outputs": [
    {
     "name": "stdout",
     "output_type": "stream",
     "text": [
      "50 -> 60 -> 70\n"
     ]
    }
   ],
   "source": [
    "Q.printQueue()"
   ]
  },
  {
   "cell_type": "code",
   "execution_count": null,
   "metadata": {},
   "outputs": [],
   "source": []
  }
 ],
 "metadata": {
  "kernelspec": {
   "display_name": "Python 3",
   "language": "python",
   "name": "python3"
  },
  "language_info": {
   "codemirror_mode": {
    "name": "ipython",
    "version": 3
   },
   "file_extension": ".py",
   "mimetype": "text/x-python",
   "name": "python",
   "nbconvert_exporter": "python",
   "pygments_lexer": "ipython3",
   "version": "3.7.6"
  }
 },
 "nbformat": 4,
 "nbformat_minor": 2
}
