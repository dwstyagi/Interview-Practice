{
 "cells": [
  {
   "cell_type": "markdown",
   "metadata": {},
   "source": [
    "<ul>\n",
    "    <li>Following steps can be used to sort the given linked list.</li>\n",
    "    <li>Traverse the list and count the number of 0s, 1s and 2s. Let the counts be n1, n2 and n3 respectively.</li>\n",
    "    <li>Traverse the list again, fill the first n1 nodes with 0, then n2 nodes with 1 and finally n3 nodes with 2.</li>\n",
    "</ul>"
   ]
  },
  {
   "cell_type": "code",
   "execution_count": 1,
   "metadata": {},
   "outputs": [],
   "source": [
    "class Node:\n",
    "    def __init__(self ,data):\n",
    "        self.data = data\n",
    "        self.next = None"
   ]
  },
  {
   "cell_type": "code",
   "execution_count": 2,
   "metadata": {},
   "outputs": [],
   "source": [
    "class LinkedList(object):\n",
    "    def __init__(self):\n",
    "        self.head = None\n",
    "    \n",
    "    def __str__(self):\n",
    "        return str(self.head.data)\n",
    "    \n",
    "    def insert(self, value):\n",
    "        if self.head == None:\n",
    "            self.head = Node(value)\n",
    "        else:\n",
    "            new_node = Node(value)\n",
    "            temp = self.head\n",
    "            while temp.next:\n",
    "                temp = temp.next\n",
    "            temp.next = new_node\n",
    "    \n",
    "    def printList(self):\n",
    "        \n",
    "        if self.head == None:\n",
    "            return 0\n",
    "        else:\n",
    "            temp = self.head\n",
    "            while temp.next:\n",
    "                print(temp.data,end=\" -> \")\n",
    "                temp = temp.next\n",
    "            print(temp.data)"
   ]
  },
  {
   "cell_type": "code",
   "execution_count": 8,
   "metadata": {},
   "outputs": [
    {
     "name": "stdout",
     "output_type": "stream",
     "text": [
      "1 -> 2 -> 2 -> 1 -> 2 -> 0 -> 2 -> 2\n"
     ]
    }
   ],
   "source": [
    "segregate_list = LinkedList()\n",
    "lis = [1, 2, 2, 1, 2, 0, 2, 2]\n",
    "for i in lis:\n",
    "    segregate_list.insert(i)\n",
    "segregate_list.printList()"
   ]
  },
  {
   "cell_type": "code",
   "execution_count": 4,
   "metadata": {},
   "outputs": [],
   "source": [
    "def segregate(head):\n",
    "    \n",
    "    if head is None or head.next is None:\n",
    "        return head\n",
    "        \n",
    "    \n",
    "    zeroD = Node(-1) \n",
    "    oneD = Node(-1) \n",
    "    twoD = Node(-1)\n",
    "    \n",
    "    zero = zeroD\n",
    "    one = oneD\n",
    "    two = twoD\n",
    "    \n",
    "    temp = head\n",
    "    while temp:\n",
    "        \n",
    "        if temp.data == 0:\n",
    "            zero.next = temp\n",
    "            zero = zero.next\n",
    "            temp = temp.next\n",
    "        \n",
    "        elif temp.data == 1:\n",
    "            one.next = temp\n",
    "            one = one.next\n",
    "            temp = temp.next\n",
    "        \n",
    "        else:\n",
    "            two.next = temp\n",
    "            two = two.next\n",
    "            temp = temp.next\n",
    "        \n",
    "    \n",
    "    head = zeroD.next\n",
    "    zero.next = oneD.next\n",
    "    one.next = twoD.next\n",
    "    two.next = None\n",
    "    \n",
    "    return head"
   ]
  },
  {
   "cell_type": "code",
   "execution_count": 9,
   "metadata": {},
   "outputs": [],
   "source": [
    "head = segregate(segregate_list.head)"
   ]
  },
  {
   "cell_type": "code",
   "execution_count": 10,
   "metadata": {},
   "outputs": [],
   "source": [
    "def printList(head):\n",
    "        \n",
    "        if head == None:\n",
    "            return 0\n",
    "        else:\n",
    "            temp = head\n",
    "            while temp.next:\n",
    "                print(temp.data,end=\" -> \")\n",
    "                temp = temp.next\n",
    "            print(temp.data)"
   ]
  },
  {
   "cell_type": "code",
   "execution_count": 11,
   "metadata": {},
   "outputs": [
    {
     "name": "stdout",
     "output_type": "stream",
     "text": [
      "0 -> 1 -> 1 -> 2 -> 2 -> 2 -> 2 -> 2\n"
     ]
    }
   ],
   "source": [
    "printList(head)"
   ]
  },
  {
   "cell_type": "code",
   "execution_count": null,
   "metadata": {},
   "outputs": [],
   "source": []
  }
 ],
 "metadata": {
  "kernelspec": {
   "display_name": "Python 3",
   "language": "python",
   "name": "python3"
  },
  "language_info": {
   "codemirror_mode": {
    "name": "ipython",
    "version": 3
   },
   "file_extension": ".py",
   "mimetype": "text/x-python",
   "name": "python",
   "nbconvert_exporter": "python",
   "pygments_lexer": "ipython3",
   "version": "3.7.6"
  }
 },
 "nbformat": 4,
 "nbformat_minor": 2
}
