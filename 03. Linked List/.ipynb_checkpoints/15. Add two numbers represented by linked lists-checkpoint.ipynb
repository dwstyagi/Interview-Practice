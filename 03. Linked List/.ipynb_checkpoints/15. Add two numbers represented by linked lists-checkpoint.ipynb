{
 "cells": [
  {
   "cell_type": "markdown",
   "metadata": {},
   "source": [
    "```\n",
    "Input: List1: 5->6->3  // represents number 365\n",
    "       List2: 8->4->2 //  represents number 248\n",
    "Output: Resultant list: 3->1->6  // represents number 613\n",
    "\n",
    "\n",
    "Input: List1: 7->5->9->4->6  // represents number 64957\n",
    "       List2: 8->4 //  represents number 48\n",
    "Output: Resultant list: 5->0->0->5->6  // represents number 65005\n",
    "```"
   ]
  },
  {
   "cell_type": "code",
   "execution_count": 1,
   "metadata": {},
   "outputs": [],
   "source": [
    "class Node:\n",
    "    def __init__(self ,data):\n",
    "        self.data = data\n",
    "        self.next = None"
   ]
  },
  {
   "cell_type": "code",
   "execution_count": 2,
   "metadata": {},
   "outputs": [],
   "source": [
    "def insert(head ,node):\n",
    "    if head == None:\n",
    "        head = node\n",
    "        return head\n",
    "    temp = head\n",
    "    while temp.next:\n",
    "        temp = temp.next\n",
    "    temp.next = node\n",
    "    return head"
   ]
  },
  {
   "cell_type": "code",
   "execution_count": 3,
   "metadata": {},
   "outputs": [],
   "source": [
    "def printList(head):\n",
    "    if head == None:\n",
    "        return None\n",
    "    else:\n",
    "        temp = head\n",
    "        while temp.next:\n",
    "            print(temp.data,end=\" -> \")\n",
    "            temp = temp.next\n",
    "        print(temp.data)"
   ]
  },
  {
   "cell_type": "code",
   "execution_count": 4,
   "metadata": {},
   "outputs": [],
   "source": [
    "def addNumber(L1 ,L2):\n",
    "    \n",
    "    temp = None # Store curr value\n",
    "    prev = None # keep track of previous Node\n",
    "    head = None # return head of curr list\n",
    "    temp_1 = L1\n",
    "    temp_2 = L2\n",
    "    carry = 0\n",
    "    \n",
    "    while temp_1 or temp_2:\n",
    "        \n",
    "        temp_1Data = 0 if temp_1 is None else temp_1.data\n",
    "        temp_2Data = 0 if temp_2 is None else temp_2.data\n",
    "        \n",
    "        sum = temp_1Data + temp_2Data + carry\n",
    "        data = sum % 10\n",
    "        carry = sum // 10\n",
    "        \n",
    "        temp = Node(data)\n",
    "        \n",
    "        if head == None:\n",
    "            head = temp\n",
    "        else:\n",
    "            prev.next = temp\n",
    "        \n",
    "        prev = temp\n",
    "        \n",
    "        if temp_1:\n",
    "            temp_1 = temp_1.next\n",
    "        if temp_2:\n",
    "            temp_2 = temp_2.next\n",
    "        \n",
    "    if carry > 0:\n",
    "        prev.next = Node(carry)\n",
    "    \n",
    "    return head"
   ]
  },
  {
   "cell_type": "code",
   "execution_count": 5,
   "metadata": {},
   "outputs": [
    {
     "name": "stdout",
     "output_type": "stream",
     "text": [
      "5 -> 6 -> 3\n"
     ]
    }
   ],
   "source": [
    "L1 = None \n",
    "for i in [5 ,6 ,3]:\n",
    "    L1 = insert(L1 ,Node(i))\n",
    "printList(L1)"
   ]
  },
  {
   "cell_type": "code",
   "execution_count": 6,
   "metadata": {},
   "outputs": [
    {
     "name": "stdout",
     "output_type": "stream",
     "text": [
      "8 -> 4 -> 2\n"
     ]
    }
   ],
   "source": [
    "L2 = None\n",
    "for i in [8 ,4 ,2]:\n",
    "    L2 = insert(L2 ,Node(i))\n",
    "printList(L2)"
   ]
  },
  {
   "cell_type": "code",
   "execution_count": 7,
   "metadata": {},
   "outputs": [
    {
     "name": "stdout",
     "output_type": "stream",
     "text": [
      "3 -> 1 -> 6\n"
     ]
    }
   ],
   "source": [
    "head = addNumber(L1 ,L2)\n",
    "printList(head)"
   ]
  },
  {
   "cell_type": "code",
   "execution_count": 8,
   "metadata": {},
   "outputs": [
    {
     "name": "stdout",
     "output_type": "stream",
     "text": [
      "7 -> 5 -> 9 -> 4 -> 6\n"
     ]
    }
   ],
   "source": [
    "L1 = None \n",
    "for i in [7 ,5 ,9 ,4 ,6]:\n",
    "    L1 = insert(L1 ,Node(i))\n",
    "printList(L1)"
   ]
  },
  {
   "cell_type": "code",
   "execution_count": 9,
   "metadata": {},
   "outputs": [
    {
     "name": "stdout",
     "output_type": "stream",
     "text": [
      "8 -> 4\n"
     ]
    }
   ],
   "source": [
    "L2 = None \n",
    "for i in [8 ,4]:\n",
    "    L2 = insert(L2 ,Node(i))\n",
    "printList(L2)"
   ]
  },
  {
   "cell_type": "code",
   "execution_count": 10,
   "metadata": {},
   "outputs": [
    {
     "name": "stdout",
     "output_type": "stream",
     "text": [
      "5 -> 0 -> 0 -> 5 -> 6\n"
     ]
    }
   ],
   "source": [
    "head = addNumber(L1 ,L2)\n",
    "printList(head)"
   ]
  },
  {
   "cell_type": "markdown",
   "metadata": {},
   "source": [
    "# Set - 2"
   ]
  },
  {
   "cell_type": "markdown",
   "metadata": {},
   "source": [
    "```\n",
    "Input:\n",
    "  First List: 5->6->3  // represents number 563\n",
    "  Second List: 8->4->2 //  represents number 842\n",
    "\n",
    "Output:\n",
    "  Resultant list: 1->4->0->5  // represents number 1405\n",
    "```"
   ]
  },
  {
   "cell_type": "code",
   "execution_count": 11,
   "metadata": {},
   "outputs": [],
   "source": [
    "def reverse(head):\n",
    "    \n",
    "    curr = head\n",
    "    prev = None\n",
    "    next = None\n",
    "    \n",
    "    while curr:\n",
    "        next = curr.next\n",
    "        curr.next = prev\n",
    "        prev = curr\n",
    "        curr = next\n",
    "    \n",
    "    return prev"
   ]
  },
  {
   "cell_type": "markdown",
   "metadata": {},
   "source": [
    "Following are the steps:<br>\n",
    "1. Reverse List L1.\n",
    "2. Reverse List L2.\n",
    "3. Add the nodes of both the lists iteratively.\n",
    "4. Reverse the resultant list and return its head"
   ]
  },
  {
   "cell_type": "code",
   "execution_count": 19,
   "metadata": {},
   "outputs": [],
   "source": [
    "def addBothNumber(L1 ,L2):\n",
    "    \n",
    "    L1 = reverse(L1)\n",
    "    L2 = reverse(L2)\n",
    "    \n",
    "    head = addNumber(L1 ,L2)\n",
    "    \n",
    "    head = reverse(head)\n",
    "    \n",
    "    return head"
   ]
  },
  {
   "cell_type": "code",
   "execution_count": 20,
   "metadata": {},
   "outputs": [
    {
     "name": "stdout",
     "output_type": "stream",
     "text": [
      "5 -> 6 -> 3\n"
     ]
    }
   ],
   "source": [
    "L1 = None \n",
    "for i in [5 ,6 ,3]:\n",
    "    L1 = insert(L1 ,Node(i))\n",
    "printList(L1)"
   ]
  },
  {
   "cell_type": "code",
   "execution_count": 21,
   "metadata": {},
   "outputs": [
    {
     "name": "stdout",
     "output_type": "stream",
     "text": [
      "8 -> 4 -> 2\n"
     ]
    }
   ],
   "source": [
    "L2 = None\n",
    "for i in [8 ,4 ,2]:\n",
    "    L2 = insert(L2 ,Node(i))\n",
    "printList(L2)"
   ]
  },
  {
   "cell_type": "code",
   "execution_count": 22,
   "metadata": {},
   "outputs": [
    {
     "name": "stdout",
     "output_type": "stream",
     "text": [
      "1 -> 4 -> 0 -> 5\n"
     ]
    }
   ],
   "source": [
    "head = addBothNumber(L1 ,L2)\n",
    "printList(head)"
   ]
  },
  {
   "cell_type": "code",
   "execution_count": null,
   "metadata": {},
   "outputs": [],
   "source": []
  }
 ],
 "metadata": {
  "kernelspec": {
   "display_name": "Python 3",
   "language": "python",
   "name": "python3"
  },
  "language_info": {
   "codemirror_mode": {
    "name": "ipython",
    "version": 3
   },
   "file_extension": ".py",
   "mimetype": "text/x-python",
   "name": "python",
   "nbconvert_exporter": "python",
   "pygments_lexer": "ipython3",
   "version": "3.7.3"
  }
 },
 "nbformat": 4,
 "nbformat_minor": 2
}
