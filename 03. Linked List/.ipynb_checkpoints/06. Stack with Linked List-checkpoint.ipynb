{
 "cells": [
  {
   "cell_type": "markdown",
   "metadata": {},
   "source": [
    "Stack Operations:\n",
    "\n",
    "1. push() : Insert the element into linked list nothing but which is the top node of Stack.\n",
    "2. pop() : Return top element from the Stack and move the top pointer to the second node of linked list or Stack.\n",
    "3. peek(): Return the top element.\n",
    "4. display(): Print all element of Stack."
   ]
  },
  {
   "cell_type": "code",
   "execution_count": 8,
   "metadata": {},
   "outputs": [],
   "source": [
    "class Node:\n",
    "    def __init__(self ,data):\n",
    "        self.data = data\n",
    "        self.next = None"
   ]
  },
  {
   "cell_type": "code",
   "execution_count": 9,
   "metadata": {},
   "outputs": [],
   "source": [
    "class Stack:\n",
    "    def __init__(self):\n",
    "        self.top = None\n",
    "        \n",
    "    def push(self ,val):\n",
    "        node = Node(val)\n",
    "        \n",
    "        if self.top is None:\n",
    "            self.top = node\n",
    "        else:\n",
    "            node.next = self.top\n",
    "            self.top = node\n",
    "        \n",
    "    def pop(self):\n",
    "        if self.top is None:\n",
    "            return -1\n",
    "        \n",
    "        data = self.top.data\n",
    "        temp = self.top\n",
    "        self.top = self.top.next\n",
    "        del(temp)\n",
    "        return data\n",
    "    \n",
    "    def peek(self):\n",
    "        if self.top is None:\n",
    "            return -1\n",
    "        return self.top.data\n",
    "    \n",
    "    def printStack(self):\n",
    "        if self.top is None:\n",
    "            return -1\n",
    "        else:\n",
    "            print(self.top.data,end=\" <--Top\\n\")\n",
    "            temp = self.top.next\n",
    "            while temp:\n",
    "                print(temp.data)\n",
    "                temp = temp.next"
   ]
  },
  {
   "cell_type": "code",
   "execution_count": 10,
   "metadata": {},
   "outputs": [
    {
     "name": "stdout",
     "output_type": "stream",
     "text": [
      "5 <--Top\n",
      "4\n",
      "3\n",
      "2\n",
      "1\n"
     ]
    }
   ],
   "source": [
    "s = Stack()\n",
    "l = [1, 2 ,3 ,4 ,5]\n",
    "for i in l:\n",
    "    s.push(i)\n",
    "s.printStack()"
   ]
  },
  {
   "cell_type": "code",
   "execution_count": 11,
   "metadata": {},
   "outputs": [
    {
     "data": {
      "text/plain": [
       "5"
      ]
     },
     "execution_count": 11,
     "metadata": {},
     "output_type": "execute_result"
    }
   ],
   "source": [
    "s.pop()"
   ]
  },
  {
   "cell_type": "code",
   "execution_count": 12,
   "metadata": {},
   "outputs": [
    {
     "name": "stdout",
     "output_type": "stream",
     "text": [
      "4 <--Top\n",
      "3\n",
      "2\n",
      "1\n"
     ]
    }
   ],
   "source": [
    "s.printStack()"
   ]
  },
  {
   "cell_type": "code",
   "execution_count": 13,
   "metadata": {},
   "outputs": [
    {
     "name": "stdout",
     "output_type": "stream",
     "text": [
      "2 <--Top\n",
      "1\n"
     ]
    }
   ],
   "source": [
    "for _ in range(2):\n",
    "    s.pop()\n",
    "s.printStack()"
   ]
  },
  {
   "cell_type": "code",
   "execution_count": 14,
   "metadata": {},
   "outputs": [
    {
     "name": "stdout",
     "output_type": "stream",
     "text": [
      "5 <--Top\n",
      "4\n",
      "3\n",
      "2\n",
      "1\n"
     ]
    }
   ],
   "source": [
    "for i in range(3,6):\n",
    "    s.push(i)\n",
    "s.printStack()"
   ]
  },
  {
   "cell_type": "code",
   "execution_count": null,
   "metadata": {},
   "outputs": [],
   "source": []
  }
 ],
 "metadata": {
  "kernelspec": {
   "display_name": "Python 3",
   "language": "python",
   "name": "python3"
  },
  "language_info": {
   "codemirror_mode": {
    "name": "ipython",
    "version": 3
   },
   "file_extension": ".py",
   "mimetype": "text/x-python",
   "name": "python",
   "nbconvert_exporter": "python",
   "pygments_lexer": "ipython3",
   "version": "3.7.6"
  }
 },
 "nbformat": 4,
 "nbformat_minor": 2
}
