{
 "cells": [
  {
   "cell_type": "code",
   "execution_count": 1,
   "metadata": {},
   "outputs": [],
   "source": [
    "class Node:\n",
    "    def __init__(self ,data):\n",
    "        self.data = data\n",
    "        self.next = None"
   ]
  },
  {
   "cell_type": "code",
   "execution_count": 2,
   "metadata": {},
   "outputs": [],
   "source": [
    "class LinkedList:\n",
    "    def __init__(self):\n",
    "        self.head = None\n",
    "        \n",
    "    def insert(self, value):\n",
    "        if self.head == None:\n",
    "            self.head = Node(value)\n",
    "        else:\n",
    "            new_node = Node(value)\n",
    "            temp = self.head\n",
    "            while temp.next:\n",
    "                temp = temp.next\n",
    "            temp.next = new_node"
   ]
  },
  {
   "cell_type": "code",
   "execution_count": 3,
   "metadata": {},
   "outputs": [],
   "source": [
    "def printList(head):  \n",
    "        if head == None:\n",
    "            return 0\n",
    "        \n",
    "        else:\n",
    "            temp = head\n",
    "            while temp.next:\n",
    "                print(temp.data,end=\" -> \")\n",
    "                temp = temp.next\n",
    "            print(temp.data)"
   ]
  },
  {
   "cell_type": "code",
   "execution_count": 4,
   "metadata": {},
   "outputs": [
    {
     "name": "stdout",
     "output_type": "stream",
     "text": [
      "1 -> 2 -> 3 -> 4 -> 5 -> 6 -> 7 -> 8\n"
     ]
    }
   ],
   "source": [
    "ll = LinkedList()    \n",
    "arr = [1,2,3,4,5,6,7,8]\n",
    "for i in arr:\n",
    "    ll.insert(i)\n",
    "printList(ll.head)"
   ]
  },
  {
   "cell_type": "code",
   "execution_count": 5,
   "metadata": {},
   "outputs": [],
   "source": [
    "def reverseInGroups(head, k):\n",
    "    next_, prev = None, None\n",
    "    curr = head\n",
    "    count = 0\n",
    "    \n",
    "    while count != k and curr:\n",
    "        next_ = curr.next \n",
    "        curr.next = prev\n",
    "        prev = curr\n",
    "        curr = next_\n",
    "        count += 1\n",
    "    \n",
    "    if next_:\n",
    "        head.next = reverseInGroups(next_, k)\n",
    "    \n",
    "    return prev"
   ]
  },
  {
   "cell_type": "code",
   "execution_count": 6,
   "metadata": {},
   "outputs": [
    {
     "name": "stdout",
     "output_type": "stream",
     "text": [
      "3 -> 2 -> 1 -> 6 -> 5 -> 4 -> 8 -> 7\n"
     ]
    }
   ],
   "source": [
    "ll.head = reverseInGroups(ll.head, 3)\n",
    "printList(ll.head)"
   ]
  },
  {
   "cell_type": "code",
   "execution_count": null,
   "metadata": {},
   "outputs": [],
   "source": []
  }
 ],
 "metadata": {
  "kernelspec": {
   "display_name": "Python 3",
   "language": "python",
   "name": "python3"
  },
  "language_info": {
   "codemirror_mode": {
    "name": "ipython",
    "version": 3
   },
   "file_extension": ".py",
   "mimetype": "text/x-python",
   "name": "python",
   "nbconvert_exporter": "python",
   "pygments_lexer": "ipython3",
   "version": "3.8.5"
  }
 },
 "nbformat": 4,
 "nbformat_minor": 2
}
