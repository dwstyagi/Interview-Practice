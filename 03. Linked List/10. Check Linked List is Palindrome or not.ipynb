{
 "cells": [
  {
   "cell_type": "code",
   "execution_count": 1,
   "metadata": {},
   "outputs": [],
   "source": [
    "class Node:\n",
    "    def __init__(self ,data):\n",
    "        self.data = data\n",
    "        self.next = None"
   ]
  },
  {
   "cell_type": "code",
   "execution_count": 2,
   "metadata": {},
   "outputs": [],
   "source": [
    "def insert(head ,node):\n",
    "    if head == None:\n",
    "        head = node\n",
    "        return head\n",
    "    \n",
    "    temp = head\n",
    "    while temp.next:\n",
    "        temp = temp.next\n",
    "    temp.next = node\n",
    "    return head"
   ]
  },
  {
   "cell_type": "code",
   "execution_count": 3,
   "metadata": {},
   "outputs": [],
   "source": [
    "def printList(head):\n",
    "    if head == None:\n",
    "        return 0\n",
    "    else:\n",
    "        temp = head\n",
    "        while temp.next:\n",
    "            print(temp.data,end=\" -> \")\n",
    "            temp = temp.next\n",
    "        print(temp.data)"
   ]
  },
  {
   "cell_type": "code",
   "execution_count": 4,
   "metadata": {},
   "outputs": [],
   "source": [
    "def isPalindrome(head):\n",
    "    if head is None:\n",
    "        return -1\n",
    "    \n",
    "    stack = []\n",
    "    temp = head\n",
    "    while temp:\n",
    "        stack.append(temp.data)\n",
    "        temp = temp.next\n",
    "    \n",
    "    curr = head\n",
    "    while curr:\n",
    "        data = stack.pop()\n",
    "        if curr.data != data:\n",
    "            return 0\n",
    "        curr = curr.next\n",
    "    \n",
    "    return 1"
   ]
  },
  {
   "cell_type": "code",
   "execution_count": 5,
   "metadata": {},
   "outputs": [
    {
     "name": "stdout",
     "output_type": "stream",
     "text": [
      "1 -> 2 -> 3 -> 2\n"
     ]
    }
   ],
   "source": [
    "head = None\n",
    "lis_5_a = [1, 2, 3, 2]\n",
    "for i in lis_5_a:\n",
    "    head = insert(head ,Node(i))\n",
    "printList(head)"
   ]
  },
  {
   "cell_type": "code",
   "execution_count": 6,
   "metadata": {},
   "outputs": [
    {
     "data": {
      "text/plain": [
       "0"
      ]
     },
     "execution_count": 6,
     "metadata": {},
     "output_type": "execute_result"
    }
   ],
   "source": [
    "isPalindrome(head)"
   ]
  },
  {
   "cell_type": "code",
   "execution_count": 7,
   "metadata": {},
   "outputs": [
    {
     "name": "stdout",
     "output_type": "stream",
     "text": [
      "1 -> 2 -> 3 -> 2 -> 1\n"
     ]
    }
   ],
   "source": [
    "head = None\n",
    "lis_5_a = [1, 2, 3, 2, 1]\n",
    "for i in lis_5_a:\n",
    "    head = insert(head ,Node(i))\n",
    "printList(head)"
   ]
  },
  {
   "cell_type": "code",
   "execution_count": 8,
   "metadata": {},
   "outputs": [
    {
     "data": {
      "text/plain": [
       "1"
      ]
     },
     "execution_count": 8,
     "metadata": {},
     "output_type": "execute_result"
    }
   ],
   "source": [
    "isPalindrome(head)"
   ]
  },
  {
   "cell_type": "markdown",
   "metadata": {},
   "source": [
    "## O(n) time with Constant Space\n",
    "This method takes O(n) time and O(1) extra space.\n",
    "1. Get the middle of the linked list.\n",
    "2. Reverse the second half of the linked list.\n",
    "3. Check if the first half and second half are identical.\n",
    "4. Construct the original linked list by reversing the second half again and attaching it back to the first half"
   ]
  },
  {
   "cell_type": "code",
   "execution_count": 9,
   "metadata": {},
   "outputs": [],
   "source": [
    "def reverse(head):\n",
    "    prev = None\n",
    "    curr = head\n",
    "    next = None\n",
    "    \n",
    "    while curr:\n",
    "        next = curr.next\n",
    "        curr.next = prev\n",
    "        prev = curr \n",
    "        curr = next\n",
    "    \n",
    "    return prev"
   ]
  },
  {
   "cell_type": "code",
   "execution_count": 10,
   "metadata": {},
   "outputs": [],
   "source": [
    "def isEqual(list_1, list_2):\n",
    "    temp_1 = list_1\n",
    "    temp_2 = list_2\n",
    "    \n",
    "    while temp_1 or temp_2:\n",
    "        if ((temp_1.data != temp_2.data) or \n",
    "            (not temp_1 and temp_2) or\n",
    "            (temp_1 and not temp_2)):\n",
    "            return 0\n",
    "        \n",
    "        temp_1 = temp_1.next\n",
    "        temp_2 = temp_2.next\n",
    "    \n",
    "    return 1"
   ]
  },
  {
   "cell_type": "code",
   "execution_count": 11,
   "metadata": {},
   "outputs": [],
   "source": [
    "def isPalindrome(head):\n",
    "    if not head:\n",
    "        return 0\n",
    "    \n",
    "    slow = head\n",
    "    fast = head\n",
    "    \n",
    "    # find middle Node\n",
    "    while fast and fast.next:\n",
    "        prev = slow\n",
    "        slow = slow.next\n",
    "        fast = fast.next.next\n",
    "    \n",
    "    second = None\n",
    "    \n",
    "    # if list is Odd\n",
    "    if fast:\n",
    "        second = slow.next\n",
    "        slow.next = None\n",
    "    \n",
    "    # if list is Even\n",
    "    else:\n",
    "        second = slow\n",
    "    \n",
    "    # make first list by making it last node None\n",
    "    prev.next = None\n",
    "    \n",
    "    # Reverse the second the list\n",
    "    second = reverse(second)\n",
    "    \n",
    "    result = isEqual(head, second)\n",
    "    \n",
    "    # Making the Original List Again\n",
    "    # Reverse it again\n",
    "    second = reverse(second)\n",
    "    \n",
    "    # Join the List\n",
    "    if fast:\n",
    "        prev.next = slow\n",
    "        slow.next = second\n",
    "    else:\n",
    "        prev.next = second\n",
    "    \n",
    "    return result"
   ]
  },
  {
   "cell_type": "code",
   "execution_count": 12,
   "metadata": {},
   "outputs": [],
   "source": [
    "evenListPalindrome = [1,2,2,1]\n",
    "evenList = [1,2,2,3]\n",
    "oddListPalindrome = [1,2,3,2,1]\n",
    "oddList = [1,2,3,2,2]"
   ]
  },
  {
   "cell_type": "code",
   "execution_count": 13,
   "metadata": {},
   "outputs": [
    {
     "data": {
      "text/plain": [
       "1"
      ]
     },
     "execution_count": 13,
     "metadata": {},
     "output_type": "execute_result"
    }
   ],
   "source": [
    "head = None\n",
    "for i in evenListPalindrome:\n",
    "    head = insert(head, Node(i))\n",
    "#printList(head)\n",
    "isPalindrome(head)"
   ]
  },
  {
   "cell_type": "code",
   "execution_count": 14,
   "metadata": {},
   "outputs": [
    {
     "data": {
      "text/plain": [
       "0"
      ]
     },
     "execution_count": 14,
     "metadata": {},
     "output_type": "execute_result"
    }
   ],
   "source": [
    "head = None\n",
    "for i in evenList:\n",
    "    head = insert(head, Node(i))\n",
    "#printList(head)\n",
    "isPalindrome(head)"
   ]
  },
  {
   "cell_type": "code",
   "execution_count": 15,
   "metadata": {},
   "outputs": [
    {
     "data": {
      "text/plain": [
       "1"
      ]
     },
     "execution_count": 15,
     "metadata": {},
     "output_type": "execute_result"
    }
   ],
   "source": [
    "head = None\n",
    "for i in oddListPalindrome:\n",
    "    head = insert(head, Node(i))\n",
    "#printList(head)\n",
    "isPalindrome(head)"
   ]
  },
  {
   "cell_type": "code",
   "execution_count": 16,
   "metadata": {},
   "outputs": [
    {
     "data": {
      "text/plain": [
       "0"
      ]
     },
     "execution_count": 16,
     "metadata": {},
     "output_type": "execute_result"
    }
   ],
   "source": [
    "head = None\n",
    "for i in oddList:\n",
    "    head = insert(head, Node(i))\n",
    "#printList(head)\n",
    "isPalindrome(head)"
   ]
  },
  {
   "cell_type": "code",
   "execution_count": null,
   "metadata": {},
   "outputs": [],
   "source": []
  }
 ],
 "metadata": {
  "kernelspec": {
   "display_name": "Python 3",
   "language": "python",
   "name": "python3"
  },
  "language_info": {
   "codemirror_mode": {
    "name": "ipython",
    "version": 3
   },
   "file_extension": ".py",
   "mimetype": "text/x-python",
   "name": "python",
   "nbconvert_exporter": "python",
   "pygments_lexer": "ipython3",
   "version": "3.8.5"
  }
 },
 "nbformat": 4,
 "nbformat_minor": 2
}
