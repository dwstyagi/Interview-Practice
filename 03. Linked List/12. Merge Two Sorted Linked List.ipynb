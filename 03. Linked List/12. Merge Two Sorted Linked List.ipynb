{
 "cells": [
  {
   "cell_type": "code",
   "execution_count": 1,
   "metadata": {},
   "outputs": [],
   "source": [
    "class Node:\n",
    "    def __init__(self ,data):\n",
    "        self.data = data\n",
    "        self.next = None"
   ]
  },
  {
   "cell_type": "code",
   "execution_count": 2,
   "metadata": {},
   "outputs": [],
   "source": [
    "class LinkedList:\n",
    "    def __init__(self):\n",
    "        self.head = None\n",
    "        \n",
    "    def insert(self, value):\n",
    "        if self.head == None:\n",
    "            self.head = Node(value)\n",
    "        else:\n",
    "            new_node = Node(value)\n",
    "            temp = self.head\n",
    "            while temp.next:\n",
    "                temp = temp.next\n",
    "            temp.next = new_node\n",
    "    \n",
    "    def printList(self):\n",
    "        \n",
    "        if self.head == None:\n",
    "            return 0\n",
    "        else:\n",
    "            temp = self.head\n",
    "            while temp.next:\n",
    "                print(temp.data,end=\" -> \")\n",
    "                temp = temp.next\n",
    "            print(temp.data)"
   ]
  },
  {
   "cell_type": "code",
   "execution_count": 3,
   "metadata": {},
   "outputs": [
    {
     "name": "stdout",
     "output_type": "stream",
     "text": [
      "2 -> 3 -> 20\n"
     ]
    }
   ],
   "source": [
    "merge_l1 = LinkedList()\n",
    "for i in [2,3,20]:\n",
    "    merge_l1.insert(i)\n",
    "merge_l1.printList()"
   ]
  },
  {
   "cell_type": "code",
   "execution_count": 4,
   "metadata": {},
   "outputs": [
    {
     "name": "stdout",
     "output_type": "stream",
     "text": [
      "5 -> 10 -> 15 -> 40\n"
     ]
    }
   ],
   "source": [
    "merge_l2 = LinkedList()\n",
    "for i in [5,10,15,40]:\n",
    "    merge_l2.insert(i)\n",
    "merge_l2.printList()"
   ]
  },
  {
   "cell_type": "code",
   "execution_count": 5,
   "metadata": {},
   "outputs": [],
   "source": [
    "def merge(head_a, head_b):\n",
    "    \n",
    "    if head_a is None:\n",
    "        return head_b\n",
    "    \n",
    "    if head_b is None:\n",
    "        return head_a\n",
    "    \n",
    "    if head_a.data <= head_b.data:\n",
    "        temp = head_a\n",
    "        temp.next = merge(head_a.next, head_b)\n",
    "    else:\n",
    "        temp = head_b\n",
    "        temp.next = merge(head_a, head_b.next)\n",
    "    \n",
    "    return temp"
   ]
  },
  {
   "cell_type": "code",
   "execution_count": 6,
   "metadata": {},
   "outputs": [
    {
     "name": "stdout",
     "output_type": "stream",
     "text": [
      "2 -> 3 -> 5 -> 10 -> 15 -> 20 -> 40\n"
     ]
    }
   ],
   "source": [
    "merge_ = LinkedList()\n",
    "merge_.head = merge(merge_l1.head, merge_l2.head)\n",
    "merge_.printList()"
   ]
  },
  {
   "cell_type": "code",
   "execution_count": null,
   "metadata": {},
   "outputs": [],
   "source": []
  }
 ],
 "metadata": {
  "kernelspec": {
   "display_name": "Python 3",
   "language": "python",
   "name": "python3"
  },
  "language_info": {
   "codemirror_mode": {
    "name": "ipython",
    "version": 3
   },
   "file_extension": ".py",
   "mimetype": "text/x-python",
   "name": "python",
   "nbconvert_exporter": "python",
   "pygments_lexer": "ipython3",
   "version": "3.8.5"
  }
 },
 "nbformat": 4,
 "nbformat_minor": 2
}
