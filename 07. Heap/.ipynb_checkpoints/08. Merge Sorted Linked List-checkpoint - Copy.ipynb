{
 "cells": [
  {
   "cell_type": "code",
   "execution_count": 1,
   "metadata": {},
   "outputs": [],
   "source": [
    "class Node:\n",
    "    \n",
    "    def __init__(self ,data) :\n",
    "        self.data = data\n",
    "        self.next = None"
   ]
  },
  {
   "cell_type": "code",
   "execution_count": 2,
   "metadata": {},
   "outputs": [],
   "source": [
    "class LinkedList :\n",
    "    \n",
    "    def __init__(self) :\n",
    "        self.head = None\n",
    "    \n",
    "    def insert(self ,data) :\n",
    "        \n",
    "        if self.head is None:\n",
    "            self.head = Node(data)\n",
    "            return self.head\n",
    "        \n",
    "        temp = self.head\n",
    "        while temp.next is not None:\n",
    "            temp = temp.next\n",
    "        temp.next = Node(data)"
   ]
  },
  {
   "cell_type": "code",
   "execution_count": 3,
   "metadata": {},
   "outputs": [],
   "source": [
    "def printList(head) :\n",
    "    \n",
    "    if head is None:\n",
    "        return \n",
    "    \n",
    "    temp = head\n",
    "    \n",
    "    while temp.next is not None:\n",
    "        print(temp.data,end=\" -> \")\n",
    "        temp = temp.next\n",
    "    \n",
    "    print(temp.data)"
   ]
  },
  {
   "cell_type": "code",
   "execution_count": 4,
   "metadata": {},
   "outputs": [
    {
     "name": "stdout",
     "output_type": "stream",
     "text": [
      "1 -> 3 -> 5 -> 7\n"
     ]
    }
   ],
   "source": [
    "ll_1 = LinkedList()\n",
    "arr = [1,3,5,7]\n",
    "for i in arr :\n",
    "    ll_1.insert(i)\n",
    "printList(ll_1.head)"
   ]
  },
  {
   "cell_type": "code",
   "execution_count": 5,
   "metadata": {},
   "outputs": [
    {
     "name": "stdout",
     "output_type": "stream",
     "text": [
      "2 -> 4 -> 6 -> 8\n"
     ]
    }
   ],
   "source": [
    "ll_2 = LinkedList()\n",
    "arr = [2,4,6,8]\n",
    "for i in arr :\n",
    "    ll_2.insert(i)\n",
    "printList(ll_2.head)"
   ]
  },
  {
   "cell_type": "code",
   "execution_count": 6,
   "metadata": {},
   "outputs": [
    {
     "name": "stdout",
     "output_type": "stream",
     "text": [
      "0 -> 9 -> 10 -> 11\n"
     ]
    }
   ],
   "source": [
    "ll_3 = LinkedList()\n",
    "arr = [0,9,10,11]\n",
    "for i in arr :\n",
    "    ll_3.insert(i)\n",
    "printList(ll_3.head)"
   ]
  },
  {
   "cell_type": "code",
   "execution_count": 7,
   "metadata": {},
   "outputs": [],
   "source": [
    "def merge(head_a ,head_b) :\n",
    "    \n",
    "    if head_a is None:\n",
    "        return head_b\n",
    "    \n",
    "    if head_b is None:\n",
    "        return head_a\n",
    "    \n",
    "    if head_a.data <= head_b.data :\n",
    "        temp = head_a\n",
    "        temp.next = merge(head_a.next ,head_b)\n",
    "    \n",
    "    else :\n",
    "        temp = head_b \n",
    "        temp.next = merge(head_a ,head_b.next)\n",
    "    \n",
    "    return temp"
   ]
  },
  {
   "cell_type": "code",
   "execution_count": 8,
   "metadata": {},
   "outputs": [],
   "source": [
    "def mergeKSortedlinkedList(arr ,n) :\n",
    "    \n",
    "    while n != 0:\n",
    "        i = 0\n",
    "        j = n\n",
    "        \n",
    "        while i < j :\n",
    "            arr[i] = merge(arr[i] ,arr[j])\n",
    "            i += 1\n",
    "            j -= 1\n",
    "            \n",
    "            if  i >= j:\n",
    "                n = j\n",
    "    \n",
    "    return arr[0]"
   ]
  },
  {
   "cell_type": "code",
   "execution_count": 9,
   "metadata": {},
   "outputs": [],
   "source": [
    "arr = [ll_1.head ,ll_2.head ,ll_3.head]"
   ]
  },
  {
   "cell_type": "code",
   "execution_count": 10,
   "metadata": {},
   "outputs": [],
   "source": [
    "head = mergeKSortedlinkedList(arr , len(arr) - 1)"
   ]
  },
  {
   "cell_type": "code",
   "execution_count": 11,
   "metadata": {},
   "outputs": [
    {
     "name": "stdout",
     "output_type": "stream",
     "text": [
      "0 -> 1 -> 2 -> 3 -> 4 -> 5 -> 6 -> 7 -> 8 -> 9 -> 10 -> 11\n"
     ]
    }
   ],
   "source": [
    "printList(head)"
   ]
  },
  {
   "cell_type": "markdown",
   "metadata": {},
   "source": [
    "# Using MinHeap"
   ]
  },
  {
   "cell_type": "code",
   "execution_count": 12,
   "metadata": {},
   "outputs": [],
   "source": [
    "class MinHeapNode :\n",
    "    \n",
    "    def __init__(self ,data ,i ,j):\n",
    "        self.data = data\n",
    "        self.i = i # index value where data is taken from list\n",
    "        self.j = j # next index value to be picked from list"
   ]
  },
  {
   "cell_type": "code",
   "execution_count": 13,
   "metadata": {},
   "outputs": [],
   "source": [
    "class MinHeap :\n",
    "    \n",
    "    def __init__(self ,capacity) :\n",
    "        self.capacity = capacity\n",
    "        self.heap = [0 for i in range(capacity)]\n",
    "        self.size = 0\n",
    "    \n",
    "    def minHeapify(self ,i) :\n",
    "        smallest = i\n",
    "        l = 2 * i + 1\n",
    "        r = 2 * i + 2\n",
    "        \n",
    "        if l < self.size and self.heap[l].data < self.heap[smallest].data :\n",
    "            smallest = l\n",
    "        \n",
    "        if r < self.size and self.heap[r].data < self.heap[smallest].data :\n",
    "            smallest = r\n",
    "        \n",
    "        if smallest != i :\n",
    "            self.heap[smallest] ,self.heap[i] = self.heap[i] ,self.heap[smallest]\n",
    "            self.minHeapify(smallest)\n",
    "    \n",
    "    def insertKey(self ,node) :\n",
    "        \n",
    "        if self.size == self.capacity:\n",
    "            return -1\n",
    "        \n",
    "        self.heap[self.size] = node\n",
    "        child = self.size\n",
    "        parent = (child-1) // 2\n",
    "        self.size += 1\n",
    "        \n",
    "        while child > 0 and self.heap[parent].data > self.heap[child].data :\n",
    "            self.heap[parent] ,self.heap[child] = self.heap[child] ,self.heap[parent]\n",
    "            child = parent\n",
    "            parent = (child - 1) // 2\n",
    "    \n",
    "    def deleteKey(self ,i):\n",
    "        \n",
    "        if self.size < i :\n",
    "            return \n",
    "        \n",
    "        self.size -= 1\n",
    "        self.heap[i] = self.heap[self.size]\n",
    "        self.heap[self.size] = 0\n",
    "        self.minHeapify(i)\n",
    "    \n",
    "    def peek(self) :\n",
    "        \n",
    "        if self.size == 0:\n",
    "            return \n",
    "        return self.heap[0]\n",
    "    \n",
    "    def extractMin(self) :\n",
    "        \n",
    "        if self.size == 0:\n",
    "            return 0\n",
    "        \n",
    "        minn = self.heap[0]\n",
    "        self.deleteKey(0)\n",
    "        return minn"
   ]
  },
  {
   "cell_type": "code",
   "execution_count": 14,
   "metadata": {},
   "outputs": [],
   "source": [
    "def mergeKLinkedList(arr ,n):\n",
    "    \n",
    "    min_heap = MinHeap(len(arr)) \n",
    "    heap = LinkedList()\n",
    "    \n",
    "    for i in range(len(arr)):\n",
    "        node = MinHeapNode(arr[i].data ,i ,arr[i].next)\n",
    "        min_heap.insertKey(node)\n",
    "    \n",
    "    while min_heap.size != 0 :\n",
    "        node = min_heap.extractMin()\n",
    "        heap.insert(node.data)\n",
    "        \n",
    "        if node.j is None:\n",
    "            continue\n",
    "        \n",
    "        node = MinHeapNode(node.j.data , node.i , node.j.next)\n",
    "        min_heap.insertKey(node)\n",
    "    \n",
    "    return heap.head\n",
    "        "
   ]
  },
  {
   "cell_type": "code",
   "execution_count": 15,
   "metadata": {},
   "outputs": [
    {
     "name": "stdout",
     "output_type": "stream",
     "text": [
      "1 -> 3 -> 5 -> 7\n"
     ]
    }
   ],
   "source": [
    "ll_1 = LinkedList()\n",
    "arr = [1,3,5,7]\n",
    "for i in arr :\n",
    "    ll_1.insert(i)\n",
    "printList(ll_1.head)"
   ]
  },
  {
   "cell_type": "code",
   "execution_count": 16,
   "metadata": {},
   "outputs": [
    {
     "name": "stdout",
     "output_type": "stream",
     "text": [
      "2 -> 4 -> 6 -> 8\n"
     ]
    }
   ],
   "source": [
    "ll_2 = LinkedList()\n",
    "arr = [2,4,6,8]\n",
    "for i in arr :\n",
    "    ll_2.insert(i)\n",
    "printList(ll_2.head)"
   ]
  },
  {
   "cell_type": "code",
   "execution_count": 17,
   "metadata": {},
   "outputs": [
    {
     "name": "stdout",
     "output_type": "stream",
     "text": [
      "0 -> 9 -> 10 -> 11\n"
     ]
    }
   ],
   "source": [
    "ll_3 = LinkedList()\n",
    "arr = [0,9,10,11]\n",
    "for i in arr :\n",
    "    ll_3.insert(i)\n",
    "printList(ll_3.head)"
   ]
  },
  {
   "cell_type": "code",
   "execution_count": 18,
   "metadata": {},
   "outputs": [],
   "source": [
    "arr = [ll_1.head ,ll_2.head ,ll_3.head]"
   ]
  },
  {
   "cell_type": "code",
   "execution_count": 19,
   "metadata": {},
   "outputs": [],
   "source": [
    "arr = mergeKLinkedList(arr ,3)"
   ]
  },
  {
   "cell_type": "code",
   "execution_count": 20,
   "metadata": {},
   "outputs": [
    {
     "data": {
      "text/plain": [
       "<__main__.Node at 0x1f814e78128>"
      ]
     },
     "execution_count": 20,
     "metadata": {},
     "output_type": "execute_result"
    }
   ],
   "source": [
    "arr"
   ]
  },
  {
   "cell_type": "code",
   "execution_count": 22,
   "metadata": {},
   "outputs": [
    {
     "name": "stdout",
     "output_type": "stream",
     "text": [
      "0 -> 1 -> 2 -> 3 -> 4 -> 5 -> 6 -> 7 -> 8 -> 9 -> 10 -> 11\n"
     ]
    }
   ],
   "source": [
    "printList(arr)"
   ]
  },
  {
   "cell_type": "code",
   "execution_count": 23,
   "metadata": {},
   "outputs": [],
   "source": [
    "printList(ll.head)"
   ]
  },
  {
   "cell_type": "code",
   "execution_count": null,
   "metadata": {},
   "outputs": [],
   "source": []
  }
 ],
 "metadata": {
  "kernelspec": {
   "display_name": "Python 3",
   "language": "python",
   "name": "python3"
  },
  "language_info": {
   "codemirror_mode": {
    "name": "ipython",
    "version": 3
   },
   "file_extension": ".py",
   "mimetype": "text/x-python",
   "name": "python",
   "nbconvert_exporter": "python",
   "pygments_lexer": "ipython3",
   "version": "3.7.6"
  }
 },
 "nbformat": 4,
 "nbformat_minor": 2
}
