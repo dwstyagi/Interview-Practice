{
 "cells": [
  {
   "cell_type": "markdown",
   "metadata": {},
   "source": [
    "Given k sorted arrays of possibly different sizes, find m-th smallest value in the merged array.\n",
    "\n",
    "```\n",
    "Examples:\n",
    "\n",
    "Input: m = 5     \n",
    "      arr[][] = { {1, 3},\n",
    "                  {2, 4, 6},\n",
    "                  {0, 9, 10, 11}} ;\n",
    "Output: 4\n",
    "Explanation The merged array would\n",
    "be {0 1 2 3 4 6 9 10 11}.  The 5-th \n",
    "smallest element in this merged\n",
    "array is 4.\n",
    "\n",
    "Input: m = 6\n",
    "      arr[][] = { {1, 3, 20},\n",
    "                  {2, 4, 6}} ;\n",
    "Output: 20 \n",
    "```"
   ]
  },
  {
   "cell_type": "code",
   "execution_count": 1,
   "metadata": {},
   "outputs": [],
   "source": [
    "class minHeapNode:\n",
    "    def __init__(self, data, i, j):\n",
    "        self.data = data\n",
    "        self.i = i\n",
    "        self.j = j"
   ]
  },
  {
   "cell_type": "code",
   "execution_count": 3,
   "metadata": {},
   "outputs": [],
   "source": [
    "class minHeap :\n",
    "    \n",
    "    def __init__(self ,capacity) :\n",
    "        self.capacity = capacity\n",
    "        self.heap = [0 for i in range(self.capacity)]\n",
    "        self.size = 0\n",
    "    \n",
    "    def minHeapify(self ,i):\n",
    "        smallest = i\n",
    "        l = 2 * i + 1\n",
    "        r = 2 * i + 2\n",
    "        \n",
    "        if l < self.size and self.heap[l].data < self.heap[smallest].data :\n",
    "            smallest = l\n",
    "        \n",
    "        if r < self.size and self.heap[r].data < self.heap[smallest].data :\n",
    "            smallest = r\n",
    "        \n",
    "        if smallest != i :\n",
    "            self.heap[smallest] ,self.heap[i] = self.heap[i] ,self.heap[smallest]\n",
    "            self.minHeapify(smallest)\n",
    "        \n",
    "    def insertKey(self ,node):\n",
    "        \n",
    "        self.heap[self.size] = node\n",
    "        child = self.size\n",
    "        parent = (child-1) // 2\n",
    "        self.size += 1\n",
    "        \n",
    "        while child > 0 and self.heap[parent].data > self.heap[child].data :\n",
    "            self.heap[parent] ,self.heap[child] = self.heap[child] ,self.heap[parent]\n",
    "            child = parent\n",
    "            parent = (child-1) // 2\n",
    "        \n",
    "    def deleteKey(self ,i):\n",
    "        \n",
    "        if self.size < i :\n",
    "            return\n",
    "        \n",
    "        self.size -= 1\n",
    "        self.heap[i] = self.heap[self.size]\n",
    "        self.heap[self.size] = 0\n",
    "        self.minHeapify(i)\n",
    "    \n",
    "    def peek(self):\n",
    "        \n",
    "        if self.size == 0 :\n",
    "            return\n",
    "        \n",
    "        return self.heap[0]\n",
    "\n",
    "    def extractMin(self):\n",
    "        \n",
    "        if self.size == 0 :\n",
    "            return -1\n",
    "        \n",
    "        minn = self.heap[0]\n",
    "        self.deleteKey(0)\n",
    "        \n",
    "        return minn"
   ]
  },
  {
   "cell_type": "code",
   "execution_count": 16,
   "metadata": {},
   "outputs": [],
   "source": [
    "def mthElementInSortedArray(arr, m):\n",
    "    \n",
    "    heap = minHeap(len(arr))\n",
    "    \n",
    "    for i in range(len(arr)):\n",
    "        node = minHeapNode(arr[i][0], i, 1)\n",
    "        heap.insertKey(node)\n",
    "    \n",
    "    for i in range(m-1):\n",
    "        deletedNode = heap.extractMin()\n",
    "        \n",
    "        if deletedNode.j == len(arr[deletedNode.i]):\n",
    "            continue\n",
    "            \n",
    "        node = minHeapNode(arr[deletedNode.i][deletedNode.j], deletedNode.i, deletedNode.j+1)\n",
    "        heap.insertKey(node)\n",
    "    \n",
    "    return heap.peek().data"
   ]
  },
  {
   "cell_type": "code",
   "execution_count": 17,
   "metadata": {},
   "outputs": [
    {
     "data": {
      "text/plain": [
       "4"
      ]
     },
     "execution_count": 17,
     "metadata": {},
     "output_type": "execute_result"
    }
   ],
   "source": [
    "m = 5     \n",
    "arr = [[1, 3],\n",
    "       [2, 4, 6],\n",
    "       [0, 9, 10, 11]]\n",
    "mthElementInSortedArray(arr, m)"
   ]
  },
  {
   "cell_type": "code",
   "execution_count": null,
   "metadata": {},
   "outputs": [],
   "source": []
  }
 ],
 "metadata": {
  "kernelspec": {
   "display_name": "Python 3",
   "language": "python",
   "name": "python3"
  },
  "language_info": {
   "codemirror_mode": {
    "name": "ipython",
    "version": 3
   },
   "file_extension": ".py",
   "mimetype": "text/x-python",
   "name": "python",
   "nbconvert_exporter": "python",
   "pygments_lexer": "ipython3",
   "version": "3.7.6"
  }
 },
 "nbformat": 4,
 "nbformat_minor": 4
}
