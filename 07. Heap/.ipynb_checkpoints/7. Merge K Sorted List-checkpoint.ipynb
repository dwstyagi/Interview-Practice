{
 "cells": [
  {
   "cell_type": "code",
   "execution_count": 1,
   "metadata": {},
   "outputs": [],
   "source": [
    "def merge(arr):\n",
    "    \n",
    "    lis = []\n",
    "    \n",
    "    for i in arr :\n",
    "        for j in i :\n",
    "            lis.append(j)\n",
    "    \n",
    "    lis.sort()\n",
    "    return lis"
   ]
  },
  {
   "cell_type": "code",
   "execution_count": 2,
   "metadata": {},
   "outputs": [],
   "source": [
    "arr = [ \n",
    "        [2, 6, 12, 34], \n",
    "        [1, 9, 20, 1000], \n",
    "        [23, 34, 90, 2000] \n",
    "    ] "
   ]
  },
  {
   "cell_type": "code",
   "execution_count": 3,
   "metadata": {},
   "outputs": [
    {
     "name": "stdout",
     "output_type": "stream",
     "text": [
      "1 2 6 9 12 20 23 34 34 90 1000 2000\n"
     ]
    }
   ],
   "source": [
    "print(*merge(arr))"
   ]
  },
  {
   "cell_type": "code",
   "execution_count": 4,
   "metadata": {},
   "outputs": [],
   "source": [
    "arr = [\n",
    "    [1,2],\n",
    "    [2,3,4],\n",
    "    [5,6,7,8]\n",
    "]"
   ]
  },
  {
   "cell_type": "code",
   "execution_count": 5,
   "metadata": {},
   "outputs": [
    {
     "name": "stdout",
     "output_type": "stream",
     "text": [
      "1 2 2 3 4 5 6 7 8\n"
     ]
    }
   ],
   "source": [
    "print(*merge(arr))"
   ]
  },
  {
   "cell_type": "markdown",
   "metadata": {},
   "source": [
    "# Using Min Heaps"
   ]
  },
  {
   "cell_type": "code",
   "execution_count": 6,
   "metadata": {},
   "outputs": [],
   "source": [
    "class MinHeap :\n",
    "    \n",
    "    def __init__(self ,capacity) :\n",
    "        self.capacity = capacity\n",
    "        self.heap = [0 for i in range(self.capacity)]\n",
    "        self.size = 0\n",
    "    \n",
    "    def minHeapify(self ,i):\n",
    "        smallest = i\n",
    "        l = 2 * i + 1\n",
    "        r = 2 * i + 2\n",
    "        \n",
    "        if l < self.size and self.heap[l].data < self.heap[smallest].data :\n",
    "            smallest = l\n",
    "        \n",
    "        if r < self.size and self.heap[r].data < self.heap[smallest].data :\n",
    "            smallest = r\n",
    "        \n",
    "        if smallest != i :\n",
    "            self.heap[smallest] ,self.heap[i] = self.heap[i] ,self.heap[smallest]\n",
    "            self.minHeapify(smallest)\n",
    "        \n",
    "    def insertKey(self ,node):\n",
    "        \n",
    "        self.heap[self.size] = node\n",
    "        child = self.size\n",
    "        parent = (child-1) // 2\n",
    "        self.size += 1\n",
    "        \n",
    "        while child > 0 and self.heap[parent].data > self.heap[child].data :\n",
    "            self.heap[parent] ,self.heap[child] = self.heap[child] ,self.heap[parent]\n",
    "            child = parent\n",
    "            parent = (child-1) // 2\n",
    "        \n",
    "    def deleteKey(self ,i):\n",
    "        \n",
    "        if self.size < i :\n",
    "            return\n",
    "        \n",
    "        self.size -= 1\n",
    "        self.heap[i] = self.heap[self.size]\n",
    "        self.heap[self.size] = 0\n",
    "        self.minHeapify(i)\n",
    "    \n",
    "    def peek(self):\n",
    "        \n",
    "        if self.size == 0 :\n",
    "            return\n",
    "        \n",
    "        return self.heap[0]\n",
    "\n",
    "    def extractMin(self):\n",
    "        \n",
    "        if self.size == 0 :\n",
    "            return -1\n",
    "        \n",
    "        minn = self.heap[0]\n",
    "        self.deleteKey(0)\n",
    "        \n",
    "        return minn\n",
    "    \n",
    "    def printData(self) :\n",
    "        \n",
    "        if self.size == 0:\n",
    "            return 0\n",
    "        \n",
    "        for i in range(self.size) :\n",
    "            print(self.heap[i].data,end=\" \")"
   ]
  },
  {
   "cell_type": "code",
   "execution_count": 7,
   "metadata": {},
   "outputs": [],
   "source": [
    "class MinHeapData : \n",
    "    \n",
    "    def __init__(self ,data ,i ,j) :\n",
    "        self.data = data\n",
    "        self.i = i # index value where data is taken from list\n",
    "        self.j = j # next index value to be picked from list"
   ]
  },
  {
   "cell_type": "code",
   "execution_count": 8,
   "metadata": {},
   "outputs": [],
   "source": [
    "def mergeKSortedList(arr ,k) :\n",
    "    \n",
    "    min_heap = MinHeap(k)\n",
    "    heap = []\n",
    "    \n",
    "    for i in range(len(arr)) :\n",
    "        node = MinHeapData(arr[i][0], i, 1)\n",
    "        min_heap.insertKey(node)\n",
    "    \n",
    "    while min_heap.size != 0 :\n",
    "        node = min_heap.extractMin()\n",
    "        heap.append(node.data)\n",
    "        \n",
    "        if node.j == len(arr[node.i]) : # If Current List is empty again extract Minimum\n",
    "            continue\n",
    "        \n",
    "        node = MinHeapData(arr[node.i][node.j] ,node.i ,(node.j+1) )\n",
    "        min_heap.insertKey(node)\n",
    "    \n",
    "    return heap"
   ]
  },
  {
   "cell_type": "code",
   "execution_count": 9,
   "metadata": {},
   "outputs": [
    {
     "name": "stdout",
     "output_type": "stream",
     "text": [
      "1 2 2 3 4 5 6 7 8\n"
     ]
    }
   ],
   "source": [
    "arr = [\n",
    "    [1,2],\n",
    "    [2,3,4],\n",
    "    [5,6,7,8]\n",
    "]\n",
    "print(*mergeKSortedList(arr ,3))"
   ]
  },
  {
   "cell_type": "code",
   "execution_count": 10,
   "metadata": {},
   "outputs": [
    {
     "name": "stdout",
     "output_type": "stream",
     "text": [
      "1 2 2 3 4 5 6 7 8\n"
     ]
    }
   ],
   "source": [
    "print(*mergeKSortedList(arr ,3))"
   ]
  },
  {
   "cell_type": "code",
   "execution_count": 11,
   "metadata": {},
   "outputs": [],
   "source": [
    "arr = [[27, 41, 51, 100],\n",
    "       [120, 307, 690, 3000],\n",
    "       [30, 31, 83, 100], \n",
    "       [3, 24, 36, 68]]"
   ]
  },
  {
   "cell_type": "code",
   "execution_count": 12,
   "metadata": {},
   "outputs": [
    {
     "name": "stdout",
     "output_type": "stream",
     "text": [
      "3 24 27 30 31 36 41 51 68 83 100 100 120 307 690 3000\n"
     ]
    }
   ],
   "source": [
    "print(*merge(arr))"
   ]
  },
  {
   "cell_type": "code",
   "execution_count": 15,
   "metadata": {},
   "outputs": [
    {
     "name": "stdout",
     "output_type": "stream",
     "text": [
      "3 24 27 30 31 36 41 51 68 83 100 100 120 307 690 3000\n"
     ]
    }
   ],
   "source": [
    "print(*mergeKSortedList(arr ,4))"
   ]
  },
  {
   "cell_type": "code",
   "execution_count": 14,
   "metadata": {},
   "outputs": [
    {
     "name": "stdout",
     "output_type": "stream",
     "text": [
      "27\n",
      "120\n",
      "30\n",
      "3\n"
     ]
    }
   ],
   "source": [
    "arr = [[27, 41, 51, 100],\n",
    "       [120, 307, 690, 3000],\n",
    "       [30, 31, 83, 100], \n",
    "       [3, 24, 36, 68]]\n",
    "\n",
    "for i in range(len(arr)):\n",
    "    print(arr[i][0])"
   ]
  },
  {
   "cell_type": "code",
   "execution_count": null,
   "metadata": {},
   "outputs": [],
   "source": []
  }
 ],
 "metadata": {
  "kernelspec": {
   "display_name": "Python 3",
   "language": "python",
   "name": "python3"
  },
  "language_info": {
   "codemirror_mode": {
    "name": "ipython",
    "version": 3
   },
   "file_extension": ".py",
   "mimetype": "text/x-python",
   "name": "python",
   "nbconvert_exporter": "python",
   "pygments_lexer": "ipython3",
   "version": "3.7.3"
  }
 },
 "nbformat": 4,
 "nbformat_minor": 2
}
