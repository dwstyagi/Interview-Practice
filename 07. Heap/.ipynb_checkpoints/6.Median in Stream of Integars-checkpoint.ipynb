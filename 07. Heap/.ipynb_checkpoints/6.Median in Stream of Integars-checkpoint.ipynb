{
 "cells": [
  {
   "cell_type": "code",
   "execution_count": null,
   "metadata": {},
   "outputs": [],
   "source": []
  },
  {
   "cell_type": "code",
   "execution_count": 12,
   "metadata": {},
   "outputs": [],
   "source": [
    "def insertionSort(arr ,n):\n",
    "    \n",
    "     for j in range(1,n):\n",
    "            i = j - 1\n",
    "            key = arr[j]\n",
    "\n",
    "            while i >= 0 and arr[i] > key:\n",
    "                arr[i+1] = arr[i]\n",
    "                i -= 1\n",
    "            arr[i+1] = key"
   ]
  },
  {
   "cell_type": "code",
   "execution_count": 31,
   "metadata": {},
   "outputs": [],
   "source": [
    "def medianStream(arr) :\n",
    "    \n",
    "    n = len(arr)\n",
    "    print(arr[0])\n",
    "    for j in range(1,n):\n",
    "            i = j - 1\n",
    "            key = arr[j]\n",
    "\n",
    "            while i >= 0 and arr[i] > key:\n",
    "                arr[i+1] = arr[i]\n",
    "                i -= 1\n",
    "            arr[i+1] = key\n",
    "            \n",
    "            mid = j // 2\n",
    "        \n",
    "            if j % 2 == 1 :\n",
    "                print ((arr[mid]+arr[mid+1]) // 2)\n",
    "\n",
    "            else:\n",
    "                print(arr[mid])\n",
    "        "
   ]
  },
  {
   "cell_type": "code",
   "execution_count": 32,
   "metadata": {},
   "outputs": [
    {
     "name": "stdout",
     "output_type": "stream",
     "text": [
      "5\n",
      "10\n",
      "5\n",
      "4\n"
     ]
    }
   ],
   "source": [
    "arr = [5 ,15 ,1 ,3]\n",
    "#print(insertionSort(arr ,len(arr)))\n",
    "medianStream(arr)"
   ]
  },
  {
   "cell_type": "markdown",
   "metadata": {},
   "source": [
    "# Using Min Heaps"
   ]
  },
  {
   "cell_type": "code",
   "execution_count": 33,
   "metadata": {},
   "outputs": [],
   "source": [
    "class MinHeap:\n",
    "    \n",
    "    def __init__(self ,capacity) :\n",
    "        self.capacity = capacity\n",
    "        self.heap = [0 for i in range(capacity)]\n",
    "        self.size = 0\n",
    "        \n",
    "    def minHeapify(self ,i) :\n",
    "        \n",
    "        smallest = i    # Root\n",
    "        l = 2 * i + 1   # Left Child\n",
    "        r = 2 * i + 2   # Right Child\n",
    "        \n",
    "        if l < self.size and self.heap[l] < self.heap[smallest] :\n",
    "            smallest = l\n",
    "        \n",
    "        if r < self.size and self.heap[r] < self.heap[smallest] :\n",
    "            smallest = r\n",
    "        \n",
    "        if smallest != i :\n",
    "            self.heap[smallest] ,self.heap[i] = self.heap[i] ,self.heap[smallest]\n",
    "            self.minHeapify(smallest)  \n",
    "    \n",
    "    def insertKey(self ,data) :\n",
    "        \n",
    "        self.heap[self.size] = data\n",
    "        child = self.size\n",
    "        parent = (child-1)//2\n",
    "        self.size += 1\n",
    "        \n",
    "        while child > 0 and self.heap[child] < self.heap[parent]:\n",
    "            self.heap[child] ,self.heap[parent] = self.heap[parent] ,self.heap[child]\n",
    "            child = parent # child go to 1 level up\n",
    "            parent = (parent-1)//2 # parent go to 1 level up\n",
    "    \n",
    "    def deleteKey(self, i) :\n",
    "\n",
    "        if self.size <= i:\n",
    "            return -1\n",
    "\n",
    "        self.heap[i] = self.heap[self.size-1]\n",
    "        self.heap[self.size-1] = 0\n",
    "        self.size -= 1\n",
    "        self.minHeapify(i)\n",
    "    \n",
    "    def peek(self):\n",
    "        \n",
    "        if self.size < 0:\n",
    "            return -1\n",
    "        \n",
    "        return self.heap[0]\n",
    "        \n",
    "    def extractMin(self):\n",
    "        \n",
    "        if self.size < 0:\n",
    "            return -1\n",
    "\n",
    "        min_ = self.heap[0]\n",
    "        self.deleteKey(0)        \n",
    "        return min_  \n",
    "    \n",
    "    def printData(self):\n",
    "        if self.size == -1:\n",
    "            return -1\n",
    "\n",
    "        for i in range(self.size):\n",
    "            print(self.heap[i],end=\" \")"
   ]
  },
  {
   "cell_type": "code",
   "execution_count": 34,
   "metadata": {},
   "outputs": [],
   "source": [
    "class MaxHeap:\n",
    "    \n",
    "    def __init__(self ,capacity):\n",
    "        self.capacity = capacity\n",
    "        self.heap = [0 for i in range(self.capacity)]\n",
    "        self.size = 0\n",
    "\n",
    "    def maxHeapify(self ,i):\n",
    "\n",
    "        largest = i\n",
    "        l = 2 * i + 1\n",
    "        r = 2 * i + 2\n",
    "\n",
    "        if l < self.size and self.heap[l] > self.heap[largest] :\n",
    "            largest = l\n",
    "\n",
    "        if r < self.size and self.heap[r] > self.heap[largest] :\n",
    "            largest = r\n",
    "\n",
    "        if largest != i :\n",
    "            self.heap[largest] ,self.heap[i] = self.heap[i] ,self.heap[largest]\n",
    "            self.maxHeapify(largest)\n",
    "\n",
    "    def insertKey(self, data):\n",
    "\n",
    "        self.heap[self.size] = data\n",
    "        child = self.size\n",
    "        parent = (child-1)//2\n",
    "        self.size += 1\n",
    "\n",
    "        while child > 0 and self.heap[child] > self.heap[parent]:\n",
    "            self.heap[child] ,self.heap[parent] = self.heap[parent] ,self.heap[child]\n",
    "            child = parent # child go to 1 level up\n",
    "            parent = (parent-1)//2 # parent go to 1 level up\n",
    "\n",
    "    def deleteKey(self, i) :\n",
    "\n",
    "        if self.size < i:\n",
    "            return -1\n",
    "\n",
    "        self.heap[i] = self.heap[self.size - 1]\n",
    "        self.heap[self.size - 1] = 0\n",
    "        self.size -= 1\n",
    "        self.maxHeapify(i)\n",
    "\n",
    "    def extractMax(self):\n",
    "\n",
    "        if self.size < 0:\n",
    "            return -1\n",
    "\n",
    "        max_ = self.heap[0]\n",
    "        self.deleteKey(0)        \n",
    "        return max_\n",
    "    \n",
    "    def peek(self):\n",
    "        \n",
    "        if self.size < 0:\n",
    "            return -1\n",
    "        \n",
    "        return self.heap[0]\n",
    "\n",
    "    def printData(self):\n",
    "        if self.size == -1:\n",
    "            return -1\n",
    "\n",
    "        for i in range(self.size):\n",
    "            print(self.heap[i],end=\" \")"
   ]
  },
  {
   "cell_type": "code",
   "execution_count": 37,
   "metadata": {},
   "outputs": [],
   "source": [
    "def addNumber(number ,lower ,higher) :\n",
    "    \n",
    "    if lower.size == 0 or number < lower.peek():\n",
    "        lower.insertKey(number)\n",
    "        \n",
    "    else:\n",
    "        higher.insertKey(number)"
   ]
  },
  {
   "cell_type": "code",
   "execution_count": null,
   "metadata": {},
   "outputs": [],
   "source": [
    "def heapify(lower ,higher) :\n",
    "    \n",
    "    biggerHeap = lower if lower.size > higher.size else higher\n",
    "    smallerHeap = lower if lower.size < higher.size else lower\n",
    "    \n",
    "    while biggerHeap.size - smallerHeap.size >= 2 :\n",
    "        data = biggerHeap.deleteKey(0)\n",
    "        smallerHeap.insertKey(data)\n",
    "    \n",
    "    "
   ]
  },
  {
   "cell_type": "code",
   "execution_count": 40,
   "metadata": {},
   "outputs": [],
   "source": [
    "def getMedian(lower , higher) :\n",
    "    \n",
    "    biggerHeap = lower if lower.size > higher.size else higher\n",
    "    smallerHeap = lower if lower.size < higher.size else lower\n",
    "    \n",
    "    if biggerHeap.size == smallerHeap.size :\n",
    "        return (biggerHeap.peek() + smallerHeap.peek()) // 2 \n",
    "    \n",
    "    else:\n",
    "        return biggerHeap.peek()"
   ]
  },
  {
   "cell_type": "code",
   "execution_count": 41,
   "metadata": {},
   "outputs": [],
   "source": [
    "def findMedian (arr) :\n",
    "    \n",
    "    lower = MinHeap(len(arr)//2 + 1)\n",
    "    higher = MaxHeap(len(arr)//2 + 1)\n",
    "    \n",
    "    median = []\n",
    "    \n",
    "    for i in range(len(arr)):\n",
    "        \n",
    "        num = arr[i]\n",
    "        addNumber(num ,lower ,higher)\n",
    "        heapify(lower ,higher)\n",
    "        median.append(getMedian(lower ,higher))\n",
    "        \n",
    "        for i in median :\n",
    "            print(i)\n",
    "    "
   ]
  },
  {
   "cell_type": "code",
   "execution_count": 42,
   "metadata": {},
   "outputs": [
    {
     "name": "stdout",
     "output_type": "stream",
     "text": [
      "4\n",
      "5 15 1 3\n",
      "5\n",
      "10\n",
      "5\n",
      "4\n"
     ]
    }
   ],
   "source": [
    "n = int(input())\n",
    "arr = list(map(int ,input().rstrip().split()))\n",
    "medianStream(arr)"
   ]
  },
  {
   "cell_type": "code",
   "execution_count": 39,
   "metadata": {},
   "outputs": [
    {
     "data": {
      "text/plain": [
       "0"
      ]
     },
     "execution_count": 39,
     "metadata": {},
     "output_type": "execute_result"
    }
   ],
   "source": [
    "min_heap.size"
   ]
  },
  {
   "cell_type": "code",
   "execution_count": null,
   "metadata": {},
   "outputs": [],
   "source": []
  }
 ],
 "metadata": {
  "kernelspec": {
   "display_name": "Python 3",
   "language": "python",
   "name": "python3"
  },
  "language_info": {
   "codemirror_mode": {
    "name": "ipython",
    "version": 3
   },
   "file_extension": ".py",
   "mimetype": "text/x-python",
   "name": "python",
   "nbconvert_exporter": "python",
   "pygments_lexer": "ipython3",
   "version": "3.7.3"
  }
 },
 "nbformat": 4,
 "nbformat_minor": 2
}
