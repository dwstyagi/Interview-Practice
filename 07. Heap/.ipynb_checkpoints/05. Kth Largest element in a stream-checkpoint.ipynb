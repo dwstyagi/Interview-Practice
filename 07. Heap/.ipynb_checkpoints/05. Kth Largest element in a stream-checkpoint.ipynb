{
 "cells": [
  {
   "cell_type": "code",
   "execution_count": 16,
   "metadata": {},
   "outputs": [],
   "source": [
    "def insertion(arr):\n",
    "    n = len(arr)\n",
    "    \n",
    "    for j in range(1,n):\n",
    "        key = arr[j]\n",
    "        i = j-1\n",
    "        \n",
    "        while i >= 0 and arr[i] > key :\n",
    "            arr[i+1] = arr[i]\n",
    "            i -= 1\n",
    "        \n",
    "        arr[i+1] = key\n",
    "        \n",
    "    \n",
    "    return arr\n",
    "        "
   ]
  },
  {
   "cell_type": "code",
   "execution_count": 17,
   "metadata": {},
   "outputs": [
    {
     "data": {
      "text/plain": [
       "[122, 228, 229, 276, 366, 408, 433, 438, 475, 492, 552, 744, 857, 860, 937]"
      ]
     },
     "execution_count": 17,
     "metadata": {},
     "output_type": "execute_result"
    }
   ],
   "source": [
    "arr = [857 ,744 ,492 ,228 ,366 ,860 ,937 ,433 ,552 ,438 ,229 ,276 ,408 ,475 ,122]\n",
    "insertion(arr)"
   ]
  },
  {
   "cell_type": "code",
   "execution_count": 11,
   "metadata": {},
   "outputs": [
    {
     "data": {
      "text/plain": [
       "[122, 228, 229, 276, 366, 408, 433, 438, 475, 492, 552, 744, 857, 860, 937]"
      ]
     },
     "execution_count": 11,
     "metadata": {},
     "output_type": "execute_result"
    }
   ],
   "source": [
    "arr.sort()\n",
    "arr"
   ]
  },
  {
   "cell_type": "code",
   "execution_count": 1,
   "metadata": {},
   "outputs": [],
   "source": [
    "class MinHeap:\n",
    "    \n",
    "    def __init__(self ,capacity) :\n",
    "        self.capacity = capacity\n",
    "        self.heap = [0 for i in range(capacity)]\n",
    "        self.size = 0\n",
    "        \n",
    "    def minHeapify(self ,i) :\n",
    "        \n",
    "        smallest = i    # Root\n",
    "        l = 2 * i + 1   # Left Child\n",
    "        r = 2 * i + 2   # Right Child\n",
    "        \n",
    "        if l < self.size and self.heap[l] < self.heap[smallest] :\n",
    "            smallest = l\n",
    "        \n",
    "        if r < self.size and self.heap[r] < self.heap[smallest] :\n",
    "            smallest = r\n",
    "        \n",
    "        if smallest != i :\n",
    "            self.heap[smallest] ,self.heap[i] = self.heap[i] ,self.heap[smallest]\n",
    "            self.minHeapify(smallest)  \n",
    "    \n",
    "    def insertKey(self ,data) :\n",
    "        \n",
    "        self.heap[self.size] = data\n",
    "        child = self.size\n",
    "        parent = (child-1)//2\n",
    "        self.size += 1\n",
    "        \n",
    "        while child > 0 and self.heap[child] < self.heap[parent]:\n",
    "            self.heap[child] ,self.heap[parent] = self.heap[parent] ,self.heap[child]\n",
    "            child = parent # child go to 1 level up\n",
    "            parent = (parent-1)//2 # parent go to 1 level up\n",
    "    \n",
    "    def deleteKey(self, i) :\n",
    "\n",
    "        if self.size <= i:\n",
    "            return -1\n",
    "\n",
    "        self.heap[i] = self.heap[self.size-1]\n",
    "        self.heap[self.size-1] = 0\n",
    "        self.size -= 1\n",
    "        self.minHeapify(i)\n",
    "    \n",
    "    def peek(self):\n",
    "        \n",
    "        if self.size < 0:\n",
    "            return -1\n",
    "        \n",
    "        return self.heap[0]\n",
    "        \n",
    "    def extractMin(self):\n",
    "        \n",
    "        if self.size < 0:\n",
    "            return -1\n",
    "\n",
    "        min_ = self.heap[0]\n",
    "        self.deleteKey(0)        \n",
    "        return min_  \n",
    "    \n",
    "    def printData(self):\n",
    "        if self.size == -1:\n",
    "            return -1\n",
    "\n",
    "        for i in range(self.size):\n",
    "            print(self.heap[i],end=\" \")\n"
   ]
  },
  {
   "cell_type": "code",
   "execution_count": null,
   "metadata": {},
   "outputs": [],
   "source": []
  },
  {
   "cell_type": "code",
   "execution_count": null,
   "metadata": {},
   "outputs": [],
   "source": []
  },
  {
   "cell_type": "code",
   "execution_count": 13,
   "metadata": {},
   "outputs": [],
   "source": [
    "def findKthLargest(arr ,k) :\n",
    "    \n",
    "    min_heap = MinHeap(k+1)\n",
    "    \n",
    "    for i in range(n):\n",
    "        if i < k - 1 :\n",
    "            print(-1,end=\" \")\n",
    "            heap.insertKey(arr[i])\n",
    "            \n",
    "        \n",
    "        elif i == k - 1:\n",
    "            heap.insertKey(arr[i])\n",
    "            print(heap.peek(),end=\" \")\n",
    "        \n",
    "        else:\n",
    "            if arr[i] > heap.peek():\n",
    "                heap.deleteKey(0)\n",
    "                heap.insertKey(arr[i])\n",
    "                print(heap.peek(),end=\" \")\n",
    "                \n",
    "            elif arr[i] <= heap.peek():\n",
    "                print(heap.peek(),end=\" \")\n",
    "        \n",
    "    return largest\n"
   ]
  },
  {
   "cell_type": "code",
   "execution_count": 14,
   "metadata": {},
   "outputs": [
    {
     "data": {
      "text/plain": [
       "[-1, -1, -1, 228, 366, 492, 744, 433, 552, 438, 229, 276, 408, 475, 122]"
      ]
     },
     "execution_count": 14,
     "metadata": {},
     "output_type": "execute_result"
    }
   ],
   "source": [
    "arr = [857 ,744 ,492 ,228 ,366 ,860 ,937 ,433 ,552 ,438 ,229 ,276 ,408 ,475 ,122]\n",
    "findKthLargest(arr ,4)"
   ]
  },
  {
   "cell_type": "code",
   "execution_count": null,
   "metadata": {},
   "outputs": [],
   "source": []
  }
 ],
 "metadata": {
  "kernelspec": {
   "display_name": "Python 3",
   "language": "python",
   "name": "python3"
  },
  "language_info": {
   "codemirror_mode": {
    "name": "ipython",
    "version": 3
   },
   "file_extension": ".py",
   "mimetype": "text/x-python",
   "name": "python",
   "nbconvert_exporter": "python",
   "pygments_lexer": "ipython3",
   "version": "3.8.5"
  }
 },
 "nbformat": 4,
 "nbformat_minor": 2
}
