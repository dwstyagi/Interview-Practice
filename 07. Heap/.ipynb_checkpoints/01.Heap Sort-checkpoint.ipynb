{
 "cells": [
  {
   "cell_type": "markdown",
   "metadata": {},
   "source": [
    "# HeapSort Using Max - Heapify"
   ]
  },
  {
   "cell_type": "code",
   "execution_count": 10,
   "metadata": {},
   "outputs": [],
   "source": [
    "def max_heapify(arr ,n ,i):\n",
    "\n",
    "    largest = i\n",
    "    l = 2 * i + 1\n",
    "    r = 2 * i + 2\n",
    "    \n",
    "    if l < n and arr[l] > arr[largest] :\n",
    "        largest = l\n",
    "    \n",
    "    if r < n and arr[r] > arr[largest] :\n",
    "        largest = r\n",
    "    \n",
    "    if largest != i:\n",
    "        arr[largest] ,arr[i] = arr[i] ,arr[largest]\n",
    "        max_heapify(arr ,n ,largest)"
   ]
  },
  {
   "cell_type": "code",
   "execution_count": 11,
   "metadata": {},
   "outputs": [],
   "source": [
    "def heapSort(arr):\n",
    "    \n",
    "    n = len(arr)\n",
    "    nonLeaf = (n-1)//2\n",
    "    \n",
    "    # Build Max-heap\n",
    "    for i in range(nonLeaf ,-1 ,-1):\n",
    "        max_heapify(arr, n, i)\n",
    "    \n",
    "    for i in range(n-1 ,0 ,-1):\n",
    "        arr[i] ,arr[0] = arr[0] ,arr[i]\n",
    "        max_heapify(arr ,i ,0)"
   ]
  },
  {
   "cell_type": "code",
   "execution_count": 12,
   "metadata": {},
   "outputs": [
    {
     "name": "stdout",
     "output_type": "stream",
     "text": [
      "8 7 6 5 4 3 2 1 "
     ]
    }
   ],
   "source": [
    "arr = [4,3,7,1,5,8,6,2]\n",
    "heapSort(arr)\n",
    "for i in range(len(arr)-1, -1, -1):\n",
    "    print(arr[i],end = \" \")"
   ]
  },
  {
   "cell_type": "code",
   "execution_count": 13,
   "metadata": {},
   "outputs": [
    {
     "name": "stdout",
     "output_type": "stream",
     "text": [
      "1 2 3 4 5 6 7 8 "
     ]
    }
   ],
   "source": [
    "arr = [4,3,7,1,5,8,6,2]\n",
    "heapSort(arr)\n",
    "for i in arr:\n",
    "    print(i,end=\" \")"
   ]
  },
  {
   "cell_type": "markdown",
   "metadata": {},
   "source": [
    "# HeapSort Using Min - Heapify"
   ]
  },
  {
   "cell_type": "code",
   "execution_count": 14,
   "metadata": {},
   "outputs": [],
   "source": [
    "def min_heapify(arr ,n ,i):\n",
    "    smallest = i\n",
    "    l = 2 * i + 1\n",
    "    r = 2 * i + 2\n",
    "    \n",
    "    if l < n and arr[l] < arr[smallest] :\n",
    "        smallest = l\n",
    "    \n",
    "    if r < n and arr[r] < arr[smallest] :\n",
    "        smallest = r\n",
    "    \n",
    "    if smallest != i:\n",
    "        arr[i] ,arr[smallest] = arr[smallest] ,arr[i]\n",
    "        min_heapify(arr ,n ,smallest)"
   ]
  },
  {
   "cell_type": "code",
   "execution_count": 15,
   "metadata": {},
   "outputs": [
    {
     "name": "stdout",
     "output_type": "stream",
     "text": [
      "1 2 6 3 5 8 7 4 "
     ]
    }
   ],
   "source": [
    "arr = [4,3,7,1,5,8,6,2]\n",
    "n = len(arr)\n",
    "nonLeaf = (n-1)//2\n",
    "\n",
    "# Build Min-heap\n",
    "for i in range(nonLeaf ,-1 ,-1):\n",
    "    min_heapify(arr ,n ,i)\n",
    "\n",
    "for i in arr:\n",
    "    print(i,end=\" \")"
   ]
  },
  {
   "cell_type": "code",
   "execution_count": 16,
   "metadata": {},
   "outputs": [],
   "source": [
    "def heapSort(arr):\n",
    "    \n",
    "    n = len(arr)\n",
    "    nonLeaf = (n-1)//2\n",
    "    \n",
    "    # Build Min-heap\n",
    "    for i in range(nonLeaf ,-1 ,-1):\n",
    "        min_heapify(arr, n, i)\n",
    "    \n",
    "    for i in range(n-1 ,0 ,-1):\n",
    "        arr[i] ,arr[0] = arr[0] ,arr[i]\n",
    "        min_heapify(arr ,i ,0)"
   ]
  },
  {
   "cell_type": "code",
   "execution_count": 17,
   "metadata": {},
   "outputs": [
    {
     "name": "stdout",
     "output_type": "stream",
     "text": [
      "8 7 6 5 4 3 2 1 "
     ]
    }
   ],
   "source": [
    "arr = [4,3,7,1,5,8,6,2]\n",
    "heapSort(arr)\n",
    "for i in arr:\n",
    "    print(i,end=\" \")"
   ]
  },
  {
   "cell_type": "code",
   "execution_count": 18,
   "metadata": {},
   "outputs": [
    {
     "name": "stdout",
     "output_type": "stream",
     "text": [
      "1 2 3 4 5 6 7 8 "
     ]
    }
   ],
   "source": [
    "arr = [4,3,7,1,5,8,6,2]\n",
    "heapSort(arr)\n",
    "for i in range(len(arr)-1, -1, -1):\n",
    "    print(arr[i] ,end=\" \")"
   ]
  },
  {
   "cell_type": "code",
   "execution_count": null,
   "metadata": {},
   "outputs": [],
   "source": []
  }
 ],
 "metadata": {
  "kernelspec": {
   "display_name": "Python 3",
   "language": "python",
   "name": "python3"
  },
  "language_info": {
   "codemirror_mode": {
    "name": "ipython",
    "version": 3
   },
   "file_extension": ".py",
   "mimetype": "text/x-python",
   "name": "python",
   "nbconvert_exporter": "python",
   "pygments_lexer": "ipython3",
   "version": "3.7.6"
  }
 },
 "nbformat": 4,
 "nbformat_minor": 2
}
