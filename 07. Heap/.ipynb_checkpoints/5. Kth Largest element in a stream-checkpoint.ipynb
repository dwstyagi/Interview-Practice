{
 "cells": [
  {
   "cell_type": "code",
   "execution_count": 1,
   "metadata": {},
   "outputs": [],
   "source": [
    "class MinHeap:\n",
    "    \n",
    "    def __init__(self ,capacity) :\n",
    "        self.capacity = capacity\n",
    "        self.heap = [0 for i in range(capacity)]\n",
    "        self.size = 0\n",
    "        \n",
    "    def minHeapify(self ,i) :\n",
    "        \n",
    "        smallest = i    # Root\n",
    "        l = 2 * i + 1   # Left Child\n",
    "        r = 2 * i + 2   # Right Child\n",
    "        \n",
    "        if l < self.size and self.heap[l] < self.heap[smallest] :\n",
    "            smallest = l\n",
    "        \n",
    "        if r < self.size and self.heap[r] < self.heap[smallest] :\n",
    "            smallest = r\n",
    "        \n",
    "        if smallest != i :\n",
    "            self.heap[smallest] ,self.heap[i] = self.heap[i] ,self.heap[smallest]\n",
    "            self.minHeapify(smallest)  \n",
    "    \n",
    "    def insertKey(self ,data) :\n",
    "        \n",
    "        self.heap[self.size] = data\n",
    "        child = self.size\n",
    "        parent = (child-1)//2\n",
    "        self.size += 1\n",
    "        \n",
    "        while child > 0 and self.heap[child] < self.heap[parent]:\n",
    "            self.heap[child] ,self.heap[parent] = self.heap[parent] ,self.heap[child]\n",
    "            child = parent # child go to 1 level up\n",
    "            parent = (parent-1)//2 # parent go to 1 level up\n",
    "    \n",
    "    def deleteKey(self, i) :\n",
    "\n",
    "        if self.size <= i:\n",
    "            return -1\n",
    "\n",
    "        self.heap[i] = self.heap[self.size-1]\n",
    "        self.heap[self.size-1] = 0\n",
    "        self.size -= 1\n",
    "        self.minHeapify(i)\n",
    "    \n",
    "    def peek(self):\n",
    "        \n",
    "        if self.size < 0:\n",
    "            return -1\n",
    "        \n",
    "        return self.heap[0]\n",
    "        \n",
    "    def extract(self):\n",
    "        \n",
    "        if self.size < 0:\n",
    "            return -1\n",
    "\n",
    "        min_ = self.heap[0]\n",
    "        self.deleteKey(0)        \n",
    "        return min_  \n",
    "    \n",
    "    def printData(self):\n",
    "        if self.size == -1:\n",
    "            return -1\n",
    "\n",
    "        for i in range(self.size):\n",
    "            print(self.heap[i],end=\" \")\n"
   ]
  },
  {
   "cell_type": "code",
   "execution_count": 48,
   "metadata": {},
   "outputs": [],
   "source": [
    "def findKthLargest(arr ,k) :\n",
    "    \n",
    "    largest = []\n",
    "    \n",
    "    while k-1 and k < len(arr):\n",
    "        largest.append(-1)\n",
    "        k -= 1\n",
    "    \n",
    "    min_heap = MinHeap(k+1)\n",
    "    for i in arr[:] :\n",
    "        min_heap.insertKey(i)\n",
    "        \n",
    "        if min_heap.size > k :\n",
    "            largest.append(min_heap.peek())\n",
    "            min_heap.deleteKey(0)\n",
    "    \n",
    "    largest.append(min_heap.peek())\n",
    "        \n",
    "    return largest"
   ]
  },
  {
   "cell_type": "code",
   "execution_count": 49,
   "metadata": {},
   "outputs": [
    {
     "data": {
      "text/plain": [
       "[-1, -1, 1, 2, 3, 4, 5, 6]"
      ]
     },
     "execution_count": 49,
     "metadata": {},
     "output_type": "execute_result"
    }
   ],
   "source": [
    "arr = [1,2,3,4,5,6]\n",
    "findKthLargest(arr ,3)"
   ]
  },
  {
   "cell_type": "code",
   "execution_count": 20,
   "metadata": {},
   "outputs": [],
   "source": [
    "def findKthLargest(arr ,k) :\n",
    "        \n",
    "    min_heap = MinHeap(k+1)\n",
    "    for i in arr[:] :\n",
    "        min_heap.insertKey(i)\n",
    "        \n",
    "        if min_heap.size > k :\n",
    "            min_heap.deleteKey(0)\n",
    "        \n",
    "    return min_heap.peek()"
   ]
  },
  {
   "cell_type": "code",
   "execution_count": 21,
   "metadata": {},
   "outputs": [
    {
     "data": {
      "text/plain": [
       "4"
      ]
     },
     "execution_count": 21,
     "metadata": {},
     "output_type": "execute_result"
    }
   ],
   "source": [
    "arr =[1,2,3,4,5,6]\n",
    "findKthLargest(arr ,3)"
   ]
  },
  {
   "cell_type": "code",
   "execution_count": 22,
   "metadata": {},
   "outputs": [],
   "source": [
    "def findKthLargest(arr ,k) :\n",
    "    \n",
    "    largest = []\n",
    "    \n",
    "    while k:\n",
    "        largest.append(-1)\n",
    "        k -= 1\n",
    "    \n",
    "    min_heap = MinHeap()\n",
    "    for i in arr[:] :\n",
    "        min_heap.insertKey(i)\n",
    "        \n",
    "        if min_heap.size > k :\n",
    "            largest.append(min_heap.extract())\n",
    "        \n",
    "    #min_heap.printData()\n",
    "    #return min_heap.size\n",
    "    return largest"
   ]
  },
  {
   "cell_type": "code",
   "execution_count": null,
   "metadata": {},
   "outputs": [],
   "source": []
  }
 ],
 "metadata": {
  "kernelspec": {
   "display_name": "Python 3",
   "language": "python",
   "name": "python3"
  },
  "language_info": {
   "codemirror_mode": {
    "name": "ipython",
    "version": 3
   },
   "file_extension": ".py",
   "mimetype": "text/x-python",
   "name": "python",
   "nbconvert_exporter": "python",
   "pygments_lexer": "ipython3",
   "version": "3.7.3"
  }
 },
 "nbformat": 4,
 "nbformat_minor": 2
}
