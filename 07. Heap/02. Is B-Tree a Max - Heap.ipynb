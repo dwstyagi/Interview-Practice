{
 "cells": [
  {
   "cell_type": "code",
   "execution_count": 1,
   "metadata": {},
   "outputs": [],
   "source": [
    "def isHeap(root):\n",
    "    #Code Here\n",
    "    l,r = 0,0\n",
    "    \n",
    "    if root is None or (root.left is None and root.right is None):\n",
    "        return 1\n",
    "    if root.left is not None:\n",
    "        l = root.left.data\n",
    "    if root.right is not None:\n",
    "        r = root.right.data\n",
    "    \n",
    "    return ((l < root.data) and \n",
    "            (r < root.data) and \n",
    "            isHeap(root.left) and \n",
    "            isHeap(root.right))"
   ]
  },
  {
   "cell_type": "code",
   "execution_count": null,
   "metadata": {},
   "outputs": [],
   "source": []
  }
 ],
 "metadata": {
  "kernelspec": {
   "display_name": "Python 3",
   "language": "python",
   "name": "python3"
  },
  "language_info": {
   "codemirror_mode": {
    "name": "ipython",
    "version": 3
   },
   "file_extension": ".py",
   "mimetype": "text/x-python",
   "name": "python",
   "nbconvert_exporter": "python",
   "pygments_lexer": "ipython3",
   "version": "3.8.5"
  }
 },
 "nbformat": 4,
 "nbformat_minor": 2
}
