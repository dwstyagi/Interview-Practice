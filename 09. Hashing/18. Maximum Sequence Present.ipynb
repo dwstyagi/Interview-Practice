{
 "cells": [
  {
   "cell_type": "markdown",
   "metadata": {},
   "source": [
    "```\n",
    "Input: arr[] = {1, 9, 3, 10, 4, 20, 2}\n",
    "Output: 4\n",
    "The subsequence 1, 3, 4, 2 is the longest subsequence\n",
    "of consecutive elements\n",
    "\n",
    "\n",
    "\n",
    "Input: arr[] = {36, 41, 56, 35, 44, 33, 34, 92, 43, 32, 42}\n",
    "Output: 5\n",
    "The subsequence 36, 35, 33, 34, 32 is the longest subsequence\n",
    "of consecutive elements. \n",
    "\n",
    "```"
   ]
  },
  {
   "cell_type": "markdown",
   "metadata": {},
   "source": [
    "### Algorithm \n",
    "<ul>\n",
    "    <li>Create an empty hash.</li>\n",
    "    <li>Insert all array elements to hash.</li>\n",
    "    <li>Do following for every element arr[i].</li>\n",
    "    <ul>\n",
    "        <li>Check if this element is the starting point of a subsequence. To check this, we simply look for arr[i] – 1 in the hash, <br>if not found, then this is the first element a subsequence.</li>\n",
    "        <li>If this element is the first element, then count number of elements in the consecutive starting with this element. <br>Iterate from arr[i] + 1 till the last element that can be found.</li>\n",
    "        <li>If the count is more than the previous longest subsequence found, then update this.</li>\n",
    "    </ul>\n",
    "</ul>"
   ]
  },
  {
   "cell_type": "code",
   "execution_count": 15,
   "metadata": {},
   "outputs": [],
   "source": [
    "def longestSequence(array):\n",
    "    \n",
    "    visited = {i:0 for i in array}\n",
    "    left = 0\n",
    "    right = 0\n",
    "    \n",
    "    for i in array:\n",
    "        if not visited[i]:\n",
    "            left_count = i-1\n",
    "            right_count = i+1\n",
    "\n",
    "            # Search for max left\n",
    "            while left_count in visited:\n",
    "                visited[left_count] = 1\n",
    "                left_count -= 1\n",
    "            left_count += 1\n",
    "\n",
    "            # Search for Max Right\n",
    "            while right_count in visited:\n",
    "                visited[right_count] = 1\n",
    "                right_count += 1\n",
    "            right_count -= 1\n",
    "\n",
    "            # find who's got max Range\n",
    "            if (abs(left-right) < abs(left_count-right_count)):\n",
    "                left = left_count\n",
    "                right = right_count\n",
    "    \n",
    "    return [left ,right]\n",
    "    "
   ]
  },
  {
   "cell_type": "code",
   "execution_count": 16,
   "metadata": {},
   "outputs": [
    {
     "data": {
      "text/plain": [
       "[1, 4]"
      ]
     },
     "execution_count": 16,
     "metadata": {},
     "output_type": "execute_result"
    }
   ],
   "source": [
    "arr = [1, 9, 3, 10, 4, 20, 2]\n",
    "longestSequence(arr)"
   ]
  },
  {
   "cell_type": "code",
   "execution_count": 17,
   "metadata": {},
   "outputs": [
    {
     "data": {
      "text/plain": [
       "[32, 36]"
      ]
     },
     "execution_count": 17,
     "metadata": {},
     "output_type": "execute_result"
    }
   ],
   "source": [
    "arr = [36, 41, 56, 35, 44, 33, 34, 92, 43, 32, 42]\n",
    "longestSequence(arr)"
   ]
  },
  {
   "cell_type": "code",
   "execution_count": 18,
   "metadata": {},
   "outputs": [
    {
     "data": {
      "text/plain": [
       "[3, 8]"
      ]
     },
     "execution_count": 18,
     "metadata": {},
     "output_type": "execute_result"
    }
   ],
   "source": [
    "arr = [ 3, 10, 3, 11, 4, 5, 6, 7, 8, 12]\n",
    "longestSequence(arr)"
   ]
  },
  {
   "cell_type": "code",
   "execution_count": null,
   "metadata": {},
   "outputs": [],
   "source": []
  }
 ],
 "metadata": {
  "kernelspec": {
   "display_name": "Python 3",
   "language": "python",
   "name": "python3"
  },
  "language_info": {
   "codemirror_mode": {
    "name": "ipython",
    "version": 3
   },
   "file_extension": ".py",
   "mimetype": "text/x-python",
   "name": "python",
   "nbconvert_exporter": "python",
   "pygments_lexer": "ipython3",
   "version": "3.8.5"
  }
 },
 "nbformat": 4,
 "nbformat_minor": 2
}
