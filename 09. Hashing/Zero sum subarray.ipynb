{
 "cells": [
  {
   "cell_type": "raw",
   "metadata": {},
   "source": [
    "1. Maintain sum of elements encountered so far in a variable (say sum).\n",
    "2. If current sum is 0, we found a subarray starting from index 0 and ending at index current index\n",
    "3. Check if current sum exists in the hash table or not.\n",
    "4. If current sum already exists in the hash table then it indicates that this sum was the sum of some sub-array elements          arr[0]   …arr[i] and now the same sum is obtained for the current sub-array arr[0]…arr[j] which means that the sum of the      sub-array     arr[i+1]…arr[j] must be 0.\n",
    "5. Insert current sum into the hash table "
   ]
  },
  {
   "cell_type": "code",
   "execution_count": 53,
   "metadata": {},
   "outputs": [],
   "source": [
    "\n",
    "def zeroSum(A):\n",
    "    \n",
    "    summ,count = 0,0\n",
    "    dic = {}\n",
    "    \n",
    "    for i in range(len(A)):\n",
    "        summ += A[i]\n",
    "        \n",
    "        try:\n",
    "            dic[summ].append(i)\n",
    "        except:\n",
    "            dic[summ] = [i]\n",
    "            \n",
    "    \n",
    "    for keys ,values in dic.items():\n",
    "        if keys == 0:\n",
    "            count += len(values)\n",
    "        else:\n",
    "            count += len(values) - 1\n",
    "\n",
    "    return count"
   ]
  },
  {
   "cell_type": "code",
   "execution_count": 54,
   "metadata": {},
   "outputs": [
    {
     "data": {
      "text/plain": [
       "4"
      ]
     },
     "execution_count": 54,
     "metadata": {},
     "output_type": "execute_result"
    }
   ],
   "source": [
    "arr = [6, 3, -1, -3, 4, -2, 2, 4, 6, -12, -7]\n",
    "zeroSum(arr)"
   ]
  },
  {
   "cell_type": "code",
   "execution_count": 55,
   "metadata": {},
   "outputs": [
    {
     "data": {
      "text/plain": [
       "4"
      ]
     },
     "execution_count": 55,
     "metadata": {},
     "output_type": "execute_result"
    }
   ],
   "source": [
    "arr = [0 ,0 ,5 ,5 ,0 ,0]\n",
    "zeroSum(arr)"
   ]
  },
  {
   "cell_type": "code",
   "execution_count": null,
   "metadata": {},
   "outputs": [],
   "source": []
  }
 ],
 "metadata": {
  "kernelspec": {
   "display_name": "Python 3",
   "language": "python",
   "name": "python3"
  },
  "language_info": {
   "codemirror_mode": {
    "name": "ipython",
    "version": 3
   },
   "file_extension": ".py",
   "mimetype": "text/x-python",
   "name": "python",
   "nbconvert_exporter": "python",
   "pygments_lexer": "ipython3",
   "version": "3.7.6"
  }
 },
 "nbformat": 4,
 "nbformat_minor": 2
}
