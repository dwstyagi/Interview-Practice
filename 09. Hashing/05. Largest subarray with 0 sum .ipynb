{
 "cells": [
  {
   "cell_type": "markdown",
   "metadata": {},
   "source": [
    "##### A simple solution is to consider all subarrays one by one and check the sum of every subarray. We can run two loops: the outer loop picks a starting point i and the inner loop tries all subarrays starting from i. Time complexity of this method is O(n2)."
   ]
  },
  {
   "cell_type": "markdown",
   "metadata": {},
   "source": [
    "## Note : SubArray Means Consective Integar, Subsequence means any integar"
   ]
  },
  {
   "cell_type": "markdown",
   "metadata": {},
   "source": [
    "```\n",
    "Input: arr[] = {15, -2, 2, -8, 1, 7, 10, 23};\n",
    "Output: 5\n",
    "The largest subarray with 0 sum is -2, 2, -8, 1, 7\n",
    "```"
   ]
  },
  {
   "cell_type": "code",
   "execution_count": 3,
   "metadata": {},
   "outputs": [],
   "source": [
    "def largestSum(arr):\n",
    "    \n",
    "    n = len(arr)\n",
    "    \n",
    "    max_len = 0\n",
    "    \n",
    "    for i in range(n) :\n",
    "        curr_sum = 0\n",
    "        \n",
    "        for j in range(i ,n) :\n",
    "            curr_sum += arr[j]\n",
    "            \n",
    "            if curr_sum == 0:\n",
    "                max_len = max(max_len ,(j-i)+1)\n",
    "    \n",
    "    return max_len"
   ]
  },
  {
   "cell_type": "code",
   "execution_count": 4,
   "metadata": {},
   "outputs": [
    {
     "data": {
      "text/plain": [
       "5"
      ]
     },
     "execution_count": 4,
     "metadata": {},
     "output_type": "execute_result"
    }
   ],
   "source": [
    "arr = [15, -2, 2, -8, 1, 7, 10, 23]\n",
    "largestSum(arr)"
   ]
  },
  {
   "cell_type": "markdown",
   "metadata": {},
   "source": [
    "```\n",
    "Efficient Approach: We can use Hashing to solve this problem in O(n) time. The idea is to iterate through the array and for every element arr[i], calculate sum of elements form 0 to i (this can simply be done as sum += arr[i]). If the current sum has been seen before, then there is a zero sum array. Hashing is used to store the sum values, so that we can quickly store sum and find out whether the current sum is seen before or not. Use a hash-map to check if the sum has been seen before or not. \n",
    "```"
   ]
  },
  {
   "cell_type": "code",
   "execution_count": 17,
   "metadata": {},
   "outputs": [],
   "source": [
    "def largestSumHash(arr):\n",
    "    \n",
    "    dic = {}\n",
    "    \n",
    "    curr_sum = 0\n",
    "    max_len = 0\n",
    "    \n",
    "    for i in range(len(arr)):\n",
    "        \n",
    "        curr_sum += arr[i]\n",
    "        \n",
    "        if arr[i] == 0 and max_len == 0:\n",
    "            max_len = 1\n",
    "        \n",
    "        if curr_sum == 0:\n",
    "            max_len = i+1\n",
    "        \n",
    "        if curr_sum in dic:\n",
    "            max_len = max(max_len ,i-dic[curr_sum])\n",
    "        else:\n",
    "            dic[curr_sum] = i\n",
    "    \n",
    "    return max_len\n",
    "        "
   ]
  },
  {
   "cell_type": "code",
   "execution_count": 18,
   "metadata": {},
   "outputs": [
    {
     "data": {
      "text/plain": [
       "5"
      ]
     },
     "execution_count": 18,
     "metadata": {},
     "output_type": "execute_result"
    }
   ],
   "source": [
    "arr = [15, -2, 2, -8, 1, 7, 10, 23]\n",
    "largestSumHash(arr)"
   ]
  },
  {
   "cell_type": "code",
   "execution_count": null,
   "metadata": {},
   "outputs": [],
   "source": []
  }
 ],
 "metadata": {
  "kernelspec": {
   "display_name": "Python 3",
   "language": "python",
   "name": "python3"
  },
  "language_info": {
   "codemirror_mode": {
    "name": "ipython",
    "version": 3
   },
   "file_extension": ".py",
   "mimetype": "text/x-python",
   "name": "python",
   "nbconvert_exporter": "python",
   "pygments_lexer": "ipython3",
   "version": "3.8.5"
  }
 },
 "nbformat": 4,
 "nbformat_minor": 2
}
