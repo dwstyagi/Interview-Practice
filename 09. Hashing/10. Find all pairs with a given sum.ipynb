{
 "cells": [
  {
   "cell_type": "code",
   "execution_count": 7,
   "metadata": {},
   "outputs": [],
   "source": [
    "# A, B are in Sorted Order\n",
    "def findPair(A ,X):\n",
    "    \n",
    "    l = 0\n",
    "    r = len(A)-1\n",
    "    flag = 1\n",
    "\n",
    "    while l<r :\n",
    "        curr_sum = A[l]+A[r]\n",
    "        if curr_sum == X:\n",
    "            print(\"({} {})\".format(A[l],A[r]),end=\" \")\n",
    "            l += 1\n",
    "            r -= 1\n",
    "            flag = 0\n",
    "        \n",
    "        elif curr_sum < X:\n",
    "            l += 1\n",
    "        \n",
    "        else:\n",
    "            r -= 1\n",
    "    \n",
    "    if flag:\n",
    "        print(-1)\n",
    "            \n",
    "    "
   ]
  },
  {
   "cell_type": "code",
   "execution_count": 8,
   "metadata": {},
   "outputs": [
    {
     "name": "stdout",
     "output_type": "stream",
     "text": [
      "(-1 7) (1 5) "
     ]
    }
   ],
   "source": [
    "A = [1, 5, 7, -1, 5]\n",
    "A.sort()\n",
    "findPair(A ,6)"
   ]
  },
  {
   "cell_type": "code",
   "execution_count": 13,
   "metadata": {},
   "outputs": [],
   "source": [
    "def findPair(A ,B ,X):\n",
    "    \n",
    "    smallerArray = A if len(A) <= len(B) else B\n",
    "    largerArray = A if len(A) > len(B) else B\n",
    "    \n",
    "    dic = {}\n",
    "    \n",
    "    for i in largerArray:\n",
    "        dic[X-i] = i\n",
    "    \n",
    "    flag = 1\n",
    "    for i in smallerArray:\n",
    "        if i in dic:\n",
    "            print(\"({} {})\".format(i,dic[i]),end=\", \")\n",
    "            flag = 0\n",
    "    \n",
    "    if flag == 1:\n",
    "        print(-1)\n",
    "    \n",
    "    "
   ]
  },
  {
   "cell_type": "code",
   "execution_count": 14,
   "metadata": {},
   "outputs": [
    {
     "name": "stdout",
     "output_type": "stream",
     "text": [
      "(1 8), (4 5), (5 4), "
     ]
    }
   ],
   "source": [
    "A = [1 ,2 ,4 ,5 ,7]\n",
    "B = [5 ,6 ,3 ,4 ,8]\n",
    "X = 9\n",
    "findPair(A ,B ,X)"
   ]
  },
  {
   "cell_type": "code",
   "execution_count": null,
   "metadata": {},
   "outputs": [],
   "source": []
  }
 ],
 "metadata": {
  "kernelspec": {
   "display_name": "Python 3",
   "language": "python",
   "name": "python3"
  },
  "language_info": {
   "codemirror_mode": {
    "name": "ipython",
    "version": 3
   },
   "file_extension": ".py",
   "mimetype": "text/x-python",
   "name": "python",
   "nbconvert_exporter": "python",
   "pygments_lexer": "ipython3",
   "version": "3.8.5"
  }
 },
 "nbformat": 4,
 "nbformat_minor": 2
}
