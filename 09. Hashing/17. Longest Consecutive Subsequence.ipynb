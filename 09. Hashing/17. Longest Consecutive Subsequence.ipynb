{
 "cells": [
  {
   "cell_type": "raw",
   "metadata": {},
   "source": [
    "Create an empty hash(Set).\n",
    "Insert all array elements to hash.\n",
    "Do following for every element arr[i]\n",
    "  -> Check if this element is the starting point of a subsequence. To check this, we simply look for arr[i] – 1 in the hash, if      not found, then this is the first element a subsequence. \n",
    "  -> If this element is the first element, then count number of elements in the consecutive starting with this element. Iterate      from arr[i] + 1 till the last element that can be found. \n",
    "  ->If the count is more than the previous longest subsequence found, then update this. "
   ]
  },
  {
   "cell_type": "code",
   "execution_count": 10,
   "metadata": {},
   "outputs": [],
   "source": [
    "def longestSequences(arr):\n",
    "    \n",
    "    s = set()\n",
    "    ans = 0\n",
    "    \n",
    "    for i in arr:\n",
    "        s.add(i)\n",
    "    \n",
    "    for i in arr:\n",
    "        \n",
    "        if i-1 not in s:\n",
    "            \n",
    "            j = i\n",
    "            while j in s:\n",
    "                j += 1\n",
    "            ans = max(ans ,j-i)\n",
    "            \n",
    "    \n",
    "    return s\n",
    "    "
   ]
  },
  {
   "cell_type": "code",
   "execution_count": 11,
   "metadata": {},
   "outputs": [
    {
     "data": {
      "text/plain": [
       "{1, 2, 3, 4, 9, 10, 20}"
      ]
     },
     "execution_count": 11,
     "metadata": {},
     "output_type": "execute_result"
    }
   ],
   "source": [
    "arr = [1, 9, 3, 10, 4, 20, 2] \n",
    "longestSequences(arr)"
   ]
  },
  {
   "cell_type": "code",
   "execution_count": 12,
   "metadata": {},
   "outputs": [
    {
     "data": {
      "text/plain": [
       "{32, 33, 34, 35, 36, 41, 42, 43, 44, 56, 92}"
      ]
     },
     "execution_count": 12,
     "metadata": {},
     "output_type": "execute_result"
    }
   ],
   "source": [
    "arr = [36, 41, 56, 35, 44, 33, 34, 92, 43, 32, 42] \n",
    "longestSequences(arr)"
   ]
  },
  {
   "cell_type": "code",
   "execution_count": null,
   "metadata": {},
   "outputs": [],
   "source": []
  }
 ],
 "metadata": {
  "kernelspec": {
   "display_name": "Python 3",
   "language": "python",
   "name": "python3"
  },
  "language_info": {
   "codemirror_mode": {
    "name": "ipython",
    "version": 3
   },
   "file_extension": ".py",
   "mimetype": "text/x-python",
   "name": "python",
   "nbconvert_exporter": "python",
   "pygments_lexer": "ipython3",
   "version": "3.8.5"
  }
 },
 "nbformat": 4,
 "nbformat_minor": 2
}
