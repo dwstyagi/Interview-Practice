{
 "cells": [
  {
   "cell_type": "code",
   "execution_count": 1,
   "metadata": {},
   "outputs": [],
   "source": [
    "def uncommonCharacters(S1 ,S2):\n",
    "    dic = {}\n",
    "\n",
    "    for i in S1:\n",
    "        if i not in dic:\n",
    "            dic[i] = 1\n",
    "\n",
    "    S = \"\"        \n",
    "    for i in S2:\n",
    "        if i in dic and i in S1:\n",
    "            dic.pop(i)\n",
    "            S += i\n",
    "        elif i not in dic and i not in S:\n",
    "            dic[i] = 1\n",
    "            \n",
    "    \n",
    "    S = \"\"\n",
    "    for keys ,values in dic.items():\n",
    "        if values != 0:\n",
    "            S += keys\n",
    "    \n",
    "    return(''.join(sorted(S)))"
   ]
  },
  {
   "cell_type": "code",
   "execution_count": 2,
   "metadata": {},
   "outputs": [
    {
     "data": {
      "text/plain": [
       "'bclpr'"
      ]
     },
     "execution_count": 2,
     "metadata": {},
     "output_type": "execute_result"
    }
   ],
   "source": [
    "S1 = \"characters\"\n",
    "S2 = \"alphabets\"\n",
    "uncommonCharacters(S1, S2)"
   ]
  },
  {
   "cell_type": "code",
   "execution_count": 3,
   "metadata": {},
   "outputs": [
    {
     "data": {
      "text/plain": [
       "'ijs'"
      ]
     },
     "execution_count": 3,
     "metadata": {},
     "output_type": "execute_result"
    }
   ],
   "source": [
    "S1 = \"iaduai\"\n",
    "S2 = \"audsjdsa\"\n",
    "uncommonCharacters(S1 ,S2)"
   ]
  },
  {
   "cell_type": "code",
   "execution_count": 4,
   "metadata": {},
   "outputs": [
    {
     "data": {
      "text/plain": [
       "{'i': 1, 's': 1, 'j': 1}"
      ]
     },
     "execution_count": 4,
     "metadata": {},
     "output_type": "execute_result"
    }
   ],
   "source": [
    "S1 = \"iaduai\"\n",
    "S2 = \"audsjdsa\"\n",
    "dic= {}\n",
    "\n",
    "for i in S1:\n",
    "    if i not in dic:\n",
    "        dic[i] = 1\n",
    "\n",
    "S = \"\"        \n",
    "for i in S2:\n",
    "    if i in dic and i in S1:\n",
    "        dic.pop(i)\n",
    "        S += i\n",
    "    elif i not in dic and i not in S:\n",
    "        dic[i] = 1\n",
    "\n",
    "dic"
   ]
  },
  {
   "cell_type": "code",
   "execution_count": 5,
   "metadata": {},
   "outputs": [
    {
     "data": {
      "text/plain": [
       "False"
      ]
     },
     "execution_count": 5,
     "metadata": {},
     "output_type": "execute_result"
    }
   ],
   "source": [
    "'b' in S1"
   ]
  },
  {
   "cell_type": "code",
   "execution_count": null,
   "metadata": {},
   "outputs": [],
   "source": []
  }
 ],
 "metadata": {
  "kernelspec": {
   "display_name": "Python 3",
   "language": "python",
   "name": "python3"
  },
  "language_info": {
   "codemirror_mode": {
    "name": "ipython",
    "version": 3
   },
   "file_extension": ".py",
   "mimetype": "text/x-python",
   "name": "python",
   "nbconvert_exporter": "python",
   "pygments_lexer": "ipython3",
   "version": "3.7.3"
  }
 },
 "nbformat": 4,
 "nbformat_minor": 2
}
