{
 "cells": [
  {
   "cell_type": "code",
   "execution_count": 1,
   "metadata": {},
   "outputs": [],
   "source": [
    "def subset(A1 ,A2):\n",
    "    dic = {}\n",
    "    \n",
    "    for i in A1:\n",
    "        if i not in dic:\n",
    "            dic[i] = 1\n",
    "    \n",
    "    for i in A2:\n",
    "        if i not in dic:\n",
    "            return 'No'\n",
    "        \n",
    "    return 'Yes'"
   ]
  },
  {
   "cell_type": "code",
   "execution_count": 2,
   "metadata": {},
   "outputs": [
    {
     "name": "stdout",
     "output_type": "stream",
     "text": [
      "Yes\n"
     ]
    }
   ],
   "source": [
    "A1 = [11 ,1 ,13 ,21 ,3 ,7]\n",
    "A2 = [11 ,3 ,7 ,1]\n",
    "print(subset(A1 ,A2))"
   ]
  },
  {
   "cell_type": "code",
   "execution_count": 3,
   "metadata": {},
   "outputs": [
    {
     "name": "stdout",
     "output_type": "stream",
     "text": [
      "Yes\n"
     ]
    }
   ],
   "source": [
    "A1 = [1 ,2 ,3 ,4 ,5 ,6]\n",
    "A2 = [1 ,2 ,4]\n",
    "print(subset(A1 ,A2))"
   ]
  },
  {
   "cell_type": "code",
   "execution_count": 4,
   "metadata": {},
   "outputs": [
    {
     "name": "stdout",
     "output_type": "stream",
     "text": [
      "No\n"
     ]
    }
   ],
   "source": [
    "A1 = [10 ,5 ,2 ,23 ,19]\n",
    "A2 = [19 ,5 ,3]\n",
    "print(subset(A1 ,A2))"
   ]
  }
 ],
 "metadata": {
  "kernelspec": {
   "display_name": "Python 3",
   "language": "python",
   "name": "python3"
  },
  "language_info": {
   "codemirror_mode": {
    "name": "ipython",
    "version": 3
   },
   "file_extension": ".py",
   "mimetype": "text/x-python",
   "name": "python",
   "nbconvert_exporter": "python",
   "pygments_lexer": "ipython3",
   "version": "3.7.3"
  }
 },
 "nbformat": 4,
 "nbformat_minor": 2
}
