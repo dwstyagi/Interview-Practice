{
 "cells": [
  {
   "cell_type": "markdown",
   "metadata": {},
   "source": [
    "```\n",
    "Input: A1[] = {2, 1, 2, 5, 7, 1, 9, 3, 6, 8, 8} => Size m\n",
    "       A2[] = {2, 1, 8, 3} => size n\n",
    "Output: A1[] = {2, 2, 1, 1, 8, 8, 3, 5, 6, 7, 9}\n",
    "```"
   ]
  },
  {
   "cell_type": "markdown",
   "metadata": {},
   "source": [
    "#### Method 1 (Using Sorting and Binary Search)\n",
    "\n",
    "<ol>\n",
    "    <li>Let size of A1[] be m and size of A2[] be n.</li>\n",
    "    <li>Create a temporary array temp of size m and copy contents of A1[] to it.</li>\n",
    "    <li>Create another array visited[] and initialize all entries in it as false. <br>\n",
    "        visited[] is used to mark those elements in temp[] which are copied to A1[].</li>\n",
    "    <li>Sort temp[]</li>\n",
    "    <li>Initialize the output index ind as 0.</li>\n",
    "    <li>Do following for every element of A2[i] in A2[].</li>\n",
    "    <ul>\n",
    "        <li>Binary search for all occurrences of A2[i] in temp[], if present then copy all occurrences to A1[ind] and increment ind.</li>\n",
    "        <li>Also mark the copied elements visited[]</li>\n",
    "        <li>Copy all unvisited elements from temp[] to A1[]</li>\n",
    "    </ul>\n",
    "</ol>"
   ]
  },
  {
   "cell_type": "code",
   "execution_count": 1,
   "metadata": {},
   "outputs": [],
   "source": [
    "def binary(arr ,low ,high ,x):\n",
    "    \n",
    "    if low <= high:\n",
    "        mid = (low + high) // 2\n",
    "    \n",
    "        if arr[mid] == x:\n",
    "            return mid\n",
    "\n",
    "        elif arr[mid] > x :\n",
    "            return binary(arr ,low ,mid-1 ,x)\n",
    "\n",
    "        else:\n",
    "            return binary(arr ,mid+1 ,high ,x)\n",
    "    else:\n",
    "        return -1"
   ]
  },
  {
   "cell_type": "code",
   "execution_count": 2,
   "metadata": {},
   "outputs": [],
   "source": [
    "def sort(A1 ,A2):\n",
    "    \n",
    "    # Let size of A1[] be m and size of A2[] be n.\n",
    "    m = len(A1)\n",
    "    n = len(A2)\n",
    "    \n",
    "    # Create a temporary array temp of size m \n",
    "    # and copy contents of A1[] into it.\n",
    "    temp = []\n",
    "    for i in A1:\n",
    "        temp.append(i)\n",
    "    \n",
    "    \n",
    "    # Create another array visited[] ,\n",
    "    # initialize all entries in it as false.\n",
    "    visited = [0 for i in range(m)]\n",
    "    \n",
    "    # Sort Temp\n",
    "    temp.sort()\n",
    "    \n",
    "    # initialize the output index ind as 0\n",
    "    ind = 0\n",
    "    \n",
    "    # Do following for every element of A2[i] in A2[]  \n",
    "    # if present then copy all occurrences to A1[ind] and \n",
    "    # increment ind. Also mark the copied elements visited[]\n",
    "    \n",
    "    for i in range(n):\n",
    "        \n",
    "        # Binary search for all occurrences of A2[i] in temp[],\n",
    "        b = binary(temp ,0 ,len(temp)-1 ,A2[i])\n",
    "        \n",
    "        # If Element not there continue on\n",
    "        if b == -1:\n",
    "            continue\n",
    "        \n",
    "        # Copy the occurence of A2[i] in A1[]\n",
    "        while b < m and temp[b] == A2[i]:\n",
    "            A1[ind] = temp[b]\n",
    "            visited[b] = 1\n",
    "            ind += 1\n",
    "            b += 1\n",
    "        \n",
    "    # copy remining element into the A1\n",
    "    for i in range(m):\n",
    "        if visited[i] == 0:\n",
    "            A1[ind] = temp[i]\n",
    "            ind += 1\n",
    "    \n",
    "    return A1"
   ]
  },
  {
   "cell_type": "code",
   "execution_count": 3,
   "metadata": {},
   "outputs": [
    {
     "data": {
      "text/plain": [
       "[2, 2, 1, 1, 8, 8, 3, 5, 6, 7, 9]"
      ]
     },
     "execution_count": 3,
     "metadata": {},
     "output_type": "execute_result"
    }
   ],
   "source": [
    "A1 = [2 ,1 ,2 ,5 ,7 ,1 ,9 ,3 ,6 ,8 ,8]\n",
    "A2 = [2 ,1 ,8 ,3]\n",
    "sort(A1 ,A2)"
   ]
  },
  {
   "cell_type": "markdown",
   "metadata": {},
   "source": [
    "#### Method 2 (Use Hashing)\n",
    "<ol>\n",
    "    <li>Loop through A1[], store the count of every number in a HashMap (key: number, value: count of number).</li>\n",
    "    <li>Loop through A2[], check if it is present in HashMap, if so, put in output array that many times and remove the number from HashMap.</li>\n",
    "    <li>Sort the rest of the numbers present in HashMap and put in output array.</li>\n",
    "</ol>"
   ]
  },
  {
   "cell_type": "code",
   "execution_count": 4,
   "metadata": {},
   "outputs": [],
   "source": [
    "def hashSort(A1 ,A2):\n",
    "    \n",
    "    m = len(A1)\n",
    "    n = len(A2)\n",
    "    \n",
    "    dic = {}\n",
    "    \n",
    "    # Loop through A1[], store the count of every number in a HashMap    \n",
    "    for i in range(m):\n",
    "        \n",
    "        if A1[i] in dic:\n",
    "            dic[A1[i]] += 1\n",
    "        else:\n",
    "            dic[A1[i]] = 1\n",
    "    \n",
    "    # Loop through A2[], check if it is present in HashMap, \n",
    "    # if so, put in output array that many times \n",
    "    # and remove the number from HashMap.\n",
    "    ind = 0\n",
    "    for i in range(n) :\n",
    "        if A2[i] in dic:\n",
    "            while dic[A2[i]]:\n",
    "                A1[ind] = A2[i]\n",
    "                ind += 1\n",
    "                dic[A2[i]] -= 1\n",
    "            dic.pop(A2[i])\n",
    "    \n",
    "    for keys ,values in sorted(dic.items()):\n",
    "        while values :\n",
    "            A1[ind] = keys\n",
    "            ind += 1\n",
    "            values -= 1\n",
    "    \n",
    "    return A1"
   ]
  },
  {
   "cell_type": "code",
   "execution_count": 7,
   "metadata": {},
   "outputs": [
    {
     "data": {
      "text/plain": [
       "[2, 2, 1, 1, 8, 8, 3, 5, 6, 7, 9]"
      ]
     },
     "execution_count": 7,
     "metadata": {},
     "output_type": "execute_result"
    }
   ],
   "source": [
    "A1 = [2 ,1 ,2 ,5 ,7 ,1 ,9 ,3 ,6 ,8 ,8]\n",
    "A2 = [2 ,1 ,8 ,3]\n",
    "hashSort(A1 ,A2)"
   ]
  },
  {
   "cell_type": "code",
   "execution_count": null,
   "metadata": {},
   "outputs": [],
   "source": []
  }
 ],
 "metadata": {
  "kernelspec": {
   "display_name": "Python 3",
   "language": "python",
   "name": "python3"
  },
  "language_info": {
   "codemirror_mode": {
    "name": "ipython",
    "version": 3
   },
   "file_extension": ".py",
   "mimetype": "text/x-python",
   "name": "python",
   "nbconvert_exporter": "python",
   "pygments_lexer": "ipython3",
   "version": "3.7.3"
  }
 },
 "nbformat": 4,
 "nbformat_minor": 2
}
