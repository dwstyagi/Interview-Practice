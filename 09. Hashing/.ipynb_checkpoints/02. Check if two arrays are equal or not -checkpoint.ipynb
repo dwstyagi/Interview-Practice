{
 "cells": [
  {
   "cell_type": "code",
   "execution_count": 1,
   "metadata": {},
   "outputs": [],
   "source": [
    "def checkTwoArrays(A ,B):\n",
    "\n",
    "    if len(A) != len(B):\n",
    "        return 0\n",
    "\n",
    "    dic = {i:1 for i in A}\n",
    "    \n",
    "    for i in B:\n",
    "        if i not in dic:\n",
    "            return 0\n",
    "        else:\n",
    "            dic.pop(i)\n",
    "    \n",
    "    if len(dic) == 0:\n",
    "        return 1"
   ]
  },
  {
   "cell_type": "code",
   "execution_count": 2,
   "metadata": {},
   "outputs": [
    {
     "data": {
      "text/plain": [
       "1"
      ]
     },
     "execution_count": 2,
     "metadata": {},
     "output_type": "execute_result"
    }
   ],
   "source": [
    "A = [1 ,2 ,5 ,4 ,0]\n",
    "B = [2 ,4 ,5 ,0 ,1]\n",
    "checkTwoArrays(A ,B)"
   ]
  },
  {
   "cell_type": "code",
   "execution_count": 3,
   "metadata": {},
   "outputs": [
    {
     "data": {
      "text/plain": [
       "0"
      ]
     },
     "execution_count": 3,
     "metadata": {},
     "output_type": "execute_result"
    }
   ],
   "source": [
    "A = [1 ,2 ,5]\n",
    "B = [2 ,4 ,15]\n",
    "checkTwoArrays(A ,B)"
   ]
  },
  {
   "cell_type": "code",
   "execution_count": null,
   "metadata": {},
   "outputs": [],
   "source": []
  }
 ],
 "metadata": {
  "kernelspec": {
   "display_name": "Python 3",
   "language": "python",
   "name": "python3"
  },
  "language_info": {
   "codemirror_mode": {
    "name": "ipython",
    "version": 3
   },
   "file_extension": ".py",
   "mimetype": "text/x-python",
   "name": "python",
   "nbconvert_exporter": "python",
   "pygments_lexer": "ipython3",
   "version": "3.8.5"
  }
 },
 "nbformat": 4,
 "nbformat_minor": 2
}
