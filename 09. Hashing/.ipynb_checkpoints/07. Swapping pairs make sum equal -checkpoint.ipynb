{
 "cells": [
  {
   "cell_type": "raw",
   "metadata": {},
   "source": [
    "Input: A[] = {4, 1, 2, 1, 1, 2}, B[] = (3, 6, 3, 3)\n",
    "Output: {1, 3}"
   ]
  },
  {
   "cell_type": "code",
   "execution_count": 5,
   "metadata": {},
   "outputs": [],
   "source": [
    "def swapMakeSum(A ,B):\n",
    "    \n",
    "    flag = 1\n",
    "    for i in A:\n",
    "        for j in B:\n",
    "            newsum1 = sum(A)-i+j\n",
    "            newsum2 = sum(B)-j+i\n",
    "            \n",
    "            if newsum1 == newsum2:\n",
    "                print(\"{} {}\".format(i,j))\n",
    "                flag = 0\n",
    "                break\n",
    "        if not flag:\n",
    "            break\n",
    "    \n",
    "    if flag == -1:\n",
    "        print(-1)"
   ]
  },
  {
   "cell_type": "code",
   "execution_count": 6,
   "metadata": {},
   "outputs": [
    {
     "name": "stdout",
     "output_type": "stream",
     "text": [
      "4 6\n"
     ]
    }
   ],
   "source": [
    "A = [4, 1, 2, 1, 1, 2]\n",
    "B = [3 ,6 ,3 ,3]\n",
    "swapMakeSum(A ,B)"
   ]
  },
  {
   "cell_type": "raw",
   "metadata": {},
   "source": [
    "Method 2 -> Other Naive implementation\n",
    "We are looking for two values, a and b, such that: \n",
    "sumA - a + b = sumB - b + a\n",
    "    2a - 2b  = sumA - sumB\n",
    "      a - b  = (sumA - sumB) / 2"
   ]
  },
  {
   "cell_type": "code",
   "execution_count": 11,
   "metadata": {},
   "outputs": [],
   "source": [
    "def swapMakeSum(A ,B):\n",
    "    \n",
    "    sum_a = sum(A)\n",
    "    sum_b = sum(B)\n",
    "    \n",
    "    if (sum_a - sum_b) % 2 == 0:\n",
    "        target = (sum_a - sum_b) // 2\n",
    "    else:\n",
    "        print(-1)\n",
    "        return \n",
    "    \n",
    "    flag = 1\n",
    "    for i in A:\n",
    "        for j in B:\n",
    "            if abs(i-j) == abs(target):\n",
    "                print(\"{} {}\".format(i,j))\n",
    "                flag = 0\n",
    "                break\n",
    "        if not flag:\n",
    "            break\n",
    "    \n",
    "    if flag == 1:\n",
    "        print(-1)"
   ]
  },
  {
   "cell_type": "code",
   "execution_count": 12,
   "metadata": {},
   "outputs": [
    {
     "name": "stdout",
     "output_type": "stream",
     "text": [
      "4 6\n"
     ]
    }
   ],
   "source": [
    "A = [4, 1, 2, 1, 1, 2]\n",
    "B = [3 ,6 ,3 ,3]\n",
    "swapMakeSum(A ,B)"
   ]
  },
  {
   "cell_type": "raw",
   "metadata": {},
   "source": [
    "Method 3 -> Optimized Solution :-\n",
    "Sort the arrays.\n",
    "Traverse both array simultaneously and do following for every pair. \n",
    "If the difference is too small then, make it bigger by moving ‘a’ to a bigger value.\n",
    "If it is too big then, make it smaller by moving b to a bigger value.\n",
    "If it’s just right, return this pair."
   ]
  },
  {
   "cell_type": "code",
   "execution_count": 14,
   "metadata": {},
   "outputs": [],
   "source": [
    "def getTarget(A ,B):\n",
    "    sum1 = sum(A)\n",
    "    sum2 = sum(B)\n",
    "    \n",
    "    if (sum1 - sum2) % 2 == 0:\n",
    "        return (sum1 - sum2) // 2\n",
    "    else:\n",
    "        return 0"
   ]
  },
  {
   "cell_type": "code",
   "execution_count": 44,
   "metadata": {},
   "outputs": [],
   "source": [
    "def swapMakeSum(A ,B):\n",
    "    \n",
    "    target = getTarget(A ,B)\n",
    "    \n",
    "    A.sort()\n",
    "    B.sort()\n",
    "    \n",
    "    if target == 0:\n",
    "        return\n",
    "    \n",
    "    flag = 0\n",
    "    i,j = 0,0\n",
    "    while i<len(A) and j<len(B) :\n",
    "        \n",
    "        if target == (A[i] - A[j]):\n",
    "            print(\"{} {}\".format(A[i],A[j]))\n",
    "            flag = 1\n",
    "            return \n",
    "        \n",
    "        elif target < (A[i] - A[j]):\n",
    "            if A[i] < A[j]:\n",
    "                i += 1\n",
    "            else:\n",
    "                j += 1\n",
    "        \n",
    "        else:\n",
    "            if A[i] > A[j]:\n",
    "                i += 1\n",
    "            else:\n",
    "                j += 1\n",
    "    \n",
    "    \n",
    "    if not flag:\n",
    "        print(-1)"
   ]
  },
  {
   "cell_type": "code",
   "execution_count": 45,
   "metadata": {},
   "outputs": [
    {
     "name": "stdout",
     "output_type": "stream",
     "text": [
      "-1\n"
     ]
    }
   ],
   "source": [
    "A = [4, 1, 2, 1, 1, 2]\n",
    "B = [3, 6, 3, 3]\n",
    "swapMakeSum(A ,B)"
   ]
  },
  {
   "cell_type": "raw",
   "metadata": {},
   "source": [
    "// assume array1 is small i.e. (m < n)\n",
    "// where m is array1.length and n is array2.length\n",
    "1. Find sum1(sum of small array elements) ans sum2\n",
    "  (sum of larger array elements). // time O(m+n)\n",
    "2. Make a hashset for small array(here array1).\n",
    "3. Calculate diff as (sum1-sum2)/2.\n",
    "4. Run a loop for array2\n",
    "     for (int i equal to 0 to n-1)\n",
    "       if (hashset contains (array2[i]+diff))\n",
    "           print array2[i]+diff and array2[i]\n",
    "           set flag  and break;\n",
    "5. If flag is unset then there is no such kind of \n",
    "pair."
   ]
  },
  {
   "cell_type": "code",
   "execution_count": 47,
   "metadata": {},
   "outputs": [],
   "source": [
    "def swapMakeSum(A ,B):\n",
    "    \n",
    "    if len(A) < len(B):\n",
    "        smallArray = A\n",
    "        largeArray = B\n",
    "    else:\n",
    "        smallArray = B\n",
    "        largeArray = A\n",
    "    \n",
    "    m = len(smallArray)\n",
    "    n = len(largeArray)\n",
    "    \n",
    "    sum1 = sum(smallArray)\n",
    "    sum2 = sum(largeArray)\n",
    "    \n",
    "    dic = {}\n",
    "    \n",
    "    for i in smallArray:\n",
    "        dic[i] = 1\n",
    "        \n",
    "    diff = (sum1 - sum2) // 2\n",
    "    \n",
    "    flag = 0\n",
    "    for i in largeArray:\n",
    "        if (i + diff) in dic:\n",
    "            print(\"{} {}\".format(i+diff ,diff))\n",
    "            flag = 1\n",
    "            break\n",
    "    \n",
    "    if not flag:\n",
    "        print(-1)"
   ]
  },
  {
   "cell_type": "code",
   "execution_count": 48,
   "metadata": {},
   "outputs": [
    {
     "name": "stdout",
     "output_type": "stream",
     "text": [
      "6 2\n"
     ]
    }
   ],
   "source": [
    "A = [4, 1, 2, 1, 1, 2]\n",
    "B = [3, 6, 3, 3]\n",
    "swapMakeSum(A ,B)"
   ]
  },
  {
   "cell_type": "code",
   "execution_count": null,
   "metadata": {},
   "outputs": [],
   "source": []
  }
 ],
 "metadata": {
  "kernelspec": {
   "display_name": "Python 3",
   "language": "python",
   "name": "python3"
  },
  "language_info": {
   "codemirror_mode": {
    "name": "ipython",
    "version": 3
   },
   "file_extension": ".py",
   "mimetype": "text/x-python",
   "name": "python",
   "nbconvert_exporter": "python",
   "pygments_lexer": "ipython3",
   "version": "3.7.3"
  }
 },
 "nbformat": 4,
 "nbformat_minor": 2
}
