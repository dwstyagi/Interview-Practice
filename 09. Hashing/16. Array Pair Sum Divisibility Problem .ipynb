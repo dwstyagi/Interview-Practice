{
 "cells": [
  {
   "cell_type": "markdown",
   "metadata": {},
   "source": [
    "### Given an array of integers and a number k, write a function that returns true if given array can be divided into pairs such that sum of every pair is divisible by k.\n",
    "\n",
    "```\n",
    "Input: arr[] = {9, 7, 5, 3},\n",
    "k = 6\n",
    "Output: True\n",
    "We can divide array into (9, 3) and\n",
    "(7, 5). Sum of both of these pairs\n",
    "is a multiple of 6.\n",
    "\n",
    "Input: arr[] = {92, 75, 65, 48, 45, 35},\n",
    "k = 10\n",
    "Output: True\n",
    "We can divide array into (92, 48), (75, 65)\n",
    "and (45, 35). Sum of all these pairs is a\n",
    "multiple of 10.\n",
    "\n",
    "Input: arr[] = {91, 74, 66, 48}, k = 10\n",
    "Output: False\n",
    "```\n",
    "\n",
    "### A Simple Solution is to iterate through every element arr[i]. Find if there is another not yet visited element that has remainder as (k – arr[i]%k). If there is no such element, return false. If a pair is found, then mark both elements as visited. \n",
    "### Time complexity of this solution is O(n2 and it requires O(n) extra space."
   ]
  },
  {
   "cell_type": "code",
   "execution_count": 14,
   "metadata": {},
   "outputs": [],
   "source": [
    "def divisiblePair(arr ,k):\n",
    "    \n",
    "    n = len(arr)\n",
    "    visited = [0 for i in range(n)]\n",
    "    \n",
    "    for i in range(n):\n",
    "        if visited[i] == 0:\n",
    "            for j in range(i+1,n):\n",
    "                if visited[j] == 0 and (arr[i]+arr[j]) % k == 0 :\n",
    "                    visited[j] = 1\n",
    "                    visited[i] = 1\n",
    "                    break\n",
    "    \n",
    "    for i in range(n):\n",
    "        if visited[i] == 0:\n",
    "            return False\n",
    "    \n",
    "    return True\n",
    "        "
   ]
  },
  {
   "cell_type": "code",
   "execution_count": 15,
   "metadata": {},
   "outputs": [
    {
     "data": {
      "text/plain": [
       "True"
      ]
     },
     "execution_count": 15,
     "metadata": {},
     "output_type": "execute_result"
    }
   ],
   "source": [
    "arr = [9,7,5,3]\n",
    "divisiblePair(arr ,6)"
   ]
  },
  {
   "cell_type": "code",
   "execution_count": 16,
   "metadata": {},
   "outputs": [
    {
     "data": {
      "text/plain": [
       "False"
      ]
     },
     "execution_count": 16,
     "metadata": {},
     "output_type": "execute_result"
    }
   ],
   "source": [
    "arr = [91, 74, 66, 48]\n",
    "divisiblePair(arr ,10)"
   ]
  },
  {
   "cell_type": "code",
   "execution_count": 17,
   "metadata": {},
   "outputs": [
    {
     "data": {
      "text/plain": [
       "True"
      ]
     },
     "execution_count": 17,
     "metadata": {},
     "output_type": "execute_result"
    }
   ],
   "source": [
    "arr = [92, 75, 65, 48, 45, 35]\n",
    "divisiblePair(arr ,10)"
   ]
  },
  {
   "cell_type": "code",
   "execution_count": 18,
   "metadata": {},
   "outputs": [
    {
     "data": {
      "text/plain": [
       "True"
      ]
     },
     "execution_count": 18,
     "metadata": {},
     "output_type": "execute_result"
    }
   ],
   "source": [
    "arr = [1 ,1 ,1 ,1]\n",
    "divisiblePair(arr ,2)"
   ]
  },
  {
   "cell_type": "raw",
   "metadata": {},
   "source": [
    "1) If length of given array is odd, return false. \n",
    "    An odd length array cannot be divided into pairs.\n",
    "2) Traverse input array and count occurrences of \n",
    "    all reminders. \n",
    "      freq[arr[i] % k]++\n",
    "3) Traverse input array again. \n",
    "   a) Find the remainder of the current element.\n",
    "   b) If remainder divides k into two halves, then\n",
    "      there must be even occurrences of it as it \n",
    "      forms pair with itself only.\n",
    "   c) If the remainder is 0, then there must be \n",
    "      even occurrences.\n",
    "   c) Else, number of occurrences of current \n",
    "      the remainder must be equal to a number of \n",
    "      occurrences of \"k - current remainder\"."
   ]
  },
  {
   "cell_type": "code",
   "execution_count": 19,
   "metadata": {},
   "outputs": [],
   "source": [
    "from collections import defaultdict\n",
    "def divisiblePair(arr ,k):\n",
    "    \n",
    "    n = len(arr)\n",
    "    if n % 2 == 1:\n",
    "        return False\n",
    "    freq = defaultdict(lambda : 0)\n",
    "    \n",
    "    for i in range(n) :\n",
    "        rem = arr[i] % k\n",
    "        \n",
    "        if rem in freq:\n",
    "            freq[rem] += 1\n",
    "        else:\n",
    "            freq[rem] = 1\n",
    "    \n",
    "    for i in range(n) :\n",
    "        rem = arr[i] % k\n",
    "\n",
    "        # 1st Case : Remainder divide the number into two halves\n",
    "        # then there must be even occurence of that such case\n",
    "        if 2*rem == k:\n",
    "            if freq[rem]%2 == 1:\n",
    "                return False\n",
    "            #continue\n",
    "\n",
    "        # 2nd Case : number is exactly divide the k then also\n",
    "        # there must be even cases of that occurence\n",
    "        elif rem == 0:\n",
    "            if freq[rem]%2 == 1:\n",
    "                return False\n",
    "            #continue \n",
    "\n",
    "        # 3rd case: Else number of occurrences of remainder \n",
    "        # must be equal to number of occurrences of \n",
    "        # k - remainder\n",
    "        elif freq[rem] != freq[k-rem]:\n",
    "            return False\n",
    "\n",
    "\n",
    "    return True"
   ]
  },
  {
   "cell_type": "code",
   "execution_count": 20,
   "metadata": {},
   "outputs": [
    {
     "data": {
      "text/plain": [
       "True"
      ]
     },
     "execution_count": 20,
     "metadata": {},
     "output_type": "execute_result"
    }
   ],
   "source": [
    "arr = [20,25,10,3,15,27]\n",
    "divisiblePair(arr ,10)"
   ]
  },
  {
   "cell_type": "code",
   "execution_count": 21,
   "metadata": {},
   "outputs": [
    {
     "data": {
      "text/plain": [
       "True"
      ]
     },
     "execution_count": 21,
     "metadata": {},
     "output_type": "execute_result"
    }
   ],
   "source": [
    "arr = [9,7,5,3]\n",
    "divisiblePair(arr ,6)"
   ]
  },
  {
   "cell_type": "code",
   "execution_count": 22,
   "metadata": {},
   "outputs": [
    {
     "data": {
      "text/plain": [
       "False"
      ]
     },
     "execution_count": 22,
     "metadata": {},
     "output_type": "execute_result"
    }
   ],
   "source": [
    "arr = [91, 74, 66, 48]\n",
    "divisiblePair(arr ,10)"
   ]
  },
  {
   "cell_type": "code",
   "execution_count": 23,
   "metadata": {},
   "outputs": [
    {
     "data": {
      "text/plain": [
       "True"
      ]
     },
     "execution_count": 23,
     "metadata": {},
     "output_type": "execute_result"
    }
   ],
   "source": [
    "arr = [92, 75, 65, 48, 45, 35]\n",
    "divisiblePair(arr ,10)"
   ]
  },
  {
   "cell_type": "code",
   "execution_count": 24,
   "metadata": {},
   "outputs": [
    {
     "data": {
      "text/plain": [
       "True"
      ]
     },
     "execution_count": 24,
     "metadata": {},
     "output_type": "execute_result"
    }
   ],
   "source": [
    "arr = [1 ,1 ,1 ,1]\n",
    "divisiblePair(arr ,2)"
   ]
  },
  {
   "cell_type": "code",
   "execution_count": null,
   "metadata": {},
   "outputs": [],
   "source": []
  },
  {
   "cell_type": "code",
   "execution_count": 25,
   "metadata": {},
   "outputs": [
    {
     "data": {
      "text/plain": [
       "0"
      ]
     },
     "execution_count": 25,
     "metadata": {},
     "output_type": "execute_result"
    }
   ],
   "source": [
    "from collections import defaultdict\n",
    "dic = defaultdict(lambda : 0)\n",
    "dic[1]"
   ]
  },
  {
   "cell_type": "code",
   "execution_count": 26,
   "metadata": {},
   "outputs": [
    {
     "data": {
      "text/plain": [
       "defaultdict(<function __main__.<lambda>()>, {1: 1})"
      ]
     },
     "execution_count": 26,
     "metadata": {},
     "output_type": "execute_result"
    }
   ],
   "source": [
    "dic[1] = 1\n",
    "dic"
   ]
  },
  {
   "cell_type": "code",
   "execution_count": null,
   "metadata": {},
   "outputs": [],
   "source": []
  }
 ],
 "metadata": {
  "kernelspec": {
   "display_name": "Python 3",
   "language": "python",
   "name": "python3"
  },
  "language_info": {
   "codemirror_mode": {
    "name": "ipython",
    "version": 3
   },
   "file_extension": ".py",
   "mimetype": "text/x-python",
   "name": "python",
   "nbconvert_exporter": "python",
   "pygments_lexer": "ipython3",
   "version": "3.8.5"
  }
 },
 "nbformat": 4,
 "nbformat_minor": 2
}
