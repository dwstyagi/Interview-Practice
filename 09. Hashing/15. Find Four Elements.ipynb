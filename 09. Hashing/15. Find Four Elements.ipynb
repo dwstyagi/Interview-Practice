{
 "cells": [
  {
   "cell_type": "markdown",
   "metadata": {},
   "source": [
    "## A Naive Solution is to generate all possible quadruples and compare the sum of every quadruple with X. The following code implements this simple method using four nested loops"
   ]
  },
  {
   "cell_type": "code",
   "execution_count": 58,
   "metadata": {},
   "outputs": [],
   "source": [
    "def findFourElements(A ,X):\n",
    "    \n",
    "    flag = 1\n",
    "    n = len(A)\n",
    "    for i in range(n-3):\n",
    "        for j in range(i+1 ,n-2):\n",
    "            for k in range(j+1 ,n-1):\n",
    "                for l in range(k+1 ,n):\n",
    "                    if A[i]+A[j]+A[k]+A[l] == X:\n",
    "                        flag = 0\n",
    "                        print(\"{} {} {} {}\".format(A[i],A[j],A[k],A[l]),end=\" $\")\n",
    "    \n",
    "    if flag:\n",
    "        print(-1)"
   ]
  },
  {
   "cell_type": "code",
   "execution_count": 61,
   "metadata": {},
   "outputs": [
    {
     "name": "stdout",
     "output_type": "stream",
     "text": [
      "88 84 3 51 54 99 32 60 76 68 39 12 26 86 94 39 95 70 34 78 67 1 97 2 17 92 52\n",
      "88 3 54 34 $88 3 76 12 $88 3 86 2 $88 51 39 1 $88 51 39 1 $88 12 78 1 $84 3 32 60 $84 51 32 12 $84 54 39 2 $84 54 39 2 $84 60 34 1 $84 76 2 17 $84 68 26 1 $84 39 39 17 $84 26 67 2 $84 26 17 52 $84 1 2 92 $3 51 99 26 $3 51 39 86 $3 51 86 39 $3 54 70 52 $3 99 60 17 $3 99 76 1 $3 32 76 68 $3 32 92 52 $3 39 70 67 $3 12 86 78 $3 12 94 70 $3 12 67 97 $3 39 70 67 $3 78 1 97 $3 67 17 92 $51 99 12 17 $51 32 26 70 $51 32 94 2 $51 32 95 1 $51 60 67 1 $51 68 26 34 $51 34 2 92 $54 32 76 17 $54 32 26 67 $54 32 1 92 $54 60 39 26 $54 60 26 39 $54 39 34 52 $54 26 97 2 $54 39 34 52 $99 39 39 2 $99 12 67 1 $99 26 2 52 $32 60 86 1 $32 60 70 17 $32 76 70 1 $32 68 12 67 $32 68 78 1 $32 94 1 52 $32 78 67 2 $32 78 17 52 $60 76 26 17 $60 68 39 12 $60 68 12 39 $60 68 34 17 $60 39 78 2 $60 26 1 92 $60 39 78 2 $76 68 34 1 $76 39 12 52 $76 12 39 52 $76 34 67 2 $76 34 17 52 $68 39 70 2 $68 12 97 2 $68 39 70 2 $68 2 17 92 $39 12 94 34 $39 26 97 17 $39 86 2 52 $39 39 34 67 $12 94 39 34 $12 95 70 2 $26 39 97 17 $26 34 67 52 $86 39 2 52 $94 67 1 17 $34 1 92 52 $"
     ]
    }
   ],
   "source": [
    "#A = [10, 2, 3, 4, 5, 9, 7, 8]\n",
    "A = list(map(int ,input().rstrip().split()))\n",
    "X = 179\n",
    "findFourElements(A ,X)"
   ]
  },
  {
   "cell_type": "markdown",
   "metadata": {},
   "source": [
    "### The time complexity can be improved to O(n^3) with the use of sorting as a preprocessing step, and then using method 1 of this post to reduce a loop."
   ]
  },
  {
   "cell_type": "raw",
   "metadata": {},
   "source": [
    "1) Sort the input array.\n",
    "2) Fix the first element as A[i] where i is from 0 to n–3. After fixing the first element of quadruple, fix the second element as A[j] where j varies from i+1 to n-2. Find remaining two elements in O(n) time, using the method 1 of this post "
   ]
  },
  {
   "cell_type": "code",
   "execution_count": 30,
   "metadata": {},
   "outputs": [],
   "source": [
    "def findFourElements(A ,X):\n",
    "    \n",
    "    lis = []\n",
    "    n = len(A)\n",
    "    A.sort()\n",
    "    for i in range(n-3):\n",
    "        for j in range(i+1 ,n-2):\n",
    "            \n",
    "            l = j+1\n",
    "            r = n-1\n",
    "            \n",
    "            while l < r:\n",
    "                \n",
    "                if (A[i] + A[j] + A[l] + A[r]) == X:\n",
    "                    lis.append(A[i])\n",
    "                    lis.append(A[j])\n",
    "                    lis.append(A[l])\n",
    "                    lis.append(A[r])\n",
    "                    lis.append('$')\n",
    "                    l += 1\n",
    "                    r -= 1\n",
    "                \n",
    "                elif (A[i] + A[j] + A[l] + A[r]) < X:\n",
    "                    l += 1\n",
    "                \n",
    "                else:\n",
    "                    r -= 1\n",
    "    \n",
    "    return lis\n",
    "    "
   ]
  },
  {
   "cell_type": "code",
   "execution_count": 31,
   "metadata": {},
   "outputs": [
    {
     "data": {
      "text/plain": [
       "[3, 8, 9, 10, '$', 4, 7, 9, 10, '$', 5, 7, 8, 10, '$']"
      ]
     },
     "execution_count": 31,
     "metadata": {},
     "output_type": "execute_result"
    }
   ],
   "source": [
    "A = [10, 2, 3, 4, 5, 9, 7, 8]\n",
    "X = 30\n",
    "findFourElements(A ,X)"
   ]
  },
  {
   "cell_type": "code",
   "execution_count": 42,
   "metadata": {},
   "outputs": [
    {
     "name": "stdout",
     "output_type": "stream",
     "text": [
      "result = ' '.join(map(str,result)) #result for i in result:     if i != '$':         print(i,end=\" \")     else:         print(i,end=\"\")\n"
     ]
    },
    {
     "ename": "ValueError",
     "evalue": "invalid literal for int() with base 10: 'result'",
     "output_type": "error",
     "traceback": [
      "\u001b[1;31m---------------------------------------------------------------------------\u001b[0m",
      "\u001b[1;31mValueError\u001b[0m                                Traceback (most recent call last)",
      "\u001b[1;32m<ipython-input-42-0948d552b3e6>\u001b[0m in \u001b[0;36m<module>\u001b[1;34m\u001b[0m\n\u001b[1;32m----> 1\u001b[1;33m \u001b[0mA\u001b[0m \u001b[1;33m=\u001b[0m \u001b[0mlist\u001b[0m\u001b[1;33m(\u001b[0m\u001b[0mmap\u001b[0m\u001b[1;33m(\u001b[0m\u001b[0mint\u001b[0m \u001b[1;33m,\u001b[0m\u001b[0minput\u001b[0m\u001b[1;33m(\u001b[0m\u001b[1;33m)\u001b[0m\u001b[1;33m.\u001b[0m\u001b[0mrstrip\u001b[0m\u001b[1;33m(\u001b[0m\u001b[1;33m)\u001b[0m\u001b[1;33m.\u001b[0m\u001b[0msplit\u001b[0m\u001b[1;33m(\u001b[0m\u001b[1;33m)\u001b[0m\u001b[1;33m)\u001b[0m\u001b[1;33m)\u001b[0m\u001b[1;33m\u001b[0m\u001b[1;33m\u001b[0m\u001b[0m\n\u001b[0m\u001b[0;32m      2\u001b[0m \u001b[0mX\u001b[0m \u001b[1;33m=\u001b[0m \u001b[1;36m179\u001b[0m\u001b[1;33m\u001b[0m\u001b[1;33m\u001b[0m\u001b[0m\n\u001b[0;32m      3\u001b[0m \u001b[0mresult\u001b[0m\u001b[1;33m=\u001b[0m\u001b[0mfindFourElements\u001b[0m\u001b[1;33m(\u001b[0m\u001b[0mA\u001b[0m \u001b[1;33m,\u001b[0m\u001b[0mX\u001b[0m\u001b[1;33m)\u001b[0m\u001b[1;33m\u001b[0m\u001b[1;33m\u001b[0m\u001b[0m\n",
      "\u001b[1;31mValueError\u001b[0m: invalid literal for int() with base 10: 'result'"
     ]
    }
   ],
   "source": [
    "A = list(map(int ,input().rstrip().split()))\n",
    "X = 179\n",
    "result=findFourElements(A ,X)\n"
   ]
  },
  {
   "cell_type": "code",
   "execution_count": 16,
   "metadata": {},
   "outputs": [],
   "source": [
    "### Hashing Based Solution"
   ]
  },
  {
   "cell_type": "code",
   "execution_count": 53,
   "metadata": {},
   "outputs": [],
   "source": [
    "def findFourElements(A ,X):\n",
    "    \n",
    "    n = len(A)\n",
    "    dic = {}\n",
    "    for i in range(n-1):\n",
    "        for j in range(i+1 ,n):\n",
    "            dic[A[i]+A[j]] = [i, j]\n",
    "            \n",
    "    for i in range(n-1):\n",
    "        for j in range(i+1 ,n):\n",
    "            curr_sum = X - (A[i]+A[j])\n",
    "            if curr_sum in dic:\n",
    "                print(\"{} {} {} {}\".format(A[i],A[j],A[dic[curr_sum][0]],A[dic[curr_sum][1]]),end=\" $\")\n",
    "                "
   ]
  },
  {
   "cell_type": "code",
   "execution_count": 54,
   "metadata": {},
   "outputs": [
    {
     "name": "stdout",
     "output_type": "stream",
     "text": [
      "10 2 10 8 $10 3 9 8 $10 4 9 7 $10 5 7 8 $10 9 4 7 $10 7 5 8 $10 8 5 7 $2 9 10 9 $3 9 10 8 $3 8 10 9 $4 9 9 8 $4 7 10 9 $4 8 10 8 $5 9 9 7 $5 7 10 8 $5 8 9 8 $9 7 5 9 $9 8 5 8 $7 8 7 8 $"
     ]
    }
   ],
   "source": [
    "A = [10, 2, 3, 4, 5, 9, 7, 8]\n",
    "X = 30\n",
    "findFourElements(A ,X)"
   ]
  },
  {
   "cell_type": "code",
   "execution_count": null,
   "metadata": {},
   "outputs": [],
   "source": [
    "for i in range(n-1):\n",
    "        for j in range(i+1 ,n):\n",
    "            curr_sum = X - (A[i]+A[j])\n",
    "            if curr_sum in dic:\n",
    "                print(\"{} {} {} {}\".format(A[i],A[j],A[dic[curr_sum][0]],A[dic[curr_sum][1]]),end=\" $\")"
   ]
  }
 ],
 "metadata": {
  "kernelspec": {
   "display_name": "Python 3",
   "language": "python",
   "name": "python3"
  },
  "language_info": {
   "codemirror_mode": {
    "name": "ipython",
    "version": 3
   },
   "file_extension": ".py",
   "mimetype": "text/x-python",
   "name": "python",
   "nbconvert_exporter": "python",
   "pygments_lexer": "ipython3",
   "version": "3.8.5"
  }
 },
 "nbformat": 4,
 "nbformat_minor": 2
}
