{
 "cells": [
  {
   "cell_type": "markdown",
   "metadata": {},
   "source": [
    "#### Efficient Approach: An efficient approach is to use hashing.\n",
    "<ol>\n",
    "    <li>Use a hash table of size 26 for all the lowercase characters.</li>\n",
    "    <li>Initially, mark presence of each character as ‘0’ (denoting that the character is not present in both the strings).</li>\n",
    "    <li>Traverse the 1st string and mark presence of each character of 1st string as ‘1’ (denoting 1st string) in the hash table.</li>\n",
    "    <li>Now, traverse the 2nd string. For each character of 2nd string, check whether its presence in the hash table is ‘1’ or not. If it is ‘1’, then mark its presence as ‘-1’ (denoting that the character is common to both the strings), else mark its presence as ‘2’ (denoting 2nd string).</li>\n",
    "</ol>\n"
   ]
  },
  {
   "cell_type": "code",
   "execution_count": 16,
   "metadata": {},
   "outputs": [],
   "source": [
    "def uncommonCharacters(S1 ,S2):\n",
    "\n",
    "    dic = {}\n",
    "\n",
    "    for i in range(26):\n",
    "        dic[i] = 0\n",
    "    \n",
    "    for i in S1:\n",
    "        ch = ord(i) - ord('a')\n",
    "        dic[ch] = 1\n",
    "    \n",
    "    for i in S2:\n",
    "        ch = ord(i) - ord('a')\n",
    "        if dic[ch] == 1 or dic[ch] == -1:\n",
    "            dic[ch] = -1\n",
    "        else:\n",
    "            dic[ch] = 2\n",
    "    \n",
    "    for i in range(26):\n",
    "        if dic[i] == 1 or dic[i] == 2:\n",
    "            print(chr(i + ord('a')),end=\"\")\n",
    "    "
   ]
  },
  {
   "cell_type": "code",
   "execution_count": 17,
   "metadata": {},
   "outputs": [
    {
     "name": "stdout",
     "output_type": "stream",
     "text": [
      "bclpr"
     ]
    }
   ],
   "source": [
    "S1 = \"characters\"\n",
    "S2 = \"alphabets\"\n",
    "uncommonCharacters(S1, S2)"
   ]
  },
  {
   "cell_type": "code",
   "execution_count": 18,
   "metadata": {},
   "outputs": [
    {
     "name": "stdout",
     "output_type": "stream",
     "text": [
      "ijs"
     ]
    }
   ],
   "source": [
    "S1 = \"iaduai\"\n",
    "S2 = \"audsjdsa\"\n",
    "uncommonCharacters(S1 ,S2)"
   ]
  },
  {
   "cell_type": "code",
   "execution_count": null,
   "metadata": {},
   "outputs": [],
   "source": []
  }
 ],
 "metadata": {
  "kernelspec": {
   "display_name": "Python 3",
   "language": "python",
   "name": "python3"
  },
  "language_info": {
   "codemirror_mode": {
    "name": "ipython",
    "version": 3
   },
   "file_extension": ".py",
   "mimetype": "text/x-python",
   "name": "python",
   "nbconvert_exporter": "python",
   "pygments_lexer": "ipython3",
   "version": "3.8.5"
  }
 },
 "nbformat": 4,
 "nbformat_minor": 2
}
