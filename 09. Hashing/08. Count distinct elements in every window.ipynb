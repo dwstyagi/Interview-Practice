{
 "cells": [
  {
   "cell_type": "markdown",
   "metadata": {},
   "source": [
    "Given an array of size n and an integer k, return the count of distinct numbers in all windows of size k.\n",
    "\n",
    "```\n",
    "Input: arr[] = {1, 2, 1, 3, 4, 2, 3};\n",
    "       k = 4\n",
    "Output: 3 4 4 3\n",
    "\n",
    "Explanation:\n",
    "First window is {1, 2, 1, 3}, count of distinct numbers is 3\n",
    "Second window is {2, 1, 3, 4} count of distinct numbers is 4\n",
    "Third window is {1, 3, 4, 2} count of distinct numbers is 4\n",
    "Fourth window is {3, 4, 2, 3} count of distinct numbers is 3\n",
    "\n",
    "Input: arr[] = {1, 2, 4, 4};\n",
    "       k = 2\n",
    "Output: 2 2 1\n",
    "\n",
    "Explanation:\n",
    "First window is {1, 2}, count of distinct numbers is 2\n",
    "First window is {2, 4}, count of distinct numbers is 2\n",
    "First window is {4, 4}, count of distinct numbers is 1\n",
    "\n",
    "```"
   ]
  },
  {
   "cell_type": "markdown",
   "metadata": {},
   "source": [
    "**Naive Approach:** The naive solution is to traverse the given array considering every window in it and keeping a count on the distinct elements of the window.\n",
    "\n",
    "Algorithm:\n",
    "\n",
    "1. For every index i from 0 to len_array(n) – k, i.e n – k, traverse the array from i to i + k. This is the window\n",
    "2. Traverse the window, from i to that index and check if the element is present or not.\n",
    "3. If the element is not present in the prefix of the array, i.e no duplicate element is present from i to index-1, then increase the count.\n",
    "4. Print the count.\n"
   ]
  },
  {
   "cell_type": "code",
   "execution_count": 1,
   "metadata": {},
   "outputs": [],
   "source": [
    "def countDistinctUtil(arr):\n",
    "    \n",
    "    n = len(arr)\n",
    "    totalDistinctElement = 0\n",
    "    \n",
    "    for i in range(n):\n",
    "        j = 0\n",
    "        \n",
    "        while j < i:\n",
    "            if arr[i] == arr[j]:\n",
    "                break\n",
    "            else:\n",
    "                j += 1\n",
    "        \n",
    "        if i == j:\n",
    "            totalDistinctElement += 1\n",
    "        \n",
    "    return totalDistinctElement"
   ]
  },
  {
   "cell_type": "code",
   "execution_count": 2,
   "metadata": {},
   "outputs": [],
   "source": [
    "def countDistinct(arr, k):\n",
    "    \n",
    "    for i in range(len(arr)-k+1):\n",
    "        print(countDistinctUtil(arr[i:i+k]),end=\" \")"
   ]
  },
  {
   "cell_type": "code",
   "execution_count": 3,
   "metadata": {},
   "outputs": [
    {
     "name": "stdout",
     "output_type": "stream",
     "text": [
      "3 4 4 3 "
     ]
    }
   ],
   "source": [
    "arr = [1, 2, 1, 3, 4, 2, 3] \n",
    "k = 4\n",
    "\n",
    "countDistinct(arr, k)"
   ]
  },
  {
   "cell_type": "markdown",
   "metadata": {},
   "source": [
    "Here the time complexity of this is **O((n-k) * k2)** <br>\n",
    "Because Util function doing twice work to find distinct element"
   ]
  },
  {
   "cell_type": "markdown",
   "metadata": {},
   "source": [
    "**Efficient Approach:** So, there is an efficient solution using hashing, though hashing requires extra O(n) space but the time complexity will improve.\n",
    "\n",
    "The trick is to use the count of the previous window while sliding the window. To do this a hash map can be used that stores elements of the current window. The hash-map is also operated on by simultaneous addition and removal of an element while keeping track of distinct elements. The problem deals with finding the count of distinct elements in a window of length k, at any step while shifting the window and discarding all the computation done in the previous step, even though k – 1 elements are same from the previous adjacent window. For example, assume that elements from index i to i + k – 1 are stored in a Hash Map as an element-frequency pair. So, while updating the Hash Map in range i + 1 to i + k, reduce the frequency of the i-th element by 1 and increase the frequency of (i + k)-th element by 1.\n",
    "Insertion and deletion from the HashMap takes constant time."
   ]
  },
  {
   "cell_type": "markdown",
   "metadata": {},
   "source": [
    "<img src=\"https://media.geeksforgeeks.org/wp-content/cdn-uploads/20190702115832/CountdistinctElementsIneveryWindow.png\" >"
   ]
  },
  {
   "cell_type": "markdown",
   "metadata": {},
   "source": [
    "Algorithm:\n",
    "1. Create an empty hash map. Let the hash map be hM.\n",
    "2. Initialize the count of distinct element as dist_count to 0.\n",
    "3. Traverse through the first window and insert elements of the first window to hM. The elements are used as key and their counts as the value in hM. Also, keep updating dist_count\n",
    "4. Print distinct count for the first window.\n",
    "5. Traverse through the remaining array (or other windows).\n",
    "6. Remove the first element of the previous window.\n",
    "7. If the removed element appeared only once, remove it from hM and decrease the distinct count, i.e. do “dist_count–“\n",
    "else (appeared multiple times in hM), then decrement its count in hM\n",
    "8. Add the current element (last element of the new window)\n",
    "9. If the added element is not present in hM, add it to hM and increase the distinct count, i.e. do “dist_count++”\n",
    "10. Else (the added element appeared multiple times), increment its count in hM"
   ]
  },
  {
   "cell_type": "code",
   "execution_count": 4,
   "metadata": {},
   "outputs": [],
   "source": [
    "from collections import defaultdict\n",
    "def countDistinct(arr, k):\n",
    "    hashMap = defaultdict(lambda: 0)\n",
    "    n = len(arr)\n",
    "    countDistinct = 0\n",
    "    \n",
    "    for i in range(k):\n",
    "        if hashMap[arr[i]] == 0:\n",
    "            countDistinct += 1\n",
    "        hashMap[arr[i]] += 1\n",
    "    \n",
    "    print(countDistinct,end=\" \")\n",
    "    \n",
    "    for i in range(k, n):\n",
    "        \n",
    "        if hashMap[arr[i-k]] == 1:\n",
    "            countDistinct -= 1\n",
    "        hashMap[arr[i-k]] -= 1\n",
    "            \n",
    "        if hashMap[arr[i]] == 0:\n",
    "            countDistinct += 1\n",
    "        hashMap[arr[i]] += 1\n",
    "        \n",
    "        print(countDistinct,end=\" \")\n",
    "            \n",
    "    "
   ]
  },
  {
   "cell_type": "code",
   "execution_count": 5,
   "metadata": {},
   "outputs": [
    {
     "name": "stdout",
     "output_type": "stream",
     "text": [
      "3 4 4 3 "
     ]
    }
   ],
   "source": [
    "arr = [1, 2, 1, 3, 4, 2, 3]  \n",
    "k = 4\n",
    "countDistinct(arr, 4)"
   ]
  },
  {
   "cell_type": "code",
   "execution_count": null,
   "metadata": {},
   "outputs": [],
   "source": []
  }
 ],
 "metadata": {
  "kernelspec": {
   "display_name": "Python 3",
   "language": "python",
   "name": "python3"
  },
  "language_info": {
   "codemirror_mode": {
    "name": "ipython",
    "version": 3
   },
   "file_extension": ".py",
   "mimetype": "text/x-python",
   "name": "python",
   "nbconvert_exporter": "python",
   "pygments_lexer": "ipython3",
   "version": "3.8.5"
  }
 },
 "nbformat": 4,
 "nbformat_minor": 2
}
