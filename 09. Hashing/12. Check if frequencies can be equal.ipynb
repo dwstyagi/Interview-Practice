{
 "cells": [
  {
   "cell_type": "markdown",
   "metadata": {},
   "source": [
    "```\n",
    "Input: str = “xyyz”\n",
    "Output: Yes\n",
    "We can remove character ’y’ from above\n",
    "string to make the frequency of each\n",
    "character same. \n",
    "\n",
    "Input: str = “xyyzz”\n",
    "Output: Yes\n",
    "We can remove character ‘x’ from above\n",
    "string to make the frequency of each\n",
    "character same.\n",
    "\n",
    "Input: str = “xxxxyyzz”\n",
    "Output: No\n",
    "It is not possible to make frequency of\n",
    "each character same just by removing at\n",
    "most one character from above string.\n",
    "```"
   ]
  },
  {
   "cell_type": "code",
   "execution_count": 9,
   "metadata": {},
   "outputs": [],
   "source": [
    "def getID(i):\n",
    "    return ord(i)-ord('a')"
   ]
  },
  {
   "cell_type": "code",
   "execution_count": 13,
   "metadata": {},
   "outputs": [],
   "source": [
    "def isSame(freq):\n",
    "    \n",
    "    for i in range(26):\n",
    "        if freq[i] > 0:\n",
    "            same = freq[i]\n",
    "            break\n",
    "    \n",
    "    for j in range(i+1 ,26):\n",
    "        if freq[j] > 0 and same != freq[j]:\n",
    "            return False\n",
    "    \n",
    "    return True"
   ]
  },
  {
   "cell_type": "markdown",
   "metadata": {},
   "source": [
    "count the frequency of characters, if all of them are same then we are done and there is no need to remove any character to make frequency of characters same.<br>\n",
    "Otherwise iterate over all characters one by one and decrease their frequency by one, if all frequencies become same then, it is possible to make character frequency same by at most one removal and if frequencies doesn’t match then we will increase that frequency again and loop for other characters."
   ]
  },
  {
   "cell_type": "code",
   "execution_count": 14,
   "metadata": {},
   "outputs": [],
   "source": [
    "def checkFrequencies(Str):\n",
    "    dic = {}\n",
    "    \n",
    "    for i in range(26):\n",
    "        dic[i] = 0\n",
    "    \n",
    "    for i in Str:\n",
    "        dic[getID(i)] += 1\n",
    "    \n",
    "    if isSame(dic):\n",
    "        return 'Yes'\n",
    "    \n",
    "    for i in Str:\n",
    "        dic[getID(i)] -= 1\n",
    "        \n",
    "        if isSame(dic):\n",
    "            return 'Yes'\n",
    "        \n",
    "        dic[getID(i)] += 1\n",
    "    \n",
    "    return 'No'\n",
    "    "
   ]
  },
  {
   "cell_type": "code",
   "execution_count": 15,
   "metadata": {},
   "outputs": [
    {
     "name": "stdout",
     "output_type": "stream",
     "text": [
      "Yes\n"
     ]
    }
   ],
   "source": [
    "Str = \"xyyz\"\n",
    "print(checkFrequencies(Str))"
   ]
  },
  {
   "cell_type": "code",
   "execution_count": 16,
   "metadata": {},
   "outputs": [
    {
     "name": "stdout",
     "output_type": "stream",
     "text": [
      "Yes\n"
     ]
    }
   ],
   "source": [
    "Str = \"xyyzz\"\n",
    "print(checkFrequencies(Str))"
   ]
  },
  {
   "cell_type": "code",
   "execution_count": 17,
   "metadata": {},
   "outputs": [
    {
     "name": "stdout",
     "output_type": "stream",
     "text": [
      "No\n"
     ]
    }
   ],
   "source": [
    "Str = \"xxxxyyzz\"\n",
    "print(checkFrequencies(Str))"
   ]
  },
  {
   "cell_type": "code",
   "execution_count": null,
   "metadata": {},
   "outputs": [],
   "source": []
  }
 ],
 "metadata": {
  "kernelspec": {
   "display_name": "Python 3",
   "language": "python",
   "name": "python3"
  },
  "language_info": {
   "codemirror_mode": {
    "name": "ipython",
    "version": 3
   },
   "file_extension": ".py",
   "mimetype": "text/x-python",
   "name": "python",
   "nbconvert_exporter": "python",
   "pygments_lexer": "ipython3",
   "version": "3.8.5"
  }
 },
 "nbformat": 4,
 "nbformat_minor": 2
}
