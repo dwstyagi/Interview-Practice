{
 "cells": [
  {
   "cell_type": "code",
   "execution_count": 1,
   "metadata": {},
   "outputs": [],
   "source": [
    "def indexCharacter(Str ,patt):\n",
    "    \n",
    "    dic = {Str[i]:i for i in range(len(Str))}\n",
    "    \n",
    "    min_ = float('+inf')\n",
    "    flag = 0\n",
    "    for i in patt:\n",
    "        if i in dic:\n",
    "            min_ = min(minn ,dic[i])\n",
    "            flag = 1\n",
    "    \n",
    "    if flag:\n",
    "        return Str[minn]\n",
    "    else:\n",
    "        return '$'"
   ]
  },
  {
   "cell_type": "code",
   "execution_count": 2,
   "metadata": {},
   "outputs": [
    {
     "name": "stdout",
     "output_type": "stream",
     "text": [
      "e\n"
     ]
    }
   ],
   "source": [
    "Str = \"geeksforgeeks\"\n",
    "patt = \"set\"\n",
    "print(indexCharacter(Str ,patt))"
   ]
  },
  {
   "cell_type": "code",
   "execution_count": 3,
   "metadata": {},
   "outputs": [
    {
     "name": "stdout",
     "output_type": "stream",
     "text": [
      "$\n"
     ]
    }
   ],
   "source": [
    "Str = \"adcffaet\"\n",
    "patt = \"onkl\"\n",
    "print(indexCharacter(Str ,patt))"
   ]
  },
  {
   "cell_type": "code",
   "execution_count": 4,
   "metadata": {},
   "outputs": [
    {
     "name": "stdout",
     "output_type": "stream",
     "text": [
      "l\n"
     ]
    }
   ],
   "source": [
    "Str = \"laacbjfedrkwollbhfqfvkvpndxetrvetvgvenb\"\n",
    "patt = \"jflhvzuwgconxaionnnugfpky\"\n",
    "print(indexCharacter(Str ,patt))"
   ]
  },
  {
   "cell_type": "code",
   "execution_count": null,
   "metadata": {},
   "outputs": [],
   "source": []
  }
 ],
 "metadata": {
  "kernelspec": {
   "display_name": "Python 3",
   "language": "python",
   "name": "python3"
  },
  "language_info": {
   "codemirror_mode": {
    "name": "ipython",
    "version": 3
   },
   "file_extension": ".py",
   "mimetype": "text/x-python",
   "name": "python",
   "nbconvert_exporter": "python",
   "pygments_lexer": "ipython3",
   "version": "3.8.5"
  }
 },
 "nbformat": 4,
 "nbformat_minor": 2
}
