{
 "cells": [
  {
   "cell_type": "code",
   "execution_count": 11,
   "metadata": {},
   "outputs": [],
   "source": [
    "def binarySearch(A ,low ,high ,n):\n",
    "    \n",
    "    if low <= high:\n",
    "        for i in range(len(A)):\n",
    "            mid = (low + high) // 2\n",
    "            if A[mid] == n :\n",
    "                return i\n",
    "\n",
    "            elif A[mid] > n :\n",
    "                return binarySearch(A ,low ,mid-1 ,n)\n",
    "\n",
    "            else:\n",
    "                return binarySearch(A ,mid+1 ,high ,n)\n",
    "    else:\n",
    "        return -1"
   ]
  },
  {
   "cell_type": "code",
   "execution_count": 14,
   "metadata": {},
   "outputs": [],
   "source": [
    "def commonElement(A ,B ,C):\n",
    "    \n",
    "    num = []\n",
    "    for i in A:\n",
    "        if binarySearch(B ,0 ,len(B)-1 ,i) != -1 and binarySearch(C ,0 ,len(C)-1 ,i) != -1:\n",
    "            num.append(i)\n",
    "    \n",
    "    if len(num) == 0:\n",
    "        return -1\n",
    "    \n",
    "    return num\n",
    "       "
   ]
  },
  {
   "cell_type": "code",
   "execution_count": 13,
   "metadata": {},
   "outputs": [
    {
     "name": "stdout",
     "output_type": "stream",
     "text": [
      "12 23 28 43 44 59 60 68 70 85 88 92 124 125 136 168 171 173 179 199 212 230 277 282 306 314 316 325 328 336 337 363 365 368 369 371 374 387 394 404 414 422 422 427 430 435 457 493 506 527 531 538 541 546 568 583 585 650 691 730 737 751 764 783 785 789 794 803 809 815 847 858 863 863 874 896 916 920 926 927 930 957 981 997\n",
      "13 20 32 35 61 95 98 98 118 125 150 194 220 227 229 246 271 281 287 302 307 318 341 351 354 369 369 379 380 400 435 441 442 445 452 468 482 489 493 498 501 504 529 540 556 568 571 587 587 602 619 620 625 652 653 676 677 684 690 709 710 716 724 730 733 740 755 757 765 765 772 796 797 830 842 847 857 857 866 872 903 915 922 928 933 966 988\n",
      "12 30 83 122 129 140 144 184 198 228 229 236 238 276 300 312 325 341 344 349 356 366 370 396 405 408 423 429 433 438 444 465 471 475 491 492 500 506 508 530 539 543 552 569 591 606 607 612 614 623 645 670 689 726 744 744 747 764 773 777 787 794 802 805 811 819 819 829 841 859 860 905 918 918 929 937 955 997\n"
     ]
    },
    {
     "data": {
      "text/plain": [
       "-1"
      ]
     },
     "execution_count": 13,
     "metadata": {},
     "output_type": "execute_result"
    }
   ],
   "source": [
    "A = list(map(int, input().rstrip().split()))\n",
    "B = list(map(int, input().rstrip().split()))\n",
    "C = list(map(int, input().rstrip().split()))\n",
    "\n",
    "commonElement(A ,B ,C)"
   ]
  },
  {
   "cell_type": "code",
   "execution_count": 15,
   "metadata": {},
   "outputs": [],
   "source": [
    "def commonElements(A ,B ,C):\n",
    "    \n",
    "    i ,j ,k = 0,0,0\n",
    "    num = []\n",
    "    while i<len(A) and j<len(B) and k<len(C) :\n",
    "        \n",
    "        if A[i] == B[j] == C[k]:\n",
    "            num.append(A[i])\n",
    "        \n",
    "        elif A[i] < B[j] and A[i] < C[k]:\n",
    "            i += 1\n",
    "        \n",
    "        elif B[j] < A[i] and B[j] < C[k]:\n",
    "            j += 1\n",
    "        \n",
    "        elif C[k] < B[j] and C[k] < A[i]:\n",
    "            k += 1\n",
    "    \n",
    "    return num"
   ]
  },
  {
   "cell_type": "code",
   "execution_count": 17,
   "metadata": {},
   "outputs": [],
   "source": [
    "def commonElements(A ,B ,C):\n",
    "    \n",
    "    dic = {}\n",
    "    num = []\n",
    "    \n",
    "    for i in A:\n",
    "        if i not in dic:\n",
    "            dic[i] = 1\n",
    "    \n",
    "    for i in B:\n",
    "        if i in dic and dic[i] == 1:\n",
    "            dic[i] += 1\n",
    "\n",
    "    for i in C:\n",
    "        if i in dic and dic[i] == 2:\n",
    "            dic[i] += 1\n",
    "    \n",
    "    for keys ,values in sorted(dic.items()):\n",
    "        if values == 3:\n",
    "            num.append(keys)\n",
    "    \n",
    "    if len(num) == 0:\n",
    "        print(-1)\n",
    "    else:\n",
    "        print(' '.join(map(str ,num)))"
   ]
  },
  {
   "cell_type": "code",
   "execution_count": null,
   "metadata": {},
   "outputs": [],
   "source": [
    "A = list(map(int, input().rstrip().split()))\n",
    "B = list(map(int, input().rstrip().split()))\n",
    "C = list(map(int, input().rstrip().split()))\n",
    "\n",
    "commonElement(A ,B ,C)"
   ]
  },
  {
   "cell_type": "raw",
   "metadata": {},
   "source": [
    "12 23 28 43 44 59 60 68 70 85 88 92 124 125 136 168 171 173 179 199 212 230 277 282 306 314 316 325 328 336 337 363 365 368 369 371 374 387 394 404 414 422 422 427 430 435 457 493 506 527 531 538 541 546 568 583 585 650 691 730 737 751 764 783 785 789 794 803 809 815 847 858 863 863 874 896 916 920 926 927 930 957 981 997\n",
    "13 20 32 35 61 95 98 98 118 125 150 194 220 227 229 246 271 281 287 302 307 318 341 351 354 369 369 379 380 400 435 441 442 445 452 468 482 489 493 498 501 504 529 540 556 568 571 587 587 602 619 620 625 652 653 676 677 684 690 709 710 716 724 730 733 740 755 757 765 765 772 796 797 830 842 847 857 857 866 872 903 915 922 928 933 966 988\n",
    "12 30 83 122 129 140 144 184 198 228 229 236 238 276 300 312 325 341 344 349 356 366 370 396 405 408 423 429 433 438 444 465 471 475 491 492 500 506 508 530 539 543 552 569 591 606 607 612 614 623 645 670 689 726 744 744 747 764 773 777 787 794 802 805 811 819 819 829 841 859 860 905 918 918 929 937 955 997"
   ]
  },
  {
   "cell_type": "code",
   "execution_count": 18,
   "metadata": {},
   "outputs": [
    {
     "name": "stdout",
     "output_type": "stream",
     "text": [
      "20 80\n"
     ]
    }
   ],
   "source": [
    "num = [20,80]\n",
    "print(' '.join(map(str ,num)))"
   ]
  },
  {
   "cell_type": "code",
   "execution_count": null,
   "metadata": {},
   "outputs": [],
   "source": []
  }
 ],
 "metadata": {
  "kernelspec": {
   "display_name": "Python 3",
   "language": "python",
   "name": "python3"
  },
  "language_info": {
   "codemirror_mode": {
    "name": "ipython",
    "version": 3
   },
   "file_extension": ".py",
   "mimetype": "text/x-python",
   "name": "python",
   "nbconvert_exporter": "python",
   "pygments_lexer": "ipython3",
   "version": "3.8.5"
  }
 },
 "nbformat": 4,
 "nbformat_minor": 2
}
