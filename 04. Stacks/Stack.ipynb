{
 "cells": [
  {
   "cell_type": "code",
   "execution_count": 1,
   "metadata": {},
   "outputs": [
    {
     "name": "stdout",
     "output_type": "stream",
     "text": [
      "abc"
     ]
    }
   ],
   "source": [
    "s = 'abc'\n",
    "for i in s:\n",
    "    print(i,end=\"\")"
   ]
  },
  {
   "cell_type": "code",
   "execution_count": 2,
   "metadata": {},
   "outputs": [],
   "source": [
    "def checkParenthesis(string):\n",
    "    s = []\n",
    "    for i in string:\n",
    "        \n",
    "        if i == '{' or i == '[' or i == '(':\n",
    "            s.append(i)\n",
    "            continue\n",
    "        \n",
    "        if i == '}':\n",
    "            x = s.pop()\n",
    "            \n",
    "            if x == '[' or x == \"(\":\n",
    "                return False\n",
    "        \n",
    "        if i == ']':\n",
    "            x = s.pop()\n",
    "            \n",
    "            if x == '{' or x == \"(\":\n",
    "                return False\n",
    "        \n",
    "        if i == ')':\n",
    "            x = s.pop()\n",
    "            \n",
    "            if x == '[' or x == \"{\":\n",
    "                return False\n",
    "        \n",
    "    if len(s) == 0:\n",
    "        return True\n",
    "    else:\n",
    "        return False\n",
    "        \n",
    "        \n",
    "            "
   ]
  },
  {
   "cell_type": "code",
   "execution_count": 3,
   "metadata": {},
   "outputs": [
    {
     "name": "stdout",
     "output_type": "stream",
     "text": [
      "balanced\n"
     ]
    }
   ],
   "source": [
    "s = \"{([])}\"\n",
    "print('balanced' if checkParenthesis(s) else 'not balanced')"
   ]
  },
  {
   "cell_type": "markdown",
   "metadata": {},
   "source": [
    "# get min ele in O(1)"
   ]
  },
  {
   "cell_type": "code",
   "execution_count": 4,
   "metadata": {},
   "outputs": [],
   "source": [
    "class stack:\n",
    "    \n",
    "    def __init__(self):\n",
    "        self.arr = []\n",
    "        self.aux_arr = []\n",
    "    \n",
    "    def push(self, data):\n",
    "        self.arr.append(data)\n",
    "        \n",
    "        if len(self.aux_arr) != 0:\n",
    "            self.aux_arr.append(min(data, self.aux_arr[-1]))\n",
    "        else:\n",
    "            self.aux_arr.append(data)\n",
    "    \n",
    "    def pop(self):\n",
    "        self.arr.pop()\n",
    "        self.aux_arr.pop()\n",
    "    \n",
    "    def getMin(self):\n",
    "        return self.aux_arr[-1]\n",
    "    \n",
    "    def printEle(self):\n",
    "        for i in range(len(self.arr)):\n",
    "            print(self.arr[i])\n",
    "        "
   ]
  },
  {
   "cell_type": "code",
   "execution_count": 5,
   "metadata": {},
   "outputs": [],
   "source": [
    "s = stack()"
   ]
  },
  {
   "cell_type": "code",
   "execution_count": 6,
   "metadata": {},
   "outputs": [],
   "source": [
    "s.push(1)\n",
    "s.push(2)\n",
    "s.push(3)"
   ]
  },
  {
   "cell_type": "code",
   "execution_count": 7,
   "metadata": {},
   "outputs": [
    {
     "name": "stdout",
     "output_type": "stream",
     "text": [
      "1\n",
      "2\n",
      "3\n"
     ]
    }
   ],
   "source": [
    "s.printEle()"
   ]
  },
  {
   "cell_type": "code",
   "execution_count": 8,
   "metadata": {},
   "outputs": [
    {
     "data": {
      "text/plain": [
       "1"
      ]
     },
     "execution_count": 8,
     "metadata": {},
     "output_type": "execute_result"
    }
   ],
   "source": [
    "s.getMin()"
   ]
  },
  {
   "cell_type": "markdown",
   "metadata": {},
   "source": [
    "# Next Larger element"
   ]
  },
  {
   "cell_type": "code",
   "execution_count": 9,
   "metadata": {},
   "outputs": [],
   "source": [
    "def nxtGreater(arr):\n",
    "    \n",
    "    s = []\n",
    "    \n",
    "    for i in range(len(arr)):\n",
    "        nge = -1\n",
    "        for j in range(i+1, len(arr)):\n",
    "            if arr[i] < arr[j]:\n",
    "                nge = arr[j]\n",
    "                break\n",
    "        s.append(nge)\n",
    "    \n",
    "    s[-1] = -1\n",
    "    return s\n",
    "        "
   ]
  },
  {
   "cell_type": "code",
   "execution_count": 10,
   "metadata": {},
   "outputs": [
    {
     "data": {
      "text/plain": [
       "[-1, -1, -1, -1]"
      ]
     },
     "execution_count": 10,
     "metadata": {},
     "output_type": "execute_result"
    }
   ],
   "source": [
    "lis = [4,3,2,1]\n",
    "nxtGreater(lis)"
   ]
  },
  {
   "cell_type": "code",
   "execution_count": 11,
   "metadata": {},
   "outputs": [],
   "source": [
    "# Stack with array\n",
    "def createStack():\n",
    "    stack = []\n",
    "    return stack\n",
    "\n",
    "def push(stack, data):\n",
    "    stack.append(data)\n",
    "    \n",
    "def isEmpty(stack):\n",
    "    return len(stack) == 0\n",
    "\n",
    "def pop(stack):\n",
    "    \n",
    "    if len(stack) == 0:\n",
    "        return 'Stack underflow'\n",
    "    else:\n",
    "        return stack.pop()\n",
    "\n",
    "def printEle(stack):\n",
    "    for i in range(len(stack)-1,-1,-1):\n",
    "        print(stack[i])\n"
   ]
  },
  {
   "cell_type": "code",
   "execution_count": 12,
   "metadata": {},
   "outputs": [],
   "source": [
    "s = createStack()"
   ]
  },
  {
   "cell_type": "code",
   "execution_count": 13,
   "metadata": {},
   "outputs": [],
   "source": [
    "ele = [1,3,2,4]\n",
    "for i in ele:\n",
    "    push(s,i)"
   ]
  },
  {
   "cell_type": "code",
   "execution_count": 14,
   "metadata": {},
   "outputs": [
    {
     "name": "stdout",
     "output_type": "stream",
     "text": [
      "4\n",
      "2\n",
      "3\n",
      "1\n"
     ]
    }
   ],
   "source": [
    "printEle(s)"
   ]
  },
  {
   "cell_type": "code",
   "execution_count": 15,
   "metadata": {},
   "outputs": [
    {
     "data": {
      "text/plain": [
       "4"
      ]
     },
     "execution_count": 15,
     "metadata": {},
     "output_type": "execute_result"
    }
   ],
   "source": [
    "pop(s)"
   ]
  },
  {
   "cell_type": "code",
   "execution_count": 16,
   "metadata": {},
   "outputs": [],
   "source": [
    "def printNGE(arr): \n",
    "    s = createStack() \n",
    "    element = 0\n",
    "    next = 0\n",
    "    nge = []\n",
    "  \n",
    "    # push the first element to stack \n",
    "    push(s, arr[0]) \n",
    "  \n",
    "    # iterate for rest of the elements \n",
    "    for i in range(1, len(arr), 1): \n",
    "        next = arr[i] \n",
    "  \n",
    "        if isEmpty(s) == False: \n",
    "  \n",
    "            # if stack is not empty, then pop an element from stack \n",
    "            element = pop(s) \n",
    "  \n",
    "            '''If the popped element is smaller than next, then \n",
    "                a) print the pair \n",
    "                b) keep popping while elements are smaller and \n",
    "                   stack is not empty '''\n",
    "            while element < next : \n",
    "                nge.append(next) \n",
    "                if isEmpty(s) == True : \n",
    "                    break\n",
    "                element = pop(s) \n",
    "  \n",
    "            '''If element is greater than next, then push \n",
    "               the element back '''\n",
    "            if  element > next: \n",
    "                push(s, element) \n",
    "  \n",
    "        '''push next to stack so that we can find \n",
    "           next greater for it '''\n",
    "        push(s, next) \n",
    "  \n",
    "    '''After iterating over the loop, the remaining \n",
    "       elements in stack do not have the next greater \n",
    "       element, so print -1 for them '''\n",
    "  \n",
    "    while isEmpty(s) == False: \n",
    "            element = pop(s) \n",
    "            nge.append(-1)\n",
    "    \n",
    "    return nge"
   ]
  },
  {
   "cell_type": "code",
   "execution_count": 17,
   "metadata": {},
   "outputs": [],
   "source": [
    "def nextLarger(arr):\n",
    "    stack = []\n",
    "    nge = []\n",
    "    \n",
    "    for i in range(len(arr)):\n",
    "        \n",
    "        element = arr[i]        \n",
    "        if len(stack) == 0 or element <= stack[-1]:\n",
    "            stack.append(element)\n",
    "        \n",
    "        elif element > stack[-1]:\n",
    "            \n",
    "            while len(stack) != 0 and element > stack[-1]:\n",
    "                nge.append(element)\n",
    "                #print(str(stack[-1])+\"--->\"+str(element))\n",
    "                stack.pop()\n",
    "            \n",
    "            if len(stack) == 0 or element <=stack[-1]:\n",
    "                stack.append(element)\n",
    "    \n",
    "    while len(stack):\n",
    "        #print(str(stack[-1])+\"---> -1\")\n",
    "        nge.append(-1)\n",
    "        stack.pop()\n",
    "    \n",
    "    return nge     \n",
    "                "
   ]
  },
  {
   "cell_type": "code",
   "execution_count": 18,
   "metadata": {},
   "outputs": [
    {
     "data": {
      "text/plain": [
       "[10, 10, 10, 8, 4, 12, 12, 12, -1, -1, -1]"
      ]
     },
     "execution_count": 18,
     "metadata": {},
     "output_type": "execute_result"
    }
   ],
   "source": [
    "arr = [5,3,2,10,6,8,1,4,12,7,4]\n",
    "printNGE(arr)"
   ]
  },
  {
   "cell_type": "code",
   "execution_count": 19,
   "metadata": {},
   "outputs": [
    {
     "data": {
      "text/plain": [
       "[10, 10, 10, 8, 4, 12, 12, 12, -1, -1, -1]"
      ]
     },
     "execution_count": 19,
     "metadata": {},
     "output_type": "execute_result"
    }
   ],
   "source": [
    "arr = [5,3,2,10,6,8,1,4,12,7,4]\n",
    "nextLarger(arr)"
   ]
  },
  {
   "cell_type": "code",
   "execution_count": 20,
   "metadata": {},
   "outputs": [
    {
     "data": {
      "text/plain": [
       "[8, 4, -1, -1]"
      ]
     },
     "execution_count": 20,
     "metadata": {},
     "output_type": "execute_result"
    }
   ],
   "source": [
    "arr = [7,8,1,4]\n",
    "nextLarger(arr)"
   ]
  },
  {
   "cell_type": "code",
   "execution_count": 21,
   "metadata": {},
   "outputs": [
    {
     "data": {
      "text/plain": [
       "[8, 4, -1, -1]"
      ]
     },
     "execution_count": 21,
     "metadata": {},
     "output_type": "execute_result"
    }
   ],
   "source": [
    "arr = [7,8,1,4]\n",
    "nextLarger(arr)"
   ]
  },
  {
   "cell_type": "code",
   "execution_count": 22,
   "metadata": {},
   "outputs": [],
   "source": [
    "def nextLarger(arr):\n",
    "    stack = []\n",
    "    nge = [0 for i in range(len(arr))]\n",
    "    \n",
    "    for i in range(len(arr)-1,-1,-1):\n",
    "        \n",
    "        while len(stack) != 0 and stack[-1] < arr[i]:\n",
    "            stack.pop()\n",
    "    \n",
    "        if len(stack) == 0:\n",
    "            nge[i] = -1\n",
    "        else:\n",
    "            nge[i] = stack[-1]\n",
    "        \n",
    "        stack.append(arr[i])\n",
    "    \n",
    "    return nge"
   ]
  },
  {
   "cell_type": "code",
   "execution_count": 23,
   "metadata": {},
   "outputs": [],
   "source": [
    "def createStack():\n",
    "    stack = []\n",
    "    return stack\n",
    "\n",
    "def isEmpty(stack):\n",
    "    return len(stack) == 0\n",
    "\n",
    "def push(stack, data):\n",
    "    stack.append(data)\n",
    "\n",
    "def pop(stack):\n",
    "    \n",
    "    if isEmpty(stack):\n",
    "        return -1\n",
    "    else:\n",
    "        return stack.pop()\n",
    "\n",
    "def printEle(stack):\n",
    "    for i in range(len(stack)-1,-1,-1):\n",
    "        print(stack[i])"
   ]
  },
  {
   "cell_type": "markdown",
   "metadata": {},
   "source": [
    "# Evaluate Postfix Expression"
   ]
  },
  {
   "cell_type": "code",
   "execution_count": 24,
   "metadata": {},
   "outputs": [],
   "source": [
    "def evaluatePostfix(exp):\n",
    "    \n",
    "    stack = createStack()\n",
    "    \n",
    "    for i in exp:\n",
    "        \n",
    "        if i.isdigit():\n",
    "            push(stack, i)\n",
    "        \n",
    "        else:\n",
    "            val_1 = pop(stack)\n",
    "            val_2 = pop(stack)\n",
    "            \n",
    "            push(stack, str(eval(val_2+i+val_1)))\n",
    "        \n",
    "    return int(pop(stack))\n",
    "                \n",
    "            \n",
    "        "
   ]
  },
  {
   "cell_type": "code",
   "execution_count": 25,
   "metadata": {},
   "outputs": [
    {
     "data": {
      "text/plain": [
       "-4"
      ]
     },
     "execution_count": 25,
     "metadata": {},
     "output_type": "execute_result"
    }
   ],
   "source": [
    "a = \"231*+9-\"\n",
    "evaluatePostfix(a)"
   ]
  },
  {
   "cell_type": "code",
   "execution_count": 1,
   "metadata": {},
   "outputs": [],
   "source": [
    "class Stack:\n",
    "    \n",
    "    def __init__(self, size):\n",
    "        self.size = size\n",
    "        self.top = -1\n",
    "        self.stack = []\n",
    "    \n",
    "    def isEmpty(self):\n",
    "        return self.top == -1\n",
    "    \n",
    "    def isFull(self):\n",
    "        return self.top == self.size - 1\n",
    "    \n",
    "    def push(self, data):\n",
    "        if self.isFull():\n",
    "            print('Stack is Full')\n",
    "            return \n",
    "        else:\n",
    "            self.top += 1\n",
    "            self.stack.append(data)\n",
    "        \n",
    "    def pop(self):\n",
    "        if self.isEmpty():\n",
    "            print('Stack is Empty')\n",
    "            return\n",
    "        else:\n",
    "            print('{} is deleted from stack'.format(self.stack[self.top]))\n",
    "            self.stack.pop()\n",
    "            self.top -= 1\n",
    "    \n",
    "    def peek(self):\n",
    "        if self.top == -1:\n",
    "            print('Stack is Empty')\n",
    "            return\n",
    "        \n",
    "        return self.stack[self.top]\n",
    "            \n",
    "    def printStack(self):\n",
    "        if self.top == -1:\n",
    "            print('Stack is Empty')\n",
    "            return\n",
    "        \n",
    "        for i in range(self.top ,-1 ,-1):\n",
    "            print(self.stack[i])\n"
   ]
  },
  {
   "cell_type": "code",
   "execution_count": 2,
   "metadata": {},
   "outputs": [],
   "source": [
    "stack = Stack(5)"
   ]
  },
  {
   "cell_type": "code",
   "execution_count": 3,
   "metadata": {},
   "outputs": [],
   "source": [
    "stack = Stack(5)\n",
    "for i in range(4):\n",
    "    stack.push(i+1)\n",
    "stack.printStack()"
   ]
  },
  {
   "cell_type": "code",
   "execution_count": 4,
   "metadata": {},
   "outputs": [
    {
     "name": "stdout",
     "output_type": "stream",
     "text": [
      "4\n",
      "3\n",
      "2\n",
      "1\n"
     ]
    }
   ],
   "source": [
    "stack.printStack()"
   ]
  },
  {
   "cell_type": "code",
   "execution_count": 30,
   "metadata": {},
   "outputs": [
    {
     "name": "stdout",
     "output_type": "stream",
     "text": [
      "4 is deleted from Stack\n"
     ]
    }
   ],
   "source": [
    "stack.pop()"
   ]
  },
  {
   "cell_type": "code",
   "execution_count": 31,
   "metadata": {},
   "outputs": [
    {
     "name": "stdout",
     "output_type": "stream",
     "text": [
      "3 is deleted from Stack\n"
     ]
    }
   ],
   "source": [
    "stack.pop()"
   ]
  },
  {
   "cell_type": "code",
   "execution_count": 32,
   "metadata": {},
   "outputs": [
    {
     "name": "stdout",
     "output_type": "stream",
     "text": [
      "7 Element is inserted successfully in the stack \n",
      "8 Element is inserted successfully in the stack \n"
     ]
    }
   ],
   "source": [
    "stack.push(7)\n",
    "stack.push(8)"
   ]
  },
  {
   "cell_type": "code",
   "execution_count": 33,
   "metadata": {},
   "outputs": [
    {
     "name": "stdout",
     "output_type": "stream",
     "text": [
      "8\n",
      "7\n",
      "2\n",
      "1\n"
     ]
    }
   ],
   "source": [
    "stack.printStack()"
   ]
  },
  {
   "cell_type": "code",
   "execution_count": 34,
   "metadata": {},
   "outputs": [
    {
     "name": "stdout",
     "output_type": "stream",
     "text": [
      "8 is deleted from Stack\n"
     ]
    }
   ],
   "source": [
    "stack.pop()"
   ]
  },
  {
   "cell_type": "code",
   "execution_count": null,
   "metadata": {},
   "outputs": [],
   "source": []
  }
 ],
 "metadata": {
  "kernelspec": {
   "display_name": "Python 3",
   "language": "python",
   "name": "python3"
  },
  "language_info": {
   "codemirror_mode": {
    "name": "ipython",
    "version": 3
   },
   "file_extension": ".py",
   "mimetype": "text/x-python",
   "name": "python",
   "nbconvert_exporter": "python",
   "pygments_lexer": "ipython3",
   "version": "3.7.3"
  }
 },
 "nbformat": 4,
 "nbformat_minor": 2
}
