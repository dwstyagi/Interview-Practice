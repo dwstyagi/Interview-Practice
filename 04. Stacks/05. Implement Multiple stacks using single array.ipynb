{
 "cells": [
  {
   "cell_type": "code",
   "execution_count": 50,
   "metadata": {},
   "outputs": [],
   "source": [
    "class Stacks:\n",
    "    def __init__(self ,numberOfStacks ,stackSize):\n",
    "        self.stackSize = stackSize\n",
    "        self.stack = [0 for i in range(self.stackSize * numberOfStacks)]\n",
    "        self.size = [0 for i in range(numberOfStacks)]\n",
    "    \n",
    "    def isFull(self ,stackNum):\n",
    "        return self.size[stackNum-1] == self.stackSize\n",
    "    \n",
    "    def isEmpty(self ,stackNum):\n",
    "        return self.size[stackNum-1] == 0\n",
    "    \n",
    "    def indexAtTop(self ,stackNum):\n",
    "        size = self.stackSize\n",
    "        items = self.size[stackNum-1]\n",
    "        \n",
    "        return (size*(stackNum-1)) - 1 + items\n",
    "    \n",
    "    def spaceLeft(self ,stackNum):\n",
    "        return (self.stackSize * stackNum) - self.indexAtTop(stackNum) - 1\n",
    "    \n",
    "    def push(self ,stackNum ,data):\n",
    "        if self.isFull(stackNum):\n",
    "            return 'Current Stack is Full'\n",
    "        else:\n",
    "            self.size[stackNum-1] += 1\n",
    "            self.stack[self.indexAtTop(stackNum)] = data\n",
    "    \n",
    "    def pop(self ,stackNum):\n",
    "        if self.isEmpty(stackNum):\n",
    "            return 'Current Stack is Empty'\n",
    "        else:\n",
    "            item = self.stack[self.indexAtTop(stackNum)]\n",
    "            self.stack[self.indexAtTop(stackNum)] = 0\n",
    "            self.size[stackNum-1] -= 1\n",
    "            return item \n",
    "    \n",
    "    def peek(self ,stackNum):\n",
    "        if self.isEmpty(stackNum):\n",
    "            return 'Current Stack is Empty'\n",
    "        return self.stack[self.indexAtTop(stackNum)]\n",
    "    \n",
    "    def printStack(self):\n",
    "        return self.stack"
   ]
  },
  {
   "cell_type": "code",
   "execution_count": 51,
   "metadata": {},
   "outputs": [],
   "source": [
    "arr = [5 ,3 ,2 ,10 ,6 ,8 ,1 ,4 ,12 ,7 ,4]"
   ]
  },
  {
   "cell_type": "code",
   "execution_count": 52,
   "metadata": {},
   "outputs": [],
   "source": [
    "# Stacks( numberOfStacks ,stackSize)\n",
    "s = Stacks(3 ,5)\n",
    "for i in [5, 3]:\n",
    "    s.push(1 ,i)"
   ]
  },
  {
   "cell_type": "code",
   "execution_count": 53,
   "metadata": {},
   "outputs": [],
   "source": [
    "for i in [2, 10 ,6]:\n",
    "    s.push(3 ,i)"
   ]
  },
  {
   "cell_type": "code",
   "execution_count": 54,
   "metadata": {},
   "outputs": [],
   "source": [
    "for i in [8 ,1 , 4]:\n",
    "    s.push(2 ,i)"
   ]
  },
  {
   "cell_type": "code",
   "execution_count": 55,
   "metadata": {},
   "outputs": [],
   "source": [
    "s.push(3 ,12)"
   ]
  },
  {
   "cell_type": "code",
   "execution_count": 56,
   "metadata": {},
   "outputs": [],
   "source": [
    "for i in [7, 4]:\n",
    "    s.push(1 ,i)"
   ]
  },
  {
   "cell_type": "code",
   "execution_count": 57,
   "metadata": {},
   "outputs": [
    {
     "data": {
      "text/plain": [
       "4"
      ]
     },
     "execution_count": 57,
     "metadata": {},
     "output_type": "execute_result"
    }
   ],
   "source": [
    "s.peek(1)"
   ]
  },
  {
   "cell_type": "code",
   "execution_count": 58,
   "metadata": {},
   "outputs": [
    {
     "data": {
      "text/plain": [
       "4"
      ]
     },
     "execution_count": 58,
     "metadata": {},
     "output_type": "execute_result"
    }
   ],
   "source": [
    "s.peek(2)"
   ]
  },
  {
   "cell_type": "code",
   "execution_count": 59,
   "metadata": {},
   "outputs": [
    {
     "data": {
      "text/plain": [
       "12"
      ]
     },
     "execution_count": 59,
     "metadata": {},
     "output_type": "execute_result"
    }
   ],
   "source": [
    "s.peek(3)"
   ]
  },
  {
   "cell_type": "code",
   "execution_count": 60,
   "metadata": {},
   "outputs": [
    {
     "data": {
      "text/plain": [
       "1"
      ]
     },
     "execution_count": 60,
     "metadata": {},
     "output_type": "execute_result"
    }
   ],
   "source": [
    "s.spaceLeft(1)"
   ]
  },
  {
   "cell_type": "code",
   "execution_count": 61,
   "metadata": {},
   "outputs": [
    {
     "data": {
      "text/plain": [
       "2"
      ]
     },
     "execution_count": 61,
     "metadata": {},
     "output_type": "execute_result"
    }
   ],
   "source": [
    "s.spaceLeft(2)"
   ]
  },
  {
   "cell_type": "code",
   "execution_count": 62,
   "metadata": {},
   "outputs": [
    {
     "data": {
      "text/plain": [
       "1"
      ]
     },
     "execution_count": 62,
     "metadata": {},
     "output_type": "execute_result"
    }
   ],
   "source": [
    "s.spaceLeft(3)"
   ]
  },
  {
   "cell_type": "code",
   "execution_count": 63,
   "metadata": {},
   "outputs": [
    {
     "name": "stdout",
     "output_type": "stream",
     "text": [
      "5 3 7 4 0 8 1 4 0 0 2 10 6 12 0\n"
     ]
    }
   ],
   "source": [
    "print(*s.printStack())"
   ]
  },
  {
   "cell_type": "code",
   "execution_count": null,
   "metadata": {},
   "outputs": [],
   "source": []
  }
 ],
 "metadata": {
  "kernelspec": {
   "display_name": "Python 3",
   "language": "python",
   "name": "python3"
  },
  "language_info": {
   "codemirror_mode": {
    "name": "ipython",
    "version": 3
   },
   "file_extension": ".py",
   "mimetype": "text/x-python",
   "name": "python",
   "nbconvert_exporter": "python",
   "pygments_lexer": "ipython3",
   "version": "3.8.5"
  }
 },
 "nbformat": 4,
 "nbformat_minor": 2
}
