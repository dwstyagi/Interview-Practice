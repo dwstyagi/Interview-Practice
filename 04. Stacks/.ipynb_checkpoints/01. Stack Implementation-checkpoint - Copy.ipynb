{
 "cells": [
  {
   "cell_type": "code",
   "execution_count": 1,
   "metadata": {},
   "outputs": [],
   "source": [
    "class Stack:\n",
    "    \n",
    "    def __init__(self, size):\n",
    "        self.size = size\n",
    "        self.top = -1\n",
    "        self.stack = []\n",
    "    \n",
    "    def isEmpty(self):\n",
    "        return self.top == -1\n",
    "    \n",
    "    def isFull(self):\n",
    "        return self.top == self.size - 1\n",
    "    \n",
    "    def push(self, data):\n",
    "        if self.isFull():\n",
    "            print('Stack is Full')\n",
    "            return \n",
    "        else:\n",
    "            self.top += 1\n",
    "            self.stack.append(data)\n",
    "        \n",
    "    def pop(self):\n",
    "        if self.isEmpty():\n",
    "            print('Stack is Empty')\n",
    "            return\n",
    "        else:\n",
    "            print('{} is deleted from stack'.format(self.stack[self.top]))\n",
    "            self.stack.pop()\n",
    "            self.top -= 1\n",
    "    \n",
    "    def peek(self):\n",
    "        if self.top == -1:\n",
    "            print('Stack is Empty')\n",
    "            return\n",
    "        \n",
    "        return self.stack[self.top]\n",
    "            \n",
    "    def printStack(self):\n",
    "        if self.top == -1:\n",
    "            print('Stack is Empty')\n",
    "            return\n",
    "        \n",
    "        for i in range(self.top ,-1 ,-1):\n",
    "            print(self.stack[i])\n"
   ]
  },
  {
   "cell_type": "code",
   "execution_count": 2,
   "metadata": {},
   "outputs": [
    {
     "name": "stdout",
     "output_type": "stream",
     "text": [
      "5\n",
      "4\n",
      "3\n",
      "2\n",
      "1\n"
     ]
    }
   ],
   "source": [
    "stack = Stack(5)\n",
    "for i in range(5):\n",
    "    stack.push(i+1)\n",
    "stack.printStack()"
   ]
  },
  {
   "cell_type": "code",
   "execution_count": 3,
   "metadata": {},
   "outputs": [
    {
     "name": "stdout",
     "output_type": "stream",
     "text": [
      "Stack is Full\n"
     ]
    }
   ],
   "source": [
    "stack.push(6)"
   ]
  },
  {
   "cell_type": "code",
   "execution_count": 4,
   "metadata": {},
   "outputs": [
    {
     "name": "stdout",
     "output_type": "stream",
     "text": [
      "5 is deleted from stack\n"
     ]
    }
   ],
   "source": [
    "stack.pop()"
   ]
  },
  {
   "cell_type": "code",
   "execution_count": 5,
   "metadata": {},
   "outputs": [],
   "source": [
    "stack.push(6)"
   ]
  },
  {
   "cell_type": "code",
   "execution_count": 6,
   "metadata": {},
   "outputs": [
    {
     "name": "stdout",
     "output_type": "stream",
     "text": [
      "6\n",
      "4\n",
      "3\n",
      "2\n",
      "1\n"
     ]
    }
   ],
   "source": [
    "stack.printStack()"
   ]
  },
  {
   "cell_type": "code",
   "execution_count": 8,
   "metadata": {},
   "outputs": [
    {
     "name": "stdout",
     "output_type": "stream",
     "text": [
      "Stack is Empty\n",
      "Stack is Empty\n",
      "Stack is Empty\n",
      "Stack is Empty\n",
      "Stack is Empty\n",
      "Stack is Empty\n"
     ]
    }
   ],
   "source": [
    "i = 5\n",
    "while i:\n",
    "    stack.pop()\n",
    "    i -= 1\n",
    "stack.pop()"
   ]
  },
  {
   "cell_type": "code",
   "execution_count": null,
   "metadata": {},
   "outputs": [],
   "source": []
  }
 ],
 "metadata": {
  "kernelspec": {
   "display_name": "Python 3",
   "language": "python",
   "name": "python3"
  },
  "language_info": {
   "codemirror_mode": {
    "name": "ipython",
    "version": 3
   },
   "file_extension": ".py",
   "mimetype": "text/x-python",
   "name": "python",
   "nbconvert_exporter": "python",
   "pygments_lexer": "ipython3",
   "version": "3.7.3"
  }
 },
 "nbformat": 4,
 "nbformat_minor": 2
}
