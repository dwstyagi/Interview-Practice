{
 "cells": [
  {
   "cell_type": "markdown",
   "metadata": {},
   "source": [
    "How to implement a stack which will support following operations in O(1) time complexity?\n",
    "1. push() which adds an element to the top of stack.\n",
    "2. pop() which removes an element from top of stack.\n",
    "3. findMiddle() which will return middle element of the stack.\n",
    "4. deleteMiddle() which will delete the middle element."
   ]
  },
  {
   "cell_type": "code",
   "execution_count": 3,
   "metadata": {},
   "outputs": [],
   "source": [
    "class Node:\n",
    "    def __init__(self, data):\n",
    "        self.data = data\n",
    "        self.prev = None\n",
    "        self.next = None"
   ]
  },
  {
   "cell_type": "code",
   "execution_count": 5,
   "metadata": {},
   "outputs": [],
   "source": [
    "class Stack:\n",
    "    def __init__(self):\n",
    "        self.size = 0\n",
    "        self.mid = None\n",
    "        self.head = None\n",
    "    \n",
    "    def getNode(self, data):\n",
    "        return Node(data)\n",
    "    \n",
    "    def push(self, data):\n",
    "        \n",
    "        node = self.getNode(data)\n",
    "        self.size += 1\n",
    "        \n",
    "        if self.head is None:\n",
    "            self.head = node\n",
    "            self.mid = self.head\n",
    "            \n",
    "        else:\n",
    "            self.head.next = node\n",
    "            node.prev = self.head\n",
    "            self.head = node\n",
    "            \n",
    "            if self.size % 2 == 1:\n",
    "                self.mid = self.mid.next\n",
    "    \n",
    "    def pop(self):\n",
    "        if self.size == 0:\n",
    "            return -1\n",
    "        \n",
    "        node = self.head\n",
    "        self.head = self.head.prev\n",
    "        self.head.next = None\n",
    "        print(\"{} has been deleted\".format(node.data))\n",
    "        del(node)\n",
    "    \n",
    "    def findMiddle(self):\n",
    "        if self.size == 0:\n",
    "            return -1\n",
    "        return self.mid.data\n",
    "    \n",
    "    def deleteMiddle(self):\n",
    "        if self.size == 0:\n",
    "            return -1\n",
    "        \n",
    "        node = self.mid\n",
    "        \n",
    "        self.mid.prev.next = self.mid.next\n",
    "        self.mid.next.prev = self.mid.prev\n",
    "        \n",
    "        self.mid = node.prev\n",
    "        print(\"{} node has been deleted\".format(node.data))\n",
    "        del(node)\n",
    "    \n",
    "    def printData(self):\n",
    "        temp = self.head\n",
    "        \n",
    "        while temp:\n",
    "            print(temp.data)\n",
    "            temp = temp.prev"
   ]
  },
  {
   "cell_type": "code",
   "execution_count": 6,
   "metadata": {},
   "outputs": [
    {
     "name": "stdout",
     "output_type": "stream",
     "text": [
      "5\n",
      "4\n",
      "3\n",
      "2\n",
      "1\n"
     ]
    }
   ],
   "source": [
    "s = Stack()\n",
    "for i in [1,2,3,4,5]:\n",
    "    s.push(i)\n",
    "s.printData()"
   ]
  },
  {
   "cell_type": "code",
   "execution_count": 7,
   "metadata": {},
   "outputs": [
    {
     "data": {
      "text/plain": [
       "3"
      ]
     },
     "execution_count": 7,
     "metadata": {},
     "output_type": "execute_result"
    }
   ],
   "source": [
    "s.findMiddle()"
   ]
  },
  {
   "cell_type": "code",
   "execution_count": 8,
   "metadata": {},
   "outputs": [
    {
     "name": "stdout",
     "output_type": "stream",
     "text": [
      "3 node has been deleted\n"
     ]
    }
   ],
   "source": [
    "s.deleteMiddle()"
   ]
  },
  {
   "cell_type": "code",
   "execution_count": 9,
   "metadata": {},
   "outputs": [
    {
     "name": "stdout",
     "output_type": "stream",
     "text": [
      "5\n",
      "4\n",
      "2\n",
      "1\n"
     ]
    }
   ],
   "source": [
    "s.printData()"
   ]
  },
  {
   "cell_type": "code",
   "execution_count": 10,
   "metadata": {},
   "outputs": [
    {
     "data": {
      "text/plain": [
       "2"
      ]
     },
     "execution_count": 10,
     "metadata": {},
     "output_type": "execute_result"
    }
   ],
   "source": [
    "s.findMiddle()"
   ]
  },
  {
   "cell_type": "code",
   "execution_count": null,
   "metadata": {},
   "outputs": [],
   "source": []
  }
 ],
 "metadata": {
  "kernelspec": {
   "display_name": "Python 3",
   "language": "python",
   "name": "python3"
  },
  "language_info": {
   "codemirror_mode": {
    "name": "ipython",
    "version": 3
   },
   "file_extension": ".py",
   "mimetype": "text/x-python",
   "name": "python",
   "nbconvert_exporter": "python",
   "pygments_lexer": "ipython3",
   "version": "3.8.5"
  }
 },
 "nbformat": 4,
 "nbformat_minor": 4
}
