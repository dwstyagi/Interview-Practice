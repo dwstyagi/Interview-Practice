{
 "cells": [
  {
   "cell_type": "code",
   "execution_count": 1,
   "metadata": {},
   "outputs": [],
   "source": [
    "class Stack:\n",
    "    def __init__(self ,size):\n",
    "        self.stackCapacity = size\n",
    "        self.top = -1\n",
    "        self.stack = []\n",
    "        self.minStack = []\n",
    "    \n",
    "    def isFull(self):\n",
    "        return self.top == self.stackCapacity - 1\n",
    "    \n",
    "    def isEmpty(self):\n",
    "        return self.top == -1\n",
    "    \n",
    "    def push(self ,data):\n",
    "        if self.isFull():\n",
    "            return 'Stack is Full'\n",
    "        else:\n",
    "            self.top += 1\n",
    "            self.stack.append(data)\n",
    "            if len(self.minStack) == 0:\n",
    "                self.minStack.append(data)\n",
    "            else:\n",
    "                top = min(self.minStack[-1] ,self.stack[-1])\n",
    "                self.minStack.append(top)\n",
    "        \n",
    "    def pop(self):\n",
    "        if self.isEmpty():\n",
    "            return 'Stack is Empty'\n",
    "        else:\n",
    "            item = self.stack[self.top]\n",
    "            self.stack.pop()\n",
    "            self.minStack.pop()\n",
    "            self.top -= 1\n",
    "            \n",
    "            return item\n",
    "    \n",
    "    def getMin(self):\n",
    "        if self.isEmpty():\n",
    "            return 'Stack is Empty'\n",
    "        return self.minStack[self.top]\n",
    "    \n",
    "    def printStack(self):\n",
    "        if self.isEmpty():\n",
    "            return 'Stack is Empty'\n",
    "        for i in range(self.top ,-1 , -1):\n",
    "            print(self.stack[i])\n",
    "    "
   ]
  },
  {
   "cell_type": "code",
   "execution_count": 3,
   "metadata": {},
   "outputs": [
    {
     "name": "stdout",
     "output_type": "stream",
     "text": [
      "7\n",
      "2\n",
      "1\n",
      "3\n",
      "5\n"
     ]
    }
   ],
   "source": [
    "s = Stack(5)\n",
    "arr = [5 ,3 ,1 ,2 ,7]\n",
    "for i in arr:\n",
    "    s.push(i)\n",
    "s.printStack()"
   ]
  },
  {
   "cell_type": "code",
   "execution_count": 4,
   "metadata": {},
   "outputs": [
    {
     "data": {
      "text/plain": [
       "1"
      ]
     },
     "execution_count": 4,
     "metadata": {},
     "output_type": "execute_result"
    }
   ],
   "source": [
    "s.getMin()"
   ]
  },
  {
   "cell_type": "code",
   "execution_count": 5,
   "metadata": {},
   "outputs": [
    {
     "data": {
      "text/plain": [
       "3"
      ]
     },
     "execution_count": 5,
     "metadata": {},
     "output_type": "execute_result"
    }
   ],
   "source": [
    "i = 3\n",
    "while i:\n",
    "    s.pop()\n",
    "    i -= 1\n",
    "s.getMin()"
   ]
  },
  {
   "cell_type": "code",
   "execution_count": 6,
   "metadata": {},
   "outputs": [
    {
     "name": "stdout",
     "output_type": "stream",
     "text": [
      "3\n",
      "5\n"
     ]
    }
   ],
   "source": [
    "s.printStack()"
   ]
  },
  {
   "cell_type": "code",
   "execution_count": null,
   "metadata": {},
   "outputs": [],
   "source": []
  }
 ],
 "metadata": {
  "kernelspec": {
   "display_name": "Python 3",
   "language": "python",
   "name": "python3"
  },
  "language_info": {
   "codemirror_mode": {
    "name": "ipython",
    "version": 3
   },
   "file_extension": ".py",
   "mimetype": "text/x-python",
   "name": "python",
   "nbconvert_exporter": "python",
   "pygments_lexer": "ipython3",
   "version": "3.8.5"
  }
 },
 "nbformat": 4,
 "nbformat_minor": 2
}
