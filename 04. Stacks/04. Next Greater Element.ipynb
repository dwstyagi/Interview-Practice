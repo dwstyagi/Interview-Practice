{
 "cells": [
  {
   "cell_type": "markdown",
   "metadata": {},
   "source": [
    "```\n",
    "Naive Solution:\n",
    "Time = O(n2)\n",
    "Space = O(n)\n",
    "```"
   ]
  },
  {
   "cell_type": "code",
   "execution_count": 5,
   "metadata": {},
   "outputs": [],
   "source": [
    "def nextGreaterElement(arr):\n",
    "    nge = []\n",
    "    \n",
    "    for i in range(0 ,len(arr)):\n",
    "        flag = 1\n",
    "        \n",
    "        for j in range(i+1 ,len(arr)):\n",
    "            if arr[i] < arr[j]:\n",
    "                nge.append(arr[j])\n",
    "                flag = 0\n",
    "                break\n",
    "        if flag:\n",
    "            nge.append(-1)\n",
    "    \n",
    "    return nge"
   ]
  },
  {
   "cell_type": "code",
   "execution_count": 6,
   "metadata": {},
   "outputs": [
    {
     "name": "stdout",
     "output_type": "stream",
     "text": [
      "10 10 10 12 8 12 4 12 -1 -1 -1\n"
     ]
    }
   ],
   "source": [
    "arr = [5 ,3 ,2 ,10 ,6 ,8 ,1 ,4 ,12 ,7 ,4]\n",
    "print(*nextGreaterElement(arr))"
   ]
  },
  {
   "cell_type": "markdown",
   "metadata": {},
   "source": [
    "## using Stack\n",
    "```\n",
    "Naive Solution:\n",
    "Time = O(n)\n",
    "Space = O(n)\n",
    "```"
   ]
  },
  {
   "cell_type": "code",
   "execution_count": 7,
   "metadata": {},
   "outputs": [],
   "source": [
    "def nextGreaterElement(arr):\n",
    "    stack = []\n",
    "    \n",
    "    for i in range(len(arr)):\n",
    "        if not stack or stack[-1] > arr[i]:\n",
    "            stack.append(arr[i])\n",
    "        else:\n",
    "            while stack and stack[-1] <= arr[i]:\n",
    "                print('{} --> {}'.format(stack[-1] ,arr[i]))\n",
    "                stack.pop()\n",
    "            \n",
    "            stack.append(arr[i])\n",
    "    \n",
    "    while stack:\n",
    "        print('{} --> {}'.format(stack[-1] ,-1))\n",
    "        stack.pop()\n",
    "    "
   ]
  },
  {
   "cell_type": "code",
   "execution_count": 8,
   "metadata": {},
   "outputs": [
    {
     "name": "stdout",
     "output_type": "stream",
     "text": [
      "2 --> 10\n",
      "3 --> 10\n",
      "5 --> 10\n",
      "6 --> 8\n",
      "1 --> 4\n",
      "4 --> 12\n",
      "8 --> 12\n",
      "10 --> 12\n",
      "4 --> -1\n",
      "7 --> -1\n",
      "12 --> -1\n"
     ]
    }
   ],
   "source": [
    "arr = [5 ,3 ,2 ,10 ,6 ,8 ,1 ,4 ,12 ,7 ,4]\n",
    "nextGreaterElement(arr)"
   ]
  },
  {
   "cell_type": "markdown",
   "metadata": {},
   "source": [
    "## Output is not in the format that we want\n",
    "same Logic... play with indexes instead of elements"
   ]
  },
  {
   "cell_type": "code",
   "execution_count": 12,
   "metadata": {},
   "outputs": [],
   "source": [
    "def nextGreaterElement(arr):\n",
    "    \n",
    "    stack = []\n",
    "    nge = [0 for i in range(len(arr))]\n",
    "    \n",
    "    for i in range(len(arr)-1 ,-1 ,-1):\n",
    "        \n",
    "        while stack and stack[-1] < arr[i]:\n",
    "            stack.pop()\n",
    "            \n",
    "        if not stack:\n",
    "            nge[i] = -1\n",
    "        else:\n",
    "            nge[i] = stack[-1]\n",
    "        \n",
    "        stack.append(arr[i])\n",
    "    \n",
    "    return nge"
   ]
  },
  {
   "cell_type": "code",
   "execution_count": 13,
   "metadata": {},
   "outputs": [
    {
     "name": "stdout",
     "output_type": "stream",
     "text": [
      "10 10 10 12 8 12 4 12 -1 -1 -1\n"
     ]
    }
   ],
   "source": [
    "arr = [5 ,3 ,2 ,10 ,6 ,8 ,1 ,4 ,12 ,7 ,4]\n",
    "print(*nextGreaterElement(arr))"
   ]
  },
  {
   "cell_type": "code",
   "execution_count": 7,
   "metadata": {},
   "outputs": [],
   "source": [
    "def nextGreaterElement(arr):\n",
    "    \n",
    "    stack = []\n",
    "    nge = [-1 for i in range(len(arr))]\n",
    "    \n",
    "    i = 0\n",
    "    while i < len(arr):\n",
    "        while stack and arr[stack[-1]] < arr[i]:\n",
    "            index = stack.pop()\n",
    "            nge[index] = arr[i]\n",
    "\n",
    "        stack.append(i)\n",
    "\n",
    "        i += 1\n",
    "    \n",
    "    return nge"
   ]
  },
  {
   "cell_type": "code",
   "execution_count": 8,
   "metadata": {},
   "outputs": [
    {
     "name": "stdout",
     "output_type": "stream",
     "text": [
      "[10, 10, 10, 12, 8, 12, 4, 12, -1, -1, -1]\n"
     ]
    }
   ],
   "source": [
    "arr = [5 ,3 ,2 ,10 ,6 ,8 ,1 ,4 ,12 ,7 ,4]\n",
    "print(nextGreaterElement(arr))"
   ]
  },
  {
   "cell_type": "code",
   "execution_count": null,
   "metadata": {},
   "outputs": [],
   "source": []
  }
 ],
 "metadata": {
  "kernelspec": {
   "display_name": "Python 3",
   "language": "python",
   "name": "python3"
  },
  "language_info": {
   "codemirror_mode": {
    "name": "ipython",
    "version": 3
   },
   "file_extension": ".py",
   "mimetype": "text/x-python",
   "name": "python",
   "nbconvert_exporter": "python",
   "pygments_lexer": "ipython3",
   "version": "3.8.5"
  }
 },
 "nbformat": 4,
 "nbformat_minor": 2
}
