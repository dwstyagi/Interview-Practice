{
 "cells": [
  {
   "cell_type": "code",
   "execution_count": 9,
   "metadata": {},
   "outputs": [],
   "source": [
    "def pattern(num):\n",
    "    \n",
    "    if num <= 0:\n",
    "        raise ValueError('Enter number greater than zero')\n",
    "        \n",
    "    for row in range(1,num+1):      \n",
    "        \n",
    "        for col in range(num-row,0,-1):\n",
    "            print(' ',end=\"\")\n",
    "        \n",
    "        for col in range(row,0,-1):\n",
    "            print(col,end=\"\")\n",
    "        \n",
    "        for col in range(2,row+1):\n",
    "            print(col,end=\"\")\n",
    "        print()"
   ]
  },
  {
   "cell_type": "code",
   "execution_count": 10,
   "metadata": {},
   "outputs": [
    {
     "name": "stdout",
     "output_type": "stream",
     "text": [
      "       1\n",
      "      212\n",
      "     32123\n",
      "    4321234\n",
      "   543212345\n",
      "  65432123456\n",
      " 7654321234567\n",
      "876543212345678\n"
     ]
    }
   ],
   "source": [
    "pattern(8)"
   ]
  },
  {
   "cell_type": "code",
   "execution_count": 3,
   "metadata": {},
   "outputs": [],
   "source": [
    "def pattern_1(num):\n",
    "    \n",
    "    if num <= 0:\n",
    "        raise ValueError('Enter number greater than zero')\n",
    "    \n",
    "    for i in range(1,num+1):\n",
    "        \n",
    "        for _ in range(1,i):\n",
    "            print(' ',end=\"\")\n",
    "        \n",
    "        for j in range(num-i+1,0,-1):\n",
    "            print(j,end=\"\")\n",
    "        \n",
    "        for j in range(2,num+2-i):\n",
    "            print(j,end=\"\")\n",
    "\n",
    "        print()"
   ]
  },
  {
   "cell_type": "code",
   "execution_count": 4,
   "metadata": {},
   "outputs": [
    {
     "name": "stdout",
     "output_type": "stream",
     "text": [
      "65432123456\n",
      " 543212345\n",
      "  4321234\n",
      "   32123\n",
      "    212\n",
      "     1\n"
     ]
    }
   ],
   "source": [
    "pattern_1(6)"
   ]
  },
  {
   "cell_type": "code",
   "execution_count": 13,
   "metadata": {},
   "outputs": [
    {
     "name": "stdout",
     "output_type": "stream",
     "text": [
      "  ****     ****  \n",
      " ******   ****** \n",
      "******** ********\n",
      "*****************\n",
      " ***************\n",
      "  *************\n",
      "   ***********\n",
      "    *********\n",
      "     *******\n",
      "      *****\n",
      "       ***\n",
      "        *\n"
     ]
    }
   ],
   "source": [
    "for row in range(1,4):\n",
    "    for col in range(1,18):\n",
    "        if (4-row <= col <= 5+row) or (13-row <= col <= 14+row):\n",
    "            print('*',end=\"\")\n",
    "        else:\n",
    "            print(' ',end=\"\")\n",
    "    print()\n",
    "    \n",
    "for i in range(1,10):\n",
    "        \n",
    "        for _ in range(1,i):\n",
    "            print(' ',end=\"\")\n",
    "        \n",
    "        for _ in range(10-i,0,-1):\n",
    "            print('*',end=\"\")\n",
    "        \n",
    "        for _ in range(2,11-i):\n",
    "            print('*',end=\"\")\n",
    "\n",
    "        print()"
   ]
  },
  {
   "cell_type": "code",
   "execution_count": 6,
   "metadata": {},
   "outputs": [
    {
     "name": "stdout",
     "output_type": "stream",
     "text": [
      "*****************\n",
      " ***************\n",
      "  *************\n",
      "   ***********\n",
      "    *********\n",
      "     *******\n",
      "      *****\n",
      "       ***\n",
      "        *\n"
     ]
    }
   ],
   "source": [
    "num=9\n",
    "for i in range(1,num+1):\n",
    "        \n",
    "        for _ in range(1,i):\n",
    "            print(' ',end=\"\")\n",
    "        \n",
    "        for j in range(num-i+1,0,-1):\n",
    "            print('*',end=\"\")\n",
    "        \n",
    "        for j in range(2,num+2-i):\n",
    "            print('*',end=\"\")\n",
    "\n",
    "        print()"
   ]
  },
  {
   "cell_type": "code",
   "execution_count": 1,
   "metadata": {},
   "outputs": [
    {
     "name": "stdout",
     "output_type": "stream",
     "text": [
      "1234\n",
      "123\n",
      "12\n",
      "1\n"
     ]
    }
   ],
   "source": [
    "for i in range(1,5):\n",
    "    for j in range(1,6-i):\n",
    "        print(j,end=\"\")\n",
    "    print()"
   ]
  },
  {
   "cell_type": "code",
   "execution_count": 2,
   "metadata": {},
   "outputs": [
    {
     "name": "stdout",
     "output_type": "stream",
     "text": [
      "4444\n",
      "333\n",
      "22\n",
      "1\n"
     ]
    }
   ],
   "source": [
    "for i in range(1,5):\n",
    "    for j in range(1,6-i):\n",
    "        print(5-i,end=\"\")\n",
    "    print()"
   ]
  },
  {
   "cell_type": "code",
   "execution_count": null,
   "metadata": {},
   "outputs": [],
   "source": []
  }
 ],
 "metadata": {
  "kernelspec": {
   "display_name": "Python 3",
   "language": "python",
   "name": "python3"
  },
  "language_info": {
   "codemirror_mode": {
    "name": "ipython",
    "version": 3
   },
   "file_extension": ".py",
   "mimetype": "text/x-python",
   "name": "python",
   "nbconvert_exporter": "python",
   "pygments_lexer": "ipython3",
   "version": "3.7.3"
  }
 },
 "nbformat": 4,
 "nbformat_minor": 2
}
