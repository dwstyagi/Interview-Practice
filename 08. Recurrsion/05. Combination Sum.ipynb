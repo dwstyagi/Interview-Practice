{
 "cells": [
  {
   "cell_type": "markdown",
   "metadata": {},
   "source": [
    "Given an array of positive integers arr[] and a sum x, find all unique combinations in arr[] where the sum is equal to x. The same repeated number may be chosen from arr[] unlimited number of times. Elements in a combination (a1, a2, …, ak) must be printed in non-descending order. (ie, a1 <= a2 <= … <= ak).<br><br>\n",
    "The combinations themselves must be sorted in ascending order, i.e., the combination with smallest first element should be printed first. If there is no combination possible the print \"Empty\" (without quotes).\n",
    "\n",
    "```\n",
    "Input : arr[] = 2, 4, 6, 8 \n",
    "            x = 8\n",
    "Output : [2, 2, 2, 2]\n",
    "         [2, 2, 4]\n",
    "         [2, 6]\n",
    "         [4, 4]\n",
    "         [8]\n",
    "```"
   ]
  },
  {
   "cell_type": "markdown",
   "metadata": {},
   "source": [
    "Algorithm\n",
    "\n",
    "1. Sort the array(non-decreasing).\n",
    "2. First remove all the duplicates from array.\n",
    "3. Then use recursion and backtracking to solve \n",
    "   the problem.\n",
    "   1. If at any time sub-problem sum is 0 \n",
    "       then add that array to the result (vector of \n",
    "       vectors).\n",
    "   2. Else if sum if negative then ignore that \n",
    "       sub-problem.\n",
    "   3. Else insert the present array in that \n",
    "       index to the current vector and call \n",
    "       the function with sum = sum-ar[index] and\n",
    "       index = index, then pop that element from \n",
    "       current index (backtrack) and call the \n",
    "       function with sum = sum and index = index+1 "
   ]
  },
  {
   "cell_type": "code",
   "execution_count": 1,
   "metadata": {},
   "outputs": [],
   "source": [
    "def combinationsUtil(arr, sum, result, reqArr, index):\n",
    "    if sum < 0:\n",
    "        return\n",
    "    \n",
    "    if sum == 0:\n",
    "        result.append(reqArr)\n",
    "        return\n",
    "    \n",
    "    while index < len(arr) and sum - arr[index] >= 0:\n",
    "        reqArr.append(arr[index])\n",
    "        \n",
    "        combinationsUtil(arr, sum-arr[index], result, reqArr, index)\n",
    "        index += 1\n",
    "        \n",
    "        reqArr.pop()"
   ]
  },
  {
   "cell_type": "code",
   "execution_count": 2,
   "metadata": {},
   "outputs": [],
   "source": [
    "def combinations(arr, sum):\n",
    "    \n",
    "    result = []\n",
    "    reqArr = []\n",
    "    \n",
    "    # 1. Sort the array\n",
    "    arr.sort()\n",
    "    \n",
    "    # 2. remove duplicate in array\n",
    "    for i in range(1, len(arr)):\n",
    "        if arr[i] == arr[i-1]:\n",
    "            arr.pop(i)\n",
    "    \n",
    "    # 3. Use Backtracking\n",
    "    combinationsUtil(arr, sum, result, reqArr, 0)\n",
    "    \n",
    "    return result"
   ]
  },
  {
   "cell_type": "code",
   "execution_count": 3,
   "metadata": {},
   "outputs": [
    {
     "data": {
      "text/plain": [
       "[[], []]"
      ]
     },
     "execution_count": 3,
     "metadata": {},
     "output_type": "execute_result"
    }
   ],
   "source": [
    "arr = [2,4]\n",
    "combinations(arr, 4)"
   ]
  },
  {
   "cell_type": "code",
   "execution_count": null,
   "metadata": {},
   "outputs": [],
   "source": [
    "def combinationsUtil(arr, result, reqArr, index, sum):\n",
    "    if sum < 0:\n",
    "        return \n",
    "    \n",
    "    if sum == 0:\n",
    "        result.append(reqArr)\n",
    "        return\n",
    "    \n",
    "    while index < len(arr) and sum - arr[index] >= 0:\n",
    "        \n",
    "        # Till every element in the array starting \n",
    "        # from i which can contribute to the sum \n",
    "        reqArr.append(arr[index])\n",
    "        \n",
    "        # Find the next number\n",
    "        combinationsUtil(arr, result, reqArr, index, sum - arr[index])\n",
    "        index += 1\n",
    "        \n",
    "        # Backtrack if we exceed sum\n",
    "        reqArr.pop()"
   ]
  },
  {
   "cell_type": "code",
   "execution_count": null,
   "metadata": {},
   "outputs": [],
   "source": [
    "def combinations(arr, sum):\n",
    "    \n",
    "    result = []\n",
    "    reqArr = []\n",
    "    \n",
    "    # 1. Sort the array\n",
    "    arr.sort()\n",
    "    \n",
    "    # 2. remove duplicate in array\n",
    "    for i in range(1, len(arr)):\n",
    "        if arr[i] == arr[i-1]:\n",
    "            arr.pop(i)\n",
    "    \n",
    "    # 3. Use Backtracking\n",
    "    combinationsUtil(arr, result, reqArr, 0, sum)\n",
    "    \n",
    "    return result"
   ]
  },
  {
   "cell_type": "code",
   "execution_count": null,
   "metadata": {},
   "outputs": [],
   "source": [
    "arr = [2,4,6,8]\n",
    "result = combinations(arr, 4)\n",
    "result"
   ]
  },
  {
   "cell_type": "code",
   "execution_count": null,
   "metadata": {},
   "outputs": [],
   "source": [
    "for i in range(1, len(arr)):\n",
    "    if arr[i] == arr[i-1]:\n",
    "        arr.pop(i-1)\n",
    "arr"
   ]
  },
  {
   "cell_type": "code",
   "execution_count": null,
   "metadata": {},
   "outputs": [],
   "source": [
    "a = 2\n",
    "a += 1\n",
    "a"
   ]
  },
  {
   "cell_type": "code",
   "execution_count": null,
   "metadata": {},
   "outputs": [],
   "source": []
  }
 ],
 "metadata": {
  "kernelspec": {
   "display_name": "Python 3",
   "language": "python",
   "name": "python3"
  },
  "language_info": {
   "codemirror_mode": {
    "name": "ipython",
    "version": 3
   },
   "file_extension": ".py",
   "mimetype": "text/x-python",
   "name": "python",
   "nbconvert_exporter": "python",
   "pygments_lexer": "ipython3",
   "version": "3.8.5"
  }
 },
 "nbformat": 4,
 "nbformat_minor": 2
}
