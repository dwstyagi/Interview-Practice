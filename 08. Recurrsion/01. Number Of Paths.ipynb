{
 "cells": [
  {
   "cell_type": "code",
   "execution_count": 1,
   "metadata": {},
   "outputs": [],
   "source": [
    "def countPaths(m ,n):\n",
    "    \n",
    "    if m == 0 and n == 0:\n",
    "        return 0\n",
    "    \n",
    "    if m == 0 or n == 0:\n",
    "        return 1\n",
    "    \n",
    "    return (countPaths(m-1 ,n) + countPaths(m ,n-1))"
   ]
  },
  {
   "cell_type": "code",
   "execution_count": 2,
   "metadata": {},
   "outputs": [
    {
     "data": {
      "text/plain": [
       "6"
      ]
     },
     "execution_count": 2,
     "metadata": {},
     "output_type": "execute_result"
    }
   ],
   "source": [
    "countPaths(2,2)"
   ]
  },
  {
   "cell_type": "markdown",
   "metadata": {},
   "source": [
    "# Dynamic Programming Approach"
   ]
  },
  {
   "cell_type": "code",
   "execution_count": 3,
   "metadata": {},
   "outputs": [],
   "source": [
    "def countPaths(m ,n):\n",
    "    \n",
    "    table = [[0 for i in range(n)] for j in range(m)]\n",
    "    \n",
    "    table[0][0] = 0\n",
    "    \n",
    "    for i in range(1,m):\n",
    "        table[i][0] = 1\n",
    "    \n",
    "    for i in range(1,n):\n",
    "        table[0][i] = 1 \n",
    "    \n",
    "    for i in range(1,m):\n",
    "        for j in range(1,n):\n",
    "            table[i][j] = table[i-1][j] + table[i][j-1]\n",
    "    \n",
    "    return table\n",
    "    #return table[m-1][n-1]"
   ]
  },
  {
   "cell_type": "code",
   "execution_count": 4,
   "metadata": {},
   "outputs": [
    {
     "name": "stdout",
     "output_type": "stream",
     "text": [
      "[0, 1, 1, 1]\n",
      "[1, 2, 3, 4]\n",
      "[1, 3, 6, 10]\n",
      "[1, 4, 10, 20]\n"
     ]
    }
   ],
   "source": [
    "table = countPaths(3,3)\n",
    "for i in countPaths(4,4):\n",
    "    print(i)"
   ]
  },
  {
   "cell_type": "code",
   "execution_count": 5,
   "metadata": {},
   "outputs": [
    {
     "data": {
      "text/plain": [
       "[[0, 1, 1], [1, 2, 3], [1, 3, 6]]"
      ]
     },
     "execution_count": 5,
     "metadata": {},
     "output_type": "execute_result"
    }
   ],
   "source": [
    "countPaths(3,3)"
   ]
  },
  {
   "cell_type": "code",
   "execution_count": null,
   "metadata": {},
   "outputs": [],
   "source": []
  }
 ],
 "metadata": {
  "kernelspec": {
   "display_name": "Python 3",
   "language": "python",
   "name": "python3"
  },
  "language_info": {
   "codemirror_mode": {
    "name": "ipython",
    "version": 3
   },
   "file_extension": ".py",
   "mimetype": "text/x-python",
   "name": "python",
   "nbconvert_exporter": "python",
   "pygments_lexer": "ipython3",
   "version": "3.8.5"
  }
 },
 "nbformat": 4,
 "nbformat_minor": 2
}
