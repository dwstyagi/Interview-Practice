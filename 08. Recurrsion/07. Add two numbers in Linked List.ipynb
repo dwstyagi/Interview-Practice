{
 "metadata": {
  "language_info": {
   "codemirror_mode": {
    "name": "ipython",
    "version": 3
   },
   "file_extension": ".py",
   "mimetype": "text/x-python",
   "name": "python",
   "nbconvert_exporter": "python",
   "pygments_lexer": "ipython3",
   "version": "3.9.5"
  },
  "orig_nbformat": 4,
  "kernelspec": {
   "name": "python3",
   "display_name": "Python 3.9.5 64-bit"
  },
  "interpreter": {
   "hash": "63fd5069d213b44bf678585dea6b12cceca9941eaf7f819626cde1f2670de90d"
  }
 },
 "nbformat": 4,
 "nbformat_minor": 2,
 "cells": [
  {
   "cell_type": "code",
   "execution_count": 75,
   "metadata": {},
   "outputs": [],
   "source": [
    "class Node:\n",
    "    def __init__(self,data):\n",
    "        self.data = data\n",
    "        self.next = None"
   ]
  },
  {
   "cell_type": "code",
   "execution_count": 76,
   "metadata": {},
   "outputs": [],
   "source": [
    "def insert(head ,node):\n",
    "    if head == None:\n",
    "        head = node\n",
    "        return head\n",
    "    temp = head\n",
    "    while temp.next:\n",
    "        temp = temp.next\n",
    "    temp.next = node\n",
    "    return head"
   ]
  },
  {
   "cell_type": "code",
   "execution_count": 66,
   "metadata": {},
   "outputs": [],
   "source": [
    "def calcDifference(head1,head2):\n",
    "    totalNodesInList1 = count(head1)\n",
    "    totalNodesInList2 = count(head2)\n",
    " \n",
    "    if totalNodesInList1 < totalNodesInList2:\n",
    "        biggerList = head2\n",
    "    else:\n",
    "        biggerList = head1\n",
    "    \n",
    "    return [abs(totalNodesInList1-totalNodesInList2), biggerList]"
   ]
  },
  {
   "cell_type": "code",
   "execution_count": 67,
   "metadata": {},
   "outputs": [],
   "source": [
    "def count(head):\n",
    "    temp = head\n",
    "    count = 0\n",
    "\n",
    "    while temp:\n",
    "        count += 1\n",
    "        temp = temp.next\n",
    "    \n",
    "    return count"
   ]
  },
  {
   "cell_type": "code",
   "execution_count": 68,
   "metadata": {},
   "outputs": [],
   "source": [
    "def movePointer(head, diff):\n",
    "    while diff:\n",
    "        head = head.next\n",
    "        diff -= 1\n",
    "    \n",
    "    return head"
   ]
  },
  {
   "cell_type": "code",
   "execution_count": 69,
   "metadata": {},
   "outputs": [],
   "source": [
    "def extraList(biggerHead, tempBiggerHead, carry):\n",
    "    if (biggerHead == tempBiggerHead):\n",
    "        return None\n",
    "    \n",
    "    nextNode = extraList(biggerHead.next, tempBiggerHead, carry)\n",
    "\n",
    "    total = biggerHead.data + carry[0]\n",
    "    data = total % 10\n",
    "    carry[0] = total // 10\n",
    "\n",
    "    currentNode = Node(data)\n",
    "    currentNode.next = nextNode\n",
    "\n",
    "    return currentNode"
   ]
  },
  {
   "cell_type": "code",
   "execution_count": 59,
   "metadata": {},
   "outputs": [],
   "source": [
    "def addTwoNumbers(head1,head2):\n",
    "    carry = [0]\n",
    "\n",
    "    diff = calcDifference(head1, head2)[0]\n",
    "    biggerhead = calcDifference(head1, head2)[1]\n",
    "    print(\"biggerHead\",biggerhead.data)\n",
    "    smallerHead = head1 if biggerhead == head2 else head2\n",
    "    print(smallerHead.data)\n",
    "\n",
    "    tempBiggerhead = movePointer(biggerhead, diff)\n",
    "    print(tempBiggerhead.data)\n",
    "    result = addTwoNumbersUtil(tempBiggerhead, smallerHead, carry)\n",
    "\n",
    "    node = extraList(biggerhead, tempBiggerhead, carry)\n",
    "    head = node \n",
    "\n",
    "    while diff and node.next:\n",
    "        node = node.next\n",
    "    \n",
    "    node.next = result\n",
    "\n",
    "    if (carry[0]):\n",
    "        node = Node(carry[0])\n",
    "        node.next = head\n",
    "        head = node\n",
    "\n",
    "    return head\n"
   ]
  },
  {
   "cell_type": "code",
   "execution_count": 60,
   "metadata": {},
   "outputs": [],
   "source": [
    "def addTwoNumbersUtil(head1, head2, carry):\n",
    "\n",
    "    if (head1.next is None and head2.next is None):\n",
    "        total = head1.data + head2.data\n",
    "        data = total % 10\n",
    "        carry[0] = total // 10\n",
    "        return Node(data)\n",
    "    \n",
    "    nextNode = addTwoNumbersUtil(head1.next, head2.next, carry)\n",
    "\n",
    "    total = head1.data + head2.data + carry[0]\n",
    "    data = total % 10\n",
    "    carry[0] = total // 10\n",
    "    \n",
    "    currentNode = Node(data)\n",
    "    currentNode.next = nextNode \n",
    "\n",
    "    return currentNode"
   ]
  },
  {
   "cell_type": "code",
   "execution_count": 61,
   "metadata": {},
   "outputs": [],
   "source": [
    "def printList(head):\n",
    "    if head == None:\n",
    "        return None\n",
    "    else:\n",
    "        temp = head\n",
    "        while temp.next:\n",
    "            print(temp.data,end=\" -> \")\n",
    "            temp = temp.next\n",
    "        print(temp.data)"
   ]
  },
  {
   "cell_type": "code",
   "execution_count": 62,
   "metadata": {},
   "outputs": [],
   "source": [
    "L1 = None \n",
    "for i in [2,4,3]:\n",
    "    L1 = insert(L1 ,Node(i))\n",
    "\n",
    "L2 = None \n",
    "for i in [5,6,4]:\n",
    "    L2 = insert(L2 ,Node(i))"
   ]
  },
  {
   "cell_type": "code",
   "execution_count": 63,
   "metadata": {},
   "outputs": [
    {
     "output_type": "stream",
     "name": "stdout",
     "text": [
      "biggerHead 2\n"
     ]
    },
    {
     "output_type": "error",
     "ename": "NameError",
     "evalue": "name 'smallerhead' is not defined",
     "traceback": [
      "\u001b[1;31m---------------------------------------------------------------------------\u001b[0m",
      "\u001b[1;31mNameError\u001b[0m                                 Traceback (most recent call last)",
      "\u001b[1;32m<ipython-input-63-12ec26dd8340>\u001b[0m in \u001b[0;36m<module>\u001b[1;34m\u001b[0m\n\u001b[1;32m----> 1\u001b[1;33m \u001b[0mnode\u001b[0m \u001b[1;33m=\u001b[0m \u001b[0maddTwoNumbers\u001b[0m\u001b[1;33m(\u001b[0m\u001b[0mL1\u001b[0m\u001b[1;33m,\u001b[0m \u001b[0mL2\u001b[0m\u001b[1;33m)\u001b[0m\u001b[1;33m\u001b[0m\u001b[1;33m\u001b[0m\u001b[0m\n\u001b[0m",
      "\u001b[1;32m<ipython-input-59-672941260054>\u001b[0m in \u001b[0;36maddTwoNumbers\u001b[1;34m(head1, head2)\u001b[0m\n\u001b[0;32m      6\u001b[0m     \u001b[0mprint\u001b[0m\u001b[1;33m(\u001b[0m\u001b[1;34m\"biggerHead\"\u001b[0m\u001b[1;33m,\u001b[0m\u001b[0mbiggerhead\u001b[0m\u001b[1;33m.\u001b[0m\u001b[0mdata\u001b[0m\u001b[1;33m)\u001b[0m\u001b[1;33m\u001b[0m\u001b[1;33m\u001b[0m\u001b[0m\n\u001b[0;32m      7\u001b[0m     \u001b[0msmallerHead\u001b[0m \u001b[1;33m=\u001b[0m \u001b[0mhead1\u001b[0m \u001b[1;32mif\u001b[0m \u001b[0mbiggerhead\u001b[0m \u001b[1;33m==\u001b[0m \u001b[0mhead2\u001b[0m \u001b[1;32melse\u001b[0m \u001b[0mhead2\u001b[0m\u001b[1;33m\u001b[0m\u001b[1;33m\u001b[0m\u001b[0m\n\u001b[1;32m----> 8\u001b[1;33m     \u001b[0mprint\u001b[0m\u001b[1;33m(\u001b[0m\u001b[0msmallerhead\u001b[0m\u001b[1;33m.\u001b[0m\u001b[0mdata\u001b[0m\u001b[1;33m)\u001b[0m\u001b[1;33m\u001b[0m\u001b[1;33m\u001b[0m\u001b[0m\n\u001b[0m\u001b[0;32m      9\u001b[0m \u001b[1;33m\u001b[0m\u001b[0m\n\u001b[0;32m     10\u001b[0m     \u001b[0mtempBiggerhead\u001b[0m \u001b[1;33m=\u001b[0m \u001b[0mmovePointer\u001b[0m\u001b[1;33m(\u001b[0m\u001b[0mbiggerhead\u001b[0m\u001b[1;33m,\u001b[0m \u001b[0mdiff\u001b[0m\u001b[1;33m)\u001b[0m\u001b[1;33m\u001b[0m\u001b[1;33m\u001b[0m\u001b[0m\n",
      "\u001b[1;31mNameError\u001b[0m: name 'smallerhead' is not defined"
     ]
    }
   ],
   "source": [
    "node = addTwoNumbers(L1, L2)"
   ]
  },
  {
   "cell_type": "code",
   "execution_count": 30,
   "metadata": {},
   "outputs": [
    {
     "output_type": "stream",
     "name": "stdout",
     "text": [
      "3 -> 0 -> 0 -> 1\n"
     ]
    }
   ],
   "source": [
    "printList(node)"
   ]
  },
  {
   "cell_type": "code",
   "execution_count": null,
   "metadata": {},
   "outputs": [],
   "source": []
  }
 ]
}