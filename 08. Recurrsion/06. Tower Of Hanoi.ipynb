{
 "cells": [
  {
   "cell_type": "code",
   "execution_count": 1,
   "metadata": {},
   "outputs": [],
   "source": [
    "def TowerOfHanoi(n, a, b, c):\n",
    "    if n > 0:\n",
    "        TowerOfHanoi(n-1, a, c, b)\n",
    "        print(\"Move Disk {} from {} to {}\".format(n,a,c))\n",
    "        TowerOfHanoi(n-1, b, a, c)"
   ]
  },
  {
   "cell_type": "code",
   "execution_count": 2,
   "metadata": {},
   "outputs": [
    {
     "name": "stdout",
     "output_type": "stream",
     "text": [
      "Move Disk 1 from A to C\n"
     ]
    }
   ],
   "source": [
    "n = 1\n",
    "TowerOfHanoi(n, 'A', 'B', 'C')"
   ]
  },
  {
   "cell_type": "code",
   "execution_count": 3,
   "metadata": {},
   "outputs": [
    {
     "name": "stdout",
     "output_type": "stream",
     "text": [
      "Move Disk 1 from A to B\n",
      "Move Disk 2 from A to C\n",
      "Move Disk 1 from B to C\n"
     ]
    }
   ],
   "source": [
    "n = 2\n",
    "TowerOfHanoi(n, 'A', 'B', 'C')"
   ]
  },
  {
   "cell_type": "code",
   "execution_count": 4,
   "metadata": {},
   "outputs": [
    {
     "name": "stdout",
     "output_type": "stream",
     "text": [
      "Move Disk 1 from A to C\n",
      "Move Disk 2 from A to B\n",
      "Move Disk 1 from C to B\n",
      "Move Disk 3 from A to C\n",
      "Move Disk 1 from B to A\n",
      "Move Disk 2 from B to C\n",
      "Move Disk 1 from A to C\n"
     ]
    }
   ],
   "source": [
    "n = 3\n",
    "TowerOfHanoi(n, 'A', 'B', 'C')"
   ]
  },
  {
   "cell_type": "code",
   "execution_count": 5,
   "metadata": {},
   "outputs": [
    {
     "name": "stdout",
     "output_type": "stream",
     "text": [
      "Move Disk 1 from A to B\n",
      "Move Disk 2 from A to C\n",
      "Move Disk 1 from B to C\n",
      "Move Disk 3 from A to B\n",
      "Move Disk 1 from C to A\n",
      "Move Disk 2 from C to B\n",
      "Move Disk 1 from A to B\n",
      "Move Disk 4 from A to C\n",
      "Move Disk 1 from B to C\n",
      "Move Disk 2 from B to A\n",
      "Move Disk 1 from C to A\n",
      "Move Disk 3 from B to C\n",
      "Move Disk 1 from A to B\n",
      "Move Disk 2 from A to C\n",
      "Move Disk 1 from B to C\n"
     ]
    }
   ],
   "source": [
    "n = 4\n",
    "TowerOfHanoi(n, 'A', 'B', 'C')"
   ]
  },
  {
   "cell_type": "code",
   "execution_count": 6,
   "metadata": {},
   "outputs": [
    {
     "name": "stdout",
     "output_type": "stream",
     "text": [
      "Move Disk 1 from A to C\n",
      "Move Disk 2 from A to B\n",
      "Move Disk 1 from C to B\n",
      "Move Disk 3 from A to C\n",
      "Move Disk 1 from B to A\n",
      "Move Disk 2 from B to C\n",
      "Move Disk 1 from A to C\n",
      "Move Disk 4 from A to B\n",
      "Move Disk 1 from C to B\n",
      "Move Disk 2 from C to A\n",
      "Move Disk 1 from B to A\n",
      "Move Disk 3 from C to B\n",
      "Move Disk 1 from A to C\n",
      "Move Disk 2 from A to B\n",
      "Move Disk 1 from C to B\n",
      "Move Disk 5 from A to C\n",
      "Move Disk 1 from B to A\n",
      "Move Disk 2 from B to C\n",
      "Move Disk 1 from A to C\n",
      "Move Disk 3 from B to A\n",
      "Move Disk 1 from C to B\n",
      "Move Disk 2 from C to A\n",
      "Move Disk 1 from B to A\n",
      "Move Disk 4 from B to C\n",
      "Move Disk 1 from A to C\n",
      "Move Disk 2 from A to B\n",
      "Move Disk 1 from C to B\n",
      "Move Disk 3 from A to C\n",
      "Move Disk 1 from B to A\n",
      "Move Disk 2 from B to C\n",
      "Move Disk 1 from A to C\n"
     ]
    }
   ],
   "source": [
    "n = 5\n",
    "TowerOfHanoi(n, 'A', 'B', 'C')"
   ]
  },
  {
   "cell_type": "code",
   "execution_count": null,
   "metadata": {},
   "outputs": [],
   "source": []
  }
 ],
 "metadata": {
  "kernelspec": {
   "display_name": "Python 3",
   "language": "python",
   "name": "python3"
  },
  "language_info": {
   "codemirror_mode": {
    "name": "ipython",
    "version": 3
   },
   "file_extension": ".py",
   "mimetype": "text/x-python",
   "name": "python",
   "nbconvert_exporter": "python",
   "pygments_lexer": "ipython3",
   "version": "3.8.5"
  }
 },
 "nbformat": 4,
 "nbformat_minor": 2
}
