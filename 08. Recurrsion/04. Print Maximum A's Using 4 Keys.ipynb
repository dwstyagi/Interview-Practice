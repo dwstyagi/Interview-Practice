{
 "cells": [
  {
   "cell_type": "markdown",
   "metadata": {},
   "source": [
    "```\n",
    "Imagine you have a special keyboard with the following keys: \n",
    "Key 1:  Prints 'A' on screen\n",
    "Key 2: (Ctrl-A): Select screen\n",
    "Key 3: (Ctrl-C): Copy selection to buffer\n",
    "Key 4: (Ctrl-V): Print buffer on screen appending it\n",
    "                 after what has already been printed. \n",
    "\n",
    "If you can only press the keyboard for N times (with the above four\n",
    "keys), write a program to produce maximum numbers of A's. That is to\n",
    "say, the input parameter is N (No. of keys that you can press), the \n",
    "output is M (No. of As that you can produce).\n",
    "\n",
    "Examples:\n",
    "\n",
    "Input:  N = 3\n",
    "Output: 3\n",
    "We can at most get 3 A's on screen by pressing \n",
    "following key sequence.\n",
    "A, A, A\n",
    "\n",
    "Input:  N = 7\n",
    "Output: 9\n",
    "We can at most get 9 A's on screen by pressing \n",
    "following key sequence.\n",
    "A, A, A, Ctrl A, Ctrl C, Ctrl V, Ctrl V\n",
    "\n",
    "Input:  N = 11\n",
    "Output: 27\n",
    "We can at most get 27 A's on screen by pressing \n",
    "following key sequence.\n",
    "A, A, A, Ctrl A, Ctrl C, Ctrl V, Ctrl V, Ctrl A, \n",
    "Ctrl C, Ctrl V, Ctrl V\n",
    "```"
   ]
  },
  {
   "cell_type": "code",
   "execution_count": 3,
   "metadata": {},
   "outputs": [],
   "source": [
    "def printAs(n):\n",
    "    \n",
    "    max_ = 0\n",
    "    \n",
    "    if n > 0 and n <= 6:\n",
    "        return n\n",
    "    \n",
    "    for i in range(2, n-1):\n",
    "        value = i * printAs(n - (i+1))\n",
    "        max_ = max(max_, value)\n",
    "    \n",
    "    return max_\n",
    "        "
   ]
  },
  {
   "cell_type": "code",
   "execution_count": 4,
   "metadata": {},
   "outputs": [
    {
     "data": {
      "text/plain": [
       "81"
      ]
     },
     "execution_count": 4,
     "metadata": {},
     "output_type": "execute_result"
    }
   ],
   "source": [
    "printAs(15)"
   ]
  },
  {
   "cell_type": "code",
   "execution_count": 5,
   "metadata": {},
   "outputs": [
    {
     "data": {
      "text/plain": [
       "15"
      ]
     },
     "execution_count": 5,
     "metadata": {},
     "output_type": "execute_result"
    }
   ],
   "source": [
    "# Maximum A's \n",
    "arr = [1, 2, 3, 4, 5, 6, 9, 12, 16, 20, 27, 36, 48, 64, 81]\n",
    "len(arr)"
   ]
  },
  {
   "cell_type": "code",
   "execution_count": 5,
   "metadata": {},
   "outputs": [],
   "source": [
    "def printMaximumAs(n):\n",
    "    \n",
    "    table = []\n",
    "    \n",
    "    if n > 75:\n",
    "        return -1\n",
    "    \n",
    "    for i in range(1,min((n+1) ,7)):\n",
    "        table.append(i)\n",
    "    \n",
    "    m = 6\n",
    "    while m != n:\n",
    "        m += 1\n",
    "        mul = m - 2\n",
    "        maxx = m \n",
    "        \n",
    "        for i in range(0, m - 2) :\n",
    "            val = mul * table[i]\n",
    "            mul -= 1\n",
    "            maxx = max(maxx,val)\n",
    "        \n",
    "        table.append(maxx)\n",
    "        \n",
    "    return table[:]"
   ]
  },
  {
   "cell_type": "code",
   "execution_count": 6,
   "metadata": {},
   "outputs": [
    {
     "data": {
      "text/plain": [
       "[1, 2, 3, 4, 5, 6, 9, 12, 16, 20, 27]"
      ]
     },
     "execution_count": 6,
     "metadata": {},
     "output_type": "execute_result"
    }
   ],
   "source": [
    "printMaximumAs(7+4)"
   ]
  },
  {
   "cell_type": "code",
   "execution_count": 15,
   "metadata": {},
   "outputs": [],
   "source": [
    "def printMaximumAs(n):\n",
    "    \n",
    "    table = []\n",
    "    \n",
    "    if n > 75:\n",
    "        return -1\n",
    "    \n",
    "    for i in range(1,min((n+1) ,4)):\n",
    "        table.append(i)\n",
    "    \n",
    "    m = 4\n",
    "    while m <= n:\n",
    "        maxx = m\n",
    "        mul = 2\n",
    "        \n",
    "        for i in range(m-3, 0, -1):\n",
    "            val = mul * table[i-1]\n",
    "            mul += 1\n",
    "            maxx = max(maxx, val)\n",
    "        \n",
    "        table.append(maxx)\n",
    "        m += 1\n",
    "    \n",
    "    return table"
   ]
  },
  {
   "cell_type": "code",
   "execution_count": 17,
   "metadata": {},
   "outputs": [
    {
     "data": {
      "text/plain": [
       "[1, 2, 3, 4, 5, 6, 9, 12, 16, 20, 27]"
      ]
     },
     "execution_count": 17,
     "metadata": {},
     "output_type": "execute_result"
    }
   ],
   "source": [
    "printMaximumAs(11)"
   ]
  },
  {
   "cell_type": "markdown",
   "metadata": {},
   "source": [
    "# Dynamic Programming"
   ]
  },
  {
   "cell_type": "code",
   "execution_count": 7,
   "metadata": {},
   "outputs": [],
   "source": [
    "def printAs(n):\n",
    "    \n",
    "    table = [0 for i in range(n)]\n",
    "    \n",
    "    if n > 75:\n",
    "        return -1\n",
    "\n",
    "    for i in range(1,min((n+1) ,7)):\n",
    "        table[i-1] = i\n",
    "    \n",
    "    for i in range(7 ,n+1):\n",
    "        table[i-1] = max(2 * table[i-4],\n",
    "                     max(3 * table[i-5],4 * table[i-6]))\n",
    "                     \n",
    "    return table[:]"
   ]
  },
  {
   "cell_type": "code",
   "execution_count": 8,
   "metadata": {},
   "outputs": [
    {
     "name": "stdout",
     "output_type": "stream",
     "text": [
      "1 2 3 4 5 6 9 12 16 20 27 36 48 64 81 "
     ]
    }
   ],
   "source": [
    "for i in printAs(15):\n",
    "    print(i,end=\" \")"
   ]
  },
  {
   "cell_type": "code",
   "execution_count": 9,
   "metadata": {},
   "outputs": [
    {
     "name": "stdout",
     "output_type": "stream",
     "text": [
      "1 2 3 4 5 6 9 12 16 20 27 36 48 64 81 "
     ]
    }
   ],
   "source": [
    "arr = [1, 2, 3, 4, 5, 6, 9, 12, 16, 20, 27, 36, 48, 64, 81]\n",
    "for i in arr:\n",
    "    print(i,end=\" \")"
   ]
  },
  {
   "cell_type": "code",
   "execution_count": null,
   "metadata": {},
   "outputs": [],
   "source": []
  }
 ],
 "metadata": {
  "kernelspec": {
   "display_name": "Python 3",
   "language": "python",
   "name": "python3"
  },
  "language_info": {
   "codemirror_mode": {
    "name": "ipython",
    "version": 3
   },
   "file_extension": ".py",
   "mimetype": "text/x-python",
   "name": "python",
   "nbconvert_exporter": "python",
   "pygments_lexer": "ipython3",
   "version": "3.8.5"
  }
 },
 "nbformat": 4,
 "nbformat_minor": 2
}
