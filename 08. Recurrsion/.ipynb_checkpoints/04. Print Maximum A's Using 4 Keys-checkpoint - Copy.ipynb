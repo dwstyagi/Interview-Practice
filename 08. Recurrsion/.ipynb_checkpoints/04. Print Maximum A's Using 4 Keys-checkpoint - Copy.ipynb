{
 "cells": [
  {
   "cell_type": "code",
   "execution_count": 2,
   "metadata": {},
   "outputs": [],
   "source": [
    "def printAs(n):\n",
    "    \n",
    "    table = []\n",
    "    \n",
    "    if n <= 6 and n > 0 :\n",
    "        return n\n",
    "    \n",
    "    for i in range(2, n-1):\n",
    "        value = i * printAs(n - (i+1))\n",
    "        table.append(value)\n",
    "    \n",
    "    return max(table)\n",
    "        "
   ]
  },
  {
   "cell_type": "code",
   "execution_count": 3,
   "metadata": {},
   "outputs": [
    {
     "data": {
      "text/plain": [
       "81"
      ]
     },
     "execution_count": 3,
     "metadata": {},
     "output_type": "execute_result"
    }
   ],
   "source": [
    "printAs(15)"
   ]
  },
  {
   "cell_type": "code",
   "execution_count": 4,
   "metadata": {},
   "outputs": [
    {
     "data": {
      "text/plain": [
       "15"
      ]
     },
     "execution_count": 4,
     "metadata": {},
     "output_type": "execute_result"
    }
   ],
   "source": [
    "# Maximum A's \n",
    "arr = [1, 2, 3, 4, 5, 6, 9, 12, 16, 20, 27, 36, 48, 64, 81]\n",
    "len(arr)"
   ]
  },
  {
   "cell_type": "code",
   "execution_count": 5,
   "metadata": {},
   "outputs": [],
   "source": [
    "def printMaximumAs(n):\n",
    "    \n",
    "    table = []\n",
    "    \n",
    "    if n > 75:\n",
    "        return -1\n",
    "    \n",
    "    for i in range(1,min((n+1) ,7)):\n",
    "        table.append(i)\n",
    "    \n",
    "    m = 6\n",
    "    while m != n:\n",
    "        m += 1\n",
    "        mul = m - 2\n",
    "        maxx = 0\n",
    "        \n",
    "        for i in range(0, m - 2) :\n",
    "            val = mul * table[i]\n",
    "            mul -= 1\n",
    "            maxx = max(maxx,val)\n",
    "        \n",
    "        table.append(maxx)\n",
    "        \n",
    "    return table[:]"
   ]
  },
  {
   "cell_type": "code",
   "execution_count": 6,
   "metadata": {},
   "outputs": [
    {
     "data": {
      "text/plain": [
       "[1, 2, 3, 4, 5, 6, 9, 12, 16, 20, 27]"
      ]
     },
     "execution_count": 6,
     "metadata": {},
     "output_type": "execute_result"
    }
   ],
   "source": [
    "printMaximumAs(7+4)"
   ]
  },
  {
   "cell_type": "markdown",
   "metadata": {},
   "source": [
    "# Dynamic Programming"
   ]
  },
  {
   "cell_type": "code",
   "execution_count": 7,
   "metadata": {},
   "outputs": [],
   "source": [
    "def printAs(n):\n",
    "    \n",
    "    table = [0 for i in range(n)]\n",
    "    \n",
    "    if n > 75:\n",
    "        return -1\n",
    "\n",
    "    for i in range(1,min((n+1) ,7)):\n",
    "        table[i-1] = i\n",
    "    \n",
    "    for i in range(7 ,n+1):\n",
    "        table[i-1] = max(2 * table[i-4],\n",
    "                     max(3 * table[i-5],4 * table[i-6]))\n",
    "                     \n",
    "    return table[:]"
   ]
  },
  {
   "cell_type": "code",
   "execution_count": 8,
   "metadata": {},
   "outputs": [
    {
     "name": "stdout",
     "output_type": "stream",
     "text": [
      "1 2 3 4 5 6 9 12 16 20 27 36 48 64 81 "
     ]
    }
   ],
   "source": [
    "for i in printAs(15):\n",
    "    print(i,end=\" \")"
   ]
  },
  {
   "cell_type": "code",
   "execution_count": 9,
   "metadata": {},
   "outputs": [
    {
     "name": "stdout",
     "output_type": "stream",
     "text": [
      "1 2 3 4 5 6 9 12 16 20 27 36 48 64 81 "
     ]
    }
   ],
   "source": [
    "arr = [1, 2, 3, 4, 5, 6, 9, 12, 16, 20, 27, 36, 48, 64, 81]\n",
    "for i in arr:\n",
    "    print(i,end=\" \")"
   ]
  },
  {
   "cell_type": "code",
   "execution_count": null,
   "metadata": {},
   "outputs": [],
   "source": []
  }
 ],
 "metadata": {
  "kernelspec": {
   "display_name": "Python 3",
   "language": "python",
   "name": "python3"
  },
  "language_info": {
   "codemirror_mode": {
    "name": "ipython",
    "version": 3
   },
   "file_extension": ".py",
   "mimetype": "text/x-python",
   "name": "python",
   "nbconvert_exporter": "python",
   "pygments_lexer": "ipython3",
   "version": "3.7.3"
  }
 },
 "nbformat": 4,
 "nbformat_minor": 2
}
