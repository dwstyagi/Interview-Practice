{
 "cells": [
  {
   "cell_type": "markdown",
   "metadata": {},
   "source": [
    "In MS-Paint, when we take the brush to a pixel and click, the color of the region of that pixel is replaced with a new selected color. Following is the problem statement to do this task.<br>\n",
    "Given a 2D screen, location of a pixel in the screen and a color, replace color of the given pixel and all adjacent same colored pixels with the given color.\n",
    "\n",
    "```\n",
    "Input:\n",
    "       screen[M][N] = {{1, 1, 1, 1, 1, 1, 1, 1},\n",
    "                      {1, 1, 1, 1, 1, 1, 0, 0},\n",
    "                      {1, 0, 0, 1, 1, 0, 1, 1},\n",
    "                      {1, 2, 2, 2, 2, 0, 1, 0},\n",
    "                      {1, 1, 1, 2, 2, 0, 1, 0},\n",
    "                      {1, 1, 1, 2, 2, 2, 2, 0},\n",
    "                      {1, 1, 1, 1, 1, 2, 1, 1},\n",
    "                      {1, 1, 1, 1, 1, 2, 2, 1},\n",
    "                      };\n",
    "    x = 4, y = 4, newColor = 3\n",
    "The values in the given 2D screen indicate colors of the pixels.\n",
    "x and y are coordinates of the brush, newColor is the color that\n",
    "should replace the previous color on screen[x][y] and all surrounding\n",
    "pixels with same color.\n",
    "\n",
    "Output:\n",
    "Screen should be changed to following.\n",
    "       screen[M][N] = {{1, 1, 1, 1, 1, 1, 1, 1},\n",
    "                      {1, 1, 1, 1, 1, 1, 0, 0},\n",
    "                      {1, 0, 0, 1, 1, 0, 1, 1},\n",
    "                      {1, 3, 3, 3, 3, 0, 1, 0},\n",
    "                      {1, 1, 1, 3, 3, 0, 1, 0},\n",
    "                      {1, 1, 1, 3, 3, 3, 3, 0},\n",
    "                      {1, 1, 1, 1, 1, 3, 1, 1},\n",
    "                      {1, 1, 1, 1, 1, 3, 3, 1},\n",
    "                      };\n",
    "```"
   ]
  },
  {
   "cell_type": "code",
   "execution_count": 1,
   "metadata": {},
   "outputs": [],
   "source": [
    "def floodFillUtil(mat, x, y, prevColor, newColor):\n",
    "    \n",
    "    if (x < 0 or x >= len(mat) or \n",
    "        y < 0 or y >= len(mat[x]) or \n",
    "        mat[x][y] != prevColor or\n",
    "        mat[x][y] == newColor):\n",
    "        return \n",
    "    \n",
    "    mat[x][y] = newColor\n",
    "    \n",
    "    floodFillUtil(mat, x-1, y, prevColor, newColor)\n",
    "    floodFillUtil(mat, x, y+1, prevColor, newColor)    \n",
    "    floodFillUtil(mat, x+1, y, prevColor, newColor)    \n",
    "    floodFillUtil(mat, x, y-1, prevColor, newColor)    "
   ]
  },
  {
   "cell_type": "code",
   "execution_count": 2,
   "metadata": {},
   "outputs": [],
   "source": [
    "def floodFill(mat, x, y, newColor):\n",
    "    prevColor = mat[x][y]\n",
    "    floodFillUtil(mat, x, y, prevColor, newColor)"
   ]
  },
  {
   "cell_type": "code",
   "execution_count": 3,
   "metadata": {},
   "outputs": [],
   "source": [
    "screen = [[1, 1, 1, 1, 1, 1, 1, 1],  \n",
    "          [1, 1, 1, 1, 1, 1, 0, 0],  \n",
    "          [1, 0, 0, 1, 1, 0, 1, 1],  \n",
    "          [1, 2, 2, 2, 2, 0, 1, 0],  \n",
    "          [1, 1, 1, 2, 2, 0, 1, 0],  \n",
    "          [1, 1, 1, 2, 2, 2, 2, 0],  \n",
    "          [1, 1, 1, 1, 1, 2, 1, 1],  \n",
    "          [1, 1, 1, 1, 1, 2, 2, 1]] \n",
    "  \n",
    "x = 4\n",
    "y = 4\n",
    "newColor = 3\n",
    "floodFill(screen, x, y, newColor) "
   ]
  },
  {
   "cell_type": "code",
   "execution_count": 4,
   "metadata": {},
   "outputs": [
    {
     "name": "stdout",
     "output_type": "stream",
     "text": [
      "1 1 1 1 1 1 1 1 \n",
      "1 1 1 1 1 1 0 0 \n",
      "1 0 0 1 1 0 1 1 \n",
      "1 3 3 3 3 0 1 0 \n",
      "1 1 1 3 3 0 1 0 \n",
      "1 1 1 3 3 3 3 0 \n",
      "1 1 1 1 1 3 1 1 \n",
      "1 1 1 1 1 3 3 1 \n"
     ]
    }
   ],
   "source": [
    "for i in screen:\n",
    "    for j in i:\n",
    "        print(j,end=\" \")\n",
    "    print()"
   ]
  },
  {
   "cell_type": "code",
   "execution_count": null,
   "metadata": {},
   "outputs": [],
   "source": []
  }
 ],
 "metadata": {
  "kernelspec": {
   "display_name": "Python 3",
   "language": "python",
   "name": "python3"
  },
  "language_info": {
   "codemirror_mode": {
    "name": "ipython",
    "version": 3
   },
   "file_extension": ".py",
   "mimetype": "text/x-python",
   "name": "python",
   "nbconvert_exporter": "python",
   "pygments_lexer": "ipython3",
   "version": "3.7.6"
  }
 },
 "nbformat": 4,
 "nbformat_minor": 2
}
