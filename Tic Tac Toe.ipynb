{
 "cells": [
  {
   "cell_type": "markdown",
   "metadata": {},
   "source": [
    "**Step 1: Function that can print out a board.**"
   ]
  },
  {
   "cell_type": "code",
   "execution_count": 3,
   "metadata": {},
   "outputs": [],
   "source": [
    "from IPython.display import clear_output\n",
    "\n",
    "def display_board(board):\n",
    "    clear_output()\n",
    "    \n",
    "    print (board[1]+' | '+board[2]+' | '+board[3])\n",
    "    print ('---------')\n",
    "    print (board[4]+' | '+board[5]+' | '+board[6])\n",
    "    print ('---------')\n",
    "    print (board[7]+' | '+board[8]+' | '+board[9])"
   ]
  },
  {
   "cell_type": "markdown",
   "metadata": {},
   "source": [
    "**Step 2: Function that can take in a player input and assign their marker as 'X' or 'O'.**"
   ]
  },
  {
   "cell_type": "code",
   "execution_count": 4,
   "metadata": {},
   "outputs": [],
   "source": [
    "def player_input():\n",
    "    \n",
    "    marker = ''\n",
    "    \n",
    "    while not (marker == 'X' or marker == 'O'):\n",
    "        marker = input('Player 1, Choose your X or O: ').upper()\n",
    "    \n",
    "    if marker == 'X':\n",
    "        return ('X','O')\n",
    "    else:\n",
    "        return ('O','X')"
   ]
  },
  {
   "cell_type": "markdown",
   "metadata": {},
   "source": [
    "**Step 3: Function that takes in the board list object, a marker ('X' or 'O'), and a desired position (number 1-9) and assigns it to the board.**"
   ]
  },
  {
   "cell_type": "code",
   "execution_count": 5,
   "metadata": {},
   "outputs": [],
   "source": [
    "def place_marker(board, marker, position):\n",
    "    \n",
    "    board[position] = marker"
   ]
  },
  {
   "cell_type": "code",
   "execution_count": null,
   "metadata": {},
   "outputs": [],
   "source": []
  },
  {
   "cell_type": "markdown",
   "metadata": {},
   "source": [
    "**Step 4: Function that takes in a board and a mark (X or O) and then checks to see if that mark has won.**"
   ]
  },
  {
   "cell_type": "code",
   "execution_count": 6,
   "metadata": {},
   "outputs": [],
   "source": [
    "def win_check(board, mark):\n",
    "    \n",
    "    # Win Tic Tac Toe?\n",
    "    \n",
    "    # All Rows, and check to see if they all share the same marker?\n",
    "    # All Colums, and check to see if marker matches\n",
    "    # 2 diagonals, check to see\n",
    "    \n",
    "    \n",
    "    return (# Across the board Horizontally\n",
    "            (board[1] == board[2] == board[3] == mark) or\n",
    "            (board[4] == board[5] == board[6] == mark) or\n",
    "            (board[7] == board[8] == board[9] == mark) or\n",
    "            \n",
    "           # Across the Board Vertically\n",
    "            (board[1] == board[4] == board[7] == mark) or\n",
    "            (board[2] == board[5] == board[8] == mark) or\n",
    "            (board[3] == board[6] == board[9] == mark) or\n",
    "            \n",
    "           # Check both diagonals\n",
    "            (board[1] == board[5] == board[9] == mark) or\n",
    "            (board[3] == board[5] == board[7] == mark))"
   ]
  },
  {
   "cell_type": "markdown",
   "metadata": {},
   "source": [
    "**Step 5: Function that uses the random module to randomly decide which player goes first.**"
   ]
  },
  {
   "cell_type": "code",
   "execution_count": 7,
   "metadata": {},
   "outputs": [],
   "source": [
    "import random\n",
    "\n",
    "def choose_first():\n",
    "    \n",
    "    flip = random.randint(1,2)\n",
    "    \n",
    "    if flip == 1:\n",
    "        return 'Player 1'\n",
    "    else:\n",
    "        return 'Player 2'"
   ]
  },
  {
   "cell_type": "markdown",
   "metadata": {},
   "source": [
    "**Step 6: Function that returns a boolean indicating whether a space on the board is freely available.**"
   ]
  },
  {
   "cell_type": "code",
   "execution_count": 8,
   "metadata": {},
   "outputs": [],
   "source": [
    "def space_check(board, position):\n",
    "    \n",
    "    return board[position] == ' '"
   ]
  },
  {
   "cell_type": "markdown",
   "metadata": {},
   "source": [
    "**Step 7: Function that checks if the board is full and returns a boolean value. True if full, False otherwise.**"
   ]
  },
  {
   "cell_type": "code",
   "execution_count": 9,
   "metadata": {},
   "outputs": [],
   "source": [
    "def full_board_check(board):\n",
    "    \n",
    "    for i in range(1,10):\n",
    "        if space_check(board,i):\n",
    "            return False\n",
    "    \n",
    "    return True"
   ]
  },
  {
   "cell_type": "markdown",
   "metadata": {},
   "source": [
    "**Step 8: Function that asks for a player's next position (as a number 1-9) and then uses the function from step 6 to check if it's a free position. If it is, then return the position for later use.**"
   ]
  },
  {
   "cell_type": "code",
   "execution_count": 10,
   "metadata": {},
   "outputs": [],
   "source": [
    "def player_choice(board):\n",
    "    \n",
    "    position = 0\n",
    "    \n",
    "    while position not in range(1,10) or not space_check(board,position):\n",
    "        position = int(input('Choose a position (1-9): '))\n",
    "        \n",
    "    return position"
   ]
  },
  {
   "cell_type": "markdown",
   "metadata": {},
   "source": [
    "**Step 9: Function that asks the player if they want to play again and returns a boolean True if they do want to play again.**"
   ]
  },
  {
   "cell_type": "code",
   "execution_count": 11,
   "metadata": {},
   "outputs": [],
   "source": [
    "def replay():\n",
    "    \n",
    "    choice = input('Play again? Yes or No ').lower()\n",
    "    \n",
    "    return choice[0] == 'y'"
   ]
  },
  {
   "cell_type": "markdown",
   "metadata": {
    "collapsed": true
   },
   "source": [
    "**Step 10: Use while loops and the functions you've made to run the game!**"
   ]
  },
  {
   "cell_type": "code",
   "execution_count": 12,
   "metadata": {},
   "outputs": [
    {
     "name": "stdout",
     "output_type": "stream",
     "text": [
      "WELCOME TO TIC TAC TOE\n"
     ]
    },
    {
     "ename": "KeyboardInterrupt",
     "evalue": "Interrupted by user",
     "output_type": "error",
     "traceback": [
      "\u001b[1;31m---------------------------------------------------------------------------\u001b[0m",
      "\u001b[1;31mKeyboardInterrupt\u001b[0m                         Traceback (most recent call last)",
      "\u001b[1;32mc:\\Users\\Diwanshu Tyagi\\Desktop\\Practice\\Tic Tac Toe.ipynb Cell 21'\u001b[0m in \u001b[0;36m<cell line: 4>\u001b[1;34m()\u001b[0m\n\u001b[0;32m      <a href='vscode-notebook-cell:/c%3A/Users/Diwanshu%20Tyagi/Desktop/Practice/Tic%20Tac%20Toe.ipynb#ch0000019?line=3'>4</a>\u001b[0m \u001b[39mwhile\u001b[39;00m \u001b[39mTrue\u001b[39;00m:\n\u001b[0;32m      <a href='vscode-notebook-cell:/c%3A/Users/Diwanshu%20Tyagi/Desktop/Practice/Tic%20Tac%20Toe.ipynb#ch0000019?line=4'>5</a>\u001b[0m     \n\u001b[0;32m      <a href='vscode-notebook-cell:/c%3A/Users/Diwanshu%20Tyagi/Desktop/Practice/Tic%20Tac%20Toe.ipynb#ch0000019?line=5'>6</a>\u001b[0m     \u001b[39m# Play the game\u001b[39;00m\n\u001b[0;32m      <a href='vscode-notebook-cell:/c%3A/Users/Diwanshu%20Tyagi/Desktop/Practice/Tic%20Tac%20Toe.ipynb#ch0000019?line=6'>7</a>\u001b[0m     \n\u001b[0;32m      <a href='vscode-notebook-cell:/c%3A/Users/Diwanshu%20Tyagi/Desktop/Practice/Tic%20Tac%20Toe.ipynb#ch0000019?line=7'>8</a>\u001b[0m     \u001b[39m## Set Everything (Board, Who first, Select Marker)\u001b[39;00m\n\u001b[0;32m      <a href='vscode-notebook-cell:/c%3A/Users/Diwanshu%20Tyagi/Desktop/Practice/Tic%20Tac%20Toe.ipynb#ch0000019?line=8'>9</a>\u001b[0m     the_board \u001b[39m=\u001b[39m [\u001b[39m'\u001b[39m\u001b[39m \u001b[39m\u001b[39m'\u001b[39m]\u001b[39m*\u001b[39m\u001b[39m10\u001b[39m\n\u001b[1;32m---> <a href='vscode-notebook-cell:/c%3A/Users/Diwanshu%20Tyagi/Desktop/Practice/Tic%20Tac%20Toe.ipynb#ch0000019?line=9'>10</a>\u001b[0m     player1_marker,player2_marker \u001b[39m=\u001b[39m player_input()\n\u001b[0;32m     <a href='vscode-notebook-cell:/c%3A/Users/Diwanshu%20Tyagi/Desktop/Practice/Tic%20Tac%20Toe.ipynb#ch0000019?line=11'>12</a>\u001b[0m     turn \u001b[39m=\u001b[39m choose_first()\n\u001b[0;32m     <a href='vscode-notebook-cell:/c%3A/Users/Diwanshu%20Tyagi/Desktop/Practice/Tic%20Tac%20Toe.ipynb#ch0000019?line=12'>13</a>\u001b[0m     \u001b[39mprint\u001b[39m(turn\u001b[39m+\u001b[39m\u001b[39m'\u001b[39m\u001b[39m will go first\u001b[39m\u001b[39m'\u001b[39m)\n",
      "\u001b[1;32mc:\\Users\\Diwanshu Tyagi\\Desktop\\Practice\\Tic Tac Toe.ipynb Cell 4'\u001b[0m in \u001b[0;36mplayer_input\u001b[1;34m()\u001b[0m\n\u001b[0;32m      <a href='vscode-notebook-cell:/c%3A/Users/Diwanshu%20Tyagi/Desktop/Practice/Tic%20Tac%20Toe.ipynb#ch0000003?line=2'>3</a>\u001b[0m marker \u001b[39m=\u001b[39m \u001b[39m'\u001b[39m\u001b[39m'\u001b[39m\n\u001b[0;32m      <a href='vscode-notebook-cell:/c%3A/Users/Diwanshu%20Tyagi/Desktop/Practice/Tic%20Tac%20Toe.ipynb#ch0000003?line=4'>5</a>\u001b[0m \u001b[39mwhile\u001b[39;00m \u001b[39mnot\u001b[39;00m (marker \u001b[39m==\u001b[39m \u001b[39m'\u001b[39m\u001b[39mX\u001b[39m\u001b[39m'\u001b[39m \u001b[39mor\u001b[39;00m marker \u001b[39m==\u001b[39m \u001b[39m'\u001b[39m\u001b[39mO\u001b[39m\u001b[39m'\u001b[39m):\n\u001b[1;32m----> <a href='vscode-notebook-cell:/c%3A/Users/Diwanshu%20Tyagi/Desktop/Practice/Tic%20Tac%20Toe.ipynb#ch0000003?line=5'>6</a>\u001b[0m     marker \u001b[39m=\u001b[39m \u001b[39minput\u001b[39;49m(\u001b[39m'\u001b[39;49m\u001b[39mPlayer 1, Choose your X or O: \u001b[39;49m\u001b[39m'\u001b[39;49m)\u001b[39m.\u001b[39mupper()\n\u001b[0;32m      <a href='vscode-notebook-cell:/c%3A/Users/Diwanshu%20Tyagi/Desktop/Practice/Tic%20Tac%20Toe.ipynb#ch0000003?line=7'>8</a>\u001b[0m \u001b[39mif\u001b[39;00m marker \u001b[39m==\u001b[39m \u001b[39m'\u001b[39m\u001b[39mX\u001b[39m\u001b[39m'\u001b[39m:\n\u001b[0;32m      <a href='vscode-notebook-cell:/c%3A/Users/Diwanshu%20Tyagi/Desktop/Practice/Tic%20Tac%20Toe.ipynb#ch0000003?line=8'>9</a>\u001b[0m     \u001b[39mreturn\u001b[39;00m (\u001b[39m'\u001b[39m\u001b[39mX\u001b[39m\u001b[39m'\u001b[39m,\u001b[39m'\u001b[39m\u001b[39mO\u001b[39m\u001b[39m'\u001b[39m)\n",
      "File \u001b[1;32mc:\\Users\\Diwanshu Tyagi\\AppData\\Local\\Programs\\Python\\Python310\\lib\\site-packages\\ipykernel\\kernelbase.py:1161\u001b[0m, in \u001b[0;36mKernel.raw_input\u001b[1;34m(self, prompt)\u001b[0m\n\u001b[0;32m   <a href='file:///c%3A/Users/Diwanshu%20Tyagi/AppData/Local/Programs/Python/Python310/lib/site-packages/ipykernel/kernelbase.py?line=1156'>1157</a>\u001b[0m \u001b[39mif\u001b[39;00m \u001b[39mnot\u001b[39;00m \u001b[39mself\u001b[39m\u001b[39m.\u001b[39m_allow_stdin:\n\u001b[0;32m   <a href='file:///c%3A/Users/Diwanshu%20Tyagi/AppData/Local/Programs/Python/Python310/lib/site-packages/ipykernel/kernelbase.py?line=1157'>1158</a>\u001b[0m     \u001b[39mraise\u001b[39;00m StdinNotImplementedError(\n\u001b[0;32m   <a href='file:///c%3A/Users/Diwanshu%20Tyagi/AppData/Local/Programs/Python/Python310/lib/site-packages/ipykernel/kernelbase.py?line=1158'>1159</a>\u001b[0m         \u001b[39m\"\u001b[39m\u001b[39mraw_input was called, but this frontend does not support input requests.\u001b[39m\u001b[39m\"\u001b[39m\n\u001b[0;32m   <a href='file:///c%3A/Users/Diwanshu%20Tyagi/AppData/Local/Programs/Python/Python310/lib/site-packages/ipykernel/kernelbase.py?line=1159'>1160</a>\u001b[0m     )\n\u001b[1;32m-> <a href='file:///c%3A/Users/Diwanshu%20Tyagi/AppData/Local/Programs/Python/Python310/lib/site-packages/ipykernel/kernelbase.py?line=1160'>1161</a>\u001b[0m \u001b[39mreturn\u001b[39;00m \u001b[39mself\u001b[39;49m\u001b[39m.\u001b[39;49m_input_request(\n\u001b[0;32m   <a href='file:///c%3A/Users/Diwanshu%20Tyagi/AppData/Local/Programs/Python/Python310/lib/site-packages/ipykernel/kernelbase.py?line=1161'>1162</a>\u001b[0m     \u001b[39mstr\u001b[39;49m(prompt),\n\u001b[0;32m   <a href='file:///c%3A/Users/Diwanshu%20Tyagi/AppData/Local/Programs/Python/Python310/lib/site-packages/ipykernel/kernelbase.py?line=1162'>1163</a>\u001b[0m     \u001b[39mself\u001b[39;49m\u001b[39m.\u001b[39;49m_parent_ident[\u001b[39m\"\u001b[39;49m\u001b[39mshell\u001b[39;49m\u001b[39m\"\u001b[39;49m],\n\u001b[0;32m   <a href='file:///c%3A/Users/Diwanshu%20Tyagi/AppData/Local/Programs/Python/Python310/lib/site-packages/ipykernel/kernelbase.py?line=1163'>1164</a>\u001b[0m     \u001b[39mself\u001b[39;49m\u001b[39m.\u001b[39;49mget_parent(\u001b[39m\"\u001b[39;49m\u001b[39mshell\u001b[39;49m\u001b[39m\"\u001b[39;49m),\n\u001b[0;32m   <a href='file:///c%3A/Users/Diwanshu%20Tyagi/AppData/Local/Programs/Python/Python310/lib/site-packages/ipykernel/kernelbase.py?line=1164'>1165</a>\u001b[0m     password\u001b[39m=\u001b[39;49m\u001b[39mFalse\u001b[39;49;00m,\n\u001b[0;32m   <a href='file:///c%3A/Users/Diwanshu%20Tyagi/AppData/Local/Programs/Python/Python310/lib/site-packages/ipykernel/kernelbase.py?line=1165'>1166</a>\u001b[0m )\n",
      "File \u001b[1;32mc:\\Users\\Diwanshu Tyagi\\AppData\\Local\\Programs\\Python\\Python310\\lib\\site-packages\\ipykernel\\kernelbase.py:1205\u001b[0m, in \u001b[0;36mKernel._input_request\u001b[1;34m(self, prompt, ident, parent, password)\u001b[0m\n\u001b[0;32m   <a href='file:///c%3A/Users/Diwanshu%20Tyagi/AppData/Local/Programs/Python/Python310/lib/site-packages/ipykernel/kernelbase.py?line=1201'>1202</a>\u001b[0m             \u001b[39mbreak\u001b[39;00m\n\u001b[0;32m   <a href='file:///c%3A/Users/Diwanshu%20Tyagi/AppData/Local/Programs/Python/Python310/lib/site-packages/ipykernel/kernelbase.py?line=1202'>1203</a>\u001b[0m \u001b[39mexcept\u001b[39;00m \u001b[39mKeyboardInterrupt\u001b[39;00m:\n\u001b[0;32m   <a href='file:///c%3A/Users/Diwanshu%20Tyagi/AppData/Local/Programs/Python/Python310/lib/site-packages/ipykernel/kernelbase.py?line=1203'>1204</a>\u001b[0m     \u001b[39m# re-raise KeyboardInterrupt, to truncate traceback\u001b[39;00m\n\u001b[1;32m-> <a href='file:///c%3A/Users/Diwanshu%20Tyagi/AppData/Local/Programs/Python/Python310/lib/site-packages/ipykernel/kernelbase.py?line=1204'>1205</a>\u001b[0m     \u001b[39mraise\u001b[39;00m \u001b[39mKeyboardInterrupt\u001b[39;00m(\u001b[39m\"\u001b[39m\u001b[39mInterrupted by user\u001b[39m\u001b[39m\"\u001b[39m) \u001b[39mfrom\u001b[39;00m \u001b[39mNone\u001b[39m\n\u001b[0;32m   <a href='file:///c%3A/Users/Diwanshu%20Tyagi/AppData/Local/Programs/Python/Python310/lib/site-packages/ipykernel/kernelbase.py?line=1205'>1206</a>\u001b[0m \u001b[39mexcept\u001b[39;00m \u001b[39mException\u001b[39;00m:\n\u001b[0;32m   <a href='file:///c%3A/Users/Diwanshu%20Tyagi/AppData/Local/Programs/Python/Python310/lib/site-packages/ipykernel/kernelbase.py?line=1206'>1207</a>\u001b[0m     \u001b[39mself\u001b[39m\u001b[39m.\u001b[39mlog\u001b[39m.\u001b[39mwarning(\u001b[39m\"\u001b[39m\u001b[39mInvalid Message:\u001b[39m\u001b[39m\"\u001b[39m, exc_info\u001b[39m=\u001b[39m\u001b[39mTrue\u001b[39;00m)\n",
      "\u001b[1;31mKeyboardInterrupt\u001b[0m: Interrupted by user"
     ]
    }
   ],
   "source": [
    "# While loop to keep running the game\n",
    "print ('WELCOME TO TIC TAC TOE')\n",
    "\n",
    "while True:\n",
    "    \n",
    "    # Play the game\n",
    "    \n",
    "    ## Set Everything (Board, Who first, Select Marker)\n",
    "    the_board = [' ']*10\n",
    "    player1_marker,player2_marker = player_input()\n",
    "    \n",
    "    turn = choose_first()\n",
    "    print(turn+' will go first')\n",
    "    \n",
    "    play_game = input('Ready to play? Yes or no?' ).lower()\n",
    "    \n",
    "    if play_game[0] == 'y':\n",
    "        game_on = True\n",
    "    else:\n",
    "        game_on = False\n",
    "    \n",
    "    ## Game Play\n",
    "    while game_on:\n",
    "        \n",
    "        if turn == 'Player 1':\n",
    "            \n",
    "            # Show the Board\n",
    "            display_board(the_board)\n",
    "            \n",
    "            #Choose the Position\n",
    "            position = player_choice(the_board)\n",
    "            \n",
    "            # Place the marker on the Position\n",
    "            place_marker(the_board,player1_marker,position)\n",
    "            \n",
    "            # Check if Player win the game\n",
    "            if win_check(the_board,player1_marker):\n",
    "                display_board(the_board)\n",
    "                print ('Player 1 has Won!!')\n",
    "                game_on = False\n",
    "            \n",
    "            else:\n",
    "                # Board is Full if player 1 has not won the game \n",
    "                if full_board_check(the_board):\n",
    "                    display_board(the_board)\n",
    "                    print('TIE Game')\n",
    "                    game_on = False\n",
    "                \n",
    "                else:\n",
    "                    turn = 'Player 2'\n",
    "                    \n",
    "            \n",
    "            # No tie and No win? then next player's turn\n",
    "    \n",
    "        ## Player one turn\n",
    "        \n",
    "        else:\n",
    "            # Show the Board\n",
    "            display_board(the_board)\n",
    "            \n",
    "            #Choose the Position\n",
    "            position = player_choice(the_board)\n",
    "            \n",
    "            # Place the marker on the Position\n",
    "            place_marker(the_board,player2_marker,position)\n",
    "            \n",
    "            # Check if There is a tie\n",
    "            if win_check(the_board,player2_marker):\n",
    "                display_board(the_board)\n",
    "                print ('Player 2 has Won!!')\n",
    "                game_on = False\n",
    "            \n",
    "            else:\n",
    "                # Board is Full if player 1 has not won the game \n",
    "                if full_board_check(the_board):\n",
    "                    display_board(the_board)\n",
    "                    print('TIE Game')\n",
    "                    game_on = False\n",
    "                \n",
    "                else:\n",
    "                    turn = 'Player 1'\n",
    "    \n",
    "        ## Player two turn\n",
    "        \n",
    "    if not replay():\n",
    "        break\n",
    "\n",
    "# Break out the while loop"
   ]
  },
  {
   "cell_type": "code",
   "execution_count": null,
   "metadata": {},
   "outputs": [],
   "source": []
  }
 ],
 "metadata": {
  "interpreter": {
   "hash": "dc54ec31da7b33959c103b1d409d425cc6b759161346685953d8d1bc5113ff11"
  },
  "kernelspec": {
   "display_name": "Python 3.10.3 64-bit",
   "language": "python",
   "name": "python3"
  },
  "language_info": {
   "codemirror_mode": {
    "name": "ipython",
    "version": 3
   },
   "file_extension": ".py",
   "mimetype": "text/x-python",
   "name": "python",
   "nbconvert_exporter": "python",
   "pygments_lexer": "ipython3",
   "version": "3.10.3"
  }
 },
 "nbformat": 4,
 "nbformat_minor": 1
}
