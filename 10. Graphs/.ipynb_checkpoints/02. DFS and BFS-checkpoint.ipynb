{
 "cells": [
  {
   "cell_type": "markdown",
   "metadata": {},
   "source": [
    "```\n",
    "        1\n",
    "       / \\\n",
    "      /   \\\n",
    "     2     3\n",
    "     |\\    |\n",
    "     | \\   |\n",
    "     |  \\  |\n",
    "     |   \\ |\n",
    "     |    \\|\n",
    "     4-----5\n",
    "      \\   /\n",
    "       \\ /\n",
    "        6\n",
    "```"
   ]
  },
  {
   "cell_type": "code",
   "execution_count": 1,
   "metadata": {},
   "outputs": [],
   "source": [
    "class Graph:\n",
    "    \n",
    "    def __init__(self ,graph = None):\n",
    "        self.graph = graph if graph else {}\n",
    "    \n",
    "    def addVertex(self ,v):\n",
    "        self.graph[v] = set()\n",
    "        \n",
    "    def addEdge(self ,v1 ,v2): \n",
    "        if v1 not in self.graph.keys():\n",
    "            self.graph[v1] = set()\n",
    "        self.graph[v1].add(v2)\n",
    "        \n",
    "        if v2 not in self.graph.keys():\n",
    "            self.graph[v2] = set()\n",
    "        self.graph[v2].add(v1)\n",
    "        \n",
    "    def containEdge(self ,v1 ,v2):\n",
    "        return v1 in self.graph.keys() and v2 in self.graph[v1]\n",
    "    \n",
    "    def containVertex(self ,v):\n",
    "        return v in self.graph.keys()\n",
    "    \n",
    "    def Vertices(self):\n",
    "        return sorted(self.graph.keys())\n",
    "    \n",
    "    def printMatrix(self):\n",
    "        \n",
    "        size = sorted(self.graph.keys())\n",
    "        \n",
    "        for i in size:\n",
    "            for j in size:\n",
    "                if j in self.graph[i]:\n",
    "                    print('{:3}'.format(1),end=\"\")\n",
    "                else:\n",
    "                    print('{:3}'.format(0),end=\"\")\n",
    "            print()\n",
    "    \n",
    "    def printList(self):\n",
    "        \n",
    "        size = sorted(self.graph.keys())\n",
    "        \n",
    "        for i in size:\n",
    "            print('{}: '.format(i),end=\"\")\n",
    "            if len(self.graph[i]) > 0:\n",
    "                for j in list(self.graph[i])[:-1]:\n",
    "                    print('{}'.format(j),end=\" -> \")\n",
    "                print(list(self.graph[i])[-1])\n",
    "        "
   ]
  },
  {
   "cell_type": "code",
   "execution_count": 2,
   "metadata": {},
   "outputs": [],
   "source": [
    "g = Graph()"
   ]
  },
  {
   "cell_type": "code",
   "execution_count": 3,
   "metadata": {},
   "outputs": [],
   "source": [
    "g.addEdge(1 ,2)\n",
    "g.addEdge(1, 3)\n",
    "\n",
    "g.addEdge(2, 4)\n",
    "g.addEdge(2, 5)\n",
    "g.addEdge(5, 3)\n",
    "\n",
    "g.addEdge(4, 5)\n",
    "g.addEdge(4, 6)\n",
    "\n",
    "g.addEdge(5, 6)"
   ]
  },
  {
   "cell_type": "code",
   "execution_count": 4,
   "metadata": {},
   "outputs": [
    {
     "data": {
      "text/plain": [
       "1"
      ]
     },
     "execution_count": 4,
     "metadata": {},
     "output_type": "execute_result"
    }
   ],
   "source": [
    "list(g.graph.keys())[0]"
   ]
  },
  {
   "cell_type": "code",
   "execution_count": 5,
   "metadata": {},
   "outputs": [
    {
     "name": "stdout",
     "output_type": "stream",
     "text": [
      "1: 2 -> 3\n",
      "2: 1 -> 4 -> 5\n",
      "3: 1 -> 5\n",
      "4: 2 -> 5 -> 6\n",
      "5: 2 -> 3 -> 4 -> 6\n",
      "6: 4 -> 5\n"
     ]
    }
   ],
   "source": [
    "g.printList()"
   ]
  },
  {
   "cell_type": "code",
   "execution_count": 6,
   "metadata": {},
   "outputs": [
    {
     "name": "stdout",
     "output_type": "stream",
     "text": [
      "  0  1  1  0  0  0\n",
      "  1  0  0  1  1  0\n",
      "  1  0  0  0  1  0\n",
      "  0  1  0  0  1  1\n",
      "  0  1  1  1  0  1\n",
      "  0  0  0  1  1  0\n"
     ]
    }
   ],
   "source": [
    "g.printMatrix()"
   ]
  },
  {
   "cell_type": "markdown",
   "metadata": {},
   "source": [
    "## BFS Traversal of a Graph"
   ]
  },
  {
   "cell_type": "code",
   "execution_count": 7,
   "metadata": {},
   "outputs": [],
   "source": [
    "def BFS(g ,start):\n",
    "    \n",
    "    # Mark all Vertices as Not visited\n",
    "    visited = set()\n",
    "    \n",
    "    queue = []\n",
    "    \n",
    "    visited.add(start)\n",
    "    queue.append(start)\n",
    "    \n",
    "    while len(queue) != 0:\n",
    "        start = queue.pop(0)\n",
    "        print(start,end=\" \")\n",
    "        \n",
    "        for i in g[start]:\n",
    "            if i not in visited:\n",
    "                queue.append(i)\n",
    "                visited.add(i)"
   ]
  },
  {
   "cell_type": "code",
   "execution_count": 8,
   "metadata": {},
   "outputs": [
    {
     "name": "stdout",
     "output_type": "stream",
     "text": [
      "5 2 3 4 6 1 "
     ]
    }
   ],
   "source": [
    "BFS(g.graph ,5)"
   ]
  },
  {
   "cell_type": "markdown",
   "metadata": {},
   "source": [
    "## DFS Traversal of a Graph"
   ]
  },
  {
   "cell_type": "code",
   "execution_count": 9,
   "metadata": {},
   "outputs": [],
   "source": [
    "def DFS(g ,start):\n",
    "    \n",
    "    visited = set()\n",
    "    DFSUtil(g ,start ,visited)"
   ]
  },
  {
   "cell_type": "code",
   "execution_count": 10,
   "metadata": {},
   "outputs": [],
   "source": [
    "def DFSUtil(g ,start ,visited):\n",
    "    \n",
    "    visited.add(start)\n",
    "    print(start,end=\" \")\n",
    "    \n",
    "    for i in g[start]:\n",
    "        if i not in visited:\n",
    "            DFSUtil(g ,i ,visited)"
   ]
  },
  {
   "cell_type": "code",
   "execution_count": 11,
   "metadata": {},
   "outputs": [
    {
     "data": {
      "text/plain": [
       "{1: {2, 3}, 2: {1, 4, 5}, 3: {1, 5}, 4: {2, 5, 6}, 5: {2, 3, 4, 6}, 6: {4, 5}}"
      ]
     },
     "execution_count": 11,
     "metadata": {},
     "output_type": "execute_result"
    }
   ],
   "source": [
    "g.graph"
   ]
  },
  {
   "cell_type": "code",
   "execution_count": 12,
   "metadata": {},
   "outputs": [
    {
     "name": "stdout",
     "output_type": "stream",
     "text": [
      "1 2 4 5 3 6 "
     ]
    }
   ],
   "source": [
    "DFS(g.graph ,1)"
   ]
  },
  {
   "cell_type": "code",
   "execution_count": null,
   "metadata": {},
   "outputs": [],
   "source": []
  }
 ],
 "metadata": {
  "kernelspec": {
   "display_name": "Python 3",
   "language": "python",
   "name": "python3"
  },
  "language_info": {
   "codemirror_mode": {
    "name": "ipython",
    "version": 3
   },
   "file_extension": ".py",
   "mimetype": "text/x-python",
   "name": "python",
   "nbconvert_exporter": "python",
   "pygments_lexer": "ipython3",
   "version": "3.7.6"
  }
 },
 "nbformat": 4,
 "nbformat_minor": 2
}
