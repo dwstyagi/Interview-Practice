{
 "cells": [
  {
   "cell_type": "markdown",
   "metadata": {},
   "source": [
    "### Using DFS"
   ]
  },
  {
   "cell_type": "code",
   "execution_count": 58,
   "metadata": {},
   "outputs": [],
   "source": [
    "graph = [[0,0,0,1,1,0,0],\n",
    "         [0,1,0,0,1,1,0],\n",
    "         [1,1,0,1,0,0,1],\n",
    "         [0,0,0,0,0,1,0],\n",
    "         [1,1,0,0,0,0,0],\n",
    "         [0,0,0,1,0,0,0]]"
   ]
  },
  {
   "cell_type": "code",
   "execution_count": 59,
   "metadata": {},
   "outputs": [],
   "source": [
    "def countIslands(graph ,n ,m):\n",
    "    '''\n",
    "    graph : contain graph components in form of 2-D Matrix\n",
    "    n : number of rows in matrix\n",
    "    m : number of columns in matrix\n",
    "    '''\n",
    "    \n",
    "    visited = [[0 for _ in range(m)] for _ in range(n)]\n",
    "    \n",
    "    # count number of islands\n",
    "    count = 0\n",
    "    \n",
    "    for i in range(n):\n",
    "        for j in range(m):\n",
    "            if not visited[i][j] and graph[i][j]:\n",
    "                countIslandsUtil(visited ,i ,j ,graph)\n",
    "                count += 1\n",
    "    \n",
    "    return count"
   ]
  },
  {
   "cell_type": "code",
   "execution_count": 60,
   "metadata": {},
   "outputs": [],
   "source": [
    "def isSafe(row ,col ,graph):\n",
    "    return (row >= 0 and row < len(graph) and\n",
    "            col >= 0 and col < len(graph[0]))"
   ]
  },
  {
   "cell_type": "code",
   "execution_count": 25,
   "metadata": {},
   "outputs": [],
   "source": [
    "def countIslandsUtil(visited ,i ,j ,graph):\n",
    "    visited[i][j] = 1\n",
    "    \n",
    "    for row in range(i-1 ,i+2):\n",
    "        for col in range(j-1 ,j+2):\n",
    "            if isSafe(row ,col ,graph) and visited[row][col] == 0 and graph[row][col] == 1:\n",
    "                visited[row][col] = 1\n",
    "                countIslandsUtil(visited ,row ,col ,graph)   "
   ]
  },
  {
   "cell_type": "code",
   "execution_count": 26,
   "metadata": {},
   "outputs": [
    {
     "data": {
      "text/plain": [
       "4"
      ]
     },
     "execution_count": 26,
     "metadata": {},
     "output_type": "execute_result"
    }
   ],
   "source": [
    "countIslands(graph ,len(graph) ,len(graph[0]))"
   ]
  },
  {
   "cell_type": "markdown",
   "metadata": {},
   "source": [
    "# get the size of Maximum Island"
   ]
  },
  {
   "cell_type": "raw",
   "metadata": {},
   "source": [
    "graph = [[0,0,0,1,1,0,0],\n",
    "         [0,1,0,0,1,1,0],\n",
    "         [1,1,0,1,0,0,1],\n",
    "         [0,0,0,0,0,1,0],\n",
    "         [1,1,0,0,0,0,0],\n",
    "         [0,0,0,1,0,0,0]]\n",
    "\n",
    "island 1 = {graph[5][3]}\n",
    "island 2 = {graph[4][0] ,graph[4][1]}\n",
    "island 3 = {graph[2][0] ,graph[2][1] ,graph[1][1]}\n",
    "island 4 = {graph[0][3] ,graph[0][4] ,graph[1][4] ,graph[1][5] , graph[2][4] ,graph[2][6] ,graph[3][5]}\n",
    "\n",
    "size of max island = 7 {island 4}"
   ]
  },
  {
   "cell_type": "code",
   "execution_count": 37,
   "metadata": {},
   "outputs": [],
   "source": [
    "graph = [[0,0,0,1,1,0,0],\n",
    "         [0,1,0,0,1,1,0],\n",
    "         [1,1,0,1,0,0,1],\n",
    "         [0,0,0,0,0,1,0],\n",
    "         [1,1,0,0,0,0,0],\n",
    "         [0,0,0,1,0,0,0]]"
   ]
  },
  {
   "cell_type": "code",
   "execution_count": 54,
   "metadata": {},
   "outputs": [],
   "source": [
    "def maxIslands(graph ,n ,m):\n",
    "    '''\n",
    "    graph : contain graph components in form of 2-D Matrix\n",
    "    n : number of rows in matrix\n",
    "    m : number of columns in matrix\n",
    "    '''\n",
    "    \n",
    "    visited = [[0 for _ in range(m)] for _ in range(n)]\n",
    "    \n",
    "    # count number of islands\n",
    "    size = 0\n",
    "    \n",
    "    for i in range(n):\n",
    "        for j in range(m):\n",
    "            if visited[i][j] == 0 and graph[i][j] == 1:\n",
    "                getSize = getMaxRegion(visited ,i ,j ,graph)\n",
    "                size = max(size ,getSize)\n",
    "    \n",
    "    return size"
   ]
  },
  {
   "cell_type": "code",
   "execution_count": 55,
   "metadata": {},
   "outputs": [],
   "source": [
    "def isSafe(row ,col ,graph):\n",
    "    return (row >= 0 and row < len(graph) and\n",
    "            col >= 0 and col < len(graph[0]))"
   ]
  },
  {
   "cell_type": "code",
   "execution_count": 56,
   "metadata": {},
   "outputs": [],
   "source": [
    "def getMaxRegion(visited ,i ,j ,graph):\n",
    "    visited[i][j] = 1\n",
    "    \n",
    "    size = 1\n",
    "    for row in range(i-1 ,i+2):\n",
    "        for col in range(j-1 ,j+2):\n",
    "            if isSafe(row ,col ,graph) and visited[row][col] == 0 and graph[row][col] == 1:\n",
    "                visited[row][col] = 1\n",
    "                size += getMaxRegion(visited ,row ,col ,graph)\n",
    "    \n",
    "    return size               "
   ]
  },
  {
   "cell_type": "code",
   "execution_count": 57,
   "metadata": {},
   "outputs": [
    {
     "data": {
      "text/plain": [
       "7"
      ]
     },
     "execution_count": 57,
     "metadata": {},
     "output_type": "execute_result"
    }
   ],
   "source": [
    "maxIslands(graph ,len(graph) ,len(graph[0]))"
   ]
  },
  {
   "cell_type": "code",
   "execution_count": 47,
   "metadata": {},
   "outputs": [
    {
     "data": {
      "text/plain": [
       "True"
      ]
     },
     "execution_count": 47,
     "metadata": {},
     "output_type": "execute_result"
    }
   ],
   "source": [
    "isSafe(0 ,3 ,graph)"
   ]
  },
  {
   "cell_type": "code",
   "execution_count": null,
   "metadata": {},
   "outputs": [],
   "source": []
  }
 ],
 "metadata": {
  "kernelspec": {
   "display_name": "Python 3",
   "language": "python",
   "name": "python3"
  },
  "language_info": {
   "codemirror_mode": {
    "name": "ipython",
    "version": 3
   },
   "file_extension": ".py",
   "mimetype": "text/x-python",
   "name": "python",
   "nbconvert_exporter": "python",
   "pygments_lexer": "ipython3",
   "version": "3.7.3"
  }
 },
 "nbformat": 4,
 "nbformat_minor": 2
}
