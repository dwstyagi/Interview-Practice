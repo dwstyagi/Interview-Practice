{
 "cells": [
  {
   "cell_type": "markdown",
   "metadata": {},
   "source": [
    "Given N X N matrix filled with 1 , 0 , 2 , 3 . Find whether there is a path possible from source to destination, traversing through blank cells only. You can traverse up, down, right and left.<br>\n",
    "<ul>\n",
    "    <li>A value of cell 1 means Source.</li>\n",
    "    <li>A value of cell 2 means Destination.</li>\n",
    "    <li>A value of cell 3 means Blank cell.</li>\n",
    "    <li>A value of cell 0 means Blank Wall.</li>\n",
    "</ul>\n",
    "\n",
    ">Example\n",
    "\n",
    "```Python\n",
    "Input : M[3][3] = {{ 0 , 3 , 2 },\n",
    "                   { 3 , 3 , 0 },\n",
    "                   { 1 , 3 , 0 }};\n",
    "Output : Yes\n",
    "\n",
    "Input : M[4][4] = {{ 0 , 3 , 1 , 0 },\n",
    "                   { 3 , 0 , 3 , 3 },\n",
    "                   { 2 , 3 , 0 , 3 },\n",
    "                   { 0 , 3 , 3 , 3 }};\n",
    "Output : Yes\n",
    "```"
   ]
  },
  {
   "cell_type": "code",
   "execution_count": 19,
   "metadata": {},
   "outputs": [],
   "source": [
    "def isPath(graph ,n):\n",
    "    \n",
    "    visited = [[0 for _ in range(n)] for _ in range(n)]\n",
    "    \n",
    "    src = 0\n",
    "    for i in range(len(graph)):\n",
    "        for j in range(len(graph[i])):\n",
    "            if graph[i][j] == 1:\n",
    "                return isPathUtil(graph ,i ,j ,visited)"
   ]
  },
  {
   "cell_type": "code",
   "execution_count": 20,
   "metadata": {},
   "outputs": [],
   "source": [
    "def isPathUtil(graph ,i ,j ,visited):\n",
    "    \n",
    "    if (isSafe(graph ,i ,j) and # indices is not out of bounds\n",
    "        not visited[i][j] and # indices is not yet visited\n",
    "        graph[i][j] != 0): # it's not a wall\n",
    "        \n",
    "        visited[i][j] = 1\n",
    "        \n",
    "        if graph[i][j] == 2:\n",
    "            return 1\n",
    "        \n",
    "        if (isPathUtil(graph , i-1 ,j ,visited) or # Up \n",
    "            isPathUtil(graph , i+1 ,j ,visited) or # down\n",
    "            isPathUtil(graph , i ,j-1 ,visited) or # left\n",
    "            isPathUtil(graph , i ,j+1 ,visited)): # Right\n",
    "            return 1\n",
    "    return 0        "
   ]
  },
  {
   "cell_type": "code",
   "execution_count": 21,
   "metadata": {},
   "outputs": [],
   "source": [
    "def isSafe(graph ,i ,j):\n",
    "    return (i >= 0 and i < len(graph) and\n",
    "            j >= 0 and j < len(graph[i])) "
   ]
  },
  {
   "cell_type": "code",
   "execution_count": 25,
   "metadata": {},
   "outputs": [
    {
     "data": {
      "text/plain": [
       "1"
      ]
     },
     "execution_count": 25,
     "metadata": {},
     "output_type": "execute_result"
    }
   ],
   "source": [
    "graph = [[ 0 , 3 , 1 , 0 ],\n",
    "         [ 3 , 0 , 3 , 3 ],\n",
    "         [ 2 , 3 , 0 , 3 ],\n",
    "         [ 0 , 3 , 3 , 3 ]];\n",
    "isPath(graph ,len(graph))"
   ]
  },
  {
   "cell_type": "code",
   "execution_count": 23,
   "metadata": {},
   "outputs": [
    {
     "data": {
      "text/plain": [
       "1"
      ]
     },
     "execution_count": 23,
     "metadata": {},
     "output_type": "execute_result"
    }
   ],
   "source": [
    "graph = [[ 0 , 3 , 2 ],\n",
    "         [ 3 , 3 , 0 ],\n",
    "         [ 1 , 3 , 0 ]];\n",
    "isPath(graph ,len(graph))"
   ]
  },
  {
   "cell_type": "code",
   "execution_count": null,
   "metadata": {},
   "outputs": [],
   "source": []
  }
 ],
 "metadata": {
  "kernelspec": {
   "display_name": "Python 3",
   "language": "python",
   "name": "python3"
  },
  "language_info": {
   "codemirror_mode": {
    "name": "ipython",
    "version": 3
   },
   "file_extension": ".py",
   "mimetype": "text/x-python",
   "name": "python",
   "nbconvert_exporter": "python",
   "pygments_lexer": "ipython3",
   "version": "3.7.3"
  }
 },
 "nbformat": 4,
 "nbformat_minor": 2
}
