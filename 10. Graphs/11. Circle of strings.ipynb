{
 "cells": [
  {
   "cell_type": "markdown",
   "metadata": {},
   "source": [
    "We solve this problem by treating this as a graph problem, where vertices will be first and last character of strings and we will draw an edge between two vertices if they are first and last character of same string, so number of edges in graph will be same as number of strings in the array.\n",
    "Graph representation of some string arrays are given in below diagram\n",
    "\n",
    "<img src=\"https://media.geeksforgeeks.org/wp-content/uploads/stringGraph.png\" width=\"700\" align=\"left\">"
   ]
  },
  {
   "cell_type": "markdown",
   "metadata": {},
   "source": [
    "Now it can be clearly seen after graph representation that if a loop among graph vertices is possible then we can reorder the strings otherwise not. As in above diagram’s example a loop can be found in first and third array of string but not in second array of string. Now to check whether this graph can have a loop which goes through all the vertices, we’ll check two conditions<br>\n",
    "<ol>\n",
    "<li>Indegree and Outdegree of each vertex should be same.</li>\n",
    "<li>Graph should be strongly connected.</li>\n",
    "</ol>\n",
    "\n",
    "First condition can be checked easily by keeping two arrays, in and out for each character. For checking whether graph is having a loop which goes through all vertices is same as checking complete directed graph is strongly connected or not because if it has a loop which goes through all vertices then we can reach to any vertex from any other vertex that is, graph will be strongly connected and same argument can be given for reverse statement also.\n",
    "Now for checking second condition we will just run a DFS from any character and visit all reachable vertices from this, now if graph has a loop then after this one DFS all vertices should be visited, if all vertices are visited then we will return true otherwise false so <b>visiting all vertices in a single DFS flags a possible ordering among strings.</b>"
   ]
  },
  {
   "cell_type": "code",
   "execution_count": 6,
   "metadata": {},
   "outputs": [],
   "source": [
    "def circle(words):\n",
    "    \n",
    "    # create an empty graph\n",
    "    graph = {}\n",
    "    for i in range(26):\n",
    "        graph[i] = []\n",
    "    \n",
    "    \n",
    "    # Initialize all vertices as not marked \n",
    "    visited = [0 for _ in range(26)]\n",
    "    \n",
    "    # Initialize indegree and outdegree of every \n",
    "    # vertex as 0.\n",
    "    in_degree = [0 for _ in range(26)]\n",
    "    out_degree = [0 for _ in range(26)]\n",
    "    \n",
    "    # Process all strings one by one\n",
    "    for i in range(len(word)):\n",
    "        \n",
    "        # Find first and last character\n",
    "        first = ord(word[i][0]) - ord('a')\n",
    "        last = ord(word[i][-1]) - ord('a')\n",
    "        \n",
    "        # mark the characters\n",
    "        visited[first] = 1\n",
    "        visited[last] = 1\n",
    "        \n",
    "        # increase in_degree and out_degree\n",
    "        in_degree[first] += 1\n",
    "        out_degree[last] += 1\n",
    "        \n",
    "        # add an edge\n",
    "        graph[first].append(last)\n",
    "    \n",
    "    for i in range(26):\n",
    "        if in_degree[i] != out_degree[i]:\n",
    "            return False\n",
    "    \n",
    "    return isConnected(graph, visited, ord(word[0][0]) - ord('a'))"
   ]
  },
  {
   "cell_type": "code",
   "execution_count": 7,
   "metadata": {},
   "outputs": [],
   "source": [
    "def isConnected(graph, visited, s):\n",
    "    \n",
    "    mark = [0 for _ in range(26)]\n",
    "    \n",
    "    dfs(graph ,s ,mark)\n",
    "    \n",
    "    for i in range(26): \n",
    "        # I character is marked (i.e. it was first or last \n",
    "        # character of some string) then it should be \n",
    "        # visited in last dfs (as for looping, graph \n",
    "        # should be strongly connected) \n",
    "        if (not mark[i] and visited[i]): \n",
    "            return false\n",
    "    \n",
    "    return True"
   ]
  },
  {
   "cell_type": "code",
   "execution_count": 8,
   "metadata": {},
   "outputs": [],
   "source": [
    "def dfs(graph ,s ,visited):\n",
    "    visited[s] = 1\n",
    "    \n",
    "    for i in range(len(graph[s])):\n",
    "        if not visited[graph[s][i]]:\n",
    "            dfs(graph ,graph[s][i] ,visited)"
   ]
  },
  {
   "cell_type": "code",
   "execution_count": 9,
   "metadata": {},
   "outputs": [
    {
     "data": {
      "text/plain": [
       "True"
      ]
     },
     "execution_count": 9,
     "metadata": {},
     "output_type": "execute_result"
    }
   ],
   "source": [
    "word = [\"ab\", \"bc\", \"cd\", \"de\", \"ed\", \"da\"]\n",
    "circle(word)"
   ]
  },
  {
   "cell_type": "code",
   "execution_count": 10,
   "metadata": {},
   "outputs": [
    {
     "data": {
      "text/plain": [
       "'d'"
      ]
     },
     "execution_count": 10,
     "metadata": {},
     "output_type": "execute_result"
    }
   ],
   "source": [
    "word = [\"ab\", \"bc\", \"cd\", \"de\", \"ed\", \"da\"]\n",
    "word[2][1]"
   ]
  },
  {
   "cell_type": "code",
   "execution_count": null,
   "metadata": {},
   "outputs": [],
   "source": []
  }
 ],
 "metadata": {
  "kernelspec": {
   "display_name": "Python 3",
   "language": "python",
   "name": "python3"
  },
  "language_info": {
   "codemirror_mode": {
    "name": "ipython",
    "version": 3
   },
   "file_extension": ".py",
   "mimetype": "text/x-python",
   "name": "python",
   "nbconvert_exporter": "python",
   "pygments_lexer": "ipython3",
   "version": "3.7.6"
  }
 },
 "nbformat": 4,
 "nbformat_minor": 2
}
