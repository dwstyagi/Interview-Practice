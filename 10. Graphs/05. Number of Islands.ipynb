{
 "cells": [
  {
   "cell_type": "markdown",
   "metadata": {},
   "source": [
    "# Count number of Islands"
   ]
  },
  {
   "cell_type": "markdown",
   "metadata": {},
   "source": [
    "Given a boolean 2D matrix, find the number of islands. A group of connected 1s forms an island. For example, the below matrix contains 5 islands\n",
    "\n",
    "```\n",
    "Input : mat[][] = {{1, 1, 0, 0, 0},\n",
    "                   {0, 1, 0, 0, 1},\n",
    "                   {1, 0, 0, 1, 1},\n",
    "                   {0, 0, 0, 0, 0},\n",
    "                   {1, 0, 1, 0, 1} \n",
    "Output : 5 islands and maxSize of island is 4\n",
    "```\n",
    "<img src=\"https://media.geeksforgeeks.org/wp-content/cdn-uploads/20190704154734/FindNumberOfIslands.png\" >"
   ]
  },
  {
   "cell_type": "markdown",
   "metadata": {},
   "source": [
    "### Using DFS"
   ]
  },
  {
   "cell_type": "code",
   "execution_count": 1,
   "metadata": {},
   "outputs": [],
   "source": [
    "graph = [[0,0,0,1,1,0,0],\n",
    "         [0,1,0,0,1,1,0],\n",
    "         [1,1,0,1,0,0,1],\n",
    "         [0,0,0,0,0,1,0],\n",
    "         [1,1,0,0,0,0,0],\n",
    "         [0,0,0,1,0,0,0]]"
   ]
  },
  {
   "cell_type": "code",
   "execution_count": 2,
   "metadata": {},
   "outputs": [],
   "source": [
    "def isSafe(row ,col ,graph):\n",
    "    return (row >= 0 and row < len(graph) and\n",
    "            col >= 0 and col < len(graph[0]))"
   ]
  },
  {
   "cell_type": "code",
   "execution_count": 3,
   "metadata": {},
   "outputs": [],
   "source": [
    "def countIslands(graph ,n ,m):\n",
    "    '''\n",
    "    graph : contain graph components in form of 2-D Matrix\n",
    "    n : number of rows in matrix\n",
    "    m : number of columns in matrix\n",
    "    '''\n",
    "    \n",
    "    visited = [[0 for _ in range(m)] for _ in range(n)]\n",
    "    \n",
    "    # count number of islands\n",
    "    count = 0\n",
    "    \n",
    "    for i in range(n):\n",
    "        for j in range(m):\n",
    "            if not visited[i][j] and graph[i][j]:\n",
    "                countIslandsUtil(visited ,i ,j ,graph)\n",
    "                count += 1\n",
    "    \n",
    "    return count"
   ]
  },
  {
   "cell_type": "code",
   "execution_count": 4,
   "metadata": {},
   "outputs": [],
   "source": [
    "def countIslandsUtil(visited ,i ,j ,graph):\n",
    "    visited[i][j] = 1\n",
    "    \n",
    "    for row in range(i-1 ,i+2):\n",
    "        for col in range(j-1 ,j+2):\n",
    "            if (isSafe(row ,col ,graph) and \n",
    "                not visited[row][col] \n",
    "                and graph[row][col]):\n",
    "                visited[row][col] = 1\n",
    "                countIslandsUtil(visited ,row ,col ,graph)   "
   ]
  },
  {
   "cell_type": "code",
   "execution_count": 5,
   "metadata": {},
   "outputs": [
    {
     "data": {
      "text/plain": [
       "4"
      ]
     },
     "execution_count": 5,
     "metadata": {},
     "output_type": "execute_result"
    }
   ],
   "source": [
    "countIslands(graph ,len(graph) ,len(graph[0]))"
   ]
  },
  {
   "cell_type": "markdown",
   "metadata": {},
   "source": [
    "### Using BFS"
   ]
  },
  {
   "cell_type": "code",
   "execution_count": 6,
   "metadata": {},
   "outputs": [],
   "source": [
    "def isSafe(graph, row ,col):\n",
    "    return (row >= 0 and row < len(graph) and\n",
    "            col >= 0 and col < len(graph[0]))"
   ]
  },
  {
   "cell_type": "code",
   "execution_count": 7,
   "metadata": {},
   "outputs": [],
   "source": [
    "def countIsland(graph):\n",
    "    visited = [[0 for _ in range(len(graph[0]))] for _ in range(len(graph))]\n",
    "    size = 0\n",
    "    \n",
    "    for i in range(len(graph)):\n",
    "        for j in range(len(graph[i])):\n",
    "            if not visited[i][j] and graph[i][j]:\n",
    "                countIslandUtil(graph, i, j, visited)\n",
    "                size += 1\n",
    "    \n",
    "    return size"
   ]
  },
  {
   "cell_type": "code",
   "execution_count": 8,
   "metadata": {},
   "outputs": [],
   "source": [
    "def countIslandUtil(graph, row, col, visited):\n",
    "    Queue = []\n",
    "    visited[row][col] = 1\n",
    "    \n",
    "    Queue.append((row,col))\n",
    "    \n",
    "    while Queue:\n",
    "        vertex = Queue.pop(0)\n",
    "        \n",
    "        for i,j in [[-1,-1],[-1,0],[-1,1],[0,-1],[0,1],[1,-1],[1,0],[1,1]]:\n",
    "            newRow = vertex[0] + i\n",
    "            newCol = vertex[1] + j\n",
    "            \n",
    "            if (isSafe(graph, newRow, newCol) and \n",
    "                graph[newRow][newCol] and \n",
    "                not visited[newRow][newCol]):\n",
    "                \n",
    "                visited[newRow][newCol] = 1\n",
    "                Queue.append((newRow, newCol))"
   ]
  },
  {
   "cell_type": "code",
   "execution_count": 9,
   "metadata": {},
   "outputs": [
    {
     "data": {
      "text/plain": [
       "4"
      ]
     },
     "execution_count": 9,
     "metadata": {},
     "output_type": "execute_result"
    }
   ],
   "source": [
    "graph = [[0,0,0,1,1,0,0],\n",
    "         [0,1,0,0,1,1,0],\n",
    "         [1,1,0,1,0,0,1],\n",
    "         [0,0,0,0,0,1,0],\n",
    "         [1,1,0,0,0,0,0],\n",
    "         [0,0,0,1,0,0,0]]\n",
    "countIsland(graph)"
   ]
  },
  {
   "cell_type": "markdown",
   "metadata": {},
   "source": [
    "## get the size of Maximum Island"
   ]
  },
  {
   "cell_type": "raw",
   "metadata": {},
   "source": [
    "graph = [[0,0,0,1,1,0,0],\n",
    "         [0,1,0,0,1,1,0],\n",
    "         [1,1,0,1,0,0,1],\n",
    "         [0,0,0,0,0,1,0],\n",
    "         [1,1,0,0,0,0,0],\n",
    "         [0,0,0,1,0,0,0]]\n",
    "\n",
    "island 1 = {graph[5][3]}\n",
    "island 2 = {graph[4][0] ,graph[4][1]}\n",
    "island 3 = {graph[2][0] ,graph[2][1] ,graph[1][1]}\n",
    "island 4 = {graph[0][3] ,graph[0][4] ,graph[1][4] ,graph[1][5] , graph[2][4] ,graph[2][6] ,graph[3][5]}\n",
    "\n",
    "size of max island = 7 {island 4}"
   ]
  },
  {
   "cell_type": "code",
   "execution_count": 10,
   "metadata": {},
   "outputs": [],
   "source": [
    "graph = [[0,0,0,1,1,0,0],\n",
    "         [0,1,0,0,1,1,0],\n",
    "         [1,1,0,1,0,0,1],\n",
    "         [0,0,0,0,0,1,0],\n",
    "         [1,1,0,0,0,0,0],\n",
    "         [0,0,0,1,0,0,0]]"
   ]
  },
  {
   "cell_type": "code",
   "execution_count": 11,
   "metadata": {},
   "outputs": [],
   "source": [
    "def maxIslands(graph ,n ,m):\n",
    "    '''\n",
    "    graph : contain graph components in form of 2-D Matrix\n",
    "    n : number of rows in matrix\n",
    "    m : number of columns in matrix\n",
    "    '''\n",
    "    \n",
    "    visited = [[0 for _ in range(m)] for _ in range(n)]\n",
    "    \n",
    "    # count number of islands\n",
    "    size = 0\n",
    "    \n",
    "    for i in range(n):\n",
    "        for j in range(m):\n",
    "            if not visited[i][j] and graph[i][j]:\n",
    "                getSize = getMaxRegion(visited ,i ,j ,graph)\n",
    "                size = max(size ,getSize)\n",
    "    \n",
    "    return size"
   ]
  },
  {
   "cell_type": "code",
   "execution_count": 12,
   "metadata": {},
   "outputs": [],
   "source": [
    "def isSafe(row ,col ,graph):\n",
    "    return (row >= 0 and row < len(graph) and\n",
    "            col >= 0 and col < len(graph[0]))"
   ]
  },
  {
   "cell_type": "code",
   "execution_count": 13,
   "metadata": {},
   "outputs": [],
   "source": [
    "def getMaxRegion(visited ,i ,j ,graph):\n",
    "    visited[i][j] = 1\n",
    "    \n",
    "    size = 1\n",
    "    for row in range(i-1 ,i+2):\n",
    "        for col in range(j-1 ,j+2):\n",
    "            if (isSafe(row ,col ,graph) and \n",
    "                not visited[row][col] and \n",
    "                graph[row][col]):\n",
    "                visited[row][col] = 1\n",
    "                size += getMaxRegion(visited ,row ,col ,graph)\n",
    "    \n",
    "    return size               "
   ]
  },
  {
   "cell_type": "code",
   "execution_count": 14,
   "metadata": {},
   "outputs": [
    {
     "data": {
      "text/plain": [
       "7"
      ]
     },
     "execution_count": 14,
     "metadata": {},
     "output_type": "execute_result"
    }
   ],
   "source": [
    "maxIslands(graph ,len(graph) ,len(graph[0]))"
   ]
  },
  {
   "cell_type": "code",
   "execution_count": null,
   "metadata": {},
   "outputs": [],
   "source": []
  }
 ],
 "metadata": {
  "kernelspec": {
   "display_name": "Python 3",
   "language": "python",
   "name": "python3"
  },
  "language_info": {
   "codemirror_mode": {
    "name": "ipython",
    "version": 3
   },
   "file_extension": ".py",
   "mimetype": "text/x-python",
   "name": "python",
   "nbconvert_exporter": "python",
   "pygments_lexer": "ipython3",
   "version": "3.11.0"
  },
  "metadata": {
   "interpreter": {
    "hash": "63fd5069d213b44bf678585dea6b12cceca9941eaf7f819626cde1f2670de90d"
   }
  }
 },
 "nbformat": 4,
 "nbformat_minor": 2
}
