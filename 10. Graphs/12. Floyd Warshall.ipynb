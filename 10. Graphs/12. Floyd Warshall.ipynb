{
 "cells": [
  {
   "cell_type": "markdown",
   "metadata": {},
   "source": [
    "```\n",
    "Input:\n",
    "       graph[][] = { {0,   5,  INF, 10},\n",
    "                    {INF,  0,  3,  INF},\n",
    "                    {INF, INF, 0,   1},\n",
    "                    {INF, INF, INF, 0} }\n",
    "which represents the following graph\n",
    "             10\n",
    "       (0)------->(3)\n",
    "        |         /|\\\n",
    "      5 |          |\n",
    "        |          | 1\n",
    "       \\|/         |\n",
    "       (1)------->(2)\n",
    "            3       \n",
    "Note that the value of graph[i][j] is 0 if i is equal to j \n",
    "And graph[i][j] is INF (infinite) if there is no edge from vertex i to j.\n",
    "\n",
    "Output:\n",
    "Shortest distance matrix\n",
    "      0      5      8      9\n",
    "    INF      0      3      4\n",
    "    INF    INF      0      1\n",
    "    INF    INF    INF      0 \n",
    "```"
   ]
  },
  {
   "cell_type": "code",
   "execution_count": 4,
   "metadata": {},
   "outputs": [],
   "source": [
    "def floydWarshall(graph ,n):\n",
    "    \n",
    "    INF = float('inf')\n",
    "    path = [[-1 for _ in range(n)] for _ in range(n)]\n",
    "    \n",
    "    for i in range(n):\n",
    "        for j in range(n):\n",
    "            if graph[i][j] != INF and graph[i][j]:\n",
    "                path[i][j] = i\n",
    "    \n",
    "    for k in range(n):\n",
    "        for i in range(n):\n",
    "            for j in range(n):\n",
    "                if graph[i][j] > graph[i][k] + graph[k][j]:\n",
    "                    graph[i][j] = graph[i][k] + graph[k][j]\n",
    "                    path[i][j] = path[k][j]\n",
    "    \n",
    "    printPath(path ,0 ,3)\n",
    "    \n",
    "    #return graph"
   ]
  },
  {
   "cell_type": "code",
   "execution_count": 5,
   "metadata": {},
   "outputs": [],
   "source": [
    "def printPath(path ,i ,j):\n",
    "    if path[i][j] == -1:\n",
    "        return -1\n",
    "    \n",
    "    stack = []\n",
    "    stack.append(j)\n",
    "    \n",
    "    while 1:\n",
    "        j = path[i][j]\n",
    "        if j == -1:\n",
    "            break\n",
    "        stack.append(j)\n",
    "    \n",
    "    while stack:\n",
    "        print(stack.pop(),end=\" \")"
   ]
  },
  {
   "cell_type": "code",
   "execution_count": 6,
   "metadata": {},
   "outputs": [
    {
     "name": "stdout",
     "output_type": "stream",
     "text": [
      "0 1 2 3 "
     ]
    }
   ],
   "source": [
    "INF = float('inf')\n",
    "graph = [[ 0 ,  5 , INF,10], \n",
    "         [INF,  0 ,  3,INF], \n",
    "         [INF, INF, 0,   1], \n",
    "         [INF, INF, INF, 0]]\n",
    "floydWarshall(graph ,4)\n",
    "#print(*floydWarshall(graph ,4))"
   ]
  },
  {
   "cell_type": "code",
   "execution_count": null,
   "metadata": {},
   "outputs": [],
   "source": []
  }
 ],
 "metadata": {
  "kernelspec": {
   "display_name": "Python 3",
   "language": "python",
   "name": "python3"
  },
  "language_info": {
   "codemirror_mode": {
    "name": "ipython",
    "version": 3
   },
   "file_extension": ".py",
   "mimetype": "text/x-python",
   "name": "python",
   "nbconvert_exporter": "python",
   "pygments_lexer": "ipython3",
   "version": "3.7.6"
  }
 },
 "nbformat": 4,
 "nbformat_minor": 2
}
