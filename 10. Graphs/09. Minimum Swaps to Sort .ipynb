{
 "cells": [
  {
   "cell_type": "markdown",
   "metadata": {},
   "source": [
    "```\n",
    "Input : {4, 3, 2, 1}\n",
    "Output : 2\n",
    "Explanation : Swap index 0 with 3 and 1 with 2 to \n",
    "              form the sorted array {1, 2, 3, 4}.\n",
    "\n",
    "Input : {1, 5, 4, 3, 2}\n",
    "Output : 2\n",
    "```"
   ]
  },
  {
   "cell_type": "code",
   "execution_count": 16,
   "metadata": {},
   "outputs": [],
   "source": [
    "def getMinSwaps(arr ,n):\n",
    "    \n",
    "    # Create two arrays and use  \n",
    "    # as pairs where first array  \n",
    "    # is element and second array \n",
    "    # is position of first element \n",
    "    arrpos = [*enumerate(arr)] \n",
    "      \n",
    "    # Sort the array by array element  \n",
    "    # values to get right position of  \n",
    "    # every element as the elements  \n",
    "    # of second array. \n",
    "    arrpos.sort(key = lambda item:item[1]) \n",
    "    \n",
    "    visited = [0] * n\n",
    "    \n",
    "    ans = 0\n",
    "    for i in range(len(arr)): \n",
    "        \n",
    "        # already swapped or already present at correct position \n",
    "        if visited[i] or arrpos[i][0] == i: \n",
    "            continue\n",
    "        \n",
    "        # find number of nodes in this cycle and add it to ans \n",
    "        cycle_size = 0\n",
    "        j = i \n",
    "        \n",
    "        while not visited[j]: \n",
    "\n",
    "            # mark node as visited \n",
    "            visited[j] = True\n",
    "\n",
    "            # move to next node \n",
    "            j = arrpos[j][0] \n",
    "            cycle_size += 1\n",
    "\n",
    "        # update answer by adding current cycle \n",
    "        if cycle_size > 0: \n",
    "            ans += (cycle_size - 1) \n",
    "    \n",
    "    # return answer \n",
    "    return ans"
   ]
  },
  {
   "cell_type": "code",
   "execution_count": 18,
   "metadata": {},
   "outputs": [
    {
     "name": "stdout",
     "output_type": "stream",
     "text": [
      "229 366 988 475 228 433 744 408 438 276 857 492 860 937 552\n",
      "9\n"
     ]
    }
   ],
   "source": [
    "arr = list(map(int ,input().rstrip().split()))\n",
    "getMinSwaps(arr ,len(arr))"
   ]
  },
  {
   "cell_type": "code",
   "execution_count": 1,
   "metadata": {},
   "outputs": [
    {
     "data": {
      "text/plain": [
       "[(0, 1), (1, 5), (2, 4), (3, 3), (4, 2)]"
      ]
     },
     "execution_count": 1,
     "metadata": {},
     "output_type": "execute_result"
    }
   ],
   "source": [
    "arr = [1 ,5 ,4 ,3 ,2]\n",
    "arrpos = [*enumerate(arr)]\n",
    "arrpos"
   ]
  },
  {
   "cell_type": "code",
   "execution_count": 4,
   "metadata": {},
   "outputs": [
    {
     "data": {
      "text/plain": [
       "[(0, 1), (4, 2), (3, 3), (2, 4), (1, 5)]"
      ]
     },
     "execution_count": 4,
     "metadata": {},
     "output_type": "execute_result"
    }
   ],
   "source": [
    "arrpos.sort(key = lambda it:it[1]) \n",
    "arrpos"
   ]
  },
  {
   "cell_type": "code",
   "execution_count": 9,
   "metadata": {},
   "outputs": [
    {
     "data": {
      "text/plain": [
       "1"
      ]
     },
     "execution_count": 9,
     "metadata": {},
     "output_type": "execute_result"
    }
   ],
   "source": [
    "arrpos[0][1]"
   ]
  },
  {
   "cell_type": "code",
   "execution_count": 5,
   "metadata": {},
   "outputs": [
    {
     "data": {
      "text/plain": [
       "[0, 0, 0, 0, 0]"
      ]
     },
     "execution_count": 5,
     "metadata": {},
     "output_type": "execute_result"
    }
   ],
   "source": [
    "visited = [0] * len(arr)\n",
    "visited"
   ]
  },
  {
   "cell_type": "code",
   "execution_count": 13,
   "metadata": {},
   "outputs": [
    {
     "name": "stdout",
     "output_type": "stream",
     "text": [
      "0\n"
     ]
    }
   ],
   "source": [
    "# Initialize result \n",
    "ans = 0\n",
    "for i in range(len(arr)): \n",
    "\n",
    "    # already swapped or  \n",
    "    # alreadt present at  \n",
    "    # correct position \n",
    "    if visited[i] or arrpos[i][0] == i: \n",
    "        continue\n",
    "\n",
    "    # find number of nodes  \n",
    "    # in this cycle and \n",
    "    # add it to ans \n",
    "    cycle_size = 0\n",
    "    j = i \n",
    "    while not visited[j]: \n",
    "\n",
    "        # mark node as visited \n",
    "        visited[j] = True\n",
    "\n",
    "        # move to next node \n",
    "        j = arrpos[j][0] \n",
    "        cycle_size += 1\n",
    "\n",
    "    # update answer by adding \n",
    "    # current cycle \n",
    "    if cycle_size > 0: \n",
    "        ans += (cycle_size - 1) \n",
    "# return answer \n",
    "print(ans)\n"
   ]
  },
  {
   "cell_type": "code",
   "execution_count": null,
   "metadata": {},
   "outputs": [],
   "source": []
  }
 ],
 "metadata": {
  "kernelspec": {
   "display_name": "Python 3",
   "language": "python",
   "name": "python3"
  },
  "language_info": {
   "codemirror_mode": {
    "name": "ipython",
    "version": 3
   },
   "file_extension": ".py",
   "mimetype": "text/x-python",
   "name": "python",
   "nbconvert_exporter": "python",
   "pygments_lexer": "ipython3",
   "version": "3.7.6"
  }
 },
 "nbformat": 4,
 "nbformat_minor": 2
}
