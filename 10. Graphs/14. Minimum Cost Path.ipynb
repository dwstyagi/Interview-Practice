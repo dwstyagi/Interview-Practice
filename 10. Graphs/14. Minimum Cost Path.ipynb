{
 "cells": [
  {
   "cell_type": "markdown",
   "metadata": {},
   "source": [
    "## function that returns cost of minimum cost path to reach (m, n) from (0, 0)\n",
    "### You can traverse Only right ,down ,diagonally"
   ]
  },
  {
   "cell_type": "code",
   "execution_count": 1,
   "metadata": {},
   "outputs": [],
   "source": [
    "def minCostPath(matrix ,i ,j):\n",
    "    if i < 0 or j < 0:\n",
    "        return float('inf')\n",
    "    \n",
    "    if i == 0 and j == 0:\n",
    "        return matrix[i][j]\n",
    "    \n",
    "    return (matrix[i][j] + min(\n",
    "        min(minCostPath(matrix ,i-1 ,j) ,\n",
    "            minCostPath(matrix ,i ,j-1)) ,\n",
    "            minCostPath(matrix ,i-1 ,j-1)))"
   ]
  },
  {
   "cell_type": "code",
   "execution_count": 2,
   "metadata": {},
   "outputs": [
    {
     "data": {
      "text/plain": [
       "8"
      ]
     },
     "execution_count": 2,
     "metadata": {},
     "output_type": "execute_result"
    }
   ],
   "source": [
    "matrix = [[1 ,2 ,3],[4 ,8 ,2],[1 ,5 ,3]]\n",
    "minCostPath(matrix ,2 ,2)"
   ]
  },
  {
   "cell_type": "code",
   "execution_count": 3,
   "metadata": {},
   "outputs": [],
   "source": [
    "def minCostPath(matrix ,m ,n):\n",
    "    cost = [[0 for _ in range(len(matrix))] for _ in range(len(matrix))]\n",
    "    \n",
    "    cost[0][0] = matrix[0][0]\n",
    "    \n",
    "    for i in range(1 ,m+1):\n",
    "        cost[i][0] = matrix[i][0] + cost[i-1][0]\n",
    "    \n",
    "    for i in range(1 ,n+1):\n",
    "        cost[0][i] = matrix[0][i] + cost[0][i-1]\n",
    "        \n",
    "    for i in range(1,m+1):\n",
    "        for j in range(1,n+1):\n",
    "            cost[i][j] += min(cost[i-1][j-1] ,cost[i-1][j] ,cost[i][j-1]) + matrix[i][j]\n",
    "    \n",
    "    return cost[m][n]"
   ]
  },
  {
   "cell_type": "code",
   "execution_count": 4,
   "metadata": {},
   "outputs": [
    {
     "data": {
      "text/plain": [
       "8"
      ]
     },
     "execution_count": 4,
     "metadata": {},
     "output_type": "execute_result"
    }
   ],
   "source": [
    "minCostPath(matrix ,2 ,2)"
   ]
  },
  {
   "cell_type": "markdown",
   "metadata": {},
   "source": [
    "### Minimum Cost Path with Left, Right, Bottom and Up moves allowed\n",
    "```\n",
    "A cost grid is given in below diagram, minimum \n",
    "cost to reach bottom right from top left \n",
    "is 327 (= 31 + 10 + 13 + 47 + 65 + 12 + 18 + \n",
    "6 + 33 + 11 + 20 + 41 + 20)\n",
    "\n",
    "The chosen least cost path is shown in green.\n",
    "```\n",
    "<img src=\"https://media.geeksforgeeks.org/wp-content/uploads/costMatrix.png\" align='left'>\n",
    "\n",
    "\n",
    "### Hint: Apply Dijkstra's Algorithm"
   ]
  },
  {
   "cell_type": "code",
   "execution_count": 5,
   "metadata": {},
   "outputs": [],
   "source": [
    "def isSafe(matrix ,i ,j):\n",
    "    return (i >= 0 and i < len(matrix) and\n",
    "            j >= 0 and j < len(matrix[i]))"
   ]
  },
  {
   "cell_type": "code",
   "execution_count": 6,
   "metadata": {},
   "outputs": [],
   "source": [
    "def getMin(cell):\n",
    "    minimum = float('inf')\n",
    "    \n",
    "    for i in range(len(cell)):\n",
    "        if minimum >= cell[i][2]:\n",
    "            minimum = cell[i][2]\n",
    "            index = i\n",
    "    \n",
    "    return index"
   ]
  },
  {
   "cell_type": "code",
   "execution_count": 12,
   "metadata": {},
   "outputs": [],
   "source": [
    "def minCost(matrix ,dest):\n",
    "    \n",
    "    cost = [[float('inf') for _ in range(len(matrix))] for _ in range(len(matrix))]\n",
    "    \n",
    "    INF = float('inf')    \n",
    "    cell = []\n",
    "    \n",
    "    # set(cell) contains three values\n",
    "    # 1. x co-ordinate\n",
    "    # 2. y co-ordinate\n",
    "    # 3. cost to cross that cell\n",
    "    \n",
    "    cell.append((0,0,0))\n",
    "    \n",
    "    cost[0][0] = matrix[0][0]\n",
    "    \n",
    "    while cell:\n",
    "        \n",
    "        # get cell with minimum index\n",
    "        index = getMin(cell)\n",
    "        cellInfo = cell.pop(index)\n",
    "        \n",
    "        for i,j in [(0,-1) ,(-1,0) ,(0 ,1) ,(1,0)]:\n",
    "            x = i + cellInfo[0]\n",
    "            y = j + cellInfo[1]\n",
    "            \n",
    "            if not isSafe(matrix ,x ,y):\n",
    "                continue\n",
    "            \n",
    "            # If distance from current cell is smaller, then \n",
    "            # update distance of neighbour cell \n",
    "            if cost[x][y] > cost[cellInfo[0]][cellInfo[1]] + matrix[x][y]:\n",
    "                \n",
    "                # If cell is already there in set, then \n",
    "                # remove its previous entry \n",
    "                if cost[x][y] != INF:\n",
    "                    cell.remove((x,y,cost[x][y]))\n",
    "                \n",
    "                # update the distance and insert new updated \n",
    "                # cell in set\n",
    "                cost[x][y] = cost[cellInfo[0]][cellInfo[1]] + matrix[x][y]\n",
    "                cell.append((x ,y ,cost[x][y]))\n",
    "        \n",
    "    return cost[dest[0]][dest[1]]"
   ]
  },
  {
   "cell_type": "code",
   "execution_count": 13,
   "metadata": {},
   "outputs": [
    {
     "data": {
      "text/plain": [
       "327"
      ]
     },
     "execution_count": 13,
     "metadata": {},
     "output_type": "execute_result"
    }
   ],
   "source": [
    "arr = [[31  ,100 , 65 , 12 , 18],\n",
    "       [10  ,13  , 47 ,157 , 6 ],\n",
    "       [100 ,113 ,174 , 11 , 33], \n",
    "       [88  ,124 , 41 , 20 ,140], \n",
    "       [99  , 32 ,111 , 41 , 20]]\n",
    "\n",
    "minCost(arr ,(4,4))"
   ]
  },
  {
   "cell_type": "code",
   "execution_count": null,
   "metadata": {},
   "outputs": [],
   "source": []
  }
 ],
 "metadata": {
  "kernelspec": {
   "display_name": "Python 3",
   "language": "python",
   "name": "python3"
  },
  "language_info": {
   "codemirror_mode": {
    "name": "ipython",
    "version": 3
   },
   "file_extension": ".py",
   "mimetype": "text/x-python",
   "name": "python",
   "nbconvert_exporter": "python",
   "pygments_lexer": "ipython3",
   "version": "3.7.6"
  }
 },
 "nbformat": 4,
 "nbformat_minor": 2
}