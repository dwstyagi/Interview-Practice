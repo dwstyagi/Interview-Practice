{
 "cells": [
  {
   "cell_type": "code",
   "execution_count": 1,
   "metadata": {},
   "outputs": [],
   "source": [
    "class Graph:\n",
    "    \n",
    "    def __init__(self ,graph = None ,directed = False):\n",
    "        self.graph = graph if graph else {}\n",
    "        self.undirected = True if directed == False else False\n",
    "    \n",
    "    def addVertex(self ,v):\n",
    "        self.graph[v] = set()\n",
    "        \n",
    "    def addEdge(self ,v1 ,v2): \n",
    "        if v1 not in self.graph.keys():\n",
    "            self.graph[v1] = set()\n",
    "        self.graph[v1].add(v2)\n",
    "        \n",
    "        if self.undirected:    \n",
    "            if v2 not in self.graph.keys():\n",
    "                self.graph[v2] = set()\n",
    "            self.graph[v2].add(v1)\n",
    "    \n",
    "    def containEdge(self ,v1 ,v2):\n",
    "        return v1 in self.graph.keys() and v2 in self.graph[v1]\n",
    "    \n",
    "    def containVertex(self ,v):\n",
    "        return v in self.graph.keys()\n",
    "    \n",
    "    def totalVertex(self):\n",
    "        return len(self.graph.keys())\n",
    "    \n",
    "    def printList(self):\n",
    "        size = sorted(self.graph.keys())\n",
    "        for i in size:\n",
    "            print('{}: '.format(i),end=\"\")\n",
    "            if len(self.graph[i]) > 0:\n",
    "                for j in list(self.graph[i])[:-1]:\n",
    "                    print('{}'.format(j),end=\" -> \")\n",
    "                print(list(self.graph[i])[-1])"
   ]
  },
  {
   "cell_type": "markdown",
   "metadata": {},
   "source": [
    "## Using DFS"
   ]
  },
  {
   "cell_type": "code",
   "execution_count": 2,
   "metadata": {},
   "outputs": [],
   "source": [
    "def topoSort(g):\n",
    "    # g = {5: {0, 2}, 4: {0, 1}, 2: {3}, 3: {1}}\n",
    "    visited = set()\n",
    "    stack = []\n",
    "    \n",
    "    for i in g:\n",
    "        if i not in visited:\n",
    "            topoSortUtil(g ,visited ,stack ,i)\n",
    "    \n",
    "    while stack:\n",
    "        print(stack.pop(),end=\" \")"
   ]
  },
  {
   "cell_type": "code",
   "execution_count": 3,
   "metadata": {},
   "outputs": [],
   "source": [
    "def topoSortUtil(g ,visited ,stack ,n):\n",
    "    \n",
    "    visited.add(n)\n",
    "    \n",
    "    if n in g:    \n",
    "        for i in g[n]:\n",
    "            if i not in visited:\n",
    "                topoSortUtil(g ,visited ,stack , i)\n",
    "    \n",
    "    stack.append(n)"
   ]
  },
  {
   "cell_type": "code",
   "execution_count": 4,
   "metadata": {},
   "outputs": [],
   "source": [
    "g = Graph(directed=True)"
   ]
  },
  {
   "cell_type": "markdown",
   "metadata": {},
   "source": [
    "<img src=\"https://media.geeksforgeeks.org/wp-content/cdn-uploads/graph.png\"> "
   ]
  },
  {
   "cell_type": "code",
   "execution_count": 5,
   "metadata": {},
   "outputs": [],
   "source": [
    "g.addEdge(5 ,0)\n",
    "g.addEdge(5 ,2)\n",
    "\n",
    "g.addEdge(4 ,0)\n",
    "g.addEdge(4 ,1)\n",
    "\n",
    "g.addEdge(2 ,3)\n",
    "g.addEdge(3 ,1)"
   ]
  },
  {
   "cell_type": "code",
   "execution_count": 6,
   "metadata": {},
   "outputs": [
    {
     "output_type": "execute_result",
     "data": {
      "text/plain": [
       "{5: {0, 2}, 4: {0, 1}, 2: {3}, 3: {1}}"
      ]
     },
     "metadata": {},
     "execution_count": 6
    }
   ],
   "source": [
    "g.graph"
   ]
  },
  {
   "cell_type": "code",
   "execution_count": 7,
   "metadata": {},
   "outputs": [
    {
     "output_type": "stream",
     "name": "stdout",
     "text": [
      "4 5 2 3 1 0 "
     ]
    }
   ],
   "source": [
    "topoSort(g.graph)"
   ]
  },
  {
   "cell_type": "code",
   "execution_count": 8,
   "metadata": {},
   "outputs": [],
   "source": [
    "g = Graph(directed=True)"
   ]
  },
  {
   "cell_type": "code",
   "execution_count": 9,
   "metadata": {},
   "outputs": [],
   "source": [
    "g.addEdge('A' ,'B')\n",
    "g.addEdge('A' ,'F')\n",
    "\n",
    "g.addEdge('B' ,'H')\n",
    "\n",
    "g.addEdge('G' ,'A')\n",
    "g.addEdge('G' ,'B')\n",
    "g.addEdge('G' ,'C')\n",
    "\n",
    "g.addEdge('D' ,'C')\n",
    "g.addEdge('D' ,'E')\n",
    "g.addEdge('D' ,'H')\n",
    "g.addEdge('D' ,'I')\n",
    "\n",
    "g.addEdge('I' ,'C')\n",
    "\n",
    "g.addEdge('E' ,'I')\n",
    "g.addEdge('E' ,'J')"
   ]
  },
  {
   "cell_type": "code",
   "execution_count": 10,
   "metadata": {},
   "outputs": [
    {
     "output_type": "execute_result",
     "data": {
      "text/plain": [
       "{'A': {'B', 'F'},\n",
       " 'B': {'H'},\n",
       " 'G': {'A', 'B', 'C'},\n",
       " 'D': {'C', 'E', 'H', 'I'},\n",
       " 'I': {'C'},\n",
       " 'E': {'I', 'J'}}"
      ]
     },
     "metadata": {},
     "execution_count": 10
    }
   ],
   "source": [
    "g.graph"
   ]
  },
  {
   "cell_type": "code",
   "execution_count": 11,
   "metadata": {},
   "outputs": [
    {
     "output_type": "stream",
     "name": "stdout",
     "text": [
      "D E J I G C A F B H "
     ]
    }
   ],
   "source": [
    "topoSort(g.graph)"
   ]
  },
  {
   "cell_type": "code",
   "execution_count": 12,
   "metadata": {},
   "outputs": [],
   "source": [
    "g = {0: {1,2} ,2: {1}}"
   ]
  },
  {
   "cell_type": "code",
   "execution_count": 13,
   "metadata": {},
   "outputs": [
    {
     "output_type": "stream",
     "name": "stdout",
     "text": [
      "0 2 1 "
     ]
    }
   ],
   "source": [
    "topoSort(g)"
   ]
  },
  {
   "cell_type": "code",
   "execution_count": 14,
   "metadata": {},
   "outputs": [],
   "source": [
    "g = {0: {1 ,2 ,3 ,6 ,7} ,1: {3 ,4} ,2: {4 ,5} ,3: {4} ,4: {6 ,7} ,5: {6}}"
   ]
  },
  {
   "cell_type": "code",
   "execution_count": 15,
   "metadata": {},
   "outputs": [
    {
     "output_type": "stream",
     "name": "stdout",
     "text": [
      "0 2 5 1 3 4 7 6 "
     ]
    }
   ],
   "source": [
    "topoSort(g)"
   ]
  },
  {
   "cell_type": "markdown",
   "metadata": {},
   "source": [
    "## Using BFS"
   ]
  },
  {
   "cell_type": "raw",
   "metadata": {},
   "source": [
    "Kahn's Algorithm:\n",
    "Steps involved in finding the topological ordering of a DAG:\n",
    "    Step-1: Compute in-degree (number of incoming edges) for each of the vertex present in the DAG and initialize the count of             visited nodes as 0.\n",
    "    Step-2: Pick all the vertices with in-degree as 0 and add them into a queue (Enqueue operation)\n",
    "    Step-3: Remove a vertex from the queue (Dequeue operation) and then.\n",
    "            Added to the topo_sort list(output list)\n",
    "            Increment count of visited nodes by 1.\n",
    "            Decrease in-degree by 1 for all its neighboring nodes.\n",
    "            If in-degree of a neighboring nodes is reduced to zero, then add it to the queue.\n",
    "    Step 4: Repeat Step 3 until the queue is empty.\n",
    "    Step 5: If count of visited nodes is not equal to the number of nodes in the graph then the topological sort is not                     possible for the given graph."
   ]
  },
  {
   "cell_type": "code",
   "execution_count": 16,
   "metadata": {},
   "outputs": [],
   "source": [
    "def topoSort(g):\n",
    "    \n",
    "    in_degree = [0] * (max(g.keys())+1)\n",
    "    \n",
    "    for i in g:\n",
    "        for j in g[i]:\n",
    "            in_degree[j] += 1\n",
    "    \n",
    "    # Topological Sort List\n",
    "    top_sort = []\n",
    "    \n",
    "    # count of visited node\n",
    "    count = 0\n",
    "            \n",
    "    # add vertices with in_degree zero\n",
    "    queue = []\n",
    "    for i in range(len(in_degree)):\n",
    "        if in_degree[i] == 0:\n",
    "            queue.append(i)\n",
    "    \n",
    "    # Remove a vertex from the queue (Dequeue operation) and then.\n",
    "    # Added to the topo_sort list(output list)\n",
    "    # Increment count of visited nodes by 1.\n",
    "    # Decrease in-degree by 1 for all its neighboring nodes.\n",
    "    # If in-degree of a neighboring nodes is reduced to zero, then add it to the queue.         \n",
    "    while queue:\n",
    "        vertex = queue.pop(0)\n",
    "        top_sort.append(vertex)\n",
    "        \n",
    "        if vertex not in g:\n",
    "            g[vertex] = {}\n",
    "        \n",
    "        for i in g[vertex]:\n",
    "            in_degree[i] -= 1\n",
    "            if in_degree[i] == 0:\n",
    "                queue.append(i)\n",
    "                \n",
    "        count += 1\n",
    "    \n",
    "    # If count of visited nodes is not equal \n",
    "    # to the number of nodes in the graph \n",
    "    # then the topological sort is not \n",
    "    # possible for the given graph. \n",
    "    return top_sort if count == (max(g.keys())+1) else 0"
   ]
  },
  {
   "cell_type": "code",
   "execution_count": 17,
   "metadata": {},
   "outputs": [],
   "source": [
    "from collections import defaultdict\n",
    "g = defaultdict(set)\n",
    "g = {5: {0, 2}, 4: {0, 1}, 2: {3}, 3: {1}}"
   ]
  },
  {
   "cell_type": "code",
   "execution_count": 18,
   "metadata": {},
   "outputs": [
    {
     "output_type": "execute_result",
     "data": {
      "text/plain": [
       "[4, 5, 0, 2, 3, 1]"
      ]
     },
     "metadata": {},
     "execution_count": 18
    }
   ],
   "source": [
    "topoSort(g)"
   ]
  },
  {
   "cell_type": "code",
   "execution_count": 19,
   "metadata": {},
   "outputs": [
    {
     "output_type": "execute_result",
     "data": {
      "text/plain": [
       "[0, 0, 0, 0, 0, 0]"
      ]
     },
     "metadata": {},
     "execution_count": 19
    }
   ],
   "source": [
    "[0] * (max(g.keys())+1)"
   ]
  },
  {
   "cell_type": "code",
   "execution_count": null,
   "metadata": {},
   "outputs": [],
   "source": []
  }
 ],
 "metadata": {
  "kernelspec": {
   "name": "python395jvsc74a57bd063fd5069d213b44bf678585dea6b12cceca9941eaf7f819626cde1f2670de90d",
   "display_name": "Python 3.9.5 64-bit"
  },
  "language_info": {
   "codemirror_mode": {
    "name": "ipython",
    "version": 3
   },
   "file_extension": ".py",
   "mimetype": "text/x-python",
   "name": "python",
   "nbconvert_exporter": "python",
   "pygments_lexer": "ipython3",
   "version": "3.9.5"
  },
  "metadata": {
   "interpreter": {
    "hash": "63fd5069d213b44bf678585dea6b12cceca9941eaf7f819626cde1f2670de90d"
   }
  }
 },
 "nbformat": 4,
 "nbformat_minor": 2
}