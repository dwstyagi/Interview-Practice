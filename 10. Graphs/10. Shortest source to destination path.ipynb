{
 "cells": [
  {
   "cell_type": "markdown",
   "metadata": {},
   "source": [
    "```\n",
    "arr = [[1 ,0 ,0 ,0], \n",
    "       [1 ,1 ,0 ,1], \n",
    "       [0 ,1 ,1 ,1]]\n",
    "\n",
    "Source = {0, 0}\n",
    "Destination = {2, 3}\n",
    "Path : 5\n",
    "\n",
    "arr = [[1 ,1 ,1 ,1], \n",
    "       [0 ,0 ,0 ,1], \n",
    "       [0 ,0 ,0 ,1]]\n",
    "\n",
    "Source = {0, 0}\n",
    "Destination = {0, 3}\n",
    "Path : 3\n",
    "\n",
    "mat[ROW][COL]  = [[1, 0, 1, 1, 1, 1, 0, 1, 1, 1 ],\n",
    "                  [1, 0, 1, 0, 1, 1, 1, 0, 1, 1 ],\n",
    "                  [1, 1, 1, 0, 1, 1, 0, 1, 0, 1 ],\n",
    "                  [0, 0, 0, 0, 1, 0, 0, 0, 0, 1 ],\n",
    "                  [1, 1, 1, 0, 1, 1, 1, 0, 1, 0 ],\n",
    "                  [1, 0, 1, 1, 1, 1, 0, 1, 0, 0 ],\n",
    "                  [1, 0, 0, 0, 0, 0, 0, 0, 0, 1 ],\n",
    "                  [1, 0, 1, 1, 1, 1, 0, 1, 1, 1 ],\n",
    "                  [1, 1, 0, 0, 0, 0, 1, 0, 0, 1 ]]\n",
    "\n",
    "Source = {0, 0}\n",
    "Destination = {3, 4}\n",
    "Path : 11\n",
    "```"
   ]
  },
  {
   "cell_type": "code",
   "execution_count": 1,
   "metadata": {},
   "outputs": [],
   "source": [
    "def isSafe(matrix ,i ,j):\n",
    "    return (i >= 0 and i < len(matrix) and\n",
    "            j >= 0 and j < len(matrix[i]))"
   ]
  },
  {
   "cell_type": "code",
   "execution_count": 2,
   "metadata": {},
   "outputs": [],
   "source": [
    "def shortestPath(matrix ,src ,dest):\n",
    "    if not matrix[src[0]][src[1]] or not matrix[dest[0]][dest[1]]:\n",
    "        return -1\n",
    "    \n",
    "    rows = len(matrix)\n",
    "    cols = len(matrix[0])\n",
    "    \n",
    "    visited = [[0 for _ in range(len(matrix[0]))] for _ in range(len(matrix))]\n",
    "    \n",
    "    # mark as source as visited\n",
    "    visited[src[0]][src[1]] = 1\n",
    "    \n",
    "    node = (src ,0)\n",
    "    Queue = []\n",
    "    \n",
    "    Queue.append(node)\n",
    "    \n",
    "    while Queue:\n",
    "        curr = Queue.pop(0)\n",
    "        \n",
    "        # check if current coordinate is \n",
    "        # destination or not\n",
    "        co_or = curr[0]\n",
    "        if co_or == dest:\n",
    "            return curr[1]\n",
    "        \n",
    "        for i in [[0,-1],[-1,0],[0,1],[1,0]]:\n",
    "            row = co_or[0] + i[0]\n",
    "            col = co_or[1] + i[1]\n",
    "            \n",
    "            if (isSafe(matrix ,row ,col) and \n",
    "                matrix[row][col] and \n",
    "                not visited[row][col]):\n",
    "                visited[row][col] = 1\n",
    "                cell = ((row,col) ,curr[1]+1)\n",
    "                Queue.append(cell)"
   ]
  },
  {
   "cell_type": "code",
   "execution_count": 3,
   "metadata": {},
   "outputs": [
    {
     "data": {
      "text/plain": [
       "11"
      ]
     },
     "execution_count": 3,
     "metadata": {},
     "output_type": "execute_result"
    }
   ],
   "source": [
    "matrix = [[1, 0, 1, 1, 1, 1, 0, 1, 1, 1 ],\n",
    "          [1, 0, 1, 0, 1, 1, 1, 0, 1, 1 ],\n",
    "          [1, 1, 1, 0, 1, 1, 0, 1, 0, 1 ],\n",
    "          [0, 0, 0, 0, 1, 0, 0, 0, 0, 1 ],\n",
    "          [1, 1, 1, 0, 1, 1, 1, 0, 1, 0 ],\n",
    "          [1, 0, 1, 1, 1, 1, 0, 1, 0, 0 ],\n",
    "          [1, 0, 0, 0, 0, 0, 0, 0, 0, 1 ],\n",
    "          [1, 0, 1, 1, 1, 1, 0, 1, 1, 1 ],\n",
    "          [1, 1, 0, 0, 0, 0, 1, 0, 0, 1 ]]\n",
    "\n",
    "src = (0,0)\n",
    "des = (3,4)\n",
    "shortestPath(matrix ,src ,des)"
   ]
  },
  {
   "cell_type": "code",
   "execution_count": 5,
   "metadata": {},
   "outputs": [
    {
     "data": {
      "text/plain": [
       "[[1, 0, 0, 0], [1, 1, 0, 1], [0, 1, 1, 1]]"
      ]
     },
     "execution_count": 5,
     "metadata": {},
     "output_type": "execute_result"
    }
   ],
   "source": [
    "arr = [1 ,0 ,0 ,0 ,1 ,1 ,0 ,1 ,0 ,1 ,1 ,1]\n",
    "mat = []\n",
    "for i in range(0 ,3*4 ,4):\n",
    "    mat.append(arr[i:i+4])\n",
    "mat"
   ]
  },
  {
   "cell_type": "code",
   "execution_count": null,
   "metadata": {},
   "outputs": [],
   "source": []
  }
 ],
 "metadata": {
  "kernelspec": {
   "display_name": "Python 3",
   "language": "python",
   "name": "python3"
  },
  "language_info": {
   "codemirror_mode": {
    "name": "ipython",
    "version": 3
   },
   "file_extension": ".py",
   "mimetype": "text/x-python",
   "name": "python",
   "nbconvert_exporter": "python",
   "pygments_lexer": "ipython3",
   "version": "3.7.3"
  }
 },
 "nbformat": 4,
 "nbformat_minor": 2
}