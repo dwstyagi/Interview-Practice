{
 "cells": [
  {
   "cell_type": "markdown",
   "metadata": {},
   "source": [
    "## using Adjacency Matrix"
   ]
  },
  {
   "cell_type": "code",
   "execution_count": 1,
   "metadata": {},
   "outputs": [],
   "source": [
    "class Graph:\n",
    "    \n",
    "    def __init__(self ,graph = None):\n",
    "        self.graph = graph if graph else {}\n",
    "    \n",
    "    def addVertex(self ,v):\n",
    "        self.graph[v] = set()\n",
    "        \n",
    "    def addEdge(self ,v1 ,v2): \n",
    "        if v1 not in self.graph.keys():\n",
    "            self.graph[v1] = set()\n",
    "        self.graph[v1].add(v2)\n",
    "        \n",
    "        if v2 not in self.graph.keys():\n",
    "            self.graph[v2] = set()\n",
    "        self.graph[v2].add(v1)\n",
    "        \n",
    "    def containEdge(self ,v1 ,v2):\n",
    "        return v1 in self.graph.keys() and v2 in self.graph[v1]\n",
    "    \n",
    "    def containVertex(self ,v):\n",
    "        return v in self.graph.keys()\n",
    "    \n",
    "    def Vertices(self):\n",
    "        return sorted(self.graph.keys())\n",
    "    \n",
    "    def printMatrix(self):\n",
    "        \n",
    "        size = sorted(self.graph.keys())\n",
    "        \n",
    "        for i in size:\n",
    "            for j in size:\n",
    "                if j in self.graph[i]:\n",
    "                    print('{:3}'.format(1),end=\"\")\n",
    "                else:\n",
    "                    print('{:3}'.format(0),end=\"\")\n",
    "            print()"
   ]
  },
  {
   "cell_type": "code",
   "execution_count": 2,
   "metadata": {},
   "outputs": [],
   "source": [
    "g = Graph()"
   ]
  },
  {
   "cell_type": "code",
   "execution_count": 3,
   "metadata": {},
   "outputs": [],
   "source": [
    "g.addEdge(0 ,4)\n",
    "g.addEdge(0 ,3)\n",
    "g.addEdge(0 ,1)\n",
    "\n",
    "g.addEdge(1 ,2)\n",
    "\n",
    "g.addEdge(3 ,1)\n",
    "g.addEdge(3 ,2)\n",
    "g.addEdge(3 ,4)"
   ]
  },
  {
   "cell_type": "code",
   "execution_count": 4,
   "metadata": {},
   "outputs": [
    {
     "data": {
      "text/plain": [
       "{0: {1, 3, 4}, 4: {0, 3}, 3: {0, 1, 2, 4}, 1: {0, 2, 3}, 2: {1, 3}}"
      ]
     },
     "execution_count": 4,
     "metadata": {},
     "output_type": "execute_result"
    }
   ],
   "source": [
    "g.graph"
   ]
  },
  {
   "cell_type": "code",
   "execution_count": 5,
   "metadata": {},
   "outputs": [
    {
     "name": "stdout",
     "output_type": "stream",
     "text": [
      "  0  1  0  1  1\n",
      "  1  0  1  1  0\n",
      "  0  1  0  1  0\n",
      "  1  1  1  0  1\n",
      "  1  0  0  1  0\n"
     ]
    }
   ],
   "source": [
    "g.printMatrix()"
   ]
  },
  {
   "cell_type": "code",
   "execution_count": 6,
   "metadata": {},
   "outputs": [
    {
     "data": {
      "text/plain": [
       "[0, 1, 2, 3, 4]"
      ]
     },
     "execution_count": 6,
     "metadata": {},
     "output_type": "execute_result"
    }
   ],
   "source": [
    "g.Vertices()"
   ]
  },
  {
   "cell_type": "markdown",
   "metadata": {},
   "source": [
    "## Using Adjacency List"
   ]
  },
  {
   "cell_type": "code",
   "execution_count": 7,
   "metadata": {},
   "outputs": [],
   "source": [
    "class Graph:\n",
    "    \n",
    "    def __init__(self ,graph = None):\n",
    "        self.graph = graph if graph else {}\n",
    "    \n",
    "    def addVertex(self ,v):\n",
    "        self.graph[v] = set()\n",
    "        \n",
    "    def addEdge(self ,v1 ,v2): \n",
    "        if v1 not in self.graph.keys():\n",
    "            self.graph[v1] = set()\n",
    "        self.graph[v1].add(v2)\n",
    "        \n",
    "        if v2 not in self.graph.keys():\n",
    "            self.graph[v2] = set()\n",
    "        self.graph[v2].add(v1)\n",
    "    \n",
    "    def containEdge(self ,v1 ,v2):\n",
    "        return v1 in self.graph.keys() and v2 in self.graph[v1]\n",
    "    \n",
    "    def containVertex(self ,v):\n",
    "        return v in self.graph.keys()\n",
    "    \n",
    "    def totalVertex(self):\n",
    "        return len(self.graph.keys())\n",
    "    \n",
    "    def printList(self):\n",
    "        size = sorted(self.graph.keys())\n",
    "        for i in size:\n",
    "            print('{}: '.format(i),end=\"\")\n",
    "            if len(self.graph[i]) > 0:\n",
    "                for j in list(self.graph[i])[:-1]:\n",
    "                    print('{}'.format(j),end=\" -> \")\n",
    "                print(list(self.graph[i])[-1])"
   ]
  },
  {
   "cell_type": "code",
   "execution_count": 8,
   "metadata": {},
   "outputs": [],
   "source": [
    "g = Graph()"
   ]
  },
  {
   "cell_type": "code",
   "execution_count": 9,
   "metadata": {},
   "outputs": [
    {
     "data": {
      "text/plain": [
       "{0: {1, 3, 4}, 4: {0, 3}, 3: {0, 1, 2, 4}, 1: {0, 2, 3}, 2: {1, 3}}"
      ]
     },
     "execution_count": 9,
     "metadata": {},
     "output_type": "execute_result"
    }
   ],
   "source": [
    "g.addEdge(0 ,4)\n",
    "g.addEdge(0 ,3)\n",
    "g.addEdge(0 ,1)\n",
    "\n",
    "g.addEdge(1 ,2)\n",
    "\n",
    "g.addEdge(3 ,1)\n",
    "g.addEdge(3 ,2)\n",
    "g.addEdge(3 ,4)\n",
    "\n",
    "g.graph"
   ]
  },
  {
   "cell_type": "code",
   "execution_count": 10,
   "metadata": {},
   "outputs": [
    {
     "name": "stdout",
     "output_type": "stream",
     "text": [
      "0: 1 -> 3 -> 4\n",
      "1: 0 -> 2 -> 3\n",
      "2: 1 -> 3\n",
      "3: 0 -> 1 -> 2 -> 4\n",
      "4: 0 -> 3\n"
     ]
    }
   ],
   "source": [
    "g.printList()"
   ]
  },
  {
   "cell_type": "code",
   "execution_count": null,
   "metadata": {},
   "outputs": [],
   "source": []
  }
 ],
 "metadata": {
  "kernelspec": {
   "name": "python395jvsc74a57bd063fd5069d213b44bf678585dea6b12cceca9941eaf7f819626cde1f2670de90d",
   "display_name": "Python 3.9.5 64-bit"
  },
  "language_info": {
   "codemirror_mode": {
    "name": "ipython",
    "version": 3
   },
   "file_extension": ".py",
   "mimetype": "text/x-python",
   "name": "python",
   "nbconvert_exporter": "python",
   "pygments_lexer": "ipython3",
   "version": "3.9.5"
  },
  "metadata": {
   "interpreter": {
    "hash": "63fd5069d213b44bf678585dea6b12cceca9941eaf7f819626cde1f2670de90d"
   }
  }
 },
 "nbformat": 4,
 "nbformat_minor": 2
}