{
 "cells": [
  {
   "cell_type": "markdown",
   "metadata": {},
   "source": [
    "## In Directed Graph ( Also applicable using Kahn's Algorithm)"
   ]
  },
  {
   "cell_type": "code",
   "execution_count": 1,
   "metadata": {},
   "outputs": [],
   "source": [
    "def isCyclic(g):\n",
    "    visited = set()\n",
    "    stack = []\n",
    "    \n",
    "    for i in g:\n",
    "        if i is not visited and isCyclicUtil(g ,visited ,stack ,i):\n",
    "            return True\n",
    "    \n",
    "    return False"
   ]
  },
  {
   "cell_type": "code",
   "execution_count": 2,
   "metadata": {},
   "outputs": [],
   "source": [
    "def isCyclicUtil(g ,visited ,stack ,v):\n",
    "    visited.add(v)\n",
    "    stack.append(v)\n",
    "\n",
    "    if v in g:\n",
    "        for i in g[v]:\n",
    "            if i not in visited: \n",
    "                if isCyclicUtil(g ,visited ,stack ,i):\n",
    "                    return True\n",
    "            elif i in stack:\n",
    "                return True\n",
    "\n",
    "    stack.pop()\n",
    "    return False"
   ]
  },
  {
   "cell_type": "markdown",
   "metadata": {},
   "source": [
    "<img src=\"https://media.geeksforgeeks.org/wp-content/uploads/20200429134027/Untitled-Diagram1411.png\" >"
   ]
  },
  {
   "cell_type": "code",
   "execution_count": 3,
   "metadata": {},
   "outputs": [
    {
     "data": {
      "text/plain": [
       "True"
      ]
     },
     "execution_count": 3,
     "metadata": {},
     "output_type": "execute_result"
    }
   ],
   "source": [
    "g = {0: {1 ,2} ,1: {2} ,2: {0 ,3} ,3: {3}}\n",
    "isCyclic(g)"
   ]
  },
  {
   "cell_type": "code",
   "execution_count": 4,
   "metadata": {},
   "outputs": [
    {
     "data": {
      "text/plain": [
       "False"
      ]
     },
     "execution_count": 4,
     "metadata": {},
     "output_type": "execute_result"
    }
   ],
   "source": [
    "g = {0: {1 ,2} ,1: {2} ,2: {3}}\n",
    "isCyclic(g)"
   ]
  },
  {
   "cell_type": "markdown",
   "metadata": {},
   "source": [
    "## Kahn's Algorithm Using BFS"
   ]
  },
  {
   "cell_type": "code",
   "execution_count": 5,
   "metadata": {},
   "outputs": [],
   "source": [
    "def isCyclic(g ,n):\n",
    "    # n is no of vertices\n",
    "    in_degree = [0] * n\n",
    "    \n",
    "    for i in g:\n",
    "        for j in g[i]:\n",
    "            in_degree[j] += 1\n",
    "    \n",
    "    # Number of visited nodes as 0\n",
    "    count = 1\n",
    "    \n",
    "    # find vertices with zero degree\n",
    "    Queue = []\n",
    "    for i in in_degree:\n",
    "        if i == 0:\n",
    "            Queue.append(in_degree.index(i))\n",
    "    \n",
    "    # Remove a vertex from the queue (Dequeue operation) and then.\n",
    "    # Increment count of visited nodes by 1.\n",
    "    # Decrease in-degree by 1 for all its neighboring nodes.\n",
    "    # If in-degree of a neighboring nodes is reduced to zero, then add it to the queue.\n",
    "    while Queue:\n",
    "        vertex = Queue.pop(0)\n",
    "        if vertex in g:\n",
    "            for i in g[vertex]:\n",
    "                in_degree[i] -= 1\n",
    "                if in_degree[i] == 0:\n",
    "                    Queue.append(i)\n",
    "            count += 1\n",
    "    \n",
    "    return True if count != n else False"
   ]
  },
  {
   "cell_type": "code",
   "execution_count": 6,
   "metadata": {},
   "outputs": [
    {
     "data": {
      "text/plain": [
       "True"
      ]
     },
     "execution_count": 6,
     "metadata": {},
     "output_type": "execute_result"
    }
   ],
   "source": [
    "g = {0: {1 ,2} ,1: {2} ,2: {0 ,3} ,3: {3}}\n",
    "isCyclic(g ,4)"
   ]
  },
  {
   "cell_type": "code",
   "execution_count": 7,
   "metadata": {},
   "outputs": [
    {
     "data": {
      "text/plain": [
       "False"
      ]
     },
     "execution_count": 7,
     "metadata": {},
     "output_type": "execute_result"
    }
   ],
   "source": [
    "g = {0: {1 ,2} ,1: {2} ,2: {3}}\n",
    "isCyclic(g ,4)"
   ]
  },
  {
   "cell_type": "code",
   "execution_count": 8,
   "metadata": {},
   "outputs": [
    {
     "data": {
      "text/plain": [
       "False"
      ]
     },
     "execution_count": 8,
     "metadata": {},
     "output_type": "execute_result"
    }
   ],
   "source": [
    "#g = {0: {1 ,2} ,1: {2} ,2: {0 ,3} ,3: {3}}\n",
    "g = {0: {1 ,2} ,1: {2}}\n",
    "isCyclic(g ,3)"
   ]
  },
  {
   "cell_type": "markdown",
   "metadata": {},
   "source": [
    "### Cycle using colors\n",
    "\n",
    "Algorithm:\n",
    "\n",
    "1. Create a recursive function that takes the edge and color array (this can be also kept as a global variable)\n",
    "2. Mark the current node as GREY.\n",
    "3. Traverse all the adjacent nodes and if any node is marked GREY then return true as a loop is bound to exist.\n",
    "4. If any adjacent vertex is WHITE then call the recursive function for that node. If the function returns true. Return true.\n",
    "5. If no adjacent node is grey or has not returned true then mark the current Node as BLACK and return false."
   ]
  },
  {
   "cell_type": "code",
   "execution_count": 9,
   "metadata": {},
   "outputs": [],
   "source": [
    "def isCyclic(g ,n):\n",
    "    '''\n",
    "    White Color : Unvisited Node\n",
    "    Grey Color  : Visiting Node\n",
    "    Black Color : Visited Node\n",
    "    '''\n",
    "    \n",
    "    color = ['W'] * n\n",
    "    \n",
    "    for i in range(n):\n",
    "        if color[i] == 'W' and isCyclicUtil(g ,i ,color):\n",
    "            return True\n",
    "    \n",
    "    return False"
   ]
  },
  {
   "cell_type": "code",
   "execution_count": 10,
   "metadata": {},
   "outputs": [],
   "source": [
    "def isCyclicUtil(g ,v ,color):\n",
    "    color[v] = 'G'\n",
    "    \n",
    "    if v in g:\n",
    "        for i in g[v]:\n",
    "            if color[i] == 'G':\n",
    "                return True\n",
    "\n",
    "            elif color[i] == 'W' and isCyclicUtil(g ,i ,color):\n",
    "                return True\n",
    "\n",
    "    color[v] = 'B'\n",
    "    return False"
   ]
  },
  {
   "cell_type": "code",
   "execution_count": 11,
   "metadata": {},
   "outputs": [
    {
     "data": {
      "text/plain": [
       "True"
      ]
     },
     "execution_count": 11,
     "metadata": {},
     "output_type": "execute_result"
    }
   ],
   "source": [
    "g = {0: {1 ,2} ,1: {2} ,2: {0 ,3} ,3: {3}}\n",
    "isCyclic(g ,4)"
   ]
  },
  {
   "cell_type": "code",
   "execution_count": 12,
   "metadata": {},
   "outputs": [
    {
     "data": {
      "text/plain": [
       "False"
      ]
     },
     "execution_count": 12,
     "metadata": {},
     "output_type": "execute_result"
    }
   ],
   "source": [
    "g = {0: {1 ,2} ,1: {2} ,2: {3}}\n",
    "isCyclic(g ,4)"
   ]
  },
  {
   "cell_type": "code",
   "execution_count": 13,
   "metadata": {},
   "outputs": [
    {
     "data": {
      "text/plain": [
       "True"
      ]
     },
     "execution_count": 13,
     "metadata": {},
     "output_type": "execute_result"
    }
   ],
   "source": [
    "g = {0: {1 ,2} ,1: {2} ,2: {0 ,3} ,3: {3}}\n",
    "isCyclic(g ,4)"
   ]
  },
  {
   "cell_type": "code",
   "execution_count": 14,
   "metadata": {},
   "outputs": [
    {
     "data": {
      "text/plain": [
       "False"
      ]
     },
     "execution_count": 14,
     "metadata": {},
     "output_type": "execute_result"
    }
   ],
   "source": [
    "#g = {0: {1 ,2} ,1: {2} ,2: {0 ,3} ,3: {3}}\n",
    "g = {0: {1 ,2} ,1: {2}}\n",
    "isCyclic(g ,3)"
   ]
  },
  {
   "cell_type": "markdown",
   "metadata": {},
   "source": [
    "## UnDirected Graph"
   ]
  },
  {
   "cell_type": "code",
   "execution_count": 15,
   "metadata": {},
   "outputs": [],
   "source": [
    "def isCyclic(g):\n",
    "    visited = set()\n",
    "    \n",
    "    for i in g:\n",
    "        if i not in visited and isCyclicUtil(g ,visited ,i ,-1):\n",
    "            return True\n",
    "    \n",
    "    return False"
   ]
  },
  {
   "cell_type": "code",
   "execution_count": 16,
   "metadata": {},
   "outputs": [],
   "source": [
    "def isCyclicUtil(g ,visited ,v ,parent):\n",
    "    visited.add(v)\n",
    "    \n",
    "    for i in g[v]:\n",
    "        if i not in visited:\n",
    "            if isCyclicUtil(g ,visited ,i ,v):\n",
    "                return True\n",
    "\n",
    "        elif i != parent:\n",
    "            return True\n",
    "    return False"
   ]
  },
  {
   "cell_type": "markdown",
   "metadata": {},
   "source": [
    "<img src=\"https://media.geeksforgeeks.org/wp-content/cdn-uploads/cycleGraph.png\" width=\"300\" align=\"left\">"
   ]
  },
  {
   "cell_type": "code",
   "execution_count": 17,
   "metadata": {},
   "outputs": [
    {
     "data": {
      "text/plain": [
       "True"
      ]
     },
     "execution_count": 17,
     "metadata": {},
     "output_type": "execute_result"
    }
   ],
   "source": [
    "g = {0: {1 ,2 ,3} ,1: {0 ,2} ,2: {0 ,1} ,3: {0 ,4} ,4: {3}}\n",
    "isCyclic(g)"
   ]
  },
  {
   "cell_type": "code",
   "execution_count": 18,
   "metadata": {},
   "outputs": [
    {
     "data": {
      "text/plain": [
       "False"
      ]
     },
     "execution_count": 18,
     "metadata": {},
     "output_type": "execute_result"
    }
   ],
   "source": [
    "g = {0: {1 ,3} ,1: {0 ,2} ,2: {1} ,3: {0 ,4} ,4: {3}}\n",
    "isCyclic(g)"
   ]
  },
  {
   "cell_type": "markdown",
   "metadata": {},
   "source": [
    "                0\n",
    "              /   \\\n",
    "             1     2\n",
    "                 /   \\\n",
    "                3 --- 4 "
   ]
  },
  {
   "cell_type": "code",
   "execution_count": 19,
   "metadata": {},
   "outputs": [
    {
     "data": {
      "text/plain": [
       "True"
      ]
     },
     "execution_count": 19,
     "metadata": {},
     "output_type": "execute_result"
    }
   ],
   "source": [
    "g = {0:{1,2} ,1:{0} ,2:{0,3,4} ,3:{2,4} ,4:{3,2}}\n",
    "isCyclic(g)"
   ]
  },
  {
   "cell_type": "code",
   "execution_count": 20,
   "metadata": {},
   "outputs": [
    {
     "data": {
      "text/plain": [
       "False"
      ]
     },
     "execution_count": 20,
     "metadata": {},
     "output_type": "execute_result"
    }
   ],
   "source": [
    "g = {0:{1,2} ,1:{0} ,2:{0,3,4} ,3:{2} ,4:{2}}\n",
    "isCyclic(g)"
   ]
  },
  {
   "cell_type": "markdown",
   "metadata": {},
   "source": [
    "### Disjoint set using union"
   ]
  },
  {
   "cell_type": "code",
   "execution_count": 21,
   "metadata": {},
   "outputs": [],
   "source": [
    "from collections import defaultdict\n",
    "class Graph:\n",
    "    def __init__(self ,V):\n",
    "        self.V = V\n",
    "        self.graph = defaultdict(set)\n",
    "    \n",
    "    def addEdge(self ,v1 ,v2):\n",
    "        self.graph[v1].add(v2)"
   ]
  },
  {
   "cell_type": "code",
   "execution_count": 22,
   "metadata": {},
   "outputs": [],
   "source": [
    "g = Graph(3) \n",
    "g.addEdge(0, 1) \n",
    "g.addEdge(1, 2) \n",
    "g.addEdge(2, 0)"
   ]
  },
  {
   "cell_type": "code",
   "execution_count": 23,
   "metadata": {},
   "outputs": [],
   "source": [
    "def find(parent ,i):\n",
    "    if parent[i] == -1:\n",
    "        return i\n",
    "    return find(parent ,parent[i])"
   ]
  },
  {
   "cell_type": "code",
   "execution_count": 24,
   "metadata": {},
   "outputs": [],
   "source": [
    "def union(parent ,v1 ,v2):\n",
    "    v1_parent = find(parent ,v1)\n",
    "    v2_parent = find(parent ,v2)\n",
    "    parent[v1_parent] = v2_parent"
   ]
  },
  {
   "cell_type": "code",
   "execution_count": 25,
   "metadata": {},
   "outputs": [],
   "source": [
    "def isCyclic(graph ,n):\n",
    "    parent = [-1 for _ in range(n)]\n",
    "    \n",
    "    for i in graph:\n",
    "        for j in graph[i]:\n",
    "            if find(parent ,i) == find(parent ,j):\n",
    "                return 1\n",
    "            else:\n",
    "                union(parent ,i ,j)\n",
    "    return 0"
   ]
  },
  {
   "cell_type": "code",
   "execution_count": 26,
   "metadata": {},
   "outputs": [
    {
     "data": {
      "text/plain": [
       "0"
      ]
     },
     "execution_count": 26,
     "metadata": {},
     "output_type": "execute_result"
    }
   ],
   "source": [
    "g = {0: {1 ,2} ,2: {3 ,4}}\n",
    "isCyclic(g ,5)"
   ]
  },
  {
   "cell_type": "code",
   "execution_count": 27,
   "metadata": {},
   "outputs": [
    {
     "data": {
      "text/plain": [
       "1"
      ]
     },
     "execution_count": 27,
     "metadata": {},
     "output_type": "execute_result"
    }
   ],
   "source": [
    "g = {0: {1 ,2} ,2: {3 ,4} ,3: {4}}\n",
    "isCyclic(g ,5)"
   ]
  },
  {
   "cell_type": "markdown",
   "metadata": {},
   "source": [
    "### Using BFS"
   ]
  },
  {
   "cell_type": "code",
   "execution_count": 28,
   "metadata": {},
   "outputs": [],
   "source": [
    "from collections import defaultdict\n",
    "class Graph:\n",
    "    def __init__(self):        \n",
    "        self.graph = defaultdict(set)\n",
    "    \n",
    "    def addEdge(self ,v1 ,v2):\n",
    "        self.graph[v1].add(v2)\n",
    "        self.graph[v2].add(v1)"
   ]
  },
  {
   "cell_type": "code",
   "execution_count": 29,
   "metadata": {},
   "outputs": [],
   "source": [
    "g = {0: {1 ,2 ,3} ,1: {0 ,2} ,2: {0 ,1} ,3: {0 ,4} ,4: {3}}"
   ]
  },
  {
   "cell_type": "code",
   "execution_count": 30,
   "metadata": {},
   "outputs": [],
   "source": [
    "def isCyclic(graph ,n):\n",
    "    \n",
    "    visited = [0 for _ in range(n)]\n",
    "    for i in range(n):\n",
    "        if isCyclicUtil(i ,graph ,visited ,n):\n",
    "            return True\n",
    "    return False"
   ]
  },
  {
   "cell_type": "code",
   "execution_count": 31,
   "metadata": {},
   "outputs": [],
   "source": [
    "def isCyclicUtil(v ,graph ,visited ,n):\n",
    "    \n",
    "    parent = [-1 for _ in range(n)]\n",
    "    \n",
    "    Queue = []\n",
    "    \n",
    "    visited[v] = 1\n",
    "    Queue.append(v)\n",
    "    \n",
    "    while Queue:\n",
    "        ver = Queue.pop(0)\n",
    "        \n",
    "        for i in graph[ver]:\n",
    "\n",
    "            if not visited[i]:\n",
    "                visited[i] = 1\n",
    "                Queue.append(i)\n",
    "                parent[i] = ver\n",
    "            \n",
    "            elif parent[ver] != i:\n",
    "                return True\n",
    "\n",
    "    return False   "
   ]
  },
  {
   "cell_type": "code",
   "execution_count": 32,
   "metadata": {},
   "outputs": [
    {
     "data": {
      "text/plain": [
       "True"
      ]
     },
     "execution_count": 32,
     "metadata": {},
     "output_type": "execute_result"
    }
   ],
   "source": [
    "g = {0: [1 ,2] ,1: [0] ,2: [0 ,3 ,4] ,3: [2 ,4] ,4: [2 ,3]}\n",
    "isCyclic(g ,5)"
   ]
  },
  {
   "cell_type": "code",
   "execution_count": 33,
   "metadata": {},
   "outputs": [
    {
     "data": {
      "text/plain": [
       "True"
      ]
     },
     "execution_count": 33,
     "metadata": {},
     "output_type": "execute_result"
    }
   ],
   "source": [
    "g = {0: [1 ,2] ,1: [0] ,2: [0 ,3] ,3: [2 ,4] ,4: [3]}\n",
    "isCyclic(g ,5)"
   ]
  },
  {
   "cell_type": "code",
   "execution_count": null,
   "metadata": {},
   "outputs": [],
   "source": []
  }
 ],
 "metadata": {
  "kernelspec": {
   "display_name": "Python 3",
   "language": "python",
   "name": "python3"
  },
  "language_info": {
   "codemirror_mode": {
    "name": "ipython",
    "version": 3
   },
   "file_extension": ".py",
   "mimetype": "text/x-python",
   "name": "python",
   "nbconvert_exporter": "python",
   "pygments_lexer": "ipython3",
   "version": "3.11.0"
  },
  "metadata": {
   "interpreter": {
    "hash": "63fd5069d213b44bf678585dea6b12cceca9941eaf7f819626cde1f2670de90d"
   }
  }
 },
 "nbformat": 4,
 "nbformat_minor": 2
}
