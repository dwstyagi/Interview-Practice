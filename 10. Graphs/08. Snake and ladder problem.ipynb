{
 "cells": [
  {
   "cell_type": "markdown",
   "metadata": {},
   "source": [
    "Given a snake and ladder board, find the minimum number of dice throws required to reach the destination or last cell from source or 1st cell. Basically, the player has total control over outcome of dice throw and wants to find out minimum number of throws required to reach last cell.<br><br>\n",
    "If the player reaches a cell which is base of a ladder, the player has to climb up that ladder and if reaches a cell is mouth of the snake, has to go down to the tail of snake without a dice throw.\n",
    "\n",
    "<img src=\"https://cdncontribute.geeksforgeeks.org/wp-content/uploads/snake-and-ladders.jpg\" width=\"500\" align=left >"
   ]
  },
  {
   "cell_type": "markdown",
   "metadata": {},
   "source": [
    "For example, consider the board shown, the minimum number of dice throws required to reach cell 30 from cell 1 is 3.\n",
    "Following are the steps:<br>\n",
    "a) First throw two on dice to reach cell number 3 and then ladder to reach 22.<br>\n",
    "b) Then throw 6 to reach 28.<br>\n",
    "c) Finally through 2 to reach 30.<br>\n",
    "\n",
    "There can be other solutions as well like (2, 2, 6), (2, 4, 4), (2, 3, 5).. etc."
   ]
  },
  {
   "cell_type": "code",
   "execution_count": 3,
   "metadata": {},
   "outputs": [],
   "source": [
    "def getMinMoves(arr):\n",
    "    '''\n",
    "    arr : moves in snakes and ladder board Games\n",
    "          starting from cell 0\n",
    "    [2 ,21 ,4 ,7 ,10 ,25 ,19 ,28 ,26 ,0 ,20 ,8 ,16 ,3 ,18 ,6]\n",
    "    '''\n",
    "    board_length = 30\n",
    "    \n",
    "    board = [-1] * board_length\n",
    "    \n",
    "    for i in range(0 ,len(arr) ,2):\n",
    "        board[arr[i]] = arr[i+1]\n",
    "    \n",
    "    visited = [0] * board_length\n",
    "    queue = []\n",
    "    \n",
    "    visited[0] = 1\n",
    "    queue.append((0,0))\n",
    "    \n",
    "    while queue:\n",
    "        cell ,moves = queue.pop(0)\n",
    "        \n",
    "        if cell == board_length - 1:\n",
    "            break\n",
    "        \n",
    "        for i in range(1,7):\n",
    "            if  cell + i < board_length and not visited[cell+i]:\n",
    "                visited[cell+i] = 1\n",
    "                \n",
    "                if board[cell+i] != -1:\n",
    "                    cell = board[cell+i]\n",
    "                else:\n",
    "                    cell += i\n",
    "                \n",
    "                queue.append((cell ,moves+1))\n",
    "    return moves"
   ]
  },
  {
   "cell_type": "code",
   "execution_count": 4,
   "metadata": {},
   "outputs": [
    {
     "name": "stdout",
     "output_type": "stream",
     "text": [
      "3\n"
     ]
    }
   ],
   "source": [
    "arr = [2 ,21 ,4 ,7 ,10 ,25 ,19 ,28 ,26 ,0 ,20 ,8 ,16 ,3 ,18 ,6] # Ans: 3\n",
    "print(getMinMoves(arr))"
   ]
  },
  {
   "cell_type": "code",
   "execution_count": 12,
   "metadata": {},
   "outputs": [
    {
     "name": "stdout",
     "output_type": "stream",
     "text": [
      "1\n"
     ]
    }
   ],
   "source": [
    "arr = [1 ,29] # Ans: 1\n",
    "print(getMinMoves(arr))"
   ]
  },
  {
   "cell_type": "code",
   "execution_count": null,
   "metadata": {},
   "outputs": [],
   "source": []
  }
 ],
 "metadata": {
  "kernelspec": {
   "display_name": "Python 3",
   "language": "python",
   "name": "python3"
  },
  "language_info": {
   "codemirror_mode": {
    "name": "ipython",
    "version": 3
   },
   "file_extension": ".py",
   "mimetype": "text/x-python",
   "name": "python",
   "nbconvert_exporter": "python",
   "pygments_lexer": "ipython3",
   "version": "3.7.6"
  }
 },
 "nbformat": 4,
 "nbformat_minor": 2
}