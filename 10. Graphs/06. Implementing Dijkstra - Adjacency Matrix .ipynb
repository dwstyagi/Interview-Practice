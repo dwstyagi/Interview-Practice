{
 "cells": [
  {
   "cell_type": "markdown",
   "metadata": {},
   "source": [
    "<img src=\"https://www.geeksforgeeks.org/wp-content/uploads/Fig-11.jpg\" width=\"300\" align=\"left\">\n",
    "<br>\n",
    "<br>\n",
    "<img src=\"https://www.geeksforgeeks.org/wp-content/uploads/DIJ5.jpg\" width=\"300\" align=\"mid-right\">"
   ]
  },
  {
   "cell_type": "code",
   "execution_count": 1,
   "metadata": {},
   "outputs": [],
   "source": [
    "graph = [[0, 4, 0, 0, 0, 0, 0,  8, 0], \n",
    "         [4, 0, 8, 0, 0, 0, 0, 11, 0], \n",
    "         [0, 8, 0, 7, 0, 4, 0,  0, 2], \n",
    "         [0, 0, 7, 0, 9, 14, 0, 0, 0], \n",
    "         [0, 0, 0, 9, 0, 10, 0, 0, 0], \n",
    "         [0, 0, 4, 14, 10, 0, 2, 0, 0], \n",
    "         [0, 0, 0, 0, 0, 2, 0, 1, 6], \n",
    "         [8, 11, 0, 0, 0, 0, 1, 0, 7], \n",
    "         [0, 0, 2, 0, 0, 0, 6, 7, 0]]"
   ]
  },
  {
   "cell_type": "code",
   "execution_count": 2,
   "metadata": {},
   "outputs": [],
   "source": [
    "def dijkstras(graph ,n ,src):\n",
    "    distance = [float('+inf')] * n\n",
    "    visited = [0] * n\n",
    "    \n",
    "    distance[src] = 0\n",
    "    \n",
    "    for i in range(len(distance)):\n",
    "        \n",
    "        # find vertex with minimum distance\n",
    "        index = minDistance(distance ,visited)\n",
    "        \n",
    "        # initialise its visited as True\n",
    "        visited[index] = 1\n",
    "        \n",
    "        # Search for whole list rather than the connected list\n",
    "        # because matrix is given\n",
    "        for v in range(len(graph[index])):\n",
    "            if (not visited[v] and graph[index][v] and\n",
    "                distance[v] > distance[index] + graph[index][v]):\n",
    "                distance[v] = distance[index] + graph[index][v]\n",
    "    \n",
    "    print(*distance)"
   ]
  },
  {
   "cell_type": "code",
   "execution_count": 3,
   "metadata": {},
   "outputs": [],
   "source": [
    "def minDistance(distance ,visited):\n",
    "    \n",
    "    minimum = float('+inf')\n",
    "    \n",
    "    for i in range(len(distance)):\n",
    "        if not visited[i] and distance[i] < minimum:\n",
    "            minimum = distance[i]\n",
    "            minimum_index = i\n",
    "    \n",
    "    return minimum_index"
   ]
  },
  {
   "cell_type": "code",
   "execution_count": 4,
   "metadata": {},
   "outputs": [
    {
     "name": "stdout",
     "output_type": "stream",
     "text": [
      "0 4 12 19 21 11 9 8 14\n"
     ]
    }
   ],
   "source": [
    "dijkstras(graph ,len(graph) ,0)"
   ]
  },
  {
   "cell_type": "markdown",
   "metadata": {},
   "source": [
    "## With Path"
   ]
  },
  {
   "cell_type": "markdown",
   "metadata": {},
   "source": [
    "<img src=\"https://www.geeksforgeeks.org/wp-content/uploads/Fig-11.jpg\" width=\"300\" align=\"left\">\n",
    "<img src=\"https://www.geeksforgeeks.org/wp-content/uploads/DIJ5.jpg\" width=\"300\" align=\"mid-right\">"
   ]
  },
  {
   "cell_type": "code",
   "execution_count": 5,
   "metadata": {},
   "outputs": [],
   "source": [
    "def dijkstras(graph ,n ,src):\n",
    "    distance = [float('+inf')] * n\n",
    "    visited = [0] * n\n",
    "    \n",
    "    parent = [-1] * n\n",
    "    distance[src] = 0\n",
    "    \n",
    "    for i in range(n):\n",
    "        \n",
    "        # find vertex with minimum distance\n",
    "        index = minDistance(distance ,visited)\n",
    "        \n",
    "        # initialise its visited as True\n",
    "        visited[index] = 1\n",
    "        \n",
    "        # Search for whole list rather than the connected list\n",
    "        # because matrix is given\n",
    "        for v in range(len(graph[index])):\n",
    "            if (graph[index][v] and not visited[v] and\n",
    "                distance[v] > distance[index] + graph[index][v]):\n",
    "                \n",
    "                distance[v] = distance[index] + graph[index][v]\n",
    "                parent[v] = index\n",
    "        \n",
    "    printPath(src ,distance ,parent)"
   ]
  },
  {
   "cell_type": "code",
   "execution_count": 6,
   "metadata": {},
   "outputs": [],
   "source": [
    "def minDistance(distance ,visited):\n",
    "    minimum = float('+inf')\n",
    "    \n",
    "    for i in range(len(distance)):\n",
    "        if not visited[i] and distance[i] < minimum:\n",
    "            minimum = distance[i]\n",
    "            minimum_index = i \n",
    "    \n",
    "    return minimum_index"
   ]
  },
  {
   "cell_type": "code",
   "execution_count": 7,
   "metadata": {},
   "outputs": [],
   "source": [
    "def printPath(src ,distance ,parent):\n",
    "    print(\"Vertex \\t\\tDistance from Source\\tPath\") \n",
    "    for i in range(1, len(distance)): \n",
    "        print(\"\\n%d --> %d \\t\\t%d \\t\\t\" % (src, i, distance[i]),end=\"\") \n",
    "        findParent(parent,i)\n"
   ]
  },
  {
   "cell_type": "code",
   "execution_count": 8,
   "metadata": {},
   "outputs": [],
   "source": [
    "def findParent(parent ,i):\n",
    "    if parent[i] == -1:\n",
    "        print(i,end=\" \")\n",
    "        return\n",
    "    findParent(parent ,parent[i])\n",
    "    print(i,end=\" \")"
   ]
  },
  {
   "cell_type": "code",
   "execution_count": 9,
   "metadata": {},
   "outputs": [],
   "source": [
    "graph = [[0, 4, 0, 0, 0, 0, 0,  8, 0], \n",
    "         [4, 0, 8, 0, 0, 0, 0, 11, 0], \n",
    "         [0, 8, 0, 7, 0, 4, 0,  0, 2], \n",
    "         [0, 0, 7, 0, 9, 14, 0, 0, 0], \n",
    "         [0, 0, 0, 9, 0, 10, 0, 0, 0], \n",
    "         [0, 0, 4, 14, 10, 0, 2, 0, 0], \n",
    "         [0, 0, 0, 0, 0, 2, 0, 1, 6], \n",
    "         [8, 11, 0, 0, 0, 0, 1, 0, 7], \n",
    "         [0, 0, 2, 0, 0, 0, 6, 7, 0]]"
   ]
  },
  {
   "cell_type": "code",
   "execution_count": 10,
   "metadata": {},
   "outputs": [
    {
     "name": "stdout",
     "output_type": "stream",
     "text": [
      "Vertex \t\tDistance from Source\tPath\n",
      "\n",
      "0 --> 1 \t\t4 \t\t0 1 \n",
      "0 --> 2 \t\t12 \t\t0 1 2 \n",
      "0 --> 3 \t\t19 \t\t0 1 2 3 \n",
      "0 --> 4 \t\t21 \t\t0 7 6 5 4 \n",
      "0 --> 5 \t\t11 \t\t0 7 6 5 \n",
      "0 --> 6 \t\t9 \t\t0 7 6 \n",
      "0 --> 7 \t\t8 \t\t0 7 \n",
      "0 --> 8 \t\t14 \t\t0 1 2 8 "
     ]
    }
   ],
   "source": [
    "dijkstras(graph ,len(graph) ,0)"
   ]
  },
  {
   "cell_type": "code",
   "execution_count": null,
   "metadata": {},
   "outputs": [],
   "source": []
  }
 ],
 "metadata": {
  "kernelspec": {
   "display_name": "Python 3",
   "language": "python",
   "name": "python3"
  },
  "language_info": {
   "codemirror_mode": {
    "name": "ipython",
    "version": 3
   },
   "file_extension": ".py",
   "mimetype": "text/x-python",
   "name": "python",
   "nbconvert_exporter": "python",
   "pygments_lexer": "ipython3",
   "version": "3.7.6"
  }
 },
 "nbformat": 4,
 "nbformat_minor": 2
}