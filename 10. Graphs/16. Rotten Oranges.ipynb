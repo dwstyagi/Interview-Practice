{
 "cells": [
  {
   "cell_type": "markdown",
   "metadata": {},
   "source": [
    "<b>0: Empty cell</b><br>\n",
    "<b>1: Cells have fresh oranges</b><br>\n",
    "<b>2: Cells have rotten oranges</b> \n",
    "\n",
    " A rotten orange at index [i,j] can rot other fresh orange at indexes [i-1,j], [i+1,j], [i,j-1], [i,j+1] (up, down, left and right)\n",
    "``` \n",
    "Input:  arr[][C] = { {2, 1, 0, 2, 1},\n",
    "                     {1, 0, 1, 2, 1},\n",
    "                     {1, 0, 0, 2, 1}};\n",
    "Output:\n",
    "All oranges can become rotten in 2 time frames.\n",
    "\n",
    "\n",
    "Input:  arr[][C] = { {2, 1, 0, 2, 1},\n",
    "                     {0, 0, 1, 2, 1},\n",
    "                     {1, 0, 0, 2, 1}};\n",
    "Output:\n",
    "All oranges cannot be rotten. \n",
    "```"
   ]
  },
  {
   "cell_type": "markdown",
   "metadata": {},
   "source": [
    "### Algorithm BFS Application\n",
    "<ol>\n",
    "    <li>Create an empty Q.</li>\n",
    "    <li> Find all rotten oranges and enqueue them to Q. Also enqueue a delimiter(-1,-1) to indicate the beginning of next time frame.<br>(If no rotten oranges found then don't add the delimeter again)</li>\n",
    "    <li>While Q is not empty do following</li>\n",
    "    <ul>\n",
    "        <li>Do following while delimiter in Q is not reached</li>\n",
    "        <li>Dequeue an orange from the queue, rot all adjacent oranges. While rotting the adjacent, make sure that the time frame is incremented only once. And the time frame is not incremented if there are no adjacent oranges.</li>\n",
    "        <li>Dequeue the old delimiter and enqueue a new delimiter. The oranges rotten in the previous time frame lie between the two delimiters. </li>\n",
    "    </ul>\n",
    "</ol>"
   ]
  },
  {
   "cell_type": "code",
   "execution_count": 1,
   "metadata": {},
   "outputs": [],
   "source": [
    "def isValid(matrix ,x ,y):\n",
    "    return (x >= 0 and x < len(matrix) and\n",
    "            y >= 0 and y < len(matrix[x]))"
   ]
  },
  {
   "cell_type": "code",
   "execution_count": 2,
   "metadata": {},
   "outputs": [],
   "source": [
    "def rottenAll(matrix):\n",
    "    \n",
    "    for i in range(len(matrix)):\n",
    "        for j in range(len(matrix[i])):\n",
    "            if matrix[i][j] == 1:\n",
    "                return 0\n",
    "    return 1"
   ]
  },
  {
   "cell_type": "code",
   "execution_count": 4,
   "metadata": {},
   "outputs": [],
   "source": [
    "def rottenOranges(matrix):\n",
    "    Q = []\n",
    "    time = 0\n",
    "    \n",
    "    # Find all rotten oranges \n",
    "    # and enqueue them to Q.\n",
    "    for i in range(len(matrix)):\n",
    "        for j in range(len(matrix[i])):\n",
    "            if matrix[i][j] == 2:\n",
    "                Q.append((i,j))\n",
    "    \n",
    "    # Separate rotten oranges from those oranges\n",
    "    # which will rotten for the next time\n",
    "    Q.append((-1,-1))\n",
    "    \n",
    "    while Q:\n",
    "        # set flag only for the first timer \n",
    "        flag = 1\n",
    "        \n",
    "        while not (Q[0][0] == -1 and Q[0][1] == -1):\n",
    "            cell = Q.pop(0)\n",
    "            \n",
    "                    # top  , left , down ,right    \n",
    "            for i in [[-1,0],[0,-1],[1,0],[0,1]]:\n",
    "                row = cell[0] + i[0]\n",
    "                col = cell[1] + i[1]\n",
    "\n",
    "                if isValid(matrix ,row ,col) and matrix[row][col] == 1:\n",
    "                    \n",
    "                    matrix[row][col] = 2\n",
    "                    Q.append((row,col))\n",
    "                    \n",
    "                    # for the 1st time \n",
    "                    # increment the time\n",
    "                    if flag:\n",
    "                        time += 1\n",
    "                        flag = 0\n",
    "        \n",
    "        # Deleting the Delimeter\n",
    "        Q.pop(0)\n",
    "        \n",
    "        # add delimeter only if \n",
    "        # there is an rotten oranges\n",
    "        if len(Q) != 0:\n",
    "            Q.append((-1,-1))\n",
    "        \n",
    "    return time if rottenAll(matrix) else -1\n"
   ]
  },
  {
   "cell_type": "code",
   "execution_count": 5,
   "metadata": {},
   "outputs": [
    {
     "data": {
      "text/plain": [
       "2"
      ]
     },
     "execution_count": 5,
     "metadata": {},
     "output_type": "execute_result"
    }
   ],
   "source": [
    "matrix = [[2, 1, 0, 2, 1],\n",
    "          [1, 0, 1, 2, 1],\n",
    "          [1, 0, 0, 2, 1]]\n",
    "rottenOranges(matrix)"
   ]
  },
  {
   "cell_type": "code",
   "execution_count": 6,
   "metadata": {},
   "outputs": [
    {
     "data": {
      "text/plain": [
       "-1"
      ]
     },
     "execution_count": 6,
     "metadata": {},
     "output_type": "execute_result"
    }
   ],
   "source": [
    "arr = [[2, 1, 0, 2, 1],\n",
    "       [0, 0, 1, 2, 1],\n",
    "       [1, 0, 0, 2, 1]]\n",
    "rottenOranges(arr)"
   ]
  },
  {
   "cell_type": "code",
   "execution_count": null,
   "metadata": {},
   "outputs": [],
   "source": []
  }
 ],
 "metadata": {
  "kernelspec": {
   "display_name": "Python 3",
   "language": "python",
   "name": "python3"
  },
  "language_info": {
   "codemirror_mode": {
    "name": "ipython",
    "version": 3
   },
   "file_extension": ".py",
   "mimetype": "text/x-python",
   "name": "python",
   "nbconvert_exporter": "python",
   "pygments_lexer": "ipython3",
   "version": "3.7.6"
  }
 },
 "nbformat": 4,
 "nbformat_minor": 2
}
