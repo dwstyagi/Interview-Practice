{
 "cells": [
  {
   "cell_type": "markdown",
   "metadata": {},
   "source": [
    "### Kruskal Algorithms for MST"
   ]
  },
  {
   "cell_type": "markdown",
   "metadata": {},
   "source": [
    "<img src=\"https://www.geeksforgeeks.org/wp-content/uploads/Fig-11.jpg\" width=\"300\" align=\"left\">\n",
    "<img src=\"https://media.geeksforgeeks.org/wp-content/cdn-uploads/fig8new.jpeg\" width=\"300\" align=\"mid-right\">"
   ]
  },
  {
   "cell_type": "markdown",
   "metadata": {},
   "source": [
    "**Algorithm**<br>\n",
    "1. Sort all the edges in non-decreasing order of their weight.<br>\n",
    "2. Pick the smallest edge. Check if it forms a cycle with the spanning tree formed so far. If cycle is not formed, include this edge. Else, discard it.<br>\n",
    "3. Repeat step#2 until there are (V-1) edges in the spanning tree."
   ]
  },
  {
   "cell_type": "code",
   "execution_count": 1,
   "metadata": {},
   "outputs": [],
   "source": [
    "def isCyclicUtil(g ,visited ,v ,parent):\n",
    "    visited.add(v)\n",
    "    \n",
    "    for i in g[v]:\n",
    "        if i not in visited:\n",
    "            if isCyclicUtil(g ,visited ,i ,v):\n",
    "                return True\n",
    "\n",
    "        elif i != parent:\n",
    "            return True\n",
    "    return False"
   ]
  },
  {
   "cell_type": "code",
   "execution_count": 2,
   "metadata": {},
   "outputs": [],
   "source": [
    "def isCyclic(g):\n",
    "    visited = set()\n",
    "    \n",
    "    for i in g:\n",
    "        if i not in visited and isCyclicUtil(g ,visited ,i ,-1):\n",
    "            return True\n",
    "    \n",
    "    return False"
   ]
  },
  {
   "cell_type": "code",
   "execution_count": 3,
   "metadata": {},
   "outputs": [],
   "source": [
    "def kruskalMST(graph):\n",
    "    \n",
    "    edges = set()\n",
    "    g = {i:[] for i in range(len(graph))}\n",
    "    \n",
    "    for i in range(len(graph)):\n",
    "        for j in range(len(graph[i])):\n",
    "            curr = ((j,i) ,graph[i][j])\n",
    "            if graph[i][j] and  curr not in edges:\n",
    "                edges.add(((i,j) ,graph[i][j]))\n",
    "    \n",
    "    # Sort the Edges Acc to their weights\n",
    "    edges = list(sorted(edges ,key=lambda i:i[1]))\n",
    "    \n",
    "    mstSet = []\n",
    "    weight = 0\n",
    "    vertex = 0\n",
    "    \n",
    "    for e,w in edges:\n",
    "        \n",
    "        # include edge in MST\n",
    "        g[e[0]].append(e[1])\n",
    "        \n",
    "        # if it forms a cycle discard it\n",
    "        # else include in MST\n",
    "        if isCyclic(g):\n",
    "            g[e[0]].pop()\n",
    "            continue\n",
    "        else:\n",
    "            weight += w\n",
    "            mstSet.append(e)\n",
    "    \n",
    "        vertex += 1\n",
    "        if vertex == len(graph)-1:\n",
    "            break\n",
    "            \n",
    "    return weight"
   ]
  },
  {
   "cell_type": "code",
   "execution_count": 4,
   "metadata": {},
   "outputs": [
    {
     "name": "stdout",
     "output_type": "stream",
     "text": [
      "[((6, 7), 1), ((2, 8), 2), ((5, 6), 2), ((0, 1), 4), ((2, 5), 4), ((6, 8), 6), ((2, 3), 7), ((7, 8), 7), ((0, 7), 8), ((1, 2), 8), ((3, 4), 9), ((4, 5), 10), ((1, 7), 11), ((3, 5), 14)]\n"
     ]
    },
    {
     "data": {
      "text/plain": [
       "37"
      ]
     },
     "execution_count": 4,
     "metadata": {},
     "output_type": "execute_result"
    }
   ],
   "source": [
    "graph = [[0, 4, 0, 0, 0, 0, 0,  8, 0], \n",
    "         [4, 0, 8, 0, 0, 0, 0, 11, 0], \n",
    "         [0, 8, 0, 7, 0, 4, 0,  0, 2], \n",
    "         [0, 0, 7, 0, 9, 14, 0, 0, 0], \n",
    "         [0, 0, 0, 9, 0, 10, 0, 0, 0], \n",
    "         [0, 0, 4, 14, 10, 0, 2, 0, 0], \n",
    "         [0, 0, 0, 0, 0, 2, 0, 1, 6], \n",
    "         [8, 11, 0, 0, 0, 0, 1, 0, 7], \n",
    "         [0, 0, 2, 0, 0, 0, 6, 7, 0]]\n",
    "kruskalMST(graph)"
   ]
  },
  {
   "cell_type": "markdown",
   "metadata": {},
   "source": [
    "**Prim's Algorithm**<br>\n",
    "1) Create a set mstSet that keeps track of vertices already included in MST.<br>\n",
    "2) Assign a key value to all vertices in the input graph. Initialize all key values as INFINITE.\n",
    "   Assign key value as 0 for the first vertex so that it is picked first.<br>\n",
    "3) While mstSet doesn’t include all vertices:<br>\n",
    "<ul>\n",
    "    <li>Pick a vertex u which is not there in mstSet and has minimum key value.</li>\n",
    "    <li>Include u to mstSet.</li>\n",
    "    <li>Update key value of all adjacent vertices of u.</li>\n",
    "</ul>\n",
    "\n",
    "**To update the key values, iterate through all adjacent vertices. For every adjacent vertex v, if weight of edge u-v is less than the previous key value of v, update the key value as weight of u-v**"
   ]
  },
  {
   "cell_type": "markdown",
   "metadata": {},
   "source": [
    "<img src=\"https://www.geeksforgeeks.org/wp-content/uploads/Fig-11.jpg\" width=\"300\" align=\"left\">\n",
    "<img src=\"https://media.geeksforgeeks.org/wp-content/cdn-uploads/fig8new.jpeg\" width=\"300\" align=\"mid-right\">"
   ]
  },
  {
   "cell_type": "code",
   "execution_count": 1,
   "metadata": {},
   "outputs": [],
   "source": [
    "def minKey(key ,mstSet):\n",
    "    min = float('+inf')\n",
    "    \n",
    "    for i in range(len(key)):\n",
    "        if not mstSet[i] and min > key[i]:\n",
    "            min = key[i]\n",
    "            min_index = i\n",
    "    \n",
    "    return min_index"
   ]
  },
  {
   "cell_type": "code",
   "execution_count": 2,
   "metadata": {},
   "outputs": [],
   "source": [
    "def primsMST(graph ,n):\n",
    "    \n",
    "    mstSet = [0 for _ in range(n)]\n",
    "    key = [float('+inf') for _ in range(n)]\n",
    "    parent = [-1 for _ in range(n)]\n",
    "    \n",
    "    # assign source key value as 0\n",
    "    key[0] = 0\n",
    "    \n",
    "    # to include to all the vertices\n",
    "    for i in range(n):\n",
    "        \n",
    "        # pick minimum key vertex\n",
    "        # which is not present in MST\n",
    "        u = minKey(key ,mstSet)\n",
    "        \n",
    "        # include minimum key \n",
    "        # vertex to the MST\n",
    "        mstSet[u] = 1\n",
    "        \n",
    "        # for all adjacent of u\n",
    "        # update key values\n",
    "        for v in range(len(graph[u])):\n",
    "            if graph[u][v] and not mstSet[v] and key[v] > graph[u][v]:\n",
    "                parent[v] = u\n",
    "                key[v] = graph[u][v]\n",
    "    \n",
    "    sum = 0\n",
    "    \n",
    "    for i in key:\n",
    "        sum += i\n",
    "    \n",
    "    return sum\n",
    "            "
   ]
  },
  {
   "cell_type": "code",
   "execution_count": 3,
   "metadata": {},
   "outputs": [
    {
     "data": {
      "text/plain": [
       "16"
      ]
     },
     "execution_count": 3,
     "metadata": {},
     "output_type": "execute_result"
    }
   ],
   "source": [
    "graph = [[0, 2, 0, 6, 0], \n",
    "         [2, 0, 3, 8, 5], \n",
    "         [0, 3, 0, 0, 7], \n",
    "         [6, 8, 0, 0, 9], \n",
    "         [0, 5, 7, 9, 0]] \n",
    "primsMST(graph ,len(graph))"
   ]
  },
  {
   "cell_type": "code",
   "execution_count": 4,
   "metadata": {},
   "outputs": [
    {
     "data": {
      "text/plain": [
       "37"
      ]
     },
     "execution_count": 4,
     "metadata": {},
     "output_type": "execute_result"
    }
   ],
   "source": [
    "graph = [[0, 4, 0, 0, 0, 0, 0,  8, 0], \n",
    "         [4, 0, 8, 0, 0, 0, 0, 11, 0], \n",
    "         [0, 8, 0, 7, 0, 4, 0,  0, 2], \n",
    "         [0, 0, 7, 0, 9, 14, 0, 0, 0], \n",
    "         [0, 0, 0, 9, 0, 10, 0, 0, 0], \n",
    "         [0, 0, 4, 14, 10, 0, 2, 0, 0], \n",
    "         [0, 0, 0, 0, 0, 2, 0, 1, 6], \n",
    "         [8, 11, 0, 0, 0, 0, 1, 0, 7], \n",
    "         [0, 0, 2, 0, 0, 0, 6, 7, 0]]\n",
    "primsMST(graph ,len(graph))"
   ]
  },
  {
   "cell_type": "code",
   "execution_count": null,
   "metadata": {},
   "outputs": [],
   "source": []
  }
 ],
 "metadata": {
  "kernelspec": {
   "display_name": "Python 3",
   "language": "python",
   "name": "python3"
  },
  "language_info": {
   "codemirror_mode": {
    "name": "ipython",
    "version": 3
   },
   "file_extension": ".py",
   "mimetype": "text/x-python",
   "name": "python",
   "nbconvert_exporter": "python",
   "pygments_lexer": "ipython3",
   "version": "3.11.0"
  }
 },
 "nbformat": 4,
 "nbformat_minor": 2
}
