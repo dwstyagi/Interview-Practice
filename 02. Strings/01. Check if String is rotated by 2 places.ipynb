{
 "cells": [
  {
   "cell_type": "markdown",
   "metadata": {},
   "source": [
    "Given two strings, the task is to find if a string can be obtained by rotating another string two places.\n",
    "```\n",
    "Input: string1 = “amazon”, string2 = “azonam”\n",
    "Output: Yes\n",
    "// rotated anti-clockwise\n",
    "\n",
    "\n",
    "Input: string1 = “amazon”, string2 = “onamaz”\n",
    "Output: Yes\n",
    "// rotated clockwise\n",
    "```"
   ]
  },
  {
   "cell_type": "markdown",
   "metadata": {},
   "source": [
    "```\n",
    "1. There can be only two cases:\n",
    "    a. Clockwise rotated\n",
    "    b. Anti-clockwise rotated\n",
    "\n",
    "2. If clockwise rotated that means elements\n",
    "   are shifted in right.\n",
    "   So, check if a substring[2.... len-1] of \n",
    "   string2 when concatenated with substring[0,1]\n",
    "   of string2 is equal to string1. Then, return true.\n",
    "\n",
    "3. Else, check if it is rotated anti-clockwise \n",
    "   that means elements are shifted to left.\n",
    "   So, check if concatenation of substring[len-2, len-1]\n",
    "   with substring[0....len-3] makes it equals to\n",
    "   string1. Then return true.\n",
    "\n",
    "4. Else, return false.\n",
    "```"
   ]
  },
  {
   "cell_type": "code",
   "execution_count": 4,
   "metadata": {},
   "outputs": [],
   "source": [
    "def checkString(a ,b):\n",
    "    \n",
    "    if len(a) != len(b):\n",
    "        return 0\n",
    "    \n",
    "    strClock = \"\"\n",
    "    strAntiClock = \"\"\n",
    "    n = len(a)\n",
    "    \n",
    "    strClock += a[2:] + a[:2]\n",
    "    strAntiClock += a[n-2:] + a[:n-2]\n",
    "    \n",
    "    if(strClock == b or strAntiClock == b):\n",
    "        return 1\n",
    "    \n",
    "    return 0\n",
    "    \n",
    "    "
   ]
  },
  {
   "cell_type": "code",
   "execution_count": 5,
   "metadata": {},
   "outputs": [
    {
     "data": {
      "text/plain": [
       "1"
      ]
     },
     "execution_count": 5,
     "metadata": {},
     "output_type": "execute_result"
    }
   ],
   "source": [
    "string1 = \"amazon\"\n",
    "string2 = \"azonam\"\n",
    "\n",
    "checkString(string1 ,string2)"
   ]
  },
  {
   "cell_type": "code",
   "execution_count": 6,
   "metadata": {},
   "outputs": [
    {
     "data": {
      "text/plain": [
       "1"
      ]
     },
     "execution_count": 6,
     "metadata": {},
     "output_type": "execute_result"
    }
   ],
   "source": [
    "string1 = \"amazon\" \n",
    "string2 = \"onamaz\"\n",
    "\n",
    "checkString(string1 ,string2)"
   ]
  },
  {
   "cell_type": "code",
   "execution_count": null,
   "metadata": {},
   "outputs": [],
   "source": []
  }
 ],
 "metadata": {
  "kernelspec": {
   "display_name": "Python 3",
   "language": "python",
   "name": "python3"
  },
  "language_info": {
   "codemirror_mode": {
    "name": "ipython",
    "version": 3
   },
   "file_extension": ".py",
   "mimetype": "text/x-python",
   "name": "python",
   "nbconvert_exporter": "python",
   "pygments_lexer": "ipython3",
   "version": "3.7.3"
  }
 },
 "nbformat": 4,
 "nbformat_minor": 2
}
