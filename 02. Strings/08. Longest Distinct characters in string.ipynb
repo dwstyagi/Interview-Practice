{
 "cells": [
  {
   "cell_type": "markdown",
   "metadata": {},
   "source": [
    "Given a string str, find the length of the longest substring without repeating characters.\n",
    "```\n",
    "For “ABDEFGABEF”, the longest substring are “BDEFGA” and “DEFGAB”, with length 6. \n",
    "For “BBBB” the longest substring is “B”, with length 1. \n",
    "For “GEEKSFORGEEKS”, there are two longest substrings shown in the below diagrams,with length 7\n",
    "```"
   ]
  },
  {
   "cell_type": "markdown",
   "metadata": {},
   "source": [
    "<img src=\"https://media.geeksforgeeks.org/wp-content/cdn-uploads/unique_char_substr2.png\" >\n",
    "<img src=\"https://media.geeksforgeeks.org/wp-content/cdn-uploads/unique_char_substr3.png\" >"
   ]
  },
  {
   "cell_type": "markdown",
   "metadata": {},
   "source": [
    "**Method 1 (Simple):**<br> We can consider all substrings one by one and check for each substring whether it contains all unique characters or not. There will be n*(n+1)/2 substrings. Whether a substring contains all unique characters or not can be checked in linear time by scanning it from left to right and keeping a map of visited characters. Time complexity of this solution would be O(n^3)."
   ]
  },
  {
   "cell_type": "markdown",
   "metadata": {},
   "source": [
    "**Using Sliding Window Problem**"
   ]
  },
  {
   "cell_type": "code",
   "execution_count": 1,
   "metadata": {},
   "outputs": [],
   "source": [
    "def distinctStr(st):\n",
    "    \n",
    "    start = 0\n",
    "    begin = 0\n",
    "    i = 0\n",
    "    maxLen = 0\n",
    "    char = [0] * 26\n",
    "    \n",
    "    while i < len(st):\n",
    "        num = ord(st[i]) - ord('a')\n",
    "        \n",
    "        # character not present\n",
    "        # in charset\n",
    "        if char[num] == 0:\n",
    "            char[num] = 1\n",
    "            if maxLen < i - start + 1:\n",
    "                maxLen = i - start + 1\n",
    "                begin = start\n",
    "        \n",
    "        # character is present in charset\n",
    "        elif char[num] == 1:\n",
    "            \n",
    "            while st[start] != st[i]:\n",
    "                num = ord(st[start]) - ord('a')\n",
    "                char[num] = 0\n",
    "                start += 1\n",
    "            \n",
    "            start += 1\n",
    "        i += 1\n",
    "    \n",
    "    return st[begin : begin + maxLen].upper()      \n",
    "    "
   ]
  },
  {
   "cell_type": "code",
   "execution_count": 2,
   "metadata": {},
   "outputs": [
    {
     "data": {
      "text/plain": [
       "'ABDEFG'"
      ]
     },
     "execution_count": 2,
     "metadata": {},
     "output_type": "execute_result"
    }
   ],
   "source": [
    "st = \"ABDEFGABEF\"\n",
    "st = st.lower()\n",
    "distinctStr(st)"
   ]
  },
  {
   "cell_type": "code",
   "execution_count": 3,
   "metadata": {},
   "outputs": [
    {
     "data": {
      "text/plain": [
       "'B'"
      ]
     },
     "execution_count": 3,
     "metadata": {},
     "output_type": "execute_result"
    }
   ],
   "source": [
    "st = \"BBBB\"\n",
    "st = st.lower()\n",
    "distinctStr(st)"
   ]
  },
  {
   "cell_type": "code",
   "execution_count": 4,
   "metadata": {},
   "outputs": [
    {
     "data": {
      "text/plain": [
       "'EKSFORG'"
      ]
     },
     "execution_count": 4,
     "metadata": {},
     "output_type": "execute_result"
    }
   ],
   "source": [
    "st = \"GEEKSFORGEEKS\"\n",
    "st = st.lower()\n",
    "distinctStr(st)"
   ]
  },
  {
   "cell_type": "code",
   "execution_count": 5,
   "metadata": {},
   "outputs": [
    {
     "data": {
      "text/plain": [
       "'ABCDEF'"
      ]
     },
     "execution_count": 5,
     "metadata": {},
     "output_type": "execute_result"
    }
   ],
   "source": [
    "st = \"abababcdefababcdab\"\n",
    "st = st.lower()\n",
    "distinctStr(st)"
   ]
  },
  {
   "cell_type": "code",
   "execution_count": null,
   "metadata": {},
   "outputs": [],
   "source": []
  }
 ],
 "metadata": {
  "kernelspec": {
   "display_name": "Python 3",
   "language": "python",
   "name": "python3"
  },
  "language_info": {
   "codemirror_mode": {
    "name": "ipython",
    "version": 3
   },
   "file_extension": ".py",
   "mimetype": "text/x-python",
   "name": "python",
   "nbconvert_exporter": "python",
   "pygments_lexer": "ipython3",
   "version": "3.7.3"
  }
 },
 "nbformat": 4,
 "nbformat_minor": 2
}
