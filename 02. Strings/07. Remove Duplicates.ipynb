{
 "cells": [
  {
   "cell_type": "markdown",
   "metadata": {},
   "source": [
    "Given a string S, the task is to remove all the duplicates in the given string.\n",
    "\n",
    "```\n",
    "Given a string S, the task is to remove all the duplicates in the given string. \n",
    "Below are the different methods to remove duplicates in a string.\n",
    "```"
   ]
  },
  {
   "cell_type": "markdown",
   "metadata": {},
   "source": [
    "**Simple Method**"
   ]
  },
  {
   "cell_type": "code",
   "execution_count": 3,
   "metadata": {},
   "outputs": [],
   "source": [
    "def removeDuplicates(st):\n",
    "    \n",
    "    n = len(st)\n",
    "    res = \"\"\n",
    "    \n",
    "    for i in range(0 ,n):\n",
    "        for j in range(0 ,i+1):\n",
    "            if st[i] == st[j]:\n",
    "                break\n",
    "        \n",
    "        if i == j:\n",
    "            res += st[i]\n",
    "    \n",
    "    return res"
   ]
  },
  {
   "cell_type": "code",
   "execution_count": 4,
   "metadata": {},
   "outputs": [
    {
     "data": {
      "text/plain": [
       "'geks for'"
      ]
     },
     "execution_count": 4,
     "metadata": {},
     "output_type": "execute_result"
    }
   ],
   "source": [
    "str = \"geeks for geeks\"\n",
    "str = list(str)\n",
    "\n",
    "removeDuplicates(str)"
   ]
  },
  {
   "cell_type": "code",
   "execution_count": null,
   "metadata": {},
   "outputs": [],
   "source": [
    "def removeDuplicates(st):\n",
    "    \n",
    "    Map = {x:0 for x in st}\n",
    "    res = \"\"\n",
    "    \n",
    "    for i in st:\n",
    "        if Map[i] == 0:\n",
    "            res += i\n",
    "            Map[i] = 1\n",
    "    \n",
    "    return res\n",
    "    \n",
    "    "
   ]
  },
  {
   "cell_type": "code",
   "execution_count": null,
   "metadata": {},
   "outputs": [],
   "source": [
    "str = \"geeks for geeks\"\n",
    "removeDuplicates(str)"
   ]
  },
  {
   "cell_type": "code",
   "execution_count": null,
   "metadata": {},
   "outputs": [],
   "source": []
  }
 ],
 "metadata": {
  "kernelspec": {
   "display_name": "Python 3",
   "language": "python",
   "name": "python3"
  },
  "language_info": {
   "codemirror_mode": {
    "name": "ipython",
    "version": 3
   },
   "file_extension": ".py",
   "mimetype": "text/x-python",
   "name": "python",
   "nbconvert_exporter": "python",
   "pygments_lexer": "ipython3",
   "version": "3.7.3"
  }
 },
 "nbformat": 4,
 "nbformat_minor": 2
}
