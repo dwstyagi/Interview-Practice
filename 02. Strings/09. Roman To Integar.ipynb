{
 "cells": [
  {
   "cell_type": "markdown",
   "metadata": {},
   "source": [
    "Given a Romal numeral, the task is to find its corresponding decimal value.\n",
    "\n",
    "```\n",
    "I             1\n",
    "IV            4\n",
    "V             5\n",
    "IX            9\n",
    "X             10\n",
    "XL            40\n",
    "L             50\n",
    "XC            90\n",
    "C             100\n",
    "CD            400\n",
    "D             500\n",
    "CM            900 \n",
    "M             1000\n",
    "```"
   ]
  },
  {
   "cell_type": "markdown",
   "metadata": {},
   "source": [
    "```\n",
    "Input: IX\n",
    "Output: 9\n",
    "\n",
    "Input: XL\n",
    "Output: 40\n",
    "\n",
    "Input: MCMIV\n",
    "Output: 1904\n",
    "M is a thousand, CM is nine hundred\n",
    "and IV is four \n",
    "```"
   ]
  },
  {
   "cell_type": "markdown",
   "metadata": {},
   "source": [
    "A number in Roman Numerals is a string of these symbols written in descending order(e.g. M’s first, followed by D’s, etc.). However, in a few specific cases, to avoid four characters being repeated in succession (such as IIII or XXXX), subtractive notation is often used as follows:\n",
    "1. I placed before V or X indicates one less, so four is IV (one less than 5) and 9 is IX (one less than 10).\n",
    "2. X placed before L or C indicates ten less, so forty is XL (10 less than 50) and 90 is XC (ten less than a hundred).\n",
    "3. C placed before D or M indicates a hundred less, so four hundred is CD (a hundred less than five hundred) and nine hundred is CM (a hundred less than a thousand)."
   ]
  },
  {
   "cell_type": "markdown",
   "metadata": {},
   "source": [
    "**Algorithm**<br>\n",
    "1. Split the Roman Numeral string into Roman Symbols (character).\n",
    "2. Convert each symbol of Roman Numerals into the value it represents.\n",
    "3. Take symbol one by one from starting from index 0:<br> \n",
    "   a. If current value of symbol is greater than or equal to the value of next symbol, then add this value to the running total.\n",
    "   b. else subtract this value by adding the value of next symbol to the running total."
   ]
  },
  {
   "cell_type": "code",
   "execution_count": 2,
   "metadata": {},
   "outputs": [],
   "source": [
    "def value(st):\n",
    "    if st == 'I':\n",
    "        return 1\n",
    "    if st == 'V':\n",
    "        return 5\n",
    "    if st == 'X':\n",
    "        return 10\n",
    "    if st == 'L':\n",
    "        return 50\n",
    "    if st == 'C':\n",
    "        return 100\n",
    "    if st == 'D':\n",
    "        return 500\n",
    "    if st == 'M':\n",
    "        return 1000\n",
    "    return -1"
   ]
  },
  {
   "cell_type": "code",
   "execution_count": 3,
   "metadata": {},
   "outputs": [],
   "source": [
    "def romanToIntegar(st):\n",
    "    \n",
    "    ans = 0\n",
    "    i = 0\n",
    "    \n",
    "    while i < len(st):\n",
    "        s1 = value(st[i])\n",
    "        \n",
    "        if i+1 <len(st):\n",
    "            s2 = value(st[i+1])\n",
    "            \n",
    "            if s1 >= s2:\n",
    "                ans += s1\n",
    "                i += 1\n",
    "            \n",
    "            else:\n",
    "                ans += s2 - s1\n",
    "                i += 2\n",
    "            \n",
    "        else:\n",
    "            ans += s1\n",
    "            i += 1\n",
    "    \n",
    "    return ans"
   ]
  },
  {
   "cell_type": "code",
   "execution_count": 7,
   "metadata": {},
   "outputs": [
    {
     "data": {
      "text/plain": [
       "1994"
      ]
     },
     "execution_count": 7,
     "metadata": {},
     "output_type": "execute_result"
    }
   ],
   "source": [
    "st = 'MCMXCIV'\n",
    "st = st.upper()\n",
    "romanToIntegar(st)"
   ]
  },
  {
   "cell_type": "code",
   "execution_count": null,
   "metadata": {},
   "outputs": [],
   "source": []
  }
 ],
 "metadata": {
  "kernelspec": {
   "display_name": "Python 3",
   "language": "python",
   "name": "python3"
  },
  "language_info": {
   "codemirror_mode": {
    "name": "ipython",
    "version": 3
   },
   "file_extension": ".py",
   "mimetype": "text/x-python",
   "name": "python",
   "nbconvert_exporter": "python",
   "pygments_lexer": "ipython3",
   "version": "3.8.5"
  }
 },
 "nbformat": 4,
 "nbformat_minor": 2
}
