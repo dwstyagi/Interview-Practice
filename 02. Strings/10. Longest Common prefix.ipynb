{
 "cells": [
  {
   "cell_type": "markdown",
   "metadata": {},
   "source": [
    "Given a set of strings, find the longest common prefix.\n",
    "\n",
    "```\n",
    "Input  : {“geeksforgeeks”, “geeks”, “geek”, “geezer”}\n",
    "Output : \"gee\"\n",
    "\n",
    "Input  : {\"apple\", \"ape\", \"april\"}\n",
    "Output : \"ap\"\n",
    "\n",
    "Input  : {\"abcd\"}\n",
    "Output : \"abcd\"\n",
    "\n",
    "```"
   ]
  },
  {
   "cell_type": "markdown",
   "metadata": {},
   "source": [
    "## Word By Word"
   ]
  },
  {
   "cell_type": "markdown",
   "metadata": {},
   "source": [
    "```\n",
    "We can see that the longest common prefix holds the associative property, i.e-\n",
    "LCP(string1, string2, string3) \n",
    "         = LCP (LCP (string1, string2), string3)\n",
    "\n",
    "Like here\n",
    "\n",
    "LCP (“geeksforgeeks”, “geeks”, “geek”)\n",
    "     =  LCP (LCP (“geeksforgeeks”, “geeks”), “geek”)\n",
    "     =  LCP (“geeks”, “geek”) = “geek”\n",
    "```\n",
    "<img src=\"https://media.geeksforgeeks.org/wp-content/cdn-uploads/longest_common_prefix-1024x485.png\">"
   ]
  },
  {
   "cell_type": "code",
   "execution_count": 1,
   "metadata": {},
   "outputs": [],
   "source": [
    "def LCPUtil(str1 ,str2):\n",
    "    \n",
    "    i = 0\n",
    "    j = 0\n",
    "    result = \"\"\n",
    "    \n",
    "    while i < len(str1) and  j < len(str2):\n",
    "        if str1[i] != str2[j]:\n",
    "            break\n",
    "        \n",
    "        result += str1[i]\n",
    "        i += 1\n",
    "        j += 1\n",
    "    \n",
    "    return result"
   ]
  },
  {
   "cell_type": "code",
   "execution_count": 2,
   "metadata": {},
   "outputs": [],
   "source": [
    "def LCP(st):\n",
    "    \n",
    "    prefix = st[0]\n",
    "    \n",
    "    for i in range(1 ,len(st)):\n",
    "        prefix = LCPUtil(prefix ,st[i])\n",
    "    \n",
    "    return prefix"
   ]
  },
  {
   "cell_type": "code",
   "execution_count": 4,
   "metadata": {},
   "outputs": [
    {
     "data": {
      "text/plain": [
       "'gee'"
      ]
     },
     "execution_count": 4,
     "metadata": {},
     "output_type": "execute_result"
    }
   ],
   "source": [
    "arr = [\"geeksforgeeks\", \"geeks\", \"geek\", \"geezer\"]\n",
    "LCP(arr)"
   ]
  },
  {
   "cell_type": "code",
   "execution_count": 5,
   "metadata": {},
   "outputs": [
    {
     "data": {
      "text/plain": [
       "'ap'"
      ]
     },
     "execution_count": 5,
     "metadata": {},
     "output_type": "execute_result"
    }
   ],
   "source": [
    "arr = [\"apple\", \"ape\", \"april\"]\n",
    "LCP(arr)"
   ]
  },
  {
   "cell_type": "code",
   "execution_count": 6,
   "metadata": {},
   "outputs": [
    {
     "data": {
      "text/plain": [
       "'abcd'"
      ]
     },
     "execution_count": 6,
     "metadata": {},
     "output_type": "execute_result"
    }
   ],
   "source": [
    "arr = ['abcd']\n",
    "LCP(arr)"
   ]
  },
  {
   "cell_type": "markdown",
   "metadata": {},
   "source": [
    "## character by character"
   ]
  },
  {
   "cell_type": "markdown",
   "metadata": {},
   "source": [
    "In this algorithm, instead of going through the strings one by one, we will go through the characters one by one. \n",
    "\n",
    "<img src=\"https://media.geeksforgeeks.org/wp-content/cdn-uploads/longest_common_prefix5.jpg\" width=\"500\">"
   ]
  },
  {
   "cell_type": "code",
   "execution_count": 9,
   "metadata": {},
   "outputs": [],
   "source": [
    "def minLength(st):\n",
    "    return len(min(st ,key = len))"
   ]
  },
  {
   "cell_type": "code",
   "execution_count": 11,
   "metadata": {},
   "outputs": [],
   "source": [
    "def LCP(st):\n",
    "    \n",
    "    Len = minLength(st)\n",
    "    result = \"\"\n",
    "    \n",
    "    for i in range(Len):    \n",
    "        curr = st[0][i]\n",
    "        \n",
    "        for j in range(1 ,len(st)):\n",
    "            if st[j][i] != curr:\n",
    "                return result\n",
    "        \n",
    "        result += curr\n",
    "    \n",
    "    return result"
   ]
  },
  {
   "cell_type": "code",
   "execution_count": 12,
   "metadata": {},
   "outputs": [
    {
     "data": {
      "text/plain": [
       "'gee'"
      ]
     },
     "execution_count": 12,
     "metadata": {},
     "output_type": "execute_result"
    }
   ],
   "source": [
    "arr = [\"geeksforgeeks\", \"geeks\", \"geek\", \"geezer\"]\n",
    "LCP(arr)"
   ]
  },
  {
   "cell_type": "code",
   "execution_count": 13,
   "metadata": {},
   "outputs": [
    {
     "data": {
      "text/plain": [
       "'ap'"
      ]
     },
     "execution_count": 13,
     "metadata": {},
     "output_type": "execute_result"
    }
   ],
   "source": [
    "arr = [\"apple\", \"ape\", \"april\"]\n",
    "LCP(arr)"
   ]
  },
  {
   "cell_type": "code",
   "execution_count": 15,
   "metadata": {},
   "outputs": [
    {
     "name": "stdout",
     "output_type": "stream",
     "text": [
      "abcd\n"
     ]
    }
   ],
   "source": [
    "arr = ['abcd']\n",
    "print(LCP(arr))"
   ]
  },
  {
   "cell_type": "code",
   "execution_count": null,
   "metadata": {},
   "outputs": [],
   "source": []
  }
 ],
 "metadata": {
  "kernelspec": {
   "display_name": "Python 3",
   "language": "python",
   "name": "python3"
  },
  "language_info": {
   "codemirror_mode": {
    "name": "ipython",
    "version": 3
   },
   "file_extension": ".py",
   "mimetype": "text/x-python",
   "name": "python",
   "nbconvert_exporter": "python",
   "pygments_lexer": "ipython3",
   "version": "3.8.5"
  }
 },
 "nbformat": 4,
 "nbformat_minor": 2
}
