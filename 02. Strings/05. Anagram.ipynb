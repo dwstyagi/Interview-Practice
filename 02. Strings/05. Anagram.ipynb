{
 "cells": [
  {
   "cell_type": "markdown",
   "metadata": {},
   "source": [
    "Write a function to check whether two given strings are anagram of each other or not. An anagram of a string is another string that contains same characters, only the order of characters can be different.\n",
    "```\n",
    "“abcd” and “dabc” are anagram of each other.\n",
    "\"SILENT\" and \"LISTEN\" are anagram of each other.\n",
    "```"
   ]
  },
  {
   "cell_type": "code",
   "execution_count": 12,
   "metadata": {},
   "outputs": [],
   "source": [
    "def anagram(s1 ,s2):\n",
    "    \n",
    "    if len(s1) != len(s2):\n",
    "        return 0\n",
    "    \n",
    "    s1 = s1.lower()\n",
    "    s2 = s2.lower()\n",
    "    \n",
    "    char = [0] * 26\n",
    "    \n",
    "    for i in range(len(s1)):\n",
    "        num = ord(s1[i]) - ord('a')\n",
    "        char[num] += 1\n",
    "    \n",
    "    for i in range(len(s2)):\n",
    "        num = ord(s2[i]) - ord('a')\n",
    "        char[num] -= 1\n",
    "        \n",
    "    for i in char:\n",
    "        if i:\n",
    "            return 0\n",
    "    \n",
    "    return 1"
   ]
  },
  {
   "cell_type": "code",
   "execution_count": 15,
   "metadata": {},
   "outputs": [
    {
     "data": {
      "text/plain": [
       "1"
      ]
     },
     "execution_count": 15,
     "metadata": {},
     "output_type": "execute_result"
    }
   ],
   "source": [
    "s1 = 'SILENT'\n",
    "s2 = 'LISTEN'\n",
    "anagram(s1 ,s2)"
   ]
  },
  {
   "cell_type": "code",
   "execution_count": null,
   "metadata": {},
   "outputs": [],
   "source": []
  }
 ],
 "metadata": {
  "kernelspec": {
   "display_name": "Python 3",
   "language": "python",
   "name": "python3"
  },
  "language_info": {
   "codemirror_mode": {
    "name": "ipython",
    "version": 3
   },
   "file_extension": ".py",
   "mimetype": "text/x-python",
   "name": "python",
   "nbconvert_exporter": "python",
   "pygments_lexer": "ipython3",
   "version": "3.7.3"
  }
 },
 "nbformat": 4,
 "nbformat_minor": 2
}
