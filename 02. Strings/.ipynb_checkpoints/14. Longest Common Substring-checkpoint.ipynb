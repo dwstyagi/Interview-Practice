{
 "cells": [
  {
   "cell_type": "markdown",
   "metadata": {},
   "source": [
    "Given two strings ‘X’ and ‘Y’, find the length of the longest common substring. \n",
    "\n",
    "```\n",
    "Input : X = “GeeksforGeeks”, y = “GeeksQuiz”\n",
    "Output : 5\n",
    "The longest common substring is “Geeks” and is of length 5.\n",
    "\n",
    "Input : X = “abcdxyz”, y = “xyzabcd”\n",
    "Output : 4\n",
    "The longest common substring is “abcd” and is of length 4.\n",
    "\n",
    "Input : X = “zxabcdezy”, y = “yzabcdezx”\n",
    "Output : 6\n",
    "The longest common substring is “abcdez” and is of length 6.\n",
    "```"
   ]
  },
  {
   "cell_type": "code",
   "execution_count": 21,
   "metadata": {},
   "outputs": [],
   "source": [
    "def LCS(str_1 ,str_2):\n",
    "    \n",
    "    m = len(str_1)\n",
    "    n = len(str_2)\n",
    "    maxLen = 0\n",
    "    dp = [[0 for _ in range(n+1)] for _ in range(m+1)]\n",
    "    \n",
    "    for i in range(m):\n",
    "        for j in range(n):\n",
    "            \n",
    "            if str_1[i] == str_2[j]:\n",
    "                dp[i][j] = dp[i-1][j-1] + 1\n",
    "                maxLen = max(maxLen ,dp[i][j])\n",
    "    \n",
    "    return maxLen"
   ]
  },
  {
   "cell_type": "code",
   "execution_count": 22,
   "metadata": {},
   "outputs": [
    {
     "data": {
      "text/plain": [
       "3"
      ]
     },
     "execution_count": 22,
     "metadata": {},
     "output_type": "execute_result"
    }
   ],
   "source": [
    "str_1 = \"abcdaf\"\n",
    "str_2 = \"zbcdf\"\n",
    "LCS(str_1, str_2)"
   ]
  },
  {
   "cell_type": "code",
   "execution_count": 23,
   "metadata": {},
   "outputs": [
    {
     "data": {
      "text/plain": [
       "5"
      ]
     },
     "execution_count": 23,
     "metadata": {},
     "output_type": "execute_result"
    }
   ],
   "source": [
    "str_1 = \"GeeksforGeeks\"\n",
    "str_2 = \"GeeksQuiz\"\n",
    "LCS(str_1, str_2)"
   ]
  },
  {
   "cell_type": "code",
   "execution_count": 24,
   "metadata": {},
   "outputs": [
    {
     "data": {
      "text/plain": [
       "4"
      ]
     },
     "execution_count": 24,
     "metadata": {},
     "output_type": "execute_result"
    }
   ],
   "source": [
    "str_1 = \"abcdxyz\"\n",
    "str_2 = \"xyzabcd\"\n",
    "LCS(str_1, str_2)"
   ]
  },
  {
   "cell_type": "code",
   "execution_count": 25,
   "metadata": {},
   "outputs": [
    {
     "data": {
      "text/plain": [
       "6"
      ]
     },
     "execution_count": 25,
     "metadata": {},
     "output_type": "execute_result"
    }
   ],
   "source": [
    "str_1 = \"zxabcdezy\"\n",
    "str_2 = \"yzabcdezx\"\n",
    "LCS(str_1, str_2)"
   ]
  },
  {
   "cell_type": "code",
   "execution_count": null,
   "metadata": {},
   "outputs": [],
   "source": []
  }
 ],
 "metadata": {
  "kernelspec": {
   "display_name": "Python 3",
   "language": "python",
   "name": "python3"
  },
  "language_info": {
   "codemirror_mode": {
    "name": "ipython",
    "version": 3
   },
   "file_extension": ".py",
   "mimetype": "text/x-python",
   "name": "python",
   "nbconvert_exporter": "python",
   "pygments_lexer": "ipython3",
   "version": "3.7.3"
  }
 },
 "nbformat": 4,
 "nbformat_minor": 2
}
