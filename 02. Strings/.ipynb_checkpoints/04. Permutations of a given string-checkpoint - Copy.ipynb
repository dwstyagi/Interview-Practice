{
 "cells": [
  {
   "cell_type": "markdown",
   "metadata": {},
   "source": [
    "<img src=\"https://media.geeksforgeeks.org/wp-content/cdn-uploads/NewPermutation.gif\" width=\"600\">"
   ]
  },
  {
   "cell_type": "code",
   "execution_count": 1,
   "metadata": {},
   "outputs": [],
   "source": [
    "def permute(str ,start ,end):\n",
    "    \n",
    "    if start == end:\n",
    "        print(''.join(str),end=\" \")\n",
    "        return \n",
    "    \n",
    "    for i in range(start ,end):\n",
    "        str[i] ,str[start] = str[start] ,str[i]\n",
    "        permute(str ,start+1 ,end)\n",
    "        str[i] ,str[start] = str[start] ,str[i]"
   ]
  },
  {
   "cell_type": "code",
   "execution_count": 3,
   "metadata": {},
   "outputs": [
    {
     "name": "stdout",
     "output_type": "stream",
     "text": [
      "ABC ACB BAC BCA CBA CAB "
     ]
    }
   ],
   "source": [
    "str = 'ABC'\n",
    "str = list(str)\n",
    "permute(str ,0 ,len(str))"
   ]
  },
  {
   "cell_type": "code",
   "execution_count": 4,
   "metadata": {},
   "outputs": [
    {
     "name": "stdout",
     "output_type": "stream",
     "text": [
      "boat bota baot bato btao btoa obat obta oabt oatb otab otba aobt aotb abot abto atbo atob toab toba taob tabo tbao tboa "
     ]
    }
   ],
   "source": [
    "str = 'boat'\n",
    "str = list(str)\n",
    "permute(str ,0 ,len(str))"
   ]
  },
  {
   "cell_type": "code",
   "execution_count": null,
   "metadata": {},
   "outputs": [],
   "source": []
  }
 ],
 "metadata": {
  "kernelspec": {
   "display_name": "Python 3",
   "language": "python",
   "name": "python3"
  },
  "language_info": {
   "codemirror_mode": {
    "name": "ipython",
    "version": 3
   },
   "file_extension": ".py",
   "mimetype": "text/x-python",
   "name": "python",
   "nbconvert_exporter": "python",
   "pygments_lexer": "ipython3",
   "version": "3.7.3"
  }
 },
 "nbformat": 4,
 "nbformat_minor": 2
}
