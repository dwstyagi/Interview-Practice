{
 "cells": [
  {
   "cell_type": "markdown",
   "metadata": {},
   "source": [
    "Given a string, recursively remove adjacent duplicate characters from the string. The output string should not have any adjacent duplicates. See following examples.\n",
    "```\n",
    "Input: azxxzy\n",
    "Output: ay\n",
    "First “azxxzy” is reduced to “azzy”.\n",
    "The string “azzy” contains duplicates,\n",
    "so it is further reduced to “ay”.\n",
    "\n",
    "Input: geeksforgeeg\n",
    "Output: gksfor\n",
    "First “geeksforgeeg” is reduced to\n",
    "“gksforgg”. The string “gksforgg”\n",
    "contains duplicates, so it is further\n",
    "reduced to “gksfor”.\n",
    "\n",
    "Input: caaabbbaacdddd\n",
    "Output: Empty String\n",
    "\n",
    "Input: acaaabbbacdddd\n",
    "Output: acac \n",
    "\n",
    "```"
   ]
  },
  {
   "cell_type": "markdown",
   "metadata": {},
   "source": [
    "**Algorithm** in O(N) time:\n",
    "1. Start from the leftmost character and remove duplicates at left corner if there are any. \n",
    "2. The first character must be different from its adjacent now. Recur for string of length n-1          (string without first character). \n",
    "3. Let the string obtained after reducing right substring of length n-1 be rem_str. There are three      possible cases:<br>\n",
    "   a. If first character of rem_str matches with the first character of original string, remove the         first character from rem_str.<br>\n",
    "   b. If remaining string becomes empty and last removed character is same as first character of           original string. Return empty string.<br>\n",
    "   c. Else, append the first character of the original string at the beginning of rem_str.\n",
    "4. Return rem_str."
   ]
  },
  {
   "cell_type": "code",
   "execution_count": 22,
   "metadata": {},
   "outputs": [],
   "source": [
    "def remove(st ,last):\n",
    "    \n",
    "    if len(st) == 1 or len(st) == 0:\n",
    "        return st\n",
    "    \n",
    "    if st[0] == st[1]:\n",
    "        last = st[0]\n",
    "        \n",
    "        while len(st) > 1 and st[0] == st[1]:\n",
    "            st = st[1:]\n",
    "        st = st[1:]\n",
    "        \n",
    "        return remove(st ,last)\n",
    "    \n",
    "    remainingString = remove(st[1:] ,last)\n",
    "    \n",
    "    if len(remainingString) != 0 and remainingString[0] == st[0]:\n",
    "        last = remainingString[0]\n",
    "        return remainingString[1:]\n",
    "    \n",
    "    if len(remainingString) == 0 and last == st[0]:\n",
    "        return remainingString\n",
    "    \n",
    "    return st[0] + remainingString"
   ]
  },
  {
   "cell_type": "code",
   "execution_count": 26,
   "metadata": {},
   "outputs": [
    {
     "name": "stdout",
     "output_type": "stream",
     "text": [
      "\n"
     ]
    }
   ],
   "source": [
    "st = \"caaabbbaacdddd\"\n",
    "print(remove(st,\"\"))"
   ]
  },
  {
   "cell_type": "code",
   "execution_count": 27,
   "metadata": {},
   "outputs": [
    {
     "name": "stdout",
     "output_type": "stream",
     "text": [
      "gksfor\n"
     ]
    }
   ],
   "source": [
    "st = \"geeksforgeeg\"\n",
    "print(remove(st ,\"\"))"
   ]
  },
  {
   "cell_type": "code",
   "execution_count": null,
   "metadata": {},
   "outputs": [],
   "source": []
  }
 ],
 "metadata": {
  "kernelspec": {
   "display_name": "Python 3",
   "language": "python",
   "name": "python3"
  },
  "language_info": {
   "codemirror_mode": {
    "name": "ipython",
    "version": 3
   },
   "file_extension": ".py",
   "mimetype": "text/x-python",
   "name": "python",
   "nbconvert_exporter": "python",
   "pygments_lexer": "ipython3",
   "version": "3.7.3"
  }
 },
 "nbformat": 4,
 "nbformat_minor": 2
}
