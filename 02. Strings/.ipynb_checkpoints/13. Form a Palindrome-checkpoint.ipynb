{
 "cells": [
  {
   "cell_type": "markdown",
   "metadata": {},
   "source": [
    "Given a string str, the task is to find the minimum number of characters to be inserted to convert it to palindrome.\n",
    "```\n",
    "Before we go further, let us understand with few examples: \n",
    "    ab   : Number of insertions required is 1 i.e. bab\n",
    "    aa   : Number of insertions required is 0 i.e. aa\n",
    "    abcd : Number of insertions required is 3 i.e. dcbabcd\n",
    "    abcda: Number of insertions required is 2 i.e. adcbcda which is same as number of \n",
    "           insertions in the substring bcd(Why?).\n",
    "    abcde: Number of insertions required is 4 i.e. edcbabcde\n",
    "```"
   ]
  },
  {
   "cell_type": "markdown",
   "metadata": {},
   "source": [
    "Let the input string be str[l……h]. The problem can be broken down into three parts:\n",
    "\n",
    "1. Find the minimum number of insertions in the substring str[l+1,…….h].\n",
    "2. Find the minimum number of insertions in the substring str[l…….h-1].\n",
    "3. Find the minimum number of insertions in the substring str[l+1……h-1]."
   ]
  },
  {
   "cell_type": "markdown",
   "metadata": {},
   "source": [
    "**Recursive Approach:** The minimum number of insertions in the string str[l…..h] can be given as:<br>\n",
    "minInsertions(str[l+1…..h-1]) if str[l] is equal to str[h]<br>\n",
    "min(minInsertions(str[l…..h-1]), minInsertions(str[l+1…..h])) + 1 otherwise"
   ]
  },
  {
   "cell_type": "code",
   "execution_count": 1,
   "metadata": {},
   "outputs": [],
   "source": [
    "def FormPalindrome(str ,start ,end):\n",
    "    \n",
    "    # Base Cases\n",
    "    if start == end:\n",
    "        return 0\n",
    "    \n",
    "    if start == end - 1:\n",
    "        return 0 if str[start] == str[end] else 1\n",
    "    \n",
    "    if str[start] == str[end]:\n",
    "        return FormPalindrome(str ,start+1 ,end-1)\n",
    "    \n",
    "    return min(FormPalindrome(str ,start+1 ,end) ,FormPalindrome(str ,start ,end-1)) + 1"
   ]
  },
  {
   "cell_type": "code",
   "execution_count": 2,
   "metadata": {},
   "outputs": [
    {
     "data": {
      "text/plain": [
       "1"
      ]
     },
     "execution_count": 2,
     "metadata": {},
     "output_type": "execute_result"
    }
   ],
   "source": [
    "str = \"ab\"\n",
    "FormPalindrome(str ,0 ,len(str)-1)"
   ]
  },
  {
   "cell_type": "code",
   "execution_count": 3,
   "metadata": {},
   "outputs": [
    {
     "data": {
      "text/plain": [
       "0"
      ]
     },
     "execution_count": 3,
     "metadata": {},
     "output_type": "execute_result"
    }
   ],
   "source": [
    "str = \"aa\"\n",
    "FormPalindrome(str ,0 ,len(str)-1)"
   ]
  },
  {
   "cell_type": "code",
   "execution_count": 4,
   "metadata": {},
   "outputs": [
    {
     "data": {
      "text/plain": [
       "2"
      ]
     },
     "execution_count": 4,
     "metadata": {},
     "output_type": "execute_result"
    }
   ],
   "source": [
    "str = \"abcda\"\n",
    "FormPalindrome(str ,0 ,len(str)-1)"
   ]
  },
  {
   "cell_type": "code",
   "execution_count": 5,
   "metadata": {},
   "outputs": [
    {
     "data": {
      "text/plain": [
       "3"
      ]
     },
     "execution_count": 5,
     "metadata": {},
     "output_type": "execute_result"
    }
   ],
   "source": [
    "str = \"abcd\"\n",
    "FormPalindrome(str ,0 ,len(str)-1)"
   ]
  },
  {
   "cell_type": "code",
   "execution_count": 6,
   "metadata": {},
   "outputs": [
    {
     "data": {
      "text/plain": [
       "4"
      ]
     },
     "execution_count": 6,
     "metadata": {},
     "output_type": "execute_result"
    }
   ],
   "source": [
    "str = \"abcde\"\n",
    "FormPalindrome(str ,0 ,len(str)-1)"
   ]
  },
  {
   "cell_type": "markdown",
   "metadata": {},
   "source": [
    "### Dynamic Programming"
   ]
  },
  {
   "cell_type": "code",
   "execution_count": 17,
   "metadata": {},
   "outputs": [],
   "source": [
    "def FormPalindrome(st):\n",
    "    \n",
    "    n = len(st)\n",
    "    dp = [[0 for _ in range(n)] for _ in range(n)]\n",
    "    \n",
    "    # Bases Cases\n",
    "    # Len = 2 Substring\n",
    "    for i in range(0, n-1):\n",
    "        if st[i] != st[i+1]:\n",
    "            dp[i][i+1] = 1\n",
    "\n",
    "    for k in range(3 ,n + 1):\n",
    "        # k = Length of string\n",
    "        # i = start index of string\n",
    "        # j = end index of string\n",
    "        \n",
    "        for i in range(0 ,n - k + 1):\n",
    "            j = k + i - 1\n",
    "            \n",
    "            if st[i] == st[j]:\n",
    "                dp[i][j] = dp[i+1][j-1]\n",
    "            else:\n",
    "                dp[i][j] = min(dp[i+1][j] ,dp[i][j-1]) + 1\n",
    "    \n",
    "    return dp\n",
    "            "
   ]
  },
  {
   "cell_type": "code",
   "execution_count": 18,
   "metadata": {},
   "outputs": [
    {
     "name": "stdout",
     "output_type": "stream",
     "text": [
      "0 1 2 \n",
      "0 0 1 \n",
      "0 0 0 \n"
     ]
    }
   ],
   "source": [
    "str = \"abc\"\n",
    "mat = FormPalindrome(str)\n",
    "for i in mat:\n",
    "    for j in i:\n",
    "        print(j,end=\" \")\n",
    "    print()"
   ]
  },
  {
   "cell_type": "code",
   "execution_count": 19,
   "metadata": {},
   "outputs": [
    {
     "name": "stdout",
     "output_type": "stream",
     "text": [
      "0 1 2 3 \n",
      "0 0 1 2 \n",
      "0 0 0 1 \n",
      "0 0 0 0 \n"
     ]
    }
   ],
   "source": [
    "str = \"abcd\"\n",
    "mat = FormPalindrome(str)\n",
    "for i in mat:\n",
    "    for j in i:\n",
    "        print(j,end=\" \")\n",
    "    print()"
   ]
  },
  {
   "cell_type": "code",
   "execution_count": 20,
   "metadata": {},
   "outputs": [
    {
     "name": "stdout",
     "output_type": "stream",
     "text": [
      "0 1 2 3 2 \n",
      "0 0 1 2 3 \n",
      "0 0 0 1 2 \n",
      "0 0 0 0 1 \n",
      "0 0 0 0 0 \n"
     ]
    }
   ],
   "source": [
    "str = \"abcda\"\n",
    "mat = FormPalindrome(str)\n",
    "for i in mat:\n",
    "    for j in i:\n",
    "        print(j,end=\" \")\n",
    "    print()"
   ]
  },
  {
   "cell_type": "code",
   "execution_count": 14,
   "metadata": {},
   "outputs": [
    {
     "name": "stdout",
     "output_type": "stream",
     "text": [
      "0 1 2 3 4 \n",
      "0 0 1 2 3 \n",
      "0 0 0 1 2 \n",
      "0 0 0 0 1 \n",
      "0 0 0 0 0 \n"
     ]
    }
   ],
   "source": [
    "str = \"abcde\"\n",
    "mat = FormPalindrome(str)\n",
    "for i in mat:\n",
    "    for j in i:\n",
    "        print(j,end=\" \")\n",
    "    print()"
   ]
  },
  {
   "cell_type": "code",
   "execution_count": null,
   "metadata": {},
   "outputs": [],
   "source": []
  }
 ],
 "metadata": {
  "kernelspec": {
   "display_name": "Python 3",
   "language": "python",
   "name": "python3"
  },
  "language_info": {
   "codemirror_mode": {
    "name": "ipython",
    "version": 3
   },
   "file_extension": ".py",
   "mimetype": "text/x-python",
   "name": "python",
   "nbconvert_exporter": "python",
   "pygments_lexer": "ipython3",
   "version": "3.7.3"
  }
 },
 "nbformat": 4,
 "nbformat_minor": 2
}
