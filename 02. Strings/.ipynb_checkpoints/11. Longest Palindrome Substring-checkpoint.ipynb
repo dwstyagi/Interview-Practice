{
 "cells": [
  {
   "cell_type": "markdown",
   "metadata": {},
   "source": [
    "**Method (Dynamic Programming)** <br> \n",
    "The time complexity can be reduced by storing results of subproblems. The idea is similar to this post. We maintain a boolean table[n][n] that is filled in bottom up manner. The value of table[i][j] is true, if the substring is palindrome, otherwise false. To calculate table[i][j], we first check the value of table[i+1][j-1], if the value is true and str[i] is same as str[j], then we make table[i][j] true. Otherwise, the value of table[i][j] is made false.\n",
    "\n",
    "<img src=\"https://media.geeksforgeeks.org/wp-content/cdn-uploads/20190626130630/Longest-Palindromic-substring.png\" width=\"500\">"
   ]
  },
  {
   "cell_type": "code",
   "execution_count": 1,
   "metadata": {},
   "outputs": [],
   "source": [
    "def LPS(st):\n",
    "    \n",
    "    dp = [[0 for _ in range(len(st))] for _ in range(len(st))]\n",
    "    n = len(st)\n",
    "    \n",
    "    # Base Case\n",
    "    # for len=1 substring\n",
    "    for i in range(0 ,n):\n",
    "        dp[i][i] = 1\n",
    "        maxLen = 1\n",
    "    \n",
    "    # for len=2 substring\n",
    "    for i in range(0 ,n-1):\n",
    "        if st[i] == st[i+1]:\n",
    "            dp[i][i+1] = 1\n",
    "            start = i\n",
    "            maxLen = 2\n",
    "    \n",
    "    # k = Length of substrings\n",
    "    for k in range(3 ,n + 1):\n",
    "        \n",
    "        for i in range(0 ,n - k + 1):\n",
    "            \n",
    "            # i = starting index\n",
    "            # j = end index of substring\n",
    "            j = k + i - 1\n",
    "            \n",
    "            # check if string is palindrome or not\n",
    "            if st[i] == st[j] and dp[i+1][j-1] == 1:\n",
    "                dp[i][j] = 1\n",
    "                \n",
    "                # mark the starting index\n",
    "                # of palindrome string\n",
    "                if maxLen < k:\n",
    "                    maxLen = k\n",
    "                    start = i\n",
    "    \n",
    "    return st[start : start + maxLen]"
   ]
  },
  {
   "cell_type": "code",
   "execution_count": 2,
   "metadata": {},
   "outputs": [
    {
     "data": {
      "text/plain": [
       "'geeksskeeg'"
      ]
     },
     "execution_count": 2,
     "metadata": {},
     "output_type": "execute_result"
    }
   ],
   "source": [
    "st = 'geeksskeeg'\n",
    "LPS(st)"
   ]
  },
  {
   "cell_type": "code",
   "execution_count": 3,
   "metadata": {},
   "outputs": [
    {
     "data": {
      "text/plain": [
       "'ee'"
      ]
     },
     "execution_count": 3,
     "metadata": {},
     "output_type": "execute_result"
    }
   ],
   "source": [
    "st = 'geeks'\n",
    "LPS(st)"
   ]
  },
  {
   "cell_type": "markdown",
   "metadata": {},
   "source": [
    "**Time: O(n2) with constant Space**<br>\n",
    "1. Step to generate odd length palindrome:<br>\n",
    "   a. Fix a centre and expand in both directions for longer palindromes.<br>\n",
    "2. Step to generate even length palindrome.<br>\n",
    "   a. Fix two centre ( low and high ) and expand in both directions for longer palindromes."
   ]
  },
  {
   "cell_type": "code",
   "execution_count": 5,
   "metadata": {},
   "outputs": [],
   "source": [
    "def LCP(st):\n",
    "    \n",
    "    n = len(st)\n",
    "    maxLen = 1\n",
    "    start = 0\n",
    "    \n",
    "    if n % 2 == 0:\n",
    "        for i in range(1 ,n):\n",
    "\n",
    "            # for even length string\n",
    "            left = i - 1\n",
    "            right = i\n",
    "            while left >= 0 and right < n and st[left] == st[right]:\n",
    "                if maxLen < right - left + 1:\n",
    "                    maxLen = right - left + 1\n",
    "                    start = left\n",
    "\n",
    "                left -= 1\n",
    "                right += 1\n",
    "    else:\n",
    "        for i in range(1 ,n):\n",
    "\n",
    "            # for even length string\n",
    "            left = i - 1\n",
    "            right = i + 1\n",
    "            while left >= 0 and right < n and st[left] == st[right]:\n",
    "                if maxLen < right - left + 1:\n",
    "                    maxLen = right - left + 1\n",
    "                    start = left\n",
    "\n",
    "                left -= 1\n",
    "                right += 1\n",
    "    \n",
    "    \n",
    "    return st[start:start+maxLen]"
   ]
  },
  {
   "cell_type": "code",
   "execution_count": 6,
   "metadata": {},
   "outputs": [
    {
     "data": {
      "text/plain": [
       "'geeksskeeg'"
      ]
     },
     "execution_count": 6,
     "metadata": {},
     "output_type": "execute_result"
    }
   ],
   "source": [
    "st = 'geeksskeeg'\n",
    "LPS(st)"
   ]
  },
  {
   "cell_type": "code",
   "execution_count": 7,
   "metadata": {},
   "outputs": [
    {
     "data": {
      "text/plain": [
       "'ee'"
      ]
     },
     "execution_count": 7,
     "metadata": {},
     "output_type": "execute_result"
    }
   ],
   "source": [
    "st = 'geeks'\n",
    "LPS(st)"
   ]
  },
  {
   "cell_type": "markdown",
   "metadata": {},
   "source": [
    "### Manacher Algorithm"
   ]
  },
  {
   "cell_type": "code",
   "execution_count": null,
   "metadata": {},
   "outputs": [],
   "source": []
  }
 ],
 "metadata": {
  "kernelspec": {
   "display_name": "Python 3",
   "language": "python",
   "name": "python3"
  },
  "language_info": {
   "codemirror_mode": {
    "name": "ipython",
    "version": 3
   },
   "file_extension": ".py",
   "mimetype": "text/x-python",
   "name": "python",
   "nbconvert_exporter": "python",
   "pygments_lexer": "ipython3",
   "version": "3.7.3"
  }
 },
 "nbformat": 4,
 "nbformat_minor": 2
}
