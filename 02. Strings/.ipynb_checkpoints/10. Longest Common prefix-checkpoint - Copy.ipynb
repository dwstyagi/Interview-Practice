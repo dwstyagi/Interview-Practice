{
 "cells": [
  {
   "cell_type": "markdown",
   "metadata": {},
   "source": [
    "Given a set of strings, find the longest common prefix.\n",
    "\n",
    "```\n",
    "Input  : {“geeksforgeeks”, “geeks”, “geek”, “geezer”}\n",
    "Output : \"gee\"\n",
    "\n",
    "Input  : {\"apple\", \"ape\", \"april\"}\n",
    "Output : \"ap\"\n",
    "\n",
    "Input  : {\"abcd\"}\n",
    "Output : \"abcd\"\n",
    "\n",
    "```"
   ]
  },
  {
   "cell_type": "code",
   "execution_count": null,
   "metadata": {},
   "outputs": [],
   "source": []
  }
 ],
 "metadata": {
  "kernelspec": {
   "display_name": "Python 3",
   "language": "python",
   "name": "python3"
  },
  "language_info": {
   "codemirror_mode": {
    "name": "ipython",
    "version": 3
   },
   "file_extension": ".py",
   "mimetype": "text/x-python",
   "name": "python",
   "nbconvert_exporter": "python",
   "pygments_lexer": "ipython3",
   "version": "3.7.3"
  }
 },
 "nbformat": 4,
 "nbformat_minor": 2
}
